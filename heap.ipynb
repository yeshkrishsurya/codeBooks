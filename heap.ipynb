{
  "cells": [
    {
      "cell_type": "markdown",
      "metadata": {},
      "source": [
        "# Merge k Sorted Lists (#23)",
        "",
        "**Difficulty:** Hard  ",
        "**Date:** 2025-08-01 01:09:09  ",
        "**URL:** https://leetcode.com/problems/merge-k-sorted-lists/",
        "",
        "---"
      ]
    },
    {
      "cell_type": "markdown",
      "metadata": {},
      "source": [
        "## Problem Description",
        "",
        "You are given an array of k linked-lists lists, each linked-list is sorted in ascending order.\n\nMerge all the linked-lists into one sorted linked-list and return it.\n\n&nbsp;\nExample 1:\n\n\nInput: lists = [[1,4,5],[1,3,4],[2,6]]\nOutput: [1,1,2,3,4,4,5,6]\nExplanation: The linked-lists are:\n[\n  1->4->5,\n  1->3->4,\n  2->6\n]\nmerging them into one sorted linked list:\n1->1->2->3->4->4->5->6\n\n\nExample 2:\n\n\nInput: lists = []\nOutput: []\n\n\nExample 3:\n\n\nInput: lists = [[]]\nOutput: []\n\n\n&nbsp;\nConstraints:\n\n\n\tk == lists.length\n\t0 <= k <= 104\n\t0 <= lists[i].length <= 500\n\t-104 <= lists[i][j] <= 104\n\tlists[i] is sorted in ascending order.\n\tThe sum of lists[i].length will not exceed 104.\n\n"
      ]
    },
    {
      "cell_type": "markdown",
      "metadata": {},
      "source": [
        "## Clarifying Questions",
        "",
        "1. Are the linked-lists guaranteed to contain unique values, or can there be duplicates within and across the lists?\n\n2. How should we handle cases where the input `lists` array is empty or contains only empty linked-lists? Is returning an empty linked-list the expected behavior in these cases?\n\n3. Can we assume that the input linked-lists are well-formed and that each node has a valid next pointer, or should we handle potential null references?\n\n4. What is the expected time complexity for the solution? Are there any specific performance requirements we should keep in mind given the constraints on `k` and the total number of nodes?\n\n5. Should we consider any specific memory constraints when merging the lists, or is it acceptable to use additional data structures (like arrays or heaps) to facilitate the merging process?"
      ]
    },
    {
      "cell_type": "markdown",
      "metadata": {},
      "source": [
        "## Test Edge Cases",
        "",
        "Here are 8 important test edge cases to consider for the \"Merge k Sorted Lists\" problem:\n\n1. **All Lists Empty**:\n   - **Input**: `lists = []`\n   - **Description**: Tests the case where there are no linked lists to merge. The output should be an empty list.\n\n2. **Single Empty List**:\n   - **Input**: `lists = [[]]`\n   - **Description**: Tests the scenario where there is one empty linked list. The output should also be an empty list.\n\n3. **Single Non-Empty List**:\n   - **Input**: `lists = [[1, 2, 3]]`\n   - **Description**: Tests the case where there is only one linked list with multiple elements. The output should be the same as the input list.\n\n4. **Multiple Lists with Varying Lengths**:\n   - **Input**: `lists = [[1, 4], [2, 3, 5], [0]]`\n   - **Description**: Tests merging lists of different lengths. The output should be a single sorted list combining all elements.\n\n5. **Lists with Duplicate Values**:\n   - **Input**: `lists = [[1, 1, 2], [1, 3, 4], [2, 2, 6]]`\n   - **Description**: Tests how the algorithm handles duplicate values across different lists. The output should maintain the sorted order with duplicates included.\n\n6. **Negative and Positive Values**:\n   - **Input**: `lists = [[-3, -1, 0], [1, 2, 3], [-2, -1]]`\n   - **Description**: Tests merging lists that contain both negative and positive integers. The output should be a sorted list that correctly orders these values.\n\n7. **Maximum Size Lists**:\n   - **Input**: `lists = [[1]*500] * 20` (20 lists of 500 elements each, all being 1)\n   - **Description**: Tests the performance and efficiency of the algorithm with the maximum constraints. The output should be a list of 10,000 elements, all being 1.\n\n8. **Lists with Mixed Values and Lengths**:\n   - **Input**: `lists = [[-1, 0, 1], [3, 4], [2], [], [5, 6, 7]]`\n   - **Description**: Tests a more complex scenario with a mix of positive, negative, and zero values, as well as an empty list. The output should be a single sorted list combining all values.\n\nThese test cases cover a range of boundary conditions, special values, and performance considerations that are crucial for ensuring the robustness of the solution."
      ]
    },
    {
      "cell_type": "markdown",
      "metadata": {},
      "source": [
        "To solve the problem of merging `k` sorted linked-lists, we can utilize a few different approaches. Here, I will explain a priority queue (or min-heap) approach, which is efficient for this type of problem. ",
        "",
        "### Approach Explanation",
        "",
        "1. **Priority Queue (Min-Heap)**: We can use a priority queue (min-heap) to efficiently retrieve the smallest element among the heads of the linked-lists. By maintaining a min-heap of the current nodes at the heads of each list, we can always extract the smallest node and add it to our merged list. ",
        "",
        "2. **Initialization**: ",
        "   - Create a min-heap to hold the nodes of the linked-lists.",
        "   - Insert the head nodes of all non-empty lists into the min-heap.",
        "",
        "3. **Merging Process**:",
        "   - While the min-heap is not empty, extract the smallest node.",
        "   - Add this node to the merged list.",
        "   - If the extracted node has a next node, push that next node onto the min-heap.",
        "",
        "4. **Finalization**: Continue this process until all nodes from all linked-lists have been processed.",
        "",
        "5. **Edge Cases**: Handle the case when the input list of linked-lists is empty or contains empty lists.",
        "",
        "### Python Code Solution",
        "",
        "Here is the Python code that implements this approach:"
      ]
    },
    {
      "cell_type": "code",
      "execution_count": null,
      "metadata": {},
      "outputs": [],
      "source": [
        "import heapq  # To use the heap data structure",
        "from typing import List, Optional",
        "",
        "# Definition for singly-linked list.",
        "class ListNode:",
        "    def __init__(self, val=0, next=None):",
        "        self.val = val",
        "        self.next = next",
        "",
        "# We need to define a way to compare ListNode objects",
        "class HeapNode:",
        "    def __init__(self, node):",
        "        self.node = node",
        "    ",
        "    def __lt__(self, other):",
        "        return self.node.val < other.node.val",
        "",
        "class Solution:",
        "    def mergeKLists(self, lists: List[Optional[ListNode]]) -> Optional[ListNode]:",
        "        # Initialize a min-heap",
        "        min_heap = []",
        "        ",
        "        # Push the head of each linked list into the heap",
        "        for linked_list in lists:",
        "            if linked_list:  # Only add non-empty lists",
        "                heapq.heappush(min_heap, HeapNode(linked_list))",
        "        ",
        "        # Create a dummy node to help with the merged list",
        "        dummy = ListNode(0)",
        "        current = dummy",
        "        ",
        "        # While there are nodes in the heap",
        "        while min_heap:",
        "            # Get the smallest node from the heap",
        "            smallest_node = heapq.heappop(min_heap).node",
        "            current.next = smallest_node  # Add it to the merged list",
        "            current = current.next  # Move the current pointer",
        "            ",
        "            # If there is a next node, push it onto the heap",
        "            if smallest_node.next:",
        "                heapq.heappush(min_heap, HeapNode(smallest_node.next))",
        "        ",
        "        # Return the merged linked list, starting from the next of dummy",
        "        return dummy.next"
      ]
    },
    {
      "cell_type": "markdown",
      "metadata": {},
      "source": [
        "### Time and Space Complexity Analysis",
        "",
        "- **Time Complexity**: ",
        "  - Each node from all linked-lists will be processed once, leading to a complexity of \\(O(N \\log k)\\), where \\(N\\) is the total number of nodes across all lists and \\(k\\) is the number of linked-lists. The \\(\\log k\\) factor comes from the operations on the min-heap, which can at most contain \\(k\\) nodes at any time.",
        "",
        "- **Space Complexity**: ",
        "  - The space complexity is \\(O(k)\\) for the min-heap, which stores at most one node from each list. Additionally, the output list will use space proportional to the total number of nodes \\(N\\), but this is typically not counted in space complexity.",
        "",
        "This approach is efficient and works well within the problem constraints, making it suitable for merging up to \\(10^4\\) linked-lists."
      ]
    },
    {
      "cell_type": "markdown",
      "metadata": {},
      "source": [
        "---",
        "",
        ""
      ]
    },
    {
      "cell_type": "markdown",
      "metadata": {},
      "source": [
        "# Top K Frequent Words (#692)",
        "",
        "**Difficulty:** Medium  ",
        "**Date:** 2025-08-02 17:09:37  ",
        "**URL:** https://leetcode.com/problems/top-k-frequent-words/",
        "",
        "---"
      ]
    },
    {
      "cell_type": "markdown",
      "metadata": {},
      "source": [
        "## Problem Description",
        "",
        "Given an array of strings words and an integer k, return the k most frequent strings.\n\nReturn the answer sorted by the frequency from highest to lowest. Sort the words with the same frequency by their lexicographical order.\n\n&nbsp;\nExample 1:\n\n\nInput: words = [&quot;i&quot;,&quot;love&quot;,&quot;leetcode&quot;,&quot;i&quot;,&quot;love&quot;,&quot;coding&quot;], k = 2\nOutput: [&quot;i&quot;,&quot;love&quot;]\nExplanation: &quot;i&quot; and &quot;love&quot; are the two most frequent words.\nNote that &quot;i&quot; comes before &quot;love&quot; due to a lower alphabetical order.\n\n\nExample 2:\n\n\nInput: words = [&quot;the&quot;,&quot;day&quot;,&quot;is&quot;,&quot;sunny&quot;,&quot;the&quot;,&quot;the&quot;,&quot;the&quot;,&quot;sunny&quot;,&quot;is&quot;,&quot;is&quot;], k = 4\nOutput: [&quot;the&quot;,&quot;is&quot;,&quot;sunny&quot;,&quot;day&quot;]\nExplanation: &quot;the&quot;, &quot;is&quot;, &quot;sunny&quot; and &quot;day&quot; are the four most frequent words, with the number of occurrence being 4, 3, 2 and 1 respectively.\n\n\n&nbsp;\nConstraints:\n\n\n\t1 <= words.length <= 500\n\t1 <= words[i].length <= 10\n\twords[i] consists of lowercase English letters.\n\tk is in the range [1, The number of unique words[i]]\n\n\n&nbsp;\nFollow-up: Could you solve it in O(n log(k)) time and O(n) extra space?\n"
      ]
    },
    {
      "cell_type": "markdown",
      "metadata": {},
      "source": [
        "## Clarifying Questions",
        "",
        "1. **What should we do in the case of a tie in frequency?** If two or more words have the same frequency, should we always sort them lexicographically, or is there a specific order we should follow?\n\n2. **How should we handle the input if `k` is greater than the number of unique words?** The problem states that `k` is in the range of unique words, but how should we respond if `k` is equal to or exceeds the number of unique words in the input?\n\n3. **Are there any constraints on the input format beyond what is mentioned?** For example, can the input array contain empty strings, or are there any other specific edge cases we should be aware of?\n\n4. **What is the expected output format?** Should the output be an array of strings, and is there a specific way we should format the output (e.g., JSON, plain array, etc.)?\n\n5. **Can we assume that the input will always meet the constraints provided?** For instance, should we handle cases where the input might be malformed or not adhere to the specified constraints?"
      ]
    },
    {
      "cell_type": "markdown",
      "metadata": {},
      "source": [
        "## Test Edge Cases",
        "",
        "Here are 8 important test edge cases to consider when solving the \"Top K Frequent Words\" problem:\n\n1. **Empty Input**:\n   - **Input**: `words = []`, `k = 1`\n   - **Description**: Tests the behavior when there are no words. The expected output should handle this gracefully, possibly returning an empty list or raising an appropriate error.\n\n2. **Single Element**:\n   - **Input**: `words = [\"hello\"]`, `k = 1`\n   - **Description**: Tests the simplest case where there is only one word. The output should be `[\"hello\"]`.\n\n3. **All Unique Words**:\n   - **Input**: `words = [\"a\", \"b\", \"c\", \"d\", \"e\"]`, `k = 3`\n   - **Description**: Tests the case where all words are unique. The output should be the top `k` words sorted lexicographically.\n\n4. **All Identical Words**:\n   - **Input**: `words = [\"repeat\", \"repeat\", \"repeat\"]`, `k = 1`\n   - **Description**: Tests the case where all words are the same. The output should be `[\"repeat\"]`.\n\n5. **Multiple Words with Same Frequency**:\n   - **Input**: `words = [\"apple\", \"banana\", \"apple\", \"orange\", \"banana\", \"kiwi\"]`, `k = 2`\n   - **Description**: Tests the scenario where multiple words have the same frequency. The output should return the two most frequent words sorted lexicographically.\n\n6. **Maximum Size Input**:\n   - **Input**: `words = [\"word\"] * 500`, `k = 1`\n   - **Description**: Tests the upper limit of the input size. The output should be `[\"word\"]`, ensuring that the solution can handle the maximum constraints without performance issues.\n\n7. **K Equals Number of Unique Words**:\n   - **Input**: `words = [\"a\", \"b\", \"c\", \"a\", \"b\", \"d\"]`, `k = 3`\n   - **Description**: Tests the case where `k` equals the number of unique words. The output should include all unique words sorted by frequency and lexicographically.\n\n8. **Performance with Large Input and High Frequency**:\n   - **Input**: `words = [\"x\"] * 300 + [\"y\"] * 200 + [\"z\"] * 100`, `k = 2`\n   - **Description**: Tests performance with a large number of words where one word is significantly more frequent than others. The output should be `[\"x\", \"y\"]`, ensuring that the solution efficiently handles large datasets.\n\nThese test cases cover a variety of edge cases, including boundary conditions, special values, and performance considerations, ensuring a robust solution"
      ]
    },
    {
      "cell_type": "markdown",
      "metadata": {},
      "source": [
        "To solve the problem of finding the top K most frequent words, we can break down the solution into a few key steps. Here’s an outline of the approach:",
        "",
        "### Approach",
        "",
        "1. **Count Frequencies**: Use a dictionary to count the frequency of each word in the input list.",
        "2. **Use a Heap**: Since we want the top K frequent words, we can use a min-heap (priority queue) to efficiently keep track of the top K elements. The heap will store tuples of the form (frequency, word).",
        "3. **Sort the Results**: Once we have the top K words in the heap, we need to sort them. The sorting should first be by frequency (in descending order) and then by lexicographical order for words with the same frequency.",
        "4. **Return the Results**: Finally, extract the words from the sorted list and return them.",
        "",
        "### Python Code Solution",
        "",
        "Here is the Python implementation based on the outlined approach:"
      ]
    },
    {
      "cell_type": "code",
      "execution_count": null,
      "metadata": {},
      "outputs": [],
      "source": [
        "import heapq",
        "from collections import Counter",
        "",
        "def topKFrequent(words, k):",
        "    # Step 1: Count the frequency of each word",
        "    count = Counter(words)",
        "    ",
        "    # Step 2: Use a min-heap to keep track of the top k words",
        "    # We will store (-frequency, word) in the heap to sort by frequency descending",
        "    min_heap = []",
        "    ",
        "    for word, freq in count.items():",
        "        # Push the negative frequency to simulate max-heap behavior",
        "        heapq.heappush(min_heap, (-freq, word))",
        "        ",
        "        # If the heap size exceeds k, pop the smallest element",
        "        if len(min_heap) > k:",
        "            heapq.heappop(min_heap)",
        "    ",
        "    # Step 3: Extract words from the heap and sort them",
        "    # Convert the heap to a list and sort it based on frequency and lexicographical order",
        "    result = []",
        "    while min_heap:",
        "        freq, word = heapq.heappop(min_heap)",
        "        result.append(word)",
        "    ",
        "    # Since we want the results sorted by frequency (highest first), we reverse the list",
        "    result.reverse()",
        "    ",
        "    return result",
        "",
        "# Example Usage",
        "words1 = [\"i\",\"love\",\"leetcode\",\"i\",\"love\",\"coding\"]",
        "k1 = 2",
        "print(topKFrequent(words1, k1))  # Output: [\"i\", \"love\"]",
        "",
        "words2 = [\"the\",\"day\",\"is\",\"sunny\",\"the\",\"the\",\"the\",\"sunny\",\"is\",\"is\"]",
        "k2 = 4",
        "print(topKFrequent(words2, k2))  # Output: [\"the\", \"is\", \"sunny\", \"day\"]"
      ]
    },
    {
      "cell_type": "markdown",
      "metadata": {},
      "source": [
        "### Explanation of the Code",
        "",
        "1. **Counting Words**: We use `Counter` from the `collections` module to count how many times each word appears.",
        "2. **Heap Construction**: We push each word's frequency (negated for min-heap behavior) and the word itself onto the heap. If the size of the heap exceeds `k`, we remove the smallest frequency element.",
        "3. **Result Extraction**: We pop elements from the heap to retrieve the top K frequent words, then reverse the result to maintain the correct order because we popped elements from the heap in ascending order of frequency.",
        "4. **Sorting**: The words are implicitly sorted by frequency due to the min-heap structure, and if two words have the same frequency, they will be sorted lexicographically because tuples are compared element-wise.",
        "",
        "### Time and Space Complexity Analysis",
        "",
        "- **Time Complexity**: The time complexity is O(n log k), where n is the number of words. This occurs because we insert each word into the heap, and each insertion operation takes O(log k) time. The sorting of the final result takes O(k log k), but since k is typically much smaller than n, O(n log k) dominates.",
        "  ",
        "- **Space Complexity**: The space complexity is O(n) for storing the frequency count in the hashmap and O(k) for the min-heap. Thus, the overall space complexity is O(n).",
        "",
        "This solution efficiently finds the top K frequent words while respecting the constraints provided in the problem statement."
      ]
    },
    {
      "cell_type": "markdown",
      "metadata": {},
      "source": [
        "---",
        "",
        ""
      ]
    },
    {
      "cell_type": "markdown",
      "metadata": {},
      "source": [
        "# Kth Largest Element in a Stream (#703)",
        "",
        "**Difficulty:** Easy  ",
        "**Date:** 2025-08-02 22:35:25  ",
        "**URL:** https://leetcode.com/problems/kth-largest-element-in-a-stream/",
        "",
        "---"
      ]
    },
    {
      "cell_type": "markdown",
      "metadata": {},
      "source": [
        "## Problem Description",
        "",
        "You are part of a university admissions office and need to keep track of the kth highest test score from applicants in real-time. This helps to determine cut-off marks for interviews and admissions dynamically as new applicants submit their scores.\n\nYou are tasked to implement a class which, for a given integer&nbsp;k, maintains a stream of test scores and continuously returns the&nbsp;kth highest test score&nbsp;after&nbsp;a new score has been submitted. More specifically, we are looking for the kth highest score in the sorted list of all scores.\n\nImplement the&nbsp;KthLargest class:\n\n\n\tKthLargest(int k, int[] nums) Initializes the object with the integer k and the stream of test scores&nbsp;nums.\n\tint add(int val) Adds a new test score&nbsp;val to the stream and returns the element representing the kth largest element in the pool of test scores so far.\n\n\n&nbsp;\nExample 1:\n\n\nInput:\n[&quot;KthLargest&quot;, &quot;add&quot;, &quot;add&quot;, &quot;add&quot;, &quot;add&quot;, &quot;add&quot;]\n[[3, [4, 5, 8, 2]], [3], [5], [10], [9], [4]]\n\nOutput: [null, 4, 5, 5, 8, 8]\n\nExplanation:\n\nKthLargest kthLargest = new KthLargest(3, [4, 5, 8, 2]);\nkthLargest.add(3); // return 4\nkthLargest.add(5); // return 5\nkthLargest.add(10); // return 5\nkthLargest.add(9); // return 8\nkthLargest.add(4); // return 8\n\n\nExample 2:\n\n\nInput:\n[&quot;KthLargest&quot;, &quot;add&quot;, &quot;add&quot;, &quot;add&quot;, &quot;add&quot;]\n[[4, [7, 7, 7, 7, 8, 3]], [2], [10], [9], [9]]\n\nOutput: [null, 7, 7, 7, 8]\n\nExplanation:\nKthLargest kthLargest = new KthLargest(4, [7, 7, 7, 7, 8, 3]);\nkthLargest.add(2); // return 7\nkthLargest.add(10); // return 7\nkthLargest.add(9); // return 7\nkthLargest.add(9); // return 8\n\n&nbsp;\nConstraints:\n\n\n\t0 <= nums.length <= 104\n\t1 <= k <= nums.length + 1\n\t-104 <= nums[i] <= 104\n\t-104 <= val <= 104\n\tAt most 104 calls will be made to add.\n\n"
      ]
    },
    {
      "cell_type": "markdown",
      "metadata": {},
      "source": [
        "## Clarifying Questions",
        "",
        "1. **What should the behavior be if the number of scores submitted is less than k?** Should the method return a specific value (e.g., null or an error) until enough scores have been added?\n\n2. **How should duplicate scores be handled when determining the kth largest score?** Should they be considered as distinct values or counted only once?\n\n3. **Are there any specific performance requirements for the `add` method?** For example, is there a time complexity constraint we should aim for when adding a new score and retrieving the kth largest score?\n\n4. **What should the initial state of the KthLargest class be when it is instantiated with an empty `nums` array?** Should it be initialized to a specific value for the kth largest score, or should it wait for scores to be added?\n\n5. **Is there a need to handle any specific edge cases, such as negative scores or very large inputs?** Should we consider any limits on the values of k or the size of the input array beyond what is specified in the constraints?"
      ]
    },
    {
      "cell_type": "markdown",
      "metadata": {},
      "source": [
        "## Test Edge Cases",
        "",
        "Here are 8 important test edge cases to consider for the \"Kth Largest Element in a Stream\" problem:\n\n1. **Empty Initial Stream**:\n   - Input: `KthLargest(1, [])`, followed by `add(5)`.\n   - Description: Tests the behavior when the initial stream is empty. The first addition should return the added value as the 1st largest.\n\n2. **Single Element Stream**:\n   - Input: `KthLargest(1, [10])`, followed by `add(5)`.\n   - Description: Tests the case where the stream starts with a single element. The 1st largest should remain the same after adding a smaller value.\n\n3. **All Elements Equal**:\n   - Input: `KthLargest(3, [7, 7, 7, 7])`, followed by `add(7)`.\n   - Description: Tests the scenario where all elements are the same. The kth largest should not change upon adding an equal value.\n\n4. **Adding Values Smaller than k-th Largest**:\n   - Input: `KthLargest(2, [3, 5, 10])`, followed by `add(1)`, `add(2)`, `add(4)`.\n   - Description: Tests the case where all added values are smaller than the current kth largest. The kth largest should remain unchanged until a larger value is added.\n\n5. **Adding Values Larger than k-th Largest**:\n   - Input: `KthLargest(2, [1, 2, 3])`, followed by `add(4)`, `add(5)`.\n   - Description: Tests the scenario where all added values are larger than the current kth largest. The kth largest should update accordingly.\n\n6. **Adding Negative Values**:\n   - Input: `KthLargest(3, [1, -1, 2])`, followed by `add(-2)`, `add(0)`.\n   - Description: Tests the behavior when negative values are added to the stream. It checks if the kth largest is correctly identified among both positive and negative numbers.\n\n7. **Maximum Size Input**:\n   - Input: `KthLargest(10000, [i for i in range(10000)])`, followed by `add(10001)`.\n   - Description: Tests the performance and efficiency of the implementation when handling the maximum allowed size of the input array.\n\n8. **Adding Duplicate Values**:\n   - Input: `KthLargest(3, [1, 2, 3])`, followed by `add(2)`, `add(2)`.\n   - Description: Tests how the implementation handles duplicate values being added to the stream and whether the kth largest reflects the correct value.\n\nThese test cases cover a variety of edge cases including boundary conditions, special values, and performance scenarios, ensuring a robust evaluation of the"
      ]
    },
    {
      "cell_type": "markdown",
      "metadata": {},
      "source": [
        "To solve the problem of finding the kth largest element in a stream of scores, we can utilize a data structure called a min-heap. The min-heap allows us to efficiently keep track of the largest elements in our dataset. Here's how we can approach the problem step-by-step:",
        "",
        "### Approach Explanation",
        "",
        "1. **Initialization**:",
        "   - When the `KthLargest` class is initialized with an integer `k` and an array of integers `nums`, we will maintain a min-heap of size `k`.",
        "   - The min-heap will store the `k` largest elements seen so far. The smallest element of the heap (the root of the heap) will be the kth largest element.",
        "",
        "2. **Adding Elements**:",
        "   - For each new value added through the `add` method:",
        "     - If the heap has fewer than `k` elements, we simply add the new value to the heap.",
        "     - If we already have `k` elements, we compare the new value to the smallest value in the heap (the root). If the new value is larger, we remove the smallest value from the heap and add the new value.",
        "   - After adding the new value, the root of the heap will always represent the kth largest element.",
        "",
        "3. **Returning Results**:",
        "   - After each addition of a new score, we return the root of the heap, which is the kth largest score.",
        "",
        "### Python Code Solution",
        "",
        "Here's the implementation of the `KthLargest` class:"
      ]
    },
    {
      "cell_type": "code",
      "execution_count": null,
      "metadata": {},
      "outputs": [],
      "source": [
        "import heapq",
        "",
        "class KthLargest:",
        "    def __init__(self, k: int, nums: list[int]):",
        "        self.k = k",
        "        self.min_heap = []",
        "        ",
        "        # Initialize the heap with the first k elements of nums (or less if nums has fewer than k elements)",
        "        for num in nums:",
        "            self.add(num)  # Use the add method to maintain the heap size",
        "        ",
        "    def add(self, val: int) -> int:",
        "        # Add the new value to the heap",
        "        if len(self.min_heap) < self.k:",
        "            heapq.heappush(self.min_heap, val)",
        "        else:",
        "            # If the heap is full and the new value is larger than the smallest,",
        "            # replace the smallest value",
        "            if val > self.min_heap[0]:",
        "                heapq.heappop(self.min_heap)  # Remove the smallest",
        "                heapq.heappush(self.min_heap, val)  # Add the new value",
        "        ",
        "        # The root of the min-heap is the kth largest element",
        "        return self.min_heap[0]"
      ]
    },
    {
      "cell_type": "markdown",
      "metadata": {},
      "source": [
        "### Time and Space Complexity Analysis",
        "",
        "- **Time Complexity**:",
        "  - The `add` method takes \\(O(\\log k)\\) time because each insertion and removal operation in a heap of size \\(k\\) takes logarithmic time.",
        "  - The initialization takes \\(O(n \\log k)\\) time, where \\(n\\) is the length of the input array `nums`, since we call `add` for each element in `nums`.",
        "",
        "- **Space Complexity**:",
        "  - The space complexity is \\(O(k)\\) because we are maintaining a min-heap of size at most `k`. The rest of the variables used do not scale significantly with the input size.",
        "",
        "### Summary",
        "This solution efficiently maintains the kth largest element in a stream of scores. The use of a min-heap ensures that we can dynamically adjust to new scores while keeping our operations efficient in terms of both time and space."
      ]
    },
    {
      "cell_type": "markdown",
      "metadata": {},
      "source": [
        "---",
        "",
        ""
      ]
    },
    {
      "cell_type": "markdown",
      "metadata": {},
      "source": [
        "# Reorganize String (#767)",
        "",
        "**Difficulty:** Medium  ",
        "**Date:** 2025-08-02 22:36:35  ",
        "**URL:** https://leetcode.com/problems/reorganize-string/",
        "",
        "---"
      ]
    },
    {
      "cell_type": "markdown",
      "metadata": {},
      "source": [
        "## Problem Description",
        "",
        "Given a string s, rearrange the characters of s so that any two adjacent characters are not the same.\n\nReturn any possible rearrangement of s or return &quot;&quot; if not possible.\n\n&nbsp;\nExample 1:\nInput: s = \"aab\"\nOutput: \"aba\"\nExample 2:\nInput: s = \"aaab\"\nOutput: \"\"\n\n&nbsp;\nConstraints:\n\n\n\t1 <= s.length <= 500\n\ts consists of lowercase English letters.\n\n"
      ]
    },
    {
      "cell_type": "markdown",
      "metadata": {},
      "source": [
        "## Clarifying Questions",
        "",
        "1. Are there any specific constraints on the characters in the string, or can it include any lowercase English letters? \n\n2. Should the output maintain the original order of characters that are not adjacent, or is any valid rearrangement acceptable?\n\n3. What should be returned if the input string is empty, and is there any special handling for strings of length 1?\n\n4. Are there any performance requirements we should be aware of, especially considering the maximum length of the string (up to 500 characters)?\n\n5. If a valid rearrangement is not possible, is it acceptable to return an empty string, or should we provide a specific message or indication of failure?"
      ]
    },
    {
      "cell_type": "markdown",
      "metadata": {},
      "source": [
        "## Test Edge Cases",
        "",
        "Here are 8 important test edge cases to consider for the \"Reorganize String\" problem:\n\n1. **Empty String**:\n   - Input: `s = \"\"`\n   - Description: Tests the function's handling of an empty input. The expected output should be an empty string.\n\n2. **Single Character**:\n   - Input: `s = \"a\"`\n   - Description: Tests the function with the smallest non-empty input. The output should be the same single character.\n\n3. **Two Identical Characters**:\n   - Input: `s = \"aa\"`\n   - Description: Tests the case where the string consists of two identical characters. The expected output should be an empty string since it's impossible to rearrange them without adjacent duplicates.\n\n4. **Two Different Characters**:\n   - Input: `s = \"ab\"`\n   - Description: Tests the function with two different characters. The expected output should be the same string, as there are no adjacent duplicates.\n\n5. **Maximum Length with One Dominant Character**:\n   - Input: `s = \"aaaabbbbcc\"`\n   - Description: Tests the function with a string of maximum length (10 characters) where one character dominates. The expected output should be a valid rearrangement like \"abababac\" or an empty string if impossible.\n\n6. **Maximum Length with Balanced Characters**:\n   - Input: `s = \"abcabcabcabc\"`\n   - Description: Tests the function with a maximum length string that has balanced characters. The expected output should be a valid rearrangement like \"abcabcabcabc\".\n\n7. **All Characters Identical**:\n   - Input: `s = \"zzzzzz\"`\n   - Description: Tests the function with a string where all characters are the same. The expected output should be an empty string since it's impossible to rearrange them without adjacent duplicates.\n\n8. **Characters with Varying Frequencies**:\n   - Input: `s = \"aaabbc\"`\n   - Description: Tests the function with characters that have varying frequencies. The expected output should be a valid rearrangement like \"abacab\" or \"ababac\".\n\nThese test cases cover a range of scenarios including edge cases, boundary conditions, and performance considerations for the problem."
      ]
    },
    {
      "cell_type": "markdown",
      "metadata": {},
      "source": [
        "### Approach",
        "",
        "To solve the problem of reorganizing a string such that no two adjacent characters are the same, we can use the following steps:",
        "",
        "1. **Count Frequency of Characters**: We first count how many times each character appears in the string. This can be done using a frequency dictionary or a `Counter` from the `collections` module.",
        "",
        "2. **Max-Heap for Character Frequency**: To effectively manage the characters based on their frequency, we can use a max-heap (priority queue). This allows us to always pick the character with the highest remaining count.",
        "",
        "3. **Reorganize the String**: We repeatedly extract the two most frequent characters from the heap and append them to our result string. After using a character, we decrease its count. If the count of a character is still greater than zero, we push it back into the heap for future use.",
        "",
        "4. **Check for Validity**: If at any point we cannot find two characters to place (because only one character remains and its count is greater than one), then it is impossible to rearrange the string as required.",
        "",
        "5. **Return the Result**: Finally, if we successfully build a valid string, we return it; otherwise, we return an empty string.",
        "",
        "### Python Code Solution"
      ]
    },
    {
      "cell_type": "code",
      "execution_count": null,
      "metadata": {},
      "outputs": [],
      "source": [
        "from collections import Counter",
        "import heapq",
        "",
        "def reorganizeString(s: str) -> str:",
        "    # Step 1: Count the frequency of each character",
        "    char_count = Counter(s)",
        "    ",
        "    # Step 2: Create a max-heap based on character frequency",
        "    max_heap = []",
        "    ",
        "    # Push negative frequencies into the heap to simulate a max-heap",
        "    for char, count in char_count.items():",
        "        heapq.heappush(max_heap, (-count, char))",
        "    ",
        "    # Step 3: Reorganize the string",
        "    result = []",
        "    ",
        "    # Previous character and its count for re-insertion after using",
        "    prev_count, prev_char = 0, ''",
        "    ",
        "    while max_heap:",
        "        # Step 3a: Get the most frequent character",
        "        count, char = heapq.heappop(max_heap)",
        "        result.append(char)  # Append the current character to the result",
        "        ",
        "        # Step 3b: If there was a previous character, push it back to the heap",
        "        if prev_count < 0:  # If there's still count left for the previous character",
        "            heapq.heappush(max_heap, (prev_count, prev_char))",
        "        ",
        "        # Step 3c: Update the previous character to the current one",
        "        prev_count = count + 1  # Decrease the count (since we used one)",
        "        prev_char = char",
        "    ",
        "    # Step 4: Check if the result is valid",
        "    rearranged_string = ''.join(result)",
        "    if len(rearranged_string) != len(s):",
        "        return \"\"  # Not possible to rearrange as required",
        "    ",
        "    return rearranged_string"
      ]
    },
    {
      "cell_type": "markdown",
      "metadata": {},
      "source": [
        "### Time and Space Complexity Analysis",
        "",
        "- **Time Complexity**: ",
        "  - Counting the frequency of characters takes O(n), where n is the length of the string.",
        "  - Inserting characters into the heap takes O(k log k), where k is the number of unique characters (at most 26 for lowercase letters).",
        "  - The while loop runs at most n times since we process each character once.",
        "  - Overall, the time complexity is O(n + k log k), but since k is bounded by 26, we can approximate it to O(n).",
        "",
        "- **Space Complexity**: ",
        "  - The space required for the frequency dictionary is O(k), and the max-heap also requires O(k). Thus, the space complexity is O(k) as well.",
        "  - Since k is constant (maximum of 26 for lowercase letters), we can consider the space complexity to be O(1) in terms of the input size.",
        "",
        "This approach ensures that we can effectively rearrange the string or determine when it is impossible to do so."
      ]
    },
    {
      "cell_type": "markdown",
      "metadata": {},
      "source": [
        "---",
        "",
        ""
      ]
    },
    {
      "cell_type": "markdown",
      "metadata": {},
      "source": [
        "# K Closest Points to Origin (#973)",
        "",
        "**Difficulty:** Medium  ",
        "**Date:** 2025-08-04 23:33:39  ",
        "**URL:** https://leetcode.com/problems/k-closest-points-to-origin/",
        "",
        "---"
      ]
    },
    {
      "cell_type": "markdown",
      "metadata": {},
      "source": [
        "## Problem Description",
        "",
        "Given an array of points where points[i] = [xi, yi] represents a point on the X-Y plane and an integer k, return the k closest points to the origin (0, 0).\n\nThe distance between two points on the X-Y plane is the Euclidean distance (i.e., &radic;(x1 - x2)2 + (y1 - y2)2).\n\nYou may return the answer in any order. The answer is guaranteed to be unique (except for the order that it is in).\n\n&nbsp;\nExample 1:\n\n\nInput: points = [[1,3],[-2,2]], k = 1\nOutput: [[-2,2]]\nExplanation:\nThe distance between (1, 3) and the origin is sqrt(10).\nThe distance between (-2, 2) and the origin is sqrt(8).\nSince sqrt(8) < sqrt(10), (-2, 2) is closer to the origin.\nWe only want the closest k = 1 points from the origin, so the answer is just [[-2,2]].\n\n\nExample 2:\n\n\nInput: points = [[3,3],[5,-1],[-2,4]], k = 2\nOutput: [[3,3],[-2,4]]\nExplanation: The answer [[-2,4],[3,3]] would also be accepted.\n\n\n&nbsp;\nConstraints:\n\n\n\t1 <= k <= points.length <= 104\n\t-104 <= xi, yi <= 104\n\n"
      ]
    },
    {
      "cell_type": "markdown",
      "metadata": {},
      "source": [
        "## Clarifying Questions",
        "",
        "1. **What should we do in the case of ties in distance?** If two points are equidistant from the origin, should we return both, and if so, how should we determine their order in the output?\n\n2. **Are there any constraints on the input points?** For example, can the same point appear multiple times in the input array, and if so, should duplicates be counted towards the k closest points?\n\n3. **What is the expected output format?** Should the output be a list of lists, and is there any specific order required for the points in the output, or can they be returned in any order?\n\n4. **What is the maximum size of the input?** Given the constraints (1 <= k <= points.length <= 10^4), is there a specific performance requirement or time complexity we should aim for in our solution?\n\n5. **Are there any special cases we should consider?** For instance, what if k equals the number of points, or if all points are at the same distance from the origin? How should these cases be handled?"
      ]
    },
    {
      "cell_type": "markdown",
      "metadata": {},
      "source": [
        "## Test Edge Cases",
        "",
        "Here are 8 important test edge cases to consider for the \"K Closest Points to Origin\" problem:\n\n1. **Single Point Input**:\n   - **Input**: `points = [[1, 1]], k = 1`\n   - **Description**: Tests the scenario where there is only one point in the input. The output should be the single point itself.\n\n2. **All Points at the Same Distance**:\n   - **Input**: `points = [[1, 1], [-1, -1], [1, -1], [-1, 1]], k = 2`\n   - **Description**: All points are equidistant from the origin. Tests how the algorithm handles ties when selecting the closest points.\n\n3. **Negative Coordinates**:\n   - **Input**: `points = [[-1, -2], [-3, -4], [-5, -6]], k = 2`\n   - **Description**: Ensures that the algorithm correctly handles points with negative coordinates and calculates distances accurately.\n\n4. **Points with Zero Coordinates**:\n   - **Input**: `points = [[0, 0], [1, 1], [2, 2]], k = 1`\n   - **Description**: Tests the case where one of the points is at the origin (0, 0). The output should return the origin as the closest point.\n\n5. **Maximum Input Size**:\n   - **Input**: `points = [[i, i] for i in range(10000)], k = 5000`\n   - **Description**: Tests the performance and efficiency of the algorithm with the maximum allowed input size (10,000 points).\n\n6. **Duplicate Points**:\n   - **Input**: `points = [[1, 1], [1, 1], [2, 2]], k = 2`\n   - **Description**: Checks how the algorithm handles duplicate points in the input. The output should include only unique points.\n\n7. **All Points at the Origin**:\n   - **Input**: `points = [[0, 0], [0, 0], [0, 0]], k = 2`\n   - **Description**: All points are at the origin. Tests if the algorithm can handle cases where all points are the same.\n\n8. **Points with Large Coordinates**:\n   - **Input**: `points = [[10000, 10000], [-10000, -10000], [5000, 5000]], k = 1`\n   - **Description**: Tests the algorithm's ability to handle large coordinate values and ensure that it correctly computes distances without overflow or precision issues. \n\nThese edge cases cover a range of scenarios including boundary conditions, special values, and performance considerations, ensuring a comprehensive test suite for the problem."
      ]
    },
    {
      "cell_type": "markdown",
      "metadata": {},
      "source": [
        "### Step-by-Step Solution",
        "",
        "#### 1. Explanation of the Approach",
        "",
        "To solve the problem of finding the k closest points to the origin (0, 0), we can utilize the following approach:",
        "",
        "1. **Calculate the Distance**: For each point in the list, calculate the squared Euclidean distance from the origin. The squared distance is given by \\( \\text{distance}^2 = x^2 + y^2 \\). Using the squared distance avoids the need for computing the square root, which is not necessary for comparison.",
        "",
        "2. **Use a Min-Heap**: We can use a min-heap (or priority queue) to efficiently keep track of the closest k points. We will store the points along with their squared distances in the heap. The min-heap will allow us to efficiently retrieve the smallest distances.",
        "",
        "3. **Extract the Closest Points**: After processing all points, the heap will contain the k closest points. We can extract these points from the heap and return them.",
        "",
        "This approach is efficient because it allows us to quickly access the closest points while maintaining a manageable amount of data in memory.",
        "",
        "#### 2. Python Code Solution",
        "",
        "Here is the Python code implementing the above approach:"
      ]
    },
    {
      "cell_type": "code",
      "execution_count": null,
      "metadata": {},
      "outputs": [],
      "source": [
        "import heapq",
        "",
        "def kClosest(points, k):",
        "    # Create a min-heap to store the k closest points",
        "    min_heap = []",
        "    ",
        "    # Iterate through each point",
        "    for (x, y) in points:",
        "        # Calculate the squared distance from the origin",
        "        distance_squared = x * x + y * y",
        "        ",
        "        # Push the point and its distance into the heap",
        "        heapq.heappush(min_heap, (distance_squared, (x, y)))",
        "    ",
        "    # Extract the k closest points, we only need the points part",
        "    closest_points = []",
        "    for _ in range(k):",
        "        # Pop the point with the smallest distance",
        "        closest_points.append(heapq.heappop(min_heap)[1])",
        "        ",
        "    return closest_points",
        "",
        "# Example usage",
        "points1 = [[1,3],[-2,2]]",
        "k1 = 1",
        "print(kClosest(points1, k1))  # Output: [[-2, 2]]",
        "",
        "points2 = [[3,3],[5,-1],[-2,4]]",
        "k2 = 2",
        "print(kClosest(points2, k2))  # Output: [[3, 3], [-2, 4]]"
      ]
    },
    {
      "cell_type": "markdown",
      "metadata": {},
      "source": [
        "#### 3. Time and Space Complexity Analysis",
        "",
        "- **Time Complexity**:",
        "  - The time complexity for inserting each point into the min-heap is \\(O(\\log n)\\), where \\(n\\) is the number of points. Since we do this for all points, the total time complexity is \\(O(n \\log n)\\).",
        "  - Extracting k points from the heap is \\(O(k \\log n)\\) since popping from the heap also takes \\(O(\\log n)\\). However, since \\(k\\) can be at most \\(n\\), we can consider this to be dominated by the heap creation step.",
        "  ",
        "  Therefore, the overall time complexity is \\(O(n \\log n)\\).",
        "",
        "- **Space Complexity**:",
        "  - The space complexity is \\(O(n)\\) due to the storage of points in the min-heap. In the worst case, if all points are pushed into the heap, it would require space proportional to the number of points.",
        "  ",
        "Thus, the space complexity is \\(O(n)\\).",
        "",
        "This solution efficiently finds the k closest points to the origin using a structured approach involving heaps."
      ]
    },
    {
      "cell_type": "markdown",
      "metadata": {},
      "source": [
        "---",
        "",
        ""
      ]
    },
    {
      "cell_type": "markdown",
      "metadata": {},
      "source": [
        "# Last Stone Weight (#1046)",
        "",
        "**Difficulty:** Easy  ",
        "**Date:** 2025-08-04 23:37:31  ",
        "**URL:** https://leetcode.com/problems/last-stone-weight/",
        "",
        "---"
      ]
    },
    {
      "cell_type": "markdown",
      "metadata": {},
      "source": [
        "## Problem Description",
        "",
        "You are given an array of integers stones where stones[i] is the weight of the ith stone.\n\nWe are playing a game with the stones. On each turn, we choose the heaviest two stones and smash them together. Suppose the heaviest two stones have weights x and y with x <= y. The result of this smash is:\n\n\n\tIf x == y, both stones are destroyed, and\n\tIf x != y, the stone of weight x is destroyed, and the stone of weight y has new weight y - x.\n\n\nAt the end of the game, there is at most one stone left.\n\nReturn the weight of the last remaining stone. If there are no stones left, return 0.\n\n&nbsp;\nExample 1:\n\n\nInput: stones = [2,7,4,1,8,1]\nOutput: 1\nExplanation: \nWe combine 7 and 8 to get 1 so the array converts to [2,4,1,1,1] then,\nwe combine 2 and 4 to get 2 so the array converts to [2,1,1,1] then,\nwe combine 2 and 1 to get 1 so the array converts to [1,1,1] then,\nwe combine 1 and 1 to get 0 so the array converts to [1] then that&#39;s the value of the last stone.\n\n\nExample 2:\n\n\nInput: stones = [1]\nOutput: 1\n\n\n&nbsp;\nConstraints:\n\n\n\t1 <= stones.length <= 30\n\t1 <= stones[i] <= 1000\n\n"
      ]
    },
    {
      "cell_type": "markdown",
      "metadata": {},
      "source": [
        "## Clarifying Questions",
        "",
        "1. **What should we do if there are multiple stones with the same maximum weight?** Should we always choose the first two stones we encounter, or is there a specific rule for selecting which stones to smash?\n\n2. **How should we handle cases where the input array is empty?** The problem states that there can be at most one stone left; should we assume that an empty input means returning 0?\n\n3. **Are there any specific performance requirements or constraints on the algorithm?** Given the constraints (1 <= stones.length <= 30), should we prioritize a more straightforward solution, or is there an expectation for an optimized approach?\n\n4. **What is the expected output format?** Should the output be a single integer representing the weight of the last stone, or is there any additional information that needs to be included?\n\n5. **Can we assume that the input will always be valid according to the constraints provided?** For example, will the weights always be within the specified range (1 to 1000), and will the input array always contain at least one stone?"
      ]
    },
    {
      "cell_type": "markdown",
      "metadata": {},
      "source": [
        "## Test Edge Cases",
        "",
        "Here are 8 important test edge cases for the \"Last Stone Weight\" problem:\n\n1. **Single Stone**: \n   - **Input**: `stones = [5]`\n   - **Description**: Test with a single stone. The output should be the weight of that stone, which is 5.\n\n2. **Two Stones of Equal Weight**: \n   - **Input**: `stones = [3, 3]`\n   - **Description**: Both stones are of equal weight. They should destroy each other, resulting in an output of 0.\n\n3. **Two Stones of Different Weights**: \n   - **Input**: `stones = [2, 5]`\n   - **Description**: Test with two stones of different weights. The output should be the difference, which is 3.\n\n4. **Multiple Stones with Duplicates**: \n   - **Input**: `stones = [4, 4, 2, 2]`\n   - **Description**: Test with multiple stones including duplicates. The expected output is 0, as all stones can be paired and destroyed.\n\n5. **Maximum Size with Maximum Values**: \n   - **Input**: `stones = [1000] * 30`\n   - **Description**: Test the upper limit of the constraints with 30 stones, all having the maximum weight of 1000. The output should be 0 after all stones are destroyed.\n\n6. **Stones with a Mix of Weights**: \n   - **Input**: `stones = [1, 3, 2, 6, 7]`\n   - **Description**: A mix of weights to test the algorithm's ability to handle various combinations. The expected output is 1 after all possible combinations.\n\n7. **All Stones Destroyed Except One**: \n   - **Input**: `stones = [10, 10, 5, 5, 5]`\n   - **Description**: Test where all stones can be paired off except one. The expected output should be 5, as the last remaining stone.\n\n8. **Stones with Zero Values**: \n   - **Input**: `stones = [0, 0, 5, 5]`\n   - **Description**: Include zero values in the stones. The expected output should be 5, as the zeros do not affect the outcome.\n\nThese test cases cover a range of scenarios, including boundary conditions, special values, and performance edge cases, ensuring a comprehensive evaluation of the solution."
      ]
    },
    {
      "cell_type": "markdown",
      "metadata": {},
      "source": [
        "### Explanation of the Approach",
        "",
        "To solve the problem of determining the weight of the last remaining stone after smashing stones together, we can utilize a max-heap (priority queue) data structure. The main idea is to always find the two heaviest stones, smash them, and then reinsert the resulting stone back into the heap until no stones remain or only one stone is left.",
        "",
        "The steps of the approach are as follows:",
        "",
        "1. **Use a Max-Heap**: Since we need to repeatedly access the two heaviest stones, a max-heap is ideal as it allows us to efficiently retrieve and remove the largest elements.",
        "2. **Smash Stones**: For each turn:",
        "   - Extract the two largest stones from the heap.",
        "   - If they are equal, both are destroyed (i.e., no stone is reinserted).",
        "   - If they are not equal, calculate the new weight of the remaining stone (y - x) and push it back into the heap.",
        "3. **Repeat**: Continue this process until the heap is empty or has only one stone left.",
        "4. **Return Result**: If there is one stone left, return its weight; otherwise, return 0.",
        "",
        "### Python Code Solution",
        "",
        "Here is the Python code implementing the above approach:"
      ]
    },
    {
      "cell_type": "code",
      "execution_count": null,
      "metadata": {},
      "outputs": [],
      "source": [
        "import heapq",
        "",
        "def lastStoneWeight(stones):",
        "    # Convert stones list into a max-heap by inverting the values",
        "    max_heap = [-stone for stone in stones]",
        "    heapq.heapify(max_heap)  # Create a heap from the list",
        "",
        "    # Continue smashing stones until one or no stones are left",
        "    while len(max_heap) > 1:",
        "        # Extract the two largest stones",
        "        first = -heapq.heappop(max_heap)  # The largest stone",
        "        second = -heapq.heappop(max_heap)  # The second largest stone",
        "",
        "        # If they are not equal, push the remaining stone back into the heap",
        "        if first != second:",
        "            new_stone = first - second",
        "            heapq.heappush(max_heap, -new_stone)  # Push the new stone back as negative",
        "",
        "    # If there are no stones left, return 0; otherwise return the last stone's weight",
        "    return -max_heap[0] if max_heap else 0",
        "",
        "# Example usage",
        "stones1 = [2, 7, 4, 1, 8, 1]",
        "print(lastStoneWeight(stones1))  # Output: 1",
        "",
        "stones2 = [1]",
        "print(lastStoneWeight(stones2))  # Output: 1"
      ]
    },
    {
      "cell_type": "markdown",
      "metadata": {},
      "source": [
        "### Time and Space Complexity Analysis",
        "",
        "1. **Time Complexity**:",
        "   - Converting the list of stones into a heap takes O(n) time, where n is the number of stones.",
        "   - Each operation of extracting the two largest stones and inserting a new stone back into the heap takes O(log n) time. Since we are doing this at most n times (in the worst case), the overall complexity is O(n log n).",
        "",
        "2. **Space Complexity**:",
        "   - The space complexity is O(n) due to the storage of the stones in the heap. This is required to maintain the max-heap structure.",
        "",
        "In conclusion, this solution efficiently handles the problem using a max-heap to keep track of the weights of the stones and ensures that we can repeatedly smash the heaviest stones together to find the weight of the last remaining stone."
      ]
    },
    {
      "cell_type": "markdown",
      "metadata": {},
      "source": [
        "---",
        "",
        ""
      ]
    },
    {
      "cell_type": "markdown",
      "metadata": {},
      "source": [
        "# Find the Kth Smallest Sum of a Matrix With Sorted Rows (#1439)",
        "",
        "**Difficulty:** Hard  ",
        "**Date:** 2025-08-04 23:46:24  ",
        "**URL:** https://leetcode.com/problems/find-the-kth-smallest-sum-of-a-matrix-with-sorted-rows/",
        "",
        "---"
      ]
    },
    {
      "cell_type": "markdown",
      "metadata": {},
      "source": [
        "## Problem Description",
        "",
        "You are given an m x n matrix mat that has its rows sorted in non-decreasing order and an integer k.\n\nYou are allowed to choose exactly one element from each row to form an array.\n\nReturn the kth smallest array sum among all possible arrays.\n\n&nbsp;\nExample 1:\n\n\nInput: mat = [[1,3,11],[2,4,6]], k = 5\nOutput: 7\nExplanation: Choosing one element from each row, the first k smallest sum are:\n[1,2], [1,4], [3,2], [3,4], [1,6]. Where the 5th sum is 7.\n\n\nExample 2:\n\n\nInput: mat = [[1,3,11],[2,4,6]], k = 9\nOutput: 17\n\n\nExample 3:\n\n\nInput: mat = [[1,10,10],[1,4,5],[2,3,6]], k = 7\nOutput: 9\nExplanation: Choosing one element from each row, the first k smallest sum are:\n[1,1,2], [1,1,3], [1,4,2], [1,4,3], [1,1,6], [1,5,2], [1,5,3]. Where the 7th sum is 9.  \n\n\n&nbsp;\nConstraints:\n\n\n\tm == mat.length\n\tn == mat.length[i]\n\t1 <= m, n <= 40\n\t1 <= mat[i][j] <= 5000\n\t1 <= k <= min(200, nm)\n\tmat[i] is a non-decreasing array.\n\n"
      ]
    },
    {
      "cell_type": "markdown",
      "metadata": {},
      "source": [
        "## Clarifying Questions",
        "",
        "1. **What should we do if `k` is greater than the total number of possible sums that can be formed from the matrix?** (This helps clarify how to handle cases where `k` exceeds the number of combinations.)\n\n2. **Are there any specific constraints on the values of `k` in relation to the dimensions of the matrix (m and n)?** (This ensures understanding of how `k` interacts with the matrix size.)\n\n3. **Can the matrix contain negative numbers, or is it guaranteed to only have positive integers?** (This clarifies the range of values in the matrix and helps in understanding potential edge cases.)\n\n4. **How should we handle duplicate sums that may arise from different combinations of elements? Should we count duplicates towards the k-th smallest sum?** (This addresses how to treat identical sums in the output.)\n\n5. **What is the expected time complexity for the solution, and are there any performance constraints we should be aware of given the maximum matrix size?** (This helps gauge the efficiency requirements for the solution.)"
      ]
    },
    {
      "cell_type": "markdown",
      "metadata": {},
      "source": [
        "## Test Edge Cases",
        "",
        "Here are 8 important test edge cases to consider for the problem \"Find the Kth Smallest Sum of a Matrix With Sorted Rows\":\n\n1. **Minimum Input Size**:\n   - **Input**: `mat = [[1]], k = 1`\n   - **Description**: The smallest possible matrix with one element. This tests the function's ability to handle the smallest input size.\n\n2. **Single Row with Multiple Columns**:\n   - **Input**: `mat = [[1, 2, 3, 4]], k = 2`\n   - **Description**: A matrix with only one row and multiple columns. This tests how the function handles cases where there’s only one choice per row.\n\n3. **Single Column with Multiple Rows**:\n   - **Input**: `mat = [[1], [2], [3], [4]], k = 3`\n   - **Description**: A matrix with multiple rows but only one column. This checks how the function handles cases with limited choices.\n\n4. **All Elements the Same**:\n   - **Input**: `mat = [[5, 5, 5], [5, 5, 5], [5, 5, 5]], k = 4`\n   - **Description**: A matrix where all elements are the same. This tests if the function can correctly identify sums when there are no variations.\n\n5. **Maximum Size Matrix**:\n   - **Input**: `mat = [[1, 2, 3, ..., 40], [1, 2, 3, ..., 40], ..., [1, 2, 3, ..., 40]], k = 200`\n   - **Description**: A 40x40 matrix filled with increasing integers. This tests the performance and efficiency of the algorithm with the maximum constraints.\n\n6. **Matrix with Large Values**:\n   - **Input**: `mat = [[1000, 2000, 3000], [4000, 5000, 6000]], k = 3`\n   - **Description**: A matrix with large values to check if the function can handle large sums without overflow or performance issues.\n\n7. **K Greater Than Possible Unique Sums**:\n   - **Input**: `mat = [[1, 2], [3, 4]], k = 5`\n   - **Description**: A case where k exceeds the number of unique sums possible. This tests how the function handles cases where the requested k is not achievable.\n\n8. **Matrix with Duplicates**:\n   - **Input**: `mat = [[1, 1, 1], [1, 1, 1]], k = 2`\n   - **Description**: A matrix where all elements are duplicates. This checks if the function can correctly compute the kth smallest sum when there are repeated"
      ]
    },
    {
      "cell_type": "markdown",
      "metadata": {},
      "source": [
        "To solve the problem of finding the Kth smallest sum of an array formed by selecting one element from each row of a given matrix, we can use a min-heap (or priority queue) to efficiently explore the sums in increasing order. Here’s a step-by-step breakdown of the approach:",
        "",
        "### 1. Approach Explanation",
        "",
        "1. **Matrix Structure**: The matrix has sorted rows, which means that the smallest possible sums can be formed by choosing the smallest elements from each row initially.",
        "",
        "2. **Heap Initialization**: We can initialize a min-heap to keep track of the smallest sums formed by selecting elements from the rows. Each entry in the heap will be a tuple containing the current sum and a tuple of indices representing which elements from each row are currently being used to form that sum.",
        "",
        "3. **Heap Operations**:",
        "   - Start by adding the smallest possible sum (i.e., the first element from each row) to the heap.",
        "   - Repeatedly extract the smallest sum from the heap and explore the next possible sums by incrementing the index of the last row's selected element. For example, if the current sum is formed by elements at indices `(0, 0, 0)`, we can explore `(1, 0, 0)` by moving to the next element in the first row.",
        "",
        "4. **Kth Smallest Extraction**: We perform this extraction and exploration process exactly `k` times. The k-th extracted sum will be our answer.",
        "",
        "### 2. Python Code Solution with Comments",
        "",
        "Here is the code implementing the above approach:"
      ]
    },
    {
      "cell_type": "code",
      "execution_count": null,
      "metadata": {},
      "outputs": [],
      "source": [
        "import heapq",
        "",
        "def kthSmallest(mat, k):",
        "    # Initialize the number of rows",
        "    m = len(mat)",
        "    ",
        "    # Min-heap for storing the sums along with the indices of elements picked from each row",
        "    min_heap = []",
        "    ",
        "    # Start with the smallest sum possible",
        "    initial_sum = sum(row[0] for row in mat)",
        "    # Push the initial sum and the tuple of indices (all pointing to the 0th element)",
        "    min_heap.append((initial_sum, tuple(0 for _ in range(m))))",
        "    ",
        "    # Use a set to avoid duplicate sums",
        "    seen = {tuple(0 for _ in range(m))}",
        "    ",
        "    # We need to extract k smallest sums",
        "    for _ in range(k):",
        "        current_sum, indices = heapq.heappop(min_heap)",
        "        ",
        "        # Now we will try to generate new sums by incrementing the index of each row",
        "        for i in range(m):",
        "            # If we can move to the next element in the ith row",
        "            if indices[i] + 1 < len(mat[i]):",
        "                new_indices = list(indices)",
        "                new_indices[i] += 1",
        "                new_indices = tuple(new_indices)",
        "                ",
        "                # Calculate the new sum by replacing the ith element with the next one in that row",
        "                new_sum = current_sum - mat[i][indices[i]] + mat[i][new_indices[i]]",
        "                ",
        "                # Only add to heap if we haven't seen this index configuration before",
        "                if new_indices not in seen:",
        "                    seen.add(new_indices)",
        "                    heapq.heappush(min_heap, (new_sum, new_indices))",
        "    ",
        "    # The kth smallest sum extracted will be the answer",
        "    return current_sum",
        "",
        "# Example usage:",
        "mat1 = [[1, 3, 11], [2, 4, 6]]",
        "k1 = 5",
        "print(kthSmallest(mat1, k1))  # Output: 7"
      ]
    },
    {
      "cell_type": "markdown",
      "metadata": {},
      "source": [
        "### 3. Time and Space Complexity Analysis",
        "",
        "- **Time Complexity**: The time complexity is O(k * m * log(k)), where:",
        "  - `k` is the number of smallest sums we need to extract.",
        "  - `m` is the number of rows (we explore moving indices for each of the `m` rows).",
        "  - We use a heap of size at most `k`, so each heap operation (insertion and extraction) takes O(log(k)) time.",
        "",
        "- **Space Complexity**: The space complexity is O(k) for the min-heap and O(m) for the `seen` set in the worst case. Thus, the overall space complexity is O(k + m).",
        "",
        "This solution is efficient given the constraints and effectively finds the Kth smallest sum from the matrix."
      ]
    },
    {
      "cell_type": "markdown",
      "metadata": {},
      "source": [
        "---",
        "",
        ""
      ]
    },
    {
      "cell_type": "markdown",
      "metadata": {},
      "source": [
        "# Avoid Flood in The City (#1488)",
        "",
        "**Difficulty:** Medium  ",
        "**Date:** 2025-08-04 23:47:33  ",
        "**URL:** https://leetcode.com/problems/avoid-flood-in-the-city/",
        "",
        "---"
      ]
    },
    {
      "cell_type": "markdown",
      "metadata": {},
      "source": [
        "## Problem Description",
        "",
        "Your country has an infinite number of lakes. Initially, all the lakes are empty, but when it rains over the nth lake, the nth lake becomes full of water. If it rains over a lake that is full of water, there will be a flood. Your goal is to avoid floods in any lake.\n\nGiven an integer array rains where:\n\n\n\trains[i] > 0 means there will be rains over the rains[i] lake.\n\trains[i] == 0 means there are no rains this day and you can choose one lake this day and dry it.\n\n\nReturn an array ans where:\n\n\n\tans.length == rains.length\n\tans[i] == -1 if rains[i] > 0.\n\tans[i] is the lake you choose to dry in the ith day if rains[i] == 0.\n\n\nIf there are multiple valid answers return any of them. If it is impossible to avoid flood return an empty array.\n\nNotice that if you chose to dry a full lake, it becomes empty, but if you chose to dry an empty lake, nothing changes.\n\n&nbsp;\nExample 1:\n\n\nInput: rains = [1,2,3,4]\nOutput: [-1,-1,-1,-1]\nExplanation: After the first day full lakes are [1]\nAfter the second day full lakes are [1,2]\nAfter the third day full lakes are [1,2,3]\nAfter the fourth day full lakes are [1,2,3,4]\nThere&#39;s no day to dry any lake and there is no flood in any lake.\n\n\nExample 2:\n\n\nInput: rains = [1,2,0,0,2,1]\nOutput: [-1,-1,2,1,-1,-1]\nExplanation: After the first day full lakes are [1]\nAfter the second day full lakes are [1,2]\nAfter the third day, we dry lake 2. Full lakes are [1]\nAfter the fourth day, we dry lake 1. There is no full lakes.\nAfter the fifth day, full lakes are [2].\nAfter the sixth day, full lakes are [1,2].\nIt is easy that this scenario is flood-free. [-1,-1,1,2,-1,-1] is another acceptable scenario.\n\n\nExample 3:\n\n\nInput: rains = [1,2,0,1,2]\nOutput: []\nExplanation: After the second day, full lakes are  [1,2]. We have to dry one lake in the third day.\nAfter that, it will rain over lakes [1,2]. It&#39;s easy to prove that no matter which lake you choose to dry in the 3rd day, the other one will flood.\n\n\n&nbsp;\nConstraints:\n\n\n\t1 <= rains.length <= 105\n\t0 <= rains[i] <= 109\n\n"
      ]
    },
    {
      "cell_type": "markdown",
      "metadata": {},
      "source": [
        "## Clarifying Questions",
        "",
        "1. **What should we do if the input array `rains` contains only zeros?** Should we return an empty array, or can we choose any lake to dry?\n\n2. **Are there any constraints on the number of lakes that can be dried on a given day?** For example, can we dry multiple lakes in one day if `rains[i] == 0`?\n\n3. **How should we handle cases where the same lake is indicated multiple times in the `rains` array?** For instance, if `rains` contains multiple entries for the same lake, how do we determine which lakes to dry to avoid flooding?\n\n4. **What is the expected behavior if it is impossible to avoid flooding?** Should we return an empty array in all such cases, or are there specific conditions that would lead to a different output?\n\n5. **Can we assume that the input array `rains` will always contain at least one day of rain?** Or is it possible for the input to consist entirely of zeros?"
      ]
    },
    {
      "cell_type": "markdown",
      "metadata": {},
      "source": [
        "## Test Edge Cases",
        "",
        "Here are 8 important test edge cases for the \"Avoid Flood in The City\" problem:\n\n1. **All Lakes Rain (No Dry Days)**:\n   - **Input**: `rains = [1, 2, 3, 4]`\n   - **Description**: This case tests the scenario where it rains every day without any dry days. The expected output should be `[-1, -1, -1, -1]` as there are no opportunities to dry any lakes.\n\n2. **Multiple Dry Days with No Floods**:\n   - **Input**: `rains = [1, 2, 0, 0, 2, 1]`\n   - **Description**: This case checks if the function can correctly handle multiple dry days and avoid floods by drying lakes strategically. The output can be `[-1, -1, 2, 1, -1, -1]` or any valid combination.\n\n3. **Immediate Flood Scenario**:\n   - **Input**: `rains = [1, 2, 0, 1, 2]`\n   - **Description**: This case tests a situation where no matter which lake is dried on the dry day, a flood is inevitable. The expected output is `[]`.\n\n4. **Single Lake with Rain**:\n   - **Input**: `rains = [1]`\n   - **Description**: This edge case tests the smallest possible input where there is only one day of rain. The expected output should be `[-1]`.\n\n5. **Single Dry Day with Rain Before and After**:\n   - **Input**: `rains = [1, 0, 1]`\n   - **Description**: This case tests the ability to dry a lake when there is only one opportunity. The expected output could be `[-1, 1, -1]` if lake 1 is dried.\n\n6. **All Dry Days**:\n   - **Input**: `rains = [0, 0, 0, 0]`\n   - **Description**: This tests the scenario where there are no rains at all. The output should be an array of any valid lake numbers, e.g., `[1, 1, 1, 1]`.\n\n7. **Maximum Size Input**:\n   - **Input**: `rains = [1] * 100000`\n   - **Description**: This tests the performance of the algorithm with the maximum allowed size of the input array where it rains every day. The expected output should be an array of `[-1]` repeated 100,000 times.\n\n8. **Large Values with Duplicates**:\n   - **Input**: `rains = [1000000000, 1000000000, 0, 1000000000]`\n   - **"
      ]
    },
    {
      "cell_type": "markdown",
      "metadata": {},
      "source": [
        "To solve the \"Avoid Flood in The City\" problem, we need to simulate the process of rainfall and manage the states of lakes to avoid floods. Let's break down the approach step by step.",
        "",
        "### Approach",
        "",
        "1. **Data Structures**:",
        "   - Use a set to keep track of lakes that are currently full.",
        "   - Use a priority queue (min-heap) to store the days when we can dry lakes (i.e., days when `rains[i] == 0`).",
        "",
        "2. **Iterate through the `rains` array**:",
        "   - If `rains[i] > 0`: ",
        "     - Check if this lake is already full (exists in the set). If it is, we have a flood situation, so we return an empty array.",
        "     - Otherwise, add this lake to the set of full lakes.",
        "   - If `rains[i] == 0`:",
        "     - We can dry a lake. If there are full lakes in our set, we can remove one of them and record that we dried this lake (by popping from the min-heap).",
        "     - If there are no full lakes, we can choose to dry any lake; in our case, we will use the first available lake (using a numbering system).",
        "",
        "3. **Final Result**:",
        "   - Construct the result array, filling in `-1` for rainy days and the dried lake numbers for dry days.",
        "",
        "### Python Code Solution"
      ]
    },
    {
      "cell_type": "code",
      "execution_count": null,
      "metadata": {},
      "outputs": [],
      "source": [
        "import heapq",
        "",
        "def avoidFlood(rains):",
        "    # Result array initialized with -1",
        "    result = [-1] * len(rains)",
        "    full_lakes = set()  # Set to keep track of full lakes",
        "    dry_days = []  # Min-heap for days we can dry lakes",
        "",
        "    # Iterate through the rains array",
        "    for day in range(len(rains)):",
        "        lake = rains[day]",
        "        if lake > 0:",
        "            if lake in full_lakes:",
        "                # Flood occurs, return empty array",
        "                return []",
        "            # Mark the lake as full",
        "            full_lakes.add(lake)",
        "            # If we can dry a lake, pop from dry_days",
        "            if dry_days:",
        "                dry_day = heapq.heappop(dry_days)  # Get the earliest day to dry a lake",
        "                result[dry_day] = lake  # We dry this lake",
        "            result[day] = -1  # Rainy day",
        "        else:",
        "            # It's a dry day (rains[i] == 0)",
        "            dry_days.append(day)  # Add this day to the min-heap",
        "",
        "    # For every lake that is full, we need to ensure we dry them",
        "    for lake in full_lakes:",
        "        if not dry_days:",
        "            return []  # If we run out of days to dry lakes, return empty",
        "        dry_day = heapq.heappop(dry_days)  # Get the next available dry day",
        "        result[dry_day] = lake  # We dry this lake",
        "",
        "    return result",
        "",
        "# Example usage:",
        "print(avoidFlood([1,2,0,0,2,1]))  # Output: [-1,-1,2,1,-1,-1]"
      ]
    },
    {
      "cell_type": "markdown",
      "metadata": {},
      "source": [
        "### Time and Space Complexity Analysis",
        "",
        "- **Time Complexity**:",
        "  - The algorithm processes the `rains` array in a single pass (`O(n)`) and utilizes a heap to manage dry days efficiently, which can lead to `O(log k)` time complexity for each insert/pop operation. However, since we only push/pop from the heap a total of `n` times, the overall time complexity is `O(n log n)` in the worst case.",
        "",
        "- **Space Complexity**:",
        "  - The space complexity is mainly determined by the set of full lakes and the dry days heap. In the worst case, we could store `n` lakes in the set and `n` days in the heap, leading to `O(n)` space complexity.",
        "",
        "Overall, this approach efficiently handles the requirements of the problem while maintaining clear logic and structure."
      ]
    },
    {
      "cell_type": "markdown",
      "metadata": {},
      "source": [
        "---",
        "",
        ""
      ]
    },
    {
      "cell_type": "markdown",
      "metadata": {},
      "source": [
        "# Sell Diminishing-Valued Colored Balls (#1648)",
        "",
        "**Difficulty:** Medium  ",
        "**Date:** 2025-08-04 23:51:02  ",
        "**URL:** https://leetcode.com/problems/sell-diminishing-valued-colored-balls/",
        "",
        "---"
      ]
    },
    {
      "cell_type": "markdown",
      "metadata": {},
      "source": [
        "## Problem Description",
        "",
        "You have an inventory of different colored balls, and there is a customer that wants orders balls of any color.\n\nThe customer weirdly values the colored balls. Each colored ball&#39;s value is the number of balls of that color&nbsp;you currently have in your inventory. For example, if you own 6 yellow balls, the customer would pay 6 for the first yellow ball. After the transaction, there are only 5 yellow balls left, so the next yellow ball is then valued at 5 (i.e., the value of the balls decreases as you sell more to the customer).\n\nYou are given an integer array, inventory, where inventory[i] represents the number of balls of the ith color that you initially own. You are also given an integer orders, which represents the total number of balls that the customer wants. You can sell the balls in any order.\n\nReturn the maximum total value that you can attain after selling orders colored balls. As the answer may be too large, return it modulo 109 + 7.\n\n&nbsp;\nExample 1:\n\n\nInput: inventory = [2,5], orders = 4\nOutput: 14\nExplanation: Sell the 1st color 1 time (2) and the 2nd color 3 times (5 + 4 + 3).\nThe maximum total value is 2 + 5 + 4 + 3 = 14.\n\n\nExample 2:\n\n\nInput: inventory = [3,5], orders = 6\nOutput: 19\nExplanation: Sell the 1st color 2 times (3 + 2) and the 2nd color 4 times (5 + 4 + 3 + 2).\nThe maximum total value is 3 + 2 + 5 + 4 + 3 + 2 = 19.\n\n\n&nbsp;\nConstraints:\n\n\n\t1 <= inventory.length <= 105\n\t1 <= inventory[i] <= 109\n\t1 <= orders <= min(sum(inventory[i]), 109)\n\n"
      ]
    },
    {
      "cell_type": "markdown",
      "metadata": {},
      "source": [
        "## Clarifying Questions",
        "",
        "1. **What happens if the total number of balls in the inventory is less than the number of orders?** Should we return a specific value or handle this case differently?\n\n2. **Are there any constraints on the order in which the balls can be sold?** Can we sell balls of any color in any sequence, or are there specific rules we need to follow?\n\n3. **How should we handle cases where multiple colors have the same number of balls?** Does it matter which color we sell first, or can we choose freely?\n\n4. **What is the expected output format?** Should the result be returned as a single integer, and how should we handle the modulo operation with \\(10^9 + 7\\)?\n\n5. **Are there any specific edge cases we should consider, such as when the inventory contains only one color or when all colors have the same number of balls?** How should the algorithm handle these scenarios?"
      ]
    },
    {
      "cell_type": "markdown",
      "metadata": {},
      "source": [
        "## Test Edge Cases",
        "",
        "Here are 8 important test edge cases to consider for the \"Sell Diminishing-Valued Colored Balls\" problem:\n\n1. **Minimum Input Values**:\n   - **Input**: `inventory = [1]`, `orders = 1`\n   - **Description**: Test the smallest possible input where there is only one ball of one color and the customer wants to buy one ball. This checks if the function can handle the minimum constraints correctly.\n\n2. **Single Color, Multiple Orders**:\n   - **Input**: `inventory = [5]`, `orders = 3`\n   - **Description**: Test with a single color where the number of orders is less than the available balls. This checks if the function correctly calculates the diminishing value for multiple sales of the same color.\n\n3. **Multiple Colors, Exact Orders**:\n   - **Input**: `inventory = [3, 4]`, `orders = 7`\n   - **Description**: Test with multiple colors where the total number of balls equals the number of orders. This ensures that the function can distribute the orders optimally across the available colors.\n\n4. **Multiple Colors, More Orders than Balls**:\n   - **Input**: `inventory = [2, 3]`, `orders = 6`\n   - **Description**: Test with multiple colors where the orders exceed the total number of balls available. This checks if the function correctly handles cases where not all orders can be fulfilled.\n\n5. **All Balls of the Same Color**:\n   - **Input**: `inventory = [10, 10, 10]`, `orders = 15`\n   - **Description**: Test with multiple colors but the same number of balls for each color. This checks if the function can handle equal distribution of orders among identical inventory counts.\n\n6. **Large Inventory with Minimum Orders**:\n   - **Input**: `inventory = [1000000000, 1000000000]`, `orders = 1`\n   - **Description**: Test with a very large inventory but only a single order. This checks if the function can handle large numbers without overflow and still return the correct value.\n\n7. **Large Orders with Diminishing Returns**:\n   - **Input**: `inventory = [5, 5, 5]`, `orders = 10`\n   - **Description**: Test with a scenario where the orders are large enough to require diminishing returns from multiple colors. This checks if the function can accurately calculate the total value while accounting for diminishing returns.\n\n8. **Maximum Input Size**:\n   - **Input**: `inventory = [1000000000] * 100000`, `orders = 1000000000`\n   - **Description**: Test with the maximum size of the inventory array and maximum possible values for the balls. This checks if the function can handle performance constraints and large computations efficiently"
      ]
    },
    {
      "cell_type": "markdown",
      "metadata": {},
      "source": [
        "To solve the \"Sell Diminishing-Valued Colored Balls\" problem, we need to maximize the total value we can get from selling a specified number of balls from different colors, where the value of the balls diminishes as we sell more of the same color.",
        "",
        "### Approach:",
        "",
        "1. **Understanding the Problem**:",
        "   - Each colored ball has a value equal to the number of balls of that color left in inventory.",
        "   - As we sell balls of a color, the value of the remaining balls of that color decreases.",
        "   - We need to sell a total of `orders` balls, and we want to maximize the total value obtained from these sales.",
        "",
        "2. **Using a Max-Heap**:",
        "   - We can use a max-heap (priority queue) to always sell the ball with the highest value available. This ensures that we maximize our total value with each sale.",
        "   - Python's `heapq` library provides a min-heap, so we can simulate a max-heap by pushing negative values.",
        "",
        "3. **Selling Balls**:",
        "   - For each ball sold, we get the current maximum value from the heap, sell one ball (decrease its count), and if the count is still greater than zero, push it back into the heap with the updated value.",
        "",
        "4. **Iterate Until Orders are Fulfilled**:",
        "   - We repeat the process of selling the highest-valued ball until we have completed the required number of orders.",
        "",
        "5. **Modulo Operation**:",
        "   - Since the result can be large, we will take the result modulo \\(10^9 + 7\\) as specified.",
        "",
        "### Python Code Solution:"
      ]
    },
    {
      "cell_type": "code",
      "execution_count": null,
      "metadata": {},
      "outputs": [],
      "source": [
        "import heapq",
        "",
        "def maxValue(inventory, orders):",
        "    MOD = 10**9 + 7",
        "    ",
        "    # Use a max-heap (simulate it with negative values)",
        "    max_heap = [-x for x in inventory]",
        "    heapq.heapify(max_heap)  # Create a heap from the list",
        "    ",
        "    total_value = 0",
        "    ",
        "    for _ in range(orders):",
        "        # Get the highest value ball available (negate to get the original value)",
        "        max_value = -heapq.heappop(max_heap)",
        "        ",
        "        # Add the value to the total",
        "        total_value = (total_value + max_value) % MOD",
        "        ",
        "        # Decrease the count of that color and push it back if still available",
        "        if max_value - 1 > 0:",
        "            heapq.heappush(max_heap, -(max_value - 1))",
        "    ",
        "    return total_value"
      ]
    },
    {
      "cell_type": "markdown",
      "metadata": {},
      "source": [
        "### Explanation of the Code:",
        "- We create a max-heap by negating the values of the `inventory` list.",
        "- We then enter a loop that runs for the number of `orders`.",
        "- In each iteration, we pop the maximum value from the heap, add it to our total value, and if there are still balls of that color left, we decrement the count and push it back into the heap.",
        "- Finally, we return the total value modulo \\(10^9 + 7\\).",
        "",
        "### Time and Space Complexity:",
        "- **Time Complexity**: O(orders log n), where `n` is the number of different colored balls. This accounts for the heap operations (push and pop) that are logarithmic in nature.",
        "- **Space Complexity**: O(n) for storing the heap elements, which corresponds to the number of distinct colors in the inventory. ",
        "",
        "This approach efficiently utilizes the max-heap to ensure that we always sell the highest-valued ball available, thereby maximizing our total sales value."
      ]
    },
    {
      "cell_type": "markdown",
      "metadata": {},
      "source": [
        "---",
        "",
        ""
      ]
    },
    {
      "cell_type": "markdown",
      "metadata": {},
      "source": [
        "# Minimize Deviation in Array (#1675)",
        "",
        "**Difficulty:** Hard  ",
        "**Date:** 2025-08-04 23:52:33  ",
        "**URL:** https://leetcode.com/problems/minimize-deviation-in-array/",
        "",
        "---"
      ]
    },
    {
      "cell_type": "markdown",
      "metadata": {},
      "source": [
        "## Problem Description",
        "",
        "You are given an array nums of n positive integers.\n\nYou can perform two types of operations on any element of the array any number of times:\n\n\n\tIf the element is even, divide it by 2.\n\n\t\n\t\tFor example, if the array is [1,2,3,4], then you can do this operation on the last element, and the array will be [1,2,3,2].\n\t\n\t\n\tIf the element is odd, multiply it by 2.\n\t\n\t\tFor example, if the array is [1,2,3,4], then you can do this operation on the first element, and the array will be [2,2,3,4].\n\t\n\t\n\n\nThe deviation of the array is the maximum difference between any two elements in the array.\n\nReturn the minimum deviation the array can have after performing some number of operations.\n\n&nbsp;\nExample 1:\n\n\nInput: nums = [1,2,3,4]\nOutput: 1\nExplanation: You can transform the array to [1,2,3,2], then to [2,2,3,2], then the deviation will be 3 - 2 = 1.\n\n\nExample 2:\n\n\nInput: nums = [4,1,5,20,3]\nOutput: 3\nExplanation: You can transform the array after two operations to [4,2,5,5,3], then the deviation will be 5 - 2 = 3.\n\n\nExample 3:\n\n\nInput: nums = [2,10,8]\nOutput: 3\n\n\n&nbsp;\nConstraints:\n\n\n\tn == nums.length\n\t2 <= n <= 5 * 104\n\t1 <= nums[i] <= 109\n\n"
      ]
    },
    {
      "cell_type": "markdown",
      "metadata": {},
      "source": [
        "## Clarifying Questions",
        "",
        "1. **What is the maximum number of operations we can perform on the elements of the array? Are there any constraints on the number of operations?**\n\n2. **Are there any specific edge cases we should consider, such as arrays with only even or only odd numbers, or arrays containing the same number multiple times?**\n\n3. **Can you clarify how we should handle very large numbers, especially since the input can go up to \\(10^9\\)? Are there any concerns regarding integer overflow in the calculations?**\n\n4. **Is the output expected to be the minimum deviation after performing operations on the original array, or should we return the deviation for all possible transformed versions of the array?**\n\n5. **Should we assume that the operations can be performed in any order, or do we need to follow a specific sequence when applying the operations to minimize the deviation?**"
      ]
    },
    {
      "cell_type": "markdown",
      "metadata": {},
      "source": [
        "## Test Edge Cases",
        "",
        "Here are 8 important test edge cases to consider for the \"Minimize Deviation in Array\" problem:\n\n1. **Minimum Input Size**:\n   - Input: `nums = [1, 1]`\n   - Description: The smallest possible array with two identical elements. This tests the algorithm's ability to handle the minimum size input and check if it correctly identifies that the deviation is already zero.\n\n2. **All Odd Numbers**:\n   - Input: `nums = [1, 3, 5, 7]`\n   - Description: An array consisting entirely of odd numbers. This tests the algorithm's ability to handle the scenario where all numbers need to be multiplied to become even.\n\n3. **All Even Numbers**:\n   - Input: `nums = [2, 4, 6, 8]`\n   - Description: An array consisting entirely of even numbers. This tests the algorithm's ability to handle the scenario where all numbers need to be divided to minimize deviation.\n\n4. **Large Numbers**:\n   - Input: `nums = [10^9, 10^9 - 1, 10^9 - 2]`\n   - Description: An array with very large integers. This tests the algorithm's performance and correctness with maximum input values.\n\n5. **Maximum Size Input**:\n   - Input: `nums = [1, 2, 3, ..., 50000]` (an array of size 50,000)\n   - Description: Tests the algorithm's efficiency and performance with the maximum allowed size of the input array.\n\n6. **Mixed Odd and Even Numbers**:\n   - Input: `nums = [1, 2, 3, 4, 5]`\n   - Description: An array containing a mix of odd and even numbers. This tests the algorithm's ability to handle various transformations and find the optimal deviation.\n\n7. **Duplicates with Mixed Parity**:\n   - Input: `nums = [2, 2, 3, 3]`\n   - Description: An array with duplicate values of both even and odd numbers. This tests how the algorithm deals with duplicates and whether it can minimize deviation effectively.\n\n8. **All Elements the Same**:\n   - Input: `nums = [5, 5, 5, 5]`\n   - Description: An array where all elements are the same odd number. This tests if the algorithm can recognize that the deviation is zero and does not need any operations.\n\nThese edge cases cover a variety of scenarios, including boundary conditions, special values, and performance considerations, ensuring a comprehensive test of the algorithm's robustness and efficiency."
      ]
    },
    {
      "cell_type": "markdown",
      "metadata": {},
      "source": [
        "To solve the problem of minimizing the deviation in an array, we can utilize a combination of priority queues (heaps) and the properties of even and odd numbers. Here’s a step-by-step explanation of the approach:",
        "",
        "### Approach Explanation",
        "",
        "1. **Understanding Deviation**: The deviation of the array is defined as the difference between the maximum and minimum elements. Our goal is to minimize this deviation.",
        "",
        "2. **Operations on Elements**:",
        "   - If an element is even, we can divide it by 2. This operation reduces the number and can potentially minimize the maximum value in the array.",
        "   - If an element is odd, we can multiply it by 2. This operation increases the number and can potentially maximize the minimum value in the array.",
        "",
        "3. **Strategy**:",
        "   - First, we can convert all odd numbers to even by multiplying them by 2.",
        "   - Next, we use a max-heap to keep track of the maximum element in the array and a min variable to track the minimum element.",
        "   - We will repeatedly extract the maximum element from the heap and divide it by 2 (if it is even), and then re-insert it back into the heap. This will continue until we cannot perform the operation anymore (when the maximum is odd).",
        "",
        "4. **Calculating Deviation**: After each operation, we calculate the deviation and keep track of the minimum deviation encountered.",
        "",
        "### Python Code Solution",
        "",
        "Here's the Python code implementing the above approach:"
      ]
    },
    {
      "cell_type": "code",
      "execution_count": null,
      "metadata": {},
      "outputs": [],
      "source": [
        "import heapq",
        "",
        "def minimumDeviation(nums):",
        "    # Step 1: Convert all odd numbers to even by multiplying by 2",
        "    nums = [x * 2 if x % 2 != 0 else x for x in nums]",
        "    ",
        "    # Step 2: Create a max heap (using negative values for max-heap behavior)",
        "    max_heap = [-x for x in nums]",
        "    heapq.heapify(max_heap)",
        "    ",
        "    # Initialize the minimum deviation to a large number",
        "    min_deviation = float('inf')",
        "    ",
        "    # Step 3: Find the minimum value in the array",
        "    min_value = min(nums)",
        "    ",
        "    while True:",
        "        # Step 4: Get the maximum value (in negative to get the actual max)",
        "        max_value = -heapq.heappop(max_heap)",
        "        ",
        "        # Calculate the current deviation",
        "        current_deviation = max_value - min_value",
        "        min_deviation = min(min_deviation, current_deviation)",
        "        ",
        "        # Step 5: If the max value is odd, we cannot divide it further, break the loop",
        "        if max_value % 2 != 0:",
        "            break",
        "        ",
        "        # Step 6: If it's even, we can divide it by 2 and push it back into the heap",
        "        next_value = max_value // 2",
        "        heapq.heappush(max_heap, -next_value)",
        "        ",
        "        # Update the minimum value if needed",
        "        min_value = min(min_value, next_value)",
        "    ",
        "    return min_deviation"
      ]
    },
    {
      "cell_type": "markdown",
      "metadata": {},
      "source": [
        "### Time and Space Complexity Analysis",
        "",
        "- **Time Complexity**: ",
        "  - Converting odd numbers to even takes O(n).",
        "  - Building the max-heap takes O(n).",
        "  - The while loop runs as long as we can continue to divide the maximum element (which is logarithmic with respect to the maximum value). In the worst case, each element could be halved multiple times and there are \\( O(\\log(\\text{max\\_value})) \\) operations, where `max_value` is the largest element in the input. Therefore, the total complexity is \\( O(n \\log(\\text{max\\_value})) \\).",
        "",
        "- **Space Complexity**: ",
        "  - We use a max-heap to store the elements, which takes O(n) space. Therefore, the space complexity is O(n).",
        "",
        "This solution efficiently minimizes the deviation in the array by leveraging heaps, ensuring that we can always access and modify the maximum element quickly."
      ]
    },
    {
      "cell_type": "markdown",
      "metadata": {},
      "source": [
        "---",
        "",
        ""
      ]
    },
    {
      "cell_type": "markdown",
      "metadata": {},
      "source": [
        "# Number of Orders in the Backlog (#1801)",
        "",
        "**Difficulty:** Medium  ",
        "**Date:** 2025-08-04 23:55:44  ",
        "**URL:** https://leetcode.com/problems/number-of-orders-in-the-backlog/",
        "",
        "---"
      ]
    },
    {
      "cell_type": "markdown",
      "metadata": {},
      "source": [
        "## Problem Description",
        "",
        "You are given a 2D integer array orders, where each orders[i] = [pricei, amounti, orderTypei] denotes that amounti orders have been placed of type orderTypei at the price pricei. The orderTypei is:\r\n\r\n\r\n\t0 if it is a batch of buy orders, or\r\n\t1 if it is a batch of sell orders.\r\n\r\n\r\nNote that orders[i] represents a batch of amounti independent orders with the same price and order type. All orders represented by orders[i] will be placed before all orders represented by orders[i+1] for all valid i.\r\n\r\nThere is a backlog that consists of orders that have not been executed. The backlog is initially empty. When an order is placed, the following happens:\r\n\r\n\r\n\tIf the order is a buy order, you look at the sell order with the smallest price in the backlog. If that sell order&#39;s price is smaller than or equal to the current buy order&#39;s price, they will match and be executed, and that sell order will be removed from the backlog. Else, the buy order is added to the backlog.\r\n\tVice versa, if the order is a sell order, you look at the buy order with the largest price in the backlog. If that buy order&#39;s price is larger than or equal to the current sell order&#39;s price, they will match and be executed, and that buy order will be removed from the backlog. Else, the sell order is added to the backlog.\r\n\r\n\r\nReturn the total amount of orders in the backlog after placing all the orders from the input. Since this number can be large, return it modulo 109 + 7.\r\n\r\n&nbsp;\r\nExample 1:\r\n\r\n\r\nInput: orders = [[10,5,0],[15,2,1],[25,1,1],[30,4,0]]\r\nOutput: 6\r\nExplanation: Here is what happens with the orders:\r\n- 5 orders of type buy with price 10 are placed. There are no sell orders, so the 5 orders are added to the backlog.\r\n- 2 orders of type sell with price 15 are placed. There are no buy orders with prices larger than or equal to 15, so the 2 orders are added to the backlog.\r\n- 1 order of type sell with price 25 is placed. There are no buy orders with prices larger than or equal to 25 in the backlog, so this order is added to the backlog.\r\n- 4 orders of type buy with price 30 are placed. The first 2 orders are matched with the 2 sell orders of the least price, which is 15 and these 2 sell orders are removed from the backlog. The 3rd order is matched with the sell order of the least price, which is 25 and this sell order is removed from the backlog. Then, there are no more sell orders in the backlog, so the 4th order is added to the backlog.\r\nFinally, the backlog has 5 buy orders with price 10, and 1 buy order with price 30. So the total number of orders in the backlog is 6.\r\n\r\n\r\nExample 2:\r\n\r\n\r\nInput: orders = [[7,1000000000,1],[15,3,0],[5,999999995,0],[5,1,1]]\r\nOutput: 999999984\r\nExplanation: Here is what happens with the orders:\r\n- 109 orders of type sell with price 7 are placed. There are no buy orders, so the 109 orders are added to the backlog.\r\n- 3 orders of type buy with price 15 are placed. They are matched with the 3 sell orders with the least price which is 7, and those 3 sell orders are removed from the backlog.\r\n- 999999995 orders of type buy with price 5 are placed. The least price of a sell order is 7, so the 999999995 orders are added to the backlog.\r\n- 1 order of type sell with price 5 is placed. It is matched with the buy order of the highest price, which is 5, and that buy order is removed from the backlog.\r\nFinally, the backlog has (1000000000-3) sell orders with price 7, and (999999995-1) buy orders with price 5. So the total number of orders = 1999999991, which is equal to 999999984 % (109 + 7).\r\n\r\n\r\n&nbsp;\r\nConstraints:\r\n\r\n\r\n\t1 <= orders.length <= 105\r\n\torders[i].length == 3\r\n\t1 <= pricei, amounti <= 109\r\n\torderTypei is either 0 or 1.\r\n"
      ]
    },
    {
      "cell_type": "markdown",
      "metadata": {},
      "source": [
        "## Clarifying Questions",
        "",
        "1. **What should we do if the total number of orders in the backlog exceeds the maximum integer limit?** Are there any specific constraints or behaviors we need to consider in such cases?\n\n2. **How should we handle cases where multiple buy or sell orders have the same price?** Should we prioritize them in any specific order, or can we treat them as equal?\n\n3. **Are there any assumptions about the order of execution for buy and sell orders?** For example, if two orders can match, do we always execute the one that was placed first?\n\n4. **What should we return if there are no orders in the backlog after processing all input orders?** Should we return 0, or is there a different expected output?\n\n5. **Can we assume that the input will always be valid according to the constraints provided?** For example, will there always be at least one order, and will the values for price and amount always be within the specified ranges?"
      ]
    },
    {
      "cell_type": "markdown",
      "metadata": {},
      "source": [
        "## Test Edge Cases",
        "",
        "Here are several important test edge cases to consider for the \"Number of Orders in the Backlog\" problem:\n\n1. **Empty Orders**:\n   - **Input**: `orders = []`\n   - **Description**: Test the behavior when no orders are provided. The expected output should be `0`.\n\n2. **Single Order**:\n   - **Input**: `orders = [[10, 5, 0]]`\n   - **Description**: Test with a single buy order. The expected output should be `5`, as all orders go into the backlog.\n\n3. **Single Sell Order**:\n   - **Input**: `orders = [[15, 3, 1]]`\n   - **Description**: Test with a single sell order. The expected output should be `3`, as all orders go into the backlog.\n\n4. **Exact Match Orders**:\n   - **Input**: `orders = [[10, 5, 0], [10, 5, 1]]`\n   - **Description**: Test with buy and sell orders at the same price. The expected output should be `0`, as all orders should match and be executed.\n\n5. **All Buy Orders**:\n   - **Input**: `orders = [[10, 5, 0], [15, 3, 0], [20, 2, 0]]`\n   - **Description**: Test with multiple buy orders only. The expected output should be `10`, as all orders go into the backlog.\n\n6. **All Sell Orders**:\n   - **Input**: `orders = [[10, 5, 1], [15, 3, 1], [20, 2, 1]]`\n   - **Description**: Test with multiple sell orders only. The expected output should be `10`, as all orders go into the backlog.\n\n7. **Large Orders with No Matches**:\n   - **Input**: `orders = [[1, 1000000000, 0], [2, 1000000000, 1]]`\n   - **Description**: Test with large amounts of orders that cannot match. The expected output should be `2000000000`, as both orders remain in the backlog.\n\n8. **Maximum Size Orders**:\n   - **Input**: `orders = [[1, 1, 0]] * 100000`\n   - **Description**: Test with the maximum number of orders (100,000) of the same type. The expected output should be `100000`, as all orders go into the backlog.\n\n9. **Interleaved Orders with Partial Matches**:\n   - **Input**: `orders = [[10, 5, 0], [15, 3, 1], [20, 2, 1], [25, 4, 0]]`"
      ]
    },
    {
      "cell_type": "markdown",
      "metadata": {},
      "source": [
        "To solve the problem of counting the number of orders in the backlog after processing a series of buy and sell orders, we can use the following approach:",
        "",
        "### Approach Explanation",
        "",
        "1. **Data Structures**: We will use two priority queues (heaps) to manage the buy and sell orders:",
        "   - A max-heap for buy orders (to always get the highest price buy order).",
        "   - A min-heap for sell orders (to always get the lowest price sell order).",
        "",
        "2. **Processing Orders**:",
        "   - For each order in the list:",
        "     - If it is a buy order (orderType = 0):",
        "       - Check if there are any sell orders in the backlog. If the lowest sell order is less than or equal to the current buy price, match as many orders as possible. Otherwise, add the buy order to the backlog.",
        "     - If it is a sell order (orderType = 1):",
        "       - Check if there are any buy orders in the backlog. If the highest buy order is greater than or equal to the current sell price, match as many orders as possible. Otherwise, add the sell order to the backlog.",
        "",
        "3. **Final Count**: After processing all orders, sum the remaining amounts in both heaps to get the total number of orders in the backlog.",
        "",
        "4. **Modulo Operation**: Since the result can be large, return the total count modulo \\(10^9 + 7\\).",
        "",
        "### Python Code Solution",
        "",
        "Here is the Python code implementing the above logic:"
      ]
    },
    {
      "cell_type": "code",
      "execution_count": null,
      "metadata": {},
      "outputs": [],
      "source": [
        "import heapq",
        "",
        "def getNumberOfBacklogOrders(orders):",
        "    # Modulo value",
        "    MOD = 10**9 + 7",
        "    ",
        "    # Max-heap for buy orders (we negate the price to use Python's min-heap as max-heap)",
        "    buy_orders = []",
        "    # Min-heap for sell orders",
        "    sell_orders = []",
        "    ",
        "    for price, amount, order_type in orders:",
        "        if order_type == 0:  # Buy order",
        "            # Execute matching sell orders",
        "            while amount > 0 and sell_orders and sell_orders[0][0] <= price:",
        "                sell_price, sell_amount = heapq.heappop(sell_orders)",
        "                if sell_amount <= amount:",
        "                    amount -= sell_amount  # match this sell order completely",
        "                else:",
        "                    sell_amount -= amount  # partially match",
        "                    heapq.heappush(sell_orders, (sell_price, sell_amount))",
        "                    amount = 0",
        "            ",
        "            if amount > 0:  # If there's still remaining buy amount, add to backlog",
        "                heapq.heappush(buy_orders, (-price, amount))  # Negate price for max-heap",
        "",
        "        else:  # Sell order",
        "            # Execute matching buy orders",
        "            while amount > 0 and buy_orders and -buy_orders[0][0] >= price:",
        "                buy_price, buy_amount = heapq.heappop(buy_orders)",
        "                buy_amount = -buy_amount  # Re-negate to get original amount",
        "                if buy_amount <= amount:",
        "                    amount -= buy_amount  # match this buy order completely",
        "                else:",
        "                    buy_amount -= amount  # partially match",
        "                    heapq.heappush(buy_orders, (-buy_price, -buy_amount))",
        "                    amount = 0",
        "            ",
        "            if amount > 0:  # If there's still remaining sell amount, add to backlog",
        "                heapq.heappush(sell_orders, (price, amount))",
        "    ",
        "    # Calculate the total number of orders in backlog",
        "    total_backlog = 0",
        "    ",
        "    while buy_orders:",
        "        total_backlog = (total_backlog + -buy_orders[0][1]) % MOD",
        "        heapq.heappop(buy_orders)",
        "    ",
        "    while sell_orders:",
        "        total_backlog = (total_backlog + sell_orders[0][1]) % MOD",
        "        heapq.heappop(sell_orders)",
        "",
        "    return total_backlog"
      ]
    },
    {
      "cell_type": "markdown",
      "metadata": {},
      "source": [
        "### Time and Space Complexity Analysis",
        "",
        "- **Time Complexity**:",
        "  - Each order can lead to a series of heap operations (insertions and deletions). In the worst case, each order results in a logarithmic number of operations due to the nature of heaps.",
        "  - If \\( n \\) is the number of orders, the time complexity is \\( O(n \\log n) \\).",
        "",
        "- **Space Complexity**:",
        "  - The space complexity is \\( O(n) \\) as we may need to store all the orders in the heaps in the worst case.",
        "",
        "This approach efficiently processes the orders and maintains the backlog using heaps, ensuring that we can always match orders optimally based on their prices."
      ]
    },
    {
      "cell_type": "markdown",
      "metadata": {},
      "source": [
        "---",
        "",
        ""
      ]
    },
    {
      "cell_type": "markdown",
      "metadata": {},
      "source": [
        "# Single-Threaded CPU (#1834)",
        "",
        "**Difficulty:** Medium  ",
        "**Date:** 2025-08-05 08:48:23  ",
        "**URL:** https://leetcode.com/problems/single-threaded-cpu/",
        "",
        "---"
      ]
    },
    {
      "cell_type": "markdown",
      "metadata": {},
      "source": [
        "## Problem Description",
        "",
        "You are given n​​​​​​ tasks labeled from 0 to n - 1 represented by a 2D integer array tasks, where tasks[i] = [enqueueTimei, processingTimei] means that the i​​​​​​th​​​​ task will be available to process at enqueueTimei and will take processingTimei to finish processing.\n\nYou have a single-threaded CPU that can process at most one task at a time and will act in the following way:\n\n\n\tIf the CPU is idle and there are no available tasks to process, the CPU remains idle.\n\tIf the CPU is idle and there are available tasks, the CPU will choose the one with the shortest processing time. If multiple tasks have the same shortest processing time, it will choose the task with the smallest index.\n\tOnce a task is started, the CPU will process the entire task without stopping.\n\tThe CPU can finish a task then start a new one instantly.\n\n\nReturn the order in which the CPU will process the tasks.\n\n&nbsp;\nExample 1:\n\n\nInput: tasks = [[1,2],[2,4],[3,2],[4,1]]\nOutput: [0,2,3,1]\nExplanation: The events go as follows: \n- At time = 1, task 0 is available to process. Available tasks = {0}.\n- Also at time = 1, the idle CPU starts processing task 0. Available tasks = {}.\n- At time = 2, task 1 is available to process. Available tasks = {1}.\n- At time = 3, task 2 is available to process. Available tasks = {1, 2}.\n- Also at time = 3, the CPU finishes task 0 and starts processing task 2 as it is the shortest. Available tasks = {1}.\n- At time = 4, task 3 is available to process. Available tasks = {1, 3}.\n- At time = 5, the CPU finishes task 2 and starts processing task 3 as it is the shortest. Available tasks = {1}.\n- At time = 6, the CPU finishes task 3 and starts processing task 1. Available tasks = {}.\n- At time = 10, the CPU finishes task 1 and becomes idle.\n\n\nExample 2:\n\n\nInput: tasks = [[7,10],[7,12],[7,5],[7,4],[7,2]]\nOutput: [4,3,2,0,1]\nExplanation: The events go as follows:\n- At time = 7, all the tasks become available. Available tasks = {0,1,2,3,4}.\n- Also at time = 7, the idle CPU starts processing task 4. Available tasks = {0,1,2,3}.\n- At time = 9, the CPU finishes task 4 and starts processing task 3. Available tasks = {0,1,2}.\n- At time = 13, the CPU finishes task 3 and starts processing task 2. Available tasks = {0,1}.\n- At time = 18, the CPU finishes task 2 and starts processing task 0. Available tasks = {1}.\n- At time = 28, the CPU finishes task 0 and starts processing task 1. Available tasks = {}.\n- At time = 40, the CPU finishes task 1 and becomes idle.\n\n\n&nbsp;\nConstraints:\n\n\n\ttasks.length == n\n\t1 <= n <= 105\n\t1 <= enqueueTimei, processingTimei <= 109\n\n"
      ]
    },
    {
      "cell_type": "markdown",
      "metadata": {},
      "source": [
        "## Clarifying Questions",
        "",
        "1. **What happens if two tasks have the same enqueue time and processing time?** Should the CPU prioritize based on the index, or is there a different rule for such cases?\n\n2. **Are there any constraints on the maximum number of tasks or their processing times?** For instance, can we assume that the processing times will always be less than or equal to the enqueue times?\n\n3. **How should the CPU behave if there are no tasks available at a certain time?** Should it remain idle until the next task becomes available, or is there a specific time limit after which it should stop waiting?\n\n4. **Can we assume that the input will always be valid according to the given constraints?** For example, will the length of the tasks array always match the number of tasks specified?\n\n5. **What is the expected output format?** Should the output be a list of task indices in the order they are processed, or is there a specific format (like a string or JSON) that we should adhere to?"
      ]
    },
    {
      "cell_type": "markdown",
      "metadata": {},
      "source": [
        "## Test Edge Cases",
        "",
        "Here are important test edge cases to consider for the \"Single-Threaded CPU\" problem:\n\n1. **Single Task**: \n   - Input: `tasks = [[1, 5]]`\n   - Description: Tests the simplest case with only one task. The output should be `[0]` since there is only one task to process.\n\n2. **Multiple Tasks with Same Enqueue Time**:\n   - Input: `tasks = [[1, 3], [1, 2], [1, 1]]`\n   - Description: All tasks become available at the same time. Tests if the CPU correctly chooses the task with the shortest processing time first, leading to an output of `[2, 1, 0]`.\n\n3. **All Tasks with Same Processing Time**:\n   - Input: `tasks = [[1, 5], [2, 5], [3, 5]]`\n   - Description: Tests the scenario where all tasks have the same processing time but different enqueue times. The output should reflect the order of enqueue times: `[0, 1, 2]`.\n\n4. **Tasks with Varying Enqueue Times and Processing Times**:\n   - Input: `tasks = [[1, 2], [2, 1], [3, 3], [4, 2]]`\n   - Description: Tests a mix of enqueue and processing times to ensure the CPU selects tasks correctly based on the rules. The expected output is `[0, 1, 3, 2]`.\n\n5. **Large Input Size**:\n   - Input: `tasks = [[i, 1] for i in range(1, 100001)]`\n   - Description: Tests the performance of the algorithm with the maximum input size. Each task has a unique enqueue time and a processing time of 1. The expected output should be a list from `0` to `99999`.\n\n6. **Tasks with Maximum Processing Time**:\n   - Input: `tasks = [[1, 1000000000], [2, 1000000000], [3, 1000000000]]`\n   - Description: Tests how the algorithm handles tasks with the maximum processing time allowed. The expected output should be `[0, 1, 2]` since all tasks have the same processing time.\n\n7. **Idle Periods**:\n   - Input: `tasks = [[1, 2], [10, 1], [15, 2]]`\n   - Description: Tests the scenario where there are idle periods between tasks. The expected output should be `[0, 1, 2]`, as the CPU will be idle until task 1 is available.\n\n8. **Tasks with Zero Processing Time**:\n   - Input: `tasks = [[1, 0], [2, 3], [3, 2]]`\n   - Description"
      ]
    },
    {
      "cell_type": "markdown",
      "metadata": {},
      "source": [
        "To solve the \"Single-Threaded CPU\" problem, we need to simulate the behavior of a single-threaded CPU that processes tasks based on their availability and processing time. The approach can be broken down into the following steps:",
        "",
        "### Approach",
        "",
        "1. **Understanding the Input**: The input is a list of tasks, where each task has two components: `enqueueTime` (when the task becomes available) and `processingTime` (how long it takes to complete the task).",
        "",
        "2. **Data Structure**: We can use a priority queue (min-heap) to manage the tasks that are available to process. The priority queue will allow us to efficiently retrieve the task with the shortest processing time.",
        "",
        "3. **Simulation**:",
        "   - We'll maintain a variable to track the current time and an index to track which tasks are yet to be processed.",
        "   - At any given time, if the CPU is idle and there are no tasks available, it will remain idle until the next task becomes available.",
        "   - If there are available tasks, we will push them to the priority queue based on their `processingTime`. If two tasks have the same `processingTime`, the task with the smallest index is prioritized.",
        "   - We will process the task at the top of the priority queue, updating the current time accordingly.",
        "   - Continue this until all tasks are processed.",
        "",
        "4. **Result Compilation**: The order in which tasks are processed will be collected in a list, which will be returned at the end.",
        "",
        "### Python Code Solution"
      ]
    },
    {
      "cell_type": "code",
      "execution_count": null,
      "metadata": {},
      "outputs": [],
      "source": [
        "import heapq",
        "",
        "def getOrder(tasks):",
        "    # Create a list of tasks with their index",
        "    indexed_tasks = [(enqueueTime, processingTime, i) for i, (enqueueTime, processingTime) in enumerate(tasks)]",
        "    # Sort the tasks based on their enqueue time",
        "    indexed_tasks.sort()",
        "    ",
        "    result = []  # To store the order of task execution",
        "    min_heap = []  # Min-heap to store available tasks",
        "    current_time = 0  # Current time in the simulation",
        "    i = 0  # Pointer for the tasks",
        "",
        "    while i < len(indexed_tasks) or min_heap:",
        "        # Add all the tasks that have become available by the current_time",
        "        while i < len(indexed_tasks) and indexed_tasks[i][0] <= current_time:",
        "            # Push (processingTime, index) into the min-heap",
        "            enqueueTime, processingTime, index = indexed_tasks[i]",
        "            heapq.heappush(min_heap, (processingTime, index))",
        "            i += 1",
        "        ",
        "        if min_heap:",
        "            # Get the task with the smallest processing time",
        "            processingTime, index = heapq.heappop(min_heap)",
        "            result.append(index)  # Append the index of the task to the result",
        "            current_time += processingTime  # Update the current time",
        "        else:",
        "            # If no tasks are available, move the time to the next task's enqueue time",
        "            current_time = indexed_tasks[i][0]",
        "",
        "    return result",
        "",
        "# Example usage",
        "tasks1 = [[1,2],[2,4],[3,2],[4,1]]",
        "print(getOrder(tasks1))  # Output: [0, 2, 3, 1]",
        "",
        "tasks2 = [[7,10],[7,12],[7,5],[7,4],[7,2]]",
        "print(getOrder(tasks2))  # Output: [4, 3, 2, 0, 1]"
      ]
    },
    {
      "cell_type": "markdown",
      "metadata": {},
      "source": [
        "### Time and Space Complexity Analysis",
        "",
        "1. **Time Complexity**:",
        "   - Sorting the tasks takes \\(O(n \\log n)\\).",
        "   - Each task is pushed and popped from the min-heap at most once, which takes \\(O(\\log n)\\) for each operation.",
        "   - Therefore, the overall time complexity is \\(O(n \\log n + n \\log n) = O(n \\log n)\\).",
        "",
        "2. **Space Complexity**:",
        "   - The space used for the `indexed_tasks` list is \\(O(n)\\).",
        "   - The `min_heap` can also store at most \\(O(n)\\) tasks in the worst case.",
        "   - Thus, the overall space complexity is \\(O(n)\\).",
        "",
        "This solution efficiently processes tasks while adhering to the rules given in the problem statement."
      ]
    },
    {
      "cell_type": "markdown",
      "metadata": {},
      "source": [
        "---",
        "",
        ""
      ]
    },
    {
      "cell_type": "markdown",
      "metadata": {},
      "source": [
        "# Seat Reservation Manager (#1845)",
        "",
        "**Difficulty:** Medium  ",
        "**Date:** 2025-08-05 08:48:36  ",
        "**URL:** https://leetcode.com/problems/seat-reservation-manager/",
        "",
        "---"
      ]
    },
    {
      "cell_type": "markdown",
      "metadata": {},
      "source": [
        "## Problem Description",
        "",
        "Design a system that manages the reservation state of n seats that are numbered from 1 to n.\n\nImplement the SeatManager class:\n\n\n\tSeatManager(int n) Initializes a SeatManager object that will manage n seats numbered from 1 to n. All seats are initially available.\n\tint reserve() Fetches the smallest-numbered unreserved seat, reserves it, and returns its number.\n\tvoid unreserve(int seatNumber) Unreserves the seat with the given seatNumber.\n\n\n&nbsp;\nExample 1:\n\n\nInput\n[&quot;SeatManager&quot;, &quot;reserve&quot;, &quot;reserve&quot;, &quot;unreserve&quot;, &quot;reserve&quot;, &quot;reserve&quot;, &quot;reserve&quot;, &quot;reserve&quot;, &quot;unreserve&quot;]\n[[5], [], [], [2], [], [], [], [], [5]]\nOutput\n[null, 1, 2, null, 2, 3, 4, 5, null]\n\nExplanation\nSeatManager seatManager = new SeatManager(5); // Initializes a SeatManager with 5 seats.\nseatManager.reserve();    // All seats are available, so return the lowest numbered seat, which is 1.\nseatManager.reserve();    // The available seats are [2,3,4,5], so return the lowest of them, which is 2.\nseatManager.unreserve(2); // Unreserve seat 2, so now the available seats are [2,3,4,5].\nseatManager.reserve();    // The available seats are [2,3,4,5], so return the lowest of them, which is 2.\nseatManager.reserve();    // The available seats are [3,4,5], so return the lowest of them, which is 3.\nseatManager.reserve();    // The available seats are [4,5], so return the lowest of them, which is 4.\nseatManager.reserve();    // The only available seat is seat 5, so return 5.\nseatManager.unreserve(5); // Unreserve seat 5, so now the available seats are [5].\n\n\n&nbsp;\nConstraints:\n\n\n\t1 <= n <= 105\n\t1 <= seatNumber <= n\n\tFor each call to reserve, it is guaranteed that there will be at least one unreserved seat.\n\tFor each call to unreserve, it is guaranteed that seatNumber will be reserved.\n\tAt most 105 calls in total will be made to reserve and unreserve.\n\n"
      ]
    },
    {
      "cell_type": "markdown",
      "metadata": {},
      "source": [
        "## Clarifying Questions",
        "",
        "1. **What happens if the `unreserve` method is called with a seat number that is already unreserved?** Is there any specific behavior we need to implement in this case, or can we assume that the input will always be valid as per the constraints?\n\n2. **Are there any specific performance requirements for the `reserve` and `unreserve` methods?** For example, should they operate in constant time, or is logarithmic time acceptable given the constraints?\n\n3. **Can you clarify the expected behavior of the system if multiple calls to `reserve` and `unreserve` are made in quick succession?** Should the system handle concurrent calls, or is it assumed that calls will be made sequentially?\n\n4. **What should be returned if the `unreserve` method is called with a seat number that is out of the valid range (e.g., less than 1 or greater than n)?** Should we handle this case, or can we assume that inputs will always be within the specified constraints?\n\n5. **Are there any specific edge cases we should consider when initializing the `SeatManager` with the minimum or maximum number of seats (e.g., n = 1 or n = 100,000)?** Should we ensure that our implementation handles these edge cases gracefully?"
      ]
    },
    {
      "cell_type": "markdown",
      "metadata": {},
      "source": [
        "## Test Edge Cases",
        "",
        "Here are 8 important test edge cases to consider for the Seat Reservation Manager problem:\n\n1. **Minimum Input Case**: \n   - **Input**: `SeatManager(1); reserve(); unreserve(1);`\n   - **Description**: Test the smallest possible input where there is only one seat. This checks the basic functionality of reserving and unreserving a single seat.\n\n2. **All Seats Reserved and Unreserved**:\n   - **Input**: `SeatManager(3); reserve(); reserve(); reserve(); unreserve(1); unreserve(2); unreserve(3);`\n   - **Description**: Reserve all seats and then unreserve them in the order they were reserved. This tests if the system correctly tracks the state of all seats.\n\n3. **Reserve and Unreserve in Random Order**:\n   - **Input**: `SeatManager(5); reserve(); reserve(); unreserve(1); reserve(); unreserve(2); reserve();`\n   - **Description**: Test reserving and unreserving seats in a non-sequential order to ensure the system maintains the correct available seats.\n\n4. **Multiple Unreserves for the Same Seat**:\n   - **Input**: `SeatManager(4); reserve(); reserve(); unreserve(1); unreserve(1);`\n   - **Description**: Attempt to unreserve the same seat multiple times. This checks if the system handles redundant unreserve calls gracefully.\n\n5. **Maximum Size Input**:\n   - **Input**: `SeatManager(100000); for i in range(100000): reserve();`\n   - **Description**: Test the performance and memory handling when initializing the maximum number of seats and reserving all of them. This checks for efficiency and potential memory issues.\n\n6. **Unreserving Non-Reserved Seat**:\n   - **Input**: `SeatManager(3); reserve(); unreserve(1); unreserve(2);`\n   - **Description**: Try to unreserve a seat that was never reserved. This tests the robustness of the unreserve function and ensures it does not crash or produce incorrect behavior.\n\n7. **Sequential Reserve and Unreserve**:\n   - **Input**: `SeatManager(5); for i in range(5): reserve(); for i in range(5): unreserve(i+1);`\n   - **Description**: Reserve all seats in sequence and then unreserve them in the same order. This tests the basic functionality of the system under normal conditions.\n\n8. **Interleaved Operations**:\n   - **Input**: `SeatManager(5); reserve(); unreserve(1); reserve(); reserve(); unreserve(2); reserve();`\n   - **Description**: Perform a mix of reserve and unreserve operations in a non-linear fashion to ensure the system can handle interleaved operations correctly.\n\nThese test cases cover a range of scenarios,"
      ]
    },
    {
      "cell_type": "markdown",
      "metadata": {},
      "source": [
        "### 1. Explanation of the Approach",
        "",
        "To solve the \"Seat Reservation Manager\" problem efficiently, we need to manage a dynamic list of available and reserved seats. The main operations required are:",
        "",
        "- **Reserve a seat**: This operation fetches the smallest-numbered available seat, marks it as reserved, and returns its number.",
        "- **Unreserve a seat**: This operation marks a specified seat as available again.",
        "",
        "Given that the total number of seats can be up to \\(10^5\\) and the number of operations can also be up to \\(10^5\\), we need to ensure that our solution can handle these operations efficiently.",
        "",
        "**Data Structure Choice**:",
        "",
        "1. **Min-Heap**: We'll use a min-heap (priority queue) to keep track of the available seats. This structure allows us to efficiently retrieve and remove the smallest element (the lowest-numbered unreserved seat) in \\(O(\\log k)\\) time, where \\(k\\) is the number of available seats.",
        "",
        "2. **Set/Boolean Array**: We can also maintain a set or a boolean array to quickly check if a seat is reserved or available. However, since we will be managing reservations primarily through the min-heap, the heap will suffice for our needs.",
        "",
        "### 2. Python Code Solution with Comments"
      ]
    },
    {
      "cell_type": "code",
      "execution_count": null,
      "metadata": {},
      "outputs": [],
      "source": [
        "import heapq",
        "",
        "class SeatManager:",
        "    def __init__(self, n: int):",
        "        # Initialize the SeatManager with n seats.",
        "        self.available_seats = list(range(1, n + 1))  # List of available seats",
        "        heapq.heapify(self.available_seats)  # Transform the list into a heap",
        "",
        "    def reserve(self) -> int:",
        "        # Fetch the smallest-numbered unreserved seat",
        "        return heapq.heappop(self.available_seats)  # Pop the smallest seat from the heap",
        "",
        "    def unreserve(self, seatNumber: int) -> None:",
        "        # Unreserve the seat with the given seatNumber",
        "        heapq.heappush(self.available_seats, seatNumber)  # Push the seat back into the heap",
        "",
        "# Example usage:",
        "seatManager = SeatManager(5)  # Initializes a SeatManager with 5 seats",
        "print(seatManager.reserve())    # Returns 1",
        "print(seatManager.reserve())    # Returns 2",
        "seatManager.unreserve(2)        # Unreserves seat 2",
        "print(seatManager.reserve())    # Returns 2 again",
        "print(seatManager.reserve())    # Returns 3",
        "print(seatManager.reserve())    # Returns 4",
        "print(seatManager.reserve())    # Returns 5",
        "seatManager.unreserve(5)        # Unreserves seat 5"
      ]
    },
    {
      "cell_type": "markdown",
      "metadata": {},
      "source": [
        "### 3. Time and Space Complexity Analysis",
        "",
        "- **Time Complexity**:",
        "  - `__init__`: \\(O(n)\\) to create a list of seats and \\(O(n)\\) to heapify it, resulting in \\(O(n)\\) overall for initialization.",
        "  - `reserve`: \\(O(\\log k)\\), where \\(k\\) is the number of available seats, due to the `heappop` operation.",
        "  - `unreserve`: \\(O(\\log k)\\) for the `heappush` operation when adding back the seat to the heap.",
        "  ",
        "  In the worst case, if all operations are reserve/unreserve, the complexity for \\(m\\) operations will be \\(O(m \\log k)\\).",
        "",
        "- **Space Complexity**:",
        "  - The space complexity is \\(O(n)\\) as we store the available seats in a heap structure. In the worst case, the heap will contain all \\(n\\) seats.",
        "",
        "Overall, this approach is efficient and fits well within the constraints provided by the problem."
      ]
    },
    {
      "cell_type": "markdown",
      "metadata": {},
      "source": [
        "---",
        "",
        ""
      ]
    },
    {
      "cell_type": "markdown",
      "metadata": {},
      "source": [
        "# Minimum Interval to Include Each Query (#1851)",
        "",
        "**Difficulty:** Hard  ",
        "**Date:** 2025-08-05 08:48:47  ",
        "**URL:** https://leetcode.com/problems/minimum-interval-to-include-each-query/",
        "",
        "---"
      ]
    },
    {
      "cell_type": "markdown",
      "metadata": {},
      "source": [
        "## Problem Description",
        "",
        "You are given a 2D integer array intervals, where intervals[i] = [lefti, righti] describes the ith interval starting at lefti and ending at righti (inclusive). The size of an interval is defined as the number of integers it contains, or more formally righti - lefti + 1.\n\nYou are also given an integer array queries. The answer to the jth query is the size of the smallest interval i such that lefti <= queries[j] <= righti. If no such interval exists, the answer is -1.\n\nReturn an array containing the answers to the queries.\n\n&nbsp;\nExample 1:\n\n\nInput: intervals = [[1,4],[2,4],[3,6],[4,4]], queries = [2,3,4,5]\nOutput: [3,3,1,4]\nExplanation: The queries are processed as follows:\n- Query = 2: The interval [2,4] is the smallest interval containing 2. The answer is 4 - 2 + 1 = 3.\n- Query = 3: The interval [2,4] is the smallest interval containing 3. The answer is 4 - 2 + 1 = 3.\n- Query = 4: The interval [4,4] is the smallest interval containing 4. The answer is 4 - 4 + 1 = 1.\n- Query = 5: The interval [3,6] is the smallest interval containing 5. The answer is 6 - 3 + 1 = 4.\n\n\nExample 2:\n\n\nInput: intervals = [[2,3],[2,5],[1,8],[20,25]], queries = [2,19,5,22]\nOutput: [2,-1,4,6]\nExplanation: The queries are processed as follows:\n- Query = 2: The interval [2,3] is the smallest interval containing 2. The answer is 3 - 2 + 1 = 2.\n- Query = 19: None of the intervals contain 19. The answer is -1.\n- Query = 5: The interval [2,5] is the smallest interval containing 5. The answer is 5 - 2 + 1 = 4.\n- Query = 22: The interval [20,25] is the smallest interval containing 22. The answer is 25 - 20 + 1 = 6.\n\n\n&nbsp;\nConstraints:\n\n\n\t1 <= intervals.length <= 105\n\t1 <= queries.length <= 105\n\tintervals[i].length == 2\n\t1 <= lefti <= righti <= 107\n\t1 <= queries[j] <= 107\n\n"
      ]
    },
    {
      "cell_type": "markdown",
      "metadata": {},
      "source": [
        "## Clarifying Questions",
        "",
        "1. **What should be the output if multiple intervals contain the query value but have different sizes?** Should we return the size of the smallest interval or any of the matching intervals?\n\n2. **How should we handle cases where the intervals are overlapping?** For example, if two intervals contain the same query value, should we always select the one that appears first in the input list?\n\n3. **What should the output be for queries that fall outside the range of all intervals?** Is it guaranteed that we will always return -1 for such cases, or are there any special conditions to consider?\n\n4. **Are there any specific constraints on the values of the intervals or queries that we should be aware of beyond those mentioned?** For instance, can we assume that the intervals are sorted or that there are no duplicate intervals?\n\n5. **What is the expected time complexity for the solution?** Should we aim for a specific performance level given the constraints on the size of intervals and queries, especially considering the upper limit of 100,000 for both?"
      ]
    },
    {
      "cell_type": "markdown",
      "metadata": {},
      "source": [
        "## Test Edge Cases",
        "",
        "Here are 8 important edge cases to consider for the \"Minimum Interval to Include Each Query\" problem:\n\n1. **Empty Intervals and Queries**:\n   - **Input**: `intervals = []`, `queries = []`\n   - **Description**: Tests the behavior when both intervals and queries are empty. The expected output should be an empty array.\n\n2. **Single Interval and Single Query**:\n   - **Input**: `intervals = [[1, 5]]`, `queries = [3]`\n   - **Description**: Tests the simplest case where there is one interval and one query that falls within that interval. The expected output should be `[5 - 1 + 1 = 5]`.\n\n3. **Single Interval and Query Outside the Interval**:\n   - **Input**: `intervals = [[1, 5]]`, `queries = [6]`\n   - **Description**: Tests a case where the query does not fall within the interval. The expected output should be `[-1]`.\n\n4. **Multiple Intervals with Overlapping Ranges**:\n   - **Input**: `intervals = [[1, 5], [2, 6], [3, 4]]`, `queries = [2, 3, 5]`\n   - **Description**: Tests how the function handles overlapping intervals. The expected output should be `[5 - 2 + 1 = 4, 5 - 3 + 1 = 3, 5 - 1 + 1 = 5]`.\n\n5. **Maximum Size Intervals and Queries**:\n   - **Input**: `intervals = [[1, 10000000]]`, `queries = [1, 10000000]`\n   - **Description**: Tests the performance and correctness with maximum constraints. The expected outputs should be `[10000000 - 1 + 1 = 10000000, 10000000 - 1 + 1 = 10000000]`.\n\n6. **Queries Outside All Intervals**:\n   - **Input**: `intervals = [[10, 20], [30, 40]]`, `queries = [5, 25, 45]`\n   - **Description**: Tests the scenario where all queries are outside the provided intervals. The expected output should be `[-1, -1, -1]`.\n\n7. **Duplicate Intervals**:\n   - **Input**: `intervals = [[1, 3], [1, 3], [2, 4]]`, `queries = [1, 2, 3, 4]`\n   - **Description**: Tests how the function handles duplicate intervals. The expected output should be `[3 - 1 + 1 = 3, 4 - 2 + 1 = 3, 3 -"
      ]
    },
    {
      "cell_type": "markdown",
      "metadata": {},
      "source": [
        "To solve the problem of finding the minimum interval to include each query, we can follow these steps:",
        "",
        "### Approach:",
        "",
        "1. **Understanding the Problem**: We need to determine the size of the smallest interval that contains a given query value. If no such interval exists for a query, we return -1.",
        "",
        "2. **Sorting the Intervals**: First, we will sort the intervals based on their starting points. If two intervals have the same starting point, we will sort by their ending point in ascending order. This will help in efficiently locating the intervals that can potentially contain a query.",
        "",
        "3. **Binary Search for Queries**: For each query, we can use binary search to quickly find the relevant intervals:",
        "   - We will maintain a list of the sizes of the intervals, which will help us easily get the size of the smallest interval that contains the query.",
        "   - We will utilize a priority queue (min-heap) to track the active intervals that can contain the current query.",
        "",
        "4. **Iterating Through Queries**: For each query:",
        "   - Use binary search to find intervals that might contain the query.",
        "   - Maintain a min-heap to keep track of the sizes of these intervals, allowing us to efficiently retrieve the smallest size.",
        "",
        "5. **Output the Results**: After processing all queries, we will return the results as an array.",
        "",
        "### Python Code Solution:"
      ]
    },
    {
      "cell_type": "code",
      "execution_count": null,
      "metadata": {},
      "outputs": [],
      "source": [
        "from bisect import bisect_right",
        "import heapq",
        "",
        "def minInterval(intervals, queries):",
        "    # Step 1: Sort intervals by their starting point, then by their ending point",
        "    intervals.sort(key=lambda x: (x[0], x[1]))",
        "    ",
        "    # Step 2: Prepare results for each query",
        "    results = [-1] * len(queries)",
        "    queries_with_indices = sorted((q, i) for i, q in enumerate(queries))",
        "    ",
        "    # Min-heap to store the sizes of active intervals",
        "    min_heap = []",
        "    ",
        "    # Step 3: Pointer to track intervals",
        "    j = 0",
        "    ",
        "    # Step 4: Iterate through each query",
        "    for query, original_index in queries_with_indices:",
        "        # Add all intervals that can contain the current query to the heap",
        "        while j < len(intervals) and intervals[j][0] <= query:",
        "            left, right = intervals[j]",
        "            # Calculate the size of the interval",
        "            size = right - left + 1",
        "            # Add the interval size to the heap",
        "            heapq.heappush(min_heap, (size, right))",
        "            j += 1",
        "        ",
        "        # Remove intervals from the heap that cannot contain the current query",
        "        while min_heap and min_heap[0][1] < query:",
        "            heapq.heappop(min_heap)",
        "        ",
        "        # If there's any valid interval in the heap, the smallest one will be at the top",
        "        if min_heap:",
        "            results[original_index] = min_heap[0][0]",
        "    ",
        "    return results",
        "",
        "# Example usage",
        "intervals1 = [[1,4],[2,4],[3,6],[4,4]]",
        "queries1 = [2,3,4,5]",
        "print(minInterval(intervals1, queries1))  # Output: [3, 3, 1, 4]",
        "",
        "intervals2 = [[2,3],[2,5],[1,8],[20,25]]",
        "queries2 = [2,19,5,22]",
        "print(minInterval(intervals2, queries2))  # Output: [2, -1, 4, 6]"
      ]
    },
    {
      "cell_type": "markdown",
      "metadata": {},
      "source": [
        "### Time and Space Complexity Analysis:",
        "",
        "- **Time Complexity**:",
        "  - Sorting the intervals takes \\(O(N \\log N)\\), where \\(N\\) is the number of intervals.",
        "  - Sorting the queries takes \\(O(M \\log M)\\), where \\(M\\) is the number of queries.",
        "  - Each query is processed in \\(O(\\log N)\\) for inserting into the heap and \\(O(k)\\) for removing invalid intervals, where \\(k\\) is the number of intervals processed until that query.",
        "  - Overall, the time complexity is \\(O((N + M) \\log(N + M))\\).",
        "",
        "- **Space Complexity**:",
        "  - The space used by the min-heap can go up to \\(O(N)\\) in the worst case.",
        "  - The space for the results array is \\(O(M)\\).",
        "  - Therefore, the total space complexity is \\(O(N + M)\\).",
        "",
        "This approach effectively utilizes sorting and a priority queue to efficiently determine the minimum interval sizes for the queries."
      ]
    },
    {
      "cell_type": "markdown",
      "metadata": {},
      "source": [
        "---",
        "",
        ""
      ]
    },
    {
      "cell_type": "markdown",
      "metadata": {},
      "source": [
        "# Process Tasks Using Servers (#1882)",
        "",
        "**Difficulty:** Medium  ",
        "**Date:** 2025-08-05 08:49:34  ",
        "**URL:** https://leetcode.com/problems/process-tasks-using-servers/",
        "",
        "---"
      ]
    },
    {
      "cell_type": "markdown",
      "metadata": {},
      "source": [
        "## Problem Description",
        "",
        "You are given two 0-indexed integer arrays servers and tasks of lengths n​​​​​​ and m​​​​​​ respectively. servers[i] is the weight of the i​​​​​​th​​​​ server, and tasks[j] is the time needed to process the j​​​​​​th​​​​ task in seconds.\n\nTasks are assigned to the servers using a task queue. Initially, all servers are free, and the queue is empty.\n\nAt second j, the jth task is inserted into the queue (starting with the 0th task being inserted at second 0). As long as there are free servers and the queue is not empty, the task in the front of the queue will be assigned to a free server with the smallest weight, and in case of a tie, it is assigned to a free server with the smallest index.\n\nIf there are no free servers and the queue is not empty, we wait until a server becomes free and immediately assign the next task. If multiple servers become free at the same time, then multiple tasks from the queue will be assigned in order of insertion following the weight and index priorities above.\n\nA server that is assigned task j at second t will be free again at second t + tasks[j].\n\nBuild an array ans​​​​ of length m, where ans[j] is the index of the server the j​​​​​​th task will be assigned to.\n\nReturn the array ans​​​​.\n\n&nbsp;\nExample 1:\n\n\nInput: servers = [3,3,2], tasks = [1,2,3,2,1,2]\nOutput: [2,2,0,2,1,2]\nExplanation: Events in chronological order go as follows:\n- At second 0, task 0 is added and processed using server 2 until second 1.\n- At second 1, server 2 becomes free. Task 1 is added and processed using server 2 until second 3.\n- At second 2, task 2 is added and processed using server 0 until second 5.\n- At second 3, server 2 becomes free. Task 3 is added and processed using server 2 until second 5.\n- At second 4, task 4 is added and processed using server 1 until second 5.\n- At second 5, all servers become free. Task 5 is added and processed using server 2 until second 7.\n\nExample 2:\n\n\nInput: servers = [5,1,4,3,2], tasks = [2,1,2,4,5,2,1]\nOutput: [1,4,1,4,1,3,2]\nExplanation: Events in chronological order go as follows: \n- At second 0, task 0 is added and processed using server 1 until second 2.\n- At second 1, task 1 is added and processed using server 4 until second 2.\n- At second 2, servers 1 and 4 become free. Task 2 is added and processed using server 1 until second 4. \n- At second 3, task 3 is added and processed using server 4 until second 7.\n- At second 4, server 1 becomes free. Task 4 is added and processed using server 1 until second 9. \n- At second 5, task 5 is added and processed using server 3 until second 7.\n- At second 6, task 6 is added and processed using server 2 until second 7.\n\n\n&nbsp;\nConstraints:\n\n\n\tservers.length == n\n\ttasks.length == m\n\t1 <= n, m <= 2 * 105\n\t1 <= servers[i], tasks[j] <= 2 * 105\n\n"
      ]
    },
    {
      "cell_type": "markdown",
      "metadata": {},
      "source": [
        "## Clarifying Questions",
        "",
        "1. **What should we do if all servers are busy when a new task arrives?** Is there a specific time we need to wait before re-evaluating the task queue, or do we immediately assign the task as soon as a server becomes free?\n\n2. **How should we handle the case where multiple servers become free at the same time?** Should we prioritize based on server weight first, and then by index, or is there a different approach we should take?\n\n3. **Are there any constraints on the values of the servers and tasks beyond the given limits?** For example, can the weights of the servers or the processing times of the tasks be the same, and how should we handle such cases?\n\n4. **What is the expected format of the output array?** Should it contain the indices of the servers in the order the tasks are processed, and are there any specific requirements for the output format (e.g., 0-indexed vs. 1-indexed)?\n\n5. **Is there a maximum number of tasks or servers that we should consider for performance optimization?** Given the constraints, are there any specific performance benchmarks we should aim for, such as time complexity or space complexity?"
      ]
    },
    {
      "cell_type": "markdown",
      "metadata": {},
      "source": [
        "## Test Edge Cases",
        "",
        "Here are 8 important test edge cases to consider for the \"Process Tasks Using Servers\" problem:\n\n1. **Minimum Input Size**:\n   - **Input**: `servers = [1]`, `tasks = [1]`\n   - **Description**: Test with the smallest possible input where there is one server and one task. This checks if the basic functionality works.\n\n2. **Single Server with Multiple Tasks**:\n   - **Input**: `servers = [5]`, `tasks = [1, 2, 3, 4]`\n   - **Description**: A single server must handle multiple tasks. This tests the server's ability to process tasks sequentially and ensures that tasks are queued correctly.\n\n3. **Multiple Servers with Identical Weights**:\n   - **Input**: `servers = [3, 3, 3]`, `tasks = [2, 1, 2, 1]`\n   - **Description**: All servers have the same weight. This checks if the implementation correctly assigns tasks based on the server index when weights are tied.\n\n4. **Tasks Longer than Server Processing Time**:\n   - **Input**: `servers = [1, 2]`, `tasks = [3, 3, 3]`\n   - **Description**: All tasks take longer to process than the time it takes for the servers to become free. This tests the handling of task queuing and server availability.\n\n5. **All Tasks Have the Same Duration**:\n   - **Input**: `servers = [2, 3, 1]`, `tasks = [2, 2, 2, 2, 2]`\n   - **Description**: All tasks require the same processing time. This checks if the algorithm prioritizes servers correctly based on weight and index.\n\n6. **Maximum Input Size**:\n   - **Input**: `servers = [1] * 200000`, `tasks = [1] * 200000`\n   - **Description**: Test with the maximum constraints to evaluate performance and ensure the solution can handle large inputs without timing out or running into memory issues.\n\n7. **Immediate Server Availability**:\n   - **Input**: `servers = [1, 2, 3]`, `tasks = [1, 1, 1]`\n   - **Description**: Each task is short enough that servers become available immediately after completing the previous task. This tests the rapid reassignment of tasks.\n\n8. **Tasks Arriving After All Servers are Busy**:\n   - **Input**: `servers = [2, 3]`, `tasks = [3, 3, 3, 3]`\n   - **Description**: The first two tasks occupy the servers, and the subsequent tasks must wait. This checks the queuing mechanism and ensures that tasks are assigned correctly when servers"
      ]
    },
    {
      "cell_type": "markdown",
      "metadata": {},
      "source": [
        "### 1. Approach Explanation",
        "",
        "To tackle the problem of assigning tasks to servers based on their weights and availability, we can approach it using priority queues (heaps). The main steps are as follows:",
        "",
        "1. **Initialization**: ",
        "   - Use a min-heap for the servers to efficiently fetch the server with the smallest weight (and index in case of a tie).",
        "   - Use another min-heap for the busy servers to track when they will become free.",
        "",
        "2. **Processing Tasks**: ",
        "   - Loop through each task and at each time step:",
        "     - Add the task to the queue.",
        "     - Assign available servers to tasks from the queue based on the server weights and indices.",
        "     - If a server becomes free, we check if there are tasks waiting in the queue and assign them immediately.",
        "     - Keep track of when each server will be free after processing a task.",
        "",
        "3. **Output**: ",
        "   - Create a result list to store the server index assigned to each task.",
        "",
        "This approach ensures that we always select the most optimal server for each task in O(log n) time due to the heap operations.",
        "",
        "### 2. Python Code Solution",
        "",
        "Here's the Python code implementing the above approach:"
      ]
    },
    {
      "cell_type": "code",
      "execution_count": null,
      "metadata": {},
      "outputs": [],
      "source": [
        "import heapq",
        "",
        "def assignTasks(servers, tasks):",
        "    n = len(servers)",
        "    m = len(tasks)",
        "    ",
        "    # Min-heap for free servers (weight, index)",
        "    free_servers = [(servers[i], i) for i in range(n)]",
        "    heapq.heapify(free_servers)",
        "    ",
        "    # Min-heap for busy servers (becomes_free_time, weight, index)",
        "    busy_servers = []",
        "    ",
        "    # Result array",
        "    ans = [0] * m",
        "    ",
        "    # Time counter",
        "    current_time = 0",
        "    ",
        "    for j in range(m):",
        "        # Current task processing time",
        "        task_time = tasks[j]",
        "        ",
        "        # Free up any servers that are done processing",
        "        while busy_servers and busy_servers[0][0] <= current_time:",
        "            becomes_free_time, weight, index = heapq.heappop(busy_servers)",
        "            heapq.heappush(free_servers, (weight, index))",
        "        ",
        "        # Add the new task to the current time",
        "        current_time = max(current_time, j)",
        "        ",
        "        # Assign the task to a free server if available",
        "        if free_servers:",
        "            weight, index = heapq.heappop(free_servers)",
        "            ans[j] = index",
        "            # Schedule when this server will be free",
        "            heapq.heappush(busy_servers, (current_time + task_time, weight, index))",
        "        else:",
        "            # No free server, wait until one becomes free",
        "            becomes_free_time, weight, index = heapq.heappop(busy_servers)",
        "            current_time = becomes_free_time  # Fast forward time",
        "            ans[j] = index",
        "            # Schedule when this server will be free",
        "            heapq.heappush(busy_servers, (current_time + task_time, weight, index))",
        "    ",
        "    return ans"
      ]
    },
    {
      "cell_type": "markdown",
      "metadata": {},
      "source": [
        "### 3. Time and Space Complexity Analysis",
        "",
        "**Time Complexity**:",
        "- The algorithm processes each task in a loop (O(m)).",
        "- For each task, we potentially perform heap operations (insert or remove) which take O(log n) time. ",
        "- Therefore, the overall time complexity is O(m log n), where `m` is the number of tasks and `n` is the number of servers.",
        "",
        "**Space Complexity**:",
        "- We use two heaps: one for free servers and one for busy servers. Each can store up to `n` servers.",
        "- Thus, the space complexity is O(n) for the heaps.",
        "- The result array `ans` requires O(m) space.",
        "- Overall space complexity is O(n + m), but since `m` can be larger than `n`, we can simplify this to O(m) in the context of this problem.",
        "",
        "This solution efficiently assigns tasks to servers while adhering to the given constraints."
      ]
    },
    {
      "cell_type": "markdown",
      "metadata": {},
      "source": [
        "---",
        "",
        ""
      ]
    },
    {
      "cell_type": "markdown",
      "metadata": {},
      "source": [
        "# The Number of the Smallest Unoccupied Chair (#1942)",
        "",
        "**Difficulty:** Medium  ",
        "**Date:** 2025-08-05 08:50:57  ",
        "**URL:** https://leetcode.com/problems/the-number-of-the-smallest-unoccupied-chair/",
        "",
        "---"
      ]
    },
    {
      "cell_type": "markdown",
      "metadata": {},
      "source": [
        "## Problem Description",
        "",
        "There is a party where n friends numbered from 0 to n - 1 are attending. There is an infinite number of chairs in this party that are numbered from 0 to infinity. When a friend arrives at the party, they sit on the unoccupied chair with the smallest number.\n\n\n\tFor example, if chairs 0, 1, and 5 are occupied when a friend comes, they will sit on chair number 2.\n\n\nWhen a friend leaves the party, their chair becomes unoccupied at the moment they leave. If another friend arrives at that same moment, they can sit in that chair.\n\nYou are given a 0-indexed 2D integer array times where times[i] = [arrivali, leavingi], indicating the arrival and leaving times of the ith friend respectively, and an integer targetFriend. All arrival times are distinct.\n\nReturn the chair number that the friend numbered targetFriend will sit on.\n\n&nbsp;\nExample 1:\n\n\nInput: times = [[1,4],[2,3],[4,6]], targetFriend = 1\nOutput: 1\nExplanation: \n- Friend 0 arrives at time 1 and sits on chair 0.\n- Friend 1 arrives at time 2 and sits on chair 1.\n- Friend 1 leaves at time 3 and chair 1 becomes empty.\n- Friend 0 leaves at time 4 and chair 0 becomes empty.\n- Friend 2 arrives at time 4 and sits on chair 0.\nSince friend 1 sat on chair 1, we return 1.\n\n\nExample 2:\n\n\nInput: times = [[3,10],[1,5],[2,6]], targetFriend = 0\nOutput: 2\nExplanation: \n- Friend 1 arrives at time 1 and sits on chair 0.\n- Friend 2 arrives at time 2 and sits on chair 1.\n- Friend 0 arrives at time 3 and sits on chair 2.\n- Friend 1 leaves at time 5 and chair 0 becomes empty.\n- Friend 2 leaves at time 6 and chair 1 becomes empty.\n- Friend 0 leaves at time 10 and chair 2 becomes empty.\nSince friend 0 sat on chair 2, we return 2.\n\n\n&nbsp;\nConstraints:\n\n\n\tn == times.length\n\t2 <= n <= 104\n\ttimes[i].length == 2\n\t1 <= arrivali < leavingi <= 105\n\t0 <= targetFriend <= n - 1\n\tEach arrivali time is distinct.\n\n"
      ]
    },
    {
      "cell_type": "markdown",
      "metadata": {},
      "source": [
        "## Clarifying Questions",
        "",
        "1. **What happens if two friends arrive at the exact same time?** Should we assume that they will choose the smallest available chair based on their order of arrival, or is there a specific rule for such cases?\n\n2. **Is there a limit on the number of friends or chairs?** While the problem states there are an infinite number of chairs, are there any constraints on the number of friends beyond the given range (2 <= n <= 10^4)?\n\n3. **How should we handle the scenario where a friend leaves just as another friend arrives?** If a friend leaves at the same time another friend arrives, can the arriving friend occupy the chair that just became unoccupied immediately?\n\n4. **Are the arrival and leaving times guaranteed to be in chronological order?** Should we assume that the input list `times` is sorted by arrival times, or do we need to sort it ourselves?\n\n5. **What is the expected output format?** Should the output be a single integer representing the chair number, and are there any specific requirements for handling invalid inputs (if any)?"
      ]
    },
    {
      "cell_type": "markdown",
      "metadata": {},
      "source": [
        "## Test Edge Cases",
        "",
        "Here are 8 important edge cases to consider when solving the problem of finding the number of the smallest unoccupied chair:\n\n1. **Minimum Input Size**:\n   - **Input**: `times = [[1, 2]], targetFriend = 0`\n   - **Description**: The simplest case with only one friend arriving and leaving. This tests the basic functionality of the algorithm.\n\n2. **Immediate Occupation and Release**:\n   - **Input**: `times = [[1, 2], [2, 3]], targetFriend = 1`\n   - **Description**: The second friend arrives immediately after the first friend leaves. This tests if the algorithm correctly handles immediate chair availability.\n\n3. **Multiple Friends Leaving Before Target Arrives**:\n   - **Input**: `times = [[1, 3], [2, 4], [3, 5]], targetFriend = 2`\n   - **Description**: The target friend arrives after all previous friends have left. This checks if the algorithm can correctly assign chairs when all previous chairs are free.\n\n4. **All Friends Arriving and Leaving in Sequence**:\n   - **Input**: `times = [[1, 5], [2, 6], [3, 7]], targetFriend = 1`\n   - **Description**: Friends arrive in sequence, and the target friend arrives in the middle. This tests the algorithm's ability to manage chair assignments dynamically.\n\n5. **Maximum Input Size**:\n   - **Input**: `times = [[i, i + 1] for i in range(1, 10001)], targetFriend = 9999`\n   - **Description**: Tests the algorithm's performance with the maximum constraints (10,000 friends). This checks for efficiency and performance under load.\n\n6. **Overlapping Times**:\n   - **Input**: `times = [[1, 5], [2, 3], [4, 6]], targetFriend = 1`\n   - **Description**: Friends have overlapping times, testing the algorithm's ability to handle situations where multiple friends are present at the same time.\n\n7. **Target Friend Arrives After All Others Have Left**:\n   - **Input**: `times = [[1, 2], [3, 4], [5, 6]], targetFriend = 2`\n   - **Description**: The target friend arrives after all other friends have left. This tests if the algorithm can correctly identify the smallest unoccupied chair.\n\n8. **Non-Sequential Arrival and Leaving Times**:\n   - **Input**: `times = [[1, 10], [2, 5], [3, 8], [6, 9]], targetFriend = 3`\n   - **Description**: Friends arrive and leave at non-sequential times, testing the algorithm's ability to track chair availability accurately over time"
      ]
    },
    {
      "cell_type": "markdown",
      "metadata": {},
      "source": [
        "To solve the problem of finding the chair number that a specific friend will sit on during a party, we can follow a systematic approach. Here's a detailed breakdown of the solution:",
        "",
        "### Approach:",
        "",
        "1. **Event Simulation**: We will simulate the arrival and departure of friends using a priority queue (min-heap) to keep track of the unoccupied chairs. We will also maintain a list of the chairs each friend occupies.",
        "",
        "2. **Sorting Events**: We will first sort the friends based on their arrival times. This allows us to process them in the order they arrive at the party.",
        "",
        "3. **Min-Heap for Free Chairs**: We will use a min-heap to efficiently get the smallest unoccupied chair. If a friend leaves, we will add their chair back to the heap.",
        "",
        "4. **Processing Each Friend**: For each friend:",
        "   - Check if there are any friends that have left before the current friend's arrival (i.e., free chairs).",
        "   - If there are free chairs, the friend will sit in the smallest chair available.",
        "   - If there are no free chairs (or if they arrive after all previous friends have left), they will sit in the next available chair (i.e., the current maximum chair number).",
        "",
        "5. **Tracking Chair Assignments**: We will keep track of which chair each friend occupies. If the target friend arrives, we will note down the chair they occupy and return that chair number at the end.",
        "",
        "### Python Code Solution:"
      ]
    },
    {
      "cell_type": "code",
      "execution_count": null,
      "metadata": {},
      "outputs": [],
      "source": [
        "import heapq",
        "",
        "def smallestChair(times, targetFriend):",
        "    # Sort friends based on arrival times",
        "    times.sort(key=lambda x: x[0])",
        "    ",
        "    # Min-heap to track available chairs",
        "    free_chairs = []",
        "    ",
        "    # This will store the chair numbers that each friend occupies",
        "    chairs = {}",
        "    ",
        "    # The next chair to be assigned",
        "    next_chair = 0",
        "    ",
        "    # Process each friend's arrival and leaving time",
        "    for arrival, leaving in times:",
        "        # Free up chairs for friends who have left before the current friend's arrival",
        "        while free_chairs and free_chairs[0] <= arrival:",
        "            heapq.heappop(free_chairs)",
        "        ",
        "        # If we have free chairs, assign the smallest one",
        "        if free_chairs:",
        "            chair = heapq.heappop(free_chairs)",
        "        else:",
        "            # Otherwise, assign the next available chair",
        "            chair = next_chair",
        "            next_chair += 1",
        "        ",
        "        # Record which chair the current friend occupies",
        "        chairs[times.index([arrival, leaving])] = chair",
        "        ",
        "        # If the current friend is the target friend, return the chair number",
        "        if times.index([arrival, leaving]) == targetFriend:",
        "            return chair",
        "        ",
        "        # The chair will become free after the friend leaves",
        "        heapq.heappush(free_chairs, leaving)",
        "",
        "    return -1  # This line should never be reached if input constraints are followed",
        "",
        "# Example usage:",
        "print(smallestChair([[1,4],[2,3],[4,6]], 1))  # Output: 1",
        "print(smallestChair([[3,10],[1,5],[2,6]], 0))  # Output: 2"
      ]
    },
    {
      "cell_type": "markdown",
      "metadata": {},
      "source": [
        "### Time and Space Complexity Analysis:",
        "",
        "- **Time Complexity**: ",
        "  - Sorting the `times` takes \\(O(n \\log n)\\).",
        "  - Each friend has an arrival and a departure, which we handle using a priority queue (min-heap). Each insertion and deletion from the heap takes \\(O(\\log n)\\). In the worst case, we could be inserting and removing chairs for every friend, leading to a total time complexity of \\(O(n \\log n)\\).",
        "  - Thus, the overall time complexity is \\(O(n \\log n)\\).",
        "",
        "- **Space Complexity**: ",
        "  - We use space for the `free_chairs` heap, which in the worst case could store all chairs, leading to \\(O(n)\\) space.",
        "  - Additionally, we store the `chairs` mapping, which also consumes \\(O(n)\\) space.",
        "  - Therefore, the overall space complexity is \\(O(n)\\).",
        "",
        "This approach efficiently simulates the party scenario while ensuring that we correctly track the smallest unoccupied chair for each friend."
      ]
    },
    {
      "cell_type": "markdown",
      "metadata": {},
      "source": [
        "---",
        "",
        ""
      ]
    },
    {
      "cell_type": "markdown",
      "metadata": {},
      "source": [
        "# Remove Stones to Minimize the Total (#1962)",
        "",
        "**Difficulty:** Medium  ",
        "**Date:** 2025-08-05 08:51:26  ",
        "**URL:** https://leetcode.com/problems/remove-stones-to-minimize-the-total/",
        "",
        "---"
      ]
    },
    {
      "cell_type": "markdown",
      "metadata": {},
      "source": [
        "## Problem Description",
        "",
        "You are given a 0-indexed integer array piles, where piles[i] represents the number of stones in the ith pile, and an integer k. You should apply the following operation exactly k times:\n\n\n\tChoose any piles[i] and remove floor(piles[i] / 2) stones from it.\n\n\nNotice that you can apply the operation on the same pile more than once.\n\nReturn the minimum possible total number of stones remaining after applying the k operations.\n\nfloor(x) is the largest&nbsp;integer that is smaller than or equal to x (i.e., rounds x&nbsp;down).\n\n&nbsp;\nExample 1:\n\n\nInput: piles = [5,4,9], k = 2\nOutput: 12\nExplanation:&nbsp;Steps of a possible scenario are:\n- Apply the operation on pile 2. The resulting piles are [5,4,5].\n- Apply the operation on pile 0. The resulting piles are [3,4,5].\nThe total number of stones in [3,4,5] is 12.\n\n\nExample 2:\n\n\nInput: piles = [4,3,6,7], k = 3\nOutput: 12\nExplanation:&nbsp;Steps of a possible scenario are:\n- Apply the operation on pile 2. The resulting piles are [4,3,3,7].\n- Apply the operation on pile 3. The resulting piles are [4,3,3,4].\n- Apply the operation on pile 0. The resulting piles are [2,3,3,4].\nThe total number of stones in [2,3,3,4] is 12.\n\n\n&nbsp;\nConstraints:\n\n\n\t1 <= piles.length <= 105\n\t1 <= piles[i] <= 104\n\t1 <= k <= 105\n\n"
      ]
    },
    {
      "cell_type": "markdown",
      "metadata": {},
      "source": [
        "## Clarifying Questions",
        "",
        "1. Are there any constraints on how many times we can apply the operation to the same pile, or can we apply it multiple times to the same pile in a single operation?\n\n2. What should we do if `k` is greater than the total number of stones available across all piles? Should we still perform `k` operations, and if so, how should we handle empty piles?\n\n3. Is there a specific way to handle cases where `piles[i]` is 1, since `floor(1 / 2)` results in 0 stones being removed? Should we consider this when calculating the minimum possible total?\n\n4. Are there any specific performance requirements or time limits for the solution, given the constraints on the size of the input array and the values of `k`?\n\n5. Should the output be the total number of stones remaining after exactly `k` operations, or is it acceptable to return an intermediate state if it results in the minimum total?"
      ]
    },
    {
      "cell_type": "markdown",
      "metadata": {},
      "source": [
        "## Test Edge Cases",
        "",
        "Here are 8 important test edge cases to consider for the \"Remove Stones to Minimize the Total\" problem:\n\n1. **Single Pile, Minimum Stones**:\n   - **Input**: `piles = [1], k = 1`\n   - **Description**: Tests the scenario with the smallest possible input size and value. The expected output should be `0` after removing the only stone.\n\n2. **Single Pile, Multiple Operations**:\n   - **Input**: `piles = [10], k = 5`\n   - **Description**: Tests the behavior when multiple operations are performed on a single pile. The expected output should be `0` since all stones can be removed.\n\n3. **Multiple Piles with Same Number of Stones**:\n   - **Input**: `piles = [4, 4, 4], k = 3`\n   - **Description**: Tests the scenario where all piles have the same number of stones. This checks if the algorithm can handle duplicates effectively. The expected output should be `9`.\n\n4. **Maximum Size Input**:\n   - **Input**: `piles = [10000] * 100000, k = 100000`\n   - **Description**: Tests the performance and efficiency of the solution with the maximum constraints. The expected output should be calculated based on the operations performed.\n\n5. **All Piles Are Zero**:\n   - **Input**: `piles = [0, 0, 0], k = 3`\n   - **Description**: Tests how the solution handles piles that contain zero stones. The expected output should be `0`.\n\n6. **Large Values with Minimum k**:\n   - **Input**: `piles = [10000, 10000, 10000], k = 1`\n   - **Description**: Tests the scenario where the piles have the maximum value but only one operation is allowed. The expected output should be `20000`.\n\n7. **Maximum k with Minimum Piles**:\n   - **Input**: `piles = [1, 2], k = 100000`\n   - **Description**: Tests the behavior when `k` is much larger than the total number of stones available. The expected output should be `0` since all stones can be removed.\n\n8. **Piles with Increasing Values**:\n   - **Input**: `piles = [1, 2, 3, 4, 5], k = 5`\n   - **Description**: Tests the algorithm's ability to choose optimally from piles with increasing values. The expected output should be calculated based on the optimal operations performed.\n\nThese edge cases cover a variety of scenarios, including boundary conditions, special values, and performance considerations, ensuring a comprehensive test of the solution's robustness."
      ]
    },
    {
      "cell_type": "markdown",
      "metadata": {},
      "source": [
        "### Approach Explanation",
        "",
        "To solve the problem of minimizing the total number of stones after performing `k` operations, we can use a max-heap (priority queue) to efficiently keep track of the largest pile of stones. The reason for this is straightforward: in each operation, we want to remove stones from the pile that has the most stones, as this will have the most significant impact on reducing the total sum.",
        "",
        "Here's a step-by-step breakdown of the approach:",
        "",
        "1. **Max-Heap Creation**: We will convert the given list of piles into a max-heap. Since Python's `heapq` module implements a min-heap, we will store negative values to simulate a max-heap.",
        "",
        "2. **Perform Operations**: For `k` times, we will:",
        "   - Extract the largest pile (the smallest negative number).",
        "   - Calculate the number of stones to remove, which is `floor(piles[i] / 2)`.",
        "   - Update the pile size after removal.",
        "   - Push the updated pile size (negated back to maintain max-heap property) back into the heap.",
        "",
        "3. **Calculate Total Stones**: After performing all operations, we will sum up the remaining stones in all piles to get the result.",
        "",
        "### Python Code Solution",
        "",
        "Here is the Python implementation of the above approach:"
      ]
    },
    {
      "cell_type": "code",
      "execution_count": null,
      "metadata": {},
      "outputs": [],
      "source": [
        "import heapq",
        "",
        "def minStoneSum(piles, k):",
        "    # Create a max-heap using negative values",
        "    max_heap = [-pile for pile in piles]",
        "    heapq.heapify(max_heap)",
        "    ",
        "    # Perform k operations",
        "    for _ in range(k):",
        "        # Extract the largest pile (as negative)",
        "        largest_pile = -heapq.heappop(max_heap)",
        "        ",
        "        # Calculate the number of stones to remove",
        "        stones_to_remove = largest_pile // 2",
        "        ",
        "        # Update the largest pile after removing stones",
        "        largest_pile -= stones_to_remove",
        "        ",
        "        # Push the updated pile back into the heap (as negative)",
        "        heapq.heappush(max_heap, -largest_pile)",
        "    ",
        "    # Calculate the total remaining stones",
        "    total_stones = -sum(max_heap)  # Convert back to positive values for summation",
        "    return total_stones",
        "",
        "# Example usage:",
        "piles1 = [5, 4, 9]",
        "k1 = 2",
        "print(minStoneSum(piles1, k1))  # Output: 12",
        "",
        "piles2 = [4, 3, 6, 7]",
        "k2 = 3",
        "print(minStoneSum(piles2, k2))  # Output: 12"
      ]
    },
    {
      "cell_type": "markdown",
      "metadata": {},
      "source": [
        "### Time and Space Complexity Analysis",
        "",
        "- **Time Complexity**: The operations involving the heap (insert and extract) are `O(log n)`, where `n` is the number of piles. Since we perform `k` operations, the overall time complexity is `O(k log n)`.",
        "",
        "- **Space Complexity**: We use additional space for the max-heap, which requires `O(n)` for storing the piles. Thus, the space complexity is `O(n)`.",
        "",
        "Overall, this approach is efficient and suitable given the problem constraints."
      ]
    },
    {
      "cell_type": "markdown",
      "metadata": {},
      "source": [
        "---",
        "",
        ""
      ]
    },
    {
      "cell_type": "markdown",
      "metadata": {},
      "source": [
        "# Super Ugly Number (#313)",
        "",
        "**Difficulty:** Medium  ",
        "**Date:** 2025-08-09 23:47:28  ",
        "**URL:** https://leetcode.com/problems/super-ugly-number/",
        "",
        "---"
      ]
    },
    {
      "cell_type": "markdown",
      "metadata": {},
      "source": [
        "## Problem Description",
        "",
        "A super ugly number is a positive integer whose prime factors are in the array primes.\n\nGiven an integer n and an array of integers primes, return the nth super ugly number.\n\nThe nth super ugly number is guaranteed to fit in a 32-bit signed integer.\n\n&nbsp;\nExample 1:\n\n\nInput: n = 12, primes = [2,7,13,19]\nOutput: 32\nExplanation: [1,2,4,7,8,13,14,16,19,26,28,32] is the sequence of the first 12 super ugly numbers given primes = [2,7,13,19].\n\n\nExample 2:\n\n\nInput: n = 1, primes = [2,3,5]\nOutput: 1\nExplanation: 1 has no prime factors, therefore all of its prime factors are in the array primes = [2,3,5].\n\n\n&nbsp;\nConstraints:\n\n\n\t1 <= n <= 105\n\t1 <= primes.length <= 100\n\t2 <= primes[i] <= 1000\n\tprimes[i] is guaranteed to be a prime number.\n\tAll the values of primes are unique and sorted in ascending order.\n\n"
      ]
    },
    {
      "cell_type": "markdown",
      "metadata": {},
      "source": [
        "## Clarifying Questions",
        "",
        "1. Are there any specific edge cases we should consider, such as when `n` is 1 or when the `primes` array contains only one prime number?\n\n2. Can we assume that the `primes` array will always be sorted in ascending order, and should we handle cases where it might not be?\n\n3. What is the expected behavior if the `primes` array contains duplicate values, even though the problem states that all values are unique?\n\n4. Is there a maximum limit on the size of the output (the nth super ugly number) that we should be aware of, given that it is guaranteed to fit in a 32-bit signed integer?\n\n5. Are there any performance constraints we need to consider, especially since `n` can be as large as 100,000, and how should we handle the computation of super ugly numbers efficiently?"
      ]
    },
    {
      "cell_type": "markdown",
      "metadata": {},
      "source": [
        "## Test Edge Cases",
        "",
        "Here are 8 important test edge cases to consider for the \"Super Ugly Number\" problem:\n\n1. **Minimum Input Values**:\n   - **Input**: `n = 1`, `primes = [2]`\n   - **Description**: Tests the smallest possible input where `n` is 1 and the smallest prime number is provided. The expected output should be 1.\n\n2. **Single Prime Factor**:\n   - **Input**: `n = 10`, `primes = [3]`\n   - **Description**: Tests the case where there is only one prime factor. The expected output should be the 10th super ugly number generated by powers of 3.\n\n3. **Multiple Primes with Small Values**:\n   - **Input**: `n = 15`, `primes = [2, 3]`\n   - **Description**: Tests the scenario with two small prime factors. This will help verify the correct generation of super ugly numbers from the combination of these primes.\n\n4. **Maximum Size of Primes Array**:\n   - **Input**: `n = 20`, `primes = [2, 3, 5, 7, 11, 13, 17, 19, 23, 29, 31, 37, 41, 43, 47, 53, 59, 61, 67, 71]`\n   - **Description**: Tests the upper limit of the primes array size (100 unique primes). This will help ensure the algorithm can handle larger inputs efficiently.\n\n5. **Large n Value**:\n   - **Input**: `n = 100000`, `primes = [2, 3, 5]`\n   - **Description**: Tests the algorithm's performance and efficiency with the maximum value of `n`. This checks if the implementation can handle large computations within reasonable time limits.\n\n6. **Primes with Large Values**:\n   - **Input**: `n = 10`, `primes = [997, 991, 983]`\n   - **Description**: Tests the case where the primes are large. This will help verify that the algorithm correctly identifies super ugly numbers when the prime factors are close to the upper constraint.\n\n7. **Duplicate Primes (Invalid Input)**:\n   - **Input**: `n = 5`, `primes = [2, 2, 3]`\n   - **Description**: Although the problem states that all values of primes are unique, this test checks how the implementation handles duplicates if they were to occur. The expected behavior should be to either handle it gracefully or raise an error.\n\n8. **All Primes are Larger than n**:\n   - **Input**: `n = 10`, `primes = [11, 13, 17]`\n   -"
      ]
    },
    {
      "cell_type": "markdown",
      "metadata": {},
      "source": [
        "### Explanation of the Approach",
        "",
        "To find the nth super ugly number based on the given primes, we can use a **min-heap (priority queue)** approach. This method allows us to efficiently keep track of the next potential super ugly number.",
        "",
        "**Step-by-step approach:**",
        "",
        "1. **Initialization**:",
        "   - Start with the first super ugly number, which is `1`.",
        "   - We will use a min-heap to store the next candidates for super ugly numbers. Initially, this heap will contain `1`.",
        "",
        "2. **Tracking Factors**:",
        "   - We need a way to track which prime factors have been used to generate the super ugly numbers. We will maintain a `set` to avoid duplicates.",
        "",
        "3. **Generating Super Ugly Numbers**:",
        "   - For each super ugly number we extract from the heap, we multiply it by each prime in `primes` to generate new candidates.",
        "   - If a new candidate has not been seen before (i.e., it's not in our set), we add it to both the heap and the set.",
        "",
        "4. **Repeat**:",
        "   - We repeat this process until we have found the nth super ugly number.",
        "",
        "5. **Return the nth Super Ugly Number**:",
        "   - After generating numbers up to nth, we return the last extracted number from the heap.",
        "",
        "### Python Code Solution",
        "",
        "Here is the Python code implementing the above approach:"
      ]
    },
    {
      "cell_type": "code",
      "execution_count": null,
      "metadata": {},
      "outputs": [],
      "source": [
        "import heapq",
        "",
        "def nthSuperUglyNumber(n, primes):",
        "    # Min-heap to store the next candidates for super ugly numbers",
        "    heap = []",
        "    # A set to track unique candidates",
        "    seen = set()",
        "    ",
        "    # Start with the first super ugly number",
        "    heapq.heappush(heap, 1)",
        "    seen.add(1)",
        "    ",
        "    # Variable to store the nth super ugly number",
        "    ugly_number = 1",
        "    ",
        "    for _ in range(n):",
        "        # Get the smallest super ugly number",
        "        ugly_number = heapq.heappop(heap)",
        "        ",
        "        # Generate new candidates by multiplying with each prime",
        "        for prime in primes:",
        "            new_ugly = ugly_number * prime",
        "            ",
        "            # If the new candidate is unique, add it to the heap and set",
        "            if new_ugly not in seen:",
        "                seen.add(new_ugly)",
        "                heapq.heappush(heap, new_ugly)",
        "    ",
        "    return ugly_number"
      ]
    },
    {
      "cell_type": "markdown",
      "metadata": {},
      "source": [
        "### Time and Space Complexity Analysis",
        "",
        "- **Time Complexity**:",
        "  - The time complexity for this approach is \\(O(n \\cdot k \\cdot \\log m)\\), where:",
        "    - \\(n\\) is the nth super ugly number we need to find.",
        "    - \\(k\\) is the number of primes.",
        "    - \\(m\\) is the size of the heap which can grow to \\(n\\) in the worst case.",
        "  - Each extraction from the heap takes \\(O(\\log m)\\), and for each ugly number, we might insert \\(k\\) new candidates.",
        "",
        "- **Space Complexity**:",
        "  - The space complexity is \\(O(m)\\) where \\(m\\) is the size of the heap. The `seen` set also can grow up to \\(O(n)\\) in the worst case, leading us to conclude that the overall space complexity can be considered \\(O(n)\\).",
        "",
        "This efficient approach ensures we can find the nth super ugly number without generating a large list of super ugly numbers explicitly, making it suitable for constraints up to \\(10^5\\)."
      ]
    },
    {
      "cell_type": "markdown",
      "metadata": {},
      "source": [
        "---",
        "",
        ""
      ]
    },
    {
      "cell_type": "markdown",
      "metadata": {},
      "source": [
        "# Top K Frequent Elements (#347)",
        "",
        "**Difficulty:** Medium  ",
        "**Date:** 2025-08-09 23:48:10  ",
        "**URL:** https://leetcode.com/problems/top-k-frequent-elements/",
        "",
        "---"
      ]
    },
    {
      "cell_type": "markdown",
      "metadata": {},
      "source": [
        "## Problem Description",
        "",
        "Given an integer array nums and an integer k, return the k most frequent elements. You may return the answer in any order.\n\n&nbsp;\nExample 1:\nInput: nums = [1,1,1,2,2,3], k = 2\nOutput: [1,2]\nExample 2:\nInput: nums = [1], k = 1\nOutput: [1]\n\n&nbsp;\nConstraints:\n\n\n\t1 <= nums.length <= 105\n\t-104 <= nums[i] <= 104\n\tk is in the range [1, the number of unique elements in the array].\n\tIt is guaranteed that the answer is unique.\n\n\n&nbsp;\nFollow up: Your algorithm&#39;s time complexity must be better than O(n log n), where n is the array&#39;s size.\n"
      ]
    },
    {
      "cell_type": "markdown",
      "metadata": {},
      "source": [
        "## Clarifying Questions",
        "",
        "1. Are there any specific edge cases we should consider, such as when the input array contains only one unique element or when `k` is equal to the length of the array?\n\n2. Can the input array `nums` contain negative numbers, and if so, how should we handle them in terms of frequency counting?\n\n3. Is the output required to be sorted in any particular order, or can the k most frequent elements be returned in any order?\n\n4. What should we do if `k` is greater than the number of unique elements in the array, even though the problem states that `k` is guaranteed to be within the valid range?\n\n5. Are there any specific performance constraints we should be aware of, aside from the requirement for a time complexity better than O(n log n)? For example, should we consider space complexity as well?"
      ]
    },
    {
      "cell_type": "markdown",
      "metadata": {},
      "source": [
        "## Test Edge Cases",
        "",
        "Here are 8 important test edge cases to consider for the \"Top K Frequent Elements\" problem:\n\n1. **Single Element Array**:\n   - Input: `nums = [5], k = 1`\n   - Description: The simplest case where the array contains only one element. This tests the function's ability to handle minimal input sizes.\n\n2. **All Elements Unique**:\n   - Input: `nums = [1, 2, 3, 4, 5], k = 3`\n   - Description: An array where all elements are unique. This checks if the function can correctly identify the top k elements when frequency is the same.\n\n3. **All Elements Identical**:\n   - Input: `nums = [2, 2, 2, 2], k = 1`\n   - Description: An array where all elements are the same. This tests if the function can handle cases where the frequency is maximum for a single element.\n\n4. **Negative and Positive Numbers**:\n   - Input: `nums = [-1, -1, 2, 2, 3, 3, 3], k = 2`\n   - Description: An array containing both negative and positive numbers. This checks if the function can handle a mix of values and still return the correct top k frequent elements.\n\n5. **Maximum Size Array**:\n   - Input: `nums = [1] * 100000, k = 1`\n   - Description: An array at the maximum constraint size with all identical elements. This tests the performance and efficiency of the algorithm under maximum input conditions.\n\n6. **Multiple Elements with Same Frequency**:\n   - Input: `nums = [1, 1, 2, 2, 3, 3], k = 2`\n   - Description: An array where multiple elements have the same frequency. This checks if the function can handle ties and return any k elements correctly.\n\n7. **k Equals Unique Elements**:\n   - Input: `nums = [1, 2, 3, 4, 5], k = 5`\n   - Description: The case where k equals the number of unique elements in the array. This tests if the function can return all unique elements when required.\n\n8. **Performance with Large k**:\n   - Input: `nums = [1, 2, 3, 4, 5] * 20000, k = 5`\n   - Description: A large array with repeated elements and k equal to the number of unique elements. This tests the efficiency of the algorithm with larger datasets while ensuring it can handle high k values.\n\nThese test cases cover a variety of scenarios, including boundary conditions, special values, and performance considerations, ensuring a robust evaluation of the solution."
      ]
    },
    {
      "cell_type": "markdown",
      "metadata": {},
      "source": [
        "To solve the problem of finding the top K frequent elements in an array, we can use a combination of a frequency map (to count occurrences of each element) and a bucket sort approach to efficiently retrieve the top K elements. Here’s a step-by-step breakdown of the approach:",
        "",
        "### 1. Explanation of the Approach",
        "",
        "**Step 1: Count Frequencies**",
        "- First, we need to count the frequencies of each element in the array. This can be done using a dictionary (or hashmap) where the keys are the elements and the values are their respective counts.",
        "",
        "**Step 2: Create Buckets**",
        "- Next, we will create a list of buckets. The index of each bucket will represent the frequency of elements stored in that bucket. For example, if an element appears 3 times, it will be placed in the bucket at index 3. Since the maximum frequency of any element can be at most the size of the array, we will create a list of lists where the length is `len(nums) + 1`.",
        "",
        "**Step 3: Fill the Buckets**",
        "- We will iterate through our frequency map and place elements in their corresponding frequency buckets.",
        "",
        "**Step 4: Collect Top K Elements**",
        "- Finally, we will gather the top K elements by iterating through the buckets from the end (highest frequency) to the beginning, collecting elements until we have reached K elements.",
        "",
        "### 2. Python Code Solution"
      ]
    },
    {
      "cell_type": "code",
      "execution_count": null,
      "metadata": {},
      "outputs": [],
      "source": [
        "def topKFrequent(nums, k):",
        "    # Step 1: Count frequencies of each number in nums",
        "    frequency_map = {}",
        "    for num in nums:",
        "        if num in frequency_map:",
        "            frequency_map[num] += 1",
        "        else:",
        "            frequency_map[num] = 1",
        "            ",
        "    # Step 2: Create a list of buckets for frequencies",
        "    # The length of the bucket is nums.length + 1 to accommodate frequency counts",
        "    buckets = [[] for _ in range(len(nums) + 1)]",
        "    ",
        "    # Step 3: Fill the buckets with numbers based on their frequency",
        "    for num, freq in frequency_map.items():",
        "        buckets[freq].append(num)",
        "    ",
        "    # Step 4: Collect the top K frequent elements",
        "    result = []",
        "    # Traverse the buckets from the end (highest frequency) to the beginning",
        "    for i in range(len(buckets) - 1, 0, -1):",
        "        if buckets[i]:  # If there are elements with frequency i",
        "            for num in buckets[i]:",
        "                result.append(num)",
        "                if len(result) == k:  # Stop when we have k elements",
        "                    return result",
        "",
        "# Example Usage",
        "print(topKFrequent([1, 1, 1, 2, 2, 3], 2))  # Output: [1, 2]",
        "print(topKFrequent([1], 1))  # Output: [1]"
      ]
    },
    {
      "cell_type": "markdown",
      "metadata": {},
      "source": [
        "### 3. Time and Space Complexity Analysis",
        "",
        "**Time Complexity**",
        "- Counting frequencies takes O(n), where n is the number of elements in `nums`.",
        "- Filling the buckets also takes O(n), as we traverse the frequency map.",
        "- Collecting the top K elements in the worst case requires O(n) time if K is close to n, but since we stop as soon as we have K elements, the effective time taken is bounded by O(n).",
        "- Thus, the overall time complexity is **O(n)**.",
        "",
        "**Space Complexity**",
        "- The frequency map takes O(n) space in the worst case if all elements are unique.",
        "- The buckets list takes O(n) space as well, to accommodate all possible frequencies.",
        "- Thus, the overall space complexity is **O(n)**.",
        "",
        "This approach is efficient, as it meets the requirement of having better than O(n log n) time complexity, making it suitable for large inputs as specified in the constraints."
      ]
    },
    {
      "cell_type": "markdown",
      "metadata": {},
      "source": [
        "---",
        "",
        ""
      ]
    },
    {
      "cell_type": "markdown",
      "metadata": {},
      "source": [
        "# Kth Largest Element in an Array (#215)",
        "",
        "**Difficulty:** Medium  ",
        "**Date:** 2025-08-09 23:52:12  ",
        "**URL:** https://leetcode.com/problems/kth-largest-element-in-an-array/",
        "",
        "---"
      ]
    },
    {
      "cell_type": "markdown",
      "metadata": {},
      "source": [
        "## Problem Description",
        "",
        "Given an integer array nums and an integer k, return the kth largest element in the array.\n\nNote that it is the kth largest element in the sorted order, not the kth distinct element.\n\nCan you solve it without sorting?\n\n&nbsp;\nExample 1:\nInput: nums = [3,2,1,5,6,4], k = 2\nOutput: 5\nExample 2:\nInput: nums = [3,2,3,1,2,4,5,5,6], k = 4\nOutput: 4\n\n&nbsp;\nConstraints:\n\n\n\t1 <= k <= nums.length <= 105\n\t-104 <= nums[i] <= 104\n\n"
      ]
    },
    {
      "cell_type": "markdown",
      "metadata": {},
      "source": [
        "## Clarifying Questions",
        "",
        "1. Are there any constraints on the values of `k` in relation to the length of the `nums` array, such as whether `k` will always be a valid index within the array's bounds?\n\n2. Should we consider the possibility of duplicate values in the `nums` array, and if so, how should they be handled when determining the kth largest element?\n\n3. Can you clarify if the input array `nums` will always contain at least `k` elements, or should we handle cases where `nums` might be empty or contain fewer than `k` elements?\n\n4. What is the expected time complexity for the solution, and are there any specific performance requirements we should be aware of given the constraints on the size of `nums`?\n\n5. Should the solution account for negative numbers in the array, and if so, are there any specific edge cases involving negative values that we should consider?"
      ]
    },
    {
      "cell_type": "markdown",
      "metadata": {},
      "source": [
        "## Test Edge Cases",
        "",
        "Here are 8 important test edge cases to consider for the \"Kth Largest Element in an Array\" problem:\n\n1. **Single Element Array**:\n   - Input: `nums = [5], k = 1`\n   - Description: Tests the smallest possible input size where the array contains only one element. The output should be the only element present.\n\n2. **All Elements Identical**:\n   - Input: `nums = [2, 2, 2, 2, 2], k = 3`\n   - Description: Tests the case where all elements are the same. The kth largest element should still be that identical value.\n\n3. **Array with Negative Numbers**:\n   - Input: `nums = [-1, -2, -3, -4, -5], k = 2`\n   - Description: Tests how the function handles negative numbers. The second largest element should be -2.\n\n4. **Array with Duplicates**:\n   - Input: `nums = [3, 1, 2, 4, 4, 5], k = 3`\n   - Description: Tests the presence of duplicates in the array. The third largest element should be 3.\n\n5. **Maximum Size Array**:\n   - Input: `nums = [i for i in range(1, 100001)], k = 100000`\n   - Description: Tests the performance and efficiency of the solution with the maximum allowed size of the array. The output should be 1, the smallest element.\n\n6. **K Equals Array Length**:\n   - Input: `nums = [7, 5, 3, 1, 9], k = 5`\n   - Description: Tests the case where k is equal to the length of the array. The output should be the smallest element, which is 1.\n\n7. **K Equals 1 (Largest Element)**:\n   - Input: `nums = [10, 20, 30, 40, 50], k = 1`\n   - Description: Tests the case where k is 1, which should return the largest element in the array, which is 50.\n\n8. **Array with Mixed Values**:\n   - Input: `nums = [3, -1, 0, 5, 2, -3, 4], k = 4`\n   - Description: Tests a more complex scenario with a mix of positive, negative, and zero values. The fourth largest element should be 2.\n\nThese edge cases cover a variety of scenarios that can help ensure the robustness and correctness of the solution."
      ]
    },
    {
      "cell_type": "markdown",
      "metadata": {},
      "source": [
        "To solve the problem of finding the kth largest element in an array without sorting, we can use a min-heap data structure. The idea is to maintain a heap of size k, which allows us to efficiently retrieve the kth largest element.",
        "",
        "### Approach:",
        "",
        "1. **Min-Heap**: A min-heap allows us to efficiently keep track of the k largest elements. The root of the min-heap will always be the smallest of the k largest elements.",
        "  ",
        "2. **Iterate through the array**: We will iterate through each element in the array and maintain a min-heap of size k.",
        "   - If the size of the heap is less than k, we simply add the current element.",
        "   - If the size of the heap is equal to k and the current element is greater than the root of the heap (the smallest of the k largest), we replace the root with the current element.",
        "  ",
        "3. **Result**: After processing all elements, the root of the min-heap will be the kth largest element.",
        "",
        "### Python Code Solution:"
      ]
    },
    {
      "cell_type": "code",
      "execution_count": null,
      "metadata": {},
      "outputs": [],
      "source": [
        "import heapq",
        "",
        "def findKthLargest(nums, k):",
        "    # Initialize a min-heap",
        "    min_heap = []",
        "",
        "    # Process each number in the array",
        "    for num in nums:",
        "        # Add the current number to the heap",
        "        heapq.heappush(min_heap, num)",
        "        ",
        "        # If the heap size exceeds k, remove the smallest element",
        "        if len(min_heap) > k:",
        "            heapq.heappop(min_heap)",
        "",
        "    # The root of the min-heap is the kth largest element",
        "    return min_heap[0]",
        "",
        "# Example usage",
        "print(findKthLargest([3, 2, 1, 5, 6, 4], 2))  # Output: 5",
        "print(findKthLargest([3, 2, 3, 1, 2, 4, 5, 5, 6], 4))  # Output: 4"
      ]
    },
    {
      "cell_type": "markdown",
      "metadata": {},
      "source": [
        "### Explanation of the Code:",
        "- We import the `heapq` module, which provides an implementation of the heap queue algorithm, also known as the priority queue algorithm.",
        "- We initialize an empty list `min_heap` to act as our min-heap.",
        "- We iterate through each number in the `nums` array:",
        "  - We add the number to the min-heap using `heappush`.",
        "  - If the size of the heap exceeds k, we remove the smallest element using `heappop`.",
        "- Finally, we return the smallest element in the heap, which represents the kth largest element in the array.",
        "",
        "### Time and Space Complexity Analysis:",
        "",
        "- **Time Complexity**: O(N log k)",
        "  - Where N is the number of elements in the `nums` array. Each insertion and deletion operation in a heap of size k takes O(log k) time. Since we process each of the N elements, the overall time complexity becomes O(N log k).",
        "",
        "- **Space Complexity**: O(k)",
        "  - The space complexity is O(k) because we are maintaining a min-heap that can store up to k elements.",
        "",
        "This approach efficiently finds the kth largest element in an unsorted array without needing to sort the entire array."
      ]
    },
    {
      "cell_type": "markdown",
      "metadata": {},
      "source": [
        "---",
        "",
        ""
      ]
    },
    {
      "cell_type": "markdown",
      "metadata": {},
      "source": [
        "# The Skyline Problem (#218)",
        "",
        "**Difficulty:** Hard  ",
        "**Date:** 2025-08-09 23:52:16  ",
        "**URL:** https://leetcode.com/problems/the-skyline-problem/",
        "",
        "---"
      ]
    },
    {
      "cell_type": "markdown",
      "metadata": {},
      "source": [
        "## Problem Description",
        "",
        "A city&#39;s skyline is the outer contour of the silhouette formed by all the buildings in that city when viewed from a distance. Given the locations and heights of all the buildings, return the skyline formed by these buildings collectively.\n\nThe geometric information of each building is given in the array buildings where buildings[i] = [lefti, righti, heighti]:\n\n\n\tlefti is the x coordinate of the left edge of the ith building.\n\trighti is the x coordinate of the right edge of the ith building.\n\theighti is the height of the ith building.\n\n\nYou may assume all buildings are perfect rectangles grounded on an absolutely flat surface at height 0.\n\nThe skyline should be represented as a list of &quot;key points&quot; sorted by their x-coordinate in the form [[x1,y1],[x2,y2],...]. Each key point is the left endpoint of some horizontal segment in the skyline except the last point in the list, which always has a y-coordinate 0 and is used to mark the skyline&#39;s termination where the rightmost building ends. Any ground between the leftmost and rightmost buildings should be part of the skyline&#39;s contour.\n\nNote: There must be no consecutive horizontal lines of equal height in the output skyline. For instance, [...,[2 3],[4 5],[7 5],[11 5],[12 7],...] is not acceptable; the three lines of height 5 should be merged into one in the final output as such: [...,[2 3],[4 5],[12 7],...]\n\n&nbsp;\nExample 1:\n\n\nInput: buildings = [[2,9,10],[3,7,15],[5,12,12],[15,20,10],[19,24,8]]\nOutput: [[2,10],[3,15],[7,12],[12,0],[15,10],[20,8],[24,0]]\nExplanation:\nFigure A shows the buildings of the input.\nFigure B shows the skyline formed by those buildings. The red points in figure B represent the key points in the output list.\n\n\nExample 2:\n\n\nInput: buildings = [[0,2,3],[2,5,3]]\nOutput: [[0,3],[5,0]]\n\n\n&nbsp;\nConstraints:\n\n\n\t1 <= buildings.length <= 104\n\t0 <= lefti < righti <= 231 - 1\n\t1 <= heighti <= 231 - 1\n\tbuildings is sorted by lefti in&nbsp;non-decreasing order.\n\n"
      ]
    },
    {
      "cell_type": "markdown",
      "metadata": {},
      "source": [
        "## Clarifying Questions",
        "",
        "1. **What should we do if two buildings have the same left edge but different heights?** Should we treat them as overlapping buildings, and how should that affect the skyline?\n\n2. **How should we handle buildings that are completely within the range of another building?** For example, if a building starts and ends within the height of another building, should it contribute any key points to the skyline?\n\n3. **Are there any specific constraints on the number of buildings or their heights that we should be aware of beyond what is mentioned?** For instance, are there any limits on the maximum height or width of the buildings that could affect performance?\n\n4. **What is the expected output format for the skyline?** Should the output be strictly in the form of a list of lists, or can it be represented in other formats, and how should we handle the termination point at height 0?\n\n5. **Are there any specific performance requirements we need to consider for large inputs?** Given that the number of buildings can be up to 10,000, should we aim for a specific time complexity, and are there any constraints on memory usage?"
      ]
    },
    {
      "cell_type": "markdown",
      "metadata": {},
      "source": [
        "## Test Edge Cases",
        "",
        "Here are 8 important test edge cases for the Skyline Problem:\n\n1. **Empty Input**:\n   - **Input**: `buildings = []`\n   - **Description**: Tests the function's behavior with no buildings. The expected output should be an empty list, as there are no buildings to form a skyline.\n\n2. **Single Building**:\n   - **Input**: `buildings = [[1, 3, 4]]`\n   - **Description**: Tests the simplest case with only one building. The expected output should be `[[1, 4], [3, 0]]`, representing the start and end of the building.\n\n3. **Multiple Buildings with No Overlap**:\n   - **Input**: `buildings = [[1, 3, 2], [4, 6, 3], [7, 9, 1]]`\n   - **Description**: Tests buildings that do not overlap. The expected output should be `[[1, 2], [3, 0], [4, 3], [6, 0], [7, 1], [9, 0]]`.\n\n4. **Buildings with Complete Overlap**:\n   - **Input**: `buildings = [[1, 5, 3], [2, 4, 4], [3, 6, 2]]`\n   - **Description**: Tests buildings that overlap completely. The expected output should be `[[1, 4], [5, 0]]`, as the highest point is at height 4.\n\n5. **Buildings with Same Height**:\n   - **Input**: `buildings = [[1, 3, 2], [3, 5, 2], [5, 7, 2]]`\n   - **Description**: Tests consecutive buildings with the same height. The expected output should be `[[1, 2], [7, 0]]`, merging the heights into one segment.\n\n6. **Buildings with Varying Heights**:\n   - **Input**: `buildings = [[1, 4, 5], [2, 3, 3], [3, 5, 4]]`\n   - **Description**: Tests a scenario where buildings have varying heights and overlap. The expected output should be `[[1, 5], [4, 4], [5, 0]]`.\n\n7. **Maximum Input Size**:\n   - **Input**: `buildings = [[i, i+1, i % 10 + 1] for i in range(10000)]`\n   - **Description**: Tests the performance of the solution with the maximum number of buildings (10,000). The output will depend on the heights and should be checked for correctness and performance.\n\n8. **Buildings with Gaps**:\n   -"
      ]
    },
    {
      "cell_type": "markdown",
      "metadata": {},
      "source": [
        "### Explanation of the Approach",
        "",
        "The Skyline Problem can be effectively solved using a **sweep line algorithm** combined with a **priority queue** (or a max heap). The idea is to process all the building edges (both left and right) in sorted order while maintaining a record of active buildings (those that contribute to the skyline at any given x-coordinate).",
        "",
        "Here's a step-by-step breakdown of the approach:",
        "",
        "1. **Event Creation**: For each building, create two events:",
        "   - A start event at the left edge of the building (with the building's height).",
        "   - An end event at the right edge of the building (with a negative height to distinguish it from start events).",
        "",
        "2. **Sorting Events**: Sort these events primarily by x-coordinate. If two events have the same x-coordinate, process start events (positive heights) before end events (negative heights) to ensure the skyline is correctly formed.",
        "",
        "3. **Using a Max Heap**: Use a max heap to keep track of the heights of active buildings. The heap allows us to efficiently get the tallest building at any point in time.",
        "",
        "4. **Processing Events**:",
        "   - For each event, if it's a start event, add the building's height to the heap.",
        "   - If it's an end event, remove the height from the heap.",
        "   - After processing each event, check if the current maximum height has changed. If it has, add a new key point to the result list.",
        "",
        "5. **Final Adjustment**: Ensure to add the end point of the skyline (where the last building ends and height returns to 0).",
        "",
        "### Python Code Solution",
        "",
        "Here is the Python code that implements the above approach:"
      ]
    },
    {
      "cell_type": "code",
      "execution_count": null,
      "metadata": {},
      "outputs": [],
      "source": [
        "import heapq",
        "",
        "def getSkyline(buildings):",
        "    # Step 1: Create the events",
        "    events = []",
        "    for left, right, height in buildings:",
        "        events.append((left, -height))  # Start of a building",
        "        events.append((right, height))   # End of a building",
        "",
        "    # Step 2: Sort the events",
        "    events.sort()",
        "",
        "    # Step 3: Initialize the result and the max-heap",
        "    result = []",
        "    max_heap = [(0, float('inf'))]  # (height, end position)",
        "    ",
        "    # Step 4: Process the events",
        "    for x, h in events:",
        "        if h < 0:  # Start of a building",
        "            # Add the building height to the max-heap",
        "            heapq.heappush(max_heap, (h, x))  # Use negative height for max-heap",
        "        else:  # End of a building",
        "            # Remove the building height from the max-heap",
        "            max_heap = [(hh, end) for hh, end in max_heap if end > x]",
        "            heapq.heapify(max_heap)  # Re-heapify after removal",
        "",
        "        # Step 5: Get the current maximum height",
        "        current_height = -max_heap[0][0]  # The tallest building",
        "",
        "        # If the current height differs from the last height in result, append it",
        "        if not result or current_height != result[-1][1]:",
        "            result.append([x, current_height])",
        "",
        "    return result",
        "",
        "# Example usage",
        "buildings = [[2,9,10],[3,7,15],[5,12,12],[15,20,10],[19,24,8]]",
        "print(getSkyline(buildings))  # Output: [[2,10],[3,15],[7,12],[12,0],[15,10],[20,8],[24,0]]"
      ]
    },
    {
      "cell_type": "markdown",
      "metadata": {},
      "source": [
        "### Time and Space Complexity Analysis",
        "",
        "- **Time Complexity**: ",
        "  - Sorting the events takes \\(O(N \\log N)\\), where \\(N\\) is the number of buildings (or events, which is \\(2N\\)).",
        "  - Processing the events and maintaining the heap takes \\(O(N \\log N)\\) in the worst case (updating the heap when adding/removing heights).",
        "  - Thus, the overall time complexity is \\(O(N \\log N)\\).",
        "",
        "- **Space Complexity**: ",
        "  - The space used for storing events is \\(O(N)\\).",
        "  - The max heap can also use up to \\(O(N)\\) space in the worst case.",
        "  - Therefore, the overall space complexity is \\(O(N)\\). ",
        "",
        "This approach ensures that we efficiently calculate the skyline outline even for larger inputs, while maintaining clarity and correctness in the output."
      ]
    },
    {
      "cell_type": "markdown",
      "metadata": {},
      "source": [
        "---",
        "",
        ""
      ]
    },
    {
      "cell_type": "markdown",
      "metadata": {},
      "source": [
        "# Ugly Number II (#264)",
        "",
        "**Difficulty:** Medium  ",
        "**Date:** 2025-08-09 23:53:01  ",
        "**URL:** https://leetcode.com/problems/ugly-number-ii/",
        "",
        "---"
      ]
    },
    {
      "cell_type": "markdown",
      "metadata": {},
      "source": [
        "## Problem Description",
        "",
        "An ugly number is a positive integer whose prime factors are limited to 2, 3, and 5.\n\nGiven an integer n, return the nth ugly number.\n\n&nbsp;\nExample 1:\n\n\nInput: n = 10\nOutput: 12\nExplanation: [1, 2, 3, 4, 5, 6, 8, 9, 10, 12] is the sequence of the first 10 ugly numbers.\n\n\nExample 2:\n\n\nInput: n = 1\nOutput: 1\nExplanation: 1 has no prime factors, therefore all of its prime factors are limited to 2, 3, and 5.\n\n\n&nbsp;\nConstraints:\n\n\n\t1 <= n <= 1690\n\n"
      ]
    },
    {
      "cell_type": "markdown",
      "metadata": {},
      "source": [
        "## Clarifying Questions",
        "",
        "1. Are we guaranteed that the input integer \\( n \\) will always be within the given constraints (1 <= n <= 1690), or should we handle cases where \\( n \\) might be outside this range?\n\n2. Should the output be a single integer representing the nth ugly number, or do we need to return the entire sequence of ugly numbers up to that point?\n\n3. Is the number 1 considered an ugly number in this context, and should it always be included in the sequence of ugly numbers?\n\n4. Are there any performance requirements or time complexity constraints we should be aware of when designing our solution, especially considering the upper limit of \\( n \\)?\n\n5. Should we assume that the input will always be a valid positive integer, or do we need to handle potential invalid inputs (e.g., negative numbers or non-integer values)?"
      ]
    },
    {
      "cell_type": "markdown",
      "metadata": {},
      "source": [
        "## Test Edge Cases",
        "",
        "Here are 8 important test edge cases to consider for the \"Ugly Number II\" problem:\n\n1. **Minimum Input Case**:\n   - **Input**: `n = 1`\n   - **Description**: This tests the smallest valid input, where the output should be `1`, as it is the first ugly number.\n\n2. **First Few Ugly Numbers**:\n   - **Input**: `n = 10`\n   - **Description**: This checks the function's correctness for a small value of `n`, where the output should be `12`, ensuring that the sequence of ugly numbers is generated correctly.\n\n3. **Middle of the Range**:\n   - **Input**: `n = 50`\n   - **Description**: This tests the function's ability to compute a mid-range ugly number, which should return `125`, verifying the algorithm's efficiency and correctness for larger inputs.\n\n4. **Upper Boundary Case**:\n   - **Input**: `n = 1690`\n   - **Description**: This tests the maximum constraint of the input, ensuring that the function can handle the largest possible value of `n` without performance issues.\n\n5. **Performance Test for Large Input**:\n   - **Input**: `n = 1000`\n   - **Description**: This checks the performance and efficiency of the algorithm, ensuring it can compute the 1000th ugly number in a reasonable time frame.\n\n6. **Consecutive Ugly Numbers**:\n   - **Input**: `n = 11`\n   - **Description**: This tests the transition from the 10th to the 11th ugly number, ensuring that the sequence continues correctly, where the output should be `15`.\n\n7. **Check for Duplicates**:\n   - **Input**: `n = 15`\n   - **Description**: This checks that the function correctly identifies and handles duplicates in the sequence, where the output should be `24`, ensuring no duplicates are present in the generated list of ugly numbers.\n\n8. **Testing for Large Gaps**:\n   - **Input**: `n = 100`\n   - **Description**: This checks the function's ability to skip non-ugly numbers and correctly identify the 100th ugly number, which should return `150`, ensuring the algorithm handles larger gaps efficiently.\n\nThese test cases cover a range of scenarios, including boundary conditions, performance, and correctness, which are critical for validating the solution to the problem."
      ]
    },
    {
      "cell_type": "markdown",
      "metadata": {},
      "source": [
        "### Explanation of the Approach",
        "",
        "To solve the problem of finding the nth ugly number, we can use the method of generating ugly numbers in a sequence. The key points of our approach are:",
        "",
        "1. **Understanding Ugly Numbers**: Ugly numbers are generated by multiplying the prime factors 2, 3, and 5. The sequence starts with `1`, and the next ugly numbers can be derived from previously found ugly numbers.",
        "",
        "2. **Using a Min-Heap or Multiple Pointers**: We will use three pointers (or indices) to keep track of the next multiples of 2, 3, and 5. Each of these pointers will point to the position in the list of ugly numbers that we have generated so far.",
        "",
        "3. **Generating Ugly Numbers**:",
        "   - Start with the first ugly number, which is `1`.",
        "   - For each iteration, calculate the next potential ugly numbers by multiplying the currently pointed ugly numbers by 2, 3, and 5.",
        "   - The next ugly number will be the minimum of these calculated values.",
        "   - Update the respective pointer(s) that contributed to the new minimum value.",
        "",
        "4. **Avoiding Duplicates**: Since the same number might be generated by different factors, we will use a set to keep track of unique ugly numbers.",
        "",
        "5. **Iterate until we reach the nth ugly number**.",
        "",
        "### Python Code Solution",
        "",
        "Here's the Python implementation of the above approach:"
      ]
    },
    {
      "cell_type": "code",
      "execution_count": null,
      "metadata": {},
      "outputs": [],
      "source": [
        "def nthUglyNumber(n):",
        "    # Initialize an array to hold the ugly numbers",
        "    ugly_numbers = [0] * n",
        "    # The first ugly number is 1",
        "    ugly_numbers[0] = 1",
        "    ",
        "    # Initialize pointers for 2, 3, and 5",
        "    i2, i3, i5 = 0, 0, 0",
        "    next2, next3, next5 = 2, 3, 5",
        "    ",
        "    for i in range(1, n):",
        "        # The next ugly number will be the minimum among the next candidates",
        "        next_ugly = min(next2, next3, next5)",
        "        ugly_numbers[i] = next_ugly",
        "        ",
        "        # Increment the pointer(s) for which the next ugly number was equal to the minimum",
        "        if next_ugly == next2:",
        "            i2 += 1",
        "            next2 = ugly_numbers[i2] * 2",
        "        if next_ugly == next3:",
        "            i3 += 1",
        "            next3 = ugly_numbers[i3] * 3",
        "        if next_ugly == next5:",
        "            i5 += 1",
        "            next5 = ugly_numbers[i5] * 5",
        "            ",
        "    return ugly_numbers[-1]  # Return the nth ugly number",
        "",
        "# Example usage",
        "print(nthUglyNumber(10))  # Output: 12",
        "print(nthUglyNumber(1))   # Output: 1"
      ]
    },
    {
      "cell_type": "markdown",
      "metadata": {},
      "source": [
        "### Time and Space Complexity Analysis",
        "",
        "- **Time Complexity**: The time complexity is \\(O(n)\\) because we need to compute each of the first \\(n\\) ugly numbers sequentially. Each ugly number is generated in constant time, and we perform this operation \\(n\\) times.",
        "",
        "- **Space Complexity**: The space complexity is \\(O(n)\\) as we store \\(n\\) ugly numbers in the `ugly_numbers` list. The additional space used for pointers is constant and does not depend on \\(n\\).",
        "",
        "This approach efficiently generates the sequence of ugly numbers and retrieves the nth one in linear time and space, which is suitable given the constraints."
      ]
    },
    {
      "cell_type": "markdown",
      "metadata": {},
      "source": [
        "---",
        "",
        ""
      ]
    },
    {
      "cell_type": "markdown",
      "metadata": {},
      "source": [
        "# Find Median from Data Stream (#295)",
        "",
        "**Difficulty:** Hard  ",
        "**Date:** 2025-08-09 23:53:24  ",
        "**URL:** https://leetcode.com/problems/find-median-from-data-stream/",
        "",
        "---"
      ]
    },
    {
      "cell_type": "markdown",
      "metadata": {},
      "source": [
        "## Problem Description",
        "",
        "The median is the middle value in an ordered integer list. If the size of the list is even, there is no middle value, and the median is the mean of the two middle values.\n\n\n\tFor example, for arr = [2,3,4], the median is 3.\n\tFor example, for arr = [2,3], the median is (2 + 3) / 2 = 2.5.\n\n\nImplement the MedianFinder class:\n\n\n\tMedianFinder() initializes the MedianFinder object.\n\tvoid addNum(int num) adds the integer num from the data stream to the data structure.\n\tdouble findMedian() returns the median of all elements so far. Answers within 10-5 of the actual answer will be accepted.\n\n\n&nbsp;\nExample 1:\n\n\nInput\n[&quot;MedianFinder&quot;, &quot;addNum&quot;, &quot;addNum&quot;, &quot;findMedian&quot;, &quot;addNum&quot;, &quot;findMedian&quot;]\n[[], [1], [2], [], [3], []]\nOutput\n[null, null, null, 1.5, null, 2.0]\n\nExplanation\nMedianFinder medianFinder = new MedianFinder();\nmedianFinder.addNum(1);    // arr = [1]\nmedianFinder.addNum(2);    // arr = [1, 2]\nmedianFinder.findMedian(); // return 1.5 (i.e., (1 + 2) / 2)\nmedianFinder.addNum(3);    // arr[1, 2, 3]\nmedianFinder.findMedian(); // return 2.0\n\n\n&nbsp;\nConstraints:\n\n\n\t-105 <= num <= 105\n\tThere will be at least one element in the data structure before calling findMedian.\n\tAt most 5 * 104 calls will be made to addNum and findMedian.\n\n\n&nbsp;\nFollow up:\n\n\n\tIf all integer numbers from the stream are in the range [0, 100], how would you optimize your solution?\n\tIf 99% of all integer numbers from the stream are in the range [0, 100], how would you optimize your solution?\n\n"
      ]
    },
    {
      "cell_type": "markdown",
      "metadata": {},
      "source": [
        "## Clarifying Questions",
        "",
        "1. **What is the expected behavior of the `findMedian` method if no numbers have been added yet?** (This clarifies how to handle the initial state of the data structure.)\n\n2. **Are there any specific performance requirements or constraints on the time complexity for the `addNum` and `findMedian` methods?** (This helps understand the efficiency expectations for the solution.)\n\n3. **Should the `addNum` method handle duplicate numbers, and if so, how should they be treated when calculating the median?** (This addresses how to handle edge cases with repeated values.)\n\n4. **Can we assume that the input numbers will always be within the specified range of -10^5 to 10^5?** (This clarifies input constraints and helps in optimizing the solution.)\n\n5. **In the follow-up questions, what specific optimizations are you looking for when the majority of numbers fall within a certain range?** (This helps to understand the depth of optimization expected based on the distribution of input values.)"
      ]
    },
    {
      "cell_type": "markdown",
      "metadata": {},
      "source": [
        "## Test Edge Cases",
        "",
        "Error generating edge cases"
      ]
    },
    {
      "cell_type": "markdown",
      "metadata": {},
      "source": [
        "To solve the problem of finding the median from a data stream, we can utilize a data structure that allows us to efficiently keep track of the numbers added and quickly compute the median. The optimal solution involves using two heaps (priority queues): one max-heap for the lower half of the numbers and one min-heap for the upper half. This allows us to maintain order and balance in the data structure while efficiently retrieving the median.",
        "",
        "### Approach Explanation",
        "",
        "1. **Heaps**: ",
        "   - We will use a max-heap to store the lower half of the numbers (let's call it `low`) and a min-heap to store the upper half of the numbers (let's call it `high`).",
        "   - The max-heap will allow us to efficiently retrieve the largest element of the lower half, which is necessary for calculating the median when there are an even number of elements.",
        "",
        "2. **Balancing the Heaps**: ",
        "   - We will ensure that the max-heap can have at most one more element than the min-heap. This way, if the total number of elements is odd, the median will be the root of the max-heap. If it is even, the median will be the average of the roots of both heaps.",
        "",
        "3. **Adding Numbers**:",
        "   - When adding a new number, we first decide which heap it should go into based on the current maximum of the max-heap.",
        "   - After adding the number, we will check the sizes of the heaps and rebalance them if necessary.",
        "",
        "4. **Finding the Median**:",
        "   - If the max-heap has more elements, the median is the root of the max-heap.",
        "   - If both heaps are of equal size, the median is the average of the roots of both heaps.",
        "",
        "### Python Code Solution"
      ]
    },
    {
      "cell_type": "code",
      "execution_count": null,
      "metadata": {},
      "outputs": [],
      "source": [
        "import heapq",
        "",
        "class MedianFinder:",
        "    def __init__(self):",
        "        # Max-heap to store the lower half",
        "        self.low = []  # We will invert the values to use heapq as a max-heap",
        "        # Min-heap to store the upper half",
        "        self.high = []",
        "",
        "    def addNum(self, num: int) -> None:",
        "        # Add to max-heap (low)",
        "        heapq.heappush(self.low, -num)  # Invert the number to use min-heap as max-heap",
        "",
        "        # Ensure the largest of low is less than or equal to the smallest of high",
        "        if self.low and self.high and (-self.low[0] > self.high[0]):",
        "            # Move the largest from low to high",
        "            to_move = -heapq.heappop(self.low)",
        "            heapq.heappush(self.high, to_move)",
        "",
        "        # Balance the sizes of the heaps",
        "        if len(self.low) > len(self.high) + 1:",
        "            # Move the largest from low to high",
        "            to_move = -heapq.heappop(self.low)",
        "            heapq.heappush(self.high, to_move)",
        "        elif len(self.high) > len(self.low):",
        "            # Move the smallest from high to low",
        "            to_move = heapq.heappop(self.high)",
        "            heapq.heappush(self.low, -to_move)",
        "",
        "    def findMedian(self) -> float:",
        "        if len(self.low) > len(self.high):",
        "            # If low has more elements, the median is the root of low",
        "            return float(-self.low[0])",
        "        else:",
        "            # If both are equal, the median is the average of both roots",
        "            return (-self.low[0] + self.high[0]) / 2.0"
      ]
    },
    {
      "cell_type": "markdown",
      "metadata": {},
      "source": [
        "### Time and Space Complexity Analysis",
        "",
        "- **Time Complexity**:",
        "  - `addNum`: O(log n), where n is the number of elements in the structure. This is due to the heap operations (insertion and balancing).",
        "  - `findMedian`: O(1), since we are just accessing the roots of the heaps.",
        "",
        "- **Space Complexity**:",
        "  - O(n), where n is the number of elements added to the data structure. We are storing the elements in two heaps.",
        "",
        "This solution is efficient and meets the requirements of the problem, allowing for quick insertion of numbers while maintaining the ability to compute the median in constant time."
      ]
    },
    {
      "cell_type": "markdown",
      "metadata": {},
      "source": [
        "---",
        "",
        ""
      ]
    },
    {
      "cell_type": "markdown",
      "metadata": {},
      "source": [
        "# Smallest Range Covering Elements from K Lists (#632)",
        "",
        "**Difficulty:** Hard  ",
        "**Date:** 2025-08-09 23:57:45  ",
        "**URL:** https://leetcode.com/problems/smallest-range-covering-elements-from-k-lists/",
        "",
        "---"
      ]
    },
    {
      "cell_type": "markdown",
      "metadata": {},
      "source": [
        "## Problem Description",
        "",
        "You have k lists of sorted integers in non-decreasing&nbsp;order. Find the smallest range that includes at least one number from each of the k lists.\n\nWe define the range [a, b] is smaller than range [c, d] if b - a < d - c or a < c if b - a == d - c.\n\n&nbsp;\nExample 1:\n\n\nInput: nums = [[4,10,15,24,26],[0,9,12,20],[5,18,22,30]]\nOutput: [20,24]\nExplanation: \nList 1: [4, 10, 15, 24,26], 24 is in range [20,24].\nList 2: [0, 9, 12, 20], 20 is in range [20,24].\nList 3: [5, 18, 22, 30], 22 is in range [20,24].\n\n\nExample 2:\n\n\nInput: nums = [[1,2,3],[1,2,3],[1,2,3]]\nOutput: [1,1]\n\n\n&nbsp;\nConstraints:\n\n\n\tnums.length == k\n\t1 <= k <= 3500\n\t1 <= nums[i].length <= 50\n\t-105 <= nums[i][j] <= 105\n\tnums[i]&nbsp;is sorted in non-decreasing order.\n\n"
      ]
    },
    {
      "cell_type": "markdown",
      "metadata": {},
      "source": [
        "## Clarifying Questions",
        "",
        "1. Are there any specific edge cases we should consider, such as lists with only one element or lists that contain negative numbers?\n\n2. Can the range [a, b] include duplicate numbers from the lists, and if so, how should we handle them in terms of defining the smallest range?\n\n3. Is it guaranteed that each list will have at least one element, and what should we do if any of the lists are empty?\n\n4. What is the expected output format for the range? Should it be returned as an array, a tuple, or some other structure?\n\n5. Are there any performance constraints we should be aware of, particularly regarding the maximum size of k and the total number of elements across all lists?"
      ]
    },
    {
      "cell_type": "markdown",
      "metadata": {},
      "source": [
        "## Test Edge Cases",
        "",
        "Here are 8 important test edge cases to consider for the problem of finding the smallest range covering elements from k lists:\n\n1. **Single List with One Element**:\n   - Input: `nums = [[5]]`\n   - Description: Tests the simplest case where there is only one list containing a single element. The expected output should be `[5, 5]`.\n\n2. **Multiple Lists with One Element Each**:\n   - Input: `nums = [[1], [2], [3]]`\n   - Description: Each list contains only one element. The expected output should be `[2, 2]`, which is the average of the minimum and maximum values.\n\n3. **Lists with Duplicates**:\n   - Input: `nums = [[1, 1, 1], [2, 2, 2], [3, 3, 3]]`\n   - Description: Tests how the algorithm handles duplicates within lists. The expected output should be `[2, 2]`.\n\n4. **Negative and Positive Numbers**:\n   - Input: `nums = [[-5, -3, -1], [0, 2, 4], [3, 5, 7]]`\n   - Description: Tests the handling of negative and positive integers. The expected output should be `[0, 3]`.\n\n5. **Maximum Size Input**:\n   - Input: `nums = [[i for i in range(50)] for _ in range(3500)]`\n   - Description: Tests the algorithm's performance and efficiency with the maximum constraints. The expected output should be `[0, 0]`, as all lists contain the same range of numbers.\n\n6. **All Lists Overlapping**:\n   - Input: `nums = [[1, 2, 3], [2, 3, 4], [3, 4, 5]]`\n   - Description: Tests the case where all lists have overlapping elements. The expected output should be `[3, 3]`, as 3 is the common element.\n\n7. **Non-Overlapping Ranges**:\n   - Input: `nums = [[1, 2, 3], [10, 11, 12], [20, 21, 22]]`\n   - Description: Tests the scenario where the ranges do not overlap. The expected output should be `[3, 10]`, as this is the smallest range that covers at least one element from each list.\n\n8. **Large Range with Sparse Elements**:\n   - Input: `nums = [[-100, 0, 100], [-50, 50], [0, 1, 2]]`\n   - Description: Tests the algorithm's ability to find the smallest range when elements are widely spaced. The expected output should be `[0, 1]`, as it covers elements from all lists.\n\nThese edge"
      ]
    },
    {
      "cell_type": "markdown",
      "metadata": {},
      "source": [
        "To solve the problem of finding the smallest range that includes at least one number from each of the k lists, we can use a min-heap (or priority queue) to efficiently track the smallest elements across the lists while maintaining a record of the largest element seen so far. Here's a step-by-step breakdown of the approach:",
        "",
        "### 1. Explanation of the Approach",
        "",
        "1. **Initialization**:",
        "   - Create a min-heap to keep track of the current minimum element among the lists.",
        "   - Maintain a variable to track the maximum element encountered so far.",
        "   - Initialize the smallest range's bounds and their difference to infinity.",
        "",
        "2. **Heap Population**:",
        "   - Push the first element of each list into the min-heap along with the index of the list it came from and its index in that list.",
        "   - Update the maximum element to the largest of these initial elements.",
        "",
        "3. **Iterative Process**:",
        "   - Continuously pop the smallest element from the min-heap (this represents the current minimum for the range).",
        "   - Check if the current range (from the smallest element popped to the largest element seen so far) is smaller than the previously recorded smallest range.",
        "   - If it is, update the smallest range.",
        "   - Push the next element from the same list (from which the smallest element was popped) into the min-heap.",
        "   - Update the maximum element if the newly added element is larger.",
        "   - If any list is exhausted (no more elements to push), break the loop as we cannot form a valid range anymore.",
        "",
        "4. **Output the Result**:",
        "   - The smallest recorded range after the iterations is the answer.",
        "",
        "### 2. Python Code Solution",
        "",
        "Here's the implementation of the above approach:"
      ]
    },
    {
      "cell_type": "code",
      "execution_count": null,
      "metadata": {},
      "outputs": [],
      "source": [
        "import heapq",
        "",
        "def smallestRange(nums):",
        "    # Min-heap to store (value, index of list, index of value in list)",
        "    min_heap = []",
        "    current_max = float('-inf')  # Maximum value seen in the range",
        "    smallest_range = [float('-inf'), float('inf')]  # Initialize to extreme values",
        "",
        "    # Initialize the heap with the first element of each list",
        "    for i in range(len(nums)):",
        "        heapq.heappush(min_heap, (nums[i][0], i, 0))  # Push (value, list_index, value_index)",
        "        current_max = max(current_max, nums[i][0])  # Update the current max",
        "",
        "    # Continue until we exhaust one of the lists",
        "    while min_heap:",
        "        current_min, list_index, value_index = heapq.heappop(min_heap)  # Get the smallest value",
        "        ",
        "        # Update the smallest range if the current range is smaller",
        "        if current_max - current_min < smallest_range[1] - smallest_range[0]:",
        "            smallest_range = [current_min, current_max]",
        "        ",
        "        # If there's a next element in the same list, add it to the heap",
        "        if value_index + 1 < len(nums[list_index]):",
        "            next_value = nums[list_index][value_index + 1]",
        "            heapq.heappush(min_heap, (next_value, list_index, value_index + 1))  # Push next element",
        "            current_max = max(current_max, next_value)  # Update current max",
        "        else:",
        "            # If we run out of elements in any list, we can't continue",
        "            break",
        "",
        "    return smallest_range",
        "",
        "# Example usage:",
        "print(smallestRange([[4,10,15,24,26],[0,9,12,20],[5,18,22,30]]))  # Output: [20,24]",
        "print(smallestRange([[1,2,3],[1,2,3],[1,2,3]]))  # Output: [1,1]"
      ]
    },
    {
      "cell_type": "markdown",
      "metadata": {},
      "source": [
        "### 3. Time and Space Complexity Analysis",
        "",
        "- **Time Complexity**: ",
        "  - The while loop runs until we exhaust one of the lists. Each operation within the loop involves popping from the min-heap and possibly pushing new elements, which gives us a time complexity of \\(O(N \\log k)\\), where \\(N\\) is the total number of elements across all lists and \\(k\\) is the number of lists (since we perform a log operation for every push/pop in the heap).",
        "",
        "- **Space Complexity**: ",
        "  - The space complexity is \\(O(k)\\) due to the min-heap, which stores at most one element from each of the k lists.",
        "",
        "This approach efficiently finds the smallest range covering elements from k lists using a combination of a min-heap and careful tracking of the maximum and minimum values."
      ]
    },
    {
      "cell_type": "markdown",
      "metadata": {},
      "source": [
        "---",
        "",
        ""
      ]
    },
    {
      "cell_type": "markdown",
      "metadata": {},
      "source": [
        "# Find K Pairs with Smallest Sums (#373)",
        "",
        "**Difficulty:** Medium  ",
        "**Date:** 2025-08-10 00:00:59  ",
        "**URL:** https://leetcode.com/problems/find-k-pairs-with-smallest-sums/",
        "",
        "---"
      ]
    },
    {
      "cell_type": "markdown",
      "metadata": {},
      "source": [
        "## Problem Description",
        "",
        "You are given two integer arrays nums1 and nums2 sorted in non-decreasing&nbsp;order and an integer k.\n\nDefine a pair (u, v) which consists of one element from the first array and one element from the second array.\n\nReturn the k pairs (u1, v1), (u2, v2), ..., (uk, vk) with the smallest sums.\n\n&nbsp;\nExample 1:\n\n\nInput: nums1 = [1,7,11], nums2 = [2,4,6], k = 3\nOutput: [[1,2],[1,4],[1,6]]\nExplanation: The first 3 pairs are returned from the sequence: [1,2],[1,4],[1,6],[7,2],[7,4],[11,2],[7,6],[11,4],[11,6]\n\n\nExample 2:\n\n\nInput: nums1 = [1,1,2], nums2 = [1,2,3], k = 2\nOutput: [[1,1],[1,1]]\nExplanation: The first 2 pairs are returned from the sequence: [1,1],[1,1],[1,2],[2,1],[1,2],[2,2],[1,3],[1,3],[2,3]\n\n\n&nbsp;\nConstraints:\n\n\n\t1 <= nums1.length, nums2.length <= 105\n\t-109 <= nums1[i], nums2[i] <= 109\n\tnums1 and nums2 both are sorted in non-decreasing order.\n\t1 <= k <= 104\n\tk <=&nbsp;nums1.length *&nbsp;nums2.length\n\n"
      ]
    },
    {
      "cell_type": "markdown",
      "metadata": {},
      "source": [
        "## Clarifying Questions",
        "",
        "1. **What should we do if k is larger than the total number of possible pairs (i.e., nums1.length * nums2.length)? Should we return all possible pairs or just the first k pairs?**\n\n2. **How should we handle duplicate values in the input arrays? For example, if both nums1 and nums2 contain the same elements, should the output include duplicate pairs?**\n\n3. **Are there any specific performance constraints we should be aware of, considering the maximum lengths of nums1 and nums2? What is the expected time complexity for the solution?**\n\n4. **Can we assume that both input arrays are always non-empty, or should we handle cases where one or both arrays could be empty?**\n\n5. **What is the expected output format? Should the pairs be returned as a list of lists, and is there a specific order in which the pairs should be presented (e.g., sorted by sum or in the order they are found)?**"
      ]
    },
    {
      "cell_type": "markdown",
      "metadata": {},
      "source": [
        "## Test Edge Cases",
        "",
        "Here are 8 important test edge cases to consider for the \"Find K Pairs with Smallest Sums\" problem:\n\n1. **Empty Arrays**:\n   - Input: `nums1 = [], nums2 = [], k = 1`\n   - Description: Both input arrays are empty. This tests how the function handles cases where no pairs can be formed.\n\n2. **Single Element Arrays**:\n   - Input: `nums1 = [5], nums2 = [10], k = 1`\n   - Description: Each array contains only one element. This tests the function's ability to handle the simplest non-empty case.\n\n3. **Maximum Size Arrays**:\n   - Input: `nums1 = [1, 2, ..., 100000], nums2 = [1, 2, ..., 100000], k = 10000`\n   - Description: Both arrays are at their maximum length (100,000). This tests the performance and efficiency of the algorithm under large input sizes.\n\n4. **All Elements are Zero**:\n   - Input: `nums1 = [0, 0, 0], nums2 = [0, 0, 0], k = 3`\n   - Description: All elements in both arrays are zero. This checks if the function can handle cases where the sums are the same.\n\n5. **Negative and Positive Numbers**:\n   - Input: `nums1 = [-1, 0, 1], nums2 = [-1, 0, 1], k = 5`\n   - Description: The arrays contain both negative and positive numbers. This tests how the function handles pairs that can yield negative sums.\n\n6. **Duplicates in Arrays**:\n   - Input: `nums1 = [1, 1, 2], nums2 = [1, 2, 3], k = 3`\n   - Description: The first array has duplicate elements. This checks if the function correctly handles and counts duplicate pairs.\n\n7. **k Greater than Possible Pairs**:\n   - Input: `nums1 = [1, 2], nums2 = [3, 4], k = 5`\n   - Description: The value of k exceeds the number of possible pairs (4 in this case). This tests how the function behaves when asked for more pairs than available.\n\n8. **Large k with Small Arrays**:\n   - Input: `nums1 = [1, 2], nums2 = [3, 4], k = 2`\n   - Description: The arrays are small, but k is set to the maximum number of pairs available. This tests if the function can return all possible pairs correctly. \n\nThese edge cases cover a variety of scenarios, including boundary conditions, special values, and performance considerations, ensuring a comprehensive test of the solution's robustness."
      ]
    },
    {
      "cell_type": "markdown",
      "metadata": {},
      "source": [
        "To solve the problem of finding the k pairs with the smallest sums from two sorted arrays, we can use a min-heap (priority queue). This approach takes advantage of the fact that both arrays are sorted, allowing us to efficiently retrieve pairs with the smallest sums.",
        "",
        "### 1. Approach Explanation",
        "",
        "The idea is to:",
        "- Start by considering pairs formed by the first element of `nums1` with each element of `nums2`. These pairs will have the smallest sums since both arrays are sorted.",
        "- Use a min-heap to keep track of the next smallest pair sums. The heap will store tuples of the form `(sum, i, j)` where `sum` is the sum of `nums1[i]` and `nums2[j]`, and `i` and `j` are the indices of the elements in `nums1` and `nums2`, respectively.",
        "- We initialize the heap with the first element of `nums1` paired with all elements of `nums2`.",
        "- We then repeatedly extract the smallest sum from the heap, and for each extracted pair `(i, j)`, we push the next pair `(i, j+1)` into the heap, if `j+1` is within bounds.",
        "- This continues until we have found `k` pairs or the heap is empty.",
        "",
        "### 2. Python Code Solution",
        "",
        "Here is the Python code implementing the above approach:"
      ]
    },
    {
      "cell_type": "code",
      "execution_count": null,
      "metadata": {},
      "outputs": [],
      "source": [
        "import heapq",
        "",
        "def kSmallestPairs(nums1, nums2, k):",
        "    # Result list to store the k pairs",
        "    result = []",
        "    ",
        "    # Edge case: If either array is empty, return empty result",
        "    if not nums1 or not nums2:",
        "        return result",
        "    ",
        "    # Min-heap to store the pairs and their sums",
        "    min_heap = []",
        "    ",
        "    # Initialize the heap with the first element of nums1 paired with all elements of nums2",
        "    for j in range(min(k, len(nums2))):  # Only need to consider at most k elements in nums2",
        "        heapq.heappush(min_heap, (nums1[0] + nums2[j], 0, j))  # (sum, index in nums1, index in nums2)",
        "    ",
        "    # Extract k pairs from the heap",
        "    while k > 0 and min_heap:",
        "        current_sum, i, j = heapq.heappop(min_heap)  # Get the smallest sum pair",
        "        result.append([nums1[i], nums2[j]])  # Add the pair to the result",
        "        ",
        "        # If there is a next element in nums1 to pair with nums2[j], push it into the heap",
        "        if i + 1 < len(nums1):",
        "            heapq.heappush(min_heap, (nums1[i + 1] + nums2[j], i + 1, j))",
        "        ",
        "        k -= 1  # Decrement k as we have found one more pair",
        "    ",
        "    return result"
      ]
    },
    {
      "cell_type": "markdown",
      "metadata": {},
      "source": [
        "### 3. Time and Space Complexity Analysis",
        "",
        "- **Time Complexity**: ",
        "  - The initialization of the heap takes O(min(k, m)) where m is the length of `nums2`, because we only push up to k elements into the heap.",
        "  - Each extraction from the heap takes O(log(min(k, m))) time. Since we do this at most k times, the total time complexity is O(k log(min(k, m))).",
        "",
        "- **Space Complexity**: ",
        "  - The space used by the heap is O(min(k, m)), where m is the length of `nums2`, because we store at most k pairs in the heap during the process. Additionally, the result list will take O(k) space.",
        "",
        "In summary, this approach efficiently retrieves the k pairs with the smallest sums by leveraging the properties of sorted arrays and utilizing a min-heap to maintain order."
      ]
    },
    {
      "cell_type": "markdown",
      "metadata": {},
      "source": [
        "---",
        "",
        ""
      ]
    },
    {
      "cell_type": "markdown",
      "metadata": {},
      "source": [
        "# Kth Smallest Element in a Sorted Matrix (#378)",
        "",
        "**Difficulty:** Medium  ",
        "**Date:** 2025-08-10 00:01:11  ",
        "**URL:** https://leetcode.com/problems/kth-smallest-element-in-a-sorted-matrix/",
        "",
        "---"
      ]
    },
    {
      "cell_type": "markdown",
      "metadata": {},
      "source": [
        "## Problem Description",
        "",
        "Given an n x n matrix where each of the rows and columns is sorted in ascending order, return the kth smallest element in the matrix.\n\nNote that it is the kth smallest element in the sorted order, not the kth distinct element.\n\nYou must find a solution with a memory complexity better than O(n2).\n\n&nbsp;\nExample 1:\n\n\nInput: matrix = [[1,5,9],[10,11,13],[12,13,15]], k = 8\nOutput: 13\nExplanation: The elements in the matrix are [1,5,9,10,11,12,13,13,15], and the 8th smallest number is 13\n\n\nExample 2:\n\n\nInput: matrix = [[-5]], k = 1\nOutput: -5\n\n\n&nbsp;\nConstraints:\n\n\n\tn == matrix.length == matrix[i].length\n\t1 <= n <= 300\n\t-109 <= matrix[i][j] <= 109\n\tAll the rows and columns of matrix are guaranteed to be sorted in non-decreasing order.\n\t1 <= k <= n2\n\n\n&nbsp;\nFollow up:\n\n\n\tCould you solve the problem with a constant memory (i.e., O(1) memory complexity)?\n\tCould you solve the problem in O(n) time complexity? The solution may be too advanced for an interview but you may find reading this paper fun.\n\n"
      ]
    },
    {
      "cell_type": "markdown",
      "metadata": {},
      "source": [
        "## Clarifying Questions",
        "",
        "1. **What should we return if `k` is greater than the total number of elements in the matrix?** (This helps clarify how to handle cases where `k` might be out of bounds.)\n\n2. **Are there any constraints on the values within the matrix besides being sorted?** (This helps confirm if there are any additional assumptions about the input values, such as uniqueness or specific ranges.)\n\n3. **Can we assume that `k` will always be a valid input according to the given constraints (1 <= k <= n^2)?** (This question checks if we need to handle any invalid inputs or exceptions.)\n\n4. **Is it acceptable to modify the input matrix, or do we need to maintain its original state?** (This clarifies whether we can use in-place algorithms or if we need to create a copy of the matrix.)\n\n5. **What is the expected behavior for edge cases, such as when `n` is 1 or when all elements in the matrix are the same?** (This helps identify how to handle specific scenarios that could affect the logic of the solution.)"
      ]
    },
    {
      "cell_type": "markdown",
      "metadata": {},
      "source": [
        "## Test Edge Cases",
        "",
        "Here are 8 important test edge cases to consider for the \"Kth Smallest Element in a Sorted Matrix\" problem:\n\n1. **Single Element Matrix**:\n   - **Input**: `matrix = [[1]], k = 1`\n   - **Description**: The simplest case where the matrix contains only one element. This tests if the function can handle the smallest possible input size.\n\n2. **Matrix with Negative Numbers**:\n   - **Input**: `matrix = [[-3, -2, -1], [0, 1, 2], [3, 4, 5]], k = 5`\n   - **Description**: A matrix that includes negative numbers. This checks if the function correctly identifies the kth smallest element when the values span negative to positive.\n\n3. **Matrix with Duplicates**:\n   - **Input**: `matrix = [[1, 1, 1], [1, 1, 1], [1, 1, 1]], k = 5`\n   - **Description**: A matrix where all elements are the same. This tests if the function can handle duplicates and still return the correct kth smallest element.\n\n4. **Maximum Size Matrix**:\n   - **Input**: `matrix = [[i + j for j in range(300)] for i in range(300)], k = 45000`\n   - **Description**: A large matrix (300x300) to test the performance and efficiency of the algorithm, especially regarding memory and time complexity.\n\n5. **Matrix with Mixed Values**:\n   - **Input**: `matrix = [[1, 5, 9], [10, 11, 13], [12, 13, 15]], k = 1`\n   - **Description**: Testing for the smallest element in a mixed-value matrix, ensuring that the algorithm can correctly identify the smallest element when k is 1.\n\n6. **Matrix with All Elements Equal**:\n   - **Input**: `matrix = [[2, 2, 2], [2, 2, 2], [2, 2, 2]], k = 9`\n   - **Description**: A matrix where all elements are equal, testing if the algorithm can handle cases where all values are the same and still return the correct kth smallest.\n\n7. **Large k Value**:\n   - **Input**: `matrix = [[1, 2], [3, 4]], k = 4`\n   - **Description**: A small matrix with a large k value equal to n^2. This checks if the function can handle the upper limit of k correctly.\n\n8. **Matrix with Maximum and Minimum Values**:\n   - **Input**: `matrix = [[-10**9, 0, 10**9], [10**9, 10**9,"
      ]
    },
    {
      "cell_type": "markdown",
      "metadata": {},
      "source": [
        "To solve the problem of finding the kth smallest element in a sorted matrix, we can use a min-heap (or priority queue) approach. This method efficiently narrows down the search space while maintaining a manageable memory footprint.",
        "",
        "### Approach Explanation",
        "",
        "1. **Understanding the Matrix**: The matrix is sorted both row-wise and column-wise. This means that the smallest element is at the top-left corner (matrix[0][0]), and larger elements are found as we move right or down.",
        "",
        "2. **Using a Min-Heap**:",
        "   - We can utilize a min-heap to keep track of the smallest elements in the matrix.",
        "   - We start by adding the first element of each row to the heap. This is because the smallest elements will either be in the first row or the first column.",
        "   - We then repeatedly extract the minimum element from the heap, and for each extracted element, we add the next element in the same column (if it exists) to the heap.",
        "   - We do this until we extract the kth smallest element.",
        "",
        "3. **Heap Operations**:",
        "   - Inserting and extracting from a heap takes O(log k) time, where k is the number of elements in the heap. Since we will extract k elements, the overall time complexity will be O(k log k).",
        "   - The space complexity will be O(k) due to the heap storing at most k elements.",
        "",
        "### Python Code Solution"
      ]
    },
    {
      "cell_type": "code",
      "execution_count": null,
      "metadata": {},
      "outputs": [],
      "source": [
        "import heapq",
        "",
        "def kthSmallest(matrix, k):",
        "    n = len(matrix)",
        "    # Min-heap to store the elements along with their coordinates (row, col)",
        "    min_heap = []",
        "    ",
        "    # Initialize the heap with the first element of each row",
        "    for r in range(min(n, k)):  # We only need the first k elements",
        "        heapq.heappush(min_heap, (matrix[r][0], r, 0))  # (value, row, column)",
        "    ",
        "    # Extract elements from the heap k times",
        "    for _ in range(k):",
        "        val, row, col = heapq.heappop(min_heap)  # Get the smallest element",
        "        # If there is a next element in the same row, add it to the heap",
        "        if col + 1 < n:",
        "            heapq.heappush(min_heap, (matrix[row][col + 1], row, col + 1))",
        "    ",
        "    # The kth smallest element will be the last popped element",
        "    return val",
        "",
        "# Example usage",
        "matrix1 = [[1,5,9],[10,11,13],[12,13,15]]",
        "k1 = 8",
        "print(kthSmallest(matrix1, k1))  # Output: 13",
        "",
        "matrix2 = [[-5]]",
        "k2 = 1",
        "print(kthSmallest(matrix2, k2))  # Output: -5"
      ]
    },
    {
      "cell_type": "markdown",
      "metadata": {},
      "source": [
        "### Time and Space Complexity Analysis",
        "",
        "- **Time Complexity**: The overall time complexity is O(k log k). This is because we perform k heap operations (each taking O(log k) time).",
        "  ",
        "- **Space Complexity**: The space complexity is O(k) due to the heap storing up to k elements at any time.",
        "",
        "### Follow-Up Exploration",
        "",
        "To achieve O(1) space complexity and O(n log k) time complexity, we would typically need to use a more advanced approach, such as binary search on the value range combined with counting elements less than a mid-point. This is more complex and involves finding how many elements are less than or equal to a guessed number, which can be done efficiently in a sorted matrix. However, the provided solution meets the problem's requirements effectively while ensuring clarity and ease of understanding."
      ]
    },
    {
      "cell_type": "markdown",
      "metadata": {},
      "source": [
        "---",
        "",
        ""
      ]
    },
    {
      "cell_type": "markdown",
      "metadata": {},
      "source": [
        "# Trapping Rain Water II (#407)",
        "",
        "**Difficulty:** Hard  ",
        "**Date:** 2025-08-10 00:02:10  ",
        "**URL:** https://leetcode.com/problems/trapping-rain-water-ii/",
        "",
        "---"
      ]
    },
    {
      "cell_type": "markdown",
      "metadata": {},
      "source": [
        "## Problem Description",
        "",
        "Given an m x n integer matrix heightMap representing the height of each unit cell in a 2D elevation map, return the volume of water it can trap after raining.\n\n&nbsp;\nExample 1:\n\n\nInput: heightMap = [[1,4,3,1,3,2],[3,2,1,3,2,4],[2,3,3,2,3,1]]\nOutput: 4\nExplanation: After the rain, water is trapped between the blocks.\nWe have two small ponds 1 and 3 units trapped.\nThe total volume of water trapped is 4.\n\n\nExample 2:\n\n\nInput: heightMap = [[3,3,3,3,3],[3,2,2,2,3],[3,2,1,2,3],[3,2,2,2,3],[3,3,3,3,3]]\nOutput: 10\n\n\n&nbsp;\nConstraints:\n\n\n\tm == heightMap.length\n\tn == heightMap[i].length\n\t1 <= m, n <= 200\n\t0 <= heightMap[i][j] <= 2 * 104\n\n"
      ]
    },
    {
      "cell_type": "markdown",
      "metadata": {},
      "source": [
        "## Clarifying Questions",
        "",
        "1. Are there any specific edge cases we should consider, such as when the heightMap is a single row or a single column, or when all heights are the same?\n\n2. Can we assume that the heightMap will always have valid dimensions (m x n) as per the constraints, or should we handle cases where the input might not conform to these dimensions?\n\n3. What should the function return if the heightMap is empty or if there are no cells that can trap water?\n\n4. Are there any performance constraints we should be aware of, particularly regarding the time complexity of our solution given the maximum dimensions of the heightMap (200 x 200)?\n\n5. Should we account for negative heights or heights exceeding the specified maximum of 20,000, or can we assume that all input values will be within the given range?"
      ]
    },
    {
      "cell_type": "markdown",
      "metadata": {},
      "source": [
        "## Test Edge Cases",
        "",
        "Here are 8 important test edge cases to consider for the \"Trapping Rain Water II\" problem:\n\n1. **Empty Matrix**:\n   - Input: `heightMap = []`\n   - Description: Tests the function's handling of an empty input. The expected output should be `0` since there are no cells to trap water.\n\n2. **Single Element Matrix**:\n   - Input: `heightMap = [[5]]`\n   - Description: Tests the smallest non-empty matrix. The expected output should be `0` because a single cell cannot trap any water.\n\n3. **Flat Surface**:\n   - Input: `heightMap = [[1, 1], [1, 1]]`\n   - Description: Tests a flat surface where all cells are of equal height. The expected output should be `0` as there are no depressions to trap water.\n\n4. **Maximum Size Matrix with Uniform Height**:\n   - Input: `heightMap = [[1] * 200] * 200`\n   - Description: Tests the performance of the algorithm with the maximum constraints where all heights are the same. The expected output should be `0`.\n\n5. **Matrix with a Single Pit**:\n   - Input: `heightMap = [[3, 3, 3], [3, 1, 3], [3, 3, 3]]`\n   - Description: Tests a simple case where there is a single pit in the center. The expected output should be `2`, as the pit can hold 2 units of water.\n\n6. **Matrix with Multiple Pits**:\n   - Input: `heightMap = [[1, 4, 3, 1, 3, 2], [3, 2, 1, 3, 2, 4], [2, 3, 3, 2, 3, 1]]`\n   - Description: Tests a more complex elevation map with multiple pits. The expected output should be `4`, as described in the problem statement.\n\n7. **Matrix with Varying Heights**:\n   - Input: `heightMap = [[1, 2, 1], [2, 1, 2], [1, 2, 1]]`\n   - Description: Tests a case with varying heights that can trap water. The expected output should be `4`, as the center can hold 4 units of water.\n\n8. **Matrix with Edge Values**:\n   - Input: `heightMap = [[0, 0], [0, 0]]`\n   - Description: Tests the edge case where all heights are zero. The expected output should be `0`, as there are no elevations to trap water.\n\nThese test cases cover a variety of scenarios, including boundary conditions, special values, and performance considerations."
      ]
    },
    {
      "cell_type": "markdown",
      "metadata": {},
      "source": [
        "To solve the \"Trapping Rain Water II\" problem, we can utilize a priority queue (min-heap) combined with a breadth-first search (BFS) approach. This problem is similar to the \"trapping rain water\" problem in one dimension but requires handling a two-dimensional height map.",
        "",
        "### Explanation of the Approach",
        "",
        "1. **Understanding the Problem**: We need to determine how much water can be trapped in the depressions of a 2D elevation map after a rain. Water can only escape if it can flow to the edges of the map.",
        "",
        "2. **Min-Heap for Priority Queue**: We will use a priority queue (min-heap) to always process the lowest height cell first. This is crucial because any water trapped at a cell depends on the height of the surrounding cells.",
        "",
        "3. **Boundary Cells**: We start by adding all the boundary cells (the cells at the edges of the matrix) into the min-heap. These cells cannot trap any water because they are exposed to the edge.",
        "",
        "4. **BFS-like Processing**: We will repeatedly extract the cell with the lowest height from the heap. For each cell, we will check its four neighboring cells (up, down, left, right). If a neighboring cell is lower than the current cell, it can potentially hold water. The amount of water it can hold is determined by the difference between the current height and the neighbor's height.",
        "",
        "5. **Update Heights and Enqueue**: After calculating the water for a neighboring cell, we update its height (effectively treating it as if it has been raised) to the max of its current height and the current cell height, and then we add it to the heap.",
        "",
        "6. **Repeat Until All Cells Processed**: Continue this process until all cells have been processed and the min-heap is empty.",
        "",
        "### Python Code Solution",
        "",
        "Here’s how you can implement this in Python:"
      ]
    },
    {
      "cell_type": "code",
      "execution_count": null,
      "metadata": {},
      "outputs": [],
      "source": [
        "import heapq",
        "",
        "def trapRainWater(heightMap):",
        "    if not heightMap or not heightMap[0]:",
        "        return 0",
        "    ",
        "    m, n = len(heightMap), len(heightMap[0])",
        "    visited = [[False] * n for _ in range(m)]",
        "    min_heap = []",
        "    ",
        "    # Add all the boundary cells to the min-heap",
        "    for i in range(m):",
        "        for j in range(n):",
        "            if i == 0 or i == m - 1 or j == 0 or j == n - 1:",
        "                heapq.heappush(min_heap, (heightMap[i][j], i, j))",
        "                visited[i][j] = True",
        "    ",
        "    # Directions for the 4 neighbors (up, down, left, right)",
        "    directions = [(1, 0), (-1, 0), (0, 1), (0, -1)]",
        "    ",
        "    water_trapped = 0",
        "    current_max_height = 0",
        "    ",
        "    # Process the cells in the min-heap",
        "    while min_heap:",
        "        current_height, x, y = heapq.heappop(min_heap)",
        "        current_max_height = max(current_max_height, current_height)",
        "",
        "        for dx, dy in directions:",
        "            nx, ny = x + dx, y + dy",
        "            ",
        "            # Check if neighbor is in bounds and not visited",
        "            if 0 <= nx < m and 0 <= ny < n and not visited[nx][ny]:",
        "                visited[nx][ny] = True",
        "                # Calculate water trapped",
        "                if heightMap[nx][ny] < current_max_height:",
        "                    water_trapped += current_max_height - heightMap[nx][ny]",
        "                # Push the maximum height of the neighbor to the heap",
        "                heapq.heappush(min_heap, (max(heightMap[nx][ny], current_max_height), nx, ny))",
        "    ",
        "    return water_trapped"
      ]
    },
    {
      "cell_type": "markdown",
      "metadata": {},
      "source": [
        "### Time and Space Complexity Analysis",
        "",
        "- **Time Complexity**: The main operations involve pushing and popping elements from the min-heap, which takes \\(O(\\log(k))\\), where \\(k\\) is the number of elements in the heap. Since we are processing each cell in the matrix and each cell can be added at most once to the heap, the overall time complexity is \\(O(m \\cdot n \\log(m \\cdot n))\\), where \\(m\\) is the number of rows and \\(n\\) is the number of columns.",
        "",
        "- **Space Complexity**: The space complexity is \\(O(m \\cdot n)\\) for the visited matrix and the min-heap can also hold up to \\(O(m \\cdot n)\\) elements in the worst case. Therefore, the overall space complexity is \\(O(m \\cdot n)\\).",
        "",
        "This approach efficiently computes the total volume of trapped water based on the elevation map given the constraints specified in the problem."
      ]
    },
    {
      "cell_type": "markdown",
      "metadata": {},
      "source": [
        "---",
        "",
        ""
      ]
    }
  ],
  "metadata": {
    "kernelspec": {
      "display_name": "Python 3",
      "language": "python",
      "name": "python3"
    },
    "language_info": {
      "name": "python",
      "version": "3.8.0"
    }
  },
  "nbformat": 4,
  "nbformat_minor": 4
}