{
 "cells": [
  {
   "cell_type": "code",
   "execution_count": null,
   "id": "daf13092",
   "metadata": {},
   "outputs": [],
   "source": "class TreeNode:\n    def __init__(self, val=0, left=None, right=None):\n        self.val = val\n        self.left = left\n        self.right = right\n\n\ndef generate_trees(n):\n    def generate_trees_helper(start, end):\n        if start > end:\n            return [None]\n\n        all_trees = []\n        for root in range(start, end + 1):\n            left_trees = generate_trees_helper(start, root - 1)\n            right_trees = generate_trees_helper(root + 1, end)\n            for left_tree in left_trees:\n                for right_tree in right_trees:\n                    current_tree = TreeNode(root, left_tree, right_tree)\n                    all_trees.append(current_tree)\n        return all_trees\n\n    return generate_trees_helper(1, n)\n\n\nprint(generate_trees(3))\n\n\ndef print_tree(tree):\n    if tree is None:\n        return\n\n    print_tree(tree.left)\n    print(tree.val)\n    print_tree(tree.right)\n\n\nfor tree in generate_trees(3):\n    print(f\"tree for root {tree.val}\")\n    print(\">\")\n    print_tree(tree)\n    print(\"---\" * 3)"
  },
  {
   "cell_type": "code",
   "execution_count": null,
   "id": "e8368266",
   "metadata": {},
   "outputs": [],
   "source": []
  },
  {
   "cell_type": "code",
   "execution_count": null,
   "id": "0f58e32d",
   "metadata": {},
   "outputs": [],
   "source": "def is_valid_bst(root):\n    def valid_helper(root, max_left, min_right):\n        if root is None:\n            return True\n        if root.val > max_left or root.val < min_right:\n            return False\n        return valid_helper(root.left, max_left, root.val) and valid_helper(\n            root.right, root.val, min_right\n        )\n\n    return valid_helper(root, float(\"-inf\"), float(\"inf\"))"
  },
  {
   "cell_type": "code",
   "execution_count": null,
   "id": "81851cd4",
   "metadata": {},
   "outputs": [],
   "source": "def print_tree(root, use_unicode=True):\n    \"\"\"\n    Pretty-print a binary tree to the console.\n    :param root: Root node of the tree\n    :param use_unicode: If True, use box-drawing characters\n    \"\"\"\n    if root is None:\n        print(\"∅\" if use_unicode else \"<empty>\")\n        return\n\n    # Characters\n    if use_unicode:\n        H, V, L, R = \"─\", \"│\", \"└\", \"┌\"\n    else:  # ASCII fallback\n        H, V, L, R = \"-\", \"|\", \"\\\\\", \"/\"\n\n    def display(node, prefix=\"\", is_left=True):\n        \"\"\"Recursive helper to print the tree.\"\"\"\n        if node is not None:\n            # Print right subtree\n            display(node.right, prefix + (\"│   \" if is_left else \"    \"), False)\n\n            # Print current node\n            connector = L if is_left else R\n            print(prefix + connector + H * 2 + str(node.val))\n\n            # Print left subtree\n            display(node.left, prefix + (\"    \" if is_left else \"│   \"), True)\n\n    display(root)\n\n\nfor each_tree in generate_trees(4):\n    print_tree(each_tree, use_unicode=False)\n    print(\"-\" * 10)"
  },
  {
   "cell_type": "code",
   "execution_count": null,
   "id": "97fc45f4",
   "metadata": {},
   "outputs": [],
   "source": "def recover_bst(self, root):\n    def inorder(root):\n        if not root:\n            return\n\n        inorder(root.left)\n        if self.prev and self.prev.val > root.val:\n            if not self.first:\n                self.first = self.prev\n            self.second = root\n\n        self.prev = root\n        inorder(root.right)\n\n    if self.first and self.second:\n        self.first.val, self.second.val = self.second.val, self.first.val"
  },
  {
   "cell_type": "code",
   "execution_count": null,
   "id": "011c3a0a",
   "metadata": {},
   "outputs": [],
   "source": "from collections import deque\n\na = deque()\nprint(\"\\n\".join(dir(a)))"
  },
  {
   "cell_type": "code",
   "execution_count": null,
   "id": "2295b506",
   "metadata": {},
   "outputs": [],
   "source": "# Level order\n\nfrom collections import deque\n\nqueue = []\n\n\ndef level_order(root):\n    if not root:\n        return\n\n    queue.append(root)\n    while queue:\n        node = queue.pop(0)\n        print(node.val)\n        if node.left:\n            queue.append(node.left)\n        if node.right:\n            queue.append(node.right)"
  },
  {
   "cell_type": "code",
   "execution_count": null,
   "id": "9d4e7919",
   "metadata": {},
   "outputs": [],
   "source": "def zig_zag_level(root):\n    if not root:\n        return\n\n    queue = deque()\n    queue.append(root)\n    level = 0\n    left_to_right = True\n    while queue:\n        node = queue.popleft()\n        present_level = []\n        for _ in range(len(queue)):\n            node = queue.popleft()\n            present_level.append(node.val)\n            if node.left:\n                queue.append(node.left)\n            if node.right:\n                queue.append(node.right)\n        if left_to_right:\n            print(present_level)\n        else:\n            print(present_level[::-1])\n        left_to_right = not left_to_right"
  }
 ],
 "metadata": {
  "kernelspec": {
   "display_name": "py310a",
   "language": "python",
   "name": "python3"
  },
  "language_info": {
   "codemirror_mode": {
    "name": "ipython",
    "version": 3
   },
   "file_extension": ".py",
   "mimetype": "text/x-python",
   "name": "python",
   "nbconvert_exporter": "python",
   "pygments_lexer": "ipython3",
   "version": "3.10.18"
  }
 },
 "nbformat": 4,
 "nbformat_minor": 5
}