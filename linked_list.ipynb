{
  "cells": [
    {
      "cell_type": "markdown",
      "metadata": {},
      "source": [
        "# Add Two Numbers (#2)",
        "",
        "**Difficulty:** Medium  ",
        "**Date:** 2025-07-31 17:46:45  ",
        "**URL:** https://leetcode.com/problems/add-two-numbers/",
        "",
        "---"
      ]
    },
    {
      "cell_type": "markdown",
      "metadata": {},
      "source": [
        "### 1. Explanation of the Approach",
        "",
        "The problem requires us to add two numbers represented as linked lists, where each node contains a single digit. The digits are stored in reverse order, meaning the least significant digit is at the head of the list. ",
        "",
        "To solve this problem, we can follow these steps:",
        "",
        "1. **Initialize Variables**: We need a carry variable to keep track of sums that exceed 9 and a dummy head for the resultant linked list.",
        "  ",
        "2. **Iterate through Both Lists**: We'll loop through both linked lists until we reach the end of both. In each iteration:",
        "   - Extract the current digit from each list (if it exists).",
        "   - Calculate the sum of these digits and the carry.",
        "   - Create a new node for the result linked list with the value of `sum % 10` (the last digit of the sum).",
        "   - Update the carry to `sum // 10` (the tens place of the sum).",
        "",
        "3. **Handle Remaining Carry**: After the loop, if there's still a carry left, we create one more node with its value.",
        "",
        "4. **Return the Result**: The result will be the next node of the dummy head since we used it as a placeholder.",
        "",
        "### 2. Python Code Solution with Comments",
        "",
        "Here’s the implementation of the above approach in Python:"
      ]
    },
    {
      "cell_type": "code",
      "execution_count": null,
      "metadata": {},
      "outputs": [],
      "source": [
        "class ListNode:",
        "    def __init__(self, val=0, next=None):",
        "        self.val = val",
        "        self.next = next",
        "",
        "def addTwoNumbers(l1: ListNode, l2: ListNode) -> ListNode:",
        "    # Dummy head to simplify the result linked list construction",
        "    dummy_head = ListNode(0)",
        "    current = dummy_head  # Pointer to build the new list",
        "    carry = 0  # Initialize carry",
        "",
        "    # Traverse both linked lists",
        "    while l1 is not None or l2 is not None:",
        "        # Get values from the current nodes if they exist",
        "        val1 = l1.val if l1 is not None else 0",
        "        val2 = l2.val if l2 is not None else 0",
        "        ",
        "        # Calculate the sum of the two digits and the carry",
        "        total = val1 + val2 + carry",
        "        ",
        "        # Update carry for the next iteration",
        "        carry = total // 10",
        "        ",
        "        # Create a new node with the digit to store in the result linked list",
        "        current.next = ListNode(total % 10)",
        "        current = current.next  # Move the pointer to the next",
        "",
        "        # Move to the next nodes in the input lists if available",
        "        if l1 is not None:",
        "            l1 = l1.next",
        "        if l2 is not None:",
        "            l2 = l2.next",
        "",
        "    # If there's a carry left after the loop, add a new node",
        "    if carry > 0:",
        "        current.next = ListNode(carry)",
        "",
        "    # Return the result linked list, which starts from the next of dummy head",
        "    return dummy_head.next"
      ]
    },
    {
      "cell_type": "markdown",
      "metadata": {},
      "source": [
        "### 3. Time and Space Complexity Analysis",
        "",
        "- **Time Complexity**: O(max(m, n)), where m and n are the lengths of the two linked lists. We traverse each list at most once.",
        "",
        "- **Space Complexity**: O(max(m, n)), which is the space used by the resultant linked list. In the worst case, the sum of two numbers with m and n digits can lead to a linked list of size max(m, n) + 1 (in case of a carry).",
        "",
        "This solution efficiently adds two numbers represented by linked lists while maintaining clarity and simplicity."
      ]
    },
    {
      "cell_type": "markdown",
      "metadata": {},
      "source": [
        "# Merge Two Sorted Lists (#21)",
        "",
        "**Difficulty:** Easy  ",
        "**Date:** 2025-08-01 01:08:40  ",
        "**URL:** https://leetcode.com/problems/merge-two-sorted-lists/",
        "",
        "---"
      ]
    },
    {
      "cell_type": "markdown",
      "metadata": {},
      "source": [
        "## Problem Description",
        "",
        "You are given the heads of two sorted linked lists list1 and list2.\n\nMerge the two lists into one sorted list. The list should be made by splicing together the nodes of the first two lists.\n\nReturn the head of the merged linked list.\n\n&nbsp;\nExample 1:\n\n\nInput: list1 = [1,2,4], list2 = [1,3,4]\nOutput: [1,1,2,3,4,4]\n\n\nExample 2:\n\n\nInput: list1 = [], list2 = []\nOutput: []\n\n\nExample 3:\n\n\nInput: list1 = [], list2 = [0]\nOutput: [0]\n\n\n&nbsp;\nConstraints:\n\n\n\tThe number of nodes in both lists is in the range [0, 50].\n\t-100 <= Node.val <= 100\n\tBoth list1 and list2 are sorted in non-decreasing order.\n\n"
      ]
    },
    {
      "cell_type": "markdown",
      "metadata": {},
      "source": [
        "## Clarifying Questions",
        "",
        "1. Are the input linked lists guaranteed to be non-empty, or should we handle cases where either or both lists could be empty?\n\n2. Can we assume that the input linked lists will only contain unique values, or should we consider duplicates as well?\n\n3. What should be the expected behavior if both input lists are empty? Should we return a specific value or just `null`?\n\n4. Are there any specific performance requirements we should be aware of, such as time complexity or space complexity constraints for our solution?\n\n5. Is it acceptable to modify the original linked lists, or do we need to create a new merged list without altering the input lists?"
      ]
    },
    {
      "cell_type": "markdown",
      "metadata": {},
      "source": [
        "## Test Edge Cases",
        "",
        "Here are 8 important test edge cases to consider when solving the \"Merge Two Sorted Lists\" problem:\n\n1. **Both Lists Empty**:\n   - **Input**: `list1 = []`, `list2 = []`\n   - **Description**: Tests the condition where both input lists are empty. The output should also be an empty list.\n\n2. **One List Empty**:\n   - **Input**: `list1 = []`, `list2 = [1, 2, 3]`\n   - **Description**: Tests the condition where one list is empty and the other contains multiple elements. The output should be the non-empty list.\n\n3. **Single Element Lists**:\n   - **Input**: `list1 = [1]`, `list2 = [2]`\n   - **Description**: Tests the merging of two lists that each contain a single element. The output should be a sorted list containing both elements.\n\n4. **Lists with Duplicate Values**:\n   - **Input**: `list1 = [1, 2, 4]`, `list2 = [1, 3, 4]`\n   - **Description**: Tests the merging of lists that contain duplicate values. The output should correctly reflect the sorted order with duplicates included.\n\n5. **Negative and Positive Values**:\n   - **Input**: `list1 = [-3, -1, 0]`, `list2 = [1, 2, 3]`\n   - **Description**: Tests the merging of lists that contain both negative and positive values. The output should maintain the sorted order.\n\n6. **Maximum Size Lists**:\n   - **Input**: `list1 = [-100]*25`, `list2 = [100]*25`\n   - **Description**: Tests the performance and correctness when both lists are at their maximum size (25 elements each). The output should be a list of 50 elements, all sorted.\n\n7. **Lists with All Elements Equal**:\n   - **Input**: `list1 = [5, 5, 5]`, `list2 = [5, 5, 5]`\n   - **Description**: Tests the merging of lists where all elements are the same. The output should reflect the correct number of duplicates in sorted order.\n\n8. **Lists with Zero Values**:\n   - **Input**: `list1 = [0, 1, 2]`, `list2 = [0, 0, 3]`\n   - **Description**: Tests the merging of lists that include zero values. The output should correctly handle the zeros and maintain the sorted order. \n\nThese test cases cover a range of scenarios, including boundary conditions, special values, and performance considerations."
      ]
    },
    {
      "cell_type": "markdown",
      "metadata": {},
      "source": [
        "### Step-by-Step Solution to the Problem: Merge Two Sorted Lists",
        "",
        "#### 1. Explanation of the Approach",
        "",
        "To merge two sorted linked lists, we can use an iterative approach that involves comparing the current nodes of both lists and attaching the smaller node to our merged list. The process can be summarized as follows:",
        "",
        "- Initialize a dummy node that will serve as the starting point of our merged list. This helps simplify the merge logic since we don't need to handle special cases for the head of the merged list.",
        "- Use a pointer (`current`) that will keep track of the last node in the merged list.",
        "- Traverse both lists in a loop, comparing the values of the nodes pointed to by `list1` and `list2`:",
        "  - If the value of the node in `list1` is less than or equal to that in `list2`, attach it to the merged list and advance the pointer in `list1`.",
        "  - Otherwise, attach the node from `list2` and move the pointer in `list2`.",
        "- If one of the lists is exhausted (i.e., we reach the end of one of the lists), we can directly attach the remaining nodes of the other list to our merged list.",
        "- Finally, return the merged list starting from the node next to the dummy node.",
        "",
        "This method ensures we maintain the sorted order while merging.",
        "",
        "#### 2. Python Code Solution with Comments",
        "",
        "Here is the Python code that implements the above approach:"
      ]
    },
    {
      "cell_type": "code",
      "execution_count": null,
      "metadata": {},
      "outputs": [],
      "source": [
        "# Definition for singly-linked list.",
        "class ListNode:",
        "    def __init__(self, val=0, next=None):",
        "        self.val = val",
        "        self.next = next",
        "",
        "def mergeTwoLists(list1, list2):",
        "    # Create a dummy node to simplify the merge logic",
        "    dummy = ListNode()",
        "    current = dummy  # Pointer to build our new list",
        "    ",
        "    # Traverse both lists while both have nodes",
        "    while list1 and list2:",
        "        if list1.val <= list2.val:",
        "            current.next = list1  # Attach list1's node",
        "            list1 = list1.next  # Move to the next node in list1",
        "        else:",
        "            current.next = list2  # Attach list2's node",
        "            list2 = list2.next  # Move to the next node in list2",
        "        current = current.next  # Move to the last node in the merged list",
        "    ",
        "    # If we have remaining nodes in either list, attach them",
        "    if list1:",
        "        current.next = list1",
        "    elif list2:",
        "        current.next = list2",
        "    ",
        "    # Return the merged list, which starts after the dummy node",
        "    return dummy.next"
      ]
    },
    {
      "cell_type": "markdown",
      "metadata": {},
      "source": [
        "#### 3. Time and Space Complexity Analysis",
        "",
        "- **Time Complexity**: O(n + m), where `n` is the number of nodes in `list1` and `m` is the number of nodes in `list2`. We traverse each node once.",
        "  ",
        "- **Space Complexity**: O(1), since we only use a small number of extra pointers to track the current state. The merged list is created in place without using additional data structures to store the nodes.",
        "",
        "This efficient approach ensures that we maintain the sorted order while merging the two lists and does so with minimal overhead."
      ]
    },
    {
      "cell_type": "markdown",
      "metadata": {},
      "source": [
        "---",
        "",
        ""
      ]
    },
    {
      "cell_type": "markdown",
      "metadata": {},
      "source": [
        "# Swap Nodes in Pairs (#24)",
        "",
        "**Difficulty:** Medium  ",
        "**Date:** 2025-08-01 01:09:21  ",
        "**URL:** https://leetcode.com/problems/swap-nodes-in-pairs/",
        "",
        "---"
      ]
    },
    {
      "cell_type": "markdown",
      "metadata": {},
      "source": [
        "## Problem Description",
        "",
        "Given a&nbsp;linked list, swap every two adjacent nodes and return its head. You must solve the problem without&nbsp;modifying the values in the list&#39;s nodes (i.e., only nodes themselves may be changed.)\n\n&nbsp;\nExample 1:\n\n\nInput: head = [1,2,3,4]\n\nOutput: [2,1,4,3]\n\nExplanation:\n\n\n\n\nExample 2:\n\n\nInput: head = []\n\nOutput: []\n\n\nExample 3:\n\n\nInput: head = [1]\n\nOutput: [1]\n\n\nExample 4:\n\n\nInput: head = [1,2,3]\n\nOutput: [2,1,3]\n\n\n&nbsp;\nConstraints:\n\n\n\tThe number of nodes in the&nbsp;list&nbsp;is in the range [0, 100].\n\t0 <= Node.val <= 100\n\n"
      ]
    },
    {
      "cell_type": "markdown",
      "metadata": {},
      "source": [
        "## Clarifying Questions",
        "",
        "1. Are there any specific constraints on the values of the nodes beyond the given range (0 <= Node.val <= 100), such as whether they can be negative or if there are any duplicate values?\n\n2. How should we handle the case when the linked list has an odd number of nodes? Should the last node remain in its position, or should it be swapped with a non-existent node?\n\n3. Can you clarify the expected output format? Should the output be a linked list or an array representation of the linked list?\n\n4. Are there any performance requirements we should be aware of, such as time complexity or space complexity constraints for the solution?\n\n5. Should we assume that the input linked list is always valid, or do we need to handle potential edge cases like null pointers or malformed lists?"
      ]
    },
    {
      "cell_type": "markdown",
      "metadata": {},
      "source": [
        "## Test Edge Cases",
        "",
        "Here are 8 important test edge cases to consider for the \"Swap Nodes in Pairs\" problem:\n\n1. **Empty List**:\n   - **Input**: `head = []`\n   - **Description**: Tests the function's handling of an empty linked list. The expected output should also be an empty list.\n\n2. **Single Node**:\n   - **Input**: `head = [1]`\n   - **Description**: Tests the function with a linked list containing only one node. The output should be the same single node, as there are no pairs to swap.\n\n3. **Two Nodes**:\n   - **Input**: `head = [1, 2]`\n   - **Description**: Tests the simplest case with two nodes. The expected output should be `[2, 1]` after swapping.\n\n4. **Odd Number of Nodes**:\n   - **Input**: `head = [1, 2, 3]`\n   - **Description**: Tests a linked list with an odd number of nodes. The expected output should be `[2, 1, 3]`, where the last node remains unswapped.\n\n5. **Even Number of Nodes**:\n   - **Input**: `head = [1, 2, 3, 4]`\n   - **Description**: Tests a linked list with an even number of nodes. The expected output should be `[2, 1, 4, 3]`, where all nodes are swapped in pairs.\n\n6. **Maximum Size List**:\n   - **Input**: `head = [0, 1, 2, ..., 99]` (100 nodes)\n   - **Description**: Tests the function's performance and correctness with the maximum allowed size of the linked list. The output should be pairs swapped correctly.\n\n7. **List with Duplicate Values**:\n   - **Input**: `head = [1, 1, 2, 2]`\n   - **Description**: Tests how the function handles a linked list with duplicate values. The expected output should be `[1, 1, 2, 2]`, as pairs of duplicates should still swap.\n\n8. **List with Zero Values**:\n   - **Input**: `head = [0, 0, 0, 0]`\n   - **Description**: Tests the function with a linked list where all nodes have the value zero. The expected output should be `[0, 0, 0, 0]`, as all pairs of zeros should swap but remain unchanged.\n\nThese test cases cover a variety of scenarios, including boundary conditions, special values, and performance considerations, ensuring a comprehensive evaluation of the solution."
      ]
    },
    {
      "cell_type": "markdown",
      "metadata": {},
      "source": [
        "To solve the problem of swapping adjacent nodes in a linked list, we can adopt an iterative approach that involves rearranging the pointers of the nodes. Let's go through the explanation, the code, and the complexity analysis step by step.",
        "",
        "### 1. Approach Explanation",
        "",
        "The core idea is to traverse the linked list in pairs, swapping the nodes in each pair as we go. We need to keep track of the previous node so that we can link the swapped pairs correctly. ",
        "",
        "Here’s how we can approach the problem:",
        "",
        "1. **Initialize a Dummy Node**: Create a dummy node that points to the head of the list. This helps simplify edge cases, such as when the head itself gets swapped.",
        "",
        "2. **Use a Pointer for Traversal**: Start with a pointer that will help in traversing the list. Initially, it will point to the dummy node.",
        "",
        "3. **Iterate through the List**: While there are pairs of nodes left to swap:",
        "   - Identify the two nodes to swap (let's call them `first` and `second`).",
        "   - Perform the swapping by adjusting the pointers:",
        "     - `prev.next` should point to `second`.",
        "     - `first.next` should point to the node after `second`.",
        "     - `second.next` should point to `first`.",
        "   - Move the `prev` pointer two nodes ahead to continue the process.",
        "",
        "4. **Return the New Head**: After all pairs have been swapped, return `dummy.next`, which points to the new head of the modified list.",
        "",
        "### 2. Python Code Solution",
        "",
        "Here is the Python code implementing the above approach:"
      ]
    },
    {
      "cell_type": "code",
      "execution_count": null,
      "metadata": {},
      "outputs": [],
      "source": [
        "class ListNode:",
        "    def __init__(self, val=0, next=None):",
        "        self.val = val",
        "        self.next = next",
        "",
        "def swapPairs(head: ListNode) -> ListNode:",
        "    # Create a dummy node that points to the head",
        "    dummy = ListNode(0)",
        "    dummy.next = head",
        "    ",
        "    # This will point to the node before the pair we are swapping",
        "    prev = dummy",
        "    ",
        "    # Iterate while there are at least two nodes left to swap",
        "    while prev.next and prev.next.next:",
        "        # Identify the first and second nodes to swap",
        "        first = prev.next",
        "        second = first.next",
        "        ",
        "        # Perform the swap",
        "        prev.next = second   # Link previous node to second node",
        "        first.next = second.next  # Link first node to the node after second",
        "        second.next = first  # Link second node to first node",
        "        ",
        "        # Move prev two nodes ahead",
        "        prev = first  # Now prev is the first node, which is the second in the pair swapped",
        "",
        "    # Return the new head, which is the next of dummy",
        "    return dummy.next"
      ]
    },
    {
      "cell_type": "markdown",
      "metadata": {},
      "source": [
        "### 3. Time and Space Complexity Analysis",
        "",
        "- **Time Complexity**: O(n), where n is the number of nodes in the linked list. We go through the list once and perform constant time operations for each pair of nodes.",
        "",
        "- **Space Complexity**: O(1). We are using a constant amount of extra space (for the dummy node and the pointers). No additional data structures proportional to the input size are used.",
        "",
        "This solution efficiently swaps the nodes in pairs without modifying the values of the nodes, adhering to the problem constraints."
      ]
    },
    {
      "cell_type": "markdown",
      "metadata": {},
      "source": [
        "---",
        "",
        ""
      ]
    },
    {
      "cell_type": "markdown",
      "metadata": {},
      "source": [
        "# Reverse Nodes in k-Group (#25)",
        "",
        "**Difficulty:** Hard  ",
        "**Date:** 2025-08-01 01:09:37  ",
        "**URL:** https://leetcode.com/problems/reverse-nodes-in-k-group/",
        "",
        "---"
      ]
    },
    {
      "cell_type": "markdown",
      "metadata": {},
      "source": [
        "## Problem Description",
        "",
        "Given the head of a linked list, reverse the nodes of the list k at a time, and return the modified list.\n\nk is a positive integer and is less than or equal to the length of the linked list. If the number of nodes is not a multiple of k then left-out nodes, in the end, should remain as it is.\n\nYou may not alter the values in the list&#39;s nodes, only nodes themselves may be changed.\n\n&nbsp;\nExample 1:\n\n\nInput: head = [1,2,3,4,5], k = 2\nOutput: [2,1,4,3,5]\n\n\nExample 2:\n\n\nInput: head = [1,2,3,4,5], k = 3\nOutput: [3,2,1,4,5]\n\n\n&nbsp;\nConstraints:\n\n\n\tThe number of nodes in the list is n.\n\t1 <= k <= n <= 5000\n\t0 <= Node.val <= 1000\n\n\n&nbsp;\nFollow-up: Can you solve the problem in O(1) extra memory space?\n"
      ]
    },
    {
      "cell_type": "markdown",
      "metadata": {},
      "source": [
        "## Clarifying Questions",
        "",
        "1. **What should we do if the linked list has fewer than k nodes?** Should we return the list as is, or is there a specific output format we should follow?\n\n2. **Can you clarify how the input linked list is represented?** Are we assuming it is provided as a head pointer to a ListNode structure, or in some other format?\n\n3. **Are there any specific constraints on the values of the nodes?** For example, can the values be negative or are we strictly limited to the range [0, 1000] as mentioned?\n\n4. **Is it acceptable to modify the linked list in place, or should we create a new linked list for the output?** The problem states to change nodes themselves, but should we avoid creating any additional data structures?\n\n5. **What is the expected behavior if k is equal to 1?** Should the linked list remain unchanged, or is there a specific output format we should adhere to?"
      ]
    },
    {
      "cell_type": "markdown",
      "metadata": {},
      "source": [
        "## Test Edge Cases",
        "",
        "Here are 8 important test edge cases to consider for the \"Reverse Nodes in k-Group\" problem:\n\n1. **Empty List**:\n   - **Input**: `head = []`, `k = 1`\n   - **Description**: Tests the function's handling of an empty linked list. The output should also be an empty list.\n\n2. **Single Element List**:\n   - **Input**: `head = [1]`, `k = 1`\n   - **Description**: Tests the case where the list contains only one node. The output should remain the same as the input.\n\n3. **List Length Equal to k**:\n   - **Input**: `head = [1, 2, 3, 4, 5]`, `k = 5`\n   - **Description**: Tests the scenario where the entire list is reversed because its length is equal to k. The output should be `[5, 4, 3, 2, 1]`.\n\n4. **List Length Not a Multiple of k**:\n   - **Input**: `head = [1, 2, 3, 4, 5]`, `k = 3`\n   - **Description**: Tests the case where the list length is not a multiple of k. The first three nodes should be reversed, while the remaining nodes should remain unchanged. The output should be `[3, 2, 1, 4, 5]`.\n\n5. **k = 1**:\n   - **Input**: `head = [1, 2, 3, 4, 5]`, `k = 1`\n   - **Description**: Tests the case where k is 1, which means no reversal should occur. The output should be the same as the input: `[1, 2, 3, 4, 5]`.\n\n6. **k Equals List Length with Multiple Nodes**:\n   - **Input**: `head = [1, 1, 1, 1, 1]`, `k = 5`\n   - **Description**: Tests the case where all nodes have the same value and the list length equals k. The output should be the same as the input: `[1, 1, 1, 1, 1]`.\n\n7. **Large List with Maximum Size**:\n   - **Input**: `head = [i for i in range(1, 5001)]`, `k = 1000`\n   - **Description**: Tests the performance and efficiency of the algorithm with the maximum constraints. The output should reflect the correct reversal of every 1000 nodes.\n\n8. **List with Duplicates**:\n   - **Input**: `head = [1, 2, 2, 3, 3, 3]`,"
      ]
    },
    {
      "cell_type": "markdown",
      "metadata": {},
      "source": [
        "To solve the problem of reversing nodes in a k-group in a linked list, we will adopt a systematic approach. Here's a detailed breakdown of the solution.",
        "",
        "### Approach Explanation",
        "",
        "1. **Understanding k-group Reversal**:",
        "   - We need to reverse nodes in groups of size `k`.",
        "   - If the total number of nodes is not a multiple of `k`, the remaining nodes (less than `k`) should remain as they are.",
        "",
        "2. **Iterative Process**:",
        "   - We will traverse the linked list in chunks of size `k`.",
        "   - For each chunk, if the chunk size is `k`, we reverse the nodes in that chunk.",
        "   - If there are fewer than `k` nodes left at the end of the list, we simply append them as they are without reversing.",
        "",
        "3. **Maintaining Connections**:",
        "   - We need to maintain connections between the reversed groups and the next groups to ensure the entire list remains intact.",
        "",
        "4. **Handling Edge Cases**:",
        "   - If the list has less than `k` nodes in total, return the original list.",
        "",
        "### Python Code Solution",
        "",
        "Here's the Python code that implements the above logic:"
      ]
    },
    {
      "cell_type": "code",
      "execution_count": null,
      "metadata": {},
      "outputs": [],
      "source": [
        "class ListNode:",
        "    def __init__(self, val=0, next=None):",
        "        self.val = val",
        "        self.next = next",
        "",
        "def reverseKGroup(head: ListNode, k: int) -> ListNode:",
        "    # Function to reverse a linked list from start to end",
        "    def reverseLinkedList(start: ListNode, end: ListNode) -> ListNode:",
        "        prev = None",
        "        current = start",
        "        while current != end:",
        "            next_node = current.next  # Temporarily store next node",
        "            current.next = prev       # Reverse the link",
        "            prev = current            # Move prev to current",
        "            current = next_node       # Move to next node",
        "        return prev  # New head of the reversed list",
        "",
        "    # Dummy node to handle edge cases more smoothly",
        "    dummy = ListNode(0)",
        "    dummy.next = head",
        "    prev_group_end = dummy  # This will point to the end of the previous group",
        "",
        "    while True:",
        "        # Check if there are at least k nodes to reverse",
        "        kth_node = prev_group_end",
        "        for i in range(k):",
        "            kth_node = kth_node.next",
        "            if not kth_node:  # Not enough nodes",
        "                return dummy.next",
        "",
        "        # Now we have `k` nodes to reverse",
        "        group_start = prev_group_end.next  # Start of the group to reverse",
        "        group_end = kth_node.next           # Node after the group to reverse",
        "",
        "        # Reverse the group",
        "        prev = reverseLinkedList(group_start, group_end)",
        "",
        "        # Connect the previous part to the reversed group",
        "        prev_group_end.next = prev",
        "        # Connect the reversed group to the next part",
        "        group_start.next = group_end",
        "",
        "        # Move the pointer for the next group",
        "        prev_group_end = group_start",
        "",
        "# Example usage",
        "# Constructing a linked list: 1 -> 2 -> 3 -> 4 -> 5",
        "head = ListNode(1, ListNode(2, ListNode(3, ListNode(4, ListNode(5)))))",
        "k = 2",
        "new_head = reverseKGroup(head, k)",
        "",
        "# Function to print the linked list",
        "def print_list(node):",
        "    while node:",
        "        print(node.val, end=\" -> \")",
        "        node = node.next",
        "    print(\"None\")",
        "",
        "print_list(new_head)  # Output: 2 -> 1 -> 4 -> 3 -> 5 -> None"
      ]
    },
    {
      "cell_type": "markdown",
      "metadata": {},
      "source": [
        "### Time and Space Complexity Analysis",
        "",
        "- **Time Complexity**: ",
        "  - The outer loop iterates through the list in chunks of size `k`. Each reversal operation takes O(k) time, and since there are O(n/k) such groups, the total time complexity is O(n).",
        "",
        "- **Space Complexity**: ",
        "  - We are using a constant amount of extra space (O(1)), as we only use pointers to reverse the nodes and do not require any additional data structures that scale with input size.",
        "",
        "This solution efficiently reverses nodes in k-groups while adhering to the constraints provided."
      ]
    },
    {
      "cell_type": "markdown",
      "metadata": {},
      "source": [
        "---",
        "",
        ""
      ]
    },
    {
      "cell_type": "markdown",
      "metadata": {},
      "source": [
        "# Rotate List (#61)",
        "",
        "**Difficulty:** Medium  ",
        "**Date:** 2025-08-01 01:25:12  ",
        "**URL:** https://leetcode.com/problems/rotate-list/",
        "",
        "---"
      ]
    },
    {
      "cell_type": "markdown",
      "metadata": {},
      "source": [
        "## Problem Description",
        "",
        "Given the head of a linked&nbsp;list, rotate the list to the right by k places.\n\n&nbsp;\nExample 1:\n\n\nInput: head = [1,2,3,4,5], k = 2\nOutput: [4,5,1,2,3]\n\n\nExample 2:\n\n\nInput: head = [0,1,2], k = 4\nOutput: [2,0,1]\n\n\n&nbsp;\nConstraints:\n\n\n\tThe number of nodes in the list is in the range [0, 500].\n\t-100 <= Node.val <= 100\n\t0 <= k <= 2 * 109\n\n"
      ]
    },
    {
      "cell_type": "markdown",
      "metadata": {},
      "source": [
        "## Clarifying Questions",
        "",
        "1. What should we return if the input linked list is empty (i.e., the head is null)? Should we return null or an empty list?\n\n2. How should we handle cases where k is greater than the length of the linked list? Should we effectively reduce k by taking k modulo the length of the list?\n\n3. Are there any specific requirements for the output format? Should the output be a linked list, an array representation, or something else?\n\n4. Is the linked list guaranteed to have unique values, or can there be duplicates? Does this affect how we interpret the rotation?\n\n5. Are there any performance constraints we should be aware of, particularly regarding time and space complexity for large values of k or when the list is at its maximum length?"
      ]
    },
    {
      "cell_type": "markdown",
      "metadata": {},
      "source": [
        "## Test Edge Cases",
        "",
        "Here are 8 important test edge cases to consider for the \"Rotate List\" problem:\n\n1. **Empty List**:\n   - Input: `head = []`, `k = 5`\n   - Description: Tests the behavior of the function when there are no nodes in the list. The output should also be an empty list.\n\n2. **Single Node List**:\n   - Input: `head = [1]`, `k = 3`\n   - Description: Tests the case where the list contains only one node. Regardless of the value of `k`, the output should remain the same as the input.\n\n3. **List with Two Nodes**:\n   - Input: `head = [1, 2]`, `k = 1`\n   - Description: Tests the rotation of a small list. The output should be `[2, 1]` after rotating once.\n\n4. **Rotation Greater than List Length**:\n   - Input: `head = [1, 2, 3, 4, 5]`, `k = 7`\n   - Description: Tests the case where `k` is greater than the length of the list. The effective rotation should be `k % length`, which in this case is `2`, resulting in `[4, 5, 1, 2, 3]`.\n\n5. **List with Duplicates**:\n   - Input: `head = [1, 2, 3, 3, 4]`, `k = 2`\n   - Description: Tests how the function handles lists with duplicate values. The output should be `[3, 4, 1, 2, 3]`.\n\n6. **Large List with Maximum Size**:\n   - Input: `head = [0, 1, 2, ..., 499]`, `k = 500`\n   - Description: Tests the performance and correctness with the maximum number of nodes in the list. The output should be the same as the input list since rotating by the length of the list results in no change.\n\n7. **Negative Values**:\n   - Input: `head = [-1, -2, -3, -4, -5]`, `k = 3`\n   - Description: Tests the function’s handling of negative values. The output should be `[-3, -4, -5, -1, -2]`.\n\n8. **Zero Rotation**:\n   - Input: `head = [1, 2, 3, 4, 5]`, `k = 0`\n   - Description: Tests the case where no rotation is requested. The output should be the same as the input list: `[1, 2, 3, 4, 5]`. \n\nThese test cases cover a range of scenarios including edge cases, special values, and performance considerations."
      ]
    },
    {
      "cell_type": "markdown",
      "metadata": {},
      "source": [
        "To solve the problem of rotating a linked list to the right by `k` places, we can follow these steps:",
        "",
        "### Approach",
        "",
        "1. **Edge Cases**: First, we need to handle some edge cases:",
        "   - If the list is empty (`head` is `None`) or has only one node, we can simply return `head` because rotating does not change the list.",
        "   - If `k` is 0, the list remains unchanged.",
        "   ",
        "2. **Calculate Length**: Iterate through the linked list to determine its length, `n`. While doing this, we also keep track of the last node to facilitate the rotation.",
        "",
        "3. **Effective Rotations**: Since rotating the list by its length `n` results in the same list, we can use `k % n` to find the effective number of rotations needed.",
        "",
        "4. **Find the New Head**: To determine the new head of the rotated list, we need to find the `(n - k)`-th node, as this will be the new head after rotation. The node just before this will become the new tail.",
        "",
        "5. **Adjust Pointers**: Change the `next` pointer of the new tail to `None` to signify the end of the list, and set the `next` pointer of the old tail to the old head to complete the rotation.",
        "",
        "### Python Code Solution",
        "",
        "Here is the implementation of the above approach:"
      ]
    },
    {
      "cell_type": "code",
      "execution_count": null,
      "metadata": {},
      "outputs": [],
      "source": [
        "class ListNode:",
        "    def __init__(self, val=0, next=None):",
        "        self.val = val",
        "        self.next = next",
        "",
        "def rotateRight(head: ListNode, k: int) -> ListNode:",
        "    # Edge cases",
        "    if not head or not head.next or k == 0:",
        "        return head",
        "    ",
        "    # Step 1: Calculate the length of the list and find the last node.",
        "    length = 1",
        "    last_node = head",
        "    ",
        "    while last_node.next:",
        "        last_node = last_node.next",
        "        length += 1",
        "    ",
        "    # Step 2: Effective rotations",
        "    k = k % length",
        "    if k == 0:",
        "        return head  # No rotation needed",
        "    ",
        "    # Step 3: Find the new head and the new tail",
        "    new_tail_index = length - k - 1",
        "    new_tail = head",
        "    ",
        "    for _ in range(new_tail_index):",
        "        new_tail = new_tail.next",
        "    ",
        "    # Step 4: Adjust pointers",
        "    new_head = new_tail.next  # This will be the new head",
        "    new_tail.next = None  # Terminate the new list",
        "    last_node.next = head  # Connect old tail to old head",
        "    ",
        "    return new_head"
      ]
    },
    {
      "cell_type": "markdown",
      "metadata": {},
      "source": [
        "### Time and Space Complexity Analysis",
        "",
        "- **Time Complexity**: The solution traverses the linked list a few times:",
        "  - First to calculate the length (O(n)).",
        "  - Second to find the new tail and head (O(n)).",
        "  ",
        "  Thus, the overall time complexity is O(n).",
        "",
        "- **Space Complexity**: The algorithm uses a constant amount of extra space (O(1)) as we are only using a few pointers and not creating any additional data structures that scale with the input size.",
        "",
        "### Summary",
        "",
        "We have successfully solved the problem of rotating a linked list by following a systematic approach that handles edge cases, calculates the necessary lengths, and appropriately adjusts pointers. This solution is efficient and clear, making it suitable for lists of varying lengths and rotation values."
      ]
    },
    {
      "cell_type": "markdown",
      "metadata": {},
      "source": [
        "---",
        "",
        ""
      ]
    },
    {
      "cell_type": "markdown",
      "metadata": {},
      "source": [
        "# Remove Duplicates from Sorted List II (#82)",
        "",
        "**Difficulty:** Medium  ",
        "**Date:** 2025-08-01 08:22:30  ",
        "**URL:** https://leetcode.com/problems/remove-duplicates-from-sorted-list-ii/",
        "",
        "---"
      ]
    },
    {
      "cell_type": "markdown",
      "metadata": {},
      "source": [
        "## Problem Description",
        "",
        "Given the head of a sorted linked list, delete all nodes that have duplicate numbers, leaving only distinct numbers from the original list. Return the linked list sorted as well.\n\n&nbsp;\nExample 1:\n\n\nInput: head = [1,2,3,3,4,4,5]\nOutput: [1,2,5]\n\n\nExample 2:\n\n\nInput: head = [1,1,1,2,3]\nOutput: [2,3]\n\n\n&nbsp;\nConstraints:\n\n\n\tThe number of nodes in the list is in the range [0, 300].\n\t-100 <= Node.val <= 100\n\tThe list is guaranteed to be sorted in ascending order.\n\n"
      ]
    },
    {
      "cell_type": "markdown",
      "metadata": {},
      "source": [
        "## Clarifying Questions",
        "",
        "1. **What should be returned if the input linked list is empty?** (i.e., how should we handle the case when `head` is `null`?)\n\n2. **Are there any specific requirements for the output format?** (i.e., should the output be a linked list object, an array representation, or something else?)\n\n3. **How should we handle the case where all nodes in the linked list are duplicates?** (i.e., should the output be an empty list in this scenario?)\n\n4. **Is there a specific time or space complexity that we should aim for in our solution?** (i.e., are there any performance constraints we need to consider given the maximum number of nodes?)\n\n5. **Can we assume that the input linked list will always be sorted in ascending order, or should we handle cases where it might not be?** (i.e., is it guaranteed that the input will meet the problem's constraints?)"
      ]
    },
    {
      "cell_type": "markdown",
      "metadata": {},
      "source": [
        "## Test Edge Cases",
        "",
        "Here are 8 important test edge cases to consider for the \"Remove Duplicates from Sorted List II\" problem:\n\n1. **Empty List**:\n   - **Input**: `head = []`\n   - **Description**: Tests the function's behavior when there are no nodes in the list. The expected output should also be an empty list.\n\n2. **Single Element List**:\n   - **Input**: `head = [1]`\n   - **Description**: Tests the case where the list contains only one node. The output should be the same single node, as there are no duplicates.\n\n3. **All Elements Duplicated**:\n   - **Input**: `head = [2, 2, 2, 2]`\n   - **Description**: Tests the scenario where all nodes have the same value. The expected output should be an empty list since all nodes are duplicates.\n\n4. **Distinct Elements with No Duplicates**:\n   - **Input**: `head = [1, 2, 3, 4, 5]`\n   - **Description**: Tests a case where all elements are distinct. The output should be the same list, as there are no duplicates to remove.\n\n5. **Mixed Duplicates and Distinct Elements**:\n   - **Input**: `head = [1, 2, 3, 3, 4, 4, 5]`\n   - **Description**: Similar to the example provided, this tests the function's ability to correctly identify and remove duplicates while preserving distinct values. The expected output should be `[1, 2, 5]`.\n\n6. **Negative and Positive Values**:\n   - **Input**: `head = [-3, -3, -2, -1, 0, 1, 1]`\n   - **Description**: Tests the function's handling of both negative and positive integers with duplicates. The expected output should be `[-2, -1, 0]`.\n\n7. **Maximum Size List**:\n   - **Input**: `head = [1] * 300` (a list of 300 nodes, all with the value 1)\n   - **Description**: Tests the performance and efficiency of the function with the maximum number of nodes allowed. The expected output should be an empty list since all nodes are duplicates.\n\n8. **Alternating Duplicates**:\n   - **Input**: `head = [1, 1, 2, 2, 3, 3]`\n   - **Description**: Tests a case where each number appears twice in sequence. The expected output should be an empty list since all nodes are duplicates.\n\nThese test cases cover a range of scenarios including edge cases, boundary conditions, and performance considerations, ensuring a comprehensive evaluation of the solution's correctness and efficiency."
      ]
    },
    {
      "cell_type": "markdown",
      "metadata": {},
      "source": [
        "Let's solve the LeetCode problem \"Remove Duplicates from Sorted List II\" step by step.",
        "",
        "### 1. Explanation of the Approach",
        "",
        "The problem requires us to remove all nodes from a sorted linked list that have duplicate values, leaving only distinct values. Given that the list is sorted, duplicates will always be adjacent to each other.",
        "",
        "**Approach:**",
        "- We will use a dummy node to simplify the logic for handling the head of the list.",
        "- We traverse the linked list while maintaining a reference to the previous node.",
        "- We check for duplicates by comparing the current node's value with the next node's value.",
        "- If we find duplicates, we skip all nodes with that value.",
        "- If no duplicates are found, we link the previous node to the current node.",
        "- Finally, we return the next node of the dummy as the new head of the modified list.",
        "",
        "### 2. Python Code Solution with Comments"
      ]
    },
    {
      "cell_type": "code",
      "execution_count": null,
      "metadata": {},
      "outputs": [],
      "source": [
        "class ListNode:",
        "    def __init__(self, val=0, next=None):",
        "        self.val = val",
        "        self.next = next",
        "",
        "def deleteDuplicates(head: ListNode) -> ListNode:",
        "    # Create a dummy node that points to the head of the list",
        "    dummy = ListNode(0)",
        "    dummy.next = head",
        "    prev = dummy  # Previous node starts as dummy",
        "",
        "    while head:",
        "        # Check if the current node is a start of duplicates",
        "        if head.next and head.val == head.next.val:",
        "            # Skip all nodes with the same value",
        "            while head.next and head.val == head.next.val:",
        "                head = head.next",
        "            # Skip the last node of the duplicates",
        "            prev.next = head.next",
        "        else:",
        "            # No duplicates detected, move prev to current",
        "            prev = prev.next",
        "        ",
        "        # Move head pointer to the next node",
        "        head = head.next",
        "",
        "    # Return the next of dummy which is the new head of the modified list",
        "    return dummy.next"
      ]
    },
    {
      "cell_type": "markdown",
      "metadata": {},
      "source": [
        "### 3. Time and Space Complexity Analysis",
        "",
        "- **Time Complexity:** \\(O(n)\\), where \\(n\\) is the number of nodes in the linked list. We traverse the list once, examining each node and its next node to detect duplicates.",
        "  ",
        "- **Space Complexity:** \\(O(1)\\). We only use a fixed amount of extra space (the dummy node), and we do not use any additional data structures that grow with the input size.",
        "",
        "This solution efficiently removes duplicates from a sorted linked list while maintaining the order of distinct values."
      ]
    },
    {
      "cell_type": "markdown",
      "metadata": {},
      "source": [
        "---",
        "",
        ""
      ]
    },
    {
      "cell_type": "markdown",
      "metadata": {},
      "source": [
        "# Partition List (#86)",
        "",
        "**Difficulty:** Medium  ",
        "**Date:** 2025-08-01 08:22:31  ",
        "**URL:** https://leetcode.com/problems/partition-list/",
        "",
        "---"
      ]
    },
    {
      "cell_type": "markdown",
      "metadata": {},
      "source": [
        "## Problem Description",
        "",
        "Given the head of a linked list and a value x, partition it such that all nodes less than x come before nodes greater than or equal to x.\n\nYou should preserve the original relative order of the nodes in each of the two partitions.\n\n&nbsp;\nExample 1:\n\n\nInput: head = [1,4,3,2,5,2], x = 3\nOutput: [1,2,2,4,3,5]\n\n\nExample 2:\n\n\nInput: head = [2,1], x = 2\nOutput: [1,2]\n\n\n&nbsp;\nConstraints:\n\n\n\tThe number of nodes in the list is in the range [0, 200].\n\t-100 <= Node.val <= 100\n\t-200 <= x <= 200\n\n"
      ]
    },
    {
      "cell_type": "markdown",
      "metadata": {},
      "source": [
        "## Clarifying Questions",
        "",
        "1. **What should be done if the linked list is empty (i.e., head is null)? Should we return null or an empty list?**\n\n2. **How should we handle nodes that have values equal to x? Should they be placed in the first partition (less than x) or the second partition (greater than or equal to x)?**\n\n3. **Are there any specific requirements for the output format? Should the output be a linked list, an array, or some other structure?**\n\n4. **Is there a requirement for the algorithm's time complexity or space complexity? For example, should it be done in O(n) time and O(1) space?**\n\n5. **What should be the behavior of the function if all nodes are less than x or all nodes are greater than or equal to x? Should the original order of nodes be preserved in these cases as well?**"
      ]
    },
    {
      "cell_type": "markdown",
      "metadata": {},
      "source": [
        "## Test Edge Cases",
        "",
        "Here are 8 important test edge cases to consider for the \"Partition List\" problem:\n\n1. **Empty List**:\n   - **Input**: `head = []`, `x = 5`\n   - **Description**: Tests the behavior of the function when the linked list is empty. The output should also be an empty list.\n\n2. **Single Element Less Than x**:\n   - **Input**: `head = [1]`, `x = 5`\n   - **Description**: Tests the case where there is only one node in the list, and it is less than `x`. The output should remain the same as the input.\n\n3. **Single Element Greater Than or Equal to x**:\n   - **Input**: `head = [5]`, `x = 5`\n   - **Description**: Tests the case where there is only one node in the list, and it is equal to `x`. The output should remain the same as the input.\n\n4. **All Elements Less Than x**:\n   - **Input**: `head = [1, 2, 2]`, `x = 5`\n   - **Description**: Tests the scenario where all nodes are less than `x`. The output should remain unchanged as all elements are already in the correct partition.\n\n5. **All Elements Greater Than or Equal to x**:\n   - **Input**: `head = [5, 6, 7]`, `x = 5`\n   - **Description**: Tests the scenario where all nodes are greater than or equal to `x`. The output should remain unchanged as all elements are already in the correct partition.\n\n6. **Mixed Values with Duplicates**:\n   - **Input**: `head = [3, 1, 4, 2, 1, 5]`, `x = 3`\n   - **Description**: Tests a more complex case with mixed values, including duplicates. The output should maintain the relative order of nodes in both partitions.\n\n7. **Negative and Positive Values**:\n   - **Input**: `head = [-1, 3, -2, 4, 0]`, `x = 0`\n   - **Description**: Tests the handling of negative and positive values. The output should correctly partition negative values before zero and positive values.\n\n8. **Maximum Size List**:\n   - **Input**: `head = [i for i in range(-100, 100)]`, `x = 0`\n   - **Description**: Tests the performance and efficiency of the solution with the maximum number of nodes (200). The output should correctly partition the list while maintaining the original relative order.\n\nThese test cases cover a variety of scenarios, including edge cases related to the constraints and specific conditions of the problem."
      ]
    },
    {
      "cell_type": "markdown",
      "metadata": {},
      "source": [
        "To solve the \"Partition List\" problem, we need to rearrange the nodes in a linked list based on a given value `x`. The goal is to ensure that all nodes with values less than `x` come before nodes with values greater than or equal to `x`, while maintaining the original relative order of the nodes in each partition.",
        "",
        "### Approach:",
        "",
        "1. **Two Pointers**: We will use two separate linked lists (or dummy nodes) to build the two partitions:",
        "   - One for nodes with values less than `x`.",
        "   - Another for nodes with values greater than or equal to `x`.",
        "",
        "2. **Iterate through the List**: We will traverse the original linked list and for each node:",
        "   - If the node's value is less than `x`, we append it to the first partition.",
        "   - If the node's value is greater than or equal to `x`, we append it to the second partition.",
        "",
        "3. **Combine Partitions**: After processing all nodes, we will connect the end of the first partition to the beginning of the second partition.",
        "",
        "4. **Return the Result**: Finally, we will return the head of the newly formed linked list, which starts from the first partition.",
        "",
        "### Python Code Solution:",
        "",
        "Here’s the implementation in Python:"
      ]
    },
    {
      "cell_type": "code",
      "execution_count": null,
      "metadata": {},
      "outputs": [],
      "source": [
        "class ListNode:",
        "    def __init__(self, val=0, next=None):",
        "        self.val = val",
        "        self.next = next",
        "",
        "def partition(head: ListNode, x: int) -> ListNode:",
        "    # Create two dummy nodes for the two partitions",
        "    less_head = ListNode(0)  # Dummy head for \"less than x\"",
        "    greater_head = ListNode(0)  # Dummy head for \"greater than or equal to x\"",
        "    ",
        "    # Pointers to the last node in the respective partitions",
        "    less = less_head",
        "    greater = greater_head",
        "    ",
        "    # Iterate over the original linked list",
        "    current = head",
        "    while current:",
        "        if current.val < x:",
        "            # Append to the \"less\" partition",
        "            less.next = current",
        "            less = less.next",
        "        else:",
        "            # Append to the \"greater\" partition",
        "            greater.next = current",
        "            greater = greater.next",
        "        current = current.next",
        "    ",
        "    # Connect the two partitions",
        "    greater.next = None  # Terminate the greater list",
        "    less.next = greater_head.next  # Connect less list to greater list",
        "    ",
        "    # Return the head of the \"less\" partition (skipping the dummy head)",
        "    return less_head.next"
      ]
    },
    {
      "cell_type": "markdown",
      "metadata": {},
      "source": [
        "### Time and Space Complexity Analysis:",
        "",
        "- **Time Complexity**: O(n)",
        "  - We traverse the linked list once, where `n` is the number of nodes in the list.",
        "",
        "- **Space Complexity**: O(1)",
        "  - We are using a constant amount of extra space for the two dummy nodes and pointers, regardless of the input size. The nodes themselves are not being duplicated; we are only rearranging them.",
        "",
        "### Conclusion:",
        "This approach efficiently partitions the linked list based on the given value `x`, ensuring that the relative order of nodes is preserved. The use of two dummy lists allows us to clearly separate the nodes into their respective partitions before combining them, making the implementation straightforward and easy to understand."
      ]
    },
    {
      "cell_type": "markdown",
      "metadata": {},
      "source": [
        "---",
        "",
        ""
      ]
    },
    {
      "cell_type": "markdown",
      "metadata": {},
      "source": [
        "# Reverse Linked List II (#92)",
        "",
        "**Difficulty:** Medium  ",
        "**Date:** 2025-08-01 08:35:03  ",
        "**URL:** https://leetcode.com/problems/reverse-linked-list-ii/",
        "",
        "---"
      ]
    },
    {
      "cell_type": "markdown",
      "metadata": {},
      "source": [
        "## Problem Description",
        "",
        "Given the head of a singly linked list and two integers left and right where left <= right, reverse the nodes of the list from position left to position right, and return the reversed list.\n\n&nbsp;\nExample 1:\n\n\nInput: head = [1,2,3,4,5], left = 2, right = 4\nOutput: [1,4,3,2,5]\n\n\nExample 2:\n\n\nInput: head = [5], left = 1, right = 1\nOutput: [5]\n\n\n&nbsp;\nConstraints:\n\n\n\tThe number of nodes in the list is n.\n\t1 <= n <= 500\n\t-500 <= Node.val <= 500\n\t1 <= left <= right <= n\n\n\n&nbsp;\nFollow up: Could you do it in one pass?"
      ]
    },
    {
      "cell_type": "markdown",
      "metadata": {},
      "source": [
        "## Clarifying Questions",
        "",
        "1. Are the positions `left` and `right` 1-based or 0-based indices when referring to the nodes in the linked list?\n\n2. What should be the output if the `left` and `right` values are the same? Should the original list remain unchanged in this case?\n\n3. How should we handle edge cases such as an empty linked list or cases where `left` and `right` encompass the entire list?\n\n4. Is it guaranteed that the input linked list will always have at least `right` nodes, given the constraints provided?\n\n5. Are there any specific performance requirements or constraints on the solution, particularly regarding time complexity for the follow-up question about achieving it in one pass?"
      ]
    },
    {
      "cell_type": "markdown",
      "metadata": {},
      "source": [
        "## Test Edge Cases",
        "",
        "Here are 8 important test edge cases to consider for the \"Reverse Linked List II\" problem:\n\n1. **Empty List**:\n   - **Input**: `head = []`, `left = 1`, `right = 1`\n   - **Description**: Tests the function's handling of an empty linked list. The output should also be an empty list.\n\n2. **Single Node List**:\n   - **Input**: `head = [1]`, `left = 1`, `right = 1`\n   - **Description**: Tests the case where the list has only one node. The output should be the same single node.\n\n3. **Full Reversal**:\n   - **Input**: `head = [1, 2, 3, 4, 5]`, `left = 1`, `right = 5`\n   - **Description**: Tests reversing the entire list. The output should be the list in reversed order: `[5, 4, 3, 2, 1]`.\n\n4. **Reversal at the Start**:\n   - **Input**: `head = [1, 2, 3, 4, 5]`, `left = 1`, `right = 3`\n   - **Description**: Tests reversing a segment that starts at the head of the list. The output should be `[3, 2, 1, 4, 5]`.\n\n5. **Reversal at the End**:\n   - **Input**: `head = [1, 2, 3, 4, 5]`, `left = 3`, `right = 5`\n   - **Description**: Tests reversing a segment that ends at the tail of the list. The output should be `[1, 2, 5, 4, 3]`.\n\n6. **Reversal of a Segment with Duplicates**:\n   - **Input**: `head = [1, 2, 2, 3, 4]`, `left = 2`, `right = 4`\n   - **Description**: Tests the function's ability to handle duplicates in the list. The output should be `[1, 3, 2, 2, 4]`.\n\n7. **Maximum Size List**:\n   - **Input**: `head = [1, 2, 3, ..., 500]`, `left = 250`, `right = 300`\n   - **Description**: Tests the performance and correctness of the function with the maximum number of nodes (500). The output should reflect the correct reversal of the specified segment.\n\n8. **Negative and Zero Values**:\n   - **Input**: `head = [-3, -2, -1, 0, 1, 2, 3]`, `left ="
      ]
    },
    {
      "cell_type": "markdown",
      "metadata": {},
      "source": [
        "To solve the problem of reversing a segment of a singly linked list between two given positions (left and right), we can follow a systematic approach. Here’s a step-by-step breakdown of the solution:",
        "",
        "### Step 1: Understand the Linked List Structure",
        "In a singly linked list, each node contains a value and a reference (or pointer) to the next node. The problem requires us to reverse a portion of this list defined by the indices left and right.",
        "",
        "### Step 2: Plan the Approach",
        "1. **Traverse the List**: First, we need to traverse the list to reach the node just before the `left` position. This is essential because we'll need to connect this node to the tail of the reversed sublist later.",
        "  ",
        "2. **Reverse the Sublist**: Once we reach the node at position `left`, we will reverse the sublist from `left` to `right`. This can be achieved using three pointers:",
        "   - `prev`: to keep track of the previous node.",
        "   - `curr`: to keep track of the current node that we're processing.",
        "   - `next_temp`: to temporarily hold the next node while we reverse the link.",
        "",
        "3. **Reattach the Reversed Sublist**: After reversing, we need to connect the tail of the reversed sublist back to the rest of the list correctly.",
        "",
        "4. **Handle Edge Cases**: Consider cases where `left` and `right` are the same, meaning no changes are needed.",
        "",
        "### Step 3: Implement the Solution",
        "Here's the Python code that implements the above logic:"
      ]
    },
    {
      "cell_type": "code",
      "execution_count": null,
      "metadata": {},
      "outputs": [],
      "source": [
        "class ListNode:",
        "    def __init__(self, val=0, next=None):",
        "        self.val = val",
        "        self.next = next",
        "",
        "def reverseBetween(head: ListNode, left: int, right: int) -> ListNode:",
        "    # Edge case: if the head is None or no reversing needed",
        "    if not head or left == right:",
        "        return head",
        "",
        "    # Create a dummy node that points to the head",
        "    dummy = ListNode(0)",
        "    dummy.next = head",
        "    prev = dummy",
        "",
        "    # Move `prev` to the node just before the `left` position",
        "    for _ in range(left - 1):",
        "        prev = prev.next",
        "",
        "    # Start reversing from the `left` position",
        "    curr = prev.next  # The first node of the sublist to be reversed",
        "    next_temp = None  # To store the next node temporarily",
        "",
        "    # Reverse the sublist",
        "    for _ in range(right - left + 1):",
        "        next_temp = curr.next  # Store next node",
        "        curr.next = prev.next  # Reverse the link",
        "        prev.next = curr  # Fix the previous node's next",
        "        curr = next_temp  # Move to the next node",
        "",
        "    # Connect the reversed sublist with the rest of the list",
        "    # `curr` is now at the node after the reversed sublist",
        "    # `prev.next` is the new head of the reversed sublist, which is now at left position",
        "    # `head` is the start of the original list",
        "    if curr:",
        "        head.next = curr  # Connect end of reversed to the next node",
        "    return dummy.next  # Return the new head"
      ]
    },
    {
      "cell_type": "markdown",
      "metadata": {},
      "source": [
        "### Step 4: Time and Space Complexity Analysis",
        "- **Time Complexity**: O(n), where n is the number of nodes in the list. We traverse the list a couple of times but in a linear manner.",
        "- **Space Complexity**: O(1), since we are using a constant amount of extra space (just a few pointers).",
        "",
        "### Summary",
        "This solution effectively reverses a portion of a singly linked list in one pass while maintaining the overall structure of the list. The approach is both efficient and straightforward, making it suitable for the problem's constraints."
      ]
    },
    {
      "cell_type": "markdown",
      "metadata": {},
      "source": [
        "---",
        "",
        ""
      ]
    },
    {
      "cell_type": "markdown",
      "metadata": {},
      "source": [
        "# LRU Cache (#146)",
        "",
        "**Difficulty:** Medium  ",
        "**Date:** 2025-08-02 21:58:27  ",
        "**URL:** https://leetcode.com/problems/lru-cache/",
        "",
        "---"
      ]
    },
    {
      "cell_type": "markdown",
      "metadata": {},
      "source": [
        "## Problem Description",
        "",
        "Design a data structure that follows the constraints of a Least Recently Used (LRU) cache.\n\nImplement the LRUCache class:\n\n\n\tLRUCache(int capacity) Initialize the LRU cache with positive size capacity.\n\tint get(int key) Return the value of the key if the key exists, otherwise return -1.\n\tvoid put(int key, int value) Update the value of the key if the key exists. Otherwise, add the key-value pair to the cache. If the number of keys exceeds the capacity from this operation, evict the least recently used key.\n\n\nThe functions get and put must each run in O(1) average time complexity.\n\n&nbsp;\nExample 1:\n\n\nInput\n[&quot;LRUCache&quot;, &quot;put&quot;, &quot;put&quot;, &quot;get&quot;, &quot;put&quot;, &quot;get&quot;, &quot;put&quot;, &quot;get&quot;, &quot;get&quot;, &quot;get&quot;]\n[[2], [1, 1], [2, 2], [1], [3, 3], [2], [4, 4], [1], [3], [4]]\nOutput\n[null, null, null, 1, null, -1, null, -1, 3, 4]\n\nExplanation\nLRUCache lRUCache = new LRUCache(2);\nlRUCache.put(1, 1); // cache is {1=1}\nlRUCache.put(2, 2); // cache is {1=1, 2=2}\nlRUCache.get(1);    // return 1\nlRUCache.put(3, 3); // LRU key was 2, evicts key 2, cache is {1=1, 3=3}\nlRUCache.get(2);    // returns -1 (not found)\nlRUCache.put(4, 4); // LRU key was 1, evicts key 1, cache is {4=4, 3=3}\nlRUCache.get(1);    // return -1 (not found)\nlRUCache.get(3);    // return 3\nlRUCache.get(4);    // return 4\n\n\n&nbsp;\nConstraints:\n\n\n\t1 <= capacity <= 3000\n\t0 <= key <= 104\n\t0 <= value <= 105\n\tAt most 2 * 105 calls will be made to get and put.\n\n"
      ]
    },
    {
      "cell_type": "markdown",
      "metadata": {},
      "source": [
        "## Clarifying Questions",
        "",
        "1. **What should happen if the `put` method is called with a key that already exists in the cache? Should the value be updated and the key marked as recently used?**\n\n2. **How should we handle cases where the cache reaches its capacity? Specifically, can you clarify the eviction policy for the least recently used key? Is it always the least recently accessed key that gets evicted?**\n\n3. **Are there any specific constraints on the keys and values that we should be aware of? For example, can keys or values be negative, or are there any restrictions on their types beyond the provided ranges?**\n\n4. **What should the behavior be if the `get` method is called with a key that does not exist in the cache? Is returning -1 the only acceptable response, or should there be any additional logging or handling?**\n\n5. **Can you confirm that the expected average time complexity for both `get` and `put` operations is O(1), and are there any specific performance benchmarks or limits we should keep in mind during implementation?**"
      ]
    },
    {
      "cell_type": "markdown",
      "metadata": {},
      "source": [
        "## Test Edge Cases",
        "",
        "Here are 8 important test edge cases to consider when solving the LRU Cache problem:\n\n1. **Minimum Capacity Test**:\n   - **Input**: `LRUCache(1)`, followed by `put(1, 1)`, `get(1)`, `put(2, 2)`, `get(1)`, `get(2)`\n   - **Description**: Tests the behavior of the cache when initialized with the minimum capacity of 1. It checks if the cache correctly evicts the least recently used item when a new item is added.\n\n2. **Maximum Capacity Test**:\n   - **Input**: `LRUCache(3000)`, followed by `put(i, i)` for `i` from `0` to `2999`, then `get(0)`, `get(2999)`\n   - **Description**: Tests the performance and functionality of the cache when filled to its maximum capacity. It ensures that all items can be added and retrieved correctly.\n\n3. **Duplicate Keys Test**:\n   - **Input**: `LRUCache(2)`, followed by `put(1, 1)`, `put(1, 2)`, `get(1)`, `put(2, 2)`, `put(3, 3)`, `get(2)`\n   - **Description**: Tests the behavior when the same key is inserted multiple times with different values. It checks if the cache updates the value correctly and maintains the correct order.\n\n4. **Eviction Order Test**:\n   - **Input**: `LRUCache(3)`, followed by `put(1, 1)`, `put(2, 2)`, `put(3, 3)`, `get(1)`, `put(4, 4)`, `get(2)`, `put(5, 5)`, `get(1)`, `get(3)`, `get(4)`, `get(5)`\n   - **Description**: Tests the eviction order of the cache. It ensures that the least recently used item is evicted when the cache exceeds its capacity.\n\n5. **Negative and Zero Values Test**:\n   - **Input**: `LRUCache(2)`, followed by `put(1, 0)`, `put(2, -1)`, `get(1)`, `get(2)`, `put(3, 3)`, `get(2)`\n   - **Description**: Tests the cache's handling of zero and negative values. It ensures that these values are stored and retrieved correctly.\n\n6. **Accessing Non-Existent Key Test**:\n   - **Input**: `LRUCache(2)`, followed by `put(1, 1)`, `put(2, 2)`, `get"
      ]
    },
    {
      "cell_type": "markdown",
      "metadata": {},
      "source": [
        "### 1. Explanation of the Approach",
        "",
        "To implement an LRU (Least Recently Used) cache, we need a data structure that allows us to efficiently retrieve and update items while also keeping track of their usage order. The main operations to support are:",
        "",
        "- **Get**: Retrieve an item by key and mark it as recently used.",
        "- **Put**: Insert a new item or update an existing one and mark it as recently used. If the cache exceeds its capacity, it should evict the least recently used item.",
        "",
        "The best way to achieve O(1) time complexity for both operations is to use a combination of:",
        "- A **HashMap (dictionary)** to store key-value pairs for O(1) access.",
        "- A **Doubly Linked List** to maintain the order of usage from most recently used to least recently used.",
        "",
        "**Key Components**:",
        "1. **Doubly Linked List**: Nodes will store keys and values, allowing quick removal and addition of nodes. The head of the list will represent the most recently used item, and the tail will represent the least recently used item.",
        "2. **HashMap**: This will hold the mapping of keys to nodes of the linked list for O(1) access.",
        "",
        "When we perform a `get` operation, we:",
        "- Check if the key exists in the hashmap.",
        "- If it exists, we move the corresponding node to the front of the linked list (marking it as recently used) and return its value.",
        "- If it does not exist, we return -1.",
        "",
        "For the `put` operation:",
        "- If the key already exists, we update its value and move the node to the front of the list.",
        "- If the key does not exist and the cache is full, we evict the least recently used item (the tail of the list) and then insert the new key-value pair at the front.",
        "",
        "### 2. Python Code Solution",
        "",
        "Below is the implementation of the LRU Cache using a dictionary and a doubly linked list."
      ]
    },
    {
      "cell_type": "code",
      "execution_count": null,
      "metadata": {},
      "outputs": [],
      "source": [
        "class Node:",
        "    \"\"\"A node in a doubly linked list.\"\"\"",
        "    def __init__(self, key, value):",
        "        self.key = key",
        "        self.value = value",
        "        self.prev = None  # Pointer to the previous node",
        "        self.next = None  # Pointer to the next node",
        "",
        "class LRUCache:",
        "    def __init__(self, capacity: int):",
        "        self.capacity = capacity",
        "        self.cache = {}  # Hashmap to store key and node reference",
        "        self.head = Node(0, 0)  # Dummy head",
        "        self.tail = Node(0, 0)  # Dummy tail",
        "        self.head.next = self.tail  # Connect head to tail",
        "        self.tail.prev = self.head  # Connect tail to head",
        "",
        "    def _remove(self, node: Node):",
        "        \"\"\"Remove a node from the linked list.\"\"\"",
        "        prev_node = node.prev",
        "        next_node = node.next",
        "        prev_node.next = next_node",
        "        next_node.prev = prev_node",
        "",
        "    def _add_to_front(self, node: Node):",
        "        \"\"\"Add a node right after the head (most recently used position).\"\"\"",
        "        node.prev = self.head",
        "        node.next = self.head.next",
        "        self.head.next.prev = node",
        "        self.head.next = node",
        "",
        "    def get(self, key: int) -> int:",
        "        \"\"\"Return the value of the key if exists, else return -1.\"\"\"",
        "        if key in self.cache:",
        "            node = self.cache[key]  # Get the node",
        "            self._remove(node)  # Remove from current position",
        "            self._add_to_front(node)  # Add it to the front",
        "            return node.value  # Return the value",
        "        return -1  # Key not found",
        "",
        "    def put(self, key: int, value: int) -> None:",
        "        \"\"\"Update the value if the key exists, otherwise add the key-value pair.\"\"\"",
        "        if key in self.cache:",
        "            node = self.cache[key]",
        "            self._remove(node)  # Remove the old node",
        "            node.value = value  # Update value",
        "            self._add_to_front(node)  # Add it back to the front",
        "        else:",
        "            if len(self.cache) >= self.capacity:  # Cache is full",
        "                # Remove the least recently used (tail's previous node)",
        "                lru_node = self.tail.prev",
        "                self._remove(lru_node)  # Remove it from the list",
        "                del self.cache[lru_node.key]  # Remove from the hashmap",
        "            ",
        "            # Create a new node and add it to the front",
        "            new_node = Node(key, value)",
        "            self._add_to_front(new_node)",
        "            self.cache[key] = new_node  # Add to the hashmap"
      ]
    },
    {
      "cell_type": "markdown",
      "metadata": {},
      "source": [
        "### 3. Time and Space Complexity Analysis",
        "",
        "- **Time Complexity**:",
        "  - `get(key)`: O(1) because we access the hashmap and adjust the linked list in constant time.",
        "  - `put(key, value)`: O(1) for the same reasons as above, including the potential eviction operation.",
        "",
        "- **Space Complexity**:",
        "  - O(capacity): We use space proportional to the number of entries in the cache (both in the hashmap and the linked list).",
        "",
        "This solution efficiently handles the requirements of the LRU Cache problem while adhering to the constraints specified in the prompt."
      ]
    },
    {
      "cell_type": "markdown",
      "metadata": {},
      "source": [
        "---",
        "",
        ""
      ]
    },
    {
      "cell_type": "markdown",
      "metadata": {},
      "source": [
        "# Insertion Sort List (#147)",
        "",
        "**Difficulty:** Medium  ",
        "**Date:** 2025-08-02 21:58:29  ",
        "**URL:** https://leetcode.com/problems/insertion-sort-list/",
        "",
        "---"
      ]
    },
    {
      "cell_type": "markdown",
      "metadata": {},
      "source": [
        "## Problem Description",
        "",
        "Given the head of a singly linked list, sort the list using insertion sort, and return the sorted list&#39;s head.\n\nThe steps of the insertion sort algorithm:\n\n\n\tInsertion sort iterates, consuming one input element each repetition and growing a sorted output list.\n\tAt each iteration, insertion sort removes one element from the input data, finds the location it belongs within the sorted list and inserts it there.\n\tIt repeats until no input elements remain.\n\n\nThe following is a graphical example of the insertion sort algorithm. The partially sorted list (black) initially contains only the first element in the list. One element (red) is removed from the input data and inserted in-place into the sorted list with each iteration.\n\n&nbsp;\nExample 1:\n\n\nInput: head = [4,2,1,3]\nOutput: [1,2,3,4]\n\n\nExample 2:\n\n\nInput: head = [-1,5,3,4,0]\nOutput: [-1,0,3,4,5]\n\n\n&nbsp;\nConstraints:\n\n\n\tThe number of nodes in the list is in the range [1, 5000].\n\t-5000 <= Node.val <= 5000\n\n"
      ]
    },
    {
      "cell_type": "markdown",
      "metadata": {},
      "source": [
        "## Clarifying Questions",
        "",
        "1. **What should we do if the input linked list is already sorted?** Should we return the same list, or is there any specific output format required?\n\n2. **How should we handle duplicate values in the linked list?** Should they maintain their original order, or is there any specific requirement regarding their placement in the sorted list?\n\n3. **Are there any constraints on the memory usage for this problem?** Is it acceptable to use additional data structures, or should the sorting be done in-place?\n\n4. **What should the function return if the input linked list is empty (i.e., head is null)?** Should it return null, or is there any other expected behavior?\n\n5. **Is there a specific time complexity requirement for the solution?** While insertion sort has a typical time complexity of O(n^2), should we aim for a more efficient solution given the constraints?"
      ]
    },
    {
      "cell_type": "markdown",
      "metadata": {},
      "source": [
        "## Test Edge Cases",
        "",
        "Here are 8 important test edge cases to consider for the \"Insertion Sort List\" problem:\n\n1. **Empty List**: \n   - Input: `head = []`\n   - Description: Tests the behavior of the algorithm when there are no nodes to sort. The expected output should also be an empty list.\n\n2. **Single Element List**: \n   - Input: `head = [1]`\n   - Description: Tests the algorithm with the smallest non-empty list. The output should be the same single element, as it is already sorted.\n\n3. **Already Sorted List**: \n   - Input: `head = [1, 2, 3, 4, 5]`\n   - Description: Tests the efficiency of the algorithm when the list is already sorted. The output should remain unchanged.\n\n4. **Reverse Sorted List**: \n   - Input: `head = [5, 4, 3, 2, 1]`\n   - Description: Tests the worst-case scenario for insertion sort where the list is sorted in reverse order. The output should be a fully sorted list in ascending order.\n\n5. **List with Duplicates**: \n   - Input: `head = [3, 1, 2, 3, 2]`\n   - Description: Tests how the algorithm handles duplicates. The expected output should be `[1, 2, 2, 3, 3]`.\n\n6. **List with Negative and Positive Values**: \n   - Input: `head = [-1, 5, 3, -2, 0]`\n   - Description: Tests the algorithm's ability to sort a list containing both negative and positive integers. The expected output should be `[-2, -1, 0, 3, 5]`.\n\n7. **Maximum Size List**: \n   - Input: `head = [i for i in range(5000, 0, -1)]` (a reverse sorted list of size 5000)\n   - Description: Tests the performance and efficiency of the algorithm with the maximum allowed number of nodes. The expected output should be a sorted list from 1 to 5000.\n\n8. **List with Zero Values**: \n   - Input: `head = [0, 0, 0, 0]`\n   - Description: Tests the algorithm's handling of a list where all elements are the same and equal to zero. The output should remain `[0, 0, 0, 0]`.\n\nThese edge cases cover a range of scenarios including boundary conditions, special values, and performance considerations that are critical for ensuring the robustness of the insertion sort implementation on linked lists."
      ]
    },
    {
      "cell_type": "markdown",
      "metadata": {},
      "source": [
        "### 1. Explanation of the Approach",
        "",
        "The problem requires us to sort a singly linked list using the insertion sort algorithm. The insertion sort algorithm works by iteratively taking each element from the unsorted portion of the list and inserting it into its correct position in the sorted portion of the list.",
        "",
        "Here’s a step-by-step breakdown of how we can implement this:",
        "",
        "1. **Initialize a Dummy Node**: We will use a dummy node to simplify the insertion process. This dummy node will point to the head of the sorted list, which will help us easily handle edge cases (like inserting at the head).",
        "",
        "2. **Iterate Through the List**: We will iterate through each node in the original list. For each node, we will:",
        "   - Find the correct position in the sorted portion (which starts as empty and grows with each insertion).",
        "   - Insert the node at the correct position.",
        "",
        "3. **Insert the Node**: To insert the node:",
        "   - Start from the dummy node and find the position where the current node should be placed.",
        "   - Adjust the pointers accordingly to insert the node.",
        "",
        "4. **Return the Sorted List**: After processing all nodes, the dummy node’s next pointer will point to the head of the sorted linked list, which we will return.",
        "",
        "### 2. Python Code Solution with Comments",
        "",
        "Here’s a Python implementation of the above approach:"
      ]
    },
    {
      "cell_type": "code",
      "execution_count": null,
      "metadata": {},
      "outputs": [],
      "source": [
        "class ListNode:",
        "    def __init__(self, val=0, next=None):",
        "        self.val = val",
        "        self.next = next",
        "",
        "def insertionSortList(head: ListNode) -> ListNode:",
        "    # Create a dummy node to help with insertion",
        "    dummy = ListNode(0)",
        "    ",
        "    # Start with the current node as the head of the list",
        "    current = head",
        "    ",
        "    while current:",
        "        # At each iteration, we take the current node",
        "        # and find its position in the sorted part",
        "        prev = dummy  # Start from the dummy node for each new element",
        "        next_node = current.next  # Save the next node to process",
        "        ",
        "        # Find the position to insert the current node",
        "        while prev.next and prev.next.val < current.val:",
        "            prev = prev.next",
        "        ",
        "        # Insert the current node into the sorted part",
        "        current.next = prev.next  # Link the current node to the next node",
        "        prev.next = current  # Link the previous node to the current node",
        "        ",
        "        # Move to the next node in the original list",
        "        current = next_node",
        "    ",
        "    # The sorted list is next to the dummy node",
        "    return dummy.next"
      ]
    },
    {
      "cell_type": "markdown",
      "metadata": {},
      "source": [
        "### 3. Time and Space Complexity Analysis",
        "",
        "- **Time Complexity**: The time complexity of the insertion sort algorithm applied to a linked list is O(n^2) in the worst case, where n is the number of nodes in the list. This is because for each node, we may have to traverse the entire sorted portion of the list to find the correct insertion point.",
        "",
        "- **Space Complexity**: The space complexity is O(1) since we are sorting the list in place and using a constant amount of additional space (only a few pointers). The dummy node does not count towards additional space complexity as it is fixed.",
        "",
        "In summary, the algorithm effectively sorts the linked list using the principles of insertion sort, maintaining a sorted portion and inserting elements one at a time."
      ]
    },
    {
      "cell_type": "markdown",
      "metadata": {},
      "source": [
        "---",
        "",
        ""
      ]
    },
    {
      "cell_type": "markdown",
      "metadata": {},
      "source": [
        "# Sort List (#148)",
        "",
        "**Difficulty:** Medium  ",
        "**Date:** 2025-08-02 21:58:30  ",
        "**URL:** https://leetcode.com/problems/sort-list/",
        "",
        "---"
      ]
    },
    {
      "cell_type": "markdown",
      "metadata": {},
      "source": [
        "## Problem Description",
        "",
        "Given the head of a linked list, return the list after sorting it in ascending order.\n\n&nbsp;\nExample 1:\n\n\nInput: head = [4,2,1,3]\nOutput: [1,2,3,4]\n\n\nExample 2:\n\n\nInput: head = [-1,5,3,4,0]\nOutput: [-1,0,3,4,5]\n\n\nExample 3:\n\n\nInput: head = []\nOutput: []\n\n\n&nbsp;\nConstraints:\n\n\n\tThe number of nodes in the list is in the range [0, 5 * 104].\n\t-105 <= Node.val <= 105\n\n\n&nbsp;\nFollow up: Can you sort the linked list in O(n logn) time and O(1) memory (i.e. constant space)?\n"
      ]
    },
    {
      "cell_type": "markdown",
      "metadata": {},
      "source": [
        "## Clarifying Questions",
        "",
        "1. What should the function return if the input linked list is empty? Is it just `null` or an empty linked list object?\n\n2. Are there any specific requirements for the sorting algorithm to be used, or can we use any sorting method as long as it meets the time and space constraints mentioned in the follow-up?\n\n3. Should the sorting be stable, meaning that nodes with equal values should maintain their relative order in the sorted list?\n\n4. Can we assume that the input linked list will always contain valid integer values within the specified range, or should we handle potential edge cases like non-integer values?\n\n5. Are there any constraints on the structure of the linked list itself (e.g., singly linked vs. doubly linked), or can we assume it is a standard singly linked list?"
      ]
    },
    {
      "cell_type": "markdown",
      "metadata": {},
      "source": [
        "## Test Edge Cases",
        "",
        "Here are 8 important test edge cases to consider when solving the \"Sort List\" problem:\n\n1. **Empty List**:\n   - **Input**: `head = []`\n   - **Description**: Tests the algorithm's handling of an empty linked list. The output should also be an empty list.\n\n2. **Single Element List**:\n   - **Input**: `head = [1]`\n   - **Description**: Tests the algorithm's handling of a linked list with only one node. The output should be the same single element.\n\n3. **Two Elements (Already Sorted)**:\n   - **Input**: `head = [1, 2]`\n   - **Description**: Tests the algorithm with a small list that is already sorted. The output should remain unchanged.\n\n4. **Two Elements (Unsorted)**:\n   - **Input**: `head = [2, 1]`\n   - **Description**: Tests the algorithm with two elements that are unsorted. The output should be sorted as `[1, 2]`.\n\n5. **List with Negative and Positive Values**:\n   - **Input**: `head = [-3, 1, 0, -1, 2]`\n   - **Description**: Tests the algorithm's ability to handle both negative and positive integers. The output should be `[-3, -1, 0, 1, 2]`.\n\n6. **List with Duplicates**:\n   - **Input**: `head = [4, 2, 2, 3, 1]`\n   - **Description**: Tests the algorithm's handling of duplicate values. The output should be `[1, 2, 2, 3, 4]`.\n\n7. **Maximum Size List**:\n   - **Input**: `head = [i for i in range(50000)]` (a list of 50,000 elements in ascending order)\n   - **Description**: Tests the performance and efficiency of the algorithm with the maximum allowed number of nodes. The output should also be a sorted list of 50,000 elements.\n\n8. **List with All Same Values**:\n   - **Input**: `head = [5, 5, 5, 5, 5]`\n   - **Description**: Tests the algorithm's handling of a list where all elements are the same. The output should remain unchanged as `[5, 5, 5, 5, 5]`.\n\nThese edge cases cover a range of scenarios, including boundary conditions, special values, and performance considerations, ensuring a comprehensive test of the sorting algorithm for linked lists."
      ]
    },
    {
      "cell_type": "markdown",
      "metadata": {},
      "source": [
        "To solve the problem of sorting a linked list, we can use the **Merge Sort** algorithm. Merge Sort is particularly well-suited for linked lists because it achieves O(n log n) time complexity and does not require additional space for arrays, which aligns with the problem's constraints.",
        "",
        "### 1. Explanation of the Approach",
        "",
        "**Merge Sort** works by recursively dividing the list into two halves, sorting each half, and then merging the sorted halves back together. The steps involved are:",
        "",
        "1. **Base Case**: If the list is empty or has only one node, it is already sorted.",
        "2. **Splitting the List**: Use the fast and slow pointer technique to find the middle of the list. The slow pointer moves one step at a time, while the fast pointer moves two steps at a time. When the fast pointer reaches the end, the slow pointer will be at the midpoint.",
        "3. **Recursively Sort**: Recursively sort the left and right halves of the list.",
        "4. **Merge the Sorted Halves**: Merge the two sorted halves back together into a single sorted list.",
        "",
        "This approach runs in O(n log n) time because we are splitting the list (which takes O(n) time) and then merging it (which also takes O(n) time), and we do this log n times due to the division.",
        "",
        "### 2. Python Code Solution with Comments"
      ]
    },
    {
      "cell_type": "code",
      "execution_count": null,
      "metadata": {},
      "outputs": [],
      "source": [
        "class ListNode:",
        "    def __init__(self, val=0, next=None):",
        "        self.val = val",
        "        self.next = next",
        "",
        "def sortList(head: ListNode) -> ListNode:",
        "    # Base case: if the list is empty or has one element",
        "    if not head or not head.next:",
        "        return head",
        "    ",
        "    # Function to split the linked list into two halves",
        "    def getMiddle(node: ListNode) -> ListNode:",
        "        slow = node",
        "        fast = node.next",
        "        # Move fast two steps and slow one step to find the middle node",
        "        while fast and fast.next:",
        "            slow = slow.next",
        "            fast = fast.next.next",
        "        return slow",
        "    ",
        "    # Function to merge two sorted linked lists",
        "    def merge(left: ListNode, right: ListNode) -> ListNode:",
        "        # Create a dummy node to help with merging",
        "        dummy = ListNode(0)",
        "        current = dummy",
        "        # Merge the two lists",
        "        while left and right:",
        "            if left.val < right.val:",
        "                current.next = left",
        "                left = left.next",
        "            else:",
        "                current.next = right",
        "                right = right.next",
        "            current = current.next",
        "        # If there are remaining elements in either left or right, append them",
        "        current.next = left if left else right",
        "        return dummy.next",
        "    ",
        "    # Step 1: Split the list into halves",
        "    mid = getMiddle(head)",
        "    left_half = head",
        "    right_half = mid.next",
        "    mid.next = None  # Split the list into two parts",
        "    ",
        "    # Step 2: Recursively sort the two halves",
        "    left_sorted = sortList(left_half)",
        "    right_sorted = sortList(right_half)",
        "    ",
        "    # Step 3: Merge the sorted halves",
        "    return merge(left_sorted, right_sorted)",
        "",
        "# This function can be called with the head of a linked list."
      ]
    },
    {
      "cell_type": "markdown",
      "metadata": {},
      "source": [
        "### 3. Time and Space Complexity Analysis",
        "",
        "- **Time Complexity**: O(n log n)",
        "  - The `getMiddle` function runs in O(n) time to find the midpoint and the `merge` function runs in O(n) time to combine two lists. Since we perform these operations log n times (due to the recursive splitting), the overall complexity is O(n log n).",
        "",
        "- **Space Complexity**: O(1)",
        "  - We are not using any additional data structures that grow with the input size; we only use a few pointers for traversal and merging. Therefore, the space complexity is constant (O(1)).",
        "",
        "This solution efficiently sorts a linked list using the merge sort technique, adhering to the problem's constraints and requirements."
      ]
    },
    {
      "cell_type": "markdown",
      "metadata": {},
      "source": [
        "---",
        "",
        ""
      ]
    },
    {
      "cell_type": "markdown",
      "metadata": {},
      "source": [
        "# Design Linked List (#707)",
        "",
        "**Difficulty:** Medium  ",
        "**Date:** 2025-08-02 22:35:31  ",
        "**URL:** https://leetcode.com/problems/design-linked-list/",
        "",
        "---"
      ]
    },
    {
      "cell_type": "markdown",
      "metadata": {},
      "source": [
        "## Problem Description",
        "",
        "Design your implementation of the linked list. You can choose to use a singly or doubly linked list.\nA node in a singly linked list should have two attributes: val and next. val is the value of the current node, and next is a pointer/reference to the next node.\nIf you want to use the doubly linked list, you will need one more attribute prev to indicate the previous node in the linked list. Assume all nodes in the linked list are 0-indexed.\n\nImplement the MyLinkedList class:\n\n\n\tMyLinkedList() Initializes the MyLinkedList object.\n\tint get(int index) Get the value of the indexth node in the linked list. If the index is invalid, return -1.\n\tvoid addAtHead(int val) Add a node of value val before the first element of the linked list. After the insertion, the new node will be the first node of the linked list.\n\tvoid addAtTail(int val) Append a node of value val as the last element of the linked list.\n\tvoid addAtIndex(int index, int val) Add a node of value val before the indexth node in the linked list. If index equals the length of the linked list, the node will be appended to the end of the linked list. If index is greater than the length, the node will not be inserted.\n\tvoid deleteAtIndex(int index) Delete the indexth node in the linked list, if the index is valid.\n\n\n&nbsp;\nExample 1:\n\n\nInput\n[&quot;MyLinkedList&quot;, &quot;addAtHead&quot;, &quot;addAtTail&quot;, &quot;addAtIndex&quot;, &quot;get&quot;, &quot;deleteAtIndex&quot;, &quot;get&quot;]\n[[], [1], [3], [1, 2], [1], [1], [1]]\nOutput\n[null, null, null, null, 2, null, 3]\n\nExplanation\nMyLinkedList myLinkedList = new MyLinkedList();\nmyLinkedList.addAtHead(1);\nmyLinkedList.addAtTail(3);\nmyLinkedList.addAtIndex(1, 2);    // linked list becomes 1->2->3\nmyLinkedList.get(1);              // return 2\nmyLinkedList.deleteAtIndex(1);    // now the linked list is 1->3\nmyLinkedList.get(1);              // return 3\n\n\n&nbsp;\nConstraints:\n\n\n\t0 <= index, val <= 1000\n\tPlease do not use the built-in LinkedList library.\n\tAt most 2000 calls will be made to get, addAtHead, addAtTail, addAtIndex and deleteAtIndex.\n\n"
      ]
    },
    {
      "cell_type": "markdown",
      "metadata": {},
      "source": [
        "## Clarifying Questions",
        "",
        "1. **Singly vs. Doubly Linked List**: Is there a preference for implementing a singly linked list versus a doubly linked list, or should I choose based on my implementation strategy?\n\n2. **Index Validity**: Can you clarify what should happen if the `get` or `deleteAtIndex` methods are called with an index that is out of bounds (negative or greater than the current size of the list)?\n\n3. **Handling Duplicate Values**: Should the linked list allow duplicate values, and if so, how should they be handled in methods like `addAtIndex` and `deleteAtIndex`?\n\n4. **Performance Expectations**: Are there any specific performance requirements or constraints for the time complexity of the operations (e.g., should all operations be O(1) or O(n))?\n\n5. **Initial State of the List**: What should the initial state of the linked list be after the `MyLinkedList` constructor is called? Should it start empty, or is there an assumption of pre-existing nodes?"
      ]
    },
    {
      "cell_type": "markdown",
      "metadata": {},
      "source": [
        "## Test Edge Cases",
        "",
        "Here are 8 important edge cases to consider when solving the \"Design Linked List\" problem:\n\n1. **Empty List Operations**:\n   - Test the behavior of `get`, `deleteAtIndex`, and `addAtIndex` on an empty linked list. For example, calling `get(0)` or `deleteAtIndex(0)` should return -1 or do nothing, respectively.\n\n2. **Single Element List**:\n   - Add a single element to the list using `addAtHead(10)` and then test `get(0)` to ensure it returns 10. Also, test `deleteAtIndex(0)` and then call `get(0)` again to confirm it returns -1.\n\n3. **Adding at the Head and Tail**:\n   - Start with an empty list, add elements using both `addAtHead` and `addAtTail`, and verify the order of elements. For instance, after `addAtHead(5)` and `addAtTail(10)`, calling `get(0)` should return 5 and `get(1)` should return 10.\n\n4. **Adding at Invalid Index**:\n   - Attempt to add an element at an index greater than the current length of the list (e.g., `addAtIndex(5, 20)` when the list has only 3 elements). Ensure that the list remains unchanged and that subsequent `get` calls return the expected values.\n\n5. **Adding at the Last Index**:\n   - Test adding an element at the last valid index (equal to the length of the list). For example, if the list has 3 elements, calling `addAtIndex(3, 15)` should append 15 to the end, and `get(3)` should return 15.\n\n6. **Deleting from the Middle**:\n   - Create a list with multiple elements (e.g., `addAtHead(1)`, `addAtTail(2)`, `addAtTail(3)`) and then delete an element from the middle (e.g., `deleteAtIndex(1)`). Verify that the list updates correctly and that `get(1)` returns the new middle value.\n\n7. **Duplicate Values**:\n   - Add duplicate values to the list (e.g., `addAtHead(5)`, `addAtTail(5)`, `addAtTail(5)`) and ensure that `get` calls return the correct values based on the index. For instance, `get(0)`, `get(1)`, and `get(2)` should all return 5.\n\n8. **Performance Test with Maximum Operations**:\n   - Perform the maximum number of operations allowed (2000 calls) to test the performance and ensure that the linked list implementation handles the load without errors or performance degradation. This could include a mix of `addAtHead`, `addAtTail`, `addAt"
      ]
    },
    {
      "cell_type": "markdown",
      "metadata": {},
      "source": [
        "### Approach",
        "",
        "To solve the problem of designing a linked list, we will create a `MyLinkedList` class that supports various operations like adding, getting, and deleting nodes. We'll use a singly linked list for this implementation, where each node contains a value and a pointer to the next node.",
        "",
        "1. **Node Class**: We will define a `Node` class to represent each element in the linked list. Each `Node` will have two attributes:",
        "   - `val`: the value of the node.",
        "   - `next`: a pointer to the next node in the list.",
        "",
        "2. **MyLinkedList Class**: This class will maintain the linked list:",
        "   - A `head` pointer to represent the start of the list.",
        "   - A `size` attribute to keep track of the number of nodes in the list.",
        "",
        "3. **Operations**:",
        "   - `get(index)`: Retrieve the value of the node at the specified index.",
        "   - `addAtHead(val)`: Insert a new node with the specified value at the start of the list.",
        "   - `addAtTail(val)`: Append a new node with the specified value at the end of the list.",
        "   - `addAtIndex(index, val)`: Insert a new node with the specified value before the specified index.",
        "   - `deleteAtIndex(index)`: Remove the node at the specified index.",
        "",
        "### Python Code Solution",
        "",
        "Here is the Python implementation of the linked list:"
      ]
    },
    {
      "cell_type": "code",
      "execution_count": null,
      "metadata": {},
      "outputs": [],
      "source": [
        "class Node:",
        "    \"\"\"Class to represent a node in the linked list.\"\"\"",
        "    def __init__(self, val=0, next=None):",
        "        self.val = val  # The value of the node",
        "        self.next = next  # Pointer to the next node",
        "",
        "class MyLinkedList:",
        "    \"\"\"Class to represent the linked list.\"\"\"",
        "    def __init__(self):",
        "        self.head = None  # Initialize the head of the list",
        "        self.size = 0  # Initialize the size of the list",
        "",
        "    def get(self, index: int) -> int:",
        "        \"\"\"Get the value of the indexth node in the linked list.\"\"\"",
        "        if index < 0 or index >= self.size:",
        "            return -1  # Return -1 if index is invalid",
        "        current = self.head",
        "        for _ in range(index):",
        "            current = current.next  # Move to the index node",
        "        return current.val  # Return the value at the index",
        "",
        "    def addAtHead(self, val: int) -> None:",
        "        \"\"\"Add a node of value val before the first element.\"\"\"",
        "        new_node = Node(val)  # Create a new node",
        "        new_node.next = self.head  # Link the new node to the former head",
        "        self.head = new_node  # Update the head to the new node",
        "        self.size += 1  # Increment the size of the list",
        "",
        "    def addAtTail(self, val: int) -> None:",
        "        \"\"\"Append a node of value val as the last element.\"\"\"",
        "        new_node = Node(val)  # Create a new node",
        "        if not self.head:",
        "            self.head = new_node  # If the list is empty, set head to new node",
        "        else:",
        "            current = self.head",
        "            while current.next:",
        "                current = current.next  # Traverse to the end of the list",
        "            current.next = new_node  # Link the last node to the new node",
        "        self.size += 1  # Increment the size of the list",
        "",
        "    def addAtIndex(self, index: int, val: int) -> None:",
        "        \"\"\"Add a node of value val before the indexth node.\"\"\"",
        "        if index < 0 or index > self.size:",
        "            return  # Do nothing if index is invalid",
        "        if index == 0:",
        "            self.addAtHead(val)  # If index is 0, use addAtHead",
        "            return",
        "        new_node = Node(val)  # Create a new node",
        "        current = self.head",
        "        for _ in range(index - 1):",
        "            current = current.next  # Traverse to the node before the index",
        "        new_node.next = current.next  # Link new node to the next node",
        "        current.next = new_node  # Link the previous node to the new node",
        "        self.size += 1  # Increment the size of the list",
        "",
        "    def deleteAtIndex(self, index: int) -> None:",
        "        \"\"\"Delete the indexth node in the linked list.\"\"\"",
        "        if index < 0 or index >= self.size:",
        "            return  # Do nothing if index is invalid",
        "        if index == 0:",
        "            self.head = self.head.next  # Update head to the next node",
        "        else:",
        "            current = self.head",
        "            for _ in range(index - 1):",
        "                current = current.next  # Traverse to the node before the index",
        "            current.next = current.next.next  # Bypass the node to be deleted",
        "        self.size -= 1  # Decrement the size of the list"
      ]
    },
    {
      "cell_type": "markdown",
      "metadata": {},
      "source": [
        "### Time and Space Complexity Analysis",
        "",
        "- **Time Complexity**:",
        "  - `get(index)`: O(n), where n is the number of nodes, since we may need to traverse the list to find the index.",
        "  - `addAtHead(val)`: O(1), as we can directly insert at the head.",
        "  - `addAtTail(val)`: O(n), as we may need to traverse to the end of the list.",
        "  - `addAtIndex(index, val)`: O(n), as we may need to traverse to the specified index.",
        "  - `deleteAtIndex(index)`: O(n), as we may need to traverse to find the node before the index.",
        "",
        "- **Space Complexity**: O(n), where n is the number of nodes, due to the storage required for each node in the linked list. The `MyLinkedList` class itself uses constant space, but the nodes consume space proportional to the number of nodes."
      ]
    },
    {
      "cell_type": "markdown",
      "metadata": {},
      "source": [
        "---",
        "",
        ""
      ]
    },
    {
      "cell_type": "markdown",
      "metadata": {},
      "source": [
        "# Split Linked List in Parts (#725)",
        "",
        "**Difficulty:** Medium  ",
        "**Date:** 2025-08-02 22:35:51  ",
        "**URL:** https://leetcode.com/problems/split-linked-list-in-parts/",
        "",
        "---"
      ]
    },
    {
      "cell_type": "markdown",
      "metadata": {},
      "source": [
        "## Problem Description",
        "",
        "Given the head of a singly linked list and an integer k, split the linked list into k consecutive linked list parts.\n\nThe length of each part should be as equal as possible: no two parts should have a size differing by more than one. This may lead to some parts being null.\n\nThe parts should be in the order of occurrence in the input list, and parts occurring earlier should always have a size greater than or equal to parts occurring later.\n\nReturn an array of the k parts.\n\n&nbsp;\nExample 1:\n\n\nInput: head = [1,2,3], k = 5\nOutput: [[1],[2],[3],[],[]]\nExplanation:\nThe first element output[0] has output[0].val = 1, output[0].next = null.\nThe last element output[4] is null, but its string representation as a ListNode is [].\n\n\nExample 2:\n\n\nInput: head = [1,2,3,4,5,6,7,8,9,10], k = 3\nOutput: [[1,2,3,4],[5,6,7],[8,9,10]]\nExplanation:\nThe input has been split into consecutive parts with size difference at most 1, and earlier parts are a larger size than the later parts.\n\n\n&nbsp;\nConstraints:\n\n\n\tThe number of nodes in the list is in the range [0, 1000].\n\t0 <= Node.val <= 1000\n\t1 <= k <= 50\n\n"
      ]
    },
    {
      "cell_type": "markdown",
      "metadata": {},
      "source": [
        "## Clarifying Questions",
        "",
        "1. What should we return if the linked list is empty (i.e., the head is null) and k is greater than zero? Should the output be an array of k null parts?\n\n2. If the number of nodes in the linked list is less than k, how should we handle the remaining parts? Should the remaining parts be null, or should we return only the parts that contain nodes?\n\n3. Can you clarify if the input linked list is guaranteed to be a singly linked list, and if there are any specific constraints on the values of the nodes (e.g., duplicates)?\n\n4. Are there any performance constraints we should be aware of, especially considering the maximum number of nodes (1000) and the maximum value of k (50)? Should we aim for a specific time complexity?\n\n5. Should the output format strictly follow the representation of linked list parts as arrays of values, or can we return them in a different format (e.g., as ListNode objects)?"
      ]
    },
    {
      "cell_type": "markdown",
      "metadata": {},
      "source": [
        "## Test Edge Cases",
        "",
        "Here are 8 important test edge cases to consider for the \"Split Linked List in Parts\" problem:\n\n1. **Empty List with k > 0**:\n   - **Input**: `head = []`, `k = 5`\n   - **Description**: Tests the case where the linked list is empty. The output should be an array of k null parts.\n\n2. **Single Element List with k > 1**:\n   - **Input**: `head = [1]`, `k = 3`\n   - **Description**: Tests the case where the linked list has only one element. The output should have the first part containing the element and the rest as null.\n\n3. **Single Element List with k = 1**:\n   - **Input**: `head = [1]`, `k = 1`\n   - **Description**: Tests the simplest case where the list has one element and k is also 1. The output should contain the single element in the first part.\n\n4. **List Length Less Than k**:\n   - **Input**: `head = [1, 2]`, `k = 5`\n   - **Description**: Tests the case where the number of nodes in the list is less than k. The output should contain the available elements in the first parts and the remaining parts as null.\n\n5. **List Length Equal to k**:\n   - **Input**: `head = [1, 2, 3]`, `k = 3`\n   - **Description**: Tests the case where the number of nodes in the list is exactly equal to k. Each part should contain one element.\n\n6. **List Length Greater Than k**:\n   - **Input**: `head = [1, 2, 3, 4, 5]`, `k = 2`\n   - **Description**: Tests the case where the number of nodes in the list is greater than k. The output should split the list into two parts with sizes as equal as possible.\n\n7. **List with Duplicates**:\n   - **Input**: `head = [1, 1, 1, 1]`, `k = 3`\n   - **Description**: Tests the case where the list contains duplicate values. The output should correctly reflect the split while maintaining the order of duplicates.\n\n8. **Maximum Size List with k = 1**:\n   - **Input**: `head = [0, 1, 2, ..., 999]`, `k = 1`\n   - **Description**: Tests the performance edge case with the maximum number of nodes (1000) and k = 1. The output should contain the entire list as the first part.\n\nThese test cases cover a range of scenarios, including edge cases related to the size of the list, the value of k,"
      ]
    },
    {
      "cell_type": "markdown",
      "metadata": {},
      "source": [
        "To solve the problem of splitting a linked list into `k` parts, we can follow these steps:",
        "",
        "### Approach",
        "",
        "1. **Calculate the Length of the Linked List**: First, we need to determine the total number of nodes in the linked list. This will help us to decide how to split the list into `k` parts.",
        "",
        "2. **Determine Size of Each Part**: Once we have the length of the linked list, we can compute the size of each part. If the total number of nodes is `n`, then:",
        "   - Each part should have a base size of `n // k`.",
        "   - The first `n % k` parts will have one additional node, making them `n // k + 1` in size.",
        "",
        "3. **Split the Linked List**: We will iterate through the linked list and create `k` parts using the sizes calculated in the previous step. If at any point we reach the end of the linked list before creating `k` parts, the remaining parts will be `None`.",
        "",
        "4. **Return Result**: Finally, we will return an array of the `k` parts.",
        "",
        "### Python Code Solution"
      ]
    },
    {
      "cell_type": "code",
      "execution_count": null,
      "metadata": {},
      "outputs": [],
      "source": [
        "class ListNode:",
        "    def __init__(self, val=0, next=None):",
        "        self.val = val",
        "        self.next = next",
        "",
        "def splitListToParts(head: ListNode, k: int):",
        "    # Step 1: Calculate the total length of the linked list",
        "    current = head",
        "    total_length = 0",
        "    while current:",
        "        total_length += 1",
        "        current = current.next",
        "    ",
        "    # Step 2: Determine the size of each part",
        "    part_size = total_length // k",
        "    extra_parts = total_length % k",
        "    ",
        "    # Prepare the result array",
        "    result = []",
        "    ",
        "    # Step 3: Split the linked list into k parts",
        "    current = head",
        "    for i in range(k):",
        "        part_head = current  # The head of the current part",
        "        current_part_size = part_size + (1 if i < extra_parts else 0)",
        "        ",
        "        # Move current pointer ahead by current_part_size",
        "        for j in range(current_part_size - 1):  # -1 because we want to stop before the last node",
        "            if current:",
        "                current = current.next",
        "        ",
        "        if current:",
        "            # Break the link to the next part",
        "            next_part_head = current.next",
        "            current.next = None",
        "            current = next_part_head",
        "        ",
        "        result.append(part_head)  # Append the head of the current part to the result",
        "    ",
        "    return result"
      ]
    },
    {
      "cell_type": "markdown",
      "metadata": {},
      "source": [
        "### Explanation of the Code",
        "",
        "1. **ListNode Class**: This is a simple implementation of a singly linked list node.",
        "2. **splitListToParts Function**:",
        "   - We first calculate the `total_length` of the linked list.",
        "   - Next, we calculate the `part_size` and how many parts need an extra node (`extra_parts`).",
        "   - We then loop through `k` times to create each part. For each part, we keep track of its head and advance the `current` pointer accordingly. We ensure that if we reach the end of the list, we properly set the next part to `None`.",
        "",
        "### Time and Space Complexity",
        "",
        "- **Time Complexity**: O(n + k), where `n` is the number of nodes in the linked list. We traverse the linked list to calculate its length and again to split it into parts.",
        "  ",
        "- **Space Complexity**: O(k), as we are storing the heads of the parts in an array of size `k`. Each part can be a separate linked list, but we are not using extra space for them beyond storing their heads.",
        "",
        "This solution is efficient and works within the constraints given in the problem."
      ]
    },
    {
      "cell_type": "markdown",
      "metadata": {},
      "source": [
        "---",
        "",
        ""
      ]
    },
    {
      "cell_type": "markdown",
      "metadata": {},
      "source": [
        "# Linked List Components (#817)",
        "",
        "**Difficulty:** Medium  ",
        "**Date:** 2025-08-02 23:16:34  ",
        "**URL:** https://leetcode.com/problems/linked-list-components/",
        "",
        "---"
      ]
    },
    {
      "cell_type": "markdown",
      "metadata": {},
      "source": [
        "## Problem Description",
        "",
        "You are given the head of a linked list containing unique integer values and an integer array nums that is a subset of the linked list values.\n\nReturn the number of connected components in nums where two values are connected if they appear consecutively in the linked list.\n\n&nbsp;\nExample 1:\n\n\nInput: head = [0,1,2,3], nums = [0,1,3]\nOutput: 2\nExplanation: 0 and 1 are connected, so [0, 1] and [3] are the two connected components.\n\n\nExample 2:\n\n\nInput: head = [0,1,2,3,4], nums = [0,3,1,4]\nOutput: 2\nExplanation: 0 and 1 are connected, 3 and 4 are connected, so [0, 1] and [3, 4] are the two connected components.\n\n\n&nbsp;\nConstraints:\n\n\n\tThe number of nodes in the linked list is n.\n\t1 <= n <= 104\n\t0 <= Node.val < n\n\tAll the values Node.val are unique.\n\t1 <= nums.length <= n\n\t0 <= nums[i] < n\n\tAll the values of nums are unique.\n\n"
      ]
    },
    {
      "cell_type": "markdown",
      "metadata": {},
      "source": [
        "## Clarifying Questions",
        "",
        "1. Are the values in the `nums` array guaranteed to be present in the linked list, or should we handle cases where some values in `nums` may not be found in the linked list?\n\n2. How should we handle the case where `nums` is empty? Should we return 0, or is there a different expected behavior?\n\n3. Can the linked list contain only one node, and if so, how should we interpret the `nums` array in that scenario?\n\n4. Are there any specific performance requirements we should be aware of, especially considering the maximum constraints (e.g., n up to 10,000)?\n\n5. Should we assume that the linked list is always well-formed (i.e., no cycles or null references), or do we need to handle potential edge cases related to the structure of the linked list?"
      ]
    },
    {
      "cell_type": "markdown",
      "metadata": {},
      "source": [
        "## Test Edge Cases",
        "",
        "Here are 8 important test edge cases to consider for the Linked List Components problem:\n\n1. **Empty Linked List**:\n   - **Input**: `head = []`, `nums = [1, 2, 3]`\n   - **Description**: Tests the behavior when the linked list is empty. The expected output should be `0` since there are no components to connect.\n\n2. **Single Node Linked List with Matching Num**:\n   - **Input**: `head = [0]`, `nums = [0]`\n   - **Description**: Tests the simplest case where the linked list has one node that matches the nums array. The expected output should be `1`.\n\n3. **Single Node Linked List without Matching Num**:\n   - **Input**: `head = [0]`, `nums = [1]`\n   - **Description**: Tests the case where the linked list has one node, but the nums array does not contain that node. The expected output should be `0`.\n\n4. **Maximum Size Linked List**:\n   - **Input**: `head = [0, 1, 2, ..., 9999]`, `nums = [0, 1, 2, 3, 9999]`\n   - **Description**: Tests the performance and handling of the maximum constraints. The expected output should be `3` since `0, 1, 2` are connected and `9999` is isolated.\n\n5. **Disconnected Components**:\n   - **Input**: `head = [0, 1, 2, 3, 4, 5]`, `nums = [0, 2, 4]`\n   - **Description**: Tests the case where nums contains elements that are not consecutively connected in the linked list. The expected output should be `3` since `0`, `2`, and `4` are separate components.\n\n6. **All Nodes in nums**:\n   - **Input**: `head = [0, 1, 2, 3, 4]`, `nums = [0, 1, 2, 3, 4]`\n   - **Description**: Tests the case where all nodes in the linked list are included in nums. The expected output should be `1` since all nodes are connected.\n\n7. **Consecutive and Non-Consecutive Elements**:\n   - **Input**: `head = [0, 1, 2, 3, 4]`, `nums = [0, 1, 3]`\n   - **Description**: Tests a scenario where some elements are consecutive and others are not. The expected output should be `2` since `0` and `1` are connected, and `3` is isolated.\n\n8. **Large Gaps in Values**:\n   - **Input"
      ]
    },
    {
      "cell_type": "markdown",
      "metadata": {},
      "source": [
        "The problem requires us to determine the number of connected components in a linked list based on a subset of its values. Two values are considered connected if they appear consecutively in the linked list. ",
        "",
        "### Approach",
        "",
        "1. **Understanding Connected Components**: ",
        "   - A connected component is a sequence of numbers in the linked list that are part of the `nums` array and are adjacent to each other in the linked list.",
        "   - For example, if `nums` contains [0, 1], and both numbers appear consecutively in the linked list, they form a connected component.",
        "",
        "2. **Using a Set**:",
        "   - To efficiently check if a node's value is in `nums`, we can store the values of `nums` in a set. This allows for O(1) average time complexity for membership checks.",
        "",
        "3. **Traversing the Linked List**:",
        "   - We will traverse the linked list node by node.",
        "   - We'll maintain a flag to indicate whether we are currently in a connected component.",
        "   - When we encounter a value in `nums`, we check if we are already in a component (if this is the first value in a new component). If so, we increment our count of components.",
        "   - If we encounter a value not in `nums`, we set our flag indicating we are no longer in a component.",
        "",
        "### Python Code Solution"
      ]
    },
    {
      "cell_type": "code",
      "execution_count": null,
      "metadata": {},
      "outputs": [],
      "source": [
        "class ListNode:",
        "    def __init__(self, val=0, next=None):",
        "        self.val = val",
        "        self.next = next",
        "",
        "def numComponents(head: ListNode, nums: list[int]) -> int:",
        "    # Create a set from nums for O(1) lookups",
        "    num_set = set(nums)",
        "    count = 0",
        "    current = head",
        "    in_component = False  # Flag to check if we are in a component",
        "",
        "    # Traverse the linked list",
        "    while current:",
        "        # If the current node's value is in the nums set",
        "        if current.val in num_set:",
        "            if not in_component:  # We've found the start of a new component",
        "                count += 1",
        "                in_component = True  # We're now in a component",
        "        else:",
        "            in_component = False  # We're not in a component anymore",
        "        ",
        "        current = current.next  # Move to the next node",
        "",
        "    return count  # Return the total number of components"
      ]
    },
    {
      "cell_type": "markdown",
      "metadata": {},
      "source": [
        "### Time and Space Complexity Analysis",
        "",
        "- **Time Complexity**: ",
        "  - The algorithm runs in O(n), where n is the number of nodes in the linked list. This is due to the single pass through the linked list.",
        "  - Checking if a value is in the set takes O(1) on average, making our total complexity O(n).",
        "",
        "- **Space Complexity**: ",
        "  - The space complexity is O(m), where m is the number of elements in `nums`, because we are storing these values in a set for fast access. ",
        "  - Additionally, we use O(1) space for the variables used during traversal. Thus, the overall space complexity is O(m).",
        "",
        "This approach efficiently counts the connected components in the linked list based on the given subset of values, ensuring optimal performance even for the upper limit of constraints."
      ]
    },
    {
      "cell_type": "markdown",
      "metadata": {},
      "source": [
        "---",
        "",
        ""
      ]
    },
    {
      "cell_type": "markdown",
      "metadata": {},
      "source": [
        "# Remove Zero Sum Consecutive Nodes from Linked List (#1171)",
        "",
        "**Difficulty:** Medium  ",
        "**Date:** 2025-08-04 23:39:44  ",
        "**URL:** https://leetcode.com/problems/remove-zero-sum-consecutive-nodes-from-linked-list/",
        "",
        "---"
      ]
    },
    {
      "cell_type": "markdown",
      "metadata": {},
      "source": [
        "## Problem Description",
        "",
        "Given the head of a linked list, we repeatedly delete consecutive sequences of nodes that sum to 0 until there are no such sequences.\r\n\r\nAfter doing so, return the head of the final linked list.&nbsp; You may return any such answer.\r\n\n&nbsp;\n(Note that in the examples below, all sequences are serializations of ListNode objects.)\n\nExample 1:\n\n\nInput: head = [1,2,-3,3,1]\nOutput: [3,1]\nNote: The answer [1,2,1] would also be accepted.\n\n\nExample 2:\n\n\nInput: head = [1,2,3,-3,4]\nOutput: [1,2,4]\n\n\nExample 3:\n\n\nInput: head = [1,2,3,-3,-2]\nOutput: [1]\n\n\n&nbsp;\nConstraints:\n\n\n\tThe given linked list will contain between 1 and 1000 nodes.\n\tEach node in the linked list has -1000 <= node.val <= 1000.\n\n"
      ]
    },
    {
      "cell_type": "markdown",
      "metadata": {},
      "source": [
        "## Clarifying Questions",
        "",
        "1. Are we guaranteed that the input linked list will always contain at least one node, or can it be empty? If it can be empty, how should we handle that case in our output?\n\n2. Should we consider the order of the nodes in the output linked list? For example, if multiple valid outputs exist, is there a preferred order or structure we should follow?\n\n3. Can you clarify if we need to maintain the original linked list structure, or is it acceptable to create a new linked list for the output?\n\n4. Are there any specific performance constraints we should be aware of, such as time complexity or space complexity requirements, given the maximum size of the linked list (up to 1000 nodes)?\n\n5. How should we handle cases where multiple consecutive sequences of nodes that sum to zero overlap? For example, in the sequence [1, -1, 2, -2], should we remove the entire sequence or just the individual zero-sum parts?"
      ]
    },
    {
      "cell_type": "markdown",
      "metadata": {},
      "source": [
        "## Test Edge Cases",
        "",
        "Here are 8 important test edge cases to consider when solving the \"Remove Zero Sum Consecutive Nodes from Linked List\" problem:\n\n1. **Empty List**:\n   - **Input**: `head = []`\n   - **Description**: Tests the function's handling of an empty linked list. The expected output should also be an empty list.\n\n2. **Single Node (Non-Zero)**:\n   - **Input**: `head = [5]`\n   - **Description**: Tests the simplest non-empty case where the linked list has only one node with a non-zero value. The output should be the same single node.\n\n3. **Single Node (Zero)**:\n   - **Input**: `head = [0]`\n   - **Description**: Tests the case where the linked list has only one node with a value of zero. The expected output should be an empty list since the node itself sums to zero.\n\n4. **Consecutive Nodes Summing to Zero**:\n   - **Input**: `head = [1, -1, 2, -2, 3]`\n   - **Description**: Tests the case where there are consecutive nodes that sum to zero. The expected output should be `[3]` after removing the nodes that sum to zero.\n\n5. **Multiple Zero-Sum Groups**:\n   - **Input**: `head = [1, 2, -2, -1, 3, 4, -4]`\n   - **Description**: Tests a linked list with multiple groups of consecutive nodes that sum to zero. The expected output should be `[3]` after all zero-sum groups are removed.\n\n6. **All Nodes Zero**:\n   - **Input**: `head = [0, 0, 0, 0]`\n   - **Description**: Tests the case where all nodes are zero. The expected output should be an empty list since all nodes sum to zero.\n\n7. **Large List with No Zero-Sum Sequences**:\n   - **Input**: `head = [1, 2, 3, 4, 5, 6, 7, 8, 9, 10]`\n   - **Description**: Tests the performance and correctness of the function with a large list that does not contain any zero-sum sequences. The expected output should be the same list.\n\n8. **Negative and Positive Values with Intermittent Zero-Sum**:\n   - **Input**: `head = [3, -1, -2, 2, 1, -3, 3]`\n   - **Description**: Tests a more complex case with both negative and positive values where only some nodes sum to zero. The expected output should be `[3]` after removing the zero-sum sequences.\n\nThese test cases cover a variety of scenarios, including boundary conditions, special"
      ]
    },
    {
      "cell_type": "markdown",
      "metadata": {},
      "source": [
        "To solve the problem of removing consecutive nodes from a linked list that sum to zero, we can use a hash map (dictionary in Python) to maintain the cumulative sums of the nodes as we traverse the list. This approach allows us to efficiently identify and remove segments of the list that sum to zero.",
        "",
        "### Approach",
        "",
        "1. **Cumulative Sum**: As we traverse the linked list, we compute the cumulative sum of the node values. The cumulative sum at each node helps us identify segments of the linked list that sum to zero.",
        "",
        "2. **Hash Map**: We use a hash map (or dictionary) to store the first occurrence of each cumulative sum and the corresponding node. If we encounter the same cumulative sum again, it means that the nodes between the first occurrence and the current node sum to zero.",
        "",
        "3. **Removal of Zero Sum Segments**: When we find that a cumulative sum has occurred before, we need to:",
        "   - Remove all nodes between the previous occurrence and the current node (including the previous occurrence node).",
        "   - Update the next pointer of the node just before the previous occurrence to skip over the zero-sum segment.",
        "",
        "4. **Final Traversal**: After processing all nodes, we will have the modified linked list with all zero-sum consecutive nodes removed.",
        "",
        "### Python Code Solution"
      ]
    },
    {
      "cell_type": "code",
      "execution_count": null,
      "metadata": {},
      "outputs": [],
      "source": [
        "class ListNode:",
        "    def __init__(self, val=0, next=None):",
        "        self.val = val",
        "        self.next = next",
        "",
        "def removeZeroSumSublists(head: ListNode) -> ListNode:",
        "    # Create a dummy node to handle edge cases where the head needs to be removed",
        "    dummy = ListNode(0)",
        "    dummy.next = head",
        "    ",
        "    # Dictionary to store the cumulative sum and the corresponding node",
        "    cumulative_sum_map = {0: dummy}",
        "    current_sum = 0",
        "    ",
        "    current = head",
        "    while current:",
        "        current_sum += current.val",
        "        ",
        "        # If the cumulative sum has been seen before, we have a zero-sum sublist",
        "        if current_sum in cumulative_sum_map:",
        "            # Find the node that corresponds to the previous occurrence of this sum",
        "            prev_node = cumulative_sum_map[current_sum]",
        "            # Start from the node after the previous occurrence to the current node",
        "            node_to_remove = prev_node.next",
        "            ",
        "            # Remove nodes between prev_node and current",
        "            temp_sum = current_sum",
        "            while node_to_remove != current:",
        "                temp_sum += node_to_remove.val",
        "                del cumulative_sum_map[temp_sum]  # Remove the sums that are no longer valid",
        "                node_to_remove = node_to_remove.next",
        "            ",
        "            # Connect the previous node to the current node",
        "            prev_node.next = current.next",
        "        else:",
        "            # Store the current cumulative sum with the current node",
        "            cumulative_sum_map[current_sum] = current",
        "        ",
        "        current = current.next",
        "    ",
        "    return dummy.next  # Return the modified list starting from the node after the dummy",
        "",
        "# Example usage:",
        "# head = ListNode(1, ListNode(2, ListNode(-3, ListNode(3, ListNode(1)))))",
        "# new_head = removeZeroSumSublists(head)"
      ]
    },
    {
      "cell_type": "markdown",
      "metadata": {},
      "source": [
        "### Time and Space Complexity Analysis",
        "",
        "- **Time Complexity**: ",
        "  - The algorithm processes each node of the linked list once, leading to a time complexity of O(n), where n is the number of nodes.",
        "",
        "- **Space Complexity**: ",
        "  - The space complexity is O(n) in the worst case due to the hash map storing cumulative sums. However, in practice, the size may be less depending on the zero-sum segments.",
        "",
        "In conclusion, this approach efficiently removes consecutive zero-sum segments from a linked list by leveraging cumulative sums and a hash map to track seen sums, allowing for quick identification and removal of problematic segments."
      ]
    },
    {
      "cell_type": "markdown",
      "metadata": {},
      "source": [
        "---",
        "",
        ""
      ]
    },
    {
      "cell_type": "markdown",
      "metadata": {},
      "source": [
        "# Design Skiplist (#1206)",
        "",
        "**Difficulty:** Hard  ",
        "**Date:** 2025-08-04 23:40:41  ",
        "**URL:** https://leetcode.com/problems/design-skiplist/",
        "",
        "---"
      ]
    },
    {
      "cell_type": "markdown",
      "metadata": {},
      "source": [
        "## Problem Description",
        "",
        "Design a Skiplist without using any built-in libraries.\n\nA skiplist is a data structure that takes O(log(n)) time to add, erase and search. Comparing with treap and red-black tree which has the same function and performance, the code length of Skiplist can be comparatively short and the idea behind Skiplists is just simple linked lists.\n\nFor example, we have a Skiplist containing [30,40,50,60,70,90] and we want to add 80 and 45 into it. The Skiplist works this way:\n\n\nArtyom Kalinin [CC BY-SA 3.0], via Wikimedia Commons\n\nYou can see there are many layers in the Skiplist. Each layer is a sorted linked list. With the help of the top layers, add, erase and search can be faster than O(n). It can be proven that the average time complexity for each operation is O(log(n)) and space complexity is O(n).\n\nSee more about Skiplist: https://en.wikipedia.org/wiki/Skip_list\n\nImplement the Skiplist class:\n\n\n\tSkiplist() Initializes the object of the skiplist.\n\tbool search(int target) Returns true if the integer target exists in the Skiplist or false otherwise.\n\tvoid add(int num) Inserts the value num into the SkipList.\n\tbool erase(int num) Removes the value num from the Skiplist and returns true. If num does not exist in the Skiplist, do nothing and return false. If there exist multiple num values, removing any one of them is fine.\n\n\nNote that duplicates may exist in the Skiplist, your code needs to handle this situation.\n\n&nbsp;\nExample 1:\n\n\nInput\n[&quot;Skiplist&quot;, &quot;add&quot;, &quot;add&quot;, &quot;add&quot;, &quot;search&quot;, &quot;add&quot;, &quot;search&quot;, &quot;erase&quot;, &quot;erase&quot;, &quot;search&quot;]\n[[], [1], [2], [3], [0], [4], [1], [0], [1], [1]]\nOutput\n[null, null, null, null, false, null, true, false, true, false]\n\nExplanation\nSkiplist skiplist = new Skiplist();\nskiplist.add(1);\nskiplist.add(2);\nskiplist.add(3);\nskiplist.search(0); // return False\nskiplist.add(4);\nskiplist.search(1); // return True\nskiplist.erase(0);  // return False, 0 is not in skiplist.\nskiplist.erase(1);  // return True\nskiplist.search(1); // return False, 1 has already been erased.\n\n&nbsp;\nConstraints:\n\n\n\t0 <= num, target <= 2 * 104\n\tAt most 5 * 104 calls will be made to search, add, and erase.\n\n"
      ]
    },
    {
      "cell_type": "markdown",
      "metadata": {},
      "source": [
        "## Clarifying Questions",
        "",
        "1. **What is the maximum number of layers that the Skiplist can have, and how should we decide the level of each new node being added?**\n\n2. **How should we handle duplicate values in the Skiplist during the add and erase operations? Should we maintain a count of duplicates, or can we simply remove any one instance?**\n\n3. **Are there any specific constraints on the order of operations (e.g., can we call search, add, and erase in any order, or are there any dependencies)?**\n\n4. **What should the behavior of the Skiplist be if we attempt to erase a number that does not exist? Should it return false without any other side effects?**\n\n5. **Is there a specific memory limit or performance requirement we need to adhere to beyond the average time complexities mentioned (O(log(n)) for operations)?**"
      ]
    },
    {
      "cell_type": "markdown",
      "metadata": {},
      "source": [
        "## Test Edge Cases",
        "",
        "Here are 8 important test edge cases to consider when solving the Skiplist problem:\n\n1. **Empty Skiplist Operations**:\n   - **Test Case**: Initialize a Skiplist and perform `search` and `erase` operations on it.\n   - **Description**: Verify that searching for any number (e.g., `search(10)`) returns `false` and erasing any number (e.g., `erase(10)`) returns `false` since the Skiplist is empty.\n\n2. **Single Element Addition and Search**:\n   - **Test Case**: Add a single element (e.g., `add(5)`) and then perform `search(5)` and `search(10)`.\n   - **Description**: Ensure that searching for the added element returns `true`, while searching for a non-existent element returns `false`.\n\n3. **Duplicate Elements Handling**:\n   - **Test Case**: Add the same element multiple times (e.g., `add(10)` three times) and then perform `search(10)` and `erase(10)` twice.\n   - **Description**: Check that `search(10)` returns `true`, and the first `erase(10)` returns `true` while the second `erase(10)` returns `true` again, demonstrating that duplicates are handled correctly.\n\n4. **Erase Non-Existent Element**:\n   - **Test Case**: Initialize a Skiplist, add a few elements (e.g., `add(1)`, `add(2)`), and then attempt to erase an element that doesn't exist (e.g., `erase(3)`).\n   - **Description**: Confirm that the `erase(3)` operation returns `false`, indicating that the element was not found.\n\n5. **Maximum Size Handling**:\n   - **Test Case**: Continuously add elements until reaching the maximum number of operations (e.g., 50,000 calls).\n   - **Description**: Ensure that the Skiplist can handle the maximum constraints without performance degradation and that all operations (add, search, erase) work as expected.\n\n6. **Boundary Values**:\n   - **Test Case**: Add boundary values such as `0`, `1`, `2 * 10^4` (the maximum allowed value).\n   - **Description**: Validate that adding these boundary values works correctly and that searching for them returns `true`, while searching for values just outside the boundaries (e.g., `-1`, `2 * 10^4 + 1`) returns `false`.\n\n7. **Sequential Operations**:\n   - **Test Case**: Perform a sequence of operations: add a range of numbers (e.g., `add(1)`, `add(2)`, `add(3)`), then erase them in reverse order (e.g., `erase(3)`, `erase(2)`, `erase("
      ]
    },
    {
      "cell_type": "markdown",
      "metadata": {},
      "source": [
        "### Explanation of the Approach",
        "",
        "A Skiplist is a probabilistic data structure that allows for fast search, insertion, and deletion operations, similar to balanced trees but with a simpler structure. The main idea is to maintain multiple layers of linked lists, where each layer is a sorted linked list. The lowest layer contains all the elements, while higher layers contain a subset of those elements, which helps to skip over large sections of the list during search and insertion operations.",
        "",
        "#### Key Components:",
        "1. **Node Structure**: Each node in the Skiplist contains a value and a list of pointers to the next nodes in each level above it.",
        "2. **Levels**: Nodes can exist at multiple levels, and each node has a random chance of being promoted to a higher level when it is added.",
        "3. **Search**: To find a number, we start from the highest level and traverse downwards, moving right until we find the target or hit a node greater than the target.",
        "4. **Insert**: Similar to search, but we also need to insert the new node at the appropriate levels based on random promotion.",
        "5. **Erase**: We search for the node to be deleted and remove one occurrence of it from each level where it appears.",
        "",
        "#### Random Level Generation:",
        "To decide how many levels a new node will have, we can use a random number generator. This allows for a logarithmic height on average, making operations efficient.",
        "",
        "### Python Code Solution",
        "",
        "Here is the implementation of the Skiplist:"
      ]
    },
    {
      "cell_type": "code",
      "execution_count": null,
      "metadata": {},
      "outputs": [],
      "source": [
        "import random",
        "",
        "class Node:",
        "    def __init__(self, value, level):",
        "        self.value = value",
        "        self.forward = [None] * (level + 1)  # Pointers to the next nodes in each level",
        "",
        "class Skiplist:",
        "    def __init__(self):",
        "        self.max_level = 16  # Maximum level for the Skiplist",
        "        self.header = Node(-1, self.max_level)  # Header node with a sentinel value",
        "        self.current_level = 0  # Current highest level in the Skiplist",
        "",
        "    def random_level(self):",
        "        # Randomly generate a level for the new node",
        "        level = 0",
        "        while level < self.max_level and random.random() < 0.5:",
        "            level += 1",
        "        return level",
        "",
        "    def search(self, target):",
        "        current = self.header",
        "        for i in range(self.current_level, -1, -1):",
        "            while current.forward[i] and current.forward[i].value < target:",
        "                current = current.forward[i]",
        "        current = current.forward[0]",
        "        return current is not None and current.value == target",
        "",
        "    def add(self, num):",
        "        update = [None] * (self.max_level + 1)",
        "        current = self.header",
        "",
        "        # Find the position to insert the new number",
        "        for i in range(self.current_level, -1, -1):",
        "            while current.forward[i] and current.forward[i].value < num:",
        "                current = current.forward[i]",
        "            update[i] = current",
        "",
        "        current = current.forward[0]",
        "",
        "        # If the number is not already in the Skiplist, insert it",
        "        if current is None or current.value != num:",
        "            new_level = self.random_level()",
        "            if new_level > self.current_level:",
        "                for i in range(self.current_level + 1, new_level + 1):",
        "                    update[i] = self.header",
        "                self.current_level = new_level",
        "            ",
        "            new_node = Node(num, new_level)",
        "            for i in range(new_level + 1):",
        "                new_node.forward[i] = update[i].forward[i]",
        "                update[i].forward[i] = new_node",
        "",
        "    def erase(self, num):",
        "        update = [None] * (self.max_level + 1)",
        "        current = self.header",
        "",
        "        # Find the node to erase",
        "        for i in range(self.current_level, -1, -1):",
        "            while current.forward[i] and current.forward[i].value < num:",
        "                current = current.forward[i]",
        "            update[i] = current",
        "",
        "        current = current.forward[0]",
        "",
        "        # If the number exists, remove it",
        "        if current is not None and current.value == num:",
        "            for i in range(self.current_level + 1):",
        "                if update[i].forward[i] != current:",
        "                    break",
        "                update[i].forward[i] = current.forward[i]",
        "",
        "            # Remove levels if necessary",
        "            while self.current_level > 0 and self.header.forward[self.current_level] is None:",
        "                self.current_level -= 1",
        "            return True",
        "        return False"
      ]
    },
    {
      "cell_type": "markdown",
      "metadata": {},
      "source": [
        "### Time and Space Complexity Analysis",
        "",
        "1. **Time Complexity**:",
        "   - **Search**: O(log n) on average, since we skip through layers.",
        "   - **Add**: O(log n) on average, due to similar reasoning as search.",
        "   - **Erase**: O(log n) on average, since we find the node and update pointers.",
        "",
        "2. **Space Complexity**: ",
        "   - O(n) for storing the nodes, since each node occupies space, and the space for pointers is proportional to the number of nodes and their levels.",
        "",
        "Overall, the Skiplist provides a balanced and efficient way to handle dynamic sets of numbers with fast query capabilities."
      ]
    },
    {
      "cell_type": "markdown",
      "metadata": {},
      "source": [
        "---",
        "",
        ""
      ]
    },
    {
      "cell_type": "markdown",
      "metadata": {},
      "source": [
        "# Convert Binary Number in a Linked List to Integer (#1290)",
        "",
        "**Difficulty:** Easy  ",
        "**Date:** 2025-08-04 23:42:32  ",
        "**URL:** https://leetcode.com/problems/convert-binary-number-in-a-linked-list-to-integer/",
        "",
        "---"
      ]
    },
    {
      "cell_type": "markdown",
      "metadata": {},
      "source": [
        "## Problem Description",
        "",
        "Given head which is a reference node to a singly-linked list. The value of each node in the linked list is either 0 or 1. The linked list holds the binary representation of a number.\n\nReturn the decimal value of the number in the linked list.\n\nThe most significant bit is at the head of the linked list.\n\n&nbsp;\nExample 1:\n\n\nInput: head = [1,0,1]\nOutput: 5\nExplanation: (101) in base 2 = (5) in base 10\n\n\nExample 2:\n\n\nInput: head = [0]\nOutput: 0\n\n\n&nbsp;\nConstraints:\n\n\n\tThe Linked List is not empty.\n\tNumber of nodes will not exceed 30.\n\tEach node&#39;s value is either 0 or 1.\n\n"
      ]
    },
    {
      "cell_type": "markdown",
      "metadata": {},
      "source": [
        "## Clarifying Questions",
        "",
        "1. **What should be returned if the linked list contains only a single node with a value of 0?** (This clarifies the expected output for the simplest case.)\n\n2. **Are there any constraints on the values of the nodes other than being 0 or 1?** (This ensures there are no unexpected values that could lead to ambiguity.)\n\n3. **Should the function handle any specific edge cases, such as leading zeros in the binary representation?** (This clarifies how to treat cases like [0, 1, 0] which is still valid binary.)\n\n4. **What is the expected time complexity for the solution, and are there any performance constraints to consider given the maximum number of nodes?** (This helps understand if there are performance expectations for larger inputs.)\n\n5. **Can we assume that the linked list is well-formed and does not contain cycles?** (This clarifies assumptions about the input structure, which can affect the implementation.)"
      ]
    },
    {
      "cell_type": "markdown",
      "metadata": {},
      "source": [
        "## Test Edge Cases",
        "",
        "Here are 8 important test edge cases to consider for the problem of converting a binary number represented by a linked list into an integer:\n\n1. **Single Node with Value 1**:\n   - **Input**: head = [1]\n   - **Output**: 1\n   - **Description**: Tests the simplest case where the linked list contains only one node with the value 1.\n\n2. **Single Node with Value 0**:\n   - **Input**: head = [0]\n   - **Output**: 0\n   - **Description**: Tests the simplest case where the linked list contains only one node with the value 0.\n\n3. **Maximum Size with All Ones**:\n   - **Input**: head = [1, 1, 1, 1, 1, 1, 1, 1, 1, 1, 1, 1, 1, 1, 1, 1, 1, 1, 1, 1, 1, 1, 1, 1, 1, 1, 1, 1, 1, 1, 1]\n   - **Output**: 2147483647 (which is 2^30 - 1)\n   - **Description**: Tests the upper limit of the linked list size with all nodes set to 1, checking if the function can handle the maximum binary value.\n\n4. **Maximum Size with All Zeros**:\n   - **Input**: head = [0, 0, 0, 0, 0, 0, 0, 0, 0, 0, 0, 0, 0, 0, 0, 0, 0, 0, 0, 0, 0, 0, 0, 0, 0, 0, 0, 0, 0, 0, 0]\n   - **Output**: 0\n   - **Description**: Tests the upper limit of the linked list size with all nodes set to 0, ensuring the function correctly returns 0.\n\n5. **Leading Zeros**:\n   - **Input**: head = [0, 1, 0, 1]\n   - **Output**: 5\n   - **Description**: Tests a case where the binary representation has leading zeros, which should not affect the final decimal value.\n\n6. **Alternating Ones and Zeros**:\n   - **Input**: head = [1, 0, 1, 0, 1]\n   - **Output**: 21\n   - **Description**: Tests a case with an alternating pattern of 1s and 0s, ensuring the function calculates the binary value correctly.\n\n7. **All Ones Except Last"
      ]
    },
    {
      "cell_type": "markdown",
      "metadata": {},
      "source": [
        "To solve the problem of converting a binary number represented by a linked list into its decimal integer value, we will follow a systematic approach. Here's a step-by-step breakdown of the solution:",
        "",
        "### 1. Explanation of the Approach",
        "",
        "The linked list represents a binary number where each node contains either a `0` or a `1`. The most significant bit (MSB) is at the head of the list, and the least significant bit (LSB) is at the tail. ",
        "",
        "To convert this binary number to decimal:",
        "- We will traverse the linked list from the head to the end.",
        "- For each node, we will shift the current accumulated value to the left (which is equivalent to multiplying the current value by 2) and add the value of the current node.",
        "- This effectively builds the decimal integer representation as we process each bit from left to right.",
        "",
        "### 2. Python Code Solution with Comments",
        "",
        "Here is how we can implement the above approach in Python:"
      ]
    },
    {
      "cell_type": "code",
      "execution_count": null,
      "metadata": {},
      "outputs": [],
      "source": [
        "class ListNode:",
        "    def __init__(self, val=0, next=None):",
        "        self.val = val",
        "        self.next = next",
        "",
        "def getDecimalValue(head: ListNode) -> int:",
        "    # Initialize the result variable to store the decimal value",
        "    decimal_value = 0",
        "    ",
        "    # Traverse the linked list",
        "    current_node = head",
        "    while current_node:",
        "        # Shift the current decimal value to the left (multiply by 2)",
        "        decimal_value = (decimal_value << 1) | current_node.val",
        "        # Move to the next node",
        "        current_node = current_node.next",
        "    ",
        "    return decimal_value"
      ]
    },
    {
      "cell_type": "markdown",
      "metadata": {},
      "source": [
        "### 3. Time and Space Complexity Analysis",
        "",
        "- **Time Complexity**: O(n)",
        "  - We traverse the linked list once, where `n` is the number of nodes in the linked list. Each node is processed in constant time.",
        "",
        "- **Space Complexity**: O(1)",
        "  - We use a fixed amount of space for the `decimal_value` variable and a pointer to traverse the list. No additional data structures are used that scale with input size.",
        "",
        "This solution efficiently converts the binary representation in the linked list to its decimal integer equivalent using straightforward bit manipulation techniques."
      ]
    },
    {
      "cell_type": "markdown",
      "metadata": {},
      "source": [
        "---",
        "",
        ""
      ]
    },
    {
      "cell_type": "markdown",
      "metadata": {},
      "source": [
        "# Merge In Between Linked Lists (#1669)",
        "",
        "**Difficulty:** Medium  ",
        "**Date:** 2025-08-04 23:52:22  ",
        "**URL:** https://leetcode.com/problems/merge-in-between-linked-lists/",
        "",
        "---"
      ]
    },
    {
      "cell_type": "markdown",
      "metadata": {},
      "source": [
        "## Problem Description",
        "",
        "You are given two linked lists: list1 and list2 of sizes n and m respectively.\n\nRemove list1&#39;s nodes from the ath node to the bth node, and put list2 in their place.\n\nThe blue edges and nodes in the following figure indicate the result:\n\nBuild the result list and return its head.\n\n&nbsp;\nExample 1:\n\n\nInput: list1 = [10,1,13,6,9,5], a = 3, b = 4, list2 = [1000000,1000001,1000002]\nOutput: [10,1,13,1000000,1000001,1000002,5]\nExplanation: We remove the nodes 3 and 4 and put the entire list2 in their place. The blue edges and nodes in the above figure indicate the result.\n\n\nExample 2:\n\n\nInput: list1 = [0,1,2,3,4,5,6], a = 2, b = 5, list2 = [1000000,1000001,1000002,1000003,1000004]\nOutput: [0,1,1000000,1000001,1000002,1000003,1000004,6]\nExplanation: The blue edges and nodes in the above figure indicate the result.\n\n\n&nbsp;\nConstraints:\n\n\n\t3 <= list1.length <= 104\n\t1 <= a <= b < list1.length - 1\n\t1 <= list2.length <= 104\n\n"
      ]
    },
    {
      "cell_type": "markdown",
      "metadata": {},
      "source": [
        "## Clarifying Questions",
        "",
        "1. What should we do if the indices `a` and `b` are the same? Should we remove just one node or treat it as removing a range of nodes?\n\n2. Are there any constraints on the values of the nodes in `list1` and `list2`? For example, can they be negative or zero?\n\n3. If `list2` is longer than the range defined by `a` and `b`, how should we handle the excess nodes in `list2`? Should we only insert the nodes that fit in the gap, or should we always insert all nodes from `list2`?\n\n4. What should be the behavior of the function if `list1` is empty or if `list2` is empty? Are there any specific return values expected in such cases?\n\n5. Can we assume that the values of `a` and `b` will always be valid based on the constraints provided, or should we implement additional checks for their validity?"
      ]
    },
    {
      "cell_type": "markdown",
      "metadata": {},
      "source": [
        "## Test Edge Cases",
        "",
        "Here are 8 important test edge cases to consider for the \"Merge In Between Linked Lists\" problem:\n\n1. **Minimum Size Lists**:\n   - **Input**: `list1 = [1, 2, 3], a = 1, b = 1, list2 = [4]`\n   - **Description**: This tests the case where `list1` has the minimum allowed size and `a` equals `b`, effectively replacing a single node in `list1`.\n\n2. **Removing All Nodes**:\n   - **Input**: `list1 = [1, 2, 3, 4, 5], a = 0, b = 4, list2 = [6, 7]`\n   - **Description**: This tests the scenario where all nodes in `list1` are removed, and `list2` is inserted in its entirety.\n\n3. **Inserting at the Start**:\n   - **Input**: `list1 = [1, 2, 3, 4], a = 0, b = 1, list2 = [5, 6]`\n   - **Description**: This tests the case where nodes are removed from the start of `list1`, ensuring that the head of the new list is correctly assigned.\n\n4. **Inserting at the End**:\n   - **Input**: `list1 = [1, 2, 3, 4], a = 2, b = 3, list2 = [5, 6]`\n   - **Description**: This tests the scenario where nodes are removed from the end of `list1`, ensuring that the tail of the new list is correctly formed.\n\n5. **List2 Larger than Removed Portion**:\n   - **Input**: `list1 = [1, 2, 3, 4, 5], a = 1, b = 3, list2 = [6, 7, 8, 9]`\n   - **Description**: This tests the case where `list2` is larger than the portion being removed from `list1`, ensuring that the new list is constructed correctly.\n\n6. **List1 with Duplicate Values**:\n   - **Input**: `list1 = [1, 2, 2, 3, 4], a = 1, b = 3, list2 = [5, 6]`\n   - **Description**: This tests the handling of duplicate values in `list1` to ensure that the merge operation does not inadvertently introduce errors.\n\n7. **Performance Case with Maximum Sizes**:\n   - **Input**: `list1 = [1] * 10000, a = 1, b = 9998, list2 = [2] * 10000`\n   - **Description**: This"
      ]
    },
    {
      "cell_type": "markdown",
      "metadata": {},
      "source": [
        "Certainly! Let's break down the problem step by step.",
        "",
        "### Problem Explanation",
        "We have two linked lists: `list1` and `list2`. Our task is to remove a segment from `list1`, specifically the nodes from index `a` to index `b`, and replace that segment with all the nodes from `list2`. ",
        "",
        "### Approach",
        "1. **Traversal to Find Insertion Points**:",
        "   - Start by traversing `list1` to find the node just before index `a` (let's call it `prev_a`).",
        "   - Continue traversing to reach index `b` and find the node at index `b` (let's call it `node_b`).",
        "",
        "2. **Re-linking**:",
        "   - Once we have `prev_a` and `node_b`, we can re-link:",
        "     - `prev_a.next` should point to the head of `list2`.",
        "     - The last node of `list2` should point to `node_b.next`, effectively skipping the nodes between `a` and `b` and inserting `list2` in their place.",
        "",
        "3. **Return the Modified List**:",
        "   - Finally, return the head of `list1`.",
        "",
        "### Python Code Solution",
        "Here’s how to implement the above approach in Python:"
      ]
    },
    {
      "cell_type": "code",
      "execution_count": null,
      "metadata": {},
      "outputs": [],
      "source": [
        "class ListNode:",
        "    def __init__(self, val=0, next=None):",
        "        self.val = val",
        "        self.next = next",
        "",
        "def mergeInBetween(list1: ListNode, a: int, b: int, list2: ListNode) -> ListNode:",
        "    # Step 1: Initialize pointers",
        "    current = list1",
        "    prev_a = None",
        "    ",
        "    # Step 2: Traverse to find the a-th and b-th nodes",
        "    index = 0",
        "    while current is not None:",
        "        if index == a - 1:  # We want the node just before the a-th index",
        "            prev_a = current",
        "        if index == b:  # This is the b-th node",
        "            break",
        "        current = current.next",
        "        index += 1",
        "    ",
        "    # Step 3: Connect list1 with list2 and the rest of list1",
        "    if prev_a is not None and current is not None:",
        "        prev_a.next = list2  # Connect to the head of list2",
        "        # Find the end of list2 to connect it to the node after b",
        "        while list2.next is not None:",
        "            list2 = list2.next",
        "        list2.next = current.next  # Connect the end of list2 to node after b",
        "    ",
        "    return list1  # Return the modified list1"
      ]
    },
    {
      "cell_type": "markdown",
      "metadata": {},
      "source": [
        "### Time and Space Complexity Analysis",
        "- **Time Complexity**:",
        "  - The traversal of `list1` takes O(n) where n is the number of nodes in `list1` to locate `prev_a` and `node_b`.",
        "  - The traversal of `list2` to find its end takes O(m) where m is the number of nodes in `list2`.",
        "  - Thus, the overall time complexity is O(n + m).",
        "",
        "- **Space Complexity**:",
        "  - We are modifying the existing linked lists in place, so we use O(1) extra space (not counting the input and output). Therefore, the space complexity is O(1).",
        "",
        "This solution efficiently handles the merging of the two linked lists by adjusting pointers, making it a straightforward approach to the problem."
      ]
    },
    {
      "cell_type": "markdown",
      "metadata": {},
      "source": [
        "---",
        "",
        ""
      ]
    },
    {
      "cell_type": "markdown",
      "metadata": {},
      "source": [
        "# Swapping Nodes in a Linked List (#1721)",
        "",
        "**Difficulty:** Medium  ",
        "**Date:** 2025-08-04 23:53:41  ",
        "**URL:** https://leetcode.com/problems/swapping-nodes-in-a-linked-list/",
        "",
        "---"
      ]
    },
    {
      "cell_type": "markdown",
      "metadata": {},
      "source": [
        "## Problem Description",
        "",
        "You are given the head of a linked list, and an integer k.\n\nReturn the head of the linked list after swapping the values of the kth node from the beginning and the kth node from the end (the list is 1-indexed).\n\n&nbsp;\nExample 1:\n\n\nInput: head = [1,2,3,4,5], k = 2\nOutput: [1,4,3,2,5]\n\n\nExample 2:\n\n\nInput: head = [7,9,6,6,7,8,3,0,9,5], k = 5\nOutput: [7,9,6,6,8,7,3,0,9,5]\n\n\n&nbsp;\nConstraints:\n\n\n\tThe number of nodes in the list is n.\n\t1 <= k <= n <= 105\n\t0 <= Node.val <= 100\n\n"
      ]
    },
    {
      "cell_type": "markdown",
      "metadata": {},
      "source": [
        "## Clarifying Questions",
        "",
        "1. What should we do if the linked list has an even number of nodes and k points to the same node from both the beginning and the end? Should we swap the node with itself, or is this considered a no-op?\n\n2. If k is equal to 1, does that mean we are swapping the head of the list with the last node? Are there any special considerations for this case?\n\n3. Can we assume that the input linked list is always valid and well-formed, or should we handle cases where the input might be null or malformed?\n\n4. Are there any specific performance constraints we should be aware of, especially considering the maximum size of n (up to 100,000 nodes)?\n\n5. Should we consider the possibility of duplicate values in the linked list, and if so, how should we handle the output in such cases?"
      ]
    },
    {
      "cell_type": "markdown",
      "metadata": {},
      "source": [
        "## Test Edge Cases",
        "",
        "Here are 8 important test edge cases to consider for the \"Swapping Nodes in a Linked List\" problem:\n\n1. **Empty List**:\n   - Input: `head = []`, `k = 1`\n   - Description: The linked list is empty. This tests how the function handles a case with no nodes.\n\n2. **Single Node List**:\n   - Input: `head = [1]`, `k = 1`\n   - Description: The linked list contains only one node. This tests if the function can handle the smallest non-empty list without attempting to swap.\n\n3. **Two Node List**:\n   - Input: `head = [1, 2]`, `k = 1`\n   - Description: A two-node list where the first and last nodes are swapped. This tests the basic functionality of the swap operation.\n\n4. **List with Duplicates**:\n   - Input: `head = [1, 2, 3, 2, 1]`, `k = 2`\n   - Description: A list with duplicate values. This tests if the function correctly identifies and swaps the appropriate nodes based on their positions rather than their values.\n\n5. **Maximum Size List**:\n   - Input: `head = [0, 1, 2, ..., 99999]`, `k = 50000`\n   - Description: A large linked list with 100,000 nodes. This tests the performance and efficiency of the solution under maximum constraints.\n\n6. **k Equals n**:\n   - Input: `head = [1, 2, 3, 4, 5]`, `k = 5`\n   - Description: The value of k is equal to the length of the list. This tests if the function can correctly identify and swap the first and last nodes.\n\n7. **k Equals 1**:\n   - Input: `head = [10, 20, 30, 40, 50]`, `k = 1`\n   - Description: The value of k is 1, which means the first node should be swapped with the last node. This tests the function's ability to handle edge cases where the first node is involved in the swap.\n\n8. **List with Zero Values**:\n   - Input: `head = [0, 0, 0, 0, 0]`, `k = 3`\n   - Description: A list where all node values are zero. This tests if the function can handle cases where all values are the same and still perform the swap correctly. \n\nThese edge cases cover a variety of scenarios, including boundary conditions, special values, and performance considerations."
      ]
    },
    {
      "cell_type": "markdown",
      "metadata": {},
      "source": [
        "To solve the problem of swapping the nodes in a linked list given the value of k, we can follow a systematic approach. Here’s how we can break down the solution step by step:",
        "",
        "### Step-by-step Explanation",
        "",
        "1. **Identify the Nodes**: We need to find the kth node from the beginning and the kth node from the end. If we can find both nodes, we can then swap their values.",
        "",
        "2. **Traverse the List**: We can traverse the linked list to find both the kth node from the start and the kth node from the end. The kth node from the end can be found by using a two-pointer technique:",
        "   - Start with two pointers, both pointing to the head of the list.",
        "   - Move the first pointer `k` steps ahead.",
        "   - Then, move both pointers one step at a time until the first pointer reaches the end of the list. At this point, the second pointer will point to the kth node from the end.",
        "",
        "3. **Swap the Values**: After we have identified both nodes, we can swap their values directly.",
        "",
        "4. **Return the Modified List**: Finally, we return the head of the modified linked list.",
        "",
        "### Python Code Solution",
        "",
        "Below is the Python code implementing the above approach, complete with comments to explain each part:"
      ]
    },
    {
      "cell_type": "code",
      "execution_count": null,
      "metadata": {},
      "outputs": [],
      "source": [
        "class ListNode:",
        "    def __init__(self, val=0, next=None):",
        "        self.val = val",
        "        self.next = next",
        "",
        "def swapNodes(head: ListNode, k: int) -> ListNode:",
        "    # Initialize two pointers",
        "    first = head",
        "    second = head",
        "    current = head",
        "    ",
        "    # Step 1: Move `first` to the kth node from the beginning",
        "    for _ in range(k - 1):",
        "        if first:",
        "            first = first.next",
        "",
        "    # Step 2: Move `current` to the end to find the kth node from the end",
        "    while current:",
        "        current = current.next",
        "        if k > 0:",
        "            k -= 1",
        "        if k == 0:",
        "            second = second.next",
        "",
        "    # Step 3: Swap the values of first and second nodes",
        "    if first and second:",
        "        first.val, second.val = second.val, first.val",
        "",
        "    # Step 4: Return the modified head of the list",
        "    return head"
      ]
    },
    {
      "cell_type": "markdown",
      "metadata": {},
      "source": [
        "### Time and Space Complexity Analysis",
        "",
        "- **Time Complexity**: The algorithm traverses the linked list a couple of times (once to find the first kth node and once to find the second kth node). Therefore, the time complexity is \\(O(n)\\), where \\(n\\) is the number of nodes in the linked list.",
        "",
        "- **Space Complexity**: We are using a constant amount of space (only a few pointers), so the space complexity is \\(O(1)\\).",
        "",
        "### Conclusion",
        "",
        "The above code effectively swaps the values of the kth node from the start and the kth node from the end in a linked list with a linear time complexity and constant space complexity. By following a systematic approach and utilizing pointer traversal, we can achieve this swap efficiently."
      ]
    },
    {
      "cell_type": "markdown",
      "metadata": {},
      "source": [
        "---",
        "",
        ""
      ]
    },
    {
      "cell_type": "markdown",
      "metadata": {},
      "source": [
        "# Remove Duplicates from Sorted List (#83)",
        "",
        "**Difficulty:** Easy  ",
        "**Date:** 2025-08-06 20:29:25  ",
        "**URL:** https://leetcode.com/problems/remove-duplicates-from-sorted-list/",
        "",
        "---"
      ]
    },
    {
      "cell_type": "markdown",
      "metadata": {},
      "source": [
        "## Problem Description",
        "",
        "Given the head of a sorted linked list, delete all duplicates such that each element appears only once. Return the linked list sorted as well.\n\n&nbsp;\nExample 1:\n\n\nInput: head = [1,1,2]\nOutput: [1,2]\n\n\nExample 2:\n\n\nInput: head = [1,1,2,3,3]\nOutput: [1,2,3]\n\n\n&nbsp;\nConstraints:\n\n\n\tThe number of nodes in the list is in the range [0, 300].\n\t-100 <= Node.val <= 100\n\tThe list is guaranteed to be sorted in ascending order.\n\n"
      ]
    },
    {
      "cell_type": "markdown",
      "metadata": {},
      "source": [
        "## Clarifying Questions",
        "",
        "1. What should we return if the input linked list is empty (i.e., `head` is `null`)?\n2. Are there any specific requirements for the output format, such as whether it should be a linked list or can it be returned as an array?\n3. Should we modify the original linked list in place, or is it acceptable to create a new linked list for the result?\n4. Can we assume that the linked list contains only integers within the specified range, or should we handle cases where the values are outside of this range?\n5. Are there any performance constraints we should be aware of, such as the maximum time complexity or space complexity for our solution?"
      ]
    },
    {
      "cell_type": "markdown",
      "metadata": {},
      "source": [
        "## Test Edge Cases",
        "",
        "Here are 8 important test edge cases to consider for the \"Remove Duplicates from Sorted List\" problem:\n\n1. **Empty List**:\n   - **Input**: `head = []`\n   - **Description**: Tests the function's handling of an empty linked list. The expected output should also be an empty list.\n\n2. **Single Element List**:\n   - **Input**: `head = [1]`\n   - **Description**: Tests the function with a linked list containing only one node. The output should be the same single element.\n\n3. **All Unique Elements**:\n   - **Input**: `head = [1, 2, 3, 4, 5]`\n   - **Description**: Tests the function with a list where all elements are unique. The output should be the same as the input.\n\n4. **All Duplicates**:\n   - **Input**: `head = [2, 2, 2, 2]`\n   - **Description**: Tests the function with a list where all elements are duplicates. The expected output should be a list with a single element `[2]`.\n\n5. **Mixed Duplicates and Unique Elements**:\n   - **Input**: `head = [1, 1, 2, 3, 3, 4, 4, 4]`\n   - **Description**: Tests the function with a list that contains both duplicates and unique elements. The expected output should be `[1, 2, 3, 4]`.\n\n6. **Negative and Positive Values**:\n   - **Input**: `head = [-3, -3, -2, -1, 0, 0, 1, 1]`\n   - **Description**: Tests the function with a list that contains both negative and positive values, including duplicates. The expected output should be `[-3, -2, -1, 0, 1]`.\n\n7. **Maximum Size List**:\n   - **Input**: `head = [0] * 300` (300 zeros)\n   - **Description**: Tests the function with the maximum allowed number of nodes, all of which are duplicates. The expected output should be `[0]`.\n\n8. **Alternating Duplicates**:\n   - **Input**: `head = [1, 1, 2, 2, 3, 3, 4, 4]`\n   - **Description**: Tests the function with a list where duplicates alternate with unique elements. The expected output should be `[1, 2, 3, 4]`.\n\nThese test cases cover a variety of scenarios, including edge cases, special values, and performance considerations."
      ]
    },
    {
      "cell_type": "markdown",
      "metadata": {},
      "source": [
        "### Explanation of the Approach",
        "",
        "To remove duplicates from a sorted linked list, we can utilize the fact that the list is already sorted. This means that all duplicates will be adjacent to each other. We can traverse the list and compare each node with the next node. If the values are the same, we skip the next node (i.e., we remove it from the list). If they are different, we move to the next node.",
        "",
        "Here's a step-by-step breakdown of the approach:",
        "1. Start with the head of the linked list.",
        "2. Initialize a pointer `current` to the head of the list.",
        "3. While `current` is not null and `current.next` is not null:",
        "   - If the value of `current` is the same as the value of `current.next`, it means there's a duplicate. We skip the next node by setting `current.next` to `current.next.next`.",
        "   - If they are different, just move `current` to `current.next`.",
        "4. Continue this process until we reach the end of the list.",
        "5. Finally, return the modified list starting from the head.",
        "",
        "### Python Code Solution",
        "",
        "Here is a Python implementation of the above approach:"
      ]
    },
    {
      "cell_type": "code",
      "execution_count": null,
      "metadata": {},
      "outputs": [],
      "source": [
        "# Definition for singly-linked list.",
        "class ListNode:",
        "    def __init__(self, val=0, next=None):",
        "        self.val = val",
        "        self.next = next",
        "",
        "def deleteDuplicates(head: ListNode) -> ListNode:",
        "    # Initialize the current pointer to the head of the linked list",
        "    current = head",
        "    ",
        "    # Traverse the linked list",
        "    while current and current.next:",
        "        # If the current value is the same as the next value",
        "        if current.val == current.next.val:",
        "            # Skip the next node",
        "            current.next = current.next.next",
        "        else:",
        "            # Move to the next node",
        "            current = current.next",
        "            ",
        "    # Return the modified list starting from head",
        "    return head"
      ]
    },
    {
      "cell_type": "markdown",
      "metadata": {},
      "source": [
        "### Time and Space Complexity Analysis",
        "",
        "- **Time Complexity**: The time complexity of this solution is O(n), where n is the number of nodes in the linked list. We traverse the list once, checking each node and its next node.",
        "  ",
        "- **Space Complexity**: The space complexity is O(1) because we are using a constant amount of extra space. We only utilize a few pointers and do not create any additional data structures that depend on the input size.",
        "",
        "Overall, this approach is efficient and straightforward due to the properties of the sorted linked list."
      ]
    },
    {
      "cell_type": "markdown",
      "metadata": {},
      "source": [
        "---",
        "",
        ""
      ]
    },
    {
      "cell_type": "markdown",
      "metadata": {},
      "source": [
        "# Odd Even Linked List (#328)",
        "",
        "**Difficulty:** Medium  ",
        "**Date:** 2025-08-09 23:47:48  ",
        "**URL:** https://leetcode.com/problems/odd-even-linked-list/",
        "",
        "---"
      ]
    },
    {
      "cell_type": "markdown",
      "metadata": {},
      "source": [
        "## Problem Description",
        "",
        "Given the head of a singly linked list, group all the nodes with odd indices together followed by the nodes with even indices, and return the reordered list.\n\nThe first node is considered odd, and the second node is even, and so on.\n\nNote that the relative order inside both the even and odd groups should remain as it was in the input.\n\nYou must solve the problem&nbsp;in O(1)&nbsp;extra space complexity and O(n) time complexity.\n\n&nbsp;\nExample 1:\n\n\nInput: head = [1,2,3,4,5]\nOutput: [1,3,5,2,4]\n\n\nExample 2:\n\n\nInput: head = [2,1,3,5,6,4,7]\nOutput: [2,3,6,7,1,5,4]\n\n\n&nbsp;\nConstraints:\n\n\n\tThe number of nodes in the linked list is in the range [0, 104].\n\t-106 <= Node.val <= 106\n\n"
      ]
    },
    {
      "cell_type": "markdown",
      "metadata": {},
      "source": [
        "## Clarifying Questions",
        "",
        "1. What should be returned if the input linked list is empty (i.e., `head` is `null`)?\n\n2. Are there any specific requirements for handling linked lists with only one or two nodes, or should they be treated like any other list?\n\n3. Can we assume that the input linked list will always contain valid integer values within the specified range, or do we need to handle any potential invalid inputs?\n\n4. Should the output linked list be a new list, or can we modify the existing linked list in place to achieve the desired order?\n\n5. Is there any specific behavior required if the linked list has an odd or even number of nodes in terms of how they are grouped?"
      ]
    },
    {
      "cell_type": "markdown",
      "metadata": {},
      "source": [
        "## Test Edge Cases",
        "",
        "Here are 8 important test edge cases to consider when solving the \"Odd Even Linked List\" problem:\n\n1. **Empty List**:\n   - **Input**: `head = []`\n   - **Description**: Tests the behavior of the function when there are no nodes in the list. The output should also be an empty list.\n\n2. **Single Node List**:\n   - **Input**: `head = [1]`\n   - **Description**: Tests the case where the list contains only one node. The output should be the same single node.\n\n3. **Two Nodes List**:\n   - **Input**: `head = [1, 2]`\n   - **Description**: Tests the smallest non-empty list with two nodes. The output should maintain the order as `[1, 2]`.\n\n4. **Three Nodes List**:\n   - **Input**: `head = [1, 2, 3]`\n   - **Description**: Tests a small list with three nodes. The output should rearrange to `[1, 3, 2]`.\n\n5. **Even Number of Nodes**:\n   - **Input**: `head = [1, 2, 3, 4, 5, 6]`\n   - **Description**: Tests a list with an even number of nodes. The output should be `[1, 3, 5, 2, 4, 6]`.\n\n6. **Odd Number of Nodes**:\n   - **Input**: `head = [1, 2, 3, 4, 5, 6, 7]`\n   - **Description**: Tests a list with an odd number of nodes. The output should be `[1, 3, 5, 7, 2, 4, 6]`.\n\n7. **Negative and Zero Values**:\n   - **Input**: `head = [-1, 0, 1, -2, 2]`\n   - **Description**: Tests the handling of negative numbers and zero. The output should maintain the order as `[-1, 1, 2, 0, -2]`.\n\n8. **Large List with Duplicates**:\n   - **Input**: `head = [1, 1, 1, 1, 1, 1, 1, 1, 1, 1]` (10 nodes)\n   - **Description**: Tests a large list with duplicates to ensure the function can handle larger inputs and maintains the order. The output should be `[1, 1, 1, 1, 1, 1, 1, 1, 1, 1]`.\n\nThese test cases cover a variety of scenarios, including edge cases for empty lists, single and two-node lists, handling of negative numbers and"
      ]
    },
    {
      "cell_type": "markdown",
      "metadata": {},
      "source": [
        "To solve the \"Odd Even Linked List\" problem, we need to rearrange the nodes of a singly linked list such that all nodes at odd indices come before those at even indices while preserving their relative order within those groups.",
        "",
        "### Approach:",
        "1. **Initialization:** We start by checking if the input linked list is empty or has only one node. In such cases, we can return the head as is since reordering isn't necessary.",
        "",
        "2. **Pointers:** We will use three pointers:",
        "   - `odd`: This pointer will point to the head of the odd indexed nodes.",
        "   - `even`: This pointer will point to the head of the even indexed nodes.",
        "   - `even_head`: This will keep track of the head of the even indexed nodes so we can connect the end of the odd indexed list to the beginning of the even indexed list later.",
        "",
        "3. **Rearranging Nodes:** We will iterate through the list, using a loop to rearrange the pointers:",
        "   - For each odd indexed node, we connect it to the next odd indexed node.",
        "   - For each even indexed node, we connect it to the next even indexed node.",
        "   - We will continue this until we reach the end of the list.",
        "",
        "4. **Connecting Odd and Even Lists:** After rearranging, we will connect the last odd indexed node to the head of the even indexed list.",
        "",
        "5. **Return the New Head:** Finally, we return the head of the odd indexed list.",
        "",
        "### Python Code Solution:",
        "Here’s how the implementation looks in Python:"
      ]
    },
    {
      "cell_type": "code",
      "execution_count": null,
      "metadata": {},
      "outputs": [],
      "source": [
        "class ListNode:",
        "    def __init__(self, val=0, next=None):",
        "        self.val = val",
        "        self.next = next",
        "",
        "def oddEvenList(head: ListNode) -> ListNode:",
        "    # If the list is empty or has only one node, return it as is.",
        "    if not head or not head.next:",
        "        return head",
        "    ",
        "    # Initialize pointers for odd and even lists.",
        "    odd = head",
        "    even = head.next",
        "    even_head = even  # Save the head of the even list.",
        "    ",
        "    # Rearrange nodes in the list.",
        "    while even and even.next:",
        "        odd.next = even.next  # Connect odd nodes.",
        "        odd = odd.next        # Move to the next odd node.",
        "        even.next = odd.next  # Connect even nodes.",
        "        even = even.next      # Move to the next even node.",
        "    ",
        "    # Connect the end of odd indexed list to the head of even indexed list.",
        "    odd.next = even_head",
        "    ",
        "    return head  # Return the head of the reordered list."
      ]
    },
    {
      "cell_type": "markdown",
      "metadata": {},
      "source": [
        "### Time and Space Complexity Analysis:",
        "- **Time Complexity:** O(n)",
        "  - We pass through the linked list only once. Each node is processed a constant number of times.",
        "  ",
        "- **Space Complexity:** O(1)",
        "  - We are using a fixed number of pointers for the rearrangement, independent of the input size. No additional data structures that grow with input size are used.",
        "",
        "This solution effectively rearranges the linked list as required while adhering to the constraints of O(n) time complexity and O(1) space complexity."
      ]
    },
    {
      "cell_type": "markdown",
      "metadata": {},
      "source": [
        "---",
        "",
        ""
      ]
    },
    {
      "cell_type": "markdown",
      "metadata": {},
      "source": [
        "# Remove Linked List Elements (#203)",
        "",
        "**Difficulty:** Easy  ",
        "**Date:** 2025-08-09 23:51:54  ",
        "**URL:** https://leetcode.com/problems/remove-linked-list-elements/",
        "",
        "---"
      ]
    },
    {
      "cell_type": "markdown",
      "metadata": {},
      "source": [
        "## Problem Description",
        "",
        "Given the head of a linked list and an integer val, remove all the nodes of the linked list that has Node.val == val, and return the new head.\n\n&nbsp;\nExample 1:\n\n\nInput: head = [1,2,6,3,4,5,6], val = 6\nOutput: [1,2,3,4,5]\n\n\nExample 2:\n\n\nInput: head = [], val = 1\nOutput: []\n\n\nExample 3:\n\n\nInput: head = [7,7,7,7], val = 7\nOutput: []\n\n\n&nbsp;\nConstraints:\n\n\n\tThe number of nodes in the list is in the range [0, 104].\n\t1 <= Node.val <= 50\n\t0 <= val <= 50\n\n"
      ]
    },
    {
      "cell_type": "markdown",
      "metadata": {},
      "source": [
        "## Clarifying Questions",
        "",
        "1. Are we allowed to modify the original linked list in place, or do we need to create a new linked list for the result?\n\n2. How should we handle the case when the head of the linked list itself has the value equal to `val`? Should we continue removing nodes until we reach a node that does not match `val`?\n\n3. In the case of an empty linked list (head is null), should we return null or an empty list representation?\n\n4. Are there any specific constraints on the values of the nodes beyond the given range (1 <= Node.val <= 50) and the value to be removed (0 <= val <= 50)?\n\n5. What is the expected time complexity for the solution, and should we consider any specific performance optimizations given the constraints on the number of nodes?"
      ]
    },
    {
      "cell_type": "markdown",
      "metadata": {},
      "source": [
        "## Test Edge Cases",
        "",
        "Here are 8 important test edge cases to consider for the \"Remove Linked List Elements\" problem:\n\n1. **Empty List**:\n   - **Input**: `head = []`, `val = 1`\n   - **Description**: Tests the case where the linked list is empty. The output should also be an empty list.\n\n2. **Single Element Not Equal to val**:\n   - **Input**: `head = [1]`, `val = 2`\n   - **Description**: Tests a linked list with a single element that does not match the value to be removed. The output should be the same single element.\n\n3. **Single Element Equal to val**:\n   - **Input**: `head = [1]`, `val = 1`\n   - **Description**: Tests a linked list with a single element that matches the value to be removed. The output should be an empty list.\n\n4. **Multiple Elements with No Matches**:\n   - **Input**: `head = [1, 2, 3, 4, 5]`, `val = 6`\n   - **Description**: Tests a linked list where no elements match the value to be removed. The output should be the same linked list.\n\n5. **All Elements Equal to val**:\n   - **Input**: `head = [7, 7, 7, 7]`, `val = 7`\n   - **Description**: Tests a linked list where all elements match the value to be removed. The output should be an empty list.\n\n6. **Mixed Elements with Duplicates**:\n   - **Input**: `head = [1, 2, 6, 3, 6, 4, 5]`, `val = 6`\n   - **Description**: Tests a linked list with multiple elements, including duplicates of the value to be removed. The output should exclude all instances of `6`.\n\n7. **Maximum Size List with All Elements Equal to val**:\n   - **Input**: `head = [1] * 10000`, `val = 1`\n   - **Description**: Tests the upper limit of the constraints where the linked list has the maximum number of nodes (10,000) and all nodes match the value to be removed. The output should be an empty list.\n\n8. **Maximum Size List with Mixed Elements**:\n   - **Input**: `head = [1] * 5000 + [2] * 5000`, `val = 1`\n   - **Description**: Tests the upper limit of the constraints with a linked list of 10,000 nodes, half of which match the value to be removed. The output should contain only the elements that do not match `val` (i.e., 5000 occurrences of `2`). \n\nThese test cases cover a range"
      ]
    },
    {
      "cell_type": "markdown",
      "metadata": {},
      "source": [
        "### 1. Approach Explanation",
        "",
        "To solve the problem of removing elements from a linked list, we can utilize a two-pointer technique, where we maintain a reference to the current node and the previous node. The steps are as follows:",
        "",
        "1. **Initialize a Dummy Node**: We create a dummy node that helps in handling edge cases, such as when the head of the linked list itself needs to be removed.",
        "",
        "2. **Traverse the Linked List**: We iterate through the linked list starting from the head. For each node:",
        "   - If the node's value equals `val`, we skip it by linking the previous node to the next node.",
        "   - If the node's value does not equal `val`, we just move the previous pointer to the current node.",
        "",
        "3. **Return the New Head**: After processing all nodes, the new head of the list will be the next of the dummy node. ",
        "",
        "This approach effectively modifies the linked list in a single pass.",
        "",
        "### 2. Python Code Solution",
        "",
        "Here is the Python code implementing the above approach:"
      ]
    },
    {
      "cell_type": "code",
      "execution_count": null,
      "metadata": {},
      "outputs": [],
      "source": [
        "# Definition for singly-linked list.",
        "class ListNode:",
        "    def __init__(self, val=0, next=None):",
        "        self.val = val",
        "        self.next = next",
        "",
        "class Solution:",
        "    def removeElements(self, head: ListNode, val: int) -> ListNode:",
        "        # Create a dummy node that points to the head of the list",
        "        dummy = ListNode(0)",
        "        dummy.next = head",
        "        ",
        "        # Initialize current and previous pointers",
        "        prev = dummy  # Previous node starts at the dummy node",
        "        current = head  # Current node starts at the head",
        "",
        "        # Traverse through the linked list",
        "        while current:",
        "            # Check if the current node's value is the one we want to remove",
        "            if current.val == val:",
        "                # Remove current node by linking previous node to current's next",
        "                prev.next = current.next",
        "            else:",
        "                # Move previous pointer only if we did not remove current node",
        "                prev = current",
        "            ",
        "            # Move to the next node",
        "            current = current.next",
        "",
        "        # Return the new head, which is next of dummy",
        "        return dummy.next"
      ]
    },
    {
      "cell_type": "markdown",
      "metadata": {},
      "source": [
        "### 3. Time and Space Complexity Analysis",
        "",
        "- **Time Complexity**: \\(O(n)\\), where \\(n\\) is the number of nodes in the linked list. We traverse the list once, performing constant time operations for each node.",
        "",
        "- **Space Complexity**: \\(O(1)\\). We are using a constant amount of extra space (only a few pointers), regardless of the size of the input linked list. ",
        "",
        "This solution efficiently handles the removal of elements from the linked list while maintaining clarity and conciseness in the implementation."
      ]
    },
    {
      "cell_type": "markdown",
      "metadata": {},
      "source": [
        "---",
        "",
        ""
      ]
    },
    {
      "cell_type": "markdown",
      "metadata": {},
      "source": [
        "# Reverse Linked List (#206)",
        "",
        "**Difficulty:** Easy  ",
        "**Date:** 2025-08-09 23:51:59  ",
        "**URL:** https://leetcode.com/problems/reverse-linked-list/",
        "",
        "---"
      ]
    },
    {
      "cell_type": "markdown",
      "metadata": {},
      "source": [
        "## Problem Description",
        "",
        "Given the head of a singly linked list, reverse the list, and return the reversed list.\n\n&nbsp;\nExample 1:\n\n\nInput: head = [1,2,3,4,5]\nOutput: [5,4,3,2,1]\n\n\nExample 2:\n\n\nInput: head = [1,2]\nOutput: [2,1]\n\n\nExample 3:\n\n\nInput: head = []\nOutput: []\n\n\n&nbsp;\nConstraints:\n\n\n\tThe number of nodes in the list is the range [0, 5000].\n\t-5000 <= Node.val <= 5000\n\n\n&nbsp;\nFollow up: A linked list can be reversed either iteratively or recursively. Could you implement both?\n"
      ]
    },
    {
      "cell_type": "markdown",
      "metadata": {},
      "source": [
        "## Clarifying Questions",
        "",
        "1. What should the function return if the input linked list is empty (head = [])? Is it acceptable to return `null` or an empty list representation?\n\n2. Are there any specific requirements regarding the structure of the linked list nodes, such as whether they contain a `next` pointer or any additional attributes?\n\n3. Should the original linked list be modified in place, or is it acceptable to create a new list for the reversed version?\n\n4. Are there any performance constraints we should be aware of, such as time complexity or memory usage limits for larger linked lists?\n\n5. Should the implementation handle any specific edge cases, such as lists with only one node or lists with duplicate values?"
      ]
    },
    {
      "cell_type": "markdown",
      "metadata": {},
      "source": [
        "## Test Edge Cases",
        "",
        "Here are 8 important test edge cases to consider when solving the \"Reverse Linked List\" problem:\n\n1. **Empty List**:\n   - **Input**: `head = []`\n   - **Description**: Tests the behavior of the function when the input linked list is empty. The expected output should also be an empty list.\n\n2. **Single Element List**:\n   - **Input**: `head = [1]`\n   - **Description**: Tests the function with a linked list that contains only one node. The output should be the same single node.\n\n3. **Two Element List**:\n   - **Input**: `head = [1, 2]`\n   - **Description**: Tests the simplest non-trivial case of reversing a list with two elements. The expected output should be `[2, 1]`.\n\n4. **List with Negative Values**:\n   - **Input**: `head = [-1, -2, -3]`\n   - **Description**: Tests the function's ability to handle negative numbers. The expected output should be `[-3, -2, -1]`.\n\n5. **List with Duplicates**:\n   - **Input**: `head = [1, 2, 2, 1]`\n   - **Description**: Tests the function's handling of duplicate values. The expected output should be `[1, 2, 2, 1]`.\n\n6. **Maximum Size List**:\n   - **Input**: `head = [0, 1, 2, ..., 4999]` (a list with 5000 elements)\n   - **Description**: Tests the performance and efficiency of the function with the maximum allowed number of nodes. The expected output should be `[4999, 4998, ..., 0]`.\n\n7. **List with Zero Values**:\n   - **Input**: `head = [0, 0, 0]`\n   - **Description**: Tests the function's handling of zero values. The expected output should be `[0, 0, 0]`.\n\n8. **Large Values**:\n   - **Input**: `head = [5000, -5000, 0]`\n   - **Description**: Tests the function's ability to handle the extreme values defined in the constraints. The expected output should be `[0, -5000, 5000]`.\n\nThese test cases cover a range of scenarios, including edge cases, special values, and performance considerations, ensuring a comprehensive evaluation of the solution."
      ]
    },
    {
      "cell_type": "markdown",
      "metadata": {},
      "source": [
        "Sure! Let's break down the problem step-by-step.",
        "",
        "### Problem Explanation",
        "We need to reverse a singly linked list. A singly linked list consists of nodes where each node contains a value and a pointer to the next node in the list. Reversing the list means that the last node will become the first node, and the first node will become the last node.",
        "",
        "### Approach",
        "We can solve this problem using two methods: **iteratively** and **recursively**.",
        "",
        "1. **Iterative Approach**:",
        "   - We maintain three pointers: `prev`, `current`, and `next`.",
        "   - `prev` will initially be `None`, `current` will point to the head of the list, and `next` will help us keep track of the next node we need to process.",
        "   - We loop through the list, and in each iteration, we:",
        "     - Save the next node (`next = current.next`).",
        "     - Reverse the link by pointing `current.next` to `prev`.",
        "     - Move `prev` and `current` one step forward.",
        "   - Finally, when we reach the end of the list, `prev` will be pointing to the new head of the reversed list.",
        "",
        "2. **Recursive Approach**:",
        "   - We can also reverse the linked list by using recursion.",
        "   - The base case for our recursion will be when the current node is `None` or when we reach the last node.",
        "   - In the recursive function, we will reverse the rest of the list starting from the next node, and then we will set the next node's `next` pointer to the current node.",
        "   - We return the new head of the reversed list.",
        "",
        "### Python Code Solution",
        "",
        "Let's implement both approaches in Python.",
        "",
        "#### Node Class Definition",
        "First, we need to define a class for the linked list node."
      ]
    },
    {
      "cell_type": "code",
      "execution_count": null,
      "metadata": {},
      "outputs": [],
      "source": [
        "class ListNode:",
        "    def __init__(self, val=0, next=None):",
        "        self.val = val",
        "        self.next = next"
      ]
    },
    {
      "cell_type": "markdown",
      "metadata": {},
      "source": [
        "#### Iterative Approach"
      ]
    },
    {
      "cell_type": "code",
      "execution_count": null,
      "metadata": {},
      "outputs": [],
      "source": [
        "def reverseListIterative(head: ListNode) -> ListNode:",
        "    prev = None  # Initialize previous pointer to None",
        "    current = head  # Start with the head of the list",
        "    ",
        "    while current:  # Traverse the list",
        "        next_node = current.next  # Save the next node",
        "        current.next = prev  # Reverse the link",
        "        prev = current  # Move prev one step forward",
        "        current = next_node  # Move current one step forward",
        "    ",
        "    return prev  # At the end, prev will be the new head"
      ]
    },
    {
      "cell_type": "markdown",
      "metadata": {},
      "source": [
        "#### Recursive Approach"
      ]
    },
    {
      "cell_type": "code",
      "execution_count": null,
      "metadata": {},
      "outputs": [],
      "source": [
        "def reverseListRecursive(head: ListNode) -> ListNode:",
        "    # Base case: if head is None or only one node, return head",
        "    if not head or not head.next:",
        "        return head",
        "    ",
        "    # Reverse the rest of the list",
        "    new_head = reverseListRecursive(head.next)",
        "    ",
        "    # Reverse the current node's pointer",
        "    head.next.next = head",
        "    head.next = None  # Set the current node's next to None",
        "    ",
        "    return new_head  # Return the new head of the reversed list"
      ]
    },
    {
      "cell_type": "markdown",
      "metadata": {},
      "source": [
        "### Time and Space Complexity Analysis",
        "",
        "- **Time Complexity**:",
        "  - Both approaches have a time complexity of **O(n)**, where `n` is the number of nodes in the linked list. This is because we traverse each node exactly once.",
        "",
        "- **Space Complexity**:",
        "  - The iterative approach has a space complexity of **O(1)**, since we're using only a fixed number of pointers.",
        "  - The recursive approach has a space complexity of **O(n)** due to the recursive call stack, where `n` is the number of nodes in the linked list.",
        "",
        "### Conclusion",
        "We've covered both iterative and recursive methods to reverse a linked list, along with their implementation, time complexity, and space complexity. You can choose either approach based on your preference or constraints on stack depth."
      ]
    },
    {
      "cell_type": "markdown",
      "metadata": {},
      "source": [
        "---",
        "",
        ""
      ]
    },
    {
      "cell_type": "markdown",
      "metadata": {},
      "source": [
        "# Palindrome Linked List (#234)",
        "",
        "**Difficulty:** Easy  ",
        "**Date:** 2025-08-09 23:52:39  ",
        "**URL:** https://leetcode.com/problems/palindrome-linked-list/",
        "",
        "---"
      ]
    },
    {
      "cell_type": "markdown",
      "metadata": {},
      "source": [
        "## Problem Description",
        "",
        "Given the head of a singly linked list, return true if it is a palindrome or false otherwise.\n\n&nbsp;\nExample 1:\n\n\nInput: head = [1,2,2,1]\nOutput: true\n\n\nExample 2:\n\n\nInput: head = [1,2]\nOutput: false\n\n\n&nbsp;\nConstraints:\n\n\n\tThe number of nodes in the list is in the range [1, 105].\n\t0 <= Node.val <= 9\n\n\n&nbsp;\nFollow up: Could you do it in O(n) time and O(1) space?"
      ]
    },
    {
      "cell_type": "markdown",
      "metadata": {},
      "source": [
        "## Clarifying Questions",
        "",
        "1. Are we allowed to modify the linked list while checking for a palindrome, or should we preserve the original structure of the list?\n\n2. How should we handle cases where the linked list contains only one node? Should it be considered a palindrome?\n\n3. In the case of an empty linked list (if allowed), should we return true or false?\n\n4. Can we assume that the values in the linked list nodes are always valid integers within the specified range (0 to 9)?\n\n5. Are there any specific performance requirements or constraints we need to be aware of beyond achieving O(n) time and O(1) space for the follow-up?"
      ]
    },
    {
      "cell_type": "markdown",
      "metadata": {},
      "source": [
        "## Test Edge Cases",
        "",
        "Here are 8 important test edge cases to consider for the \"Palindrome Linked List\" problem:\n\n1. **Single Node List**: \n   - Input: `head = [1]`\n   - Description: A linked list with a single node should return true as a single character is always a palindrome.\n\n2. **Two Node List (Different Values)**:\n   - Input: `head = [1, 2]`\n   - Description: A linked list with two different values should return false, as it cannot be a palindrome.\n\n3. **Two Node List (Same Values)**:\n   - Input: `head = [1, 1]`\n   - Description: A linked list with two identical values should return true, as it is a palindrome.\n\n4. **Even Length Palindrome**:\n   - Input: `head = [1, 2, 2, 1]`\n   - Description: A linked list with an even number of nodes that forms a palindrome should return true.\n\n5. **Odd Length Palindrome**:\n   - Input: `head = [1, 2, 3, 2, 1]`\n   - Description: A linked list with an odd number of nodes that forms a palindrome should return true.\n\n6. **Long Non-Palindrome List**:\n   - Input: `head = [1, 2, 3, 4, 5]`\n   - Description: A long linked list that is not a palindrome should return false, testing performance with maximum size.\n\n7. **Long Palindrome List with Duplicates**:\n   - Input: `head = [9, 8, 7, 7, 8, 9]`\n   - Description: A long linked list that is a palindrome with duplicate values should return true, testing performance with maximum size.\n\n8. **Maximum Size List**:\n   - Input: `head = [0, 1, 2, ..., 9, 9, 8, 7, ..., 1, 0]` (total of 100,000 nodes)\n   - Description: A linked list at the upper limit of the constraints that is a palindrome should return true, testing the algorithm's efficiency and performance under maximum constraints.\n\nThese edge cases cover various scenarios including boundary conditions, special values, and performance considerations, ensuring a comprehensive test of the solution."
      ]
    },
    {
      "cell_type": "markdown",
      "metadata": {},
      "source": [
        "To determine if a singly linked list is a palindrome, we can utilize a two-pointer technique and modify the linked list in place to achieve O(n) time complexity while maintaining O(1) space complexity. Here's how we can approach the problem step by step:",
        "",
        "### Approach Explanation:",
        "",
        "1. **Finding the middle of the linked list**: We will use the fast and slow pointer technique to determine the midpoint of the linked list. The slow pointer will move one step at a time, while the fast pointer will move two steps. By the time the fast pointer reaches the end of the list, the slow pointer will be at the midpoint.",
        "",
        "2. **Reversing the second half**: Once we find the midpoint, we will reverse the second half of the linked list. This allows us to compare the first half of the list with the reversed second half.",
        "",
        "3. **Comparing both halves**: We then compare the nodes in the first half of the list with the nodes in the reversed second half to check if they are the same.",
        "",
        "4. **Restoring the list (optional)**: While not necessary for the problem, we can reverse the second half back to its original order if we want to leave the linked list unchanged.",
        "",
        "5. **Return the result**: If all corresponding nodes match, the list is a palindrome; otherwise, it is not.",
        "",
        "### Python Code Solution:",
        "",
        "Here’s the Python implementation of the approach:"
      ]
    },
    {
      "cell_type": "code",
      "execution_count": null,
      "metadata": {},
      "outputs": [],
      "source": [
        "class ListNode:",
        "    def __init__(self, val=0, next=None):",
        "        self.val = val",
        "        self.next = next",
        "",
        "def isPalindrome(head: ListNode) -> bool:",
        "    if not head or not head.next:",
        "        return True  # A list with 0 or 1 node is a palindrome",
        "",
        "    # Step 1: Finding the middle of the linked list",
        "    slow, fast = head, head",
        "    while fast and fast.next:",
        "        slow = slow.next",
        "        fast = fast.next.next",
        "",
        "    # Step 2: Reversing the second half of the linked list",
        "    prev = None",
        "    while slow:",
        "        next_temp = slow.next  # Store the next node",
        "        slow.next = prev       # Reverse the link",
        "        prev = slow            # Move prev to current node",
        "        slow = next_temp       # Move to next node",
        "",
        "    # Step 3: Comparing the two halves",
        "    left, right = head, prev  # 'prev' is now the head of the reversed second half",
        "    while right:  # Compare until the end of the shorter half",
        "        if left.val != right.val:",
        "            return False",
        "        left = left.next",
        "        right = right.next",
        "",
        "    return True  # If all values matched, it's a palindrome"
      ]
    },
    {
      "cell_type": "markdown",
      "metadata": {},
      "source": [
        "### Time and Space Complexity Analysis:",
        "",
        "- **Time Complexity**: O(n)",
        "  - We traverse the list multiple times: once to find the middle, once to reverse the second half, and once to compare both halves. This results in a linear time complexity relative to the number of nodes in the linked list.",
        "",
        "- **Space Complexity**: O(1)",
        "  - We are only using a few pointers (slow, fast, prev, left, right) and not utilizing any additional data structures that grow with the input size, thus achieving constant space complexity.",
        "",
        "This solution efficiently checks if the linked list is a palindrome while adhering to the constraints and requirements specified in the problem statement."
      ]
    },
    {
      "cell_type": "markdown",
      "metadata": {},
      "source": [
        "---",
        "",
        ""
      ]
    },
    {
      "cell_type": "markdown",
      "metadata": {},
      "source": [
        "# Delete Node in a Linked List (#237)",
        "",
        "**Difficulty:** Medium  ",
        "**Date:** 2025-08-09 23:52:44  ",
        "**URL:** https://leetcode.com/problems/delete-node-in-a-linked-list/",
        "",
        "---"
      ]
    },
    {
      "cell_type": "markdown",
      "metadata": {},
      "source": [
        "## Problem Description",
        "",
        "There is a singly-linked list head and we want to delete a node node in it.\n\nYou are given the node to be deleted node. You will not be given access to the first node of head.\n\nAll the values of the linked list are unique, and it is guaranteed that the given node node is not the last node in the linked list.\n\nDelete the given node. Note that by deleting the node, we do not mean removing it from memory. We mean:\n\n\n\tThe value of the given node should not exist in the linked list.\n\tThe number of nodes in the linked list should decrease by one.\n\tAll the values before node should be in the same order.\n\tAll the values after node should be in the same order.\n\n\nCustom testing:\n\n\n\tFor the input, you should provide the entire linked list head and the node to be given node. node should not be the last node of the list and should be an actual node in the list.\n\tWe will build the linked list and pass the node to your function.\n\tThe output will be the entire list after calling your function.\n\n\n&nbsp;\nExample 1:\n\n\nInput: head = [4,5,1,9], node = 5\nOutput: [4,1,9]\nExplanation: You are given the second node with value 5, the linked list should become 4 -> 1 -> 9 after calling your function.\n\n\nExample 2:\n\n\nInput: head = [4,5,1,9], node = 1\nOutput: [4,5,9]\nExplanation: You are given the third node with value 1, the linked list should become 4 -> 5 -> 9 after calling your function.\n\n\n&nbsp;\nConstraints:\n\n\n\tThe number of the nodes in the given list is in the range [2, 1000].\n\t-1000 <= Node.val <= 1000\n\tThe value of each node in the list is unique.\n\tThe node to be deleted is in the list and is not a tail node.\n\n"
      ]
    },
    {
      "cell_type": "markdown",
      "metadata": {},
      "source": [
        "## Clarifying Questions",
        "",
        "1. **What should we do if the given node is the only node in the list?** (While the problem states that the node will not be the last node, clarifying if there are any edge cases regarding single-node lists can be helpful.)\n\n2. **Can you confirm that the input will always provide a valid node that exists in the list and is not the last node?** (This ensures that we can focus on the deletion logic without needing to handle invalid inputs.)\n\n3. **What is the expected output format for the resulting linked list?** (Should the output be in the form of an array, a linked list structure, or some other format?)\n\n4. **Are there any performance constraints we should be aware of, given that the linked list can have up to 1000 nodes?** (This helps to understand if we need to optimize for time or space complexity.)\n\n5. **Is there any specific handling required for the memory of the deleted node, or is it sufficient to adjust the pointers in the linked list?** (This clarifies whether we need to consider memory management or if the focus is solely on the linked list structure.)"
      ]
    },
    {
      "cell_type": "markdown",
      "metadata": {},
      "source": [
        "## Test Edge Cases",
        "",
        "Here are 8 important test edge cases to consider when solving the \"Delete Node in a Linked List\" problem:\n\n1. **Minimum Size List**:\n   - **Input**: head = [1, 2], node = 1\n   - **Description**: The simplest case with the minimum number of nodes (2). Deleting the first node should result in a single-node list.\n\n2. **Deleting a Node in the Middle**:\n   - **Input**: head = [10, 20, 30, 40, 50], node = 30\n   - **Description**: A standard case where a middle node is deleted. The output should maintain the order of remaining nodes.\n\n3. **Deleting the Second Node**:\n   - **Input**: head = [7, 14, 21, 28], node = 14\n   - **Description**: Tests the case where the second node is deleted. The output should correctly reflect the new order.\n\n4. **Deleting a Node with Negative Value**:\n   - **Input**: head = [-5, -3, -1, 0, 2], node = -3\n   - **Description**: Tests the ability to handle negative values. The output should maintain the order of remaining nodes.\n\n5. **Deleting a Node with Zero Value**:\n   - **Input**: head = [0, 1, 2, 3], node = 1\n   - **Description**: Tests the case where the node to be deleted has a value of zero. The output should reflect the correct order.\n\n6. **Maximum Size List**:\n   - **Input**: head = [i for i in range(1000)], node = 500\n   - **Description**: Tests the performance and correctness of the function with the maximum number of nodes (1000). Ensure that the function handles large lists efficiently.\n\n7. **Deleting the Node Just Before the Last**:\n   - **Input**: head = [1, 2, 3, 4, 5], node = 4\n   - **Description**: Tests the case where the node to be deleted is the second-to-last node. The output should correctly reflect the new order.\n\n8. **Deleting a Node with High Positive Value**:\n   - **Input**: head = [1000, 999, 998, 997], node = 999\n   - **Description**: Tests the ability to handle large positive values. The output should maintain the order of remaining nodes.\n\nThese test cases cover a range of scenarios including boundary conditions, special values, and performance considerations, ensuring a comprehensive evaluation of the solution."
      ]
    },
    {
      "cell_type": "markdown",
      "metadata": {},
      "source": [
        "### 1. Explanation of the Approach",
        "",
        "To solve the problem of deleting a specific node from a singly linked list without access to the head of the list, we need to adopt a unique approach. Since we cannot traverse the list from the head to find the previous node, we will leverage the properties of the linked list:",
        "",
        "- The node to be deleted is guaranteed not to be the last node.",
        "- We can copy the value from the next node into the node we want to delete and then bypass the next node.",
        "",
        "Here's a step-by-step outline of the approach:",
        "",
        "1. **Copy the Value**: Copy the value from the next node into the current node.",
        "2. **Bypass the Next Node**: Change the `next` pointer of the current node to point to the node after the next node. This effectively removes the next node from the list.",
        "3. **Return**: Since we are directly modifying the `node`, we don't need to return anything.",
        "",
        "This technique allows us to delete the node while maintaining the integrity and order of the linked list.",
        "",
        "### 2. Python Code Solution with Comments",
        "",
        "Here's how the implementation looks in Python:"
      ]
    },
    {
      "cell_type": "code",
      "execution_count": null,
      "metadata": {},
      "outputs": [],
      "source": [
        "# Definition for singly-linked list.",
        "class ListNode:",
        "    def __init__(self, val=0, next=None):",
        "        self.val = val",
        "        self.next = next",
        "",
        "def deleteNode(node: ListNode) -> None:",
        "    \"\"\"",
        "    This function deletes the given node from the linked list.",
        "    Since we cannot access the head, we will copy the value of the next node",
        "    and skip over the next node.",
        "    \"\"\"",
        "    # Step 1: Copy the value from the next node to the current node",
        "    node.val = node.next.val",
        "    ",
        "    # Step 2: Bypass the next node",
        "    node.next = node.next.next",
        "",
        "# Example usage:",
        "# Creating a linked list: 4 -> 5 -> 1 -> 9",
        "head = ListNode(4)",
        "head.next = ListNode(5)",
        "head.next.next = ListNode(1)",
        "head.next.next.next = ListNode(9)",
        "",
        "# Let's say we want to delete the node with value 5",
        "node_to_delete = head.next  # This is the node containing the value 5",
        "",
        "# Call the deleteNode function",
        "deleteNode(node_to_delete)",
        "",
        "# To verify the result, we can print out the linked list",
        "current = head",
        "while current:",
        "    print(current.val, end=\" -> \" if current.next else \"\")",
        "    current = current.next"
      ]
    },
    {
      "cell_type": "markdown",
      "metadata": {},
      "source": [
        "### 3. Time and Space Complexity Analysis",
        "",
        "- **Time Complexity**: O(1)",
        "  - The deletion process involves a constant number of operations (copying a value and updating pointers), regardless of the size of the linked list.",
        "",
        "- **Space Complexity**: O(1)",
        "  - We are using a fixed amount of space (only a few variables) regardless of the size of the linked list. No additional data structures are used that grow with the input.",
        "",
        "This solution is efficient and adheres to the constraints provided in the problem statement."
      ]
    },
    {
      "cell_type": "markdown",
      "metadata": {},
      "source": [
        "---",
        "",
        ""
      ]
    },
    {
      "cell_type": "markdown",
      "metadata": {},
      "source": [
        "# Find the Duplicate Number (#287)",
        "",
        "**Difficulty:** Medium  ",
        "**Date:** 2025-08-09 23:53:17  ",
        "**URL:** https://leetcode.com/problems/find-the-duplicate-number/",
        "",
        "---"
      ]
    },
    {
      "cell_type": "markdown",
      "metadata": {},
      "source": [
        "## Problem Description",
        "",
        "Given an array of integers nums containing&nbsp;n + 1 integers where each integer is in the range [1, n] inclusive.\n\nThere is only one repeated number in nums, return this&nbsp;repeated&nbsp;number.\n\nYou must solve the problem without modifying the array nums&nbsp;and using only constant extra space.\n\n&nbsp;\nExample 1:\n\n\nInput: nums = [1,3,4,2,2]\nOutput: 2\n\n\nExample 2:\n\n\nInput: nums = [3,1,3,4,2]\nOutput: 3\n\n\nExample 3:\n\n\nInput: nums = [3,3,3,3,3]\nOutput: 3\n\n&nbsp;\nConstraints:\n\n\n\t1 <= n <= 105\n\tnums.length == n + 1\n\t1 <= nums[i] <= n\n\tAll the integers in nums appear only once except for precisely one integer which appears two or more times.\n\n\n&nbsp;\nFollow up:\n\n\n\tHow can we prove that at least one duplicate number must exist in nums?\n\tCan you solve the problem in linear runtime complexity?\n\n"
      ]
    },
    {
      "cell_type": "markdown",
      "metadata": {},
      "source": [
        "## Clarifying Questions",
        "",
        "1. Are there any specific edge cases we should consider, such as arrays with the minimum or maximum allowed values (e.g., [1, 1] or [1, 2, 3, ..., 100000, 100000])?\n\n2. Can we assume that the input array will always meet the constraints given (i.e., it will always contain exactly n + 1 integers and will always have one duplicate)?\n\n3. What should we return if the input array is empty or does not meet the specified conditions (though the problem states it will always have a duplicate)?\n\n4. Are there any performance constraints beyond the requirement to use constant extra space and achieve linear runtime complexity, such as time limits for large input sizes?\n\n5. Is it acceptable to use any specific algorithms or techniques (like Floyd's Tortoise and Hare) to find the duplicate, or should we focus on a more straightforward approach?"
      ]
    },
    {
      "cell_type": "markdown",
      "metadata": {},
      "source": [
        "## Test Edge Cases",
        "",
        "Here are 8 important test edge cases to consider for the \"Find the Duplicate Number\" problem:\n\n1. **Minimum Size Input**:\n   - **Input**: `nums = [1, 1]`\n   - **Description**: The smallest possible input where the duplicate is the only number present. This tests the function's ability to handle the minimum constraints.\n\n2. **All Elements the Same**:\n   - **Input**: `nums = [2, 2, 2, 2, 2]`\n   - **Description**: An array where all elements are the same and equal to the duplicate. This tests if the function can identify the duplicate in a uniform array.\n\n3. **Maximum Size Input**:\n   - **Input**: `nums = [1, 2, 3, ..., 100000, 1]`\n   - **Description**: An array with the maximum size of `n + 1` (i.e., 100,001 elements) where the duplicate is the smallest number. This tests the performance and efficiency of the solution.\n\n4. **Duplicate at the End**:\n   - **Input**: `nums = [1, 2, 3, 4, 5, 6, 7, 8, 9, 10, 10]`\n   - **Description**: A case where the duplicate number is at the end of the array. This checks if the function can correctly identify duplicates regardless of their position.\n\n5. **Duplicate at the Beginning**:\n   - **Input**: `nums = [5, 5, 1, 2, 3, 4]`\n   - **Description**: A case where the duplicate number is at the beginning of the array. This tests if the function can identify duplicates located at the start.\n\n6. **Large Range with Small Duplicate**:\n   - **Input**: `nums = [100000, 99999, 99998, 99997, 1, 1]`\n   - **Description**: An array with a large range of numbers where the duplicate is a small number. This tests the function's ability to handle large values and identify the duplicate correctly.\n\n7. **Sequential Numbers with One Duplicate**:\n   - **Input**: `nums = [1, 2, 3, 4, 5, 3]`\n   - **Description**: A case where the array contains sequential numbers with one duplicate. This checks if the function can handle a straightforward case of duplicates.\n\n8. **Random Order with Multiple Duplicates**:\n   - **Input**: `nums = [4, 3, 2, 1, 2]`\n   - **Description**: A case where the numbers are in random order and the duplicate is not at the start or end. This tests the function's ability to"
      ]
    },
    {
      "cell_type": "markdown",
      "metadata": {},
      "source": [
        "To solve the problem of finding the duplicate number in an array of integers where the integers are within a specific range and one number is guaranteed to be duplicated, we can use the **Floyd's Tortoise and Hare (Cycle Detection)** algorithm. This approach allows us to find the duplicate without modifying the array and while using only constant extra space.",
        "",
        "### 1. Approach Explanation",
        "",
        "#### Key Insights:",
        "1. **Range and Duplicates**: Given that the integers are in the range [1, n] and there are `n + 1` integers, there must be at least one duplicate because the pigeonhole principle states that if you have `n` holes (integers from 1 to n) and `n + 1` pigeons (elements in the array), at least one hole must contain more than one pigeon.",
        "",
        "2. **Linked List Cycle Detection**: ",
        "   - We can think of the array as a linked list where each index points to the value at that index. For example, if `nums[i] = x`, then index `i` points to `x`.",
        "   - Since there's a duplicate, this will create a cycle in the linked list.",
        "",
        "#### Steps:",
        "1. **Phase 1 - Finding Intersection**:",
        "   - Use two pointers (tortoise and hare). The tortoise moves one step at a time, and the hare moves two steps at a time. They will eventually meet inside the cycle.",
        "  ",
        "2. **Phase 2 - Finding the Entrance to the Cycle**:",
        "   - Once the two pointers meet, start another pointer from the beginning of the array and keep one pointer at the meeting point. Move both one step at a time. The point where they meet again will be the duplicate number.",
        "",
        "### 2. Python Code Solution with Comments"
      ]
    },
    {
      "cell_type": "code",
      "execution_count": null,
      "metadata": {},
      "outputs": [],
      "source": [
        "def findDuplicate(nums):",
        "    # Phase 1: Finding the intersection point in the cycle",
        "    tortoise = nums[0]",
        "    hare = nums[0]",
        "    ",
        "    # Move tortoise one step and hare two steps",
        "    while True:",
        "        tortoise = nums[tortoise]  # Move tortoise by 1 step",
        "        hare = nums[nums[hare]]     # Move hare by 2 steps",
        "        if tortoise == hare:        # They meet inside the cycle",
        "            break",
        "    ",
        "    # Phase 2: Finding the entrance to the cycle",
        "    # Start a new pointer from the beginning",
        "    pointer1 = nums[0]",
        "    pointer2 = tortoise  # Start from the meeting point",
        "    ",
        "    while pointer1 != pointer2:",
        "        pointer1 = nums[pointer1]  # Move one step",
        "        pointer2 = nums[pointer2]  # Move one step",
        "    ",
        "    # The point where they meet is the duplicate number",
        "    return pointer1"
      ]
    },
    {
      "cell_type": "markdown",
      "metadata": {},
      "source": [
        "### 3. Time and Space Complexity Analysis",
        "",
        "- **Time Complexity**: O(n)",
        "  - The algorithm runs in linear time because both phases (finding the intersection and finding the entrance to the cycle) involve traversing the elements of the array linearly.",
        "",
        "- **Space Complexity**: O(1)",
        "  - We are using a constant amount of space (only a few pointers) and not utilizing any additional data structures that scale with input size.",
        "",
        "This approach is efficient and adheres to the problem constraints, allowing us to find the duplicate number without modifying the input array and with minimal space usage."
      ]
    },
    {
      "cell_type": "markdown",
      "metadata": {},
      "source": [
        "---",
        "",
        ""
      ]
    },
    {
      "cell_type": "markdown",
      "metadata": {},
      "source": [
        "# Linked List Random Node (#382)",
        "",
        "**Difficulty:** Medium  ",
        "**Date:** 2025-08-10 00:01:16  ",
        "**URL:** https://leetcode.com/problems/linked-list-random-node/",
        "",
        "---"
      ]
    },
    {
      "cell_type": "markdown",
      "metadata": {},
      "source": [
        "## Problem Description",
        "",
        "Given a singly linked list, return a random node&#39;s value from the linked list. Each node must have the same probability of being chosen.\n\nImplement the Solution class:\n\n\n\tSolution(ListNode head) Initializes the object with the head of the singly-linked list head.\n\tint getRandom() Chooses a node randomly from the list and returns its value. All the nodes of the list should be equally likely to be chosen.\n\n\n&nbsp;\nExample 1:\n\n\nInput\n[&quot;Solution&quot;, &quot;getRandom&quot;, &quot;getRandom&quot;, &quot;getRandom&quot;, &quot;getRandom&quot;, &quot;getRandom&quot;]\n[[[1, 2, 3]], [], [], [], [], []]\nOutput\n[null, 1, 3, 2, 2, 3]\n\nExplanation\nSolution solution = new Solution([1, 2, 3]);\nsolution.getRandom(); // return 1\nsolution.getRandom(); // return 3\nsolution.getRandom(); // return 2\nsolution.getRandom(); // return 2\nsolution.getRandom(); // return 3\n// getRandom() should return either 1, 2, or 3 randomly. Each element should have equal probability of returning.\n\n\n&nbsp;\nConstraints:\n\n\n\tThe number of nodes in the linked list will be in the range [1, 104].\n\t-104 <= Node.val <= 104\n\tAt most 104 calls will be made to getRandom.\n\n\n&nbsp;\nFollow up:\n\n\n\tWhat if the linked list is extremely large and its length is unknown to you?\n\tCould you solve this efficiently without using extra space?\n\n"
      ]
    },
    {
      "cell_type": "markdown",
      "metadata": {},
      "source": [
        "## Clarifying Questions",
        "",
        "1. **What should happen if the linked list is empty?** Should we assume that the input will always have at least one node, or do we need to handle the case where the head is null?\n\n2. **Can we assume that all nodes in the linked list have unique values?** This will help clarify if we need to account for duplicate values when selecting a random node.\n\n3. **What is the expected behavior of the `getRandom()` method in terms of randomness?** Should it return a truly random value each time, or is there a specific randomness distribution we need to adhere to?\n\n4. **Are there any constraints on the values of the nodes beyond the given range?** For example, do we need to consider any specific data types or memory limits when handling the node values?\n\n5. **In the follow-up scenario where the linked list is extremely large, what are the constraints on the space complexity?** Are we allowed to use a constant amount of space, or is there a specific limit we should adhere to while implementing the solution?"
      ]
    },
    {
      "cell_type": "markdown",
      "metadata": {},
      "source": [
        "## Test Edge Cases",
        "",
        "Here are 8 important test edge cases to consider for the \"Linked List Random Node\" problem:\n\n1. **Single Node List**:\n   - Input: `head = [5]`\n   - Description: Test the simplest case where the linked list contains only one node. The output should always be the value of that single node.\n\n2. **Two Node List**:\n   - Input: `head = [1, 2]`\n   - Description: A basic case with two nodes. Ensure that both values have an equal probability of being returned when `getRandom()` is called multiple times.\n\n3. **List with Duplicate Values**:\n   - Input: `head = [1, 1, 1, 1]`\n   - Description: Test a linked list where all nodes have the same value. The output should always be that value, but it should still confirm that the random selection mechanism works correctly.\n\n4. **List with Negative and Positive Values**:\n   - Input: `head = [-1, 0, 1]`\n   - Description: Ensure that the implementation can handle both negative and positive integers, and that each value can be returned with equal probability.\n\n5. **Large List (Maximum Size)**:\n   - Input: `head = [0, 1, 2, ..., 9999]` (a linked list with 10,000 nodes)\n   - Description: Test the performance and efficiency of the solution with the maximum number of nodes allowed. Verify that the random selection is still uniform.\n\n6. **List with Zero Values**:\n   - Input: `head = [0, 0, 0, 0]`\n   - Description: Similar to the duplicate values case, but specifically testing the behavior when all values are zero. The output should consistently be zero.\n\n7. **Long List with Mixed Values**:\n   - Input: `head = [1, -1, 2, -2, 3, -3]`\n   - Description: A longer list with a mix of positive and negative values. This tests the random selection across a wider range of values.\n\n8. **Performance with Random Calls**:\n   - Input: `head = [1, 2, 3, 4, 5]` and call `getRandom()` 10,000 times.\n   - Description: Evaluate the performance of the `getRandom()` method under heavy load, ensuring that the method can handle repeated calls efficiently and that the distribution of returned values is uniform.\n\nThese test cases cover a variety of scenarios, including boundary conditions, special values, and performance considerations, ensuring a comprehensive evaluation of the solution's correctness and efficiency."
      ]
    },
    {
      "cell_type": "markdown",
      "metadata": {},
      "source": [
        "To solve the LeetCode problem of selecting a random node's value from a singly linked list, we'll need to ensure that each node has an equal probability of being selected. ",
        "",
        "### Approach:",
        "",
        "1. **Reservoir Sampling**: Given that the length of the linked list is unknown and can be large, we can use a technique called reservoir sampling. This algorithm allows us to select a random item from a stream of data (in this case, the linked list) without knowing its length beforehand.",
        "",
        "2. **Implementation Steps**:",
        "   - We will traverse the linked list and keep track of the current node's index.",
        "   - For each node encountered, we will randomly decide whether to select this node's value as the current selected value based on the index.",
        "   - The probability of selecting the i-th node is `1/i`, ensuring that all nodes have an equal chance of being chosen.",
        "",
        "3. **Random Selection**: We'll use Python's `random.randint(0, i)` to generate a random index to decide whether to replace the current selected value with the new node's value.",
        "",
        "### Python Code Solution:",
        "",
        "Here’s how we can implement this in Python:"
      ]
    },
    {
      "cell_type": "code",
      "execution_count": null,
      "metadata": {},
      "outputs": [],
      "source": [
        "import random",
        "",
        "class ListNode:",
        "    def __init__(self, val=0, next=None):",
        "        self.val = val",
        "        self.next = next",
        "",
        "class Solution:",
        "    def __init__(self, head: ListNode):",
        "        self.head = head",
        "",
        "    def getRandom(self) -> int:",
        "        current = self.head",
        "        result = current.val  # Start with the head node's value",
        "        n = 1  # We have seen one node",
        "",
        "        while current is not None:",
        "            # Randomly decide whether to select the current node's value",
        "            if random.randint(0, n - 1) == 0:",
        "                result = current.val",
        "            current = current.next  # Move to the next node",
        "            n += 1  # Increment the count of nodes seen",
        "",
        "        return result  # Return the randomly selected value"
      ]
    },
    {
      "cell_type": "markdown",
      "metadata": {},
      "source": [
        "### Explanation of the Code:",
        "",
        "- `ListNode` class is defined to create nodes of the linked list.",
        "- The `Solution` class is initialized with the head of the linked list.",
        "- The `getRandom` method:",
        "  - Initializes `current` to the head of the list and `result` to the value of the first node.",
        "  - Uses a while loop to traverse through the linked list until there are no more nodes (`current is not None`).",
        "  - For each node, it generates a random number and updates `result` if the random number meets the condition (with a probability of `1/n`).",
        "  - Finally, it returns the selected random value.",
        "",
        "### Time and Space Complexity Analysis:",
        "",
        "- **Time Complexity**: ",
        "  - The `getRandom` method runs in O(n) time where n is the number of nodes in the linked list since it traverses each node once.",
        "  ",
        "- **Space Complexity**: ",
        "  - The space complexity is O(1) because we only use a constant amount of extra space (for variables like `current`, `result`, and `n`).",
        "",
        "This approach efficiently handles the problem even for large linked lists while ensuring that each node has an equal probability of being selected."
      ]
    },
    {
      "cell_type": "markdown",
      "metadata": {},
      "source": [
        "---",
        "",
        ""
      ]
    },
    {
      "cell_type": "markdown",
      "metadata": {},
      "source": [
        "# Flatten a Multilevel Doubly Linked List (#430)",
        "",
        "**Difficulty:** Medium  ",
        "**Date:** 2025-08-10 00:02:33  ",
        "**URL:** https://leetcode.com/problems/flatten-a-multilevel-doubly-linked-list/",
        "",
        "---"
      ]
    },
    {
      "cell_type": "markdown",
      "metadata": {},
      "source": [
        "## Problem Description",
        "",
        "You are given a doubly linked list, which contains nodes that have a next pointer, a previous pointer, and an additional child pointer. This child pointer may or may not point to a separate doubly linked list, also containing these special nodes. These child lists may have one or more children of their own, and so on, to produce a multilevel data structure as shown in the example below.\n\nGiven the head of the first level of the list, flatten the list so that all the nodes appear in a single-level, doubly linked list. Let curr be a node with a child list. The nodes in the child list should appear after curr and before curr.next in the flattened list.\n\nReturn the head of the flattened list. The nodes in the list must have all of their child pointers set to null.\n\n&nbsp;\nExample 1:\n\n\nInput: head = [1,2,3,4,5,6,null,null,null,7,8,9,10,null,null,11,12]\nOutput: [1,2,3,7,8,11,12,9,10,4,5,6]\nExplanation: The multilevel linked list in the input is shown.\nAfter flattening the multilevel linked list it becomes:\n\n\n\nExample 2:\n\n\nInput: head = [1,2,null,3]\nOutput: [1,3,2]\nExplanation: The multilevel linked list in the input is shown.\nAfter flattening the multilevel linked list it becomes:\n\n\n\nExample 3:\n\n\nInput: head = []\nOutput: []\nExplanation: There could be empty list in the input.\n\n\n&nbsp;\nConstraints:\n\n\n\tThe number of Nodes will not exceed 1000.\n\t1 <= Node.val <= 105\n\n\n&nbsp;\nHow the multilevel linked list is represented in test cases:\n\nWe use the multilevel linked list from Example 1 above:\n\n\n 1---2---3---4---5---6--NULL\n         |\n         7---8---9---10--NULL\n             |\n             11--12--NULL\n\nThe serialization of each level is as follows:\n\n\n[1,2,3,4,5,6,null]\n[7,8,9,10,null]\n[11,12,null]\n\n\nTo serialize all levels together, we will add nulls in each level to signify no node connects to the upper node of the previous level. The serialization becomes:\n\n\n[1,    2,    3, 4, 5, 6, null]\n             |\n[null, null, 7,    8, 9, 10, null]\n                   |\n[            null, 11, 12, null]\n\n\nMerging the serialization of each level and removing trailing nulls we obtain:\n\n\n[1,2,3,4,5,6,null,null,null,7,8,9,10,null,null,11,12]\n\n"
      ]
    },
    {
      "cell_type": "markdown",
      "metadata": {},
      "source": [
        "## Clarifying Questions",
        "",
        "1. **What should be the behavior of the algorithm when encountering nodes with child pointers that point to empty lists?** (For example, if a node has a child pointer but the child list is empty, how should this be handled in the flattened output?)\n\n2. **Can you clarify the expected output format for the flattened list?** (Should the output be a new linked list, or can it be a modified version of the input list? Should we return the head of the modified list?)\n\n3. **Are there any specific constraints on the values of the nodes beyond the given range (1 <= Node.val <= 10^5)?** (For example, should we assume that all values are unique, or can there be duplicates?)\n\n4. **How should we handle the case where the input list is empty?** (Is returning `null` the expected output, or should we return an empty list structure?)\n\n5. **What is the expected time complexity for the solution, and should we consider any specific performance optimizations given the constraint of up to 1000 nodes?** (Are there any specific performance requirements or limits we should keep in mind while designing the solution?)"
      ]
    },
    {
      "cell_type": "markdown",
      "metadata": {},
      "source": [
        "## Test Edge Cases",
        "",
        "Here are 8 important test edge cases to consider when solving the problem of flattening a multilevel doubly linked list:\n\n1. **Empty List**:\n   - **Input**: `head = []`\n   - **Description**: Tests the function's ability to handle an empty input list. The expected output should also be an empty list.\n\n2. **Single Node without Child**:\n   - **Input**: `head = [1]`\n   - **Description**: Tests the simplest case where the list contains only one node without any children. The output should be the same single node.\n\n3. **Single Node with Child**:\n   - **Input**: `head = [1, null, 2]` (where node 1 has a child pointing to node 2)\n   - **Description**: Tests the case where there is a single node with one child. The output should be a flattened list containing both nodes in the correct order.\n\n4. **Multiple Nodes with No Children**:\n   - **Input**: `head = [1, 2, 3, 4, 5]`\n   - **Description**: Tests a linear list with multiple nodes but no child pointers. The output should be the same as the input list.\n\n5. **Deeply Nested Children**:\n   - **Input**: `head = [1, 2, null, 3, null, 4, null, 5]` (where node 1 has a child pointing to node 2, node 2 has a child pointing to node 3, etc.)\n   - **Description**: Tests the ability to handle multiple levels of nesting. The output should be a single flattened list containing all nodes in the correct order.\n\n6. **Multiple Nodes with Interleaved Children**:\n   - **Input**: `head = [1, 2, 3, null, 4, 5, null, 6]` (where node 2 has a child pointing to node 4 and node 3 has a child pointing to node 5)\n   - **Description**: Tests the case where nodes have interleaved children. The output should correctly reflect the order of nodes as they are flattened.\n\n7. **List with Duplicate Values**:\n   - **Input**: `head = [1, 2, 2, null, 3, 3]` (where node 2 has a child pointing to node 3)\n   - **Description**: Tests how the function handles duplicate values in the nodes. The output should maintain the order of nodes while flattening.\n\n8. **Maximum Size List**:\n   - **Input**: A list with 1000 nodes where each node has a child pointing to the next node (e.g., `head = [1, 2, 3, ..., 1000]` with children pointing to"
      ]
    },
    {
      "cell_type": "markdown",
      "metadata": {},
      "source": [
        "To flatten a multilevel doubly linked list, we need a strategy that allows us to traverse the linked list while also handling the child pointers appropriately. Here's a step-by-step explanation of the approach we'll use:",
        "",
        "### Approach:",
        "",
        "1. **Iterative Traversal**: We'll use an iterative approach with a stack to keep track of nodes. This allows us to explore child nodes as we encounter them while flattening the list.",
        "",
        "2. **Using a Stack**: We'll maintain a stack to manage the nodes. Whenever we encounter a node with a child, we push the next node onto the stack (so we can return to it later) and then move to the child node.",
        "",
        "3. **Re-linking Nodes**: As we traverse, we will:",
        "   - Set the `next` pointer of the current node to the child (if it exists).",
        "   - Set the `prev` pointer of the child to the current node.",
        "   - Move to the next node in the list.",
        "",
        "4. **Nullifying Child Pointers**: After flattening, we need to set all `child` pointers to `null`.",
        "",
        "5. **Return the Head**: Finally, we return the head of the flattened list.",
        "",
        "### Python Code Solution:"
      ]
    },
    {
      "cell_type": "code",
      "execution_count": null,
      "metadata": {},
      "outputs": [],
      "source": [
        "class Node:",
        "    def __init__(self, val=0, prev=None, next=None, child=None):",
        "        self.val = val",
        "        self.prev = prev",
        "        self.next = next",
        "        self.child = child",
        "",
        "class Solution:",
        "    def flatten(self, head: 'Node') -> 'Node':",
        "        if not head:",
        "            return None",
        "",
        "        # Initialize a stack and push the head node onto it",
        "        stack = []",
        "        stack.append(head)",
        "        ",
        "        # This will be the head of the flattened list",
        "        prev = None",
        "        ",
        "        # Iterate until the stack is empty",
        "        while stack:",
        "            # Pop the node from the stack",
        "            curr = stack.pop()",
        "            ",
        "            # If there is a previous node, we need to link it with the current node",
        "            if prev:",
        "                prev.next = curr",
        "                curr.prev = prev",
        "            ",
        "            # Push the next node onto the stack (if it exists)",
        "            if curr.next:",
        "                stack.append(curr.next)",
        "            ",
        "            # If there is a child, push it onto the stack",
        "            if curr.child:",
        "                stack.append(curr.child)",
        "                # We nullify the child pointer after using it",
        "                curr.child = None",
        "            ",
        "            # Update prev to be the current node",
        "            prev = curr",
        "        ",
        "        # Return the head of the flattened list",
        "        return head"
      ]
    },
    {
      "cell_type": "markdown",
      "metadata": {},
      "source": [
        "### Explanation of the Code:",
        "",
        "- We define a `Node` class for the doubly linked list.",
        "- In the `Solution` class, we create the `flatten` method.",
        "- We check if the head is `None` and return `None` if it is.",
        "- We use a stack to facilitate our traversal and keep track of nodes.",
        "- We loop until the stack is empty, processing each node:",
        "  - If there's a previous node, we link it to the current node.",
        "  - We push the `next` node and any `child` node onto the stack for later processing.",
        "  - We set the `child` pointer of the current node to `None` after using it.",
        "- Finally, we return the original head of the flattened list.",
        "",
        "### Time and Space Complexity Analysis:",
        "",
        "- **Time Complexity**: O(N), where N is the number of nodes in the multilevel list. Each node is processed once.",
        "- **Space Complexity**: O(H), where H is the maximum depth of the child lists (i.e., the maximum number of nodes that can be stored in the stack at one time). In the worst case, this could be O(N) if all nodes are in a single child list. However, on average, it will be less than that."
      ]
    },
    {
      "cell_type": "markdown",
      "metadata": {},
      "source": [
        "---",
        "",
        ""
      ]
    },
    {
      "cell_type": "markdown",
      "metadata": {},
      "source": [
        "# Add Two Numbers II (#445)",
        "",
        "**Difficulty:** Medium  ",
        "**Date:** 2025-08-10 00:02:50  ",
        "**URL:** https://leetcode.com/problems/add-two-numbers-ii/",
        "",
        "---"
      ]
    },
    {
      "cell_type": "markdown",
      "metadata": {},
      "source": [
        "## Problem Description",
        "",
        "You are given two non-empty linked lists representing two non-negative integers. The most significant digit comes first and each of their nodes contains a single digit. Add the two numbers and return the sum as a linked list.\n\nYou may assume the two numbers do not contain any leading zero, except the number 0 itself.\n\n&nbsp;\nExample 1:\n\n\nInput: l1 = [7,2,4,3], l2 = [5,6,4]\nOutput: [7,8,0,7]\n\n\nExample 2:\n\n\nInput: l1 = [2,4,3], l2 = [5,6,4]\nOutput: [8,0,7]\n\n\nExample 3:\n\n\nInput: l1 = [0], l2 = [0]\nOutput: [0]\n\n\n&nbsp;\nConstraints:\n\n\n\tThe number of nodes in each linked list is in the range [1, 100].\n\t0 <= Node.val <= 9\n\tIt is guaranteed that the list represents a number that does not have leading zeros.\n\n\n&nbsp;\nFollow up:&nbsp;Could you solve it without reversing the input lists?\n"
      ]
    },
    {
      "cell_type": "markdown",
      "metadata": {},
      "source": [
        "## Clarifying Questions",
        "",
        "1. **What is the expected output format?** Should the output linked list be returned in the same format as the input (i.e., as a linked list object), or can it be represented as an array for simplicity?\n\n2. **How should we handle carry-over during addition?** If the sum of two digits exceeds 9, how should we represent the carry in the resulting linked list?\n\n3. **Are there any constraints on the maximum size of the resulting linked list?** Given that each input linked list can have up to 100 nodes, should we consider the possibility of the resulting linked list being longer than either of the input lists?\n\n4. **What should we do in the case of different lengths of the input linked lists?** If one linked list is longer than the other, how should we handle the addition of digits when we reach the end of the shorter list?\n\n5. **Can we assume that the input linked lists will always contain valid digits (0-9) and no invalid values?** Are there any edge cases we should be aware of, such as empty lists or lists with only zeros?"
      ]
    },
    {
      "cell_type": "markdown",
      "metadata": {},
      "source": [
        "## Test Edge Cases",
        "",
        "Here are 8 important test edge cases to consider for the \"Add Two Numbers II\" problem:\n\n1. **Single Node with Zero**:\n   - Input: `l1 = [0]`, `l2 = [0]`\n   - Description: Both linked lists represent the number zero. This tests the handling of the simplest case.\n\n2. **Single Node Non-Zero**:\n   - Input: `l1 = [5]`, `l2 = [3]`\n   - Description: Each linked list has a single non-zero digit. This tests basic addition without carry.\n\n3. **Different Lengths with Carry**:\n   - Input: `l1 = [9, 9]`, `l2 = [1]`\n   - Description: This tests the addition where the first number has a carry that affects the result length.\n\n4. **Maximum Length Lists**:\n   - Input: `l1 = [9]*100`, `l2 = [1]`\n   - Description: Both lists are at their maximum length (100 nodes), testing performance and handling of large inputs.\n\n5. **Leading to a New Digit**:\n   - Input: `l1 = [9, 9, 9]`, `l2 = [1]`\n   - Description: This tests the case where the addition results in a new most significant digit due to carry propagation.\n\n6. **Multiple Carries**:\n   - Input: `l1 = [9, 8, 7]`, `l2 = [1, 2, 3]`\n   - Description: This tests the scenario where multiple carries occur during addition.\n\n7. **All Zeros Except One**:\n   - Input: `l1 = [0, 0, 0, 1]`, `l2 = [0, 0, 0, 9]`\n   - Description: This tests how the function handles lists that are mostly zeros with a significant digit at the end.\n\n8. **Different Values with No Carry**:\n   - Input: `l1 = [1, 2, 3]`, `l2 = [4, 5, 6]`\n   - Description: This tests the addition of two numbers where no carries occur, ensuring straightforward addition is handled correctly.\n\nThese test cases cover a range of scenarios including edge cases, performance limits, and special conditions that may arise during the addition of two numbers represented by linked lists."
      ]
    },
    {
      "cell_type": "markdown",
      "metadata": {},
      "source": [
        "To solve the LeetCode problem \"Add Two Numbers II,\" we need to add two numbers represented by linked lists where the most significant digit comes first. This means that the head of each linked list represents the highest place value (like tens, hundreds, etc.). ",
        "",
        "### Approach",
        "",
        "1. **Reverse the Linked Lists**: Since we need to process the digits from least significant to most significant for addition, we will reverse the linked lists. This will allow us to add the numbers similarly to how we would do it with traditional addition.",
        "",
        "2. **Add the Numbers**: Traverse both reversed linked lists simultaneously, adding corresponding digits along with any carry from the previous addition.",
        "",
        "3. **Construct the Result**: Since the result will also be in the reversed order (most significant digit first), we can store the results in a new linked list as we compute them, and finally reverse this result linked list before returning.",
        "",
        "4. **Handle Carry**: If there’s a carry left after processing both lists, we need to add a new node for it.",
        "",
        "### Python Code Solution",
        "",
        "Here's how we can implement the above approach in Python:"
      ]
    },
    {
      "cell_type": "code",
      "execution_count": null,
      "metadata": {},
      "outputs": [],
      "source": [
        "class ListNode:",
        "    def __init__(self, val=0, next=None):",
        "        self.val = val",
        "        self.next = next",
        "",
        "def reverse_linked_list(head):",
        "    prev = None",
        "    current = head",
        "    while current:",
        "        next_node = current.next",
        "        current.next = prev",
        "        prev = current",
        "        current = next_node",
        "    return prev",
        "",
        "def addTwoNumbers(l1, l2):",
        "    # Step 1: Reverse both linked lists",
        "    l1_reversed = reverse_linked_list(l1)",
        "    l2_reversed = reverse_linked_list(l2)",
        "",
        "    # Step 2: Prepare for addition",
        "    carry = 0",
        "    dummy_head = ListNode(0)  # Dummy node to simplify result list creation",
        "    current = dummy_head",
        "",
        "    # Step 3: Traverse both lists and add numbers",
        "    while l1_reversed or l2_reversed or carry:",
        "        val1 = l1_reversed.val if l1_reversed else 0",
        "        val2 = l2_reversed.val if l2_reversed else 0",
        "        ",
        "        # Calculate the sum of current digits and carry",
        "        total = val1 + val2 + carry",
        "        carry = total // 10  # Update carry for next iteration",
        "        current.next = ListNode(total % 10)  # Create new node with the digit",
        "        ",
        "        # Move to the next nodes",
        "        current = current.next",
        "        if l1_reversed:",
        "            l1_reversed = l1_reversed.next",
        "        if l2_reversed:",
        "            l2_reversed = l2_reversed.next",
        "",
        "    # Step 4: Reverse the result linked list",
        "    return reverse_linked_list(dummy_head.next)",
        "",
        "# Example usage",
        "# l1 = [7,2,4,3] and l2 = [5,6,4]",
        "# Code to create linked lists and call addTwoNumbers would go here"
      ]
    },
    {
      "cell_type": "markdown",
      "metadata": {},
      "source": [
        "### Time and Space Complexity Analysis",
        "",
        "- **Time Complexity**: The time complexity of this solution is O(n + m), where n is the length of the first linked list and m is the length of the second linked list. This is because we traverse both linked lists and each takes O(n) and O(m) time, respectively, and we also reverse the result linked list.",
        "",
        "- **Space Complexity**: The space complexity is O(n + m) as well, because we are creating a new linked list to store the result which can have a maximum length of n + m in the case where both input lists are of maximum length and have no carry.",
        "",
        "This solution efficiently handles the problem while maintaining clarity and simplicity."
      ]
    },
    {
      "cell_type": "markdown",
      "metadata": {},
      "source": [
        "---",
        "",
        ""
      ]
    },
    {
      "cell_type": "markdown",
      "metadata": {},
      "source": [
        "# Copy List with Random Pointer (#138)",
        "",
        "**Difficulty:** Medium  ",
        "**Date:** 2025-08-10 00:06:18  ",
        "**URL:** https://leetcode.com/problems/copy-list-with-random-pointer/",
        "",
        "---"
      ]
    },
    {
      "cell_type": "markdown",
      "metadata": {},
      "source": [
        "## Problem Description",
        "",
        "A linked list of length n is given such that each node contains an additional random pointer, which could point to any node in the list, or null.\n\nConstruct a deep copy of the list. The deep copy should consist of exactly n brand new nodes, where each new node has its value set to the value of its corresponding original node. Both the next and random pointer of the new nodes should point to new nodes in the copied list such that the pointers in the original list and copied list represent the same list state. None of the pointers in the new list should point to nodes in the original list.\n\nFor example, if there are two nodes X and Y in the original list, where X.random --> Y, then for the corresponding two nodes x and y in the copied list, x.random --> y.\n\nReturn the head of the copied linked list.\n\nThe linked list is represented in the input/output as a list of n nodes. Each node is represented as a pair of [val, random_index] where:\n\n\n\tval: an integer representing Node.val\n\trandom_index: the index of the node (range from 0 to n-1) that the random pointer points to, or null if it does not point to any node.\n\n\nYour code will only be given the head of the original linked list.\n\n&nbsp;\nExample 1:\n\n\nInput: head = [[7,null],[13,0],[11,4],[10,2],[1,0]]\nOutput: [[7,null],[13,0],[11,4],[10,2],[1,0]]\n\n\nExample 2:\n\n\nInput: head = [[1,1],[2,1]]\nOutput: [[1,1],[2,1]]\n\n\nExample 3:\n\n\n\n\nInput: head = [[3,null],[3,0],[3,null]]\nOutput: [[3,null],[3,0],[3,null]]\n\n\n&nbsp;\nConstraints:\n\n\n\t0 <= n <= 1000\n\t-104 <= Node.val <= 104\n\tNode.random is null or is pointing to some node in the linked list.\n\n"
      ]
    },
    {
      "cell_type": "markdown",
      "metadata": {},
      "source": [
        "## Clarifying Questions",
        "",
        "1. **What should we do if the input linked list is empty (i.e., head is null)? Should we return null or an empty list?**\n\n2. **Can you clarify how the random pointer should be represented in the output? Should the output maintain the same format as the input, specifically using indices for the random pointers?**\n\n3. **Are there any constraints on the values of the nodes, or can they be any integers within the specified range? Should we expect duplicate values in the list?**\n\n4. **Is there a specific time or space complexity that we should aim for in our solution, or is any efficient solution acceptable given the constraints?**\n\n5. **Should we assume that the random pointers in the original list are always valid and do not create cycles, or do we need to handle potential cycles in the linked list?**"
      ]
    },
    {
      "cell_type": "markdown",
      "metadata": {},
      "source": [
        "## Test Edge Cases",
        "",
        "Here are 8 important test edge cases to consider for the \"Copy List with Random Pointer\" problem:\n\n1. **Empty List**:\n   - **Input**: `head = []`\n   - **Description**: Tests the function's ability to handle an empty linked list. The output should also be an empty list.\n\n2. **Single Node with Null Random Pointer**:\n   - **Input**: `head = [[1, null]]`\n   - **Description**: Tests the simplest non-empty case where the list contains a single node that does not point to any other node. The output should be a single node with the same value and a null random pointer.\n\n3. **Single Node with Random Pointer to Itself**:\n   - **Input**: `head = [[2, 0]]`\n   - **Description**: Tests a single node that points to itself. The output should be a new node with the same value and a random pointer pointing to itself.\n\n4. **Multiple Nodes with Random Pointers to Previous Nodes**:\n   - **Input**: `head = [[1, 2], [2, 0], [3, 1]]`\n   - **Description**: Tests a list where each node's random pointer points to a previous node. The output should maintain the same structure in the copied list.\n\n5. **Multiple Nodes with Random Pointers to Null**:\n   - **Input**: `head = [[4, null], [5, null], [6, null]]`\n   - **Description**: Tests a case with multiple nodes where all random pointers are null. The output should be a copied list with the same structure and null random pointers.\n\n6. **List with Duplicate Values**:\n   - **Input**: `head = [[7, 1], [7, 2], [7, null]]`\n   - **Description**: Tests the function's ability to handle nodes with duplicate values. The output should correctly reflect the structure and values of the original list.\n\n7. **Maximum Size List**:\n   - **Input**: `head = [[i, (i + 1) % 1000] for i in range(1000)]`\n   - **Description**: Tests the performance and efficiency of the solution with the maximum allowed size of the list (1000 nodes). The random pointers create a circular reference.\n\n8. **Random Pointer Points to Itself**:\n   - **Input**: `head = [[10, 0], [20, 1], [30, 2]]`\n   - **Description**: Tests a case where each node's random pointer points to itself. The output should maintain the same structure with each new node's random pointer pointing to itself.\n\nThese test cases cover a wide range of scenarios, including edge cases, performance considerations, and special values, ensuring a robust solution to the problem."
      ]
    },
    {
      "cell_type": "markdown",
      "metadata": {},
      "source": [
        "To solve the problem of copying a linked list with random pointers, we can use a three-step approach. Here’s a breakdown of the solution:",
        "",
        "### Approach",
        "",
        "1. **Create Copies of Nodes**: We will iterate through the original linked list and create a copy of each node. For each original node, we will insert the copied node right after it in the list. This way, the structure of the original list is maintained, and we can easily set the random pointers later.",
        "",
        "2. **Set Random Pointers**: In the second pass of the list, for each original node, we will set the random pointer of the copied node. Since the copied node is directly after the original node, we can easily access the copied node using the original's random pointer.",
        "",
        "3. **Extract the Copied List**: In the final step, we will separate the copied nodes from the original list. We will restore the original list and build the new copied list at the same time.",
        "",
        "### Python Code Solution"
      ]
    },
    {
      "cell_type": "code",
      "execution_count": null,
      "metadata": {},
      "outputs": [],
      "source": [
        "class Node:",
        "    def __init__(self, val=0, next=None, random=None):",
        "        self.val = val",
        "        self.next = next",
        "        self.random = random",
        "",
        "def copyRandomList(head):",
        "    if not head:",
        "        return None",
        "    ",
        "    # Step 1: Create a copy of each node and insert it right after the original node",
        "    current = head",
        "    while current:",
        "        new_node = Node(current.val)",
        "        new_node.next = current.next",
        "        current.next = new_node",
        "        current = new_node.next  # Move to the next original node",
        "    ",
        "    # Step 2: Set the random pointers for the copied nodes",
        "    current = head",
        "    while current:",
        "        if current.random:",
        "            current.next.random = current.random.next  # Set the random pointer of the copied node",
        "        current = current.next.next  # Move to the next original node",
        "    ",
        "    # Step 3: Separate the copied list from the original list",
        "    current = head",
        "    new_head = head.next  # The head of the new list",
        "    copy_current = new_head",
        "    ",
        "    while current:",
        "        current.next = current.next.next  # Restore the original list's next pointers",
        "        if copy_current.next:  # Avoid accessing None",
        "            copy_current.next = copy_current.next.next  # Set the next pointer for copied list",
        "        current = current.next",
        "        copy_current = copy_current.next",
        "    ",
        "    return new_head  # Return the head of the copied list"
      ]
    },
    {
      "cell_type": "markdown",
      "metadata": {},
      "source": [
        "### Explanation of the Code:",
        "",
        "- **Node Class**: We define a `Node` class with a constructor to initialize the node's value, next, and random pointers.",
        "",
        "- **copyRandomList Function**:",
        "  - **Check for an empty list**: If the head is `None`, we return `None`.",
        "  - **First Loop**: We create a copy for each node and insert it right next to the original node. This helps in easily setting the random pointers later.",
        "  - **Second Loop**: We set the random pointers for the copied nodes using the original node's random pointer. Since the copied node follows the original node, we can access it directly.",
        "  - **Third Loop**: We restore the original list structure while extracting the copied nodes into a new list.",
        "",
        "### Time and Space Complexity Analysis",
        "",
        "- **Time Complexity**: O(n), where n is the number of nodes in the linked list. We traverse the list three times: once for creating copies, once for setting random pointers, and once for separating the lists.",
        "",
        "- **Space Complexity**: O(n) for the newly created nodes. Although we are not using any extra space apart from the new nodes, the space used by the copied linked list is counted.",
        "",
        "In summary, this approach efficiently copies the linked list with random pointers while maintaining the relationships between nodes."
      ]
    },
    {
      "cell_type": "markdown",
      "metadata": {},
      "source": [
        "---",
        "",
        ""
      ]
    },
    {
      "cell_type": "markdown",
      "metadata": {},
      "source": [
        "# Linked List Cycle II (#142)",
        "",
        "**Difficulty:** Medium  ",
        "**Date:** 2025-08-10 00:06:25  ",
        "**URL:** https://leetcode.com/problems/linked-list-cycle-ii/",
        "",
        "---"
      ]
    },
    {
      "cell_type": "markdown",
      "metadata": {},
      "source": [
        "## Problem Description",
        "",
        "Given the head of a linked list, return the node where the cycle begins. If there is no cycle, return null.\n\nThere is a cycle in a linked list if there is some node in the list that can be reached again by continuously following the next pointer. Internally, pos is used to denote the index of the node that tail&#39;s next pointer is connected to (0-indexed). It is -1 if there is no cycle. Note that pos is not passed as a parameter.\n\nDo not modify the linked list.\n\n&nbsp;\nExample 1:\n\n\nInput: head = [3,2,0,-4], pos = 1\nOutput: tail connects to node index 1\nExplanation: There is a cycle in the linked list, where tail connects to the second node.\n\n\nExample 2:\n\n\nInput: head = [1,2], pos = 0\nOutput: tail connects to node index 0\nExplanation: There is a cycle in the linked list, where tail connects to the first node.\n\n\nExample 3:\n\n\nInput: head = [1], pos = -1\nOutput: no cycle\nExplanation: There is no cycle in the linked list.\n\n\n&nbsp;\nConstraints:\n\n\n\tThe number of the nodes in the list is in the range [0, 104].\n\t-105 <= Node.val <= 105\n\tpos is -1 or a valid index in the linked-list.\n\n\n&nbsp;\nFollow up: Can you solve it using O(1) (i.e. constant) memory?\n"
      ]
    },
    {
      "cell_type": "markdown",
      "metadata": {},
      "source": [
        "## Clarifying Questions",
        "",
        "1. **What should be returned if the linked list is empty (i.e., head is null)? Should we return null in this case?**\n\n2. **Can you clarify how the input linked list is represented in the function? Are we guaranteed that the linked list nodes will be created and linked correctly based on the provided input?**\n\n3. **Are there any constraints on the values of the nodes in the linked list, aside from the given range of -10^5 to 10^5? For example, can there be duplicate values?**\n\n4. **What should the function return if there is a cycle, but the cycle starts at the last node (i.e., the tail of the list points back to itself)? Should it return the tail node in this case?**\n\n5. **Is there a specific time complexity requirement for the solution, or is the focus solely on achieving O(1) space complexity?**"
      ]
    },
    {
      "cell_type": "markdown",
      "metadata": {},
      "source": [
        "## Test Edge Cases",
        "",
        "Here are 8 important test edge cases to consider for the \"Linked List Cycle II\" problem:\n\n1. **Empty List**:\n   - **Input**: `head = []`, `pos = -1`\n   - **Description**: This tests the case where the linked list is empty. The expected output is `null` since there are no nodes.\n\n2. **Single Node without Cycle**:\n   - **Input**: `head = [1]`, `pos = -1`\n   - **Description**: This tests a linked list with a single node that does not form a cycle. The expected output is `null`.\n\n3. **Single Node with Cycle**:\n   - **Input**: `head = [1]`, `pos = 0`\n   - **Description**: This tests a linked list with a single node that points to itself, forming a cycle. The expected output is the node itself.\n\n4. **Two Nodes with Cycle**:\n   - **Input**: `head = [1, 2]`, `pos = 0`\n   - **Description**: This tests a linked list with two nodes where the second node points back to the first node, forming a cycle. The expected output is the first node.\n\n5. **Two Nodes without Cycle**:\n   - **Input**: `head = [1, 2]`, `pos = -1`\n   - **Description**: This tests a linked list with two nodes that do not form a cycle. The expected output is `null`.\n\n6. **Long List with Cycle at the End**:\n   - **Input**: `head = [1, 2, 3, 4, 5]`, `pos = 2`\n   - **Description**: This tests a longer linked list where the last node points back to the third node, forming a cycle. The expected output is the node with value `3`.\n\n7. **Long List with Cycle in the Middle**:\n   - **Input**: `head = [1, 2, 3, 4, 5]`, `pos = 1`\n   - **Description**: This tests a longer linked list where the last node points back to the second node, forming a cycle. The expected output is the node with value `2`.\n\n8. **Maximum Size List without Cycle**:\n   - **Input**: `head = [0, 1, 2, ..., 9999]`, `pos = -1`\n   - **Description**: This tests the upper limit of the linked list size (10,000 nodes) with no cycle. The expected output is `null`. This case checks for performance and memory handling.\n\nThese test cases cover a variety of scenarios, including edge cases related to list size, cycle presence, and node values, ensuring a comprehensive evaluation of the solution."
      ]
    },
    {
      "cell_type": "markdown",
      "metadata": {},
      "source": [
        "### Explanation of the Approach",
        "",
        "To solve the problem of finding the starting node of a cycle in a linked list, we can utilize Floyd's Tortoise and Hare algorithm. The idea is to have two pointers moving at different speeds:",
        "",
        "1. **Tortoise Pointer**: Moves one step at a time.",
        "2. **Hare Pointer**: Moves two steps at a time.",
        "",
        "Here's the step-by-step approach:",
        "",
        "1. **Detecting the Cycle**:",
        "   - Initialize two pointers, `slow` (the tortoise) and `fast` (the hare), both starting at the head of the linked list.",
        "   - Move `slow` one step and `fast` two steps in a loop. If there is a cycle, they will eventually meet at some point.",
        "",
        "2. **Finding the Start of the Cycle**:",
        "   - Once a cycle is detected (when `slow` equals `fast`), we need to find the starting node of the cycle.",
        "   - To do this, reset one of the pointers (let’s say `slow`) back to the head of the linked list.",
        "   - Move both pointers one step at a time. The node where they meet again will be the starting point of the cycle.",
        "",
        "3. **Return Result**:",
        "   - If there is no cycle, return `null`.",
        "   - If a cycle is found, return the node where the cycle begins.",
        "",
        "### Python Code Solution",
        "",
        "Here is a Python implementation of the above approach:"
      ]
    },
    {
      "cell_type": "code",
      "execution_count": null,
      "metadata": {},
      "outputs": [],
      "source": [
        "class ListNode:",
        "    def __init__(self, val=0, next=None):",
        "        self.val = val",
        "        self.next = next",
        "",
        "def detectCycle(head: ListNode) -> ListNode:",
        "    if not head or not head.next:",
        "        return None",
        "",
        "    slow = head",
        "    fast = head",
        "",
        "    # Step 1: Detect if there is a cycle",
        "    while fast and fast.next:",
        "        slow = slow.next          # Move slow pointer one step",
        "        fast = fast.next.next     # Move fast pointer two steps",
        "",
        "        # If slow and fast meet, there is a cycle",
        "        if slow == fast:",
        "            break",
        "    else:",
        "        # If we exit the loop without breaking, there is no cycle",
        "        return None",
        "",
        "    # Step 2: Find the entry point of the cycle",
        "    slow = head  # Reset slow to head",
        "    while slow != fast:",
        "        slow = slow.next",
        "        fast = fast.next",
        "",
        "    # Both pointers meet at the starting point of the cycle",
        "    return slow"
      ]
    },
    {
      "cell_type": "markdown",
      "metadata": {},
      "source": [
        "### Time and Space Complexity Analysis",
        "",
        "- **Time Complexity**: O(n), where n is the number of nodes in the linked list. In the worst case, we may traverse all nodes in the linked list to detect the cycle and then again to find the entry point, which is linear.",
        "  ",
        "- **Space Complexity**: O(1). We are using a constant amount of space (only two pointers), so the space complexity is constant.",
        "",
        "This solution meets the requirements of the problem and efficiently finds the starting node of the cycle without modifying the linked list."
      ]
    },
    {
      "cell_type": "markdown",
      "metadata": {},
      "source": [
        "---",
        "",
        ""
      ]
    },
    {
      "cell_type": "markdown",
      "metadata": {},
      "source": [
        "# Reorder List (#143)",
        "",
        "**Difficulty:** Medium  ",
        "**Date:** 2025-08-10 00:06:26  ",
        "**URL:** https://leetcode.com/problems/reorder-list/",
        "",
        "---"
      ]
    },
    {
      "cell_type": "markdown",
      "metadata": {},
      "source": [
        "## Problem Description",
        "",
        "You are given the head of a singly linked-list. The list can be represented as:\n\n\nL0 &rarr; L1 &rarr; &hellip; &rarr; Ln - 1 &rarr; Ln\n\n\nReorder the list to be on the following form:\n\n\nL0 &rarr; Ln &rarr; L1 &rarr; Ln - 1 &rarr; L2 &rarr; Ln - 2 &rarr; &hellip;\n\n\nYou may not modify the values in the list&#39;s nodes. Only nodes themselves may be changed.\n\n&nbsp;\nExample 1:\n\n\nInput: head = [1,2,3,4]\nOutput: [1,4,2,3]\n\n\nExample 2:\n\n\nInput: head = [1,2,3,4,5]\nOutput: [1,5,2,4,3]\n\n\n&nbsp;\nConstraints:\n\n\n\tThe number of nodes in the list is in the range [1, 5 * 104].\n\t1 <= Node.val <= 1000\n\n"
      ]
    },
    {
      "cell_type": "markdown",
      "metadata": {},
      "source": [
        "## Clarifying Questions",
        "",
        "1. **What should we do if the linked list is empty or contains only one node?**  \n   (This clarifies how to handle edge cases with minimal input.)\n\n2. **Are there any constraints on the values of the nodes beyond the given range (1 to 1000)?**  \n   (This helps to understand if there are any additional assumptions about the node values.)\n\n3. **Can we assume that the input linked list is always valid and well-formed?**  \n   (This addresses whether we need to handle any potential invalid inputs or corrupted lists.)\n\n4. **What is the expected time and space complexity for the solution?**  \n   (This clarifies performance requirements and helps guide the approach to the problem.)\n\n5. **Is it acceptable to use extra space for a new linked list, or must we perform the reordering in place?**  \n   (This question focuses on whether the solution can utilize additional data structures or must strictly modify the existing list.)"
      ]
    },
    {
      "cell_type": "markdown",
      "metadata": {},
      "source": [
        "## Test Edge Cases",
        "",
        "Here are 8 important test edge cases to consider for the \"Reorder List\" problem:\n\n1. **Empty List**:\n   - **Input**: `head = []`\n   - **Description**: Test the behavior of the function when the input linked list is empty. This checks if the function can handle a null or empty input gracefully.\n\n2. **Single Element List**:\n   - **Input**: `head = [1]`\n   - **Description**: A linked list with only one node. This tests if the function can handle the smallest non-empty input without modification.\n\n3. **Two Element List**:\n   - **Input**: `head = [1, 2]`\n   - **Description**: A linked list with two nodes. This checks if the function can correctly reorder a very small list, which should remain the same.\n\n4. **Three Element List**:\n   - **Input**: `head = [1, 2, 3]`\n   - **Description**: A linked list with three nodes. This tests the function's ability to reorder a list with an odd number of elements.\n\n5. **Even Number of Elements**:\n   - **Input**: `head = [1, 2, 3, 4, 5, 6]`\n   - **Description**: A linked list with six nodes. This checks if the function can handle and correctly reorder a list with an even number of elements.\n\n6. **Maximum Size List**:\n   - **Input**: `head = [1, 2, ..., 50000]` (a list of 50,000 nodes)\n   - **Description**: A performance test with the maximum number of nodes allowed. This checks if the function can handle large inputs efficiently without performance degradation.\n\n7. **List with Duplicate Values**:\n   - **Input**: `head = [1, 2, 2, 3, 3, 4]`\n   - **Description**: A linked list with duplicate values. This tests if the function can correctly reorder a list while maintaining the integrity of the values.\n\n8. **List with Maximum Node Values**:\n   - **Input**: `head = [1000, 999, 998, ..., 1]` (a list of 1000 nodes in descending order)\n   - **Description**: A linked list where node values are at their maximum limit. This checks if the function can handle the upper limit of node values correctly.\n\nThese test cases cover a variety of scenarios, including edge cases for empty and single-element lists, performance testing for large inputs, and handling of duplicates and maximum values."
      ]
    },
    {
      "cell_type": "markdown",
      "metadata": {},
      "source": [
        "To solve the \"Reorder List\" problem, we need to rearrange the nodes of a singly linked list in a specific pattern without modifying the values of the nodes. The goal is to reorder the list in the following manner: ",
        "",
        "Given a list represented as L0 → L1 → ... → Ln, we want to transform it into:",
        "L0 → Ln → L1 → Ln-1 → L2 → Ln-2 → ...",
        "",
        "### Approach",
        "",
        "1. **Find the Middle of the List**: ",
        "   - Use the fast and slow pointer technique to find the middle of the list. The slow pointer moves one step at a time, while the fast pointer moves two steps. When the fast pointer reaches the end of the list, the slow pointer will be at the middle.",
        "",
        "2. **Reverse the Second Half of the List**:",
        "   - Once we find the middle, we separate the list into two halves. The second half needs to be reversed to facilitate the reordering.",
        "",
        "3. **Merge the Two Halves**:",
        "   - With the first half and the reversed second half, we can merge the two lists in the required order. We will alternately select nodes from the first and second halves until we have reordered the entire list.",
        "",
        "### Python Code Solution",
        "",
        "Below is the Python code that implements the above approach:"
      ]
    },
    {
      "cell_type": "code",
      "execution_count": null,
      "metadata": {},
      "outputs": [],
      "source": [
        "class ListNode:",
        "    def __init__(self, val=0, next=None):",
        "        self.val = val",
        "        self.next = next",
        "",
        "def reorderList(head):",
        "    if not head or not head.next:",
        "        return",
        "",
        "    # Step 1: Find the middle of the linked list",
        "    slow, fast = head, head",
        "    while fast and fast.next:",
        "        slow = slow.next",
        "        fast = fast.next.next",
        "",
        "    # Step 2: Reverse the second half of the linked list",
        "    prev = None",
        "    curr = slow",
        "    while curr:",
        "        next_temp = curr.next  # Store the next node",
        "        curr.next = prev       # Reverse the link",
        "        prev = curr            # Move prev to current",
        "        curr = next_temp       # Proceed to the next node",
        "",
        "    # At this point, prev is the head of the reversed second half",
        "    second_half = prev",
        "    first_half = head",
        "",
        "    # Step 3: Merge the two halves",
        "    while second_half:",
        "        # Store the next nodes",
        "        temp1 = first_half.next",
        "        temp2 = second_half.next",
        "",
        "        # Rearrange pointers",
        "        first_half.next = second_half",
        "        second_half.next = temp1",
        "",
        "        # Move to the next nodes",
        "        first_half = temp1",
        "        second_half = temp2"
      ]
    },
    {
      "cell_type": "markdown",
      "metadata": {},
      "source": [
        "### Explanation of the Code",
        "",
        "- **ListNode Class**: This class defines the structure of a node in the linked list.",
        "- **reorderList Function**: This function takes the head of the linked list and performs the reordering.",
        "  - It first checks if the list is empty or has only one element.",
        "  - It finds the middle of the list using a slow and fast pointer.",
        "  - It reverses the second half of the list.",
        "  - Finally, it merges the two halves in the required order.",
        "",
        "### Time and Space Complexity Analysis",
        "",
        "- **Time Complexity**: O(n), where n is the number of nodes in the linked list. We traverse the list a constant number of times (finding the middle, reversing the second half, and merging).",
        "  ",
        "- **Space Complexity**: O(1). We are using a constant amount of extra space, as we are only using pointers to manipulate the list in place.",
        "",
        "In conclusion, this approach efficiently reorders the linked list as required by leveraging the properties of linked lists and pointer manipulation without modifying node values."
      ]
    },
    {
      "cell_type": "markdown",
      "metadata": {},
      "source": [
        "---",
        "",
        ""
      ]
    }
  ],
  "metadata": {
    "kernelspec": {
      "display_name": "Python 3",
      "language": "python",
      "name": "python3"
    },
    "language_info": {
      "name": "python",
      "version": "3.8.0"
    }
  },
  "nbformat": 4,
  "nbformat_minor": 4
}