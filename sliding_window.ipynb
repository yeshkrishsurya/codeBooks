{
  "cells": [
    {
      "cell_type": "markdown",
      "metadata": {},
      "source": [
        "# Longest Substring Without Repeating Characters (#3)\n",
        "\n",
        "**Difficulty:** Medium  \n",
        "**Date:** 2025-07-31 18:02:43  \n",
        "**URL:** https://leetcode.com/problems/longest-substring-without-repeating-characters/\n",
        "\n",
        "---"
      ]
    },
    {
      "cell_type": "markdown",
      "metadata": {},
      "source": [
        "## Problem Description\n",
        "\n",
        "Given a string s, find the length of the longest substring without duplicate characters.\n",
        "\n",
        "&nbsp;\n",
        "Example 1:\n",
        "\n",
        "\n",
        "Input: s = &quot;abcabcbb&quot;\n",
        "Output: 3\n",
        "Explanation: The answer is &quot;abc&quot;, with the length of 3.\n",
        "\n",
        "\n",
        "Example 2:\n",
        "\n",
        "\n",
        "Input: s = &quot;bbbbb&quot;\n",
        "Output: 1\n",
        "Explanation: The answer is &quot;b&quot;, with the length of 1.\n",
        "\n",
        "\n",
        "Example 3:\n",
        "\n",
        "\n",
        "Input: s = &quot;pwwkew&quot;\n",
        "Output: 3\n",
        "Explanation: The answer is &quot;wke&quot;, with the length of 3.\n",
        "Notice that the answer must be a substring, &quot;pwke&quot; is a subsequence and not a substring.\n",
        "\n",
        "\n",
        "&nbsp;\n",
        "Constraints:\n",
        "\n",
        "\n",
        "\t0 <= s.length <= 5 * 104\n",
        "\ts consists of English letters, digits, symbols and spaces."
      ]
    },
    {
      "cell_type": "markdown",
      "metadata": {},
      "source": [
        "**Retrieved from database (Generated: 2025-07-31 17:56:05)**\n",
        "\n",
        "To solve the problem of finding the length of the longest substring without repeating characters, we can use the sliding window technique combined with a hash map (or a dictionary in Python). Here’s a clear step-by-step explanation of the approach.\n",
        "\n",
        "### Explanation of the Approach\n",
        "\n",
        "1. **Sliding Window Technique**: This technique helps in managing a substring efficiently. We can maintain two pointers (or indices) that represent the start and end of the current substring we are examining.\n",
        "\n",
        "2. **Hash Map**: We can use a hash map to store the last index of each character we encounter. This will help us quickly check if a character has already been seen and if it is within the current window.\n",
        "\n",
        "3. **Iterate through the string**:\n",
        "   - Start with both pointers at the beginning of the string.\n",
        "   - For each character, check if it is already in the hash map and whether its last recorded index is within the current window.\n",
        "   - If it is, move the start pointer to the right of the last occurrence of that character.\n",
        "   - Update the last index of the character in the hash map.\n",
        "   - Calculate the current length of the substring and update the maximum length found so far.\n",
        "\n",
        "4. **Result**: After processing all characters, the maximum length will be the answer.\n",
        "\n",
        "### Python Code Solution\n",
        "\n",
        "Here's the implementation in Python with detailed comments:"
      ]
    },
    {
      "cell_type": "code",
      "execution_count": null,
      "metadata": {},
      "outputs": [],
      "source": [
        "def length_of_longest_substring(s: str) -> int:\n",
        "    char_index_map = {}  # Dictionary to store the last index of each character\n",
        "    max_length = 0       # Variable to track the maximum length found\n",
        "    start = 0            # Left pointer for the sliding window\n",
        "\n",
        "    # Iterate over each character in the string with its index\n",
        "    for end in range(len(s)):\n",
        "        current_char = s[end]\n",
        "\n",
        "        # If the character is already in the hash map and its index is within the current window\n",
        "        if current_char in char_index_map and char_index_map[current_char] >= start:\n",
        "            # Move the start pointer to the right of the last occurrence of the current character\n",
        "            start = char_index_map[current_char] + 1\n",
        "\n",
        "        # Update the last index of the current character\n",
        "        char_index_map[current_char] = end\n",
        "\n",
        "        # Calculate the length of the current substring\n",
        "        current_length = end - start + 1\n",
        "        \n",
        "        # Update the maximum length if we found a longer substring\n",
        "        max_length = max(max_length, current_length)\n",
        "\n",
        "    return max_length\n",
        "\n",
        "# Example usage\n",
        "print(length_of_longest_substring(\"abcabcbb\"))  # Output: 3\n",
        "print(length_of_longest_substring(\"bbbbb\"))     # Output: 1\n",
        "print(length_of_longest_substring(\"pwwkew\"))    # Output: 3"
      ]
    },
    {
      "cell_type": "markdown",
      "metadata": {},
      "source": [
        "### Time and Space Complexity Analysis\n",
        "\n",
        "- **Time Complexity**: O(n), where n is the length of the string. We traverse the string once, and each character is processed at most twice (once when we expand the window and once when we contract it).\n",
        "\n",
        "- **Space Complexity**: O(min(n, m)), where n is the length of the string and m is the size of the character set (e.g., 26 for lowercase letters, 52 for uppercase and lowercase, etc.). In the worst case, we may store all unique characters in the hash map.\n",
        "\n",
        "This approach efficiently finds the length of the longest substring without repeating characters using a linear traversal and a hash map to track character indices."
      ]
    },
    {
      "cell_type": "markdown",
      "metadata": {},
      "source": [
        "# Substring with Concatenation of All Words (#30)",
        "",
        "**Difficulty:** Hard  ",
        "**Date:** 2025-08-01 01:10:55  ",
        "**URL:** https://leetcode.com/problems/substring-with-concatenation-of-all-words/",
        "",
        "---"
      ]
    },
    {
      "cell_type": "markdown",
      "metadata": {},
      "source": [
        "## Problem Description",
        "",
        "You are given a string s and an array of strings words. All the strings of words are of the same length.\n\nA concatenated string is a string that exactly contains all the strings of any permutation of words concatenated.\n\n\n\tFor example, if words = [&quot;ab&quot;,&quot;cd&quot;,&quot;ef&quot;], then &quot;abcdef&quot;, &quot;abefcd&quot;, &quot;cdabef&quot;, &quot;cdefab&quot;, &quot;efabcd&quot;, and &quot;efcdab&quot; are all concatenated strings. &quot;acdbef&quot; is not a concatenated string because it is not the concatenation of any permutation of words.\n\n\nReturn an array of the starting indices of all the concatenated substrings in s. You can return the answer in any order.\n\n&nbsp;\nExample 1:\n\n\nInput: s = &quot;barfoothefoobarman&quot;, words = [&quot;foo&quot;,&quot;bar&quot;]\n\nOutput: [0,9]\n\nExplanation:\n\nThe substring starting at 0 is &quot;barfoo&quot;. It is the concatenation of [&quot;bar&quot;,&quot;foo&quot;] which is a permutation of words.\nThe substring starting at 9 is &quot;foobar&quot;. It is the concatenation of [&quot;foo&quot;,&quot;bar&quot;] which is a permutation of words.\n\n\nExample 2:\n\n\nInput: s = &quot;wordgoodgoodgoodbestword&quot;, words = [&quot;word&quot;,&quot;good&quot;,&quot;best&quot;,&quot;word&quot;]\n\nOutput: []\n\nExplanation:\n\nThere is no concatenated substring.\n\n\nExample 3:\n\n\nInput: s = &quot;barfoofoobarthefoobarman&quot;, words = [&quot;bar&quot;,&quot;foo&quot;,&quot;the&quot;]\n\nOutput: [6,9,12]\n\nExplanation:\n\nThe substring starting at 6 is &quot;foobarthe&quot;. It is the concatenation of [&quot;foo&quot;,&quot;bar&quot;,&quot;the&quot;].\nThe substring starting at 9 is &quot;barthefoo&quot;. It is the concatenation of [&quot;bar&quot;,&quot;the&quot;,&quot;foo&quot;].\nThe substring starting at 12 is &quot;thefoobar&quot;. It is the concatenation of [&quot;the&quot;,&quot;foo&quot;,&quot;bar&quot;].\n\n\n&nbsp;\nConstraints:\n\n\n\t1 <= s.length <= 104\n\t1 <= words.length <= 5000\n\t1 <= words[i].length <= 30\n\ts and words[i] consist of lowercase English letters.\n\n"
      ]
    },
    {
      "cell_type": "markdown",
      "metadata": {},
      "source": [
        "## Clarifying Questions",
        "",
        "1. **What is the minimum and maximum length of the string `s` and the strings in the `words` array? Are there any specific edge cases we should consider, such as empty strings or arrays?**\n\n2. **Are all the strings in the `words` array guaranteed to be of the same length, and what happens if there are duplicate words in the array? Should we treat them as distinct or identical?**\n\n3. **Can the output indices be returned in any order, or do they need to be sorted? Is there a specific format for the output that we need to adhere to?**\n\n4. **What should we do if there are no valid concatenated substrings found in `s`? Is returning an empty array the expected behavior?**\n\n5. **Are there any performance constraints we should be aware of, especially considering the maximum lengths of `s` and `words`? What is the expected time complexity for a solution to this problem?**"
      ]
    },
    {
      "cell_type": "markdown",
      "metadata": {},
      "source": [
        "## Test Edge Cases",
        "",
        "Here are 8 important test edge cases to consider when solving the \"Substring with Concatenation of All Words\" problem:\n\n1. **Empty String and Words**:\n   - **Input**: `s = \"\"`, `words = []`\n   - **Description**: Tests the behavior when both the string and the list of words are empty. The expected output should be an empty list.\n\n2. **Single Word and Single Character String**:\n   - **Input**: `s = \"a\"`, `words = [\"a\"]`\n   - **Description**: Tests the simplest case where the string is a single character and matches the single word in the list. The expected output should be `[0]`.\n\n3. **Single Word Not Present**:\n   - **Input**: `s = \"b\"`, `words = [\"a\"]`\n   - **Description**: Tests the case where the string does not contain the word. The expected output should be an empty list.\n\n4. **Multiple Words with Duplicates**:\n   - **Input**: `s = \"barfoofoobarthefoobarman\"`, `words = [\"bar\", \"foo\", \"the\", \"bar\"]`\n   - **Description**: Tests the case where the list of words contains duplicates. The expected output should be `[6, 9, 12]` since the duplicates should still be counted correctly.\n\n5. **Maximum Length String and Words**:\n   - **Input**: `s = \"a\" * 10000`, `words = [\"a\"] * 5000`\n   - **Description**: Tests the performance and correctness with maximum constraints. The expected output should be a list of starting indices where each \"a\" can start a valid substring.\n\n6. **Words Longer than String**:\n   - **Input**: `s = \"abc\"`, `words = [\"abcd\", \"efg\"]`\n   - **Description**: Tests the case where the words are longer than the input string. The expected output should be an empty list since no concatenation can occur.\n\n7. **Non-Overlapping Concatenations**:\n   - **Input**: `s = \"barfoobarthefoobarman\"`, `words = [\"bar\", \"foo\", \"the\"]`\n   - **Description**: Tests the case where valid concatenations do not overlap. The expected output should be `[6, 9, 12]` as there are distinct starting points for valid concatenations.\n\n8. **All Words Are the Same**:\n   - **Input**: `s = \"aaaaaa\"`, `words = [\"aa\", \"aa\", \"aa\"]`\n   - **Description**: Tests the case where all words are the same and can form multiple valid concatenations. The expected output should be a list of starting indices where valid concatenations can be formed, e.g"
      ]
    },
    {
      "cell_type": "markdown",
      "metadata": {},
      "source": [
        "### Approach Explanation",
        "",
        "To solve the problem of finding starting indices of substrings in `s` that are concatenations of all words in the `words` array, we can use a sliding window approach combined with a hashmap (dictionary in Python) to keep track of the words we are looking for.",
        "",
        "Here are the steps to accomplish this:",
        "",
        "1. **Input Validation**: Check if the input string `s` or the list of words `words` is empty. If so, return an empty list.",
        "",
        "2. **Initialization**:",
        "   - Calculate the length of each word (which are all the same).",
        "   - Determine the total length of all the words combined.",
        "   - Create a hashmap (dictionary) to count occurrences of each word in the `words` array.",
        "",
        "3. **Sliding Window**:",
        "   - Iterate over the string `s` using a sliding window of size equal to the total length of the concatenated words.",
        "   - For each starting index, use another hashmap to track the words found in the current window.",
        "   - Check if the words in the current window match the counts of words in the `words` list.",
        "",
        "4. **Matching**:",
        "   - If the counts match, record the starting index.",
        "",
        "5. **Return Results**: Finally, return the list of starting indices.",
        "",
        "### Python Code Solution",
        "",
        "Here's how we can implement the above approach in Python:"
      ]
    },
    {
      "cell_type": "code",
      "execution_count": null,
      "metadata": {},
      "outputs": [],
      "source": [
        "def findSubstring(s, words):",
        "    if not s or not words:",
        "        return []",
        "",
        "    # Length of each word and number of words",
        "    word_length = len(words[0])",
        "    num_words = len(words)",
        "    total_length = word_length * num_words",
        "",
        "    # Create a frequency map for the words",
        "    word_count = {}",
        "    for word in words:",
        "        if word in word_count:",
        "            word_count[word] += 1",
        "        else:",
        "            word_count[word] = 1",
        "",
        "    # Resultant indices",
        "    result_indices = []",
        "",
        "    # Loop through the string",
        "    for i in range(len(s) - total_length + 1):",
        "        # Current substring",
        "        substring = s[i:i + total_length]",
        "        word_found = {}",
        "",
        "        # Split the substring into words",
        "        for j in range(0, total_length, word_length):",
        "            word = substring[j:j + word_length]",
        "",
        "            # Check if the word is in the words list",
        "            if word in word_count:",
        "                if word in word_found:",
        "                    word_found[word] += 1",
        "                else:",
        "                    word_found[word] = 1",
        "",
        "                # If the count exceeds, break early",
        "                if word_found[word] > word_count[word]:",
        "                    break",
        "            else:",
        "                break",
        "        else:",
        "            # If we finish the loop without breaking, we found a valid substring",
        "            result_indices.append(i)",
        "",
        "    return result_indices"
      ]
    },
    {
      "cell_type": "markdown",
      "metadata": {},
      "source": [
        "### Time and Space Complexity Analysis",
        "",
        "- **Time Complexity**: \\(O(n \\times m)\\)",
        "  - Here, \\(n\\) is the length of the string `s`, and \\(m\\) is the number of words multiplied by the length of each word (which is constant). We are iterating through the string and processing each substring of size equal to the total length of concatenated words.",
        "  ",
        "- **Space Complexity**: \\(O(k)\\)",
        "  - Where \\(k\\) is the number of unique words in the `words` list (for the hashmap). In the worst case, it could be \\(O(w)\\) where \\(w\\) is the number of words if all are unique.",
        "",
        "This solution efficiently checks for concatenated substrings while maintaining clarity and conciseness."
      ]
    },
    {
      "cell_type": "markdown",
      "metadata": {},
      "source": [
        "---",
        "",
        ""
      ]
    },
    {
      "cell_type": "markdown",
      "metadata": {},
      "source": [
        "# Maximum Sum of 3 Non-Overlapping Subarrays (#689)",
        "",
        "**Difficulty:** Hard  ",
        "**Date:** 2025-08-02 17:09:29  ",
        "**URL:** https://leetcode.com/problems/maximum-sum-of-3-non-overlapping-subarrays/",
        "",
        "---"
      ]
    },
    {
      "cell_type": "markdown",
      "metadata": {},
      "source": [
        "## Problem Description",
        "",
        "Given an integer array nums and an integer k, find three non-overlapping subarrays of length k with maximum sum and return them.\n\nReturn the result as a list of indices representing the starting position of each interval (0-indexed). If there are multiple answers, return the lexicographically smallest one.\n\n&nbsp;\nExample 1:\n\n\nInput: nums = [1,2,1,2,6,7,5,1], k = 2\nOutput: [0,3,5]\nExplanation: Subarrays [1, 2], [2, 6], [7, 5] correspond to the starting indices [0, 3, 5].\nWe could have also taken [2, 1], but an answer of [1, 3, 5] would be lexicographically larger.\n\n\nExample 2:\n\n\nInput: nums = [1,2,1,2,1,2,1,2,1], k = 2\nOutput: [0,2,4]\n\n\n&nbsp;\nConstraints:\n\n\n\t1 <= nums.length <= 2 * 104\n\t1 <= nums[i] <&nbsp;216\n\t1 <= k <= floor(nums.length / 3)\n\n"
      ]
    },
    {
      "cell_type": "markdown",
      "metadata": {},
      "source": [
        "## Clarifying Questions",
        "",
        "1. **What should we do if the length of the array `nums` is less than `3 * k`?** This will help clarify how to handle cases where it's impossible to find three non-overlapping subarrays of length `k`.\n\n2. **Are there any specific constraints on the values in the array `nums` beyond the given range?** This question aims to confirm if there are any additional assumptions about the data, such as whether all values are positive or if duplicates are allowed.\n\n3. **How should we handle cases where multiple sets of indices yield the same maximum sum?** This question seeks clarification on the requirement for the lexicographically smallest answer in cases of ties.\n\n4. **Is it guaranteed that `k` will always be a valid input according to the constraints provided (i.e., `1 <= k <= floor(nums.length / 3)`)?** This will help ensure that the input will always allow for three non-overlapping subarrays to be formed.\n\n5. **What is the expected output format for the indices?** Specifically, should the output be a list of integers, and is there any specific requirement regarding the order of the indices in the output?"
      ]
    },
    {
      "cell_type": "markdown",
      "metadata": {},
      "source": [
        "## Test Edge Cases",
        "",
        "Here are 8 important test edge cases to consider for the \"Maximum Sum of 3 Non-Overlapping Subarrays\" problem:\n\n1. **Minimum Input Size**:\n   - Input: `nums = [1]`, `k = 1`\n   - Description: The smallest possible input size. This tests how the function handles the minimum constraints.\n\n2. **All Elements Identical**:\n   - Input: `nums = [5, 5, 5, 5, 5, 5]`, `k = 2`\n   - Description: All elements are the same. This checks if the function can correctly identify multiple valid subarrays and return the lexicographically smallest indices.\n\n3. **Maximum Input Size**:\n   - Input: `nums = [1, 2, 3, ..., 20000]`, `k = 6666`\n   - Description: Tests the performance of the solution with the upper limit of constraints. It checks if the function can handle large inputs efficiently.\n\n4. **Negative and Positive Values**:\n   - Input: `nums = [-1, 2, 3, -4, 5, 6, 7, -8, 9]`, `k = 2`\n   - Description: This case includes both negative and positive numbers. It tests if the function can correctly identify the maximum sum subarrays despite the presence of negative values.\n\n5. **Multiple Maximum Sums**:\n   - Input: `nums = [1, 2, 3, 1, 2, 3, 1, 2, 3]`, `k = 3`\n   - Description: There are multiple combinations of subarrays that yield the same maximum sum. This checks if the function returns the lexicographically smallest indices.\n\n6. **Subarrays at the Edges**:\n   - Input: `nums = [10, 1, 1, 10, 1, 10, 10]`, `k = 2`\n   - Description: Tests a scenario where the maximum sum subarrays are located at the edges of the array. This ensures that the function correctly identifies non-overlapping subarrays that maximize the sum.\n\n7. **Zero Values in Array**:\n   - Input: `nums = [0, 0, 0, 0, 0, 0, 0]`, `k = 2`\n   - Description: All elements are zero. This tests if the function can handle cases where the maximum sum is zero and still return valid indices.\n\n8. **Consecutive Increasing and Decreasing Values**:\n   - Input: `nums = [1, 3, 5, 7, 6, 4, 2, 0]`, `k = 3`\n   - Description: This case tests the function's ability to handle a mix of increasing and decreasing"
      ]
    },
    {
      "cell_type": "markdown",
      "metadata": {},
      "source": [
        "### Approach Explanation:",
        "",
        "To solve the problem of finding three non-overlapping subarrays of length `k` with the maximum sum, we can break down the problem into a few key steps:",
        "",
        "1. **Calculate Subarray Sums**: First, we need to calculate the sums of all possible subarrays of length `k`. This can be efficiently done using a sliding window technique.",
        "",
        "2. **Store Maximum Sums**: Once we have the sums, we can store the maximum sum for the first and second subarrays at each position. This means we will maintain two arrays:",
        "    - `max_left[i]`: The maximum sum of any subarray ending at or before index `i` and its starting index.",
        "    - `max_right[i]`: The maximum sum of any subarray starting at or after index `i`.",
        "",
        "3. **Iterate for Maximum Combination**: Finally, we will iterate through the possible starting index for the last subarray and use the `max_left` and `max_right` arrays to find the combination of three subarrays that yields the maximum sum. During this process, we also ensure that the chosen indices are lexicographically smallest.",
        "",
        "### Python Code Solution:",
        "",
        "Here’s the complete code with explanations in comments:"
      ]
    },
    {
      "cell_type": "code",
      "execution_count": null,
      "metadata": {},
      "outputs": [],
      "source": [
        "def maxSumOfThreeSubarrays(nums, k):",
        "    n = len(nums)",
        "    ",
        "    # Step 1: Calculate the sums of all subarrays of length k",
        "    subarray_sum = [0] * (n - k + 1)",
        "    current_sum = sum(nums[:k])",
        "    subarray_sum[0] = current_sum",
        "    ",
        "    for i in range(1, n - k + 1):",
        "        current_sum += nums[i + k - 1] - nums[i - 1]",
        "        subarray_sum[i] = current_sum",
        "",
        "    # Step 2: Create max_left to store max sum and starting index",
        "    max_left = [0] * (n - k + 1)",
        "    max_left_index = [0] * (n - k + 1)",
        "    max_left[0] = subarray_sum[0]",
        "    max_left_index[0] = 0",
        "",
        "    for i in range(1, n - k + 1):",
        "        if subarray_sum[i] > max_left[i - 1]:",
        "            max_left[i] = subarray_sum[i]",
        "            max_left_index[i] = i",
        "        else:",
        "            max_left[i] = max_left[i - 1]",
        "            max_left_index[i] = max_left_index[i - 1]",
        "",
        "    # Step 3: Create max_right to store max sum and starting index",
        "    max_right = [0] * (n - k + 1)",
        "    max_right_index = [0] * (n - k + 1)",
        "    max_right[n - k] = subarray_sum[n - k]",
        "    max_right_index[n - k] = n - k",
        "",
        "    for i in range(n - k - 1, -1, -1):",
        "        if subarray_sum[i] >= max_right[i + 1]:  # Use >= to ensure lexicographically smallest",
        "            max_right[i] = subarray_sum[i]",
        "            max_right_index[i] = i",
        "        else:",
        "            max_right[i] = max_right[i + 1]",
        "            max_right_index[i] = max_right_index[i + 1]",
        "",
        "    # Step 4: Find the best combination of three subarrays",
        "    max_total_sum = 0",
        "    result_indices = []",
        "",
        "    for i in range(k, n - 2 * k + 1):  # i is the starting index of the third subarray",
        "        left_index = max_left_index[i - k]  # Best left subarray before i",
        "        right_index = max_right_index[i + k]  # Best right subarray after i",
        "        ",
        "        total_sum = subarray_sum[left_index] + subarray_sum[i] + subarray_sum[right_index]",
        "        ",
        "        if total_sum > max_total_sum:",
        "            max_total_sum = total_sum",
        "            result_indices = [left_index, i, right_index]",
        "        elif total_sum == max_total_sum:",
        "            # Check lexicographically smaller",
        "            if [left_index, i, right_index] < result_indices:",
        "                result_indices = [left_index, i, right_index]",
        "",
        "    return result_indices"
      ]
    },
    {
      "cell_type": "markdown",
      "metadata": {},
      "source": [
        "### Time and Space Complexity Analysis:",
        "",
        "- **Time Complexity**: The overall time complexity of this solution is O(n). The main operations include calculating the subarray sums, filling the `max_left` and `max_right` arrays, and iterating through the possible indices for the third subarray, all of which are linear in relation to the size of the input array `nums`.",
        "",
        "- **Space Complexity**: The space complexity is O(n) due to the additional arrays `subarray_sum`, `max_left`, `max_left_index`, `max_right`, and `max_right_index` which store intermediate results."
      ]
    },
    {
      "cell_type": "markdown",
      "metadata": {},
      "source": [
        "---",
        "",
        ""
      ]
    },
    {
      "cell_type": "markdown",
      "metadata": {},
      "source": [
        "# Subarray Product Less Than K (#713)",
        "",
        "**Difficulty:** Medium  ",
        "**Date:** 2025-08-02 22:35:36  ",
        "**URL:** https://leetcode.com/problems/subarray-product-less-than-k/",
        "",
        "---"
      ]
    },
    {
      "cell_type": "markdown",
      "metadata": {},
      "source": [
        "## Problem Description",
        "",
        "Given an array of integers nums and an integer k, return the number of contiguous subarrays where the product of all the elements in the subarray is strictly less than k.\n\n&nbsp;\nExample 1:\n\n\nInput: nums = [10,5,2,6], k = 100\nOutput: 8\nExplanation: The 8 subarrays that have product less than 100 are:\n[10], [5], [2], [6], [10, 5], [5, 2], [2, 6], [5, 2, 6]\nNote that [10, 5, 2] is not included as the product of 100 is not strictly less than k.\n\n\nExample 2:\n\n\nInput: nums = [1,2,3], k = 0\nOutput: 0\n\n\n&nbsp;\nConstraints:\n\n\n\t1 <= nums.length <= 3 * 104\n\t1 <= nums[i] <= 1000\n\t0 <= k <= 106\n\n"
      ]
    },
    {
      "cell_type": "markdown",
      "metadata": {},
      "source": [
        "## Clarifying Questions",
        "",
        "1. Are there any specific constraints or edge cases regarding the value of `k`, such as what should happen if `k` is less than or equal to 1, or if `k` is equal to the product of the entire array?\n\n2. Should we consider empty subarrays in our count, or are we only counting non-empty contiguous subarrays?\n\n3. Can the input array `nums` contain negative numbers, or is it guaranteed to only contain positive integers as stated in the constraints?\n\n4. What is the expected output format? Should we return just the count of valid subarrays, or is there any additional information required in the output?\n\n5. Given the constraints on the size of the input array (up to 30,000 elements), what are the performance expectations for the solution in terms of time complexity? Is a solution with O(n) time complexity acceptable?"
      ]
    },
    {
      "cell_type": "markdown",
      "metadata": {},
      "source": [
        "## Test Edge Cases",
        "",
        "Here are 8 important test edge cases to consider for the \"Subarray Product Less Than K\" problem:\n\n1. **Empty Array**:\n   - Input: `nums = [], k = 5`\n   - Description: Tests the behavior of the function when the input array is empty. The expected output should be `0` since there are no subarrays.\n\n2. **Single Element Less Than k**:\n   - Input: `nums = [3], k = 5`\n   - Description: Tests the simplest case where the array contains a single element that is less than `k`. The expected output should be `1`, as the single element forms a valid subarray.\n\n3. **Single Element Greater Than or Equal to k**:\n   - Input: `nums = [7], k = 5`\n   - Description: Tests the case where the single element is greater than `k`. The expected output should be `0`, as there are no valid subarrays.\n\n4. **All Elements Greater Than k**:\n   - Input: `nums = [10, 20, 30], k = 5`\n   - Description: Tests the scenario where all elements in the array are greater than `k`. The expected output should be `0`, as no subarray can have a product less than `k`.\n\n5. **Array with Zero**:\n   - Input: `nums = [1, 2, 0, 3], k = 5`\n   - Description: Tests the behavior when the array contains a zero, which will reset the product. The expected output should be `7`, as the subarrays that include `0` will have a product of `0`.\n\n6. **Array with Duplicates**:\n   - Input: `nums = [2, 2, 2], k = 8`\n   - Description: Tests how the function handles duplicate values. The expected output should be `7`, as the valid subarrays are `[2]`, `[2]`, `[2]`, `[2, 2]`, `[2, 2]`, `[2, 2]`, and `[2, 2, 2]`.\n\n7. **Large Array with Maximum Size**:\n   - Input: `nums = [1] * (3 * 10**4), k = 100`\n   - Description: Tests the performance of the function with the maximum allowed size of the input array, where all elements are `1`. The expected output should be `450000000`, since every subarray will have a product of `1`, which is less than `100`.\n\n8. **Mixed Values with k Equal to Product of Subarray**:\n   - Input: `nums = [1, 2, 3, 4], k = 24`\n   - Description: Tests the case where the product of the entire array is equal to `k`. The expected"
      ]
    },
    {
      "cell_type": "markdown",
      "metadata": {},
      "source": [
        "To tackle the \"Subarray Product Less Than K\" problem, we can use a two-pointer (or sliding window) technique to efficiently count the number of contiguous subarrays whose product is less than a given integer \\( k \\). Here's a breakdown of the approach:",
        "",
        "### Approach Explanation",
        "",
        "1. **Initialization**: We will keep track of two pointers: `left` and `right`, which represent the current bounds of the subarray. We'll also maintain a variable `product` to hold the product of the elements in the current window/subarray.",
        "",
        "2. **Expand the Window**: We will iterate through the array with the `right` pointer. For each `right` index, we multiply the `product` by the current element `nums[right]`.",
        "",
        "3. **Shrink the Window**: If at any point the `product` is greater than or equal to \\( k \\), we will move the `left` pointer to the right until the `product` is less than \\( k \\). This step ensures that we only consider valid subarrays.",
        "",
        "4. **Count Valid Subarrays**: For each position of `right`, if the `product` is valid (i.e., less than \\( k \\)), then all subarrays that end at `right` and start anywhere between `left` and `right` are valid. The number of such subarrays is given by `(right - left + 1)`.",
        "",
        "5. **Return the Count**: After processing all elements, we return the total count of valid subarrays.",
        "",
        "### Python Code Solution",
        "",
        "Here's the implementation of the described approach:"
      ]
    },
    {
      "cell_type": "code",
      "execution_count": null,
      "metadata": {},
      "outputs": [],
      "source": [
        "def numSubarrayProductLessThanK(nums, k):",
        "    # Edge case: if k is 0, no products can be less than 0",
        "    if k <= 1:",
        "        return 0",
        "    ",
        "    left = 0              # Left pointer for the sliding window",
        "    product = 1           # Current product of the window",
        "    count = 0             # Count of valid subarrays",
        "    ",
        "    # Iterate over each element with the right pointer",
        "    for right in range(len(nums)):",
        "        product *= nums[right]  # Expand the window by including nums[right]",
        "        ",
        "        # Shrink the window until the product is less than k",
        "        while product >= k:",
        "            product //= nums[left]  # Remove the leftmost element from the product",
        "            left += 1              # Move the left pointer to the right",
        "        ",
        "        # Count the number of valid subarrays ending at 'right'",
        "        count += (right - left + 1)",
        "    ",
        "    return count",
        "",
        "# Example usage",
        "print(numSubarrayProductLessThanK([10, 5, 2, 6], 100))  # Output: 8",
        "print(numSubarrayProductLessThanK([1, 2, 3], 0))        # Output: 0"
      ]
    },
    {
      "cell_type": "markdown",
      "metadata": {},
      "source": [
        "### Time and Space Complexity Analysis",
        "",
        "- **Time Complexity**: The algorithm runs in \\( O(n) \\), where \\( n \\) is the length of the input array `nums`. Each element is processed at most twice (once by the `right` pointer and once by the `left` pointer), leading to linear time complexity.",
        "",
        "- **Space Complexity**: The space complexity is \\( O(1) \\) since we are using a constant amount of extra space (variables for `left`, `product`, and `count`). We are not using any additional data structures that grow with the input size.",
        "",
        "This approach efficiently counts the number of contiguous subarrays with products less than \\( k \\) using a sliding window technique, ensuring optimal performance."
      ]
    },
    {
      "cell_type": "markdown",
      "metadata": {},
      "source": [
        "---",
        "",
        ""
      ]
    },
    {
      "cell_type": "markdown",
      "metadata": {},
      "source": [
        "# Shortest Subarray with Sum at Least K (#862)",
        "",
        "**Difficulty:** Hard  ",
        "**Date:** 2025-08-04 23:09:44  ",
        "**URL:** https://leetcode.com/problems/shortest-subarray-with-sum-at-least-k/",
        "",
        "---"
      ]
    },
    {
      "cell_type": "markdown",
      "metadata": {},
      "source": [
        "## Problem Description",
        "",
        "Given an integer array nums and an integer k, return the length of the shortest non-empty subarray of nums with a sum of at least k. If there is no such subarray, return -1.\n\nA subarray is a contiguous part of an array.\n\n&nbsp;\nExample 1:\nInput: nums = [1], k = 1\nOutput: 1\nExample 2:\nInput: nums = [1,2], k = 4\nOutput: -1\nExample 3:\nInput: nums = [2,-1,2], k = 3\nOutput: 3\n\n&nbsp;\nConstraints:\n\n\n\t1 <= nums.length <= 105\n\t-105 <= nums[i] <= 105\n\t1 <= k <= 109\n\n"
      ]
    },
    {
      "cell_type": "markdown",
      "metadata": {},
      "source": [
        "## Clarifying Questions",
        "",
        "1. Are there any specific edge cases we should consider, such as when the array contains all negative numbers or when all elements are less than k?\n\n2. Should we assume that the input array `nums` is always non-empty, or do we need to handle the case where it could be empty?\n\n3. What should the function return if there are multiple subarrays with the same minimum length that meet the sum requirement? Should we return the length of the first one found, or is there a specific preference?\n\n4. Can we assume that the input values for `k` and the elements of `nums` will always be within the specified constraints, or should we handle cases where they might exceed these limits?\n\n5. What is the expected time complexity for the solution, and are there any performance constraints we should be aware of given the maximum size of the input array?"
      ]
    },
    {
      "cell_type": "markdown",
      "metadata": {},
      "source": [
        "## Test Edge Cases",
        "",
        "Here are 8 important test edge cases to consider for the problem \"Shortest Subarray with Sum at Least K\":\n\n1. **Single Element Equal to K**:\n   - Input: `nums = [5], k = 5`\n   - Output: `1`\n   - Description: The simplest case where the single element is exactly equal to k.\n\n2. **Single Element Less than K**:\n   - Input: `nums = [3], k = 5`\n   - Output: `-1`\n   - Description: A single element that is less than k should return -1 since no subarray can meet the requirement.\n\n3. **Multiple Elements with Negative Numbers**:\n   - Input: `nums = [2, -1, 2, -3, 4], k = 3`\n   - Output: `2`\n   - Description: This case tests the ability to find a valid subarray that includes negative numbers.\n\n4. **All Negative Numbers**:\n   - Input: `nums = [-1, -2, -3, -4], k = -5`\n   - Output: `2`\n   - Description: A scenario where all elements are negative, but their sum can still meet the requirement (k is negative).\n\n5. **Large Array with Mixed Values**:\n   - Input: `nums = [1, 2, 3, 4, 5, 6, 7, 8, 9, 10], k = 55`\n   - Output: `10`\n   - Description: A large array where the sum of all elements is required to meet k, testing performance with maximum size.\n\n6. **Array with Duplicates**:\n   - Input: `nums = [1, 1, 1, 1, 1, 1], k = 4`\n   - Output: `4`\n   - Description: A case with duplicates to see if the algorithm can correctly identify the shortest subarray.\n\n7. **Zero Values in Array**:\n   - Input: `nums = [0, 0, 0, 0, 10], k = 10`\n   - Output: `5`\n   - Description: An array that contains zeros and one large number, testing how the algorithm handles zeros.\n\n8. **Performance Edge Case with Maximum Constraints**:\n   - Input: `nums = [1] * 100000, k = 100000`\n   - Output: `100000`\n   - Description: A test case with the maximum allowed size of the array, where all elements are 1, and k is the sum of the entire array, testing performance and efficiency.\n\nThese test cases cover a variety of edge conditions, including boundary cases, special values, and performance considerations."
      ]
    },
    {
      "cell_type": "markdown",
      "metadata": {},
      "source": [
        "To solve the problem of finding the shortest subarray with a sum of at least \\( k \\), we can use a combination of prefix sums and a deque (double-ended queue) to maintain the indices of candidate subarrays efficiently. Here’s a step-by-step breakdown of the approach:",
        "",
        "### 1. Explanation of the Approach",
        "",
        "1. **Prefix Sum Calculation**: ",
        "   - We compute the prefix sum of the array `nums`, which allows us to quickly calculate the sum of any subarray. The prefix sum at index \\( i \\) represents the sum of all elements from the start of the array up to index \\( i \\).",
        "",
        "2. **Using a Deque**:",
        "   - We maintain a deque to store indices of the prefix sums. The elements in this deque will be in increasing order of their prefix sums.",
        "   - For each prefix sum at index \\( i \\), we check if there exists a prefix sum in the deque such that the difference between the current prefix sum and the prefix sum at that index is at least \\( k \\). This would indicate that the subarray between those two indices has a sum of at least \\( k \\).",
        "",
        "3. **Finding the Shortest Subarray**:",
        "   - Whenever we find such a valid prefix sum, we calculate the length of the subarray and update the minimum length found.",
        "   - We also maintain the deque to ensure it only contains relevant indices (removing indices that are no longer useful).",
        "",
        "4. **Returning the Result**:",
        "   - After processing all elements, if we found at least one valid subarray, we return its length; otherwise, we return -1.",
        "",
        "### 2. Python Code Solution",
        "",
        "Here is the Python implementation of the above approach:"
      ]
    },
    {
      "cell_type": "code",
      "execution_count": null,
      "metadata": {},
      "outputs": [],
      "source": [
        "from collections import deque",
        "",
        "def shortestSubarray(nums, k):",
        "    n = len(nums)",
        "    # Step 1: Calculate prefix sums",
        "    prefix_sum = [0] * (n + 1)",
        "    for i in range(n):",
        "        prefix_sum[i + 1] = prefix_sum[i] + nums[i]",
        "    ",
        "    # Step 2: Initialize the deque and the minimum length",
        "    min_length = float('inf')  # To track the minimum subarray length",
        "    dq = deque()  # To store indices of prefix sums",
        "    ",
        "    # Step 3: Iterate through the prefix sums",
        "    for i in range(n + 1):",
        "        # Check if there's a valid subarray sum at least k",
        "        while dq and prefix_sum[i] - prefix_sum[dq[0]] >= k:",
        "            min_length = min(min_length, i - dq.popleft())",
        "        ",
        "        # Maintain the deque in increasing order of prefix sums",
        "        while dq and prefix_sum[i] <= prefix_sum[dq[-1]]:",
        "            dq.pop()",
        "        ",
        "        dq.append(i)",
        "    ",
        "    # Step 4: Return the result",
        "    return min_length if min_length != float('inf') else -1",
        "",
        "# Example usage",
        "print(shortestSubarray([2, -1, 2], 3))  # Output: 3",
        "print(shortestSubarray([1, 2], 4))      # Output: -1",
        "print(shortestSubarray([1], 1))          # Output: 1"
      ]
    },
    {
      "cell_type": "markdown",
      "metadata": {},
      "source": [
        "### 3. Time and Space Complexity Analysis",
        "",
        "- **Time Complexity**: ",
        "  - The overall time complexity is \\( O(n) \\) because we process each element of the array once when calculating prefix sums and at most once in the deque operations.",
        "",
        "- **Space Complexity**: ",
        "  - The space complexity is \\( O(n) \\) due to the storage of the prefix sums and the deque which can hold up to \\( n \\) elements in the worst case.",
        "",
        "This solution is efficient and works well within the given constraints, making it suitable for the problem at hand."
      ]
    },
    {
      "cell_type": "markdown",
      "metadata": {},
      "source": [
        "---",
        "",
        ""
      ]
    },
    {
      "cell_type": "markdown",
      "metadata": {},
      "source": [
        "# Fruit Into Baskets (#904)",
        "",
        "**Difficulty:** Medium  ",
        "**Date:** 2025-08-04 23:11:31  ",
        "**URL:** https://leetcode.com/problems/fruit-into-baskets/",
        "",
        "---"
      ]
    },
    {
      "cell_type": "markdown",
      "metadata": {},
      "source": [
        "## Problem Description",
        "",
        "You are visiting a farm that has a single row of fruit trees arranged from left to right. The trees are represented by an integer array fruits where fruits[i] is the type of fruit the ith tree produces.\n\nYou want to collect as much fruit as possible. However, the owner has some strict rules that you must follow:\n\n\n\tYou only have two baskets, and each basket can only hold a single type of fruit. There is no limit on the amount of fruit each basket can hold.\n\tStarting from any tree of your choice, you must pick exactly one fruit from every tree (including the start tree) while moving to the right. The picked fruits must fit in one of your baskets.\n\tOnce you reach a tree with fruit that cannot fit in your baskets, you must stop.\n\n\nGiven the integer array fruits, return the maximum number of fruits you can pick.\n\n&nbsp;\nExample 1:\n\n\nInput: fruits = [1,2,1]\nOutput: 3\nExplanation: We can pick from all 3 trees.\n\n\nExample 2:\n\n\nInput: fruits = [0,1,2,2]\nOutput: 3\nExplanation: We can pick from trees [1,2,2].\nIf we had started at the first tree, we would only pick from trees [0,1].\n\n\nExample 3:\n\n\nInput: fruits = [1,2,3,2,2]\nOutput: 4\nExplanation: We can pick from trees [2,3,2,2].\nIf we had started at the first tree, we would only pick from trees [1,2].\n\n\n&nbsp;\nConstraints:\n\n\n\t1 <= fruits.length <= 105\n\t0 <= fruits[i] < fruits.length\n\n"
      ]
    },
    {
      "cell_type": "markdown",
      "metadata": {},
      "source": [
        "## Clarifying Questions",
        "",
        "1. **What should we do if the input array is empty?** Should the output be 0, or is there a specific behavior we need to define for this case?\n\n2. **Are there any specific constraints on the types of fruits?** For example, can fruits[i] be any integer within the range specified, or are there specific types of fruits we should be aware of?\n\n3. **Is the order of the trees in the input array guaranteed to be sorted or can it be arbitrary?** This will help clarify if we need to consider the arrangement of fruit types when determining the maximum number of fruits.\n\n4. **What is the expected time complexity for the solution?** Should we aim for a linear time solution, or is a quadratic solution acceptable given the constraints?\n\n5. **Can we assume that there will always be at least two different types of fruits in the input?** This will help clarify how we handle scenarios where there is only one type of fruit present."
      ]
    },
    {
      "cell_type": "markdown",
      "metadata": {},
      "source": [
        "## Test Edge Cases",
        "",
        "Here are 8 important test edge cases to consider for the \"Fruit Into Baskets\" problem:\n\n1. **Empty Array**:\n   - **Input**: `fruits = []`\n   - **Description**: Tests the behavior of the function when there are no trees to pick fruit from. Expected output is `0`.\n\n2. **Single Element Array**:\n   - **Input**: `fruits = [1]`\n   - **Description**: Tests the simplest case where there is only one tree. Expected output is `1`, as you can only pick from that single tree.\n\n3. **Two Different Fruits**:\n   - **Input**: `fruits = [1, 2]`\n   - **Description**: Tests the scenario where there are exactly two different types of fruits. Expected output is `2`, since both can fit in the baskets.\n\n4. **All Same Fruit**:\n   - **Input**: `fruits = [2, 2, 2, 2]`\n   - **Description**: Tests the case where all trees produce the same type of fruit. Expected output is `4`, as all can be picked.\n\n5. **Maximum Size with Duplicates**:\n   - **Input**: `fruits = [0, 1, 2, 0, 1, 2, 0, 1, 2, ..., 0, 1, 2]` (100,000 elements, repeating `0, 1, 2`)\n   - **Description**: Tests the performance and efficiency of the algorithm with the maximum allowed size. Expected output is `100,000`, as you can pick all fruits.\n\n6. **Two Types of Fruits with Interruption**:\n   - **Input**: `fruits = [1, 2, 1, 2, 3, 1, 2]`\n   - **Description**: Tests the scenario where the sequence is interrupted by a third type of fruit. Expected output is `5`, as you can pick from the last five trees.\n\n7. **Consecutive Duplicates with a Third Type**:\n   - **Input**: `fruits = [1, 1, 2, 2, 3, 3, 2, 2]`\n   - **Description**: Tests the case where there are consecutive duplicates of two types of fruits, followed by a third type. Expected output is `6`, as you can pick from the last six trees.\n\n8. **Alternating Fruits**:\n   - **Input**: `fruits = [1, 2, 1, 2, 1, 2, 3]`\n   - **Description**: Tests the case where there are alternating fruits followed by a fruit that cannot fit in the baskets. Expected output is `6`, as you can pick from"
      ]
    },
    {
      "cell_type": "markdown",
      "metadata": {},
      "source": [
        "## Approach Explanation",
        "",
        "To solve the problem of collecting the maximum number of fruits from a row of trees while adhering to the constraints of only using two baskets (which can only hold two types of fruits), we can utilize a sliding window approach. Here’s how we can break down the solution:",
        "",
        "1. **Sliding Window Technique**: We will maintain a window that represents the range of trees we can collect fruits from. The window will expand to the right as long as we have at most two types of fruits in it.",
        "",
        "2. **Tracking Fruit Types**: We will use a dictionary to keep track of the count of each type of fruit in our current window.",
        "",
        "3. **Window Expansion and Contraction**:",
        "   - Start with two pointers, `left` and `right`, both initialized at the beginning of the array.",
        "   - Move the `right` pointer to expand the window by including more trees (fruits).",
        "   - If we encounter a third type of fruit (i.e., when the size of the dictionary exceeds 2), we will increment the `left` pointer to contract the window from the left until we have only two types of fruits again.",
        "   - Throughout this process, we will keep track of the maximum number of fruits collected.",
        "",
        "4. **Result**: The result will be the maximum size of our valid window throughout the traversal of the array.",
        "",
        "## Python Code Solution",
        "",
        "Here is the implementation of the above approach in Python:"
      ]
    },
    {
      "cell_type": "code",
      "execution_count": null,
      "metadata": {},
      "outputs": [],
      "source": [
        "def total_fruit(fruits):",
        "    # Dictionary to count the number of fruits in the current window",
        "    fruit_count = {}",
        "    ",
        "    # Initialize the left pointer and the maximum fruits collected",
        "    left = 0",
        "    max_fruits = 0",
        "    ",
        "    # Iterate through the fruits with the right pointer",
        "    for right in range(len(fruits)):",
        "        # Add the current fruit to the dictionary",
        "        fruit_count[fruits[right]] = fruit_count.get(fruits[right], 0) + 1",
        "        ",
        "        # Check if we have more than two types of fruits",
        "        while len(fruit_count) > 2:",
        "            # Move the left pointer to reduce the window size",
        "            fruit_count[fruits[left]] -= 1",
        "            # If the count of that fruit becomes zero, remove it from the dictionary",
        "            if fruit_count[fruits[left]] == 0:",
        "                del fruit_count[fruits[left]]",
        "            left += 1  # Contract the window from the left",
        "        ",
        "        # Calculate the maximum fruits collected in the current valid window",
        "        max_fruits = max(max_fruits, right - left + 1)",
        "    ",
        "    return max_fruits",
        "",
        "# Example usage:",
        "print(total_fruit([1, 2, 1]))  # Output: 3",
        "print(total_fruit([0, 1, 2, 2]))  # Output: 3",
        "print(total_fruit([1, 2, 3, 2, 2]))  # Output: 4"
      ]
    },
    {
      "cell_type": "markdown",
      "metadata": {},
      "source": [
        "## Time and Space Complexity Analysis",
        "",
        "- **Time Complexity**: O(n), where n is the number of trees (length of the fruits array). Each tree is processed at most twice (once when adding to the window and once when removing from the window).",
        "",
        "- **Space Complexity**: O(1), since the number of fruit types is limited (at most 2 types in our case) and we are using a dictionary to count them. The space used is constant and does not depend on the input size.",
        "",
        "This approach efficiently calculates the maximum number of fruits that can be collected while following the given constraints."
      ]
    },
    {
      "cell_type": "markdown",
      "metadata": {},
      "source": [
        "---",
        "",
        ""
      ]
    },
    {
      "cell_type": "markdown",
      "metadata": {},
      "source": [
        "# Subarrays with K Different Integers (#992)",
        "",
        "**Difficulty:** Hard  ",
        "**Date:** 2025-08-04 23:34:41  ",
        "**URL:** https://leetcode.com/problems/subarrays-with-k-different-integers/",
        "",
        "---"
      ]
    },
    {
      "cell_type": "markdown",
      "metadata": {},
      "source": [
        "## Problem Description",
        "",
        "Given an integer array nums and an integer k, return the number of good subarrays of nums.\n\nA good array is an array where the number of different integers in that array is exactly k.\n\n\n\tFor example, [1,2,3,1,2] has 3 different integers: 1, 2, and 3.\n\n\nA subarray is a contiguous part of an array.\n\n&nbsp;\nExample 1:\n\n\nInput: nums = [1,2,1,2,3], k = 2\nOutput: 7\nExplanation: Subarrays formed with exactly 2 different integers: [1,2], [2,1], [1,2], [2,3], [1,2,1], [2,1,2], [1,2,1,2]\n\n\nExample 2:\n\n\nInput: nums = [1,2,1,3,4], k = 3\nOutput: 3\nExplanation: Subarrays formed with exactly 3 different integers: [1,2,1,3], [2,1,3], [1,3,4].\n\n\n&nbsp;\nConstraints:\n\n\n\t1 <= nums.length <= 2 * 104\n\t1 <= nums[i], k <= nums.length\n\n"
      ]
    },
    {
      "cell_type": "markdown",
      "metadata": {},
      "source": [
        "## Clarifying Questions",
        "",
        "1. **What should we return if there are no subarrays with exactly k different integers?** Should we return 0, or is there a different expected output?\n\n2. **Are there any constraints on the values of k in relation to the number of unique integers in the array?** For example, if k is greater than the number of unique integers in nums, should we still return 0?\n\n3. **How should we handle cases where the input array is empty?** Should we return 0, or is there a specific output expected?\n\n4. **Are there any performance constraints we should be aware of?** For instance, is there a time complexity limit we need to meet given the maximum length of the input array?\n\n5. **Can the same integer appear multiple times in the subarrays, and how should we count those subarrays?** For example, if we have duplicates, do we count each occurrence separately when determining the number of good subarrays?"
      ]
    },
    {
      "cell_type": "markdown",
      "metadata": {},
      "source": [
        "## Test Edge Cases",
        "",
        "Here are 8 important test edge cases to consider for the problem \"Subarrays with K Different Integers\":\n\n1. **Empty Array**:\n   - Input: `nums = [], k = 1`\n   - Description: Tests the behavior of the function when the input array is empty. The expected output should be `0` since there are no subarrays.\n\n2. **Single Element Array**:\n   - Input: `nums = [1], k = 1`\n   - Description: Tests the case where the array has only one element and `k` is `1`. The expected output should be `1` since the only subarray is the element itself.\n\n3. **All Elements Same**:\n   - Input: `nums = [2, 2, 2, 2], k = 1`\n   - Description: Tests the scenario where all elements in the array are the same. The expected output should be `10` (subarrays of length 1 to 4).\n\n4. **More Unique Elements than k**:\n   - Input: `nums = [1, 2, 3, 4, 5], k = 3`\n   - Description: Tests the case where there are more unique elements in the array than `k`. The expected output should be `6`, as only certain combinations of three different integers can be formed.\n\n5. **k Equals Array Length**:\n   - Input: `nums = [1, 2, 3, 4], k = 4`\n   - Description: Tests the edge case where `k` is equal to the length of the array. The expected output should be `1`, as there is only one subarray that contains all unique elements.\n\n6. **k Greater than Unique Elements**:\n   - Input: `nums = [1, 2, 3], k = 4`\n   - Description: Tests the case where `k` is greater than the number of unique elements in the array. The expected output should be `0`, as it is impossible to have a subarray with more unique integers than present.\n\n7. **Array with Duplicates**:\n   - Input: `nums = [1, 2, 1, 2, 3, 3], k = 2`\n   - Description: Tests the behavior with duplicates in the array. The expected output should be `9`, as there are multiple combinations of subarrays with exactly 2 different integers.\n\n8. **Large Input Size**:\n   - Input: `nums = [1, 2] * 10000, k = 2`\n   - Description: Tests the performance of the solution with the maximum allowed input size. The expected output should be `10001`, as there are many subarrays with exactly 2 different integers in a repetitive pattern.\n\nThese test cases cover a range of scenarios including edge cases, boundary conditions,"
      ]
    },
    {
      "cell_type": "markdown",
      "metadata": {},
      "source": [
        "To solve the problem of finding the number of subarrays with exactly \\( k \\) different integers, we can leverage the sliding window technique along with a helper function to count the number of subarrays with at most \\( k \\) different integers. ",
        "",
        "### Approach Explanation",
        "",
        "1. **Understanding the Problem**: ",
        "   - We need to count subarrays that contain exactly \\( k \\) distinct integers.",
        "   - A key observation is that the number of subarrays with exactly \\( k \\) different integers can be computed using the difference between the number of subarrays with at most \\( k \\) different integers and those with at most \\( k-1 \\) different integers.",
        "",
        "2. **Helper Function**: ",
        "   - We'll create a helper function `at_most_k` that counts the number of subarrays with at most \\( k \\) distinct integers.",
        "   - This function uses a sliding window (or two-pointer technique) to maintain a window of valid subarrays and counts the number of valid subarrays as we expand and contract the window.",
        "",
        "3. **Final Calculation**:",
        "   - The final result will be:",
        "     \\[",
        "     \\text{count\\_exactly\\_k\\_distinct} = \\text{at\\_most\\_k}(k) - \\text{at\\_most\\_k}(k-1)",
        "     \\]",
        "",
        "### Python Code Solution",
        "",
        "Here is the Python code implementing the above approach:"
      ]
    },
    {
      "cell_type": "code",
      "execution_count": null,
      "metadata": {},
      "outputs": [],
      "source": [
        "def subarraysWithKDistinct(nums, k):",
        "    def at_most_k(k):",
        "        count = 0",
        "        left = 0",
        "        freq = {}",
        "",
        "        for right in range(len(nums)):",
        "            # Add the right element to the frequency map",
        "            if nums[right] in freq:",
        "                freq[nums[right]] += 1",
        "            else:",
        "                freq[nums[right]] = 1",
        "            ",
        "            # While we have more than k distinct integers, move the left pointer",
        "            while len(freq) > k:",
        "                freq[nums[left]] -= 1",
        "                if freq[nums[left]] == 0:",
        "                    del freq[nums[left]]",
        "                left += 1",
        "            ",
        "            # All subarrays from left to right are valid",
        "            count += right - left + 1",
        "        ",
        "        return count",
        "",
        "    # The number of subarrays with exactly k distinct integers",
        "    return at_most_k(k) - at_most_k(k - 1)",
        "",
        "# Example usage",
        "print(subarraysWithKDistinct([1, 2, 1, 2, 3], 2))  # Output: 7",
        "print(subarraysWithKDistinct([1, 2, 1, 3, 4], 3))  # Output: 3"
      ]
    },
    {
      "cell_type": "markdown",
      "metadata": {},
      "source": [
        "### Code Explanation",
        "- `subarraysWithKDistinct`: This is the main function that calculates the number of subarrays with exactly \\( k \\) distinct integers.",
        "- `at_most_k`: This helper function counts the number of subarrays with at most \\( k \\) distinct integers using a sliding window approach:",
        "  - It uses a dictionary `freq` to keep track of the count of distinct integers in the current window.",
        "  - The left pointer is moved forward to maintain the condition of having at most \\( k \\) distinct integers.",
        "  - For each position of the right pointer, the number of valid subarrays ending at that position is calculated and added to the total count.",
        "",
        "### Time and Space Complexity Analysis",
        "- **Time Complexity**: \\( O(n) \\) where \\( n \\) is the length of the `nums` array. Each element is processed at most twice (once added and once removed from the window).",
        "- **Space Complexity**: \\( O(n) \\) in the worst case due to the frequency dictionary storing counts of distinct integers. However, since the number of distinct integers is limited, the space used by `freq` is effectively \\( O(k) \\) in practice.",
        "",
        "This approach efficiently counts the required subarrays by breaking down the problem into manageable parts, leveraging the sliding window technique."
      ]
    },
    {
      "cell_type": "markdown",
      "metadata": {},
      "source": [
        "---",
        "",
        ""
      ]
    },
    {
      "cell_type": "markdown",
      "metadata": {},
      "source": [
        "# Max Consecutive Ones III (#1004)",
        "",
        "**Difficulty:** Medium  ",
        "**Date:** 2025-08-04 23:35:03  ",
        "**URL:** https://leetcode.com/problems/max-consecutive-ones-iii/",
        "",
        "---"
      ]
    },
    {
      "cell_type": "markdown",
      "metadata": {},
      "source": [
        "## Problem Description",
        "",
        "Given a binary array nums and an integer k, return the maximum number of consecutive 1&#39;s in the array if you can flip at most k 0&#39;s.\n\n&nbsp;\nExample 1:\n\n\nInput: nums = [1,1,1,0,0,0,1,1,1,1,0], k = 2\nOutput: 6\nExplanation: [1,1,1,0,0,1,1,1,1,1,1]\nBolded numbers were flipped from 0 to 1. The longest subarray is underlined.\n\nExample 2:\n\n\nInput: nums = [0,0,1,1,0,0,1,1,1,0,1,1,0,0,0,1,1,1,1], k = 3\nOutput: 10\nExplanation: [0,0,1,1,1,1,1,1,1,1,1,1,0,0,0,1,1,1,1]\nBolded numbers were flipped from 0 to 1. The longest subarray is underlined.\n\n\n&nbsp;\nConstraints:\n\n\n\t1 <= nums.length <= 105\n\tnums[i] is either 0 or 1.\n\t0 <= k <= nums.length\n\n"
      ]
    },
    {
      "cell_type": "markdown",
      "metadata": {},
      "source": [
        "## Clarifying Questions",
        "",
        "1. Are there any specific edge cases we should consider, such as when the array contains only 0's or only 1's, or when k is 0?\n\n2. Can the value of k be greater than the number of 0's in the array, and if so, should we treat it as flipping all 0's to 1's?\n\n3. Is the input guaranteed to be a valid binary array (i.e., containing only 0's and 1's), and can we assume that the input will always meet the given constraints?\n\n4. What is the expected output format? Should we return just the maximum count of consecutive 1's, or is there any additional information required, such as the modified array?\n\n5. Are there any performance constraints we should be aware of, particularly regarding the time complexity of the solution, given that the length of the array can be up to 100,000?"
      ]
    },
    {
      "cell_type": "markdown",
      "metadata": {},
      "source": [
        "## Test Edge Cases",
        "",
        "Here are 8 important test edge cases to consider for the \"Max Consecutive Ones III\" problem:\n\n1. **Empty Array**:\n   - Input: `nums = [], k = 0`\n   - Description: Tests the behavior of the function when the input array is empty. The expected output should be 0 since there are no elements to count.\n\n2. **Single Element (1)**:\n   - Input: `nums = [1], k = 0`\n   - Description: Tests the simplest case where the array contains only a single 1. The expected output should be 1.\n\n3. **Single Element (0)**:\n   - Input: `nums = [0], k = 1`\n   - Description: Tests the case where the array contains a single 0 and we can flip it. The expected output should be 1 since we can flip the 0 to a 1.\n\n4. **All Zeros with k Equal to Length**:\n   - Input: `nums = [0, 0, 0, 0, 0], k = 5`\n   - Description: Tests the case where the array consists entirely of 0s and we have the ability to flip all of them. The expected output should be 5.\n\n5. **All Ones**:\n   - Input: `nums = [1, 1, 1, 1, 1], k = 0`\n   - Description: Tests the case where the array consists entirely of 1s and no flips are allowed. The expected output should be 5.\n\n6. **Maximum Size Array with No Zeros**:\n   - Input: `nums = [1] * 100000, k = 0`\n   - Description: Tests the performance of the function with the maximum allowed size where all elements are 1s. The expected output should be 100000.\n\n7. **Maximum Size Array with k Equal to Length**:\n   - Input: `nums = [0] * 100000, k = 100000`\n   - Description: Tests the performance of the function with the maximum allowed size where all elements are 0s and we can flip all of them. The expected output should be 100000.\n\n8. **Alternating Ones and Zeros**:\n   - Input: `nums = [1, 0, 1, 0, 1, 0, 1], k = 2`\n   - Description: Tests the case with alternating 1s and 0s where we can flip some 0s. The expected output should be 5, as we can flip two 0s to create a sequence of five 1s.\n\nThese edge cases cover various scenarios including empty inputs, single elements, maximum constraints, and specific patterns in the input array."
      ]
    },
    {
      "cell_type": "markdown",
      "metadata": {},
      "source": [
        "## Approach Explanation",
        "",
        "To solve the problem of finding the maximum number of consecutive 1's in a binary array with the ability to flip up to `k` zeros to ones, we can use the sliding window technique. This approach allows us to efficiently expand and contract a window over the array to find the longest valid subarray that meets the condition of containing at most `k` zeros.",
        "",
        "### Steps:",
        "1. **Initialize Pointers**: Use two pointers, `left` and `right`, both starting at the beginning of the array. The `right` pointer will expand the window, while the `left` pointer will contract it when necessary.",
        "2. **Count Zeros**: Maintain a count of zeros within the current window. Whenever the count exceeds `k`, we will move the `left` pointer to the right until we have at most `k` zeros in our window.",
        "3. **Calculate Maximum Length**: After adjusting the window, we can calculate the current length of the window and keep track of the maximum length found during the iteration.",
        "",
        "### Python Code Solution with Comments",
        "",
        "Here is the implementation of the above approach:"
      ]
    },
    {
      "cell_type": "code",
      "execution_count": null,
      "metadata": {},
      "outputs": [],
      "source": [
        "def longest_ones(nums, k):",
        "    left = 0  # Left pointer of the sliding window",
        "    max_length = 0  # Variable to track the maximum length of consecutive 1's",
        "    zero_count = 0  # Variable to count the number of zeros in the current window",
        "",
        "    for right in range(len(nums)):",
        "        # If we encounter a zero, increment the zero count",
        "        if nums[right] == 0:",
        "            zero_count += 1",
        "        ",
        "        # If we have more than k zeros, move the left pointer to the right",
        "        while zero_count > k:",
        "            if nums[left] == 0:",
        "                zero_count -= 1  # Decrement the zero count if we are moving past a zero",
        "            left += 1  # Move the left pointer to the right",
        "        ",
        "        # Calculate the length of the current window and update max_length",
        "        max_length = max(max_length, right - left + 1)",
        "",
        "    return max_length",
        "",
        "# Example usage",
        "print(longest_ones([1, 1, 1, 0, 0, 0, 1, 1, 1, 1, 0], 2))  # Output: 6",
        "print(longest_ones([0, 0, 1, 1, 0, 0, 1, 1, 1, 0, 1, 1, 0, 0, 0, 1, 1, 1, 1], 3))  # Output: 10"
      ]
    },
    {
      "cell_type": "markdown",
      "metadata": {},
      "source": [
        "### Time and Space Complexity Analysis",
        "",
        "- **Time Complexity**: O(n), where n is the length of the input array `nums`. In the worst case, both pointers (left and right) traverse the entire list once.",
        "  ",
        "- **Space Complexity**: O(1). We are using a fixed amount of space for variables like `left`, `right`, `max_length`, and `zero_count`, regardless of the input size. The space used does not scale with the input size. ",
        "",
        "This efficient approach ensures we can handle the maximum constraints comfortably."
      ]
    },
    {
      "cell_type": "markdown",
      "metadata": {},
      "source": [
        "---",
        "",
        ""
      ]
    },
    {
      "cell_type": "markdown",
      "metadata": {},
      "source": [
        "# Subarrays with K Different Integers (#992)",
        "",
        "**Difficulty:** Hard  ",
        "**Date:** 2025-08-04 23:35:50  ",
        "**URL:** https://leetcode.com/problems/subarrays-with-k-different-integers/",
        "",
        "---"
      ]
    },
    {
      "cell_type": "markdown",
      "metadata": {},
      "source": [
        "## Problem Description",
        "",
        "Given an integer array nums and an integer k, return the number of good subarrays of nums.\n\nA good array is an array where the number of different integers in that array is exactly k.\n\n\n\tFor example, [1,2,3,1,2] has 3 different integers: 1, 2, and 3.\n\n\nA subarray is a contiguous part of an array.\n\n&nbsp;\nExample 1:\n\n\nInput: nums = [1,2,1,2,3], k = 2\nOutput: 7\nExplanation: Subarrays formed with exactly 2 different integers: [1,2], [2,1], [1,2], [2,3], [1,2,1], [2,1,2], [1,2,1,2]\n\n\nExample 2:\n\n\nInput: nums = [1,2,1,3,4], k = 3\nOutput: 3\nExplanation: Subarrays formed with exactly 3 different integers: [1,2,1,3], [2,1,3], [1,3,4].\n\n\n&nbsp;\nConstraints:\n\n\n\t1 <= nums.length <= 2 * 104\n\t1 <= nums[i], k <= nums.length\n\n"
      ]
    },
    {
      "cell_type": "markdown",
      "metadata": {},
      "source": [
        "## Clarifying Questions",
        "",
        "1. **What should we return if there are no subarrays with exactly k different integers?** Should we return 0, or is there a different expected output?\n\n2. **Are there any constraints on the values of k in relation to the number of unique integers in the array?** For example, if k is greater than the number of unique integers in nums, should we still return 0?\n\n3. **How should we handle cases where the input array is empty?** Should we return 0, or is there a specific output expected?\n\n4. **Are there any performance constraints we should be aware of?** For instance, is there a time complexity limit we need to meet given the maximum length of the input array?\n\n5. **Can the same integer appear multiple times in the subarrays, and how should we count those subarrays?** For example, if we have duplicates, do we count each occurrence separately when determining the number of good subarrays?"
      ]
    },
    {
      "cell_type": "markdown",
      "metadata": {},
      "source": [
        "## Test Edge Cases",
        "",
        "Here are 8 important test edge cases to consider for the problem \"Subarrays with K Different Integers\":\n\n1. **Empty Array**:\n   - Input: `nums = [], k = 1`\n   - Description: Tests the behavior of the function when the input array is empty. The expected output should be `0` since there are no subarrays.\n\n2. **Single Element Array**:\n   - Input: `nums = [1], k = 1`\n   - Description: Tests the case where the array has only one element and `k` is `1`. The expected output should be `1` since the only subarray is the element itself.\n\n3. **All Elements Same**:\n   - Input: `nums = [2, 2, 2, 2], k = 1`\n   - Description: Tests the scenario where all elements in the array are the same. The expected output should be `10` (subarrays of length 1 to 4).\n\n4. **More Unique Elements than k**:\n   - Input: `nums = [1, 2, 3, 4, 5], k = 3`\n   - Description: Tests the case where there are more unique elements in the array than `k`. The expected output should be `6`, as only certain combinations of three different integers can be formed.\n\n5. **k Equals Array Length**:\n   - Input: `nums = [1, 2, 3, 4], k = 4`\n   - Description: Tests the edge case where `k` is equal to the length of the array. The expected output should be `1`, as there is only one subarray that contains all unique elements.\n\n6. **k Greater than Unique Elements**:\n   - Input: `nums = [1, 2, 3], k = 4`\n   - Description: Tests the case where `k` is greater than the number of unique elements in the array. The expected output should be `0`, as it is impossible to have a subarray with more unique integers than present.\n\n7. **Array with Duplicates**:\n   - Input: `nums = [1, 2, 1, 2, 3, 3], k = 2`\n   - Description: Tests the behavior with duplicates in the array. The expected output should be `9`, as there are multiple combinations of subarrays with exactly 2 different integers.\n\n8. **Large Input Size**:\n   - Input: `nums = [1, 2] * 10000, k = 2`\n   - Description: Tests the performance of the solution with the maximum allowed input size. The expected output should be `10001`, as there are many subarrays with exactly 2 different integers in a repetitive pattern.\n\nThese test cases cover a range of scenarios including edge cases, boundary conditions,"
      ]
    },
    {
      "cell_type": "markdown",
      "metadata": {},
      "source": [
        "To solve the problem of finding the number of subarrays with exactly \\( k \\) different integers, we can leverage the sliding window technique along with a helper function to count the number of subarrays with at most \\( k \\) different integers. ",
        "",
        "### Approach Explanation",
        "",
        "1. **Understanding the Problem**: ",
        "   - We need to count subarrays that contain exactly \\( k \\) distinct integers.",
        "   - A key observation is that the number of subarrays with exactly \\( k \\) different integers can be computed using the difference between the number of subarrays with at most \\( k \\) different integers and those with at most \\( k-1 \\) different integers.",
        "",
        "2. **Helper Function**: ",
        "   - We'll create a helper function `at_most_k` that counts the number of subarrays with at most \\( k \\) distinct integers.",
        "   - This function uses a sliding window (or two-pointer technique) to maintain a window of valid subarrays and counts the number of valid subarrays as we expand and contract the window.",
        "",
        "3. **Final Calculation**:",
        "   - The final result will be:",
        "     \\[",
        "     \\text{count\\_exactly\\_k\\_distinct} = \\text{at\\_most\\_k}(k) - \\text{at\\_most\\_k}(k-1)",
        "     \\]",
        "",
        "### Python Code Solution",
        "",
        "Here is the Python code implementing the above approach:"
      ]
    },
    {
      "cell_type": "code",
      "execution_count": null,
      "metadata": {},
      "outputs": [],
      "source": [
        "def subarraysWithKDistinct(nums, k):",
        "    def at_most_k(k):",
        "        count = 0",
        "        left = 0",
        "        freq = {}",
        "",
        "        for right in range(len(nums)):",
        "            # Add the right element to the frequency map",
        "            if nums[right] in freq:",
        "                freq[nums[right]] += 1",
        "            else:",
        "                freq[nums[right]] = 1",
        "            ",
        "            # While we have more than k distinct integers, move the left pointer",
        "            while len(freq) > k:",
        "                freq[nums[left]] -= 1",
        "                if freq[nums[left]] == 0:",
        "                    del freq[nums[left]]",
        "                left += 1",
        "            ",
        "            # All subarrays from left to right are valid",
        "            count += right - left + 1",
        "        ",
        "        return count",
        "",
        "    # The number of subarrays with exactly k distinct integers",
        "    return at_most_k(k) - at_most_k(k - 1)",
        "",
        "# Example usage",
        "print(subarraysWithKDistinct([1, 2, 1, 2, 3], 2))  # Output: 7",
        "print(subarraysWithKDistinct([1, 2, 1, 3, 4], 3))  # Output: 3"
      ]
    },
    {
      "cell_type": "markdown",
      "metadata": {},
      "source": [
        "### Code Explanation",
        "- `subarraysWithKDistinct`: This is the main function that calculates the number of subarrays with exactly \\( k \\) distinct integers.",
        "- `at_most_k`: This helper function counts the number of subarrays with at most \\( k \\) distinct integers using a sliding window approach:",
        "  - It uses a dictionary `freq` to keep track of the count of distinct integers in the current window.",
        "  - The left pointer is moved forward to maintain the condition of having at most \\( k \\) distinct integers.",
        "  - For each position of the right pointer, the number of valid subarrays ending at that position is calculated and added to the total count.",
        "",
        "### Time and Space Complexity Analysis",
        "- **Time Complexity**: \\( O(n) \\) where \\( n \\) is the length of the `nums` array. Each element is processed at most twice (once added and once removed from the window).",
        "- **Space Complexity**: \\( O(n) \\) in the worst case due to the frequency dictionary storing counts of distinct integers. However, since the number of distinct integers is limited, the space used by `freq` is effectively \\( O(k) \\) in practice.",
        "",
        "This approach efficiently counts the required subarrays by breaking down the problem into manageable parts, leveraging the sliding window technique."
      ]
    },
    {
      "cell_type": "markdown",
      "metadata": {},
      "source": [
        "---",
        "",
        ""
      ]
    },
    {
      "cell_type": "markdown",
      "metadata": {},
      "source": [
        "# Max Consecutive Ones III (#1004)",
        "",
        "**Difficulty:** Medium  ",
        "**Date:** 2025-08-04 23:36:10  ",
        "**URL:** https://leetcode.com/problems/max-consecutive-ones-iii/",
        "",
        "---"
      ]
    },
    {
      "cell_type": "markdown",
      "metadata": {},
      "source": [
        "## Problem Description",
        "",
        "Given a binary array nums and an integer k, return the maximum number of consecutive 1&#39;s in the array if you can flip at most k 0&#39;s.\n\n&nbsp;\nExample 1:\n\n\nInput: nums = [1,1,1,0,0,0,1,1,1,1,0], k = 2\nOutput: 6\nExplanation: [1,1,1,0,0,1,1,1,1,1,1]\nBolded numbers were flipped from 0 to 1. The longest subarray is underlined.\n\nExample 2:\n\n\nInput: nums = [0,0,1,1,0,0,1,1,1,0,1,1,0,0,0,1,1,1,1], k = 3\nOutput: 10\nExplanation: [0,0,1,1,1,1,1,1,1,1,1,1,0,0,0,1,1,1,1]\nBolded numbers were flipped from 0 to 1. The longest subarray is underlined.\n\n\n&nbsp;\nConstraints:\n\n\n\t1 <= nums.length <= 105\n\tnums[i] is either 0 or 1.\n\t0 <= k <= nums.length\n\n"
      ]
    },
    {
      "cell_type": "markdown",
      "metadata": {},
      "source": [
        "## Clarifying Questions",
        "",
        "1. Are there any specific edge cases we should consider, such as when the array contains only 0's or only 1's, or when k is 0?\n\n2. Can the value of k be greater than the number of 0's in the array, and if so, should we treat it as flipping all 0's to 1's?\n\n3. Is the input guaranteed to be a valid binary array (i.e., containing only 0's and 1's), and can we assume that the input will always meet the given constraints?\n\n4. What is the expected output format? Should we return just the maximum count of consecutive 1's, or is there any additional information required, such as the modified array?\n\n5. Are there any performance constraints we should be aware of, particularly regarding the time complexity of the solution, given that the length of the array can be up to 100,000?"
      ]
    },
    {
      "cell_type": "markdown",
      "metadata": {},
      "source": [
        "## Test Edge Cases",
        "",
        "Here are 8 important test edge cases to consider for the \"Max Consecutive Ones III\" problem:\n\n1. **Empty Array**:\n   - Input: `nums = [], k = 0`\n   - Description: Tests the behavior of the function when the input array is empty. The expected output should be 0 since there are no elements to count.\n\n2. **Single Element (1)**:\n   - Input: `nums = [1], k = 0`\n   - Description: Tests the simplest case where the array contains only a single 1. The expected output should be 1.\n\n3. **Single Element (0)**:\n   - Input: `nums = [0], k = 1`\n   - Description: Tests the case where the array contains a single 0 and we can flip it. The expected output should be 1 since we can flip the 0 to a 1.\n\n4. **All Zeros with k Equal to Length**:\n   - Input: `nums = [0, 0, 0, 0, 0], k = 5`\n   - Description: Tests the case where the array consists entirely of 0s and we have the ability to flip all of them. The expected output should be 5.\n\n5. **All Ones**:\n   - Input: `nums = [1, 1, 1, 1, 1], k = 0`\n   - Description: Tests the case where the array consists entirely of 1s and no flips are allowed. The expected output should be 5.\n\n6. **Maximum Size Array with No Zeros**:\n   - Input: `nums = [1] * 100000, k = 0`\n   - Description: Tests the performance of the function with the maximum allowed size where all elements are 1s. The expected output should be 100000.\n\n7. **Maximum Size Array with k Equal to Length**:\n   - Input: `nums = [0] * 100000, k = 100000`\n   - Description: Tests the performance of the function with the maximum allowed size where all elements are 0s and we can flip all of them. The expected output should be 100000.\n\n8. **Alternating Ones and Zeros**:\n   - Input: `nums = [1, 0, 1, 0, 1, 0, 1], k = 2`\n   - Description: Tests the case with alternating 1s and 0s where we can flip some 0s. The expected output should be 5, as we can flip two 0s to create a sequence of five 1s.\n\nThese edge cases cover various scenarios including empty inputs, single elements, maximum constraints, and specific patterns in the input array."
      ]
    },
    {
      "cell_type": "markdown",
      "metadata": {},
      "source": [
        "## Approach Explanation",
        "",
        "To solve the problem of finding the maximum number of consecutive 1's in a binary array with the ability to flip up to `k` zeros to ones, we can use the sliding window technique. This approach allows us to efficiently expand and contract a window over the array to find the longest valid subarray that meets the condition of containing at most `k` zeros.",
        "",
        "### Steps:",
        "1. **Initialize Pointers**: Use two pointers, `left` and `right`, both starting at the beginning of the array. The `right` pointer will expand the window, while the `left` pointer will contract it when necessary.",
        "2. **Count Zeros**: Maintain a count of zeros within the current window. Whenever the count exceeds `k`, we will move the `left` pointer to the right until we have at most `k` zeros in our window.",
        "3. **Calculate Maximum Length**: After adjusting the window, we can calculate the current length of the window and keep track of the maximum length found during the iteration.",
        "",
        "### Python Code Solution with Comments",
        "",
        "Here is the implementation of the above approach:"
      ]
    },
    {
      "cell_type": "code",
      "execution_count": null,
      "metadata": {},
      "outputs": [],
      "source": [
        "def longest_ones(nums, k):",
        "    left = 0  # Left pointer of the sliding window",
        "    max_length = 0  # Variable to track the maximum length of consecutive 1's",
        "    zero_count = 0  # Variable to count the number of zeros in the current window",
        "",
        "    for right in range(len(nums)):",
        "        # If we encounter a zero, increment the zero count",
        "        if nums[right] == 0:",
        "            zero_count += 1",
        "        ",
        "        # If we have more than k zeros, move the left pointer to the right",
        "        while zero_count > k:",
        "            if nums[left] == 0:",
        "                zero_count -= 1  # Decrement the zero count if we are moving past a zero",
        "            left += 1  # Move the left pointer to the right",
        "        ",
        "        # Calculate the length of the current window and update max_length",
        "        max_length = max(max_length, right - left + 1)",
        "",
        "    return max_length",
        "",
        "# Example usage",
        "print(longest_ones([1, 1, 1, 0, 0, 0, 1, 1, 1, 1, 0], 2))  # Output: 6",
        "print(longest_ones([0, 0, 1, 1, 0, 0, 1, 1, 1, 0, 1, 1, 0, 0, 0, 1, 1, 1, 1], 3))  # Output: 10"
      ]
    },
    {
      "cell_type": "markdown",
      "metadata": {},
      "source": [
        "### Time and Space Complexity Analysis",
        "",
        "- **Time Complexity**: O(n), where n is the length of the input array `nums`. In the worst case, both pointers (left and right) traverse the entire list once.",
        "  ",
        "- **Space Complexity**: O(1). We are using a fixed amount of space for variables like `left`, `right`, `max_length`, and `zero_count`, regardless of the input size. The space used does not scale with the input size. ",
        "",
        "This efficient approach ensures we can handle the maximum constraints comfortably."
      ]
    },
    {
      "cell_type": "markdown",
      "metadata": {},
      "source": [
        "---",
        "",
        ""
      ]
    },
    {
      "cell_type": "markdown",
      "metadata": {},
      "source": [
        "# Maximum Sum of Two Non-Overlapping Subarrays (#1031)",
        "",
        "**Difficulty:** Medium  ",
        "**Date:** 2025-08-04 23:37:05  ",
        "**URL:** https://leetcode.com/problems/maximum-sum-of-two-non-overlapping-subarrays/",
        "",
        "---"
      ]
    },
    {
      "cell_type": "markdown",
      "metadata": {},
      "source": [
        "## Problem Description",
        "",
        "Given an integer array nums and two integers firstLen and secondLen, return the maximum sum of elements in two non-overlapping subarrays with lengths firstLen and secondLen.\n\nThe array with length firstLen could occur before or after the array with length secondLen, but they have to be non-overlapping.\n\nA subarray is a contiguous part of an array.\n\n&nbsp;\nExample 1:\n\n\nInput: nums = [0,6,5,2,2,5,1,9,4], firstLen = 1, secondLen = 2\nOutput: 20\nExplanation: One choice of subarrays is [9] with length 1, and [6,5] with length 2.\n\n\nExample 2:\n\n\nInput: nums = [3,8,1,3,2,1,8,9,0], firstLen = 3, secondLen = 2\nOutput: 29\nExplanation: One choice of subarrays is [3,8,1] with length 3, and [8,9] with length 2.\n\n\nExample 3:\n\n\nInput: nums = [2,1,5,6,0,9,5,0,3,8], firstLen = 4, secondLen = 3\nOutput: 31\nExplanation: One choice of subarrays is [5,6,0,9] with length 4, and [0,3,8] with length 3.\n\n\n&nbsp;\nConstraints:\n\n\n\t1 <= firstLen, secondLen <= 1000\n\t2 <= firstLen + secondLen <= 1000\n\tfirstLen + secondLen <= nums.length <= 1000\n\t0 <= nums[i] <= 1000\n\n"
      ]
    },
    {
      "cell_type": "markdown",
      "metadata": {},
      "source": [
        "## Clarifying Questions",
        "",
        "1. Are the two subarrays required to be in a specific order (i.e., does the first subarray always need to come before the second, or can they appear in any order as long as they are non-overlapping)?\n\n2. Can the lengths of the two subarrays (firstLen and secondLen) be equal, or must they always be different?\n\n3. What should be the output if the input array `nums` has fewer elements than the combined lengths of firstLen and secondLen? \n\n4. Are there any constraints on the values within the `nums` array, such as negative numbers or specific ranges, beyond what is mentioned in the problem statement?\n\n5. What is the expected time complexity for the solution, and are there any performance requirements we should consider given the constraints on the input size?"
      ]
    },
    {
      "cell_type": "markdown",
      "metadata": {},
      "source": [
        "## Test Edge Cases",
        "",
        "Here are 8 important test edge cases to consider for the problem of finding the maximum sum of two non-overlapping subarrays:\n\n1. **Minimum Input Values**:\n   - **Input**: `nums = [0]`, `firstLen = 1`, `secondLen = 1`\n   - **Description**: The smallest possible input where the array has only one element. This tests how the function handles minimal input sizes.\n\n2. **All Zeros**:\n   - **Input**: `nums = [0, 0, 0, 0, 0]`, `firstLen = 2`, `secondLen = 3`\n   - **Description**: An array filled with zeros. This checks if the function can handle cases where the maximum sum is zero.\n\n3. **Array with Maximum Values**:\n   - **Input**: `nums = [1000] * 1000`, `firstLen = 500`, `secondLen = 500`\n   - **Description**: An array where all elements are at the maximum constraint value. This tests the function's ability to handle large sums and performance under maximum input sizes.\n\n4. **Single Maximum Element**:\n   - **Input**: `nums = [1, 2, 3, 1000, 5, 6]`, `firstLen = 2`, `secondLen = 3`\n   - **Description**: An array with one significantly larger element. This tests if the function can correctly identify the optimal subarrays when a single element dominates the sum.\n\n5. **Negative and Positive Mix**:\n   - **Input**: `nums = [-1, -2, 3, 4, -5, 6, 7]`, `firstLen = 2`, `secondLen = 3`\n   - **Description**: An array containing both negative and positive numbers. This checks if the function can correctly calculate sums when negative values are present.\n\n6. **Duplicate Values**:\n   - **Input**: `nums = [5, 5, 5, 5, 5]`, `firstLen = 2`, `secondLen = 3`\n   - **Description**: An array with all elements being the same. This tests if the function can handle cases where all subarrays yield the same sum.\n\n7. **Non-Overlapping at Edges**:\n   - **Input**: `nums = [1, 2, 3, 4, 5, 6]`, `firstLen = 2`, `secondLen = 4`\n   - **Description**: This case checks the scenario where the two subarrays can only be chosen at the edges of the array. It tests the function's ability to correctly identify non-overlapping subarrays.\n\n8. **Performance Edge Case**:\n   - **Input**: `nums = ["
      ]
    },
    {
      "cell_type": "markdown",
      "metadata": {},
      "source": [
        "To solve the problem of finding the maximum sum of two non-overlapping subarrays of specified lengths, we can use a sliding window approach. Let's break down the solution step by step.",
        "",
        "### Approach:",
        "",
        "1. **Understanding Non-Overlapping Requirement**: We need to select two subarrays of lengths `firstLen` and `secondLen` such that they do not overlap. The two subarrays can be arranged in two orders:",
        "   - The first subarray (length `firstLen`) comes before the second subarray (length `secondLen`).",
        "   - The first subarray (length `secondLen`) comes before the second subarray (length `firstLen`).",
        "",
        "2. **Sliding Window Technique**: We'll utilize a sliding window to compute the sums of subarrays of both lengths efficiently:",
        "   - Calculate the maximum sum of subarrays of length `firstLen` while iterating through the array.",
        "   - For each position where a subarray of length `secondLen` can start, check the maximum sum of the `firstLen` subarray that ends before it.",
        "   - Repeat the above for the reverse order.",
        "",
        "3. **Implementation Steps**:",
        "   - Precompute the maximum sums of subarrays of both lengths.",
        "   - Use two loops to evaluate both configurations (first with `firstLen` first and then with `secondLen` first).",
        "   - Track the maximum possible sum found during these evaluations.",
        "",
        "### Python Code:"
      ]
    },
    {
      "cell_type": "code",
      "execution_count": null,
      "metadata": {},
      "outputs": [],
      "source": [
        "def maxSumTwoNoOverlap(nums, firstLen, secondLen):",
        "    # Helper function to calculate maximum sum of two non-overlapping subarrays",
        "    def maxSum(firstLen, secondLen):",
        "        max_first = 0",
        "        max_second = 0",
        "        ",
        "        # Calculate the sum of the first subarray of length firstLen",
        "        first_sum = sum(nums[:firstLen])",
        "        ",
        "        # Store the maximum sum of the first subarray found so far",
        "        max_first = first_sum",
        "        ",
        "        # This will hold the maximum sum we can obtain by choosing the second subarray",
        "        total_max = 0",
        "        ",
        "        # Iterate through the array starting from the end of the firstLen subarray",
        "        for i in range(firstLen, len(nums)):",
        "            # Update the first subarray sum by sliding the window",
        "            first_sum += nums[i] - nums[i - firstLen]",
        "            max_first = max(max_first, first_sum)",
        "            ",
        "            # Calculate the sum of the second subarray",
        "            second_sum = sum(nums[i:i + secondLen])",
        "            if i + secondLen <= len(nums):",
        "                total_max = max(total_max, max_first + second_sum)",
        "        ",
        "        return total_max",
        "    ",
        "    # Calculate the maximum sum for both orders",
        "    return max(maxSum(firstLen, secondLen), maxSum(secondLen, firstLen))",
        "",
        "# Example usage",
        "nums = [0, 6, 5, 2, 2, 5, 1, 9, 4]",
        "firstLen = 1",
        "secondLen = 2",
        "print(maxSumTwoNoOverlap(nums, firstLen, secondLen))  # Output: 20"
      ]
    },
    {
      "cell_type": "markdown",
      "metadata": {},
      "source": [
        "### Time and Space Complexity Analysis:",
        "",
        "- **Time Complexity**: O(n), where n is the length of the `nums` array. We traverse the array a constant number of times (specifically twice for the two configurations of the subarrays).",
        "  ",
        "- **Space Complexity**: O(1), since we are only using a fixed amount of extra space to store variables for calculations (no additional data structures that grow with input size).",
        "",
        "This approach is efficient and well-suited to the given constraints, allowing us to find the maximum sum of two non-overlapping subarrays in linear time."
      ]
    },
    {
      "cell_type": "markdown",
      "metadata": {},
      "source": [
        "---",
        "",
        ""
      ]
    },
    {
      "cell_type": "markdown",
      "metadata": {},
      "source": [
        "# Grumpy Bookstore Owner (#1052)",
        "",
        "**Difficulty:** Medium  ",
        "**Date:** 2025-08-04 23:37:45  ",
        "**URL:** https://leetcode.com/problems/grumpy-bookstore-owner/",
        "",
        "---"
      ]
    },
    {
      "cell_type": "markdown",
      "metadata": {},
      "source": [
        "## Problem Description",
        "",
        "There is a bookstore owner that has a store open for n minutes. You are given an integer array customers of length n where customers[i] is the number of the customers that enter the store at the start of the ith minute and all those customers leave after the end of that minute.\n\nDuring certain minutes, the bookstore owner is grumpy. You are given a binary array grumpy where grumpy[i] is 1 if the bookstore owner is grumpy during the ith minute, and is 0 otherwise.\n\nWhen the bookstore owner is grumpy, the customers entering during that minute are not satisfied. Otherwise, they are satisfied.\n\nThe bookstore owner knows a secret technique to remain not grumpy for minutes consecutive minutes, but this technique can only be used once.\n\nReturn the maximum number of customers that can be satisfied throughout the day.\n\n&nbsp;\nExample 1:\n\n\nInput: customers = [1,0,1,2,1,1,7,5], grumpy = [0,1,0,1,0,1,0,1], minutes = 3\n\nOutput: 16\n\nExplanation:\n\nThe bookstore owner keeps themselves not grumpy for the last 3 minutes.\n\nThe maximum number of customers that can be satisfied = 1 + 1 + 1 + 1 + 7 + 5 = 16.\n\n\nExample 2:\n\n\nInput: customers = [1], grumpy = [0], minutes = 1\n\nOutput: 1\n\n\n&nbsp;\nConstraints:\n\n\n\tn == customers.length == grumpy.length\n\t1 <= minutes <= n <= 2 * 104\n\t0 <= customers[i] <= 1000\n\tgrumpy[i] is either 0 or 1.\n\n"
      ]
    },
    {
      "cell_type": "markdown",
      "metadata": {},
      "source": [
        "## Clarifying Questions",
        "",
        "1. Are there any edge cases we should consider, such as when all values in the `grumpy` array are 0 or when all values are 1? How should we handle these scenarios in terms of customer satisfaction?\n\n2. Can the `minutes` parameter be greater than the length of the `customers` and `grumpy` arrays, or is it guaranteed to always be less than or equal to `n`?\n\n3. Is it possible for the bookstore owner to use the technique to remain not grumpy for fewer than `minutes` consecutive minutes, or must it always be exactly `minutes`?\n\n4. How should we handle cases where the `customers` array contains zeros? Do these minutes count towards the total number of satisfied customers if the owner is not grumpy?\n\n5. Are there any performance constraints we need to be aware of, especially considering the maximum length of the arrays (up to 20,000)? What is the expected time complexity for our solution?"
      ]
    },
    {
      "cell_type": "markdown",
      "metadata": {},
      "source": [
        "## Test Edge Cases",
        "",
        "Here are 8 important test edge cases to consider for the \"Grumpy Bookstore Owner\" problem:\n\n1. **Minimum Input Values**:\n   - **Input**: `customers = [0]`, `grumpy = [0]`, `minutes = 1`\n   - **Description**: Tests the scenario where there are no customers at all. This checks if the function can handle the smallest input size correctly.\n\n2. **Single Grumpy Minute**:\n   - **Input**: `customers = [5]`, `grumpy = [1]`, `minutes = 1`\n   - **Description**: Tests the case where there is only one minute and the owner is grumpy. This checks if the function correctly identifies that no customers can be satisfied.\n\n3. **All Non-Grumpy Minutes**:\n   - **Input**: `customers = [3, 2, 5, 4]`, `grumpy = [0, 0, 0, 0]`, `minutes = 2`\n   - **Description**: Tests a scenario where the owner is never grumpy. This checks if the function correctly sums all customers.\n\n4. **All Grumpy Minutes**:\n   - **Input**: `customers = [1, 2, 3, 4]`, `grumpy = [1, 1, 1, 1]`, `minutes = 2`\n   - **Description**: Tests a scenario where the owner is always grumpy. This checks if the function correctly identifies that the technique must be used to maximize satisfaction.\n\n5. **Maximum Size Input**:\n   - **Input**: `customers = [1000] * 20000`, `grumpy = [0] * 20000`, `minutes = 20000`\n   - **Description**: Tests the upper limit of the input size to ensure the function can handle large arrays efficiently.\n\n6. **Grumpy Minutes at the Start and End**:\n   - **Input**: `customers = [1, 2, 3, 4, 5]`, `grumpy = [1, 0, 0, 0, 1]`, `minutes = 3`\n   - **Description**: Tests a scenario where grumpy minutes are at the beginning and end of the array. This checks if the function can correctly identify the optimal use of the technique in the middle.\n\n7. **Multiple Grumpy Segments**:\n   - **Input**: `customers = [1, 2, 3, 4, 5, 1, 2, 3]`, `grumpy = [1, 1, 0, 0, 1, 1, 0, 0]`, `minutes = 4`\n   - **Description**: Tests a case where there are multiple segments of grumpy minutes."
      ]
    },
    {
      "cell_type": "markdown",
      "metadata": {},
      "source": [
        "To solve the \"Grumpy Bookstore Owner\" problem, we can use a sliding window approach combined with some calculations. Here's a step-by-step breakdown of the approach, followed by the implementation in Python.",
        "",
        "### 1. Explanation of the Approach",
        "",
        "1. **Understanding Satisfaction**: ",
        "   - Customers are satisfied when the owner is not grumpy (grumpy[i] == 0). If the owner is grumpy (grumpy[i] == 1), customers are not satisfied during that minute.",
        "   ",
        "2. **Calculate Initial Satisfaction**: ",
        "   - First, calculate the total number of satisfied customers without using the \"not grumpy\" technique. This is simply the sum of customers where `grumpy[i]` is `0`.",
        "",
        "3. **Sliding Window to Maximize Satisfaction**: ",
        "   - The key insight is that the owner can use their technique to turn off grumpiness for any continuous segment of `minutes` duration. We can slide a window of size `minutes` over the `grumpy` list to determine which minutes to apply the technique for maximum effect.",
        "   - For each window, calculate how many customers would be satisfied if the owner was not grumpy during those minutes.",
        "",
        "4. **Calculate Maximum Satisfaction**: ",
        "   - For each position of the sliding window, compute the potential increase in satisfied customers and add it to the initial satisfaction calculated in step 2. Keep track of the maximum satisfaction encountered.",
        "",
        "### 2. Python Code Solution with Comments"
      ]
    },
    {
      "cell_type": "code",
      "execution_count": null,
      "metadata": {},
      "outputs": [],
      "source": [
        "def maxSatisfied(customers, grumpy, minutes):",
        "    # Step 1: Calculate initial satisfied customers",
        "    total_satisfied = sum(customers[i] for i in range(len(customers)) if grumpy[i] == 0)",
        "    ",
        "    # Step 2: Use a sliding window to find the best segment to apply the technique",
        "    max_additional_satisfied = 0",
        "    current_additional_satisfied = 0",
        "",
        "    # Step 3: Calculate the initial window of size `minutes`",
        "    for i in range(minutes):",
        "        if grumpy[i] == 1:",
        "            current_additional_satisfied += customers[i]",
        "",
        "    # Step 4: This is our initial best case for the first `minutes`",
        "    max_additional_satisfied = current_additional_satisfied",
        "",
        "    # Step 5: Slide the window over the rest of the array",
        "    for i in range(minutes, len(customers)):",
        "        # Remove the effect of the customer that is sliding out of the window",
        "        if grumpy[i - minutes] == 1:",
        "            current_additional_satisfied -= customers[i - minutes]",
        "        ",
        "        # Add the effect of the new customer that is sliding into the window",
        "        if grumpy[i] == 1:",
        "            current_additional_satisfied += customers[i]",
        "        ",
        "        # Update the maximum additional satisfied customers",
        "        max_additional_satisfied = max(max_additional_satisfied, current_additional_satisfied)",
        "",
        "    # Step 6: Return total satisfied customers plus the maximum additional satisfied",
        "    return total_satisfied + max_additional_satisfied",
        "",
        "# Example usage:",
        "customers = [1, 0, 1, 2, 1, 1, 7, 5]",
        "grumpy = [0, 1, 0, 1, 0, 1, 0, 1]",
        "minutes = 3",
        "print(maxSatisfied(customers, grumpy, minutes))  # Output: 16"
      ]
    },
    {
      "cell_type": "markdown",
      "metadata": {},
      "source": [
        "### 3. Time and Space Complexity Analysis",
        "",
        "- **Time Complexity**: ",
        "  - The solution involves a single pass to calculate the initial number of satisfied customers (O(n)), and another pass for the sliding window (also O(n)). Thus, the overall time complexity is O(n).",
        "",
        "- **Space Complexity**: ",
        "  - The algorithm uses a constant amount of additional space (O(1)), aside from the input storage. Hence, the space complexity is O(1).",
        "",
        "This solution efficiently calculates the maximum number of satisfied customers by leveraging the sliding window technique, ensuring we meet the problem's constraints effectively."
      ]
    },
    {
      "cell_type": "markdown",
      "metadata": {},
      "source": [
        "---",
        "",
        ""
      ]
    },
    {
      "cell_type": "markdown",
      "metadata": {},
      "source": [
        "# Swap For Longest Repeated Character Substring (#1156)",
        "",
        "**Difficulty:** Medium  ",
        "**Date:** 2025-08-04 23:39:26  ",
        "**URL:** https://leetcode.com/problems/swap-for-longest-repeated-character-substring/",
        "",
        "---"
      ]
    },
    {
      "cell_type": "markdown",
      "metadata": {},
      "source": [
        "## Problem Description",
        "",
        "You are given a string text. You can swap two of the characters in the text.\n\nReturn the length of the longest substring with repeated characters.\n\n&nbsp;\nExample 1:\n\n\nInput: text = &quot;ababa&quot;\nOutput: 3\nExplanation: We can swap the first &#39;b&#39; with the last &#39;a&#39;, or the last &#39;b&#39; with the first &#39;a&#39;. Then, the longest repeated character substring is &quot;aaa&quot; with length 3.\n\n\nExample 2:\n\n\nInput: text = &quot;aaabaaa&quot;\nOutput: 6\nExplanation: Swap &#39;b&#39; with the last &#39;a&#39; (or the first &#39;a&#39;), and we get longest repeated character substring &quot;aaaaaa&quot; with length 6.\n\n\nExample 3:\n\n\nInput: text = &quot;aaaaa&quot;\nOutput: 5\nExplanation: No need to swap, longest repeated character substring is &quot;aaaaa&quot; with length is 5.\n\n\n&nbsp;\nConstraints:\n\n\n\t1 <= text.length <= 2 * 104\n\ttext consist of lowercase English characters only.\n\n"
      ]
    },
    {
      "cell_type": "markdown",
      "metadata": {},
      "source": [
        "## Clarifying Questions",
        "",
        "1. Are there any constraints on the characters that can be swapped, or can we swap any two characters in the string freely?\n\n2. Should we consider the case where the input string consists of only one unique character (e.g., \"aaaa\")? How should we handle it in terms of output?\n\n3. Is there a specific output format required, such as returning the result as an integer or in a specific data structure?\n\n4. What should we do if the input string is empty? Should we return 0 or handle it differently?\n\n5. Are there any performance constraints we should be aware of, especially considering the maximum length of the input string (up to 20,000 characters)?"
      ]
    },
    {
      "cell_type": "markdown",
      "metadata": {},
      "source": [
        "## Test Edge Cases",
        "",
        "Here are 8 important test edge cases to consider for the \"Swap For Longest Repeated Character Substring\" problem:\n\n1. **Empty String**  \n   **Input:** `text = \"\"`  \n   **Output:** `0`  \n   **Description:** Tests the lower boundary condition where the input string is empty. The expected output should be `0` since there are no characters to form a substring.\n\n2. **Single Character String**  \n   **Input:** `text = \"a\"`  \n   **Output:** `1`  \n   **Description:** Tests the case where the string has only one character. The longest repeated character substring is the character itself.\n\n3. **Two Different Characters**  \n   **Input:** `text = \"ab\"`  \n   **Output:** `1`  \n   **Description:** Tests a minimal case with two different characters. The longest repeated substring after any swap will still be `1`.\n\n4. **Two Identical Characters**  \n   **Input:** `text = \"aa\"`  \n   **Output:** `2`  \n   **Description:** Tests a minimal case with two identical characters. The longest repeated substring is the entire string itself.\n\n5. **Maximum Length with All Identical Characters**  \n   **Input:** `text = \"a\" * 20000`  \n   **Output:** `20000`  \n   **Description:** Tests the upper boundary condition where the string consists of the maximum allowed length with all identical characters. The output should be equal to the length of the string.\n\n6. **Maximum Length with Alternating Characters**  \n   **Input:** `text = \"abababababababababab...\"` (10,000 'ab' pairs)  \n   **Output:** `3`  \n   **Description:** Tests performance with a maximum length string where characters alternate. A swap can create a substring of length `3` (e.g., \"aaa\").\n\n7. **String with Multiple Repeated Characters**  \n   **Input:** `text = \"aabbccddeeffgg\"`  \n   **Output:** `8`  \n   **Description:** Tests a case with multiple characters where swaps can create a longer repeated substring. The longest substring can be formed by swapping characters to create \"aaaaaa\".\n\n8. **String with One Character Dominating**  \n   **Input:** `text = \"aaabbbcccddddeee\"`  \n   **Output:** `10`  \n   **Description:** Tests a scenario where one character appears significantly more than others. The longest repeated substring can be formed by swapping to maximize the count of the dominant character.\n\nThese edge cases cover a range of scenarios, including boundary conditions, special values, and performance considerations, ensuring a comprehensive test suite for the problem."
      ]
    },
    {
      "cell_type": "markdown",
      "metadata": {},
      "source": [
        "To solve the problem of finding the length of the longest substring with repeated characters after swapping two characters in the given string, we can follow this approach:",
        "",
        "### Approach",
        "",
        "1. **Character Frequency Count**: First, we need to count the frequency of each character in the string. This will help us understand which characters are the most frequent and how many swaps we may need to maximize the length of the repeated substring.",
        "",
        "2. **Longest Repeated Substring**: The longest substring that we can form after one swap will be determined by the most frequent character. If we have `max_freq` as the frequency of the most common character, we can potentially increase the length of the substring to `max_freq + 1` if there are enough characters to swap with.",
        "",
        "3. **Sliding Window Technique**: We can use a sliding window approach to find the longest substring that can be formed with the most frequent character. This involves expanding the window while keeping track of the number of characters that are not the most frequent character.",
        "",
        "4. **Check Conditions**: If the number of non-most-frequent characters in the current window exceeds 1, we need to shrink the window from the left.",
        "",
        "5. **Result Calculation**: The maximum length of the substring found through the above steps will be our result.",
        "",
        "### Python Code Solution",
        "",
        "Here is the Python code implementing the above approach:"
      ]
    },
    {
      "cell_type": "code",
      "execution_count": null,
      "metadata": {},
      "outputs": [],
      "source": [
        "def characterFrequency(text):",
        "    \"\"\"",
        "    Helper function to count the frequency of each character in the string.",
        "    \"\"\"",
        "    frequency = {}",
        "    for char in text:",
        "        if char in frequency:",
        "            frequency[char] += 1",
        "        else:",
        "            frequency[char] = 1",
        "    return frequency",
        "",
        "def maxRepOpt1(text):",
        "    # Count the frequency of each character",
        "    freq = characterFrequency(text)",
        "    ",
        "    # Find the maximum frequency of any character",
        "    max_freq = max(freq.values())",
        "    ",
        "    # Initialize variables for sliding window",
        "    left = 0",
        "    max_length = 0",
        "    n = len(text)",
        "    ",
        "    # Keep track of the current character to maximize the window on",
        "    for right in range(n):",
        "        # If we encounter a character that is not the most frequent one",
        "        if text[right] not in freq or freq[text[right]] < max_freq:",
        "            # Expand the window",
        "            # Check if we can include this character in our count",
        "            while (right - left + 1) - (freq[text[right]] if text[right] in freq else 0) > 1:",
        "                left += 1",
        "        ",
        "        # Calculate the current window length",
        "        current_length = right - left + 1",
        "        max_length = max(max_length, current_length)",
        "    ",
        "    # The longest repeated character substring can be at most:",
        "    return min(max_length, len(text)) if max_length > 0 else 0",
        "",
        "# Example usages",
        "print(maxRepOpt1(\"ababa\"))  # Output: 3",
        "print(maxRepOpt1(\"aaabaaa\"))  # Output: 6",
        "print(maxRepOpt1(\"aaaaa\"))  # Output: 5"
      ]
    },
    {
      "cell_type": "markdown",
      "metadata": {},
      "source": [
        "### Time and Space Complexity Analysis",
        "",
        "- **Time Complexity**: The above solution runs in O(n) time complexity where n is the length of the string. This is because we traverse the string a limited number of times: once for counting frequencies and then again for the sliding window.",
        "",
        "- **Space Complexity**: The space complexity is O(1) if we consider the character set size (which is constant, i.e., 26 lowercase letters). However, if we count the space used for the frequency dictionary, it could also be considered O(k), where k is the number of unique characters in the string, but since k is at most 26, we can consider it O(1) in our context.",
        "",
        "This code solution efficiently finds the length of the longest substring with repeated characters after a single swap, adhering to the constraints provided in the problem statement."
      ]
    },
    {
      "cell_type": "markdown",
      "metadata": {},
      "source": [
        "---",
        "",
        ""
      ]
    },
    {
      "cell_type": "markdown",
      "metadata": {},
      "source": [
        "# Get Equal Substrings Within Budget (#1208)",
        "",
        "**Difficulty:** Medium  ",
        "**Date:** 2025-08-04 23:40:45  ",
        "**URL:** https://leetcode.com/problems/get-equal-substrings-within-budget/",
        "",
        "---"
      ]
    },
    {
      "cell_type": "markdown",
      "metadata": {},
      "source": [
        "## Problem Description",
        "",
        "You are given two strings s and t of the same length and an integer maxCost.\n\nYou want to change s to t. Changing the ith character of s to ith character of t costs |s[i] - t[i]| (i.e., the absolute difference between the ASCII values of the characters).\n\nReturn the maximum length of a substring of s that can be changed to be the same as the corresponding substring of t with a cost less than or equal to maxCost. If there is no substring from s that can be changed to its corresponding substring from t, return 0.\n\n&nbsp;\nExample 1:\n\n\nInput: s = &quot;abcd&quot;, t = &quot;bcdf&quot;, maxCost = 3\nOutput: 3\nExplanation: &quot;abc&quot; of s can change to &quot;bcd&quot;.\nThat costs 3, so the maximum length is 3.\n\n\nExample 2:\n\n\nInput: s = &quot;abcd&quot;, t = &quot;cdef&quot;, maxCost = 3\nOutput: 1\nExplanation: Each character in s costs 2 to change to character in t,  so the maximum length is 1.\n\n\nExample 3:\n\n\nInput: s = &quot;abcd&quot;, t = &quot;acde&quot;, maxCost = 0\nOutput: 1\nExplanation: You cannot make any change, so the maximum length is 1.\n\n\n&nbsp;\nConstraints:\n\n\n\t1 <= s.length <= 105\n\tt.length == s.length\n\t0 <= maxCost <= 106\n\ts and t consist of only lowercase English letters.\n\n"
      ]
    },
    {
      "cell_type": "markdown",
      "metadata": {},
      "source": [
        "## Clarifying Questions",
        "",
        "1. Are there any specific edge cases we should consider, such as when `maxCost` is 0 or when the strings `s` and `t` are identical?\n\n2. Can you clarify if the input strings `s` and `t` will always be of the same length, and if there are any constraints on the characters they can contain beyond being lowercase English letters?\n\n3. What should the function return if the maximum length of a substring that can be changed is less than 1? Should it return 0, or is there a different expected behavior?\n\n4. Are there any performance requirements we should keep in mind, such as time complexity or memory usage, given that the length of the strings can be up to 100,000?\n\n5. Is it acceptable to use a sliding window approach to solve this problem, or are there any restrictions on the methods or algorithms we can use?"
      ]
    },
    {
      "cell_type": "markdown",
      "metadata": {},
      "source": [
        "## Test Edge Cases",
        "",
        "Here are 8 important test edge cases to consider for the \"Get Equal Substrings Within Budget\" problem:\n\n1. **Minimum Input Size**: \n   - Input: `s = \"a\"`, `t = \"b\"`, `maxCost = 1`\n   - Description: Tests the smallest possible input where `s` and `t` are single characters with a cost equal to `maxCost`.\n\n2. **No Changes Allowed**: \n   - Input: `s = \"xyz\"`, `t = \"abc\"`, `maxCost = 0`\n   - Description: Tests the case where no changes can be made (cost is zero), expecting the output to be 0 since no characters can be changed.\n\n3. **Exact Match**: \n   - Input: `s = \"hello\"`, `t = \"hello\"`, `maxCost = 10`\n   - Description: Tests the scenario where both strings are identical, expecting the output to be the length of the strings (5).\n\n4. **All Characters Different with High Cost**: \n   - Input: `s = \"abcd\"`, `t = \"wxyz\"`, `maxCost = 100`\n   - Description: Tests the case where all characters are different and the cost to change them is high enough to allow changing the entire string.\n\n5. **Maximum Length with Incremental Costs**: \n   - Input: `s = \"abcdef\"`, `t = \"abcdef\"`, `maxCost = 6`\n   - Description: Tests the maximum length case where all characters match, expecting the output to be the length of the strings (6).\n\n6. **Cost Exceeds Max Cost**: \n   - Input: `s = \"abcd\"`, `t = \"efgh\"`, `maxCost = 5`\n   - Description: Tests a scenario where the total cost to change any character exceeds `maxCost`, expecting the output to be 0.\n\n7. **Large Input Size**: \n   - Input: `s = \"a\" * 10^5`, `t = \"b\" * 10^5`, `maxCost = 10^6`\n   - Description: Tests the performance edge case with the maximum allowed length of strings, ensuring the solution can handle large inputs efficiently.\n\n8. **Alternating Characters with Low Cost**: \n   - Input: `s = \"abababab\"`, `t = \"babababa\"`, `maxCost = 4`\n   - Description: Tests a case where characters alternate and the cost is low enough to allow for several changes, expecting the output to reflect the maximum length of changeable substrings. \n\nThese test cases cover a range of scenarios including boundary conditions, special values, and performance considerations that are critical for ensuring the robustness of the solution."
      ]
    },
    {
      "cell_type": "markdown",
      "metadata": {},
      "source": [
        "To solve the problem of finding the maximum length of a substring that can be changed from string `s` to string `t` within a given budget `maxCost`, we can use a two-pointer (or sliding window) approach. Here’s a step-by-step explanation of the approach, followed by the Python code and complexity analysis.",
        "",
        "### 1. Approach Explanation",
        "- **Two-Pointer Technique**: We will maintain a window defined by two pointers (`start` and `end`). The `end` pointer will expand the window by moving to the right, while the `start` pointer will contract the window from the left when the total cost exceeds `maxCost`.",
        "  ",
        "- **Cost Calculation**: The cost to change a character `s[i]` to `t[i]` is calculated as `abs(ord(s[i]) - ord(t[i]))`. For every character, we will keep adding this cost to a running total (`currentCost`).",
        "",
        "- **Window Adjustment**: If at any point the `currentCost` exceeds `maxCost`, we will increment the `start` pointer until the total cost is within the budget again. This means we will be adjusting the left end of the window to ensure we stay within the allowed cost.",
        "",
        "- **Max Length Calculation**: Throughout this process, we will keep track of the maximum length of the valid substring (where the cost is less than or equal to `maxCost`).",
        "",
        "### 2. Python Code Solution",
        "Here is the Python code that implements the above approach:"
      ]
    },
    {
      "cell_type": "code",
      "execution_count": null,
      "metadata": {},
      "outputs": [],
      "source": [
        "def equalSubstring(s: str, t: str, maxCost: int) -> int:",
        "    # Initialize two pointers and variables to track costs and max length",
        "    start = 0",
        "    currentCost = 0",
        "    maxLength = 0",
        "    ",
        "    # Loop through the end of the substring",
        "    for end in range(len(s)):",
        "        # Calculate the cost to change s[end] to t[end]",
        "        currentCost += abs(ord(s[end]) - ord(t[end]))",
        "        ",
        "        # While the current cost exceeds the maximum allowed cost",
        "        while currentCost > maxCost:",
        "            # Reduce the cost by moving the start pointer",
        "            currentCost -= abs(ord(s[start]) - ord(t[start]))",
        "            start += 1",
        "        ",
        "        # Update the maximum length of the valid substring found",
        "        maxLength = max(maxLength, end - start + 1)",
        "    ",
        "    return maxLength"
      ]
    },
    {
      "cell_type": "markdown",
      "metadata": {},
      "source": [
        "### 3. Time and Space Complexity Analysis",
        "- **Time Complexity**: The algorithm runs in O(n) time, where n is the length of the strings `s` and `t`. This is because each character is processed at most twice (once by the `end` pointer and once by the `start` pointer).",
        "  ",
        "- **Space Complexity**: The space complexity is O(1) because we are using a fixed number of variables to store the current cost, maximum length, and the indices of the pointers. We do not use any additional data structures that grow with input size.",
        "",
        "This efficient approach ensures that we can handle the upper limits of input sizes as specified in the problem constraints."
      ]
    },
    {
      "cell_type": "markdown",
      "metadata": {},
      "source": [
        "---",
        "",
        ""
      ]
    },
    {
      "cell_type": "markdown",
      "metadata": {},
      "source": [
        "# Replace the Substring for Balanced String (#1234)",
        "",
        "**Difficulty:** Medium  ",
        "**Date:** 2025-08-04 23:41:26  ",
        "**URL:** https://leetcode.com/problems/replace-the-substring-for-balanced-string/",
        "",
        "---"
      ]
    },
    {
      "cell_type": "markdown",
      "metadata": {},
      "source": [
        "## Problem Description",
        "",
        "You are given a string s of length n containing only four kinds of characters: &#39;Q&#39;, &#39;W&#39;, &#39;E&#39;, and &#39;R&#39;.\n\nA string is said to be balanced if each of its characters appears n / 4 times where n is the length of the string.\n\nReturn the minimum length of the substring that can be replaced with any other string of the same length to make s balanced. If s is already balanced, return 0.\n\n&nbsp;\nExample 1:\n\n\nInput: s = &quot;QWER&quot;\nOutput: 0\nExplanation: s is already balanced.\n\n\nExample 2:\n\n\nInput: s = &quot;QQWE&quot;\nOutput: 1\nExplanation: We need to replace a &#39;Q&#39; to &#39;R&#39;, so that &quot;RQWE&quot; (or &quot;QRWE&quot;) is balanced.\n\n\nExample 3:\n\n\nInput: s = &quot;QQQW&quot;\nOutput: 2\nExplanation: We can replace the first &quot;QQ&quot; to &quot;ER&quot;. \n\n\n&nbsp;\nConstraints:\n\n\n\tn == s.length\n\t4 <= n <= 105\n\tn is a multiple of 4.\n\ts contains only &#39;Q&#39;, &#39;W&#39;, &#39;E&#39;, and &#39;R&#39;.\n\n"
      ]
    },
    {
      "cell_type": "markdown",
      "metadata": {},
      "source": [
        "## Clarifying Questions",
        "",
        "1. What should we consider as the definition of a \"balanced\" string in terms of character distribution, and how do we handle cases where the string is already balanced?\n\n2. Are there any specific constraints or edge cases we should be aware of, such as the minimum length of the string or the distribution of characters within it?\n\n3. Can we assume that the input string will always contain only the characters 'Q', 'W', 'E', and 'R', and how should we handle unexpected characters if they appear?\n\n4. Is there a specific time complexity requirement for the solution, given that the length of the string can be up to 100,000 characters?\n\n5. If multiple substrings can be replaced to achieve a balanced string, should we return the length of the smallest substring, or is there a preference for the first valid substring found?"
      ]
    },
    {
      "cell_type": "markdown",
      "metadata": {},
      "source": [
        "## Test Edge Cases",
        "",
        "Here are 8 important test edge cases to consider for the \"Replace the Substring for Balanced String\" problem:\n\n1. **Already Balanced String**:\n   - **Input**: `s = \"QQWWEERR\"`\n   - **Description**: The string is already balanced (each character appears twice). The output should be `0`.\n\n2. **Minimum Length String**:\n   - **Input**: `s = \"QWQR\"`\n   - **Description**: The smallest valid input where the string is balanced. The output should be `0`.\n\n3. **All Characters the Same**:\n   - **Input**: `s = \"QQQQ\"`\n   - **Description**: A string where all characters are the same. The output should be `3` since we need to replace three 'Q's to balance it.\n\n4. **Maximum Length String with Imbalance**:\n   - **Input**: `s = \"Q\" * 25000 + \"W\" * 25000 + \"E\" * 25000 + \"R\" * 25000`\n   - **Description**: A string of maximum length (100,000) that is already balanced. The output should be `0`.\n\n5. **Single Character Excess**:\n   - **Input**: `s = \"QQWERR\"`\n   - **Description**: A string where one character is in excess. The output should be `1` since we can replace one 'Q' to balance it.\n\n6. **Multiple Characters in Excess**:\n   - **Input**: `s = \"QQQQWWWW\"`\n   - **Description**: A string with multiple characters in excess. The output should be `4` since we need to replace four characters to balance it.\n\n7. **Alternating Characters**:\n   - **Input**: `s = \"QWQWQWQW\"`\n   - **Description**: A string with alternating characters that are not balanced. The output should be `2` since we can replace two 'Q's to balance it.\n\n8. **Performance Edge Case with Random Distribution**:\n   - **Input**: `s = \"QWEEQRWRQQWWERQWEEQQWRRQQWW\"` (random distribution of characters)\n   - **Description**: A large string (length 32) with a random distribution of characters that requires multiple replacements. The expected output should be calculated based on the imbalance.\n\nThese test cases cover a range of scenarios including balanced strings, unbalanced strings with varying degrees of imbalance, and edge cases related to string length and character distribution."
      ]
    },
    {
      "cell_type": "markdown",
      "metadata": {},
      "source": [
        "### Explanation of the Approach",
        "",
        "To solve the problem of replacing substrings to make the string balanced, we can follow these steps:",
        "",
        "1. **Understand the Requirements**: A balanced string has each character appearing exactly `n/4` times, where `n` is the length of the string.",
        "",
        "2. **Count the Current Characters**: We first count the occurrences of each character ('Q', 'W', 'E', 'R') in the string. This will help us determine how many of each character are in excess.",
        "",
        "3. **Calculate Excess**: For each character, if its count is greater than `n/4`, we compute how much excess it has. If it's less than or equal to `n/4`, it is in balance.",
        "",
        "4. **Use a Sliding Window Technique**: We will use a sliding window approach to find the smallest substring that can be replaced to achieve balance. The idea is to maintain a window that contains characters contributing to the excess.",
        "",
        "5. **Adjust the Window**: Start with an empty window and expand it until the characters within the window can cover the excess. Once we have a valid window, we can attempt to shrink it from the left to find the minimum length.",
        "",
        "6. **Return the Minimum Length**: After evaluating all possible windows, we will return the smallest length found.",
        "",
        "### Python Code Solution",
        "",
        "Here is the Python code implementing the above approach:"
      ]
    },
    {
      "cell_type": "code",
      "execution_count": null,
      "metadata": {},
      "outputs": [],
      "source": [
        "def balancedString(s: str) -> int:",
        "    from collections import Counter",
        "    ",
        "    n = len(s)",
        "    target = n // 4  # Each character should appear this many times",
        "    count = Counter(s)  # Count occurrences of each character",
        "    ",
        "    # Calculate how many characters are in excess",
        "    excess = {",
        "        'Q': max(count['Q'] - target, 0),",
        "        'W': max(count['W'] - target, 0),",
        "        'E': max(count['E'] - target, 0),",
        "        'R': max(count['R'] - target, 0),",
        "    }",
        "    ",
        "    # If no characters are in excess, the string is already balanced",
        "    if sum(excess.values()) == 0:",
        "        return 0",
        "    ",
        "    # Total excess characters to balance",
        "    total_excess = sum(excess.values())",
        "    ",
        "    left = 0",
        "    min_length = float('inf')",
        "    ",
        "    # Sliding window",
        "    for right in range(n):",
        "        # Decrease the count of the character at right index",
        "        char_right = s[right]",
        "        if char_right in excess:",
        "            excess[char_right] -= 1",
        "        ",
        "        # While we have balanced the excess (i.e., all excess counts are <= 0)",
        "        while all(x <= 0 for x in excess.values()):",
        "            # Update the minimum length found",
        "            min_length = min(min_length, right - left + 1)",
        "            ",
        "            # Try to shrink the window from the left",
        "            char_left = s[left]",
        "            if char_left in excess:",
        "                excess[char_left] += 1",
        "            left += 1",
        "            ",
        "    return min_length",
        "",
        "# Example usage:",
        "s1 = \"QWER\"",
        "s2 = \"QQWE\"",
        "s3 = \"QQQW\"",
        "print(balancedString(s1))  # Output: 0",
        "print(balancedString(s2))  # Output: 1",
        "print(balancedString(s3))  # Output: 2"
      ]
    },
    {
      "cell_type": "markdown",
      "metadata": {},
      "source": [
        "### Time and Space Complexity Analysis",
        "",
        "- **Time Complexity**: The algorithm uses a sliding window approach, where both pointers (left and right) traverse the string at most `n` times. Thus, the time complexity is O(n).",
        "",
        "- **Space Complexity**: We use a `Counter` to count characters and an `excess` dictionary to track excess characters, both of which take O(1) space since the number of unique characters is constant (4 characters). Therefore, the space complexity is O(1).",
        "",
        "In summary, the approach efficiently calculates the minimum substring length needed to make the string balanced using character counting and the sliding window technique."
      ]
    },
    {
      "cell_type": "markdown",
      "metadata": {},
      "source": [
        "---",
        "",
        ""
      ]
    },
    {
      "cell_type": "markdown",
      "metadata": {},
      "source": [
        "# Count Number of Nice Subarrays (#1248)",
        "",
        "**Difficulty:** Medium  ",
        "**Date:** 2025-08-04 23:41:39  ",
        "**URL:** https://leetcode.com/problems/count-number-of-nice-subarrays/",
        "",
        "---"
      ]
    },
    {
      "cell_type": "markdown",
      "metadata": {},
      "source": [
        "## Problem Description",
        "",
        "Given an array of integers nums and an integer k. A continuous subarray is called nice if there are k odd numbers on it.\n\nReturn the number of nice sub-arrays.\n\n&nbsp;\nExample 1:\n\n\nInput: nums = [1,1,2,1,1], k = 3\nOutput: 2\nExplanation: The only sub-arrays with 3 odd numbers are [1,1,2,1] and [1,2,1,1].\n\n\nExample 2:\n\n\nInput: nums = [2,4,6], k = 1\nOutput: 0\nExplanation: There are no odd numbers in the array.\n\n\nExample 3:\n\n\nInput: nums = [2,2,2,1,2,2,1,2,2,2], k = 2\nOutput: 16\n\n\n&nbsp;\nConstraints:\n\n\n\t1 <= nums.length <= 50000\n\t1 <= nums[i] <= 10^5\n\t1 <= k <= nums.length\n\n"
      ]
    },
    {
      "cell_type": "markdown",
      "metadata": {},
      "source": [
        "## Clarifying Questions",
        "",
        "1. Are we considering subarrays that contain exactly `k` odd numbers, or can they contain more than `k` odd numbers as long as there are at least `k` odd numbers present?\n\n2. Should we account for subarrays that start and end at the same index (i.e., single-element subarrays) if that element is odd and `k` is 1?\n\n3. Can the input array `nums` contain negative integers, or is it guaranteed to only contain positive integers as indicated by the constraints?\n\n4. What should we return if `k` is greater than the total number of odd numbers in the array? Should it always return 0 in such cases?\n\n5. Are there any performance constraints or expected time complexity for the solution, considering the maximum length of the array can be up to 50,000?"
      ]
    },
    {
      "cell_type": "markdown",
      "metadata": {},
      "source": [
        "## Test Edge Cases",
        "",
        "Here are 8 important test edge cases to consider for the \"Count Number of Nice Subarrays\" problem:\n\n1. **Empty Array**:\n   - **Input**: `nums = [], k = 1`\n   - **Description**: Tests the behavior of the function with an empty input array. Expected output is `0` since there are no subarrays.\n\n2. **Single Element (Odd)**:\n   - **Input**: `nums = [1], k = 1`\n   - **Description**: Tests the simplest case with a single odd number. Expected output is `1` since the only subarray is the element itself.\n\n3. **Single Element (Even)**:\n   - **Input**: `nums = [2], k = 1`\n   - **Description**: Tests the simplest case with a single even number. Expected output is `0` since there are no odd numbers.\n\n4. **All Odd Numbers**:\n   - **Input**: `nums = [1, 3, 5, 7], k = 4`\n   - **Description**: Tests the case where all numbers are odd and equal to `k`. Expected output is `1` since the entire array is the only subarray.\n\n5. **All Even Numbers**:\n   - **Input**: `nums = [2, 4, 6, 8], k = 1`\n   - **Description**: Tests the case where there are no odd numbers. Expected output is `0`.\n\n6. **Multiple Odd and Even Numbers**:\n   - **Input**: `nums = [1, 2, 3, 4, 5, 6], k = 2`\n   - **Description**: Tests a mixed array with multiple odd and even numbers. Expected output is `5`, as there are five subarrays containing exactly two odd numbers.\n\n7. **Maximum Size Array with Duplicates**:\n   - **Input**: `nums = [1] * 50000, k = 50000`\n   - **Description**: Tests the maximum size of the input array with all elements being odd. Expected output is `1`, since the entire array is the only subarray.\n\n8. **Performance Edge Case with Sparse Odd Numbers**:\n   - **Input**: `nums = [2] * 49999 + [1], k = 1`\n   - **Description**: Tests performance with a large array where only one element is odd. Expected output is `49999`, as each subarray ending with the odd number will have exactly one odd number.\n\nThese test cases cover a variety of scenarios, including edge cases related to array size, composition, and the presence of odd/even numbers."
      ]
    },
    {
      "cell_type": "markdown",
      "metadata": {},
      "source": [
        "To solve the problem of counting the number of \"nice\" subarrays that contain exactly `k` odd numbers, we can employ a two-pointer or sliding window approach combined with a helper function that counts subarrays with at most `k` odd numbers. ",
        "",
        "### Approach:",
        "",
        "1. **Helper Function**: We will create a helper function `atMostK(nums, k)` that counts the number of subarrays with at most `k` odd numbers. This function will iterate through the array, using two pointers to maintain a window of valid subarrays.",
        "",
        "2. **Counting Nice Subarrays**: The number of subarrays with exactly `k` odd numbers can be computed by:",
        "   \\[",
        "   \\text{exactly\\_k\\_odds} = \\text{atMostK}(nums, k) - \\text{atMostK}(nums, k-1)",
        "   \\]",
        "   This is because:",
        "   - `atMostK(nums, k)` gives us all subarrays with `k` or fewer odd numbers.",
        "   - `atMostK(nums, k-1)` gives us all subarrays with fewer than `k` odd numbers.",
        "   By subtracting these two counts, we isolate the count of subarrays that have exactly `k` odd numbers.",
        "",
        "### Implementation:",
        "",
        "Here’s a detailed Python implementation of the above approach:"
      ]
    },
    {
      "cell_type": "code",
      "execution_count": null,
      "metadata": {},
      "outputs": [],
      "source": [
        "def countNiceSubarrays(nums, k):",
        "    def atMostK(nums, k):",
        "        # This function will count subarrays with at most k odd numbers",
        "        count = 0",
        "        left = 0",
        "        odd_count = 0",
        "",
        "        for right in range(len(nums)):",
        "            # If the current number is odd, increment the odd count",
        "            if nums[right] % 2 == 1:",
        "                odd_count += 1",
        "            ",
        "            # While the count of odd numbers exceeds k, move the left pointer",
        "            while odd_count > k:",
        "                if nums[left] % 2 == 1:",
        "                    odd_count -= 1",
        "                left += 1",
        "            ",
        "            # Count all subarrays ending at 'right'",
        "            count += right - left + 1",
        "",
        "        return count",
        "",
        "    # Calculate the number of subarrays with exactly k odd numbers",
        "    return atMostK(nums, k) - atMostK(nums, k - 1)",
        "",
        "# Example usage:",
        "print(countNiceSubarrays([1, 1, 2, 1, 1], 3))  # Output: 2",
        "print(countNiceSubarrays([2, 4, 6], 1))        # Output: 0",
        "print(countNiceSubarrays([2, 2, 2, 1, 2, 2, 1, 2, 2, 2], 2))  # Output: 16"
      ]
    },
    {
      "cell_type": "markdown",
      "metadata": {},
      "source": [
        "### Explanation of the Code:",
        "- The `atMostK` function uses a sliding window technique. The `right` pointer iterates through the elements of `nums`, while the `left` pointer adjusts to ensure that the count of odd numbers in the current window does not exceed `k`.",
        "- For each position of `right`, if the number of odd numbers in the current window is valid (i.e., does not exceed `k`), we count all possible subarrays that can be formed with the current `right` pointer while keeping `left` at its current position.",
        "- The final result is obtained by calculating the difference between the counts of subarrays with at most `k` and at most `k-1` odd numbers.",
        "",
        "### Time Complexity:",
        "The time complexity of the solution is O(n), where n is the length of the input array `nums`. Each element is processed at most twice (once by the `right` pointer and once by the `left` pointer).",
        "",
        "### Space Complexity:",
        "The space complexity is O(1), as we are using a constant amount of space to store counters and pointers, regardless of the input size."
      ]
    },
    {
      "cell_type": "markdown",
      "metadata": {},
      "source": [
        "---",
        "",
        ""
      ]
    },
    {
      "cell_type": "markdown",
      "metadata": {},
      "source": [
        "# Restaurant Growth (#1321)",
        "",
        "**Difficulty:** Medium  ",
        "**Date:** 2025-08-04 23:43:21  ",
        "**URL:** https://leetcode.com/problems/restaurant-growth/",
        "",
        "---"
      ]
    },
    {
      "cell_type": "markdown",
      "metadata": {},
      "source": [
        "## Problem Description",
        "",
        "Table: Customer\n\n\n+---------------+---------+\n| Column Name   | Type    |\n+---------------+---------+\n| customer_id   | int     |\n| name          | varchar |\n| visited_on    | date    |\n| amount        | int     |\n+---------------+---------+\nIn SQL,(customer_id, visited_on) is the primary key for this table.\nThis table contains data about customer transactions in a restaurant.\nvisited_on is the date on which the customer with ID (customer_id) has visited the restaurant.\namount is the total paid by a customer.\n\n\n&nbsp;\n\nYou are the restaurant owner and you want to analyze a possible expansion (there will be at least one customer every day).\n\nCompute the moving average of how much the customer paid in a seven days window (i.e., current day + 6 days before). average_amount should be rounded to two decimal places.\n\nReturn the result table ordered by visited_on in ascending order.\n\nThe result format is in the following example.\n\n&nbsp;\nExample 1:\n\n\nInput: \nCustomer table:\n+-------------+--------------+--------------+-------------+\n| customer_id | name         | visited_on   | amount      |\n+-------------+--------------+--------------+-------------+\n| 1           | Jhon         | 2019-01-01   | 100         |\n| 2           | Daniel       | 2019-01-02   | 110         |\n| 3           | Jade         | 2019-01-03   | 120         |\n| 4           | Khaled       | 2019-01-04   | 130         |\n| 5           | Winston      | 2019-01-05   | 110         | \n| 6           | Elvis        | 2019-01-06   | 140         | \n| 7           | Anna         | 2019-01-07   | 150         |\n| 8           | Maria        | 2019-01-08   | 80          |\n| 9           | Jaze         | 2019-01-09   | 110         | \n| 1           | Jhon         | 2019-01-10   | 130         | \n| 3           | Jade         | 2019-01-10   | 150         | \n+-------------+--------------+--------------+-------------+\nOutput: \n+--------------+--------------+----------------+\n| visited_on   | amount       | average_amount |\n+--------------+--------------+----------------+\n| 2019-01-07   | 860          | 122.86         |\n| 2019-01-08   | 840          | 120            |\n| 2019-01-09   | 840          | 120            |\n| 2019-01-10   | 1000         | 142.86         |\n+--------------+--------------+----------------+\nExplanation: \n1st moving average from 2019-01-01 to 2019-01-07 has an average_amount of (100 + 110 + 120 + 130 + 110 + 140 + 150)/7 = 122.86\n2nd moving average from 2019-01-02 to 2019-01-08 has an average_amount of (110 + 120 + 130 + 110 + 140 + 150 + 80)/7 = 120\n3rd moving average from 2019-01-03 to 2019-01-09 has an average_amount of (120 + 130 + 110 + 140 + 150 + 80 + 110)/7 = 120\n4th moving average from 2019-01-04 to 2019-01-10 has an average_amount of (130 + 110 + 140 + 150 + 80 + 110 + 130 + 150)/7 = 142.86\n\n"
      ]
    },
    {
      "cell_type": "markdown",
      "metadata": {},
      "source": [
        "## Clarifying Questions",
        "",
        "1. **What should we do if there are fewer than 7 days of data available for a given date?** Should we return NULL for the average_amount or exclude those dates from the results?\n\n2. **Is there a specific date range we should consider for the analysis, or should we include all available dates in the Customer table?** For example, should we only consider dates where at least one customer visited?\n\n3. **How should we handle multiple transactions by the same customer on the same day?** Should we sum the amounts for that day, or should we treat each transaction separately?\n\n4. **Are there any constraints on the amount paid by customers?** For instance, can the amount be negative, or is it guaranteed to be a non-negative integer?\n\n5. **What is the expected output format for the average_amount?** Should it always be rounded to two decimal places, even if it is a whole number (e.g., should it display as 120.00)?"
      ]
    },
    {
      "cell_type": "markdown",
      "metadata": {},
      "source": [
        "## Test Edge Cases",
        "",
        "Here are 8 important test edge cases to consider for the \"Restaurant Growth\" problem:\n\n1. **Empty Table**:\n   - Input: No records in the Customer table.\n   - Description: This tests the scenario where there are no customer transactions at all. The output should be an empty result set.\n\n2. **Single Day Transaction**:\n   - Input: One record in the Customer table (e.g., `customer_id = 1`, `visited_on = '2023-01-01'`, `amount = 100`).\n   - Description: This tests the case where there is only one transaction. The output should also be empty since a 7-day window cannot be computed.\n\n3. **Exactly Seven Days of Transactions**:\n   - Input: Seven records, each with unique `visited_on` dates spanning seven consecutive days.\n   - Description: This tests the exact boundary condition where the moving average can be calculated for the first time. The output should show the average for that week.\n\n4. **More Than Seven Days with Duplicates**:\n   - Input: More than seven records with some duplicate `customer_id` and `visited_on` dates.\n   - Description: This tests how the system handles duplicate entries and ensures that the moving average is calculated correctly over the 7-day window.\n\n5. **Transactions with Zero Amount**:\n   - Input: Several records including some with `amount = 0`.\n   - Description: This tests how the system handles transactions where customers paid nothing. The moving average should still be computed correctly.\n\n6. **Negative Amounts**:\n   - Input: Several records including some with negative `amount` values.\n   - Description: This tests how the system handles invalid transaction amounts. The moving average should still be computed, but it raises questions about data integrity.\n\n7. **Performance with Large Dataset**:\n   - Input: A large number of records (e.g., 10,000+ transactions) spanning multiple months or years.\n   - Description: This tests the performance and efficiency of the query. It ensures that the solution can handle large datasets without timing out or crashing.\n\n8. **Gaps in Dates**:\n   - Input: Records with gaps in the `visited_on` dates (e.g., transactions on `2023-01-01`, `2023-01-03`, `2023-01-05`, etc.).\n   - Description: This tests how the system handles calculations when there are missing days in the transaction history. The moving average should only consider the available days within the 7-day window.\n\nThese edge cases will help ensure that the solution is robust and can handle a variety of scenarios effectively."
      ]
    },
    {
      "cell_type": "markdown",
      "metadata": {},
      "source": [
        "To solve the \"Restaurant Growth\" problem from LeetCode, we need to calculate the moving average of the total amount spent by customers over a 7-day window. Here is a step-by-step explanation of the approach, followed by the Python code solution and complexity analysis.",
        "",
        "### 1. Explanation of the Approach",
        "",
        "1. **Aggregate the Data**: We need to first aggregate the total amount spent by customers for each date in the `Customer` table. This will help us to calculate the total amount for any given day when calculating the moving average.",
        "",
        "2. **Calculate the Moving Average**: For each date, we will compute the total amount spent by customers from that date and the previous six days (a total of 7 days). ",
        "",
        "3. **Use SQL Window Functions**: We can utilize SQL window functions to make this calculation easier. We will sum the amounts over the specified date range and compute the average.",
        "",
        "4. **Round the Result**: The average should be rounded to two decimal places as specified in the problem.",
        "",
        "5. **Ordering the Results**: Finally, we will return the results ordered by the date.",
        "",
        "### 2. Python Code Solution",
        "",
        "Here's the SQL query that accomplishes this task:"
      ]
    },
    {
      "cell_type": "code",
      "execution_count": null,
      "metadata": {},
      "outputs": [],
      "source": [
        "SELECT ",
        "    visited_on, ",
        "    SUM(amount) AS amount,",
        "    ROUND(SUM(amount) / 7.0, 2) AS average_amount",
        "FROM ",
        "    Customer",
        "WHERE ",
        "    visited_on >= DATE_SUB(visited_on, INTERVAL 6 DAY)",
        "GROUP BY ",
        "    visited_on",
        "HAVING ",
        "    COUNT(DISTINCT visited_on) = 7",
        "ORDER BY ",
        "    visited_on;"
      ]
    },
    {
      "cell_type": "markdown",
      "metadata": {},
      "source": [
        "### 3. Time and Space Complexity Analysis",
        "",
        "- **Time Complexity**: The time complexity primarily depends on the number of days and the number of records in the `Customer` table. The aggregation process involves grouping and summing amounts, which is generally O(n) for n records, but since we are also checking for the last 7 days, it may vary slightly based on the number of unique dates. Thus, we can estimate the complexity to be O(n).",
        "",
        "- **Space Complexity**: The space complexity is O(d) where d is the number of unique dates in the `Customer` table because we need to store the amounts for these dates while calculating the moving average.",
        "",
        "### Final Note",
        "",
        "The provided SQL query should work in any SQL database that supports window functions. Make sure to execute the query in an environment that has the `Customer` table populated with the necessary data for testing."
      ]
    },
    {
      "cell_type": "markdown",
      "metadata": {},
      "source": [
        "---",
        "",
        ""
      ]
    },
    {
      "cell_type": "markdown",
      "metadata": {},
      "source": [
        "# Number of Sub-arrays of Size K and Average Greater than or Equal to Threshold (#1343)",
        "",
        "**Difficulty:** Medium  ",
        "**Date:** 2025-08-04 23:43:53  ",
        "**URL:** https://leetcode.com/problems/number-of-sub-arrays-of-size-k-and-average-greater-than-or-equal-to-threshold/",
        "",
        "---"
      ]
    },
    {
      "cell_type": "markdown",
      "metadata": {},
      "source": [
        "## Problem Description",
        "",
        "Given an array of integers arr and two integers k and threshold, return the number of sub-arrays of size k and average greater than or equal to threshold.\n\n&nbsp;\nExample 1:\n\n\nInput: arr = [2,2,2,2,5,5,5,8], k = 3, threshold = 4\nOutput: 3\nExplanation: Sub-arrays [2,5,5],[5,5,5] and [5,5,8] have averages 4, 5 and 6 respectively. All other sub-arrays of size 3 have averages less than 4 (the threshold).\n\n\nExample 2:\n\n\nInput: arr = [11,13,17,23,29,31,7,5,2,3], k = 3, threshold = 5\nOutput: 6\nExplanation: The first 6 sub-arrays of size 3 have averages greater than 5. Note that averages are not integers.\n\n\n&nbsp;\nConstraints:\n\n\n\t1 <= arr.length <= 105\n\t1 <= arr[i] <= 104\n\t1 <= k <= arr.length\n\t0 <= threshold <= 104\n\n"
      ]
    },
    {
      "cell_type": "markdown",
      "metadata": {},
      "source": [
        "## Clarifying Questions",
        "",
        "1. Are the elements of the array guaranteed to be non-negative, or can they be negative as well? How should we handle negative numbers in relation to the threshold?\n\n2. Should we consider sub-arrays that contain duplicate elements, and if so, how should they be treated when calculating the average?\n\n3. What should we return if there are no sub-arrays of size k that meet the average condition? Should we return 0, or is there a different expected output?\n\n4. Can you clarify how the average is calculated? Should it be a floating-point division, and how should we handle precision when comparing it to the threshold?\n\n5. Are there any performance constraints or expectations regarding the time complexity of the solution, given that the maximum length of the array can be up to 100,000?"
      ]
    },
    {
      "cell_type": "markdown",
      "metadata": {},
      "source": [
        "## Test Edge Cases",
        "",
        "Here are 8 important test edge cases to consider for the problem of counting sub-arrays of size \\( k \\) with an average greater than or equal to a given threshold:\n\n1. **Minimum Input Values**:\n   - Input: `arr = [1]`, `k = 1`, `threshold = 1`\n   - Description: The smallest possible input where the array has only one element equal to the threshold. This tests the lower boundary condition.\n\n2. **Single Element Below Threshold**:\n   - Input: `arr = [1]`, `k = 1`, `threshold = 2`\n   - Description: A single element that is below the threshold. This checks if the function correctly identifies that no sub-array meets the criteria.\n\n3. **All Elements Equal to Threshold**:\n   - Input: `arr = [4, 4, 4, 4]`, `k = 2`, `threshold = 4`\n   - Description: All elements are equal to the threshold. This tests if the function correctly counts sub-arrays that meet the average condition.\n\n4. **All Elements Below Threshold**:\n   - Input: `arr = [1, 2, 3, 4, 5]`, `k = 3`, `threshold = 6`\n   - Description: All possible sub-arrays of size \\( k \\) have averages below the threshold. This tests the function's ability to return zero when no valid sub-arrays exist.\n\n5. **All Elements Above Threshold**:\n   - Input: `arr = [10, 20, 30, 40]`, `k = 2`, `threshold = 15`\n   - Description: All elements are above the threshold. This checks if the function counts all possible sub-arrays correctly.\n\n6. **Sub-arrays with Mixed Values**:\n   - Input: `arr = [1, 2, 3, 4, 5, 6]`, `k = 3`, `threshold = 4`\n   - Description: This input has mixed values, and the function should correctly identify valid sub-arrays such as `[3, 4, 5]` and `[4, 5, 6]`.\n\n7. **Large Array with Maximum Size**:\n   - Input: `arr = [1, 2, 3, ..., 100000]`, `k = 100000`, `threshold = 50000`\n   - Description: Tests the performance of the function with the maximum constraints. The average of the entire array should be checked against the threshold.\n\n8. **Sub-arrays with Duplicates**:\n   - Input: `arr = [5, 5, 5, 5, 5]`, `k = 3`, `threshold = 5`\n   - Description: All elements are duplicates and equal to the threshold. This tests"
      ]
    },
    {
      "cell_type": "markdown",
      "metadata": {},
      "source": [
        "### Approach Explanation",
        "",
        "To solve the problem of counting sub-arrays of size `k` with an average greater than or equal to a given `threshold`, we can utilize a sliding window technique. This method allows us to efficiently compute the sum of elements in contiguous sub-arrays of fixed size without needing to recalculate the sum from scratch for every possible sub-array.",
        "",
        "Here's the step-by-step breakdown of the approach:",
        "",
        "1. **Calculate the Minimum Required Sum**: ",
        "   - Since we are interested in sub-arrays whose average is at least `threshold`, we can derive that the sum of the sub-array must be at least `k * threshold`. This will help us quickly check if a sub-array meets the average requirement.",
        "",
        "2. **Use a Sliding Window**: ",
        "   - Initialize a variable to keep track of the current sum of the first `k` elements.",
        "   - As we slide the window through the array, update the current sum by subtracting the element that is sliding out of the window and adding the element that is sliding into the window.",
        "",
        "3. **Count Valid Sub-arrays**: ",
        "   - Every time we compute the sum for a window of size `k`, check if it meets or exceeds the minimum required sum. If it does, we increment our count.",
        "",
        "4. **Return the Count**: ",
        "   - After processing the entire array, return the count of valid sub-arrays.",
        "",
        "### Python Code Solution",
        "",
        "Here's the implementation of the above approach:"
      ]
    },
    {
      "cell_type": "code",
      "execution_count": null,
      "metadata": {},
      "outputs": [],
      "source": [
        "def numOfSubarrays(arr, k, threshold):",
        "    # Calculate the minimum sum required for the sub-array to have an average >= threshold",
        "    min_required_sum = k * threshold",
        "    ",
        "    # Initialize variables",
        "    count = 0",
        "    current_sum = 0",
        "    ",
        "    # Calculate the sum of the first 'k' elements",
        "    for i in range(k):",
        "        current_sum += arr[i]",
        "    ",
        "    # Check if the first window meets the requirement",
        "    if current_sum >= min_required_sum:",
        "        count += 1",
        "    ",
        "    # Slide the window across the rest of the array",
        "    for i in range(k, len(arr)):",
        "        # Slide the window: subtract the element going out of the window and add the new element",
        "        current_sum += arr[i] - arr[i - k]",
        "        ",
        "        # Check if the current window meets the requirement",
        "        if current_sum >= min_required_sum:",
        "            count += 1",
        "    ",
        "    return count"
      ]
    },
    {
      "cell_type": "markdown",
      "metadata": {},
      "source": [
        "### Time and Space Complexity Analysis",
        "",
        "- **Time Complexity**: ",
        "  - The algorithm involves a single pass through the array for calculating the initial sum and then another pass for sliding the window. Thus, the time complexity is \\(O(n)\\), where \\(n\\) is the length of the array.",
        "",
        "- **Space Complexity**:",
        "  - We only use a few additional variables (for counting and summing), thus the space complexity is \\(O(1)\\). The solution does not require any extra space that grows with the input size.",
        "",
        "### Conclusion",
        "",
        "This sliding window technique provides an efficient solution to the problem, allowing us to count valid sub-arrays in linear time while maintaining a constant space usage."
      ]
    },
    {
      "cell_type": "markdown",
      "metadata": {},
      "source": [
        "---",
        "",
        ""
      ]
    },
    {
      "cell_type": "markdown",
      "metadata": {},
      "source": [
        "# Number of Substrings Containing All Three Characters (#1358)",
        "",
        "**Difficulty:** Medium  ",
        "**Date:** 2025-08-04 23:44:14  ",
        "**URL:** https://leetcode.com/problems/number-of-substrings-containing-all-three-characters/",
        "",
        "---"
      ]
    },
    {
      "cell_type": "markdown",
      "metadata": {},
      "source": [
        "## Problem Description",
        "",
        "Given a string s&nbsp;consisting only of characters a, b and c.\n\nReturn the number of substrings containing at least&nbsp;one occurrence of all these characters a, b and c.\n\n&nbsp;\nExample 1:\n\n\nInput: s = &quot;abcabc&quot;\nOutput: 10\nExplanation: The substrings containing&nbsp;at least&nbsp;one occurrence of the characters&nbsp;a,&nbsp;b&nbsp;and&nbsp;c are &quot;abc&quot;, &quot;abca&quot;, &quot;abcab&quot;, &quot;abcabc&quot;, &quot;bca&quot;, &quot;bcab&quot;, &quot;bcabc&quot;, &quot;cab&quot;, &quot;cabc&quot; and &quot;abc&quot; (again). \n\n\nExample 2:\n\n\nInput: s = &quot;aaacb&quot;\nOutput: 3\nExplanation: The substrings containing&nbsp;at least&nbsp;one occurrence of the characters&nbsp;a,&nbsp;b&nbsp;and&nbsp;c are &quot;aaacb&quot;, &quot;aacb&quot; and &quot;acb&quot;. \n\n\nExample 3:\n\n\nInput: s = &quot;abc&quot;\nOutput: 1\n\n\n&nbsp;\nConstraints:\n\n\n\t3 <= s.length <= 5 x 10^4\n\ts&nbsp;only consists of&nbsp;a, b or c&nbsp;characters.\n\n"
      ]
    },
    {
      "cell_type": "markdown",
      "metadata": {},
      "source": [
        "## Clarifying Questions",
        "",
        "1. Are there any specific edge cases we should consider, such as strings that contain only one or two of the characters (a, b, or c) or strings that are very short (less than 3 characters)?\n\n2. Should we consider overlapping substrings as separate occurrences when counting, or do we only count unique substrings that meet the criteria?\n\n3. Is the input string guaranteed to always contain at least one occurrence of each character (a, b, and c), or do we need to handle cases where one or more characters are missing?\n\n4. What is the expected output format? Should we return just the count of valid substrings, or is there any additional information required in the output?\n\n5. Given the constraints on the length of the string (up to 50,000 characters), are there any specific performance requirements or time complexity considerations we should keep in mind while designing our solution?"
      ]
    },
    {
      "cell_type": "markdown",
      "metadata": {},
      "source": [
        "## Test Edge Cases",
        "",
        "Here are 8 important test edge cases to consider for the problem \"Number of Substrings Containing All Three Characters\":\n\n1. **Minimum Length Valid Input**:\n   - **Input**: `s = \"abc\"`\n   - **Description**: The smallest valid string containing all three characters. This tests the basic functionality of the algorithm.\n\n2. **All Same Characters**:\n   - **Input**: `s = \"aaaaaa\"`\n   - **Description**: A string with only one character type. This checks if the algorithm correctly identifies that no valid substrings exist.\n\n3. **Two Character Types**:\n   - **Input**: `s = \"aabb\"`\n   - **Description**: A string with only two of the three characters. This tests the algorithm's ability to recognize the absence of one character.\n\n4. **Long String with Repeated Patterns**:\n   - **Input**: `s = \"abcabcabcabc\"`\n   - **Description**: A longer string with a repeating pattern of all three characters. This tests the algorithm's efficiency and correctness with larger inputs.\n\n5. **Edge Case with Maximum Length**:\n   - **Input**: `s = \"abc\" * (5 * 10^4 // 3)` (approximately 16666 repetitions of \"abc\")\n   - **Description**: A string at the upper limit of the constraints. This checks for performance and whether the algorithm can handle large inputs efficiently.\n\n6. **Single Occurrence of Each Character**:\n   - **Input**: `s = \"abccba\"`\n   - **Description**: A string where each character occurs at least once but not in a straightforward sequence. This tests the algorithm's ability to find valid substrings in more complex arrangements.\n\n7. **Characters Grouped Together**:\n   - **Input**: `s = \"aaabbbccc\"`\n   - **Description**: A string where characters are grouped together. This tests if the algorithm can correctly identify substrings that span across groups.\n\n8. **String with Intermittent Characters**:\n   - **Input**: `s = \"acbac\"`\n   - **Description**: A string with characters interspersed. This tests the algorithm's ability to find valid substrings that are not contiguous.\n\nThese test cases cover a range of scenarios, including edge cases related to string length, character distribution, and performance considerations."
      ]
    },
    {
      "cell_type": "markdown",
      "metadata": {},
      "source": [
        "To solve the problem of counting substrings containing at least one occurrence of the characters 'a', 'b', and 'c', we can utilize a sliding window approach. This method is efficient and works well within the constraints provided.",
        "",
        "### 1. Explanation of the Approach:",
        "",
        "1. **Sliding Window Technique**: We maintain a window (defined by two pointers) to explore substrings of the input string `s`. This window will help us keep track of the characters 'a', 'b', and 'c' in the current substring.",
        "",
        "2. **Character Count**: As we expand our window (move the right pointer), we count the occurrences of 'a', 'b', and 'c'. We also keep track of the left pointer to ensure our window always contains at least one of each character.",
        "",
        "3. **Valid Substrings**: Whenever our window contains at least one of each character ('a', 'b', and 'c'), we can calculate how many valid substrings can be formed with this window. The number of valid substrings that can be formed when the right pointer is at index `r` and the left pointer is at index `l` is given by `(len(s) - r)`. This is because any substring starting from `l` to `r` can extend to the end of the string.",
        "",
        "4. **Adjusting the Window**: After counting valid substrings for a valid window, we move the left pointer to try and find new valid substrings, adjusting the character counts accordingly.",
        "",
        "### 2. Python Code Solution:"
      ]
    },
    {
      "cell_type": "code",
      "execution_count": null,
      "metadata": {},
      "outputs": [],
      "source": [
        "def numberOfSubstrings(s: str) -> int:",
        "    # Dictionary to count occurrences of 'a', 'b', 'c' in the current window",
        "    char_count = {'a': 0, 'b': 0, 'c': 0}",
        "    left = 0  # Left pointer for the sliding window",
        "    result = 0  # To store the result",
        "    total_length = len(s)  # Length of the input string",
        "",
        "    # Iterate through the string with the right pointer",
        "    for right in range(total_length):",
        "        # Increment the count of the current character",
        "        char_count[s[right]] += 1",
        "        ",
        "        # While we have at least one of each character in the window",
        "        while char_count['a'] > 0 and char_count['b'] > 0 and char_count['c'] > 0:",
        "            # Count valid substrings from left to right",
        "            result += (total_length - right)",
        "            # Move the left pointer to shrink the window",
        "            char_count[s[left]] -= 1",
        "            left += 1",
        "",
        "    return result"
      ]
    },
    {
      "cell_type": "markdown",
      "metadata": {},
      "source": [
        "### 3. Time and Space Complexity Analysis:",
        "",
        "- **Time Complexity**: O(n), where n is the length of the string. Each character is processed at most twice (once by the right pointer and once by the left pointer).",
        "",
        "- **Space Complexity**: O(1), since we are using a fixed-size dictionary to count the characters (only three characters: 'a', 'b', and 'c').",
        "",
        "This approach is efficient and allows us to calculate the number of valid substrings without explicitly generating them, making it suitable for large strings up to the constraint limit."
      ]
    },
    {
      "cell_type": "markdown",
      "metadata": {},
      "source": [
        "---",
        "",
        ""
      ]
    },
    {
      "cell_type": "markdown",
      "metadata": {},
      "source": [
        "# Maximum Points You Can Obtain from Cards (#1423)",
        "",
        "**Difficulty:** Medium  ",
        "**Date:** 2025-08-04 23:46:07  ",
        "**URL:** https://leetcode.com/problems/maximum-points-you-can-obtain-from-cards/",
        "",
        "---"
      ]
    },
    {
      "cell_type": "markdown",
      "metadata": {},
      "source": [
        "## Problem Description",
        "",
        "There are several cards arranged in a row, and each card has an associated number of points. The points are given in the integer array cardPoints.\n\nIn one step, you can take one card from the beginning or from the end of the row. You have to take exactly k cards.\n\nYour score is the sum of the points of the cards you have taken.\n\nGiven the integer array cardPoints and the integer k, return the maximum score you can obtain.\n\n&nbsp;\nExample 1:\n\n\nInput: cardPoints = [1,2,3,4,5,6,1], k = 3\nOutput: 12\nExplanation: After the first step, your score will always be 1. However, choosing the rightmost card first will maximize your total score. The optimal strategy is to take the three cards on the right, giving a final score of 1 + 6 + 5 = 12.\n\n\nExample 2:\n\n\nInput: cardPoints = [2,2,2], k = 2\nOutput: 4\nExplanation: Regardless of which two cards you take, your score will always be 4.\n\n\nExample 3:\n\n\nInput: cardPoints = [9,7,7,9,7,7,9], k = 7\nOutput: 55\nExplanation: You have to take all the cards. Your score is the sum of points of all cards.\n\n\n&nbsp;\nConstraints:\n\n\n\t1 <= cardPoints.length <= 105\n\t1 <= cardPoints[i] <= 104\n\t1 <= k <= cardPoints.length\n\n"
      ]
    },
    {
      "cell_type": "markdown",
      "metadata": {},
      "source": [
        "## Clarifying Questions",
        "",
        "1. Are there any constraints on the values of `k` in relation to the length of the `cardPoints` array, aside from the given constraint (1 <= k <= cardPoints.length)? For example, can `k` be equal to the length of the array, and if so, how should that be handled?\n\n2. Can the `cardPoints` array contain negative values, or is it guaranteed that all values will be positive integers as per the constraints provided?\n\n3. Is there a specific requirement for how the cards must be taken (e.g., can we take all cards from one end, or must we alternate between ends)? \n\n4. What should be the expected behavior if `k` is 1? Should the output simply be the maximum value from the `cardPoints` array?\n\n5. Are there any performance considerations we should keep in mind, especially given the potential size of the `cardPoints` array (up to 100,000 elements)? Should we aim for a specific time complexity in our solution?"
      ]
    },
    {
      "cell_type": "markdown",
      "metadata": {},
      "source": [
        "## Test Edge Cases",
        "",
        "Here are 8 important test edge cases for the \"Maximum Points You Can Obtain from Cards\" problem:\n\n1. **Minimum Input Size**:\n   - **Input**: `cardPoints = [5]`, `k = 1`\n   - **Description**: Tests the smallest possible input where there is only one card. The output should be the value of that single card.\n\n2. **All Cards with Same Value**:\n   - **Input**: `cardPoints = [3, 3, 3, 3, 3]`, `k = 3`\n   - **Description**: Tests the scenario where all cards have the same value. Regardless of which cards are chosen, the score should be the same.\n\n3. **Maximum Size Input**:\n   - **Input**: `cardPoints = [1, 2, ..., 100000]`, `k = 100000`\n   - **Description**: Tests the maximum constraint where the length of `cardPoints` is at its upper limit. The output should be the sum of all elements.\n\n4. **Taking Cards from Both Ends**:\n   - **Input**: `cardPoints = [1, 100, 1, 100, 1]`, `k = 3`\n   - **Description**: Tests the scenario where the optimal strategy involves taking cards from both ends. The expected output should be `100 + 100 + 1 = 201`.\n\n5. **High Values with Duplicates**:\n   - **Input**: `cardPoints = [10000, 10000, 10000, 10000, 10000]`, `k = 2`\n   - **Description**: Tests the case with high values and duplicates. The output should be `20000`, testing the algorithm's handling of large integers.\n\n6. **Edge Case with Minimum and Maximum Values**:\n   - **Input**: `cardPoints = [1, 10000, 1, 10000, 1]`, `k = 4`\n   - **Description**: Tests the scenario where there are minimum and maximum values in the array. The optimal choice should yield `10000 + 10000 + 1 + 1 = 20002`.\n\n7. **Single Card with Maximum Value**:\n   - **Input**: `cardPoints = [10000]`, `k = 1`\n   - **Description**: Tests the case where there is only one card with the maximum possible value. The output should be `10000`.\n\n8. **Performance with Alternating High and Low Values**:\n   - **Input**: `cardPoints = [1, 10000] * 50000`, `k = 100000`\n   - **Description**: Tests the performance of the algorithm with a large input size where high and low values alternate. This will help assess"
      ]
    },
    {
      "cell_type": "markdown",
      "metadata": {},
      "source": [
        "To solve the problem of maximizing the points obtained from taking exactly `k` cards from either end of an array `cardPoints`, we can utilize a technique based on the concept of sliding windows.",
        "",
        "### 1. Explanation of the Approach",
        "",
        "The key insight to solving this problem is to realize that if we want to maximize the points from `k` cards, it is equivalent to minimizing the points from the cards we do not choose. Since we can only take cards from the beginning or the end, we can think about the problem as follows:",
        "",
        "1. **Total Points Calculation**: First, compute the total points available in the `cardPoints` array.",
        "2. **Identifying Non-Chosen Cards**: If we take `k` cards, then we will leave `n - k` cards (where `n` is the length of `cardPoints`). The sum of these `n - k` cards will determine the points we do not obtain.",
        "3. **Sliding Window Technique**: We can use a sliding window to identify the minimum sum of the `n - k` cards in the middle of the array. By iterating over possible starting positions of this window, we can calculate the sum of leftmost and rightmost cards we are not taking.",
        "4. **Final Calculation**: Subtract the minimum sum of the `n - k` cards from the total points to get the maximum points we can obtain.",
        "",
        "### 2. Python Code Solution with Comments",
        "",
        "Here is the Python code implementing the above approach:"
      ]
    },
    {
      "cell_type": "code",
      "execution_count": null,
      "metadata": {},
      "outputs": [],
      "source": [
        "def maxPoints(cardPoints, k):",
        "    n = len(cardPoints)",
        "    ",
        "    # Calculate the total points of all cards",
        "    total_points = sum(cardPoints)",
        "    ",
        "    # If k equals the length of cardPoints, we take all cards",
        "    if k == n:",
        "        return total_points",
        "    ",
        "    # We need to find the minimum sum of (n - k) cards",
        "    min_sum = float('inf')",
        "    current_sum = 0",
        "    ",
        "    # Calculate the initial sum of the first (n - k) cards",
        "    for i in range(n - k):",
        "        current_sum += cardPoints[i]",
        "    ",
        "    # This is our initial minimum sum",
        "    min_sum = current_sum",
        "    ",
        "    # Now slide the window over the remaining cards",
        "    for i in range(n - k, n):",
        "        # Remove the leftmost card from the window and add the next card",
        "        current_sum += cardPoints[i]  # include the next card",
        "        current_sum -= cardPoints[i - (n - k)]  # exclude the leftmost card",
        "        ",
        "        # Update the minimum sum found",
        "        min_sum = min(min_sum, current_sum)",
        "    ",
        "    # The maximum score is total points minus the minimum sum of (n - k) cards",
        "    return total_points - min_sum",
        "",
        "# Example usage",
        "print(maxPoints([1, 2, 3, 4, 5, 6, 1], 3))  # Output: 12",
        "print(maxPoints([2, 2, 2], 2))                # Output: 4",
        "print(maxPoints([9, 7, 7, 9, 7, 7, 9], 7))   # Output: 55"
      ]
    },
    {
      "cell_type": "markdown",
      "metadata": {},
      "source": [
        "### 3. Time and Space Complexity Analysis",
        "",
        "- **Time Complexity**: The algorithm performs a single pass to calculate the total points and another pass (of size `n - k`) to find the minimum sum of the `n - k` cards. This gives a time complexity of \\(O(n)\\), where \\(n\\) is the length of the `cardPoints` array.",
        "",
        "- **Space Complexity**: The algorithm uses a constant amount of extra space (a few variables for sums and minimums), resulting in a space complexity of \\(O(1)\\).",
        "",
        "This efficient approach ensures that we can handle the maximum constraints of the problem effectively."
      ]
    },
    {
      "cell_type": "markdown",
      "metadata": {},
      "source": [
        "---",
        "",
        ""
      ]
    },
    {
      "cell_type": "markdown",
      "metadata": {},
      "source": [
        "# Longest Continuous Subarray With Absolute Diff Less Than or Equal to Limit (#1438)",
        "",
        "**Difficulty:** Medium  ",
        "**Date:** 2025-08-04 23:46:22  ",
        "**URL:** https://leetcode.com/problems/longest-continuous-subarray-with-absolute-diff-less-than-or-equal-to-limit/",
        "",
        "---"
      ]
    },
    {
      "cell_type": "markdown",
      "metadata": {},
      "source": [
        "## Problem Description",
        "",
        "Given an array of integers nums and an integer limit, return the size of the longest non-empty subarray such that the absolute difference between any two elements of this subarray is less than or equal to limit.\n\n&nbsp;\nExample 1:\n\n\nInput: nums = [8,2,4,7], limit = 4\nOutput: 2 \nExplanation: All subarrays are: \n[8] with maximum absolute diff |8-8| = 0 <= 4.\n[8,2] with maximum absolute diff |8-2| = 6 > 4. \n[8,2,4] with maximum absolute diff |8-2| = 6 > 4.\n[8,2,4,7] with maximum absolute diff |8-2| = 6 > 4.\n[2] with maximum absolute diff |2-2| = 0 <= 4.\n[2,4] with maximum absolute diff |2-4| = 2 <= 4.\n[2,4,7] with maximum absolute diff |2-7| = 5 > 4.\n[4] with maximum absolute diff |4-4| = 0 <= 4.\n[4,7] with maximum absolute diff |4-7| = 3 <= 4.\n[7] with maximum absolute diff |7-7| = 0 <= 4. \nTherefore, the size of the longest subarray is 2.\n\n\nExample 2:\n\n\nInput: nums = [10,1,2,4,7,2], limit = 5\nOutput: 4 \nExplanation: The subarray [2,4,7,2] is the longest since the maximum absolute diff is |2-7| = 5 <= 5.\n\n\nExample 3:\n\n\nInput: nums = [4,2,2,2,4,4,2,2], limit = 0\nOutput: 3\n\n\n&nbsp;\nConstraints:\n\n\n\t1 <= nums.length <= 105\n\t1 <= nums[i] <= 109\n\t0 <= limit <= 109\n\n"
      ]
    },
    {
      "cell_type": "markdown",
      "metadata": {},
      "source": [
        "## Clarifying Questions",
        "",
        "1. What are the constraints on the size of the input array, and what is the range of values that the elements in the array can take? \n\n2. Can the absolute difference limit be negative, or is it guaranteed to be zero or positive?\n\n3. Are there any specific edge cases we should consider, such as an empty array or an array with only one element?\n\n4. What should the function return if there are no valid subarrays that meet the criteria?\n\n5. Is there a requirement for the time complexity of the solution, and if so, what is the expected performance for large input sizes?"
      ]
    },
    {
      "cell_type": "markdown",
      "metadata": {},
      "source": [
        "## Test Edge Cases",
        "",
        "Here are 8 important test edge cases to consider for the problem \"Longest Continuous Subarray With Absolute Diff Less Than or Equal to Limit\":\n\n1. **Empty Array**: \n   - Input: `nums = []`, `limit = 5`\n   - Description: Tests the function's behavior with no elements. The expected output should be 0 since there are no subarrays.\n\n2. **Single Element Array**: \n   - Input: `nums = [10]`, `limit = 5`\n   - Description: Tests the function with the smallest non-empty array. The expected output should be 1, as the only subarray is the element itself.\n\n3. **All Elements Identical**: \n   - Input: `nums = [3, 3, 3, 3]`, `limit = 0`\n   - Description: Tests the case where all elements are the same and the limit is 0. The expected output should be 4, as the absolute difference between any two elements is 0.\n\n4. **Negative and Positive Numbers**: \n   - Input: `nums = [-1, 2, -3, 4]`, `limit = 5`\n   - Description: Tests the handling of both negative and positive numbers. The expected output should be 4, as the entire array can be considered a valid subarray.\n\n5. **Large Array with Maximum Size**: \n   - Input: `nums = [1, 2, 3, ..., 100000]`, `limit = 1`\n   - Description: Tests performance with a large array of size 100,000. The expected output should be 2, as only adjacent elements can form a valid subarray.\n\n6. **Subarray at the Start and End**: \n   - Input: `nums = [1, 3, 5, 7, 9, 2]`, `limit = 2`\n   - Description: Tests a case where valid subarrays exist at both the start and end of the array. The expected output should be 3, corresponding to the subarray `[1, 3, 5]`.\n\n7. **Multiple Duplicates with Limit**: \n   - Input: `nums = [1, 1, 1, 1, 1]`, `limit = 1`\n   - Description: Tests the behavior of the function when all elements are the same and the limit allows for no difference. The expected output should be 5.\n\n8. **Limit Exceeding Maximum Difference**: \n   - Input: `nums = [1, 100, 200, 300]`, `limit = 50`\n   - Description: Tests the case where the limit is smaller than the smallest absolute difference between any two elements. The expected output should be 1, as no two elements can form a valid subarray."
      ]
    },
    {
      "cell_type": "markdown",
      "metadata": {},
      "source": [
        "Sure! Let's break down the problem \"Longest Continuous Subarray With Absolute Diff Less Than or Equal to Limit\" step by step.",
        "",
        "### Problem Explanation",
        "",
        "You are given an integer array `nums` and an integer `limit`. The goal is to find the length of the longest contiguous subarray such that the absolute difference between the maximum and minimum elements in that subarray is less than or equal to `limit`.",
        "",
        "For example:",
        "- For `nums = [8, 2, 4, 7]` and `limit = 4`, the longest subarray that satisfies the condition is `[4, 7]` with length `2`.",
        "",
        "### Approach",
        "",
        "1. **Sliding Window Technique**: We'll use a two-pointer or sliding window approach to maintain a window of elements that satisfies the condition on the maximum and minimum values.",
        "  ",
        "2. **Data Structures**: To efficiently track the minimum and maximum values in the current window, we can use two deques (double-ended queues):",
        "   - One deque to maintain the indices of the maximum elements.",
        "   - Another deque to maintain the indices of the minimum elements.",
        "  ",
        "3. **Expand and Contract the Window**:",
        "   - Start with a left pointer initialized to `0` and a right pointer that will expand to include elements from the `nums` array.",
        "   - For each new element added to the window, update the deques.",
        "   - Check if the condition (`max - min <= limit`) is satisfied. If not, increment the left pointer to shrink the window until the condition is satisfied.",
        "   - Keep track of the maximum length of valid subarrays encountered during this process.",
        "",
        "### Python Code Solution",
        "",
        "Here is the implementation of the above approach:"
      ]
    },
    {
      "cell_type": "code",
      "execution_count": null,
      "metadata": {},
      "outputs": [],
      "source": [
        "from collections import deque",
        "",
        "def longest_subarray(nums, limit):",
        "    # Deques to store indices of max and min elements",
        "    max_deque = deque()  # To store indices of max elements",
        "    min_deque = deque()  # To store indices of min elements",
        "    left = 0  # Left pointer of the window",
        "    max_length = 0  # Variable to keep track of maximum length of subarray",
        "",
        "    for right in range(len(nums)):",
        "        # Maintain the max deque",
        "        while max_deque and nums[max_deque[-1]] <= nums[right]:",
        "            max_deque.pop()",
        "        max_deque.append(right)",
        "",
        "        # Maintain the min deque",
        "        while min_deque and nums[min_deque[-1]] >= nums[right]:",
        "            min_deque.pop()",
        "        min_deque.append(right)",
        "",
        "        # Ensure the current window is valid",
        "        while nums[max_deque[0]] - nums[min_deque[0]] > limit:",
        "            left += 1  # Move the left pointer to the right",
        "",
        "            # Remove indices that are out of the new window",
        "            if max_deque[0] < left:",
        "                max_deque.popleft()",
        "            if min_deque[0] < left:",
        "                min_deque.popleft()",
        "",
        "        # Update the maximum length of the valid subarray",
        "        max_length = max(max_length, right - left + 1)",
        "",
        "    return max_length"
      ]
    },
    {
      "cell_type": "markdown",
      "metadata": {},
      "source": [
        "### Explanation of the Code:",
        "- We initialize two deques to keep track of the maximum and minimum values indices.",
        "- We iterate through the array with a right pointer, expanding the window.",
        "- For each new element added, we maintain the order in the deques.",
        "- We check if the current window is valid; if not, we adjust the left pointer and remove indices that are out of the window.",
        "- Finally, we keep track of the maximum length of valid subarrays found.",
        "",
        "### Time and Space Complexity Analysis",
        "",
        "- **Time Complexity**: O(n), where n is the length of the `nums` array. Each element is added and removed from the deques at most once.",
        "- **Space Complexity**: O(n) in the worst case for the deques, though in practice, the maximum size of each deque will be at most `n`.",
        "",
        "This solution efficiently finds the longest continuous subarray satisfying the given condition using a sliding window approach."
      ]
    },
    {
      "cell_type": "markdown",
      "metadata": {},
      "source": [
        "---",
        "",
        ""
      ]
    },
    {
      "cell_type": "markdown",
      "metadata": {},
      "source": [
        "# Maximum Number of Vowels in a Substring of Given Length (#1456)",
        "",
        "**Difficulty:** Medium  ",
        "**Date:** 2025-08-04 23:46:49  ",
        "**URL:** https://leetcode.com/problems/maximum-number-of-vowels-in-a-substring-of-given-length/",
        "",
        "---"
      ]
    },
    {
      "cell_type": "markdown",
      "metadata": {},
      "source": [
        "## Problem Description",
        "",
        "Given a string s and an integer k, return the maximum number of vowel letters in any substring of s with length k.\n\nVowel letters in English are &#39;a&#39;, &#39;e&#39;, &#39;i&#39;, &#39;o&#39;, and &#39;u&#39;.\n\n&nbsp;\nExample 1:\n\n\nInput: s = &quot;abciiidef&quot;, k = 3\nOutput: 3\nExplanation: The substring &quot;iii&quot; contains 3 vowel letters.\n\n\nExample 2:\n\n\nInput: s = &quot;aeiou&quot;, k = 2\nOutput: 2\nExplanation: Any substring of length 2 contains 2 vowels.\n\n\nExample 3:\n\n\nInput: s = &quot;leetcode&quot;, k = 3\nOutput: 2\nExplanation: &quot;lee&quot;, &quot;eet&quot; and &quot;ode&quot; contain 2 vowels.\n\n\n&nbsp;\nConstraints:\n\n\n\t1 <= s.length <= 105\n\ts consists of lowercase English letters.\n\t1 <= k <= s.length\n\n"
      ]
    },
    {
      "cell_type": "markdown",
      "metadata": {},
      "source": [
        "## Clarifying Questions",
        "",
        "1. Are we guaranteed that the input string `s` will always contain at least one vowel, and how should we handle cases where there are no vowels in the substring of length `k`?\n\n2. Should the function return 0 if `k` is 0, or is `k` guaranteed to be at least 1 based on the constraints provided?\n\n3. Can the input string `s` contain any characters other than lowercase English letters, or is it strictly limited to lowercase letters as stated in the constraints?\n\n4. What is the expected behavior if `k` is equal to the length of the string `s`? Should we consider the entire string as a single substring?\n\n5. Are there any performance constraints we should be aware of, given that the length of `s` can be up to 100,000 characters? Should we aim for a specific time complexity, such as O(n)?"
      ]
    },
    {
      "cell_type": "markdown",
      "metadata": {},
      "source": [
        "## Test Edge Cases",
        "",
        "Here are 8 important test edge cases to consider when solving the problem of finding the maximum number of vowels in a substring of a given length:\n\n1. **Minimum Input Values**:\n   - **Input**: `s = \"a\"`, `k = 1`\n   - **Description**: The smallest possible input where the string has only one vowel and the substring length is also one. This tests the function's ability to handle the smallest edge case.\n\n2. **All Vowels**:\n   - **Input**: `s = \"aeiouaeiou\"`, `k = 5`\n   - **Description**: A string composed entirely of vowels. This checks if the function can correctly identify that the maximum number of vowels in any substring of length `k` equals `k`.\n\n3. **No Vowels**:\n   - **Input**: `s = \"bcdfgh\"`, `k = 3`\n   - **Description**: A string with no vowels at all. This tests if the function correctly returns `0` when there are no vowels in any substring.\n\n4. **Vowels at the Edges**:\n   - **Input**: `s = \"abecidofu\"`, `k = 4`\n   - **Description**: A string where vowels are at the beginning and end, but not in the middle. This checks if the function can correctly evaluate substrings that include vowels only at the edges.\n\n5. **Maximum Length String**:\n   - **Input**: `s = \"a\" * 10^5`, `k = 10^5`\n   - **Description**: A string of maximum length where all characters are vowels. This tests the performance and efficiency of the solution when handling large inputs.\n\n6. **Substrings with Mixed Characters**:\n   - **Input**: `s = \"abcdeiouxyz\"`, `k = 5`\n   - **Description**: A string with a mix of vowels and consonants. This tests if the function can correctly identify the maximum number of vowels in a substring of mixed characters.\n\n7. **Consecutive Vowels**:\n   - **Input**: `s = \"aaeeiiou\"`, `k = 4`\n   - **Description**: A string with consecutive vowels. This checks if the function can correctly count multiple vowels that appear together in a substring.\n\n8. **Vowel Count Equals Substring Length**:\n   - **Input**: `s = \"aeiouxyz\"`, `k = 5`\n   - **Description**: A string where the number of vowels equals the substring length `k`. This tests if the function can handle cases where the maximum number of vowels is equal to the length of the substring being considered.\n\nThese test cases cover a range of scenarios including boundary conditions, special values, corner cases, and performance edge cases, ensuring a comprehensive evaluation of the"
      ]
    },
    {
      "cell_type": "markdown",
      "metadata": {},
      "source": [
        "To solve the problem of finding the maximum number of vowels in any substring of a given length `k`, we can use a sliding window approach. This is efficient because it allows us to keep track of the count of vowels in the current substring without having to re-evaluate the entire substring each time we move the window.",
        "",
        "### Approach Explanation",
        "",
        "1. **Sliding Window Technique**: ",
        "   - We'll maintain a window of size `k` that slides over the string `s`.",
        "   - Initially, we'll count the number of vowels in the first `k` characters.",
        "   - As we slide the window to the right (i.e., move to the next substring of length `k`), we'll:",
        "     - Subtract the vowel count of the character that is leaving the window.",
        "     - Add the vowel count of the character that is entering the window.",
        "   - This allows us to efficiently update our count of vowels without having to recount each time.",
        "",
        "2. **Vowel Check**:",
        "   - We'll define a set of vowels for quick lookup to check if a character is a vowel.",
        "",
        "3. **Max Vowel Count**:",
        "   - We'll keep track of the maximum count of vowels found during the sliding process.",
        "",
        "### Python Code Solution",
        "",
        "Here is the Python code implementing the above approach:"
      ]
    },
    {
      "cell_type": "code",
      "execution_count": null,
      "metadata": {},
      "outputs": [],
      "source": [
        "def maxVowels(s: str, k: int) -> int:",
        "    # Define the set of vowel characters",
        "    vowels = {'a', 'e', 'i', 'o', 'u'}",
        "    ",
        "    # Initialize the count of vowels in the first window of size k",
        "    current_vowel_count = 0",
        "    for i in range(k):",
        "        if s[i] in vowels:",
        "            current_vowel_count += 1",
        "            ",
        "    # This will keep track of the maximum number of vowels found",
        "    max_vowel_count = current_vowel_count",
        "    ",
        "    # Slide the window from the start to the end of the string",
        "    for i in range(k, len(s)):",
        "        # Remove the character going out of the window",
        "        if s[i - k] in vowels:",
        "            current_vowel_count -= 1",
        "        # Add the new character coming into the window",
        "        if s[i] in vowels:",
        "            current_vowel_count += 1",
        "        ",
        "        # Update the maximum vowel count",
        "        max_vowel_count = max(max_vowel_count, current_vowel_count)",
        "    ",
        "    return max_vowel_count",
        "",
        "# Example usage",
        "print(maxVowels(\"abciiidef\", 3))  # Output: 3",
        "print(maxVowels(\"aeiou\", 2))      # Output: 2",
        "print(maxVowels(\"leetcode\", 3))   # Output: 2"
      ]
    },
    {
      "cell_type": "markdown",
      "metadata": {},
      "source": [
        "### Explanation of the Code",
        "",
        "1. **Initialization**:",
        "   - We define a set `vowels` to check for vowel letters.",
        "   - We calculate the initial count of vowels in the first `k` characters.",
        "   ",
        "2. **Sliding the Window**:",
        "   - We iterate through the string, starting from the `k`-th character to the end.",
        "   - For each iteration, we adjust the `current_vowel_count` by removing the count of the character that is sliding out and adding the count of the character that is sliding in.",
        "",
        "3. **Update Maximum**:",
        "   - We keep updating `max_vowel_count` with the maximum of its current value and `current_vowel_count` after each iteration.",
        "",
        "### Time and Space Complexity Analysis",
        "",
        "- **Time Complexity**: O(n), where n is the length of the string `s` because we make a single pass through the string.",
        "- **Space Complexity**: O(1), as we are using a fixed amount of extra space (to store the count and the set of vowels) regardless of the input size.",
        "",
        "This solution is efficient and handles the constraints provided in the problem statement effectively."
      ]
    },
    {
      "cell_type": "markdown",
      "metadata": {},
      "source": [
        "---",
        "",
        ""
      ]
    },
    {
      "cell_type": "markdown",
      "metadata": {},
      "source": [
        "# Check If a String Contains All Binary Codes of Size K (#1461)",
        "",
        "**Difficulty:** Medium  ",
        "**Date:** 2025-08-04 23:46:56  ",
        "**URL:** https://leetcode.com/problems/check-if-a-string-contains-all-binary-codes-of-size-k/",
        "",
        "---"
      ]
    },
    {
      "cell_type": "markdown",
      "metadata": {},
      "source": [
        "## Problem Description",
        "",
        "Given a binary string s and an integer k, return true if every binary code of length k is a substring of s. Otherwise, return false.\n\n&nbsp;\nExample 1:\n\n\nInput: s = &quot;00110110&quot;, k = 2\nOutput: true\nExplanation: The binary codes of length 2 are &quot;00&quot;, &quot;01&quot;, &quot;10&quot; and &quot;11&quot;. They can be all found as substrings at indices 0, 1, 3 and 2 respectively.\n\n\nExample 2:\n\n\nInput: s = &quot;0110&quot;, k = 1\nOutput: true\nExplanation: The binary codes of length 1 are &quot;0&quot; and &quot;1&quot;, it is clear that both exist as a substring. \n\n\nExample 3:\n\n\nInput: s = &quot;0110&quot;, k = 2\nOutput: false\nExplanation: The binary code &quot;00&quot; is of length 2 and does not exist in the array.\n\n\n&nbsp;\nConstraints:\n\n\n\t1 <= s.length <= 5 * 105\n\ts[i] is either &#39;0&#39; or &#39;1&#39;.\n\t1 <= k <= 20\n\n"
      ]
    },
    {
      "cell_type": "markdown",
      "metadata": {},
      "source": [
        "## Clarifying Questions",
        "",
        "1. **What should the function return if the input string `s` is shorter than `k`?** (This helps clarify how to handle cases where it's impossible to find all binary codes of length `k`.)\n\n2. **Are there any specific constraints on the characters in the string `s` other than being binary?** (This ensures that the input strictly conforms to the expected format and avoids unexpected characters.)\n\n3. **Should the function consider overlapping substrings when checking for the presence of binary codes?** (This clarifies whether substrings can share characters, which impacts how codes are counted.)\n\n4. **What is the expected behavior if `k` is greater than the maximum possible binary code length given the constraints?** (This helps understand how to handle scenarios where `k` exceeds the number of possible binary combinations.)\n\n5. **Are there any performance constraints or limits on the time complexity we should aim for, given the maximum length of `s`?** (This informs the candidate about the efficiency requirements for their solution, especially with larger inputs.)"
      ]
    },
    {
      "cell_type": "markdown",
      "metadata": {},
      "source": [
        "## Test Edge Cases",
        "",
        "Here are 8 important test edge cases to consider for the problem \"Check If a String Contains All Binary Codes of Size K\":\n\n1. **Minimum Length String with K=1**:\n   - Input: `s = \"0\"`, `k = 1`\n   - Description: The smallest possible string that contains only one character. It should return true since both binary codes \"0\" and \"1\" cannot be present.\n\n2. **Minimum Length String with K=2**:\n   - Input: `s = \"01\"`, `k = 2`\n   - Description: A string of length 2 that contains both binary digits. It should return false since the binary code \"00\" is missing.\n\n3. **String with All Possible Codes for K=3**:\n   - Input: `s = \"000111\"`, `k = 3`\n   - Description: A string that contains some but not all binary codes of length 3. It should return false since codes like \"010\" and \"101\" are missing.\n\n4. **String of Maximum Length with Repeated Patterns**:\n   - Input: `s = \"01\" * (5 * 10^5 // 2)`, `k = 2`\n   - Description: A long string made of repeated patterns of \"01\". It should return true since all binary codes of length 2 are present.\n\n5. **String with Length Less than Required Unique Codes**:\n   - Input: `s = \"00000\"`, `k = 3`\n   - Description: A string that is too short to contain all binary codes of length 3 (which requires 8 unique codes). It should return false.\n\n6. **String with Length Equal to 2^K**:\n   - Input: `s = \"0000111100001111\"`, `k = 4`\n   - Description: A string that has a length equal to 2^k but does not contain all binary codes of length 4. It should return false.\n\n7. **String with All Codes Present**:\n   - Input: `s = \"00110110\"`, `k = 2`\n   - Description: A string that contains all binary codes of length 2. It should return true.\n\n8. **Performance Test with Maximum Length and All Codes Present**:\n   - Input: `s = \"0\" * (5 * 10^5 - 1) + \"1\"`, `k = 20`\n   - Description: A string that is at the maximum length with all binary codes of length 20 present. It should return false since not all combinations can be formed.\n\nThese test cases cover a range of scenarios including edge cases for minimum and maximum input sizes, special values, and performance considerations."
      ]
    },
    {
      "cell_type": "markdown",
      "metadata": {},
      "source": [
        "### Explanation of the Approach",
        "",
        "To solve the problem of checking if a binary string contains all binary codes of a given length \\( k \\), we can follow these steps:",
        "",
        "1. **Understanding Binary Codes**: For a binary string of length \\( k \\), there are \\( 2^k \\) possible binary codes since each position in the code can be either '0' or '1'. For example, if \\( k = 2 \\), the codes are \"00\", \"01\", \"10\", and \"11\".",
        "",
        "2. **Sliding Window Technique**: We can use a sliding window of size \\( k \\) to check every substring of length \\( k \\) in the string \\( s \\). As we slide this window from the start to the end of the string, we can collect all unique substrings of length \\( k \\).",
        "",
        "3. **Set for Uniqueness**: To efficiently check for all unique substrings, we can utilize a set to store the substrings we encounter.",
        "",
        "4. **Final Check**: After collecting all unique substrings, we can simply check if the size of our set is equal to \\( 2^k \\). If it is, that means we have found all possible binary codes of length \\( k \\); otherwise, we haven't.",
        "",
        "### Python Code Solution",
        "",
        "Here is the Python code that implements the above approach:"
      ]
    },
    {
      "cell_type": "code",
      "execution_count": null,
      "metadata": {},
      "outputs": [],
      "source": [
        "def hasAllCodes(s: str, k: int) -> bool:",
        "    # Calculate the total number of unique binary codes of length k",
        "    total_codes = 1 << k  # This is equivalent to 2 ** k",
        "    ",
        "    # Create a set to store unique substrings of length k",
        "    seen = set()",
        "    ",
        "    # Iterate through the string and collect all unique substrings of length k",
        "    for i in range(len(s) - k + 1):",
        "        substring = s[i:i + k]  # Extract the substring of length k",
        "        seen.add(substring)      # Add the substring to the set",
        "    ",
        "    # Check if the number of unique substrings equals the total number of unique codes",
        "    return len(seen) == total_codes",
        "",
        "# Example usage",
        "print(hasAllCodes(\"00110110\", 2))  # Output: True",
        "print(hasAllCodes(\"0110\", 1))      # Output: True",
        "print(hasAllCodes(\"0110\", 2))      # Output: False"
      ]
    },
    {
      "cell_type": "markdown",
      "metadata": {},
      "source": [
        "### Time and Space Complexity Analysis",
        "",
        "- **Time Complexity**: ",
        "  - The loop iterates through the string \\( s \\) and processes each substring of length \\( k \\). This requires \\( O(n) \\) time, where \\( n \\) is the length of the string \\( s \\). Each substring extraction and insertion operation in the set is \\( O(k) \\) in the worst case, but since \\( k \\) is at most 20, it can be considered constant for our analysis. Therefore, the overall time complexity is \\( O(n) \\).",
        "",
        "- **Space Complexity**: ",
        "  - The space complexity is determined by the set that stores the unique substrings. In the worst case, we will store all \\( 2^k \\) unique binary codes. Thus, the space complexity is \\( O(2^k) \\).",
        "",
        "In conclusion, this solution efficiently checks if all binary codes of a specified length are present in the given binary string using a sliding window and a set for tracking unique substrings."
      ]
    },
    {
      "cell_type": "markdown",
      "metadata": {},
      "source": [
        "---",
        "",
        ""
      ]
    },
    {
      "cell_type": "markdown",
      "metadata": {},
      "source": [
        "# Find Two Non-overlapping Sub-arrays Each With Target Sum (#1477)",
        "",
        "**Difficulty:** Medium  ",
        "**Date:** 2025-08-04 23:47:18  ",
        "**URL:** https://leetcode.com/problems/find-two-non-overlapping-sub-arrays-each-with-target-sum/",
        "",
        "---"
      ]
    },
    {
      "cell_type": "markdown",
      "metadata": {},
      "source": [
        "## Problem Description",
        "",
        "You are given an array of integers arr and an integer target.\n\nYou have to find two non-overlapping sub-arrays of arr each with a sum equal target. There can be multiple answers so you have to find an answer where the sum of the lengths of the two sub-arrays is minimum.\n\nReturn the minimum sum of the lengths of the two required sub-arrays, or return -1 if you cannot find such two sub-arrays.\n\n&nbsp;\nExample 1:\n\n\nInput: arr = [3,2,2,4,3], target = 3\nOutput: 2\nExplanation: Only two sub-arrays have sum = 3 ([3] and [3]). The sum of their lengths is 2.\n\n\nExample 2:\n\n\nInput: arr = [7,3,4,7], target = 7\nOutput: 2\nExplanation: Although we have three non-overlapping sub-arrays of sum = 7 ([7], [3,4] and [7]), but we will choose the first and third sub-arrays as the sum of their lengths is 2.\n\n\nExample 3:\n\n\nInput: arr = [4,3,2,6,2,3,4], target = 6\nOutput: -1\nExplanation: We have only one sub-array of sum = 6.\n\n\n&nbsp;\nConstraints:\n\n\n\t1 <= arr.length <= 105\n\t1 <= arr[i] <= 1000\n\t1 <= target <= 108\n\n"
      ]
    },
    {
      "cell_type": "markdown",
      "metadata": {},
      "source": [
        "## Clarifying Questions",
        "",
        "1. Are the sub-arrays required to be contiguous, or can they be non-contiguous as well? \n\n2. What should be the behavior of the function if the input array contains negative numbers or zeros, given that the constraints specify that all elements are positive integers?\n\n3. Can the same element in the array be part of both sub-arrays, or must they be completely non-overlapping in terms of indices?\n\n4. How should the function handle cases where there are multiple pairs of sub-arrays that meet the criteria? Should it return the first valid pair found, or is there a specific method to determine which pair to return?\n\n5. Are there any specific performance requirements or time complexity constraints we should keep in mind while solving this problem, especially considering the input size can be up to 100,000 elements?"
      ]
    },
    {
      "cell_type": "markdown",
      "metadata": {},
      "source": [
        "## Test Edge Cases",
        "",
        "Here are 8 important test edge cases to consider for the problem \"Find Two Non-overlapping Sub-arrays Each With Target Sum\":\n\n1. **Empty Array**:\n   - Input: `arr = [], target = 1`\n   - Description: Tests the behavior of the function when the input array is empty. The expected output is -1 since no sub-arrays can be formed.\n\n2. **Single Element Equal to Target**:\n   - Input: `arr = [5], target = 5`\n   - Description: Tests the case where the array contains only one element that equals the target. The expected output is -1 since there cannot be two non-overlapping sub-arrays.\n\n3. **Single Element Not Equal to Target**:\n   - Input: `arr = [3], target = 5`\n   - Description: Tests the case where the array contains a single element that does not equal the target. The expected output is -1.\n\n4. **Multiple Duplicates with Non-Overlapping Sums**:\n   - Input: `arr = [1, 1, 1, 1, 1, 1], target = 2`\n   - Description: Tests the case where multiple non-overlapping sub-arrays can be formed. The expected output is 4 (lengths of sub-arrays [1,1] and [1,1]).\n\n5. **Array with No Valid Pairs**:\n   - Input: `arr = [1, 2, 3, 4, 5], target = 10`\n   - Description: Tests the scenario where no two non-overlapping sub-arrays can sum to the target. The expected output is -1.\n\n6. **Maximum Size Array with All Elements Equal to Target**:\n   - Input: `arr = [1]*100000, target = 1`\n   - Description: Tests the performance and handling of the maximum constraints. The expected output is 2 (lengths of two sub-arrays each containing a single element).\n\n7. **Array with Overlapping Sub-arrays**:\n   - Input: `arr = [2, 2, 2, 2, 2], target = 4`\n   - Description: Tests the case where overlapping sub-arrays can sum to the target but should not be chosen. The expected output is 4 (lengths of two sub-arrays [2, 2] and [2, 2]).\n\n8. **Negative Numbers with Valid Pairs**:\n   - Input: `arr = [-1, -1, 2, 1, 0, -1, -1], target = 0`\n   - Description: Tests the scenario where the array contains negative numbers and valid non-overlapping sub-arrays can be formed. The expected output is 4 (lengths of sub-arrays [-1, -1] and [1,"
      ]
    },
    {
      "cell_type": "markdown",
      "metadata": {},
      "source": [
        "To solve the problem of finding two non-overlapping subarrays each with a target sum, we will use a systematic approach involving prefix sums and a sliding window technique. Here's a step-by-step breakdown of the approach:",
        "",
        "### Approach:",
        "1. **Prefix Sum Calculation**: We will calculate the prefix sums to help identify subarrays that sum to the target efficiently. The prefix sum at index `i` represents the sum of the array from the start up to index `i`.",
        "",
        "2. **Finding Subarrays**: We will iterate through the array to find all subarrays that sum to the target. For each valid subarray, we will store its length in a list.",
        "",
        "3. **Track Minimum Lengths**: For each subarray found, we will check if there are previously found subarrays that do not overlap with the current one. We will need to keep track of the minimum lengths of the found subarrays up to the current index.",
        "",
        "4. **Non-Overlapping Criteria**: To ensure non-overlapping, we need to keep track of the indices of previous subarrays and only consider those that end before the current one starts.",
        "",
        "5. **Result Calculation**: Finally, we will compute the minimum sum of lengths of two valid subarrays.",
        "",
        "### Python Code Solution:",
        "Here is the Python implementation of the above approach with comments explaining each step."
      ]
    },
    {
      "cell_type": "code",
      "execution_count": null,
      "metadata": {},
      "outputs": [],
      "source": [
        "def min_sum_of_lengths(arr, target):",
        "    n = len(arr)",
        "    prefix_sum = 0",
        "    sum_to_index = {0: -1}  # Map to store sum and its last index",
        "    subarray_lengths = []  # List to store lengths of found subarrays",
        "    min_length = float('inf')  # Initialize the minimum length sum",
        "",
        "    # Step 1: Find all subarrays that sum to target",
        "    for i in range(n):",
        "        prefix_sum += arr[i]",
        "        ",
        "        # Check if there's a previous prefix sum that allows us to reach 'target'",
        "        if (prefix_sum - target) in sum_to_index:",
        "            start_index = sum_to_index[prefix_sum - target] + 1",
        "            length = i - start_index + 1",
        "            subarray_lengths.append((start_index, i, length))  # Store (start, end, length)",
        "        ",
        "        # Update the map with current prefix sum and its index",
        "        sum_to_index[prefix_sum] = i",
        "",
        "    # Step 2: Find minimum sum of lengths of two non-overlapping subarrays",
        "    min_length_of_first = float('inf')  # Minimum length of the first subarray found",
        "",
        "    for start, end, length in subarray_lengths:",
        "        # Check for non-overlapping subarrays",
        "        # We need to find the minimum length of a valid subarray before the current 'start'",
        "        for prev_start, prev_end, prev_length in subarray_lengths:",
        "            if prev_end < start:  # Ensure non-overlapping",
        "                min_length_of_first = min(min_length_of_first, prev_length)",
        "",
        "        # If we found a valid first subarray, update the minimum length",
        "        if min_length_of_first != float('inf'):",
        "            min_length = min(min_length, length + min_length_of_first)",
        "",
        "    # Return the result",
        "    return min_length if min_length != float('inf') else -1",
        "",
        "# Example usage",
        "print(min_sum_of_lengths([3,2,2,4,3], 3))  # Output: 2",
        "print(min_sum_of_lengths([7,3,4,7], 7))    # Output: 2",
        "print(min_sum_of_lengths([4,3,2,6,2,3,4], 6))  # Output: -1"
      ]
    },
    {
      "cell_type": "markdown",
      "metadata": {},
      "source": [
        "### Time and Space Complexity:",
        "- **Time Complexity**: The solution iterates through the array to find subarrays that sum to the target, which takes \\(O(n)\\). Additionally, for each subarray found, we may need to check previous ones which leads to a potentially \\(O(n^2)\\) situation in the worst case. However, with the right optimizations and if the number of valid subarrays is limited, it is often close to \\(O(n)\\) in practice.",
        "  ",
        "- **Space Complexity**: We use a hashmap to store prefix sums and their indices, which takes \\(O(n)\\) space in the worst case, and a list to store the lengths of found subarrays, which could also take \\(O(n)\\) space. Thus, the total space complexity is \\(O(n)\\).",
        "",
        "This solution effectively finds two non-overlapping subarrays with the specified sum while minimizing their combined length."
      ]
    },
    {
      "cell_type": "markdown",
      "metadata": {},
      "source": [
        "---",
        "",
        ""
      ]
    },
    {
      "cell_type": "markdown",
      "metadata": {},
      "source": [
        "# Longest Subarray of 1's After Deleting One Element (#1493)",
        "",
        "**Difficulty:** Medium  ",
        "**Date:** 2025-08-04 23:47:39  ",
        "**URL:** https://leetcode.com/problems/longest-subarray-of-1s-after-deleting-one-element/",
        "",
        "---"
      ]
    },
    {
      "cell_type": "markdown",
      "metadata": {},
      "source": [
        "## Problem Description",
        "",
        "Given a binary array nums, you should delete one element from it.\n\nReturn the size of the longest non-empty subarray containing only 1&#39;s in the resulting array. Return 0 if there is no such subarray.\n\n&nbsp;\nExample 1:\n\n\nInput: nums = [1,1,0,1]\nOutput: 3\nExplanation: After deleting the number in position 2, [1,1,1] contains 3 numbers with value of 1&#39;s.\n\n\nExample 2:\n\n\nInput: nums = [0,1,1,1,0,1,1,0,1]\nOutput: 5\nExplanation: After deleting the number in position 4, [0,1,1,1,1,1,0,1] longest subarray with value of 1&#39;s is [1,1,1,1,1].\n\n\nExample 3:\n\n\nInput: nums = [1,1,1]\nOutput: 2\nExplanation: You must delete one element.\n\n\n&nbsp;\nConstraints:\n\n\n\t1 <= nums.length <= 105\n\tnums[i] is either 0 or 1.\n\n"
      ]
    },
    {
      "cell_type": "markdown",
      "metadata": {},
      "source": [
        "## Clarifying Questions",
        "",
        "1. Are we allowed to delete any element from the array, including a '1'? If so, how does this affect the longest subarray of '1's we can obtain?\n\n2. What should we return if the array consists entirely of '0's, or if deleting any single element still results in no '1's being present in the array?\n\n3. Can the input array contain only one element, and if so, what should the output be in that case?\n\n4. Are there any performance constraints we should be aware of, particularly regarding the size of the input array (up to 100,000 elements)?\n\n5. Should we consider the case where there are multiple '0's in a row, and how does the position of the '0' we choose to delete affect the length of the longest subarray of '1's?"
      ]
    },
    {
      "cell_type": "markdown",
      "metadata": {},
      "source": [
        "## Test Edge Cases",
        "",
        "Here are 8 important test edge cases to consider for the problem \"Longest Subarray of 1's After Deleting One Element\":\n\n1. **Single Element Array (0)**:\n   - Input: `nums = [0]`\n   - Description: The smallest possible input where the array contains only a single `0`. The output should be `0` since deleting the only element leaves an empty array.\n\n2. **Single Element Array (1)**:\n   - Input: `nums = [1]`\n   - Description: The smallest possible input where the array contains only a single `1`. The output should be `0` since you must delete one element, leaving an empty array.\n\n3. **All Zeros**:\n   - Input: `nums = [0, 0, 0, 0]`\n   - Description: An array containing only `0`s. The output should be `0` since deleting any element still results in an array with no `1`s.\n\n4. **All Ones**:\n   - Input: `nums = [1, 1, 1, 1]`\n   - Description: An array containing only `1`s. The output should be `3` since deleting any `1` still leaves a subarray of `3` `1`s.\n\n5. **Alternating Ones and Zeros**:\n   - Input: `nums = [1, 0, 1, 0, 1]`\n   - Description: An array with alternating `1`s and `0`s. The output should be `2` since deleting any `0` allows for a maximum of `2` `1`s in a row.\n\n6. **Multiple Zeros with Ones**:\n   - Input: `nums = [1, 1, 0, 1, 1, 0, 1]`\n   - Description: An array with multiple `0`s separating `1`s. The output should be `4` since deleting the first `0` or the second `0` allows for a maximum of `4` `1`s in a row.\n\n7. **Maximum Size Array**:\n   - Input: `nums = [1] * 100000` (an array of 100,000 `1`s)\n   - Description: The largest possible input size with all `1`s. The output should be `99999` since deleting any `1` still leaves a subarray of `99999` `1`s.\n\n8. **Long Subarray with One Zero**:\n   - Input: `nums = [1, 1, 1, 0, 1, 1, 1, 1]`\n   - Description: A long subarray of `1`s with a single `0` in the middle. The output should be `7` since deleting the `0` allows for a maximum of `7`"
      ]
    },
    {
      "cell_type": "markdown",
      "metadata": {},
      "source": [
        "### Explanation of the Approach",
        "",
        "To solve the problem of finding the longest subarray of 1's after deleting one element from a binary array, we can use a sliding window approach. The main idea is to maintain a window that contains at most one `0`, since we can delete one element from the array, which allows us to treat a `0` as a potential point of deletion.",
        "",
        "Here’s a step-by-step breakdown of the approach:",
        "",
        "1. **Initialize Pointers**: Use two pointers (`left` and `right`) to represent the current window of 1's in the array.",
        "",
        "2. **Count Zeros**: As we expand the `right` pointer, we will count how many `0's` are present in the current window. We will try to ensure that there is at most one `0` in our current window.",
        "",
        "3. **Expand and Contract**: If the count of `0's` exceeds one, we will move the `left` pointer to the right until we have at most one `0` in the window again.",
        "",
        "4. **Calculate Maximum Length**: Throughout this process, we will keep track of the maximum length of the window that meets our criteria, which is `length of the window - 1` (since we have to delete one element).",
        "",
        "5. **Edge Cases**: Handle cases where there are no `1's` (the output should be `0`).",
        "",
        "### Python Code Solution",
        "",
        "Here's the code implementing the above approach:"
      ]
    },
    {
      "cell_type": "code",
      "execution_count": null,
      "metadata": {},
      "outputs": [],
      "source": [
        "def longestSubarray(nums):",
        "    left = 0  # Initialize left pointer",
        "    max_length = 0  # Variable to store the maximum length of the valid subarray",
        "    zero_count = 0  # Count of zeros in the current window",
        "",
        "    # Iterate over the array with the right pointer",
        "    for right in range(len(nums)):",
        "        # If we encounter a 0, increment the zero_count",
        "        if nums[right] == 0:",
        "            zero_count += 1",
        "        ",
        "        # If we have more than one zero in the window, move the left pointer",
        "        while zero_count > 1:",
        "            if nums[left] == 0:",
        "                zero_count -= 1  # Decrement the zero_count if we are moving past a zero",
        "            left += 1  # Move the left pointer to the right",
        "        ",
        "        # Update the maximum length of the window minus one (for the deletion)",
        "        max_length = max(max_length, right - left)",
        "",
        "    return max_length"
      ]
    },
    {
      "cell_type": "markdown",
      "metadata": {},
      "source": [
        "### Time and Space Complexity Analysis",
        "",
        "- **Time Complexity**: O(n), where n is the length of the input array `nums`. We traverse the array with the `right` pointer, and each time we increment the `left` pointer, we are also moving through the array. Hence, each element is processed at most twice (once by `right` and once by `left`).",
        "",
        "- **Space Complexity**: O(1), since we are using a constant amount of additional space for the pointers and counters, irrespective of the input size.",
        "",
        "### Summary",
        "",
        "This solution efficiently finds the longest subarray of 1's after deleting one element by maintaining a sliding window that allows at most one `0`. The approach is optimal for the given constraints and leverages the properties of a binary array effectively."
      ]
    },
    {
      "cell_type": "markdown",
      "metadata": {},
      "source": [
        "---",
        "",
        ""
      ]
    },
    {
      "cell_type": "markdown",
      "metadata": {},
      "source": [
        "# Max Value of Equation (#1499)",
        "",
        "**Difficulty:** Hard  ",
        "**Date:** 2025-08-04 23:47:47  ",
        "**URL:** https://leetcode.com/problems/max-value-of-equation/",
        "",
        "---"
      ]
    },
    {
      "cell_type": "markdown",
      "metadata": {},
      "source": [
        "## Problem Description",
        "",
        "You are given an array points containing the coordinates of points on a 2D plane, sorted by the x-values, where points[i] = [xi, yi] such that xi < xj for all 1 <= i < j <= points.length. You are also given an integer k.\n\nReturn the maximum value of the equation yi + yj + |xi - xj| where |xi - xj| <= k and 1 <= i < j <= points.length.\n\nIt is guaranteed that there exists at least one pair of points that satisfy the constraint |xi - xj| <= k.\n\n&nbsp;\nExample 1:\n\n\nInput: points = [[1,3],[2,0],[5,10],[6,-10]], k = 1\nOutput: 4\nExplanation: The first two points satisfy the condition |xi - xj| <= 1 and if we calculate the equation we get 3 + 0 + |1 - 2| = 4. Third and fourth points also satisfy the condition and give a value of 10 + -10 + |5 - 6| = 1.\nNo other pairs satisfy the condition, so we return the max of 4 and 1.\n\n\nExample 2:\n\n\nInput: points = [[0,0],[3,0],[9,2]], k = 3\nOutput: 3\nExplanation: Only the first two points have an absolute difference of 3 or less in the x-values, and give the value of 0 + 0 + |0 - 3| = 3.\n\n\n&nbsp;\nConstraints:\n\n\n\t2 <= points.length <= 105\n\tpoints[i].length == 2\n\t-108 <= xi, yi <= 108\n\t0 <= k <= 2 * 108\n\txi < xj for all 1 <= i < j <= points.length\n\txi form a strictly increasing sequence.\n\n"
      ]
    },
    {
      "cell_type": "markdown",
      "metadata": {},
      "source": [
        "## Clarifying Questions",
        "",
        "1. Are there any specific edge cases we should consider, such as when all points have the same y-value or when k is very large relative to the x-values of the points?\n\n2. Can you clarify the expected output format? Should we return just the maximum value as an integer, or is there any additional information required in the output?\n\n3. Given the constraints on the number of points (up to 100,000), what is the expected time complexity for the solution? Are there any performance optimizations we should consider?\n\n4. Are there any assumptions we can make about the distribution of the points, such as whether they are evenly spaced or clustered in certain areas of the plane?\n\n5. If there are multiple pairs of points that yield the same maximum value, should we return that value only once, or is there a requirement to return all such pairs?"
      ]
    },
    {
      "cell_type": "markdown",
      "metadata": {},
      "source": [
        "## Test Edge Cases",
        "",
        "Here are 8 important test edge cases to consider for the \"Max Value of Equation\" problem:\n\n1. **Minimum Input Size**:\n   - **Input**: `points = [[1, 1], [2, 2]], k = 1`\n   - **Description**: The smallest valid input size with two points. This tests the basic functionality of the algorithm.\n\n2. **All Points with Same y-value**:\n   - **Input**: `points = [[1, 5], [2, 5], [3, 5]], k = 1`\n   - **Description**: All points have the same y-value. This tests if the algorithm correctly handles cases where the y-values do not contribute to the maximum equation value.\n\n3. **Maximum Size Input**:\n   - **Input**: `points = [[i, i] for i in range(1, 100001)], k = 100000`\n   - **Description**: Tests the performance of the algorithm with the maximum allowed input size. Ensures that the solution can handle large datasets efficiently.\n\n4. **Negative y-values**:\n   - **Input**: `points = [[1, -1], [2, -2], [3, -3]], k = 2`\n   - **Description**: Tests how the algorithm handles negative y-values and whether it can still find the maximum value correctly.\n\n5. **Large k with Distant Points**:\n   - **Input**: `points = [[1, 1], [10, 10], [20, 20]], k = 15`\n   - **Description**: Tests the scenario where `k` is large enough to include distant points. This checks if the algorithm correctly identifies valid pairs across larger gaps.\n\n6. **Points with Large Coordinates**:\n   - **Input**: `points = [[1, 100000000], [2, 100000000], [3, 100000000]], k = 1`\n   - **Description**: Tests the algorithm's ability to handle large integer values for coordinates, ensuring it does not encounter overflow issues.\n\n7. **Points with Minimum and Maximum Values**:\n   - **Input**: `points = [[-100000000, -100000000], [0, 0], [100000000, 100000000]], k = 200000000`\n   - **Description**: Tests the algorithm's handling of extreme values for both x and y coordinates, ensuring it can compute the equation correctly across the entire range of possible values.\n\n8. **Adjacent Points with Maximum Difference**:\n   - **Input**: `points = [[1, 1], [2, 2], [3, 3], [4, 4]], k = 2`\n   - **Description**: Tests the scenario where adjacent points have the maximum allowed difference in x-values."
      ]
    },
    {
      "cell_type": "markdown",
      "metadata": {},
      "source": [
        "To solve the problem of finding the maximum value of the equation \\( yi + yj + |xi - xj| \\) while ensuring that the absolute difference in x-coordinates is less than or equal to \\( k \\), we can take the following approach:",
        "",
        "### Approach Explanation:",
        "",
        "1. **Understanding the Equation**: The equation can be rewritten as:",
        "   \\[",
        "   \\text{value} = yi + yj + (xj - xi)",
        "   \\]",
        "   Since \\( xi < xj \\), we can directly use \\( xj - xi \\) without the absolute value.",
        "",
        "2. **Constraints**: We need to ensure that \\( |xi - xj| \\leq k \\), which simplifies to \\( xj - xi \\leq k \\) when \\( i < j \\).",
        "",
        "3. **Sliding Window Technique**: We can use a sliding window (or deque) to keep track of the candidates for maximizing \\( yi + xi \\) as we iterate through the points:",
        "   - For each point \\( j \\), we will check previous points \\( i \\) that satisfy the condition \\( xj - xi \\leq k \\).",
        "   - We will maintain a deque that holds the indices of points that are valid candidates for our maximum value calculation.",
        "",
        "4. **Maximize the Value**: For each point \\( j \\):",
        "   - Remove points from the deque that no longer satisfy the condition \\( xj - xi \\leq k \\).",
        "   - Calculate the value using the front of the deque (which has the maximum value of \\( yi + xi \\)) and update the maximum result.",
        "",
        "5. **Efficiency**: By maintaining a deque, we ensure we can efficiently add and remove indices, as well as retrieve the maximum value of \\( yi + xi \\).",
        "",
        "### Python Code Solution:",
        "",
        "Here is the Python implementation of the described approach:"
      ]
    },
    {
      "cell_type": "code",
      "execution_count": null,
      "metadata": {},
      "outputs": [],
      "source": [
        "from collections import deque",
        "",
        "def findMaxValueOfEquation(points, k):",
        "    # Initialize the maximum value",
        "    max_value = float('-inf')",
        "    # Deque to store indices of points",
        "    dq = deque()",
        "",
        "    for x, y in points:",
        "        # Remove points from the deque that are out of the distance k",
        "        while dq and x - points[dq[0]][0] > k:",
        "            dq.popleft()",
        "",
        "        # If the deque is not empty, calculate the potential maximum value",
        "        if dq:",
        "            i = dq[0]",
        "            current_value = y + points[i][1] + (x - points[i][0])",
        "            max_value = max(max_value, current_value)",
        "",
        "        # Maintain the deque for the next points",
        "        # First, pop points from the back which have a lower value of (yi - xi)",
        "        while dq and (points[dq[-1]][1] - points[dq[-1]][0] < y - x):",
        "            dq.pop()",
        "",
        "        # Add the current point's index to the deque",
        "        dq.append(len(points) - len(dq) - 1)",
        "",
        "    return max_value"
      ]
    },
    {
      "cell_type": "markdown",
      "metadata": {},
      "source": [
        "### Time and Space Complexity Analysis:",
        "",
        "- **Time Complexity**: The algorithm processes each point once and maintains a deque of at most \\( O(n) \\) in size. Each point is added and removed from the deque at most once, leading to an overall time complexity of \\( O(n) \\), where \\( n \\) is the number of points.",
        "",
        "- **Space Complexity**: The space complexity is \\( O(n) \\) in the worst case due to the storage of the deque. However, in practice, it will often use less space as points are removed when they fall outside the distance \\( k \\).",
        "",
        "This efficient approach ensures that we can handle the upper limits of the problem's constraints effectively."
      ]
    },
    {
      "cell_type": "markdown",
      "metadata": {},
      "source": [
        "---",
        "",
        ""
      ]
    },
    {
      "cell_type": "markdown",
      "metadata": {},
      "source": [
        "# Alert Using Same Key-Card Three or More Times in a One Hour Period (#1604)",
        "",
        "**Difficulty:** Medium  ",
        "**Date:** 2025-08-04 23:50:04  ",
        "**URL:** https://leetcode.com/problems/alert-using-same-key-card-three-or-more-times-in-a-one-hour-period/",
        "",
        "---"
      ]
    },
    {
      "cell_type": "markdown",
      "metadata": {},
      "source": [
        "## Problem Description",
        "",
        "LeetCode company workers use key-cards to unlock office doors. Each time a worker uses their key-card, the security system saves the worker&#39;s name and the time when it was used. The system emits an alert if any worker uses the key-card three or more times in a one-hour period.\n\nYou are given a list of strings keyName and keyTime where [keyName[i], keyTime[i]] corresponds to a person&#39;s name and the time when their key-card was used in a single day.\n\nAccess times are given in the 24-hour time format &quot;HH:MM&quot;, such as &quot;23:51&quot; and &quot;09:49&quot;.\n\nReturn a list of unique worker names who received an alert for frequent keycard use. Sort the names in ascending order alphabetically.\n\nNotice that &quot;10:00&quot; - &quot;11:00&quot; is considered to be within a one-hour period, while &quot;22:51&quot; - &quot;23:52&quot; is not considered to be within a one-hour period.\n\n&nbsp;\nExample 1:\n\n\nInput: keyName = [&quot;daniel&quot;,&quot;daniel&quot;,&quot;daniel&quot;,&quot;luis&quot;,&quot;luis&quot;,&quot;luis&quot;,&quot;luis&quot;], keyTime = [&quot;10:00&quot;,&quot;10:40&quot;,&quot;11:00&quot;,&quot;09:00&quot;,&quot;11:00&quot;,&quot;13:00&quot;,&quot;15:00&quot;]\nOutput: [&quot;daniel&quot;]\nExplanation: &quot;daniel&quot; used the keycard 3 times in a one-hour period (&quot;10:00&quot;,&quot;10:40&quot;, &quot;11:00&quot;).\n\n\nExample 2:\n\n\nInput: keyName = [&quot;alice&quot;,&quot;alice&quot;,&quot;alice&quot;,&quot;bob&quot;,&quot;bob&quot;,&quot;bob&quot;,&quot;bob&quot;], keyTime = [&quot;12:01&quot;,&quot;12:00&quot;,&quot;18:00&quot;,&quot;21:00&quot;,&quot;21:20&quot;,&quot;21:30&quot;,&quot;23:00&quot;]\nOutput: [&quot;bob&quot;]\nExplanation: &quot;bob&quot; used the keycard 3 times in a one-hour period (&quot;21:00&quot;,&quot;21:20&quot;, &quot;21:30&quot;).\n\n\n&nbsp;\nConstraints:\n\n\n\t1 <= keyName.length, keyTime.length <= 105\n\tkeyName.length == keyTime.length\n\tkeyTime[i] is in the format &quot;HH:MM&quot;.\n\t[keyName[i], keyTime[i]] is unique.\n\t1 <= keyName[i].length <= 10\n\tkeyName[i] contains only lowercase English letters.\n\n"
      ]
    },
    {
      "cell_type": "markdown",
      "metadata": {},
      "source": [
        "## Clarifying Questions",
        "",
        "1. **Time Format Clarification**: Can you confirm that the input times are always in the \"HH:MM\" 24-hour format and that there are no invalid time entries?\n\n2. **Handling of Duplicate Entries**: If a worker uses their key-card multiple times at the exact same minute, should each of these instances be counted individually towards the three uses within an hour?\n\n3. **Output Format**: Should the output list of worker names be case-sensitive, or can we assume all names are in lowercase as per the constraints? \n\n4. **Performance Constraints**: Given the constraints of up to 100,000 entries, are there any specific performance requirements or expected time complexity for the solution?\n\n5. **Edge Cases**: How should we handle cases where no worker meets the alert criteria? Should we return an empty list, or is there a specific output format we should follow?"
      ]
    },
    {
      "cell_type": "markdown",
      "metadata": {},
      "source": [
        "## Test Edge Cases",
        "",
        "Here are 8 important edge cases to consider when solving the problem of alerting workers who use their key-cards three or more times in a one-hour period:\n\n1. **Minimum Input Size**:\n   - **Input**: `keyName = [\"alice\"], keyTime = [\"12:00\"]`\n   - **Description**: Test with the smallest possible input size (one worker, one time). Expect an empty output since the worker does not meet the alert condition.\n\n2. **Single Worker with Two Uses**:\n   - **Input**: `keyName = [\"bob\", \"bob\"], keyTime = [\"10:00\", \"10:30\"]`\n   - **Description**: A single worker uses the key-card twice within one hour but not three times. Expect an empty output.\n\n3. **Multiple Workers with No Alerts**:\n   - **Input**: `keyName = [\"alice\", \"bob\", \"charlie\"], keyTime = [\"09:00\", \"10:00\", \"11:00\"]`\n   - **Description**: Multiple workers using the key-card at different times without triggering any alerts. Expect an empty output.\n\n4. **One Worker with Three Uses Just Outside One Hour**:\n   - **Input**: `keyName = [\"daniel\", \"daniel\", \"daniel\"], keyTime = [\"10:00\", \"10:59\", \"11:01\"]`\n   - **Description**: A worker uses the key-card three times, but the last two uses are just outside the one-hour window. Expect an empty output.\n\n5. **One Worker with Three Uses Inside One Hour**:\n   - **Input**: `keyName = [\"luis\", \"luis\", \"luis\"], keyTime = [\"10:00\", \"10:30\", \"10:59\"]`\n   - **Description**: A worker uses the key-card three times within a one-hour period. Expect output: `[\"luis\"]`.\n\n6. **Multiple Workers with Overlapping Alerts**:\n   - **Input**: `keyName = [\"alice\", \"alice\", \"bob\", \"bob\", \"bob\"], keyTime = [\"12:00\", \"12:30\", \"12:10\", \"12:20\", \"12:50\"]`\n   - **Description**: Both workers trigger alerts. Expect output: `[\"alice\", \"bob\"]`.\n\n7. **Maximum Input Size**:\n   - **Input**: `keyName = [\"worker\" + str(i) for i in range(100000)], keyTime = [\"00:00\" for _ in range(100000)]`\n   - **Description**: Test with the maximum allowed input size where all key times are the same. Expect an empty output since no worker meets the alert condition.\n\n8. **Workers with Duplicate Times**:\n   - **Input**: `keyName = [\"dan"
      ]
    },
    {
      "cell_type": "markdown",
      "metadata": {},
      "source": [
        "To solve the problem of detecting alerts based on key-card usage within a one-hour period, we can use a systematic approach. Below is a detailed explanation of the approach, followed by the Python code solution and complexity analysis.",
        "",
        "### 1. Approach Explanation",
        "",
        "1. **Data Structure Choice**: We can use a dictionary to map each worker's name to a list of the times they used their key-card. This allows us to easily collect all times for each worker.",
        "",
        "2. **Time Conversion**: Since the time is given in \"HH:MM\" format, we need to convert these times into minutes for easier comparisons. For example, \"10:00\" converts to 600 minutes (10 * 60 + 0).",
        "",
        "3. **Sorting Times**: For each worker, after collecting their times, we will sort these times in ascending order. This enables us to efficiently check for groups of three or more usages that occur within a one-hour period.",
        "",
        "4. **Sliding Window Technique**: For each worker's sorted list of times, we can use a sliding window approach to find if there are at least three usages within any one-hour window:",
        "   - Use two pointers: one to mark the start of the window and one to traverse the list.",
        "   - For each time, check if the difference between the current time and the start time exceeds 60 minutes. If it does, move the start pointer forward.",
        "   - Count the number of times within the current window, and if it reaches three, add the worker's name to the alert list.",
        "",
        "5. **Sorting the Result**: Finally, we need to return the list of unique worker names in alphabetical order.",
        "",
        "### 2. Python Code Solution"
      ]
    },
    {
      "cell_type": "code",
      "execution_count": null,
      "metadata": {},
      "outputs": [],
      "source": [
        "def alertNames(keyName, keyTime):",
        "    from collections import defaultdict",
        "    ",
        "    # Step 1: Create a dictionary to collect times for each worker",
        "    worker_times = defaultdict(list)",
        "    ",
        "    # Step 2: Populate the dictionary with times converted to minutes",
        "    for name, time in zip(keyName, keyTime):",
        "        hours, minutes = map(int, time.split(':'))  # Split \"HH:MM\" into hours and minutes",
        "        total_minutes = hours * 60 + minutes  # Convert to total minutes",
        "        worker_times[name].append(total_minutes)  # Add to the worker's list of times",
        "    ",
        "    # Step 3: Initialize a set to keep track of alerted workers",
        "    alerted_workers = set()",
        "    ",
        "    # Step 4: Process each worker's times",
        "    for name, times in worker_times.items():",
        "        times.sort()  # Sort times for the worker",
        "        n = len(times)",
        "        ",
        "        # Step 5: Use a sliding window to check for three usages in an hour",
        "        for start in range(n):",
        "            # Move the end pointer to include as many times as we can within one hour",
        "            end = start",
        "            while end < n and times[end] - times[start] <= 60:",
        "                end += 1",
        "            ",
        "            # Check if the number of usages in this window is 3 or more",
        "            if end - start >= 3:",
        "                alerted_workers.add(name)",
        "                break  # No need to check further for this worker",
        "    ",
        "    # Step 6: Return the sorted list of alerted worker names",
        "    return sorted(alerted_workers)",
        "",
        "# Example usage",
        "keyName1 = [\"daniel\", \"daniel\", \"daniel\", \"luis\", \"luis\", \"luis\", \"luis\"]",
        "keyTime1 = [\"10:00\", \"10:40\", \"11:00\", \"09:00\", \"11:00\", \"13:00\", \"15:00\"]",
        "print(alertNames(keyName1, keyTime1))  # Output: [\"daniel\"]"
      ]
    },
    {
      "cell_type": "markdown",
      "metadata": {},
      "source": [
        "### 3. Time and Space Complexity Analysis",
        "",
        "- **Time Complexity**:",
        "  - Collecting the times: O(n), where n is the length of `keyName`.",
        "  - Sorting each worker's times: In the worst case, if all entries belong to one worker, it will take O(n log n).",
        "  - The sliding window check will take O(n) in the worst case, so the overall time complexity is O(n log n) due to sorting.",
        "",
        "- **Space Complexity**:",
        "  - We use a dictionary to store the times for each worker, which takes O(n) in the worst case.",
        "  - The set used to store alerted workers can also take O(n) in the worst case.",
        "  - Therefore, the overall space complexity is O(n). ",
        "",
        "This solution efficiently identifies workers who used their key-cards excessively within a given timeframe and returns a sorted list of their names."
      ]
    },
    {
      "cell_type": "markdown",
      "metadata": {},
      "source": [
        "---",
        "",
        ""
      ]
    },
    {
      "cell_type": "markdown",
      "metadata": {},
      "source": [
        "# Maximum Erasure Value (#1695)",
        "",
        "**Difficulty:** Medium  ",
        "**Date:** 2025-08-04 23:52:59  ",
        "**URL:** https://leetcode.com/problems/maximum-erasure-value/",
        "",
        "---"
      ]
    },
    {
      "cell_type": "markdown",
      "metadata": {},
      "source": [
        "## Problem Description",
        "",
        "You are given an array of positive integers nums and want to erase a subarray containing&nbsp;unique elements. The score you get by erasing the subarray is equal to the sum of its elements.\n\nReturn the maximum score you can get by erasing exactly one subarray.\n\nAn array b is called to be a subarray of a if it forms a contiguous subsequence of a, that is, if it is equal to a[l],a[l+1],...,a[r] for some (l,r).\n\n&nbsp;\nExample 1:\n\n\nInput: nums = [4,2,4,5,6]\nOutput: 17\nExplanation: The optimal subarray here is [2,4,5,6].\n\n\nExample 2:\n\n\nInput: nums = [5,2,1,2,5,2,1,2,5]\nOutput: 8\nExplanation: The optimal subarray here is [5,2,1] or [1,2,5].\n\n\n&nbsp;\nConstraints:\n\n\n\t1 <= nums.length <= 105\n\t1 <= nums[i] <= 104\n\n"
      ]
    },
    {
      "cell_type": "markdown",
      "metadata": {},
      "source": [
        "## Clarifying Questions",
        "",
        "1. **What should we do if the input array contains only one element?** Is the output simply that element, or do we need to handle it differently?\n\n2. **Are there any constraints on the number of unique elements in the subarray?** For example, can the entire array be considered if it contains all unique elements?\n\n3. **Can the input array contain duplicate elements, and if so, how should we handle them when determining the maximum score?** Specifically, how do we define \"erasing a subarray with unique elements\"?\n\n4. **What is the expected output format?** Should the output be just the maximum score, or do we also need to return the subarray that gives this score?\n\n5. **What are the performance requirements for this problem?** Given the constraints, is there a specific time complexity we should aim for in our solution?"
      ]
    },
    {
      "cell_type": "markdown",
      "metadata": {},
      "source": [
        "## Test Edge Cases",
        "",
        "Here are 8 important test edge cases to consider for the \"Maximum Erasure Value\" problem:\n\n1. **Single Element Array**:\n   - Input: `nums = [1]`\n   - Description: The smallest possible array with only one element. The expected output should be the value of that single element since it is the only subarray.\n\n2. **All Unique Elements**:\n   - Input: `nums = [1, 2, 3, 4, 5]`\n   - Description: An array where all elements are unique. The expected output should be the sum of the entire array since the whole array is a valid subarray.\n\n3. **All Duplicates**:\n   - Input: `nums = [2, 2, 2, 2, 2]`\n   - Description: An array where all elements are the same. The expected output should be the value of the single element since the only valid subarray with unique elements is just one of the elements.\n\n4. **Maximum Size Array with Unique Elements**:\n   - Input: `nums = [1, 2, ..., 100000]` (an array of size 100,000 with unique elements)\n   - Description: Tests the performance and correctness for the maximum input size with all unique elements. The expected output should be the sum of the first 100,000 positive integers.\n\n5. **Maximum Size Array with Duplicates**:\n   - Input: `nums = [1, 2, 1, 2, ..., 1, 2]` (an array of size 100,000 with alternating duplicates)\n   - Description: Tests the performance with maximum input size and duplicates. The expected output should be the sum of the unique elements, which are 1 and 2.\n\n6. **Subarray at the Start**:\n   - Input: `nums = [1, 2, 3, 1, 4, 5]`\n   - Description: A case where the optimal subarray starts from the beginning of the array. The expected output should be the sum of the subarray `[1, 2, 3, 1]` or `[2, 3, 1, 4, 5]`.\n\n7. **Subarray at the End**:\n   - Input: `nums = [3, 1, 2, 3, 4, 5]`\n   - Description: A case where the optimal subarray is at the end of the array. The expected output should be the sum of the subarray `[3, 4, 5]`.\n\n8. **Consecutive Duplicates with Unique Elements**:\n   - Input: `nums = [5, 1, 2, 3, 5, 4, 1, 2]`\n   - Description: A case with duplicates interspersed"
      ]
    },
    {
      "cell_type": "markdown",
      "metadata": {},
      "source": [
        "To solve the problem of finding the maximum score obtainable by erasing a subarray containing unique elements, we can utilize a sliding window (or two-pointer) approach. This is an efficient way to explore subarrays while maintaining the properties we need (in this case, uniqueness).",
        "",
        "### Approach:",
        "",
        "1. **Sliding Window Technique**: We will use two pointers, `start` and `end`, to represent the current subarray. The `end` pointer will expand the subarray to include new elements, while the `start` pointer will move to ensure that all elements in the current subarray are unique.",
        "",
        "2. **Tracking Elements**: We need to keep track of the elements in the current subarray (to ensure they are unique) and the sum of these elements. A dictionary or a set can be used for this purpose.",
        "",
        "3. **Expanding and Contracting the Window**:",
        "   - As we move the `end` pointer and add elements to our current subarray, we will check if the element is already in the current subarray.",
        "   - If it is, we will move the `start` pointer to the right until the current element can be added without breaking the uniqueness.",
        "   - Whenever we successfully add a new unique element, we will update our maximum score.",
        "",
        "4. **Final Result**: After processing all elements, the maximum score will reflect the maximum sum of any subarray with all unique elements.",
        "",
        "### Python Code Solution:"
      ]
    },
    {
      "cell_type": "code",
      "execution_count": null,
      "metadata": {},
      "outputs": [],
      "source": [
        "def maximumErasureValue(nums):",
        "    # Dictionary to store the last index of each element",
        "    last_index = {}",
        "    max_score = 0  # To store the maximum score found",
        "    current_sum = 0  # To keep track of the current sum of elements in the window",
        "    start = 0  # Start index of the sliding window",
        "",
        "    for end in range(len(nums)):",
        "        # If the element already exists in the window, move the start index",
        "        if nums[end] in last_index:",
        "            # Move the start pointer to the right of the last occurrence of nums[end]",
        "            start = max(start, last_index[nums[end]] + 1)",
        "",
        "        # Update the last index of the current element",
        "        last_index[nums[end]] = end",
        "        ",
        "        # Add the current element to the current sum",
        "        current_sum += nums[end]",
        "",
        "        # Calculate the maximum score found so far",
        "        max_score = max(max_score, current_sum)",
        "",
        "        # If we moved the start pointer, adjust the current_sum",
        "        if start > 0 and last_index[nums[end]] > start - 1:",
        "            # We need to subtract the elements that are now outside the window",
        "            for i in range(start - 1, end):",
        "                current_sum -= nums[i]",
        "",
        "    return max_score",
        "",
        "# Example usage",
        "print(maximumErasureValue([4, 2, 4, 5, 6]))  # Output: 17",
        "print(maximumErasureValue([5, 2, 1, 2, 5, 2, 1, 2, 5]))  # Output: 8"
      ]
    },
    {
      "cell_type": "markdown",
      "metadata": {},
      "source": [
        "### Time and Space Complexity Analysis:",
        "",
        "- **Time Complexity**: O(n), where n is the length of the input array `nums`. We iterate through the array once, and the inner operations (like updating the dictionary) are O(1) on average.",
        "  ",
        "- **Space Complexity**: O(n) in the worst case for the dictionary that stores the last index of each unique element. In practice, if all elements are unique, we will store all of them.",
        "",
        "This solution efficiently finds the maximum score by leveraging the properties of unique elements in a subarray while maintaining a linear time complexity, making it suitable for larger inputs as specified in the constraints."
      ]
    },
    {
      "cell_type": "markdown",
      "metadata": {},
      "source": [
        "---",
        "",
        ""
      ]
    },
    {
      "cell_type": "markdown",
      "metadata": {},
      "source": [
        "# Longest Nice Substring (#1763)",
        "",
        "**Difficulty:** Easy  ",
        "**Date:** 2025-08-04 23:54:35  ",
        "**URL:** https://leetcode.com/problems/longest-nice-substring/",
        "",
        "---"
      ]
    },
    {
      "cell_type": "markdown",
      "metadata": {},
      "source": [
        "## Problem Description",
        "",
        "A string s is nice if, for every letter of the alphabet that s contains, it appears both in uppercase and lowercase. For example, &quot;abABB&quot; is nice because &#39;A&#39; and &#39;a&#39; appear, and &#39;B&#39; and &#39;b&#39; appear. However, &quot;abA&quot; is not because &#39;b&#39; appears, but &#39;B&#39; does not.\n\nGiven a string s, return the longest substring of s that is nice. If there are multiple, return the substring of the earliest occurrence. If there are none, return an empty string.\n\n&nbsp;\nExample 1:\n\n\nInput: s = &quot;YazaAay&quot;\nOutput: &quot;aAa&quot;\nExplanation: &quot;aAa&quot; is a nice string because &#39;A/a&#39; is the only letter of the alphabet in s, and both &#39;A&#39; and &#39;a&#39; appear.\n&quot;aAa&quot; is the longest nice substring.\n\n\nExample 2:\n\n\nInput: s = &quot;Bb&quot;\nOutput: &quot;Bb&quot;\nExplanation: &quot;Bb&quot; is a nice string because both &#39;B&#39; and &#39;b&#39; appear. The whole string is a substring.\n\n\nExample 3:\n\n\nInput: s = &quot;c&quot;\nOutput: &quot;&quot;\nExplanation: There are no nice substrings.\n\n\n&nbsp;\nConstraints:\n\n\n\t1 <= s.length <= 100\n\ts consists of uppercase and lowercase English letters.\n\n"
      ]
    },
    {
      "cell_type": "markdown",
      "metadata": {},
      "source": [
        "## Clarifying Questions",
        "",
        "1. Are there any specific constraints on the characters in the string besides being uppercase and lowercase English letters, such as special characters or digits?\n\n2. Should the output substring maintain the original order of characters from the input string, or can it be rearranged as long as it meets the nice substring criteria?\n\n3. In the case of multiple longest nice substrings of the same length, how should we determine which one to return? Should we always return the first one that appears in the input string?\n\n4. How should we handle edge cases, such as an empty string or a string with only one character? Should we return an empty string in these cases?\n\n5. Are there any performance requirements we should be aware of, given that the maximum length of the string is 100 characters? Should we aim for a specific time complexity for our solution?"
      ]
    },
    {
      "cell_type": "markdown",
      "metadata": {},
      "source": [
        "## Test Edge Cases",
        "",
        "Here are 8 important test edge cases to consider when solving the \"Longest Nice Substring\" problem:\n\n1. **Empty String**  \n   Input: `\"\"`  \n   Output: `\"\"`  \n   Description: Tests the behavior of the function when given an empty string, which should return an empty result.\n\n2. **Single Character (Lowercase)**  \n   Input: `\"a\"`  \n   Output: `\"\"`  \n   Description: Tests the case where the string contains only one character, which cannot form a nice substring.\n\n3. **Single Character (Uppercase)**  \n   Input: `\"A\"`  \n   Output: `\"\"`  \n   Description: Similar to the previous case but with an uppercase character, also should return an empty string.\n\n4. **All Lowercase Characters**  \n   Input: `\"abcde\"`  \n   Output: `\"\"`  \n   Description: Tests a string with only lowercase letters, which cannot form a nice substring.\n\n5. **All Uppercase Characters**  \n   Input: `\"ABCDE\"`  \n   Output: `\"\"`  \n   Description: Similar to the previous case but with only uppercase letters, also should return an empty string.\n\n6. **Mixed Case with No Nice Substring**  \n   Input: `\"aAbBcC\"`  \n   Output: `\"\"`  \n   Description: Tests a string where no complete pairs of characters (both cases) exist, resulting in no nice substring.\n\n7. **Longest Nice Substring with Duplicates**  \n   Input: `\"aAaaBb\"`  \n   Output: `\"aA\"`  \n   Description: Tests a case where there are duplicates, but the longest nice substring is shorter than the total length of the string.\n\n8. **Maximum Length String**  \n   Input: `\"aA\"*50` (100 characters total)  \n   Output: `\"aA\"`  \n   Description: Tests the performance of the function with the maximum allowed string length, ensuring it can handle large inputs efficiently.\n\nThese test cases cover a variety of scenarios, including edge cases for input length, character variety, and performance constraints."
      ]
    },
    {
      "cell_type": "markdown",
      "metadata": {},
      "source": [
        "### 1. Approach Explanation",
        "",
        "To solve the problem of finding the longest nice substring, we can employ a sliding window technique. This approach will allow us to efficiently evaluate each substring of the input string `s`. The main idea is to maintain a window that contains characters of the substring and check if it meets the criteria of being \"nice.\"",
        "",
        "**Steps to solve the problem:**",
        "",
        "1. **Initialize Variables:** We'll need to keep track of the longest nice substring found and its starting index.",
        "2. **Sliding Window:** Use two nested loops:",
        "    - The outer loop will iterate over the starting index of the substring.",
        "    - The inner loop will expand the substring until the end of the string.",
        "3. **Check for Nice Condition:** For each substring defined by the current indices of the outer and inner loops, we will:",
        "    - Use a set to track the uppercase and lowercase letters.",
        "    - Check if every character's uppercase and lowercase counterparts are present.",
        "4. **Update Longest Nice Substring:** If a nice substring is found and its length exceeds the previously recorded longest substring, we update our result.",
        "5. **Return Result:** After checking all potential substrings, return the longest nice substring found.",
        "",
        "### 2. Python Code Solution with Comments"
      ]
    },
    {
      "cell_type": "code",
      "execution_count": null,
      "metadata": {},
      "outputs": [],
      "source": [
        "def longest_nice_substring(s: str) -> str:",
        "    # Function to check if a substring is nice",
        "    def is_nice(sub: str) -> bool:",
        "        seen = set(sub)  # Create a set of characters in the substring",
        "        for char in seen:",
        "            if char.islower() and char.upper() not in seen:",
        "                return False  # If lowercase exists without uppercase",
        "            if char.isupper() and char.lower() not in seen:",
        "                return False  # If uppercase exists without lowercase",
        "        return True  # All characters have their counterparts",
        "",
        "    longest_nice = \"\"",
        "    ",
        "    # Check all possible starting points",
        "    for start in range(len(s)):",
        "        # Check all possible substring lengths starting from 'start'",
        "        for end in range(start + 1, len(s) + 1):",
        "            substring = s[start:end]  # Get the current substring",
        "            if is_nice(substring):  # Check if the substring is nice",
        "                if len(substring) > len(longest_nice):",
        "                    longest_nice = substring  # Update longest nice substring",
        "    ",
        "    return longest_nice  # Return the result",
        "",
        "# Example usage:",
        "print(longest_nice_substring(\"YazaAay\"))  # Output: \"aAa\"",
        "print(longest_nice_substring(\"Bb\"))       # Output: \"Bb\"",
        "print(longest_nice_substring(\"c\"))        # Output: \"\""
      ]
    },
    {
      "cell_type": "markdown",
      "metadata": {},
      "source": [
        "### 3. Time and Space Complexity Analysis",
        "",
        "- **Time Complexity:** ",
        "    - The outer loop iterates through each character in the string, which is O(n).",
        "    - The inner loop generates all possible substrings starting from each character, which in the worst case can lead to O(n^2) substrings.",
        "    - The `is_nice` function checks each substring and iterates through its characters, which takes O(m), where m is the length of the substring (up to O(n)).",
        "    - Thus, the overall time complexity is O(n^3) in the worst case.",
        "",
        "- **Space Complexity:**",
        "    - We use a set to store characters, which can take O(n) space in the worst case where all characters in the substring are unique.",
        "    - Therefore, the space complexity is O(n).",
        "",
        "This approach is straightforward and works well within the constraints provided (length of string up to 100). However, optimizations could be considered for larger strings or different constraints."
      ]
    },
    {
      "cell_type": "markdown",
      "metadata": {},
      "source": [
        "---",
        "",
        ""
      ]
    },
    {
      "cell_type": "markdown",
      "metadata": {},
      "source": [
        "# Finding MK Average (#1825)",
        "",
        "**Difficulty:** Hard  ",
        "**Date:** 2025-08-05 08:48:10  ",
        "**URL:** https://leetcode.com/problems/finding-mk-average/",
        "",
        "---"
      ]
    },
    {
      "cell_type": "markdown",
      "metadata": {},
      "source": [
        "## Problem Description",
        "",
        "You are given two integers, m and k, and a stream of integers. You are tasked to implement a data structure that calculates the MKAverage for the stream.\n\nThe MKAverage can be calculated using these steps:\n\n\n\tIf the number of the elements in the stream is less than m you should consider the MKAverage to be -1. Otherwise, copy the last m elements of the stream to a separate container.\n\tRemove the smallest k elements and the largest k elements from the container.\n\tCalculate the average value for the rest of the elements rounded down to the nearest integer.\n\n\nImplement the MKAverage class:\n\n\n\tMKAverage(int m, int k) Initializes the MKAverage object with an empty stream and the two integers m and k.\n\tvoid addElement(int num) Inserts a new element num into the stream.\n\tint calculateMKAverage() Calculates and returns the MKAverage for the current stream rounded down to the nearest integer.\n\n\n&nbsp;\nExample 1:\n\n\nInput\n[&quot;MKAverage&quot;, &quot;addElement&quot;, &quot;addElement&quot;, &quot;calculateMKAverage&quot;, &quot;addElement&quot;, &quot;calculateMKAverage&quot;, &quot;addElement&quot;, &quot;addElement&quot;, &quot;addElement&quot;, &quot;calculateMKAverage&quot;]\n[[3, 1], [3], [1], [], [10], [], [5], [5], [5], []]\nOutput\n[null, null, null, -1, null, 3, null, null, null, 5]\n\nExplanation\nMKAverage obj = new MKAverage(3, 1); \nobj.addElement(3);        // current elements are [3]\nobj.addElement(1);        // current elements are [3,1]\nobj.calculateMKAverage(); // return -1, because m = 3 and only 2 elements exist.\nobj.addElement(10);       // current elements are [3,1,10]\nobj.calculateMKAverage(); // The last 3 elements are [3,1,10].\n                          // After removing smallest and largest 1 element the container will be [3].\n                          // The average of [3] equals 3/1 = 3, return 3\nobj.addElement(5);        // current elements are [3,1,10,5]\nobj.addElement(5);        // current elements are [3,1,10,5,5]\nobj.addElement(5);        // current elements are [3,1,10,5,5,5]\nobj.calculateMKAverage(); // The last 3 elements are [5,5,5].\n                          // After removing smallest and largest 1 element the container will be [5].\n                          // The average of [5] equals 5/1 = 5, return 5\n\n\n&nbsp;\nConstraints:\n\n\n\t3 <= m <= 105\n\t1 < k*2 < m\n\t1 <= num <= 105\n\tAt most 105 calls will be made to addElement and calculateMKAverage.\n\n"
      ]
    },
    {
      "cell_type": "markdown",
      "metadata": {},
      "source": [
        "## Clarifying Questions",
        "",
        "1. **What should happen if the stream reaches exactly `m` elements and then we call `calculateMKAverage`? Should it include all `m` elements or only the last `m` elements?**\n\n2. **Can you clarify how to handle cases where the last `m` elements contain duplicates? For example, if the last `m` elements are all the same, how should we calculate the average after removing the smallest and largest `k` elements?**\n\n3. **Are there any specific performance requirements or constraints on the time complexity for the `addElement` and `calculateMKAverage` methods, especially given that we could have up to 100,000 calls?**\n\n4. **If `addElement` is called after `calculateMKAverage`, should the new element be included in the next calculation, or is there a specific state we need to maintain between calls?**\n\n5. **What should the output be if `calculateMKAverage` is called multiple times in succession without adding new elements to the stream? Should it return the same value each time, or is there a specific behavior expected?**"
      ]
    },
    {
      "cell_type": "markdown",
      "metadata": {},
      "source": [
        "## Test Edge Cases",
        "",
        "Here are 8 important test edge cases to consider for the MK Average problem:\n\n1. **Minimum Input Case**: \n   - Input: `MKAverage(3, 1)`, `addElement(1)`, `calculateMKAverage()`\n   - Description: Test with the minimum number of elements (1) added to the stream. The expected output should be -1 since the number of elements is less than m.\n\n2. **Exactly m Elements**:\n   - Input: `MKAverage(3, 1)`, `addElement(1)`, `addElement(2)`, `addElement(3)`, `calculateMKAverage()`\n   - Description: Add exactly m elements to the stream. The expected output should be the average of the middle element after removing the smallest and largest (which would be 2).\n\n3. **More than m Elements**:\n   - Input: `MKAverage(3, 1)`, `addElement(1)`, `addElement(2)`, `addElement(3)`, `addElement(4)`, `calculateMKAverage()`\n   - Description: Test with more than m elements. The expected output should be the average of the middle element from the last m elements (which would be 3).\n\n4. **Duplicate Elements**:\n   - Input: `MKAverage(5, 2)`, `addElement(5)`, `addElement(5)`, `addElement(5)`, `addElement(5)`, `addElement(5)`, `calculateMKAverage()`\n   - Description: Add multiple identical elements to the stream. The expected output should be 5, as all elements are the same.\n\n5. **Removing All Elements**:\n   - Input: `MKAverage(5, 2)`, `addElement(1)`, `addElement(2)`, `addElement(3)`, `addElement(4)`, `addElement(5)`, `calculateMKAverage()`, `addElement(6)`, `calculateMKAverage()`\n   - Description: After calculating the MKAverage, add another element and check the MKAverage again. The expected output should reflect the new average after the last m elements are considered.\n\n6. **Maximum Size Input**:\n   - Input: `MKAverage(100000, 1)`, followed by adding 100,000 elements from 1 to 100,000.\n   - Description: Test the performance of the implementation with the maximum constraints. Ensure that the program can handle the upper limits without performance degradation.\n\n7. **Edge Case with k Values**:\n   - Input: `MKAverage(6, 2)`, `addElement(1)`, `addElement(2)`, `addElement(3)`, `addElement(4)`, `addElement(5)`, `addElement(6)`, `"
      ]
    },
    {
      "cell_type": "markdown",
      "metadata": {},
      "source": [
        "To solve the \"Finding MK Average\" problem, we need to maintain a stream of integers and compute the MKAverage based on the last `m` elements added to the stream. ",
        "",
        "### Step-by-Step Explanation",
        "",
        "1. **Initialization**:",
        "   - We will create a class `MKAverage` that will hold the stream of integers and manage the last `m` elements.",
        "   - We will also need to maintain a list or deque for storing the last `m` elements.",
        "   - We'll keep track of the total number of elements added to the stream.",
        "",
        "2. **Adding Elements**:",
        "   - In the `addElement` method, we append the new number to the stream.",
        "   - If the stream exceeds `m` elements, we remove the oldest element to maintain only the last `m` elements.",
        "  ",
        "3. **Calculating MKAverage**:",
        "   - In the `calculateMKAverage` method, if the total number of elements is less than `m`, we return `-1`.",
        "   - If there are enough elements, we extract the last `m` elements.",
        "   - We sort this sublist to easily remove the smallest `k` and largest `k` elements.",
        "   - We then compute the average of the remaining elements and return it rounded down (using integer division).",
        "",
        "### Python Code Solution",
        "",
        "Here is the complete implementation of the `MKAverage` class in Python:"
      ]
    },
    {
      "cell_type": "code",
      "execution_count": null,
      "metadata": {},
      "outputs": [],
      "source": [
        "class MKAverage:",
        "    def __init__(self, m: int, k: int):",
        "        # Initialize the parameters",
        "        self.m = m",
        "        self.k = k",
        "        self.stream = []  # This will hold the full stream of elements",
        "        self.last_m_elements = []  # This will hold the last m elements",
        "",
        "    def addElement(self, num: int) -> None:",
        "        # Add the new element to the stream",
        "        self.stream.append(num)",
        "        ",
        "        # Maintain only the last m elements",
        "        if len(self.stream) > self.m:",
        "            # Remove the oldest element if we exceed m",
        "            self.stream.pop(0)",
        "",
        "        # Update the last m elements",
        "        self.last_m_elements = self.stream[-self.m:]",
        "",
        "    def calculateMKAverage(self) -> int:",
        "        # Check if we have enough elements",
        "        if len(self.stream) < self.m:",
        "            return -1",
        "        ",
        "        # Copy the last m elements for processing",
        "        elements = self.last_m_elements[:]",
        "        ",
        "        # Sort the elements to easily remove the smallest and largest k elements",
        "        elements.sort()",
        "        ",
        "        # Remove the smallest k and largest k elements",
        "        remaining_elements = elements[self.k:self.m - self.k]",
        "        ",
        "        # Calculate the average of the remaining elements",
        "        if remaining_elements:",
        "            mk_average = sum(remaining_elements) // len(remaining_elements)",
        "            return mk_average",
        "        else:",
        "            return 0  # If there are no remaining elements, we should return 0"
      ]
    },
    {
      "cell_type": "markdown",
      "metadata": {},
      "source": [
        "### Time and Space Complexity Analysis",
        "",
        "- **Time Complexity**:",
        "  - The `addElement` method runs in O(1) for appending but can take O(m log m) due to the potential need to sort when calculating MKAverage. However, we only sort when we call `calculateMKAverage`, which could occur up to `10^5` times in the worst case.",
        "  - The `calculateMKAverage` method runs in O(m log m) due to the sorting operation.",
        "  ",
        "  Overall, the time complexity for each `calculateMKAverage` call is O(m log m), leading to a worst-case total time complexity of O(n * m log m) for `n` calls.",
        "",
        "- **Space Complexity**:",
        "  - The space used by `MKAverage` is O(m) for storing the last `m` elements and O(n) for the entire stream, where `n` is the total number of elements added. Thus, the space complexity is O(m) in terms of the last `m` elements, but we have an additional O(n) space for the entire stream, which can be considered as O(n) overall.",
        "",
        "In summary, this implementation effectively manages the stream of integers and computes the MKAverage as required."
      ]
    },
    {
      "cell_type": "markdown",
      "metadata": {},
      "source": [
        "---",
        "",
        ""
      ]
    },
    {
      "cell_type": "markdown",
      "metadata": {},
      "source": [
        "# Frequency of the Most Frequent Element (#1838)",
        "",
        "**Difficulty:** Medium  ",
        "**Date:** 2025-08-05 08:48:29  ",
        "**URL:** https://leetcode.com/problems/frequency-of-the-most-frequent-element/",
        "",
        "---"
      ]
    },
    {
      "cell_type": "markdown",
      "metadata": {},
      "source": [
        "## Problem Description",
        "",
        "The frequency of an element is the number of times it occurs in an array.\n\nYou are given an integer array nums and an integer k. In one operation, you can choose an index of nums and increment the element at that index by 1.\n\nReturn the maximum possible frequency of an element after performing at most k operations.\n\n&nbsp;\nExample 1:\n\n\nInput: nums = [1,2,4], k = 5\nOutput: 3\nExplanation: Increment the first element three times and the second element two times to make nums = [4,4,4].\n4 has a frequency of 3.\n\nExample 2:\n\n\nInput: nums = [1,4,8,13], k = 5\nOutput: 2\nExplanation: There are multiple optimal solutions:\n- Increment the first element three times to make nums = [4,4,8,13]. 4 has a frequency of 2.\n- Increment the second element four times to make nums = [1,8,8,13]. 8 has a frequency of 2.\n- Increment the third element five times to make nums = [1,4,13,13]. 13 has a frequency of 2.\n\n\nExample 3:\n\n\nInput: nums = [3,9,6], k = 2\nOutput: 1\n\n\n&nbsp;\nConstraints:\n\n\n\t1 <= nums.length <= 105\n\t1 <= nums[i] <= 105\n\t1 <= k <= 105\n\n"
      ]
    },
    {
      "cell_type": "markdown",
      "metadata": {},
      "source": [
        "## Clarifying Questions",
        "",
        "1. Are there any constraints on the values of `k` in relation to the elements in `nums`, such as whether `k` can be larger than the total number of elements in the array or the sum of the elements?\n\n2. Should we consider the case where all elements in `nums` are the same, and how should the function behave in that scenario?\n\n3. Is there a specific requirement for how the operations should be distributed among the elements, or can we freely choose any element to increment as long as we do not exceed `k` operations?\n\n4. What should the function return if the array is empty or if `k` is zero? Should it return a frequency of zero or some other value?\n\n5. Are there any performance constraints we should be aware of, such as time complexity limits for large input sizes, given that `nums.length` can be up to 100,000?"
      ]
    },
    {
      "cell_type": "markdown",
      "metadata": {},
      "source": [
        "## Test Edge Cases",
        "",
        "Here are 8 important test edge cases to consider for the \"Frequency of the Most Frequent Element\" problem:\n\n1. **Empty Array:**\n   - Input: `nums = [], k = 5`\n   - Description: Tests the behavior of the function when given an empty array. The expected output should handle this gracefully, possibly returning 0 or an appropriate indication of no elements.\n\n2. **Single Element Array:**\n   - Input: `nums = [1], k = 10`\n   - Description: Tests the simplest case where there is only one element in the array. The output should be 1, as you can increment the single element multiple times, but it will still only have a frequency of 1.\n\n3. **All Elements the Same:**\n   - Input: `nums = [2, 2, 2, 2], k = 5`\n   - Description: All elements are the same. The expected output should be the length of the array since no operations are needed to increase the frequency.\n\n4. **Maximum Size Array with Minimum Values:**\n   - Input: `nums = [1] * 10^5, k = 10^5`\n   - Description: Tests the performance and correctness with the maximum constraints. The expected output should be 100,000 since all elements can be incremented to the same value.\n\n5. **High k with Diverse Elements:**\n   - Input: `nums = [1, 2, 3, 10, 20], k = 15`\n   - Description: Tests how the function handles a situation where there are diverse elements and a high `k`. The expected output should be the maximum frequency achievable by incrementing one of the lower numbers to match the higher ones.\n\n6. **Duplicates with Insufficient k:**\n   - Input: `nums = [1, 1, 2, 2, 3], k = 1`\n   - Description: Tests the case where there are duplicates but not enough operations to make any number more frequent than 2. The expected output should be 2.\n\n7. **Large Gaps Between Numbers:**\n   - Input: `nums = [1, 10, 20, 30], k = 25`\n   - Description: Tests how the function deals with large gaps between numbers. The expected output should be 2, as you can increment the 1 to 10 and the 10 to 20, achieving a frequency of 2 for the number 20.\n\n8. **Maximum Value Elements:**\n   - Input: `nums = [100000, 99999, 99998], k = 2`\n   - Description: Tests the upper limit of the element values. The expected output should be 2, as you can increment the 99998 to 99999 and then 99999 to 100000, achieving a frequency of 2"
      ]
    },
    {
      "cell_type": "markdown",
      "metadata": {},
      "source": [
        "### Approach Explanation",
        "",
        "To solve the problem of finding the maximum frequency of an element in the array after performing at most `k` increment operations, we can utilize the following strategy:",
        "",
        "1. **Sort the Array**: Begin by sorting the array. This allows us to consider which elements we can increment to match the largest element in the sorted array, thus maximizing the frequency.",
        "",
        "2. **Sliding Window Technique**: Use a sliding window (or two-pointer technique) to find the maximum frequency. The idea is to maintain a window of elements that can be transformed into the same value by using up to `k` increments.",
        "",
        "3. **Calculate Costs**: For each possible \"target\" value (the largest value in the current window), calculate the total cost of incrementing all elements in the window to this target value. The cost for each element can be calculated by the formula:",
        "   \\[",
        "   \\text{cost} = \\text{target} - \\text{current\\_element}",
        "   \\]",
        "   If the total cost for the current window exceeds `k`, we need to shrink the window from the left until the cost is within the limit.",
        "",
        "4. **Track Maximum Frequency**: Throughout the process, keep track of the maximum size of the window that meets the cost condition.",
        "",
        "### Python Code Solution",
        "",
        "Here's the Python code that implements the above approach:"
      ]
    },
    {
      "cell_type": "code",
      "execution_count": null,
      "metadata": {},
      "outputs": [],
      "source": [
        "def maxFrequency(nums, k):",
        "    # Sort the input array",
        "    nums.sort()",
        "    ",
        "    left = 0  # Left pointer of the sliding window",
        "    total = 0  # Total increments needed to make all elements in the window equal to nums[right]",
        "    max_freq = 0  # Maximum frequency of any element found",
        "",
        "    # Iterate through the sorted array using the right pointer",
        "    for right in range(len(nums)):",
        "        # Add the current number to the total increments needed",
        "        total += nums[right]",
        "        ",
        "        # Calculate the number of elements in the current window",
        "        window_size = right - left + 1",
        "        ",
        "        # Calculate the cost to make all elements in the window equal to nums[right]",
        "        # We want total_cost <= k",
        "        # total_cost = (window_size * nums[right]) - total",
        "        while (window_size * nums[right]) - total > k:",
        "            # If cost exceeds k, move the left pointer to reduce the window size",
        "            total -= nums[left]",
        "            left += 1",
        "            window_size = right - left + 1  # Update window size after moving left pointer",
        "        ",
        "        # Update the maximum frequency found",
        "        max_freq = max(max_freq, window_size)",
        "",
        "    return max_freq"
      ]
    },
    {
      "cell_type": "markdown",
      "metadata": {},
      "source": [
        "### Time and Space Complexity Analysis",
        "",
        "1. **Time Complexity**:",
        "   - Sorting the array takes \\(O(n \\log n)\\), where \\(n\\) is the length of the array.",
        "   - The sliding window process iterates through the array in linear time \\(O(n)\\).",
        "   - Thus, the overall time complexity is \\(O(n \\log n)\\).",
        "",
        "2. **Space Complexity**:",
        "   - We are using a constant amount of extra space (for variables like `left`, `total`, and `max_freq`), so the space complexity is \\(O(1)\\).",
        "   - The sorting operation may require additional space, but since we are not using any extra data structures apart from the input array, it can be considered \\(O(1)\\) in terms of additional space.",
        "",
        "In summary, this solution efficiently calculates the maximum frequency of an element after at most `k` increment operations by leveraging sorting and a sliding window approach."
      ]
    },
    {
      "cell_type": "markdown",
      "metadata": {},
      "source": [
        "---",
        "",
        ""
      ]
    },
    {
      "cell_type": "markdown",
      "metadata": {},
      "source": [
        "# Longest Substring Of All Vowels in Order (#1839)",
        "",
        "**Difficulty:** Medium  ",
        "**Date:** 2025-08-05 08:48:31  ",
        "**URL:** https://leetcode.com/problems/longest-substring-of-all-vowels-in-order/",
        "",
        "---"
      ]
    },
    {
      "cell_type": "markdown",
      "metadata": {},
      "source": [
        "## Problem Description",
        "",
        "A string is considered beautiful if it satisfies the following conditions:\n\n\n\tEach of the 5 English vowels (&#39;a&#39;, &#39;e&#39;, &#39;i&#39;, &#39;o&#39;, &#39;u&#39;) must appear at least once in it.\n\tThe letters must be sorted in alphabetical order (i.e. all &#39;a&#39;s before &#39;e&#39;s, all &#39;e&#39;s before &#39;i&#39;s, etc.).\n\n\nFor example, strings &quot;aeiou&quot; and &quot;aaaaaaeiiiioou&quot; are considered beautiful, but &quot;uaeio&quot;, &quot;aeoiu&quot;, and &quot;aaaeeeooo&quot; are not beautiful.\n\nGiven a string word consisting of English vowels, return the length of the longest beautiful substring of word. If no such substring exists, return 0.\n\nA substring is a contiguous sequence of characters in a string.\n\n&nbsp;\nExample 1:\n\n\nInput: word = &quot;aeiaaioaaaaeiiiiouuuooaauuaeiu&quot;\nOutput: 13\nExplanation: The longest beautiful substring in word is &quot;aaaaeiiiiouuu&quot; of length 13.\n\nExample 2:\n\n\nInput: word = &quot;aeeeiiiioooauuuaeiou&quot;\nOutput: 5\nExplanation: The longest beautiful substring in word is &quot;aeiou&quot; of length 5.\n\n\nExample 3:\n\n\nInput: word = &quot;a&quot;\nOutput: 0\nExplanation: There is no beautiful substring, so return 0.\n\n\n&nbsp;\nConstraints:\n\n\n\t1 <= word.length <= 5 * 105\n\tword consists of characters &#39;a&#39;, &#39;e&#39;, &#39;i&#39;, &#39;o&#39;, and &#39;u&#39;.\n\n"
      ]
    },
    {
      "cell_type": "markdown",
      "metadata": {},
      "source": [
        "## Clarifying Questions",
        "",
        "1. **What should we consider as the starting and ending points of a substring?** Specifically, can we assume that the substring must start and end with a vowel, or can it start and end with any character in the string as long as it contains all vowels in order?\n\n2. **Are there any specific constraints on the characters in the input string?** For example, can the input string contain characters other than the vowels 'a', 'e', 'i', 'o', and 'u', or is it guaranteed to only consist of these characters?\n\n3. **How should we handle cases where the input string is shorter than the number of required vowels?** For instance, if the input string has a length less than 5, should we immediately return 0, or are there other considerations?\n\n4. **What is the expected behavior for strings that contain all vowels but not in the required order?** Should we return 0 for such cases, or is there a specific way to handle them while searching for the longest beautiful substring?\n\n5. **What are the performance requirements for the solution?** Given the constraints on the length of the input string (up to 500,000 characters), should we aim for a specific time complexity, such as O(n), or is there flexibility in the performance expectations?"
      ]
    },
    {
      "cell_type": "markdown",
      "metadata": {},
      "source": [
        "## Test Edge Cases",
        "",
        "Here are 8 important test edge cases to consider for the problem \"Longest Substring Of All Vowels in Order\":\n\n1. **Single Character Input**:\n   - Input: `word = \"a\"`\n   - Description: A string with only one vowel. This tests the lower boundary condition where the input string is too short to contain all vowels.\n\n2. **All Vowels Present but Unordered**:\n   - Input: `word = \"uaeiou\"`\n   - Description: A string containing all vowels but not in the required order. This checks if the function correctly identifies that the substring is not beautiful.\n\n3. **All Vowels in Order but with Extra Characters**:\n   - Input: `word = \"aaaeeeiiooouuu\"`\n   - Description: A string that contains all vowels in the correct order but with additional characters. This tests if the function can find the longest beautiful substring.\n\n4. **Maximum Length Input**:\n   - Input: `word = \"aeiou\" * 100000` (500,000 characters)\n   - Description: A string that is at the maximum allowed length, consisting of repeated beautiful substrings. This tests the performance and efficiency of the solution.\n\n5. **No Vowels Present**:\n   - Input: `word = \"bcdfgh\"`\n   - Description: A string with no vowels at all. This checks if the function correctly returns 0 when there are no vowels to form a beautiful substring.\n\n6. **Multiple Beautiful Substrings**:\n   - Input: `word = \"aaeeiioouuuaaaeeeiiooou\"`\n   - Description: A string with multiple beautiful substrings. This tests if the function can find the longest one among them.\n\n7. **Vowels with Gaps**:\n   - Input: `word = \"aeiouaeiou\"`\n   - Description: A string that contains two beautiful substrings separated by non-vowel characters. This checks if the function can correctly identify the longest substring.\n\n8. **Only One Type of Vowel**:\n   - Input: `word = \"aaaaaa\"`\n   - Description: A string with only one type of vowel. This tests if the function correctly identifies that a beautiful substring cannot be formed.\n\nThese test cases cover a range of scenarios including boundary conditions, special values, corner cases, and performance edge cases that are critical for validating the solution to the problem."
      ]
    },
    {
      "cell_type": "markdown",
      "metadata": {},
      "source": [
        "### Explanation of the Approach",
        "",
        "To solve the problem of finding the longest beautiful substring in a given string of vowels, we can follow these steps:",
        "",
        "1. **Define Beautiful Substring Criteria**:",
        "   - The substring must contain all five vowels: 'a', 'e', 'i', 'o', 'u'.",
        "   - The vowels must appear in sorted order (all 'a's come before all 'e's, and so on).",
        "",
        "2. **Iterate Through the Input String**:",
        "   - Use a sliding window approach to check each substring of the input string.",
        "   - Maintain a count of the current occurrences of each vowel in the substring.",
        "",
        "3. **Check for Beautiful Substring**:",
        "   - For a substring to be beautiful, it must contain at least one of each vowel.",
        "   - The characters must also be in the correct order, which can be checked using the last vowel seen.",
        "",
        "4. **Compute the Length of Valid Substrings**:",
        "   - Whenever we find a valid beautiful substring, we compare its length to the maximum length found so far and update if necessary.",
        "",
        "5. **Return the Result**:",
        "   - If no beautiful substring is found, return 0.",
        "",
        "### Python Code Solution"
      ]
    },
    {
      "cell_type": "code",
      "execution_count": null,
      "metadata": {},
      "outputs": [],
      "source": [
        "def longest_beautiful_substring(word):",
        "    # Set up variables to track the maximum length and the current substring properties",
        "    max_length = 0",
        "    current_length = 0",
        "    last_vowel_index = -1  # To track the last vowel seen in the substring",
        "    vowel_count = [0] * 5  # To count occurrences of 'a', 'e', 'i', 'o', 'u'",
        "    ",
        "    # Mapping vowels to their corresponding indices",
        "    vowel_index = {'a': 0, 'e': 1, 'i': 2, 'o': 3, 'u': 4}",
        "    ",
        "    for char in word:",
        "        if char in vowel_index:",
        "            index = vowel_index[char]",
        "            # If the current char is the same as last, increase the current length count",
        "            if index == last_vowel_index or index == last_vowel_index + 1:",
        "                current_length += 1",
        "                vowel_count[index] += 1",
        "            # If we see the next vowel in order, start a new segment",
        "            elif index == last_vowel_index + 1:",
        "                current_length += 1",
        "                vowel_count[index] += 1",
        "                last_vowel_index = index",
        "            else:",
        "                # If we encounter a vowel out of order, reset",
        "                current_length = 1",
        "                vowel_count = [0] * 5",
        "                vowel_count[index] += 1",
        "                last_vowel_index = index",
        "            ",
        "            # Check if we have all vowels",
        "            if all(vowel_count):",
        "                max_length = max(max_length, current_length)",
        "        else:",
        "            # Reset if character is not a vowel",
        "            current_length = 0",
        "            vowel_count = [0] * 5",
        "            last_vowel_index = -1",
        "        ",
        "    return max_length",
        "",
        "# Example usage",
        "print(longest_beautiful_substring(\"aeiaaioaaaaeiiiiouuuooaauuaeiu\"))  # Output: 13",
        "print(longest_beautiful_substring(\"aeeeiiiioooauuuaeiou\"))  # Output: 5",
        "print(longest_beautiful_substring(\"a\"))  # Output: 0"
      ]
    },
    {
      "cell_type": "markdown",
      "metadata": {},
      "source": [
        "### Time and Space Complexity Analysis",
        "",
        "- **Time Complexity**: O(n), where n is the length of the input string. We traverse the string once, processing each character in constant time.",
        "  ",
        "- **Space Complexity**: O(1), since we are using a fixed-size list (`vowel_count`) and a few integer variables. The space used does not depend on the input size.",
        "",
        "This approach efficiently identifies the longest beautiful substring by leveraging a sliding window technique and maintaining counts of the required vowels."
      ]
    },
    {
      "cell_type": "markdown",
      "metadata": {},
      "source": [
        "---",
        "",
        ""
      ]
    },
    {
      "cell_type": "markdown",
      "metadata": {},
      "source": [
        "# Substrings of Size Three with Distinct Characters (#1876)",
        "",
        "**Difficulty:** Easy  ",
        "**Date:** 2025-08-05 08:49:23  ",
        "**URL:** https://leetcode.com/problems/substrings-of-size-three-with-distinct-characters/",
        "",
        "---"
      ]
    },
    {
      "cell_type": "markdown",
      "metadata": {},
      "source": [
        "## Problem Description",
        "",
        "A string is good if there are no repeated characters.\n\nGiven a string s​​​​​, return the number of good substrings of length three in s​​​​​​.\n\nNote that if there are multiple occurrences of the same substring, every occurrence should be counted.\n\nA substring is a contiguous sequence of characters in a string.\n\n&nbsp;\nExample 1:\n\n\nInput: s = &quot;xyzzaz&quot;\nOutput: 1\nExplanation: There are 4 substrings of size 3: &quot;xyz&quot;, &quot;yzz&quot;, &quot;zza&quot;, and &quot;zaz&quot;. \nThe only good substring of length 3 is &quot;xyz&quot;.\n\n\nExample 2:\n\n\nInput: s = &quot;aababcabc&quot;\nOutput: 4\nExplanation: There are 7 substrings of size 3: &quot;aab&quot;, &quot;aba&quot;, &quot;bab&quot;, &quot;abc&quot;, &quot;bca&quot;, &quot;cab&quot;, and &quot;abc&quot;.\nThe good substrings are &quot;abc&quot;, &quot;bca&quot;, &quot;cab&quot;, and &quot;abc&quot;.\n\n\n&nbsp;\nConstraints:\n\n\n\t1 <= s.length <= 100\n\ts​​​​​​ consists of lowercase English letters.\n\n"
      ]
    },
    {
      "cell_type": "markdown",
      "metadata": {},
      "source": [
        "## Clarifying Questions",
        "",
        "1. Are there any specific edge cases we should consider, such as strings shorter than three characters, or strings with all identical characters?\n\n2. Should we assume that the input string will always consist of lowercase English letters, or could there be other characters or uppercase letters?\n\n3. How should we handle strings that contain repeated good substrings? Should we count each occurrence separately, or only unique good substrings?\n\n4. Is there a maximum length for the input string, and does this affect the performance requirements for our solution?\n\n5. Are there any specific performance constraints we should be aware of, such as time limits for larger input sizes, or should we focus on a straightforward solution given the constraints?"
      ]
    },
    {
      "cell_type": "markdown",
      "metadata": {},
      "source": [
        "## Test Edge Cases",
        "",
        "Here are 8 important test edge cases to consider for the problem \"Substrings of Size Three with Distinct Characters\":\n\n1. **Empty String**  \n   Input: `s = \"\"`  \n   Output: `0`  \n   Description: An edge case where the input string is empty. The function should handle this gracefully and return 0 since there are no substrings.\n\n2. **Single Character String**  \n   Input: `s = \"a\"`  \n   Output: `0`  \n   Description: A string with only one character cannot have any substrings of length three. The output should be 0.\n\n3. **Two Character String**  \n   Input: `s = \"ab\"`  \n   Output: `0`  \n   Description: Similar to the single character case, a string with only two characters cannot form any substrings of length three.\n\n4. **String with All Identical Characters**  \n   Input: `s = \"aaaaaa\"`  \n   Output: `0`  \n   Description: A string where all characters are the same will not have any good substrings of length three.\n\n5. **String with Exactly Three Distinct Characters**  \n   Input: `s = \"abc\"`  \n   Output: `1`  \n   Description: The simplest case where the string is exactly three characters long and all are distinct. There should be one good substring.\n\n6. **String with Overlapping Good Substrings**  \n   Input: `s = \"abcabc\"`  \n   Output: `2`  \n   Description: This string contains two occurrences of the substring \"abc\". The function should count each occurrence.\n\n7. **String with Mixed Characters and Duplicates**  \n   Input: `s = \"aababcabc\"`  \n   Output: `4`  \n   Description: This case tests the function's ability to identify multiple good substrings among duplicates.\n\n8. **Maximum Length String with Distinct Characters**  \n   Input: `s = \"abcdefghijklmnopqrstuvwxyz\"`  \n   Output: `98`  \n   Description: A string of maximum length (100) with all distinct characters. This tests the performance and correctness of counting good substrings in a longer input.\n\nThese test cases cover a range of scenarios, including edge cases related to string length, character uniqueness, and performance considerations."
      ]
    },
    {
      "cell_type": "markdown",
      "metadata": {},
      "source": [
        "### Approach",
        "",
        "To solve the problem of counting the number of good substrings of size three with distinct characters, we can follow these steps:",
        "",
        "1. **Sliding Window Technique**: We will utilize a sliding window of size 3 to traverse through the string. This allows us to efficiently check each possible substring of length 3.",
        "",
        "2. **Character Uniqueness Check**: For each substring of length 3, we will check if all characters in that substring are unique. We can do this by converting the substring into a set and comparing its length to 3 (since a good substring must have all distinct characters).",
        "",
        "3. **Count Good Substrings**: We will maintain a counter to track how many such good substrings we find.",
        "",
        "4. **Edge Cases**: If the length of the string is less than 3, we can immediately return 0 since no substrings of length 3 can exist.",
        "",
        "### Python Code Solution",
        "",
        "Here is the Python code that implements the above approach:"
      ]
    },
    {
      "cell_type": "code",
      "execution_count": null,
      "metadata": {},
      "outputs": [],
      "source": [
        "def countGoodSubstrings(s: str) -> int:",
        "    # Initialize the count of good substrings",
        "    good_count = 0",
        "    # Length of the string",
        "    n = len(s)",
        "    ",
        "    # Edge case: If the string length is less than 3, return 0",
        "    if n < 3:",
        "        return 0",
        "    ",
        "    # Iterate through the string using a sliding window of size 3",
        "    for i in range(n - 2):",
        "        # Extract the substring of size 3",
        "        substring = s[i:i + 3]",
        "        # Check if all characters are distinct using a set",
        "        if len(set(substring)) == 3:",
        "            good_count += 1  # Increment our count if it's a good substring",
        "    ",
        "    return good_count  # Return the total count of good substrings",
        "",
        "# Example usage:",
        "print(countGoodSubstrings(\"xyzzaz\"))  # Output: 1",
        "print(countGoodSubstrings(\"aababcabc\"))  # Output: 4"
      ]
    },
    {
      "cell_type": "markdown",
      "metadata": {},
      "source": [
        "### Time and Space Complexity Analysis",
        "",
        "- **Time Complexity**: ",
        "  - The loop runs `n - 2` times where `n` is the length of the string, resulting in a time complexity of **O(n)**. ",
        "  - Each substring operation generates a new string of length 3, and converting it to a set also takes constant time, since the maximum size is 3. Thus, the overall time complexity remains **O(n)**.",
        "",
        "- **Space Complexity**: ",
        "  - The space used by the set to check for distinct characters is constant, **O(1)**, because it can only contain up to 3 characters. ",
        "  - Therefore, the overall space complexity is **O(1)**, not counting the input string.",
        "",
        "This solution is efficient and straightforward for the given problem constraints."
      ]
    },
    {
      "cell_type": "markdown",
      "metadata": {},
      "source": [
        "---",
        "",
        ""
      ]
    },
    {
      "cell_type": "markdown",
      "metadata": {},
      "source": [
        "# Minimum Difference Between Highest and Lowest of K Scores (#1984)",
        "",
        "**Difficulty:** Easy  ",
        "**Date:** 2025-08-05 08:51:59  ",
        "**URL:** https://leetcode.com/problems/minimum-difference-between-highest-and-lowest-of-k-scores/",
        "",
        "---"
      ]
    },
    {
      "cell_type": "markdown",
      "metadata": {},
      "source": [
        "## Problem Description",
        "",
        "You are given a 0-indexed integer array nums, where nums[i] represents the score of the ith student. You are also given an integer k.\n\nPick the scores of any k students from the array so that the difference between the highest and the lowest of the k scores is minimized.\n\nReturn the minimum possible difference.\n\n&nbsp;\nExample 1:\n\n\nInput: nums = [90], k = 1\nOutput: 0\nExplanation: There is one way to pick score(s) of one student:\n- [90]. The difference between the highest and lowest score is 90 - 90 = 0.\nThe minimum possible difference is 0.\n\n\nExample 2:\n\n\nInput: nums = [9,4,1,7], k = 2\nOutput: 2\nExplanation: There are six ways to pick score(s) of two students:\n- [9,4,1,7]. The difference between the highest and lowest score is 9 - 4 = 5.\n- [9,4,1,7]. The difference between the highest and lowest score is 9 - 1 = 8.\n- [9,4,1,7]. The difference between the highest and lowest score is 9 - 7 = 2.\n- [9,4,1,7]. The difference between the highest and lowest score is 4 - 1 = 3.\n- [9,4,1,7]. The difference between the highest and lowest score is 7 - 4 = 3.\n- [9,4,1,7]. The difference between the highest and lowest score is 7 - 1 = 6.\nThe minimum possible difference is 2.\n\n&nbsp;\nConstraints:\n\n\n\t1 <= k <= nums.length <= 1000\n\t0 <= nums[i] <= 105\n\n"
      ]
    },
    {
      "cell_type": "markdown",
      "metadata": {},
      "source": [
        "## Clarifying Questions",
        "",
        "1. Are there any specific constraints on the values in the `nums` array, such as whether they can be negative or if they must be unique?\n\n2. In the case where `k` is equal to 1, should we always return 0 since the difference between the highest and lowest score of a single score is always 0?\n\n3. Can the same score be selected multiple times when choosing the k students, or must all selected scores be distinct?\n\n4. What should the function return if `k` is greater than the length of the `nums` array, or is it guaranteed that `k` will always be less than or equal to `nums.length`?\n\n5. Are there any performance requirements or time complexity constraints we should be aware of, given that the maximum length of `nums` can be 1000?"
      ]
    },
    {
      "cell_type": "markdown",
      "metadata": {},
      "source": [
        "## Test Edge Cases",
        "",
        "Here are 8 important test edge cases to consider for the problem \"Minimum Difference Between Highest and Lowest of K Scores\":\n\n1. **Single Element Array**:\n   - **Input**: `nums = [100]`, `k = 1`\n   - **Description**: Tests the case where the array contains only one element. The expected output should be `0` since the highest and lowest scores are the same.\n\n2. **All Elements Identical**:\n   - **Input**: `nums = [50, 50, 50, 50]`, `k = 3`\n   - **Description**: Tests the scenario where all scores are identical. The difference should be `0`, regardless of the value of `k`.\n\n3. **Minimum k Value**:\n   - **Input**: `nums = [1, 3, 5, 7, 9]`, `k = 1`\n   - **Description**: Tests the minimum value of `k`. The output should be `0` since picking any single score results in no difference.\n\n4. **Maximum k Value**:\n   - **Input**: `nums = [10, 20, 30, 40, 50]`, `k = 5`\n   - **Description**: Tests the maximum value of `k`, where all elements must be selected. The expected output should be `40` (50 - 10).\n\n5. **Large Array with Maximum Values**:\n   - **Input**: `nums = [0, 100000] * 500`, `k = 1000`\n   - **Description**: Tests the performance with the maximum constraints. The expected output should be `100000` (100000 - 0) since all elements are either 0 or 100000.\n\n6. **Array with Negative and Positive Values**:\n   - **Input**: `nums = [-10, -5, 0, 5, 10]`, `k = 3`\n   - **Description**: Tests the scenario with both negative and positive scores. The expected output should be `10` (10 - 0 or 5 - (-5)).\n\n7. **Array with Duplicates**:\n   - **Input**: `nums = [1, 2, 2, 3, 4]`, `k = 3`\n   - **Description**: Tests how the function handles duplicates. The expected output should be `1` (2 - 1 or 3 - 2).\n\n8. **Consecutive Numbers with Maximum k**:\n   - **Input**: `nums = [1, 2, 3, 4, 5, 6, 7, 8, 9, 10]`, `k = 5`\n   - **Description**: Tests a straightforward case with consecutive integers."
      ]
    },
    {
      "cell_type": "markdown",
      "metadata": {},
      "source": [
        "To solve the problem of finding the minimum difference between the highest and lowest scores of `k` selected students, we can follow these steps:",
        "",
        "### Approach",
        "",
        "1. **Sorting the Array**: The first step is to sort the array `nums`. This allows us to easily find the smallest difference between the highest and lowest scores among any `k` contiguous scores. ",
        "",
        "2. **Sliding Window**: Once sorted, we can use a sliding window approach to check each contiguous subarray of size `k`. For each subarray, we compute the difference between the maximum and minimum scores (which will be the last and first elements of the subarray, respectively).",
        "",
        "3. **Finding the Minimum Difference**: We keep track of the minimum difference encountered as we slide through the sorted array.",
        "",
        "### Python Code Solution"
      ]
    },
    {
      "cell_type": "code",
      "execution_count": null,
      "metadata": {},
      "outputs": [],
      "source": [
        "def minimumDifference(nums, k):",
        "    # Step 1: Sort the array",
        "    nums.sort()",
        "    ",
        "    # Initialize the minimum difference to a large number",
        "    min_diff = float('inf')",
        "    ",
        "    # Step 2: Use a sliding window of size k",
        "    for i in range(len(nums) - k + 1):",
        "        # The maximum score in the subarray of size k",
        "        max_score = nums[i + k - 1]",
        "        # The minimum score in the subarray of size k",
        "        min_score = nums[i]",
        "        # Calculate the difference",
        "        current_diff = max_score - min_score",
        "        ",
        "        # Step 3: Update the minimum difference if the current one is smaller",
        "        if current_diff < min_diff:",
        "            min_diff = current_diff",
        "            ",
        "    return min_diff",
        "",
        "# Example usage",
        "print(minimumDifference([9,4,1,7], 2))  # Output: 2",
        "print(minimumDifference([90], 1))       # Output: 0"
      ]
    },
    {
      "cell_type": "markdown",
      "metadata": {},
      "source": [
        "### Explanation of the Code",
        "",
        "1. **Sort the Array**: We use `nums.sort()` to sort the scores in ascending order.",
        "",
        "2. **Initialize Minimum Difference**: We set `min_diff` to infinity initially to ensure that any difference we compute will be smaller.",
        "",
        "3. **Sliding Window Loop**: We loop through the array, stopping `len(nums) - k + 1` times. For each position `i`, we determine the maximum and minimum scores within the current subarray of size `k`:",
        "   - `max_score` is located at `nums[i + k - 1]`.",
        "   - `min_score` is located at `nums[i]`.",
        "",
        "4. **Compute and Compare Differences**: We compute the difference `current_diff` and update `min_diff` if `current_diff` is smaller.",
        "",
        "5. **Return Result**: Finally, we return the smallest difference found.",
        "",
        "### Time and Space Complexity Analysis",
        "",
        "- **Time Complexity**: The most time-consuming step is sorting the array, which takes \\(O(n \\log n)\\), where \\(n\\) is the length of `nums`. The sliding window operation takes \\(O(n)\\). Hence, the overall time complexity is \\(O(n \\log n)\\).",
        "",
        "- **Space Complexity**: We are using a constant amount of extra space (for variables like `min_diff`, `max_score`, and `min_score`), so the space complexity is \\(O(1)\\) (not counting the input storage). ",
        "",
        "This efficient approach guarantees that we can handle the constraints provided smoothly."
      ]
    },
    {
      "cell_type": "markdown",
      "metadata": {},
      "source": [
        "---",
        "",
        ""
      ]
    },
    {
      "cell_type": "markdown",
      "metadata": {},
      "source": [
        "# Repeated DNA Sequences (#187)",
        "",
        "**Difficulty:** Medium  ",
        "**Date:** 2025-08-09 23:51:24  ",
        "**URL:** https://leetcode.com/problems/repeated-dna-sequences/",
        "",
        "---"
      ]
    },
    {
      "cell_type": "markdown",
      "metadata": {},
      "source": [
        "## Problem Description",
        "",
        "The DNA sequence is composed of a series of nucleotides abbreviated as &#39;A&#39;, &#39;C&#39;, &#39;G&#39;, and &#39;T&#39;.\n\n\n\tFor example, &quot;ACGAATTCCG&quot; is a DNA sequence.\n\n\nWhen studying DNA, it is useful to identify repeated sequences within the DNA.\n\nGiven a string s that represents a DNA sequence, return all the 10-letter-long sequences (substrings) that occur more than once in a DNA molecule. You may return the answer in any order.\n\n&nbsp;\nExample 1:\nInput: s = \"AAAAACCCCCAAAAACCCCCCAAAAAGGGTTT\"\nOutput: [\"AAAAACCCCC\",\"CCCCCAAAAA\"]\nExample 2:\nInput: s = \"AAAAAAAAAAAAA\"\nOutput: [\"AAAAAAAAAA\"]\n\n&nbsp;\nConstraints:\n\n\n\t1 <= s.length <= 105\n\ts[i] is either &#39;A&#39;, &#39;C&#39;, &#39;G&#39;, or &#39;T&#39;.\n\n"
      ]
    },
    {
      "cell_type": "markdown",
      "metadata": {},
      "source": [
        "## Clarifying Questions",
        "",
        "1. What should we do if the input string has a length less than 10? Should we return an empty list or handle it differently?\n\n2. Are there any specific requirements for the order of the output sequences, or can they be returned in any order?\n\n3. Should the output list contain unique sequences only, or can it include duplicates if they occur multiple times in the input string?\n\n4. Is there any specific handling required for cases where the input string contains only one type of nucleotide (e.g., \"AAAAAAAAAA\")?\n\n5. What is the expected time complexity for the solution, and are there any constraints on memory usage that we should be aware of?"
      ]
    },
    {
      "cell_type": "markdown",
      "metadata": {},
      "source": [
        "## Test Edge Cases",
        "",
        "Here are 8 important test edge cases to consider for the \"Repeated DNA Sequences\" problem:\n\n1. **Empty String**:\n   - **Input**: `s = \"\"`\n   - **Description**: Tests the behavior of the function when the input string is empty. The expected output should be an empty list since there are no sequences to analyze.\n\n2. **Single Character String**:\n   - **Input**: `s = \"A\"`\n   - **Description**: Tests the case where the input string has a length less than 10. The expected output should be an empty list since no 10-letter-long sequences can be formed.\n\n3. **Exactly 10 Characters with No Repeats**:\n   - **Input**: `s = \"ACGTACGTAG\"`\n   - **Description**: Tests a string that is exactly 10 characters long but contains no repeated sequences. The expected output should be an empty list.\n\n4. **Exactly 10 Characters with a Repeat**:\n   - **Input**: `s = \"AAAAAAAAAA\"`\n   - **Description**: Tests a string that is exactly 10 characters long with all characters being the same. The expected output should be `[\"AAAAAAAAAA\"]`, as this sequence is repeated.\n\n5. **Long String with Multiple Repeats**:\n   - **Input**: `s = \"AAAAACCCCCAAAAACCCCCCAAAAAGGGTTT\"`\n   - **Description**: Tests a longer string that contains multiple repeated sequences. The expected output should be `[\"AAAAACCCCC\", \"CCCCCAAAAA\"]`.\n\n6. **Long String with Overlapping Repeats**:\n   - **Input**: `s = \"AAAAAAAAAAAAA\"`\n   - **Description**: Tests a string with overlapping repeated sequences. The expected output should be `[\"AAAAAAAAAA\"]`, as the sequence appears multiple times with overlaps.\n\n7. **Maximum Length String with No Repeats**:\n   - **Input**: `s = \"ACGT\" * 25000` (total length = 100,000)\n   - **Description**: Tests the performance of the function with the maximum allowed length of the string where there are no repeated sequences. The expected output should be an empty list.\n\n8. **Maximum Length String with Repeats**:\n   - **Input**: `s = \"A\" * 100000`\n   - **Description**: Tests the performance of the function with the maximum allowed length of the string where all characters are the same. The expected output should be `[\"AAAAAAAAAA\"]`, as this sequence appears multiple times.\n\nThese edge cases cover a variety of scenarios, including boundary conditions, special values, and performance considerations that are critical for ensuring the robustness of the solution."
      ]
    },
    {
      "cell_type": "markdown",
      "metadata": {},
      "source": [
        "To solve the problem of finding repeated 10-letter-long sequences in a DNA string, we can follow a systematic approach using a sliding window technique combined with a hash set (or dictionary) to keep track of seen sequences.",
        "",
        "### Approach Explained:",
        "",
        "1. **Sliding Window:** We will iterate through the DNA sequence using a sliding window of length 10. This means that for each index `i` in the string, we will look at the substring from index `i` to `i + 10`.",
        "",
        "2. **Hash Set for Tracking:** We will use a hash set to track sequences we have already seen. As we extract each 10-letter substring, we will check if it has been seen before:",
        "   - If it has been seen before, we add it to our results list (but only if it is not already there to avoid duplicates).",
        "   - If it has not been seen, we add it to the set of seen sequences.",
        "",
        "3. **Output the Results:** At the end, we will return the list of repeated sequences.",
        "",
        "### Python Code Solution:",
        "",
        "Here is the Python code implementing the above approach:"
      ]
    },
    {
      "cell_type": "code",
      "execution_count": null,
      "metadata": {},
      "outputs": [],
      "source": [
        "def findRepeatedDnaSequences(s: str):",
        "    # A set to track seen sequences",
        "    seen = set()",
        "    # A set to track repeated sequences to avoid duplicates in the output",
        "    repeated = set()",
        "    ",
        "    # Loop through the string with a sliding window of size 10",
        "    for i in range(len(s) - 9):  # len(s) - 9 to ensure we can extract a full 10-letter substring",
        "        # Extract the current 10-letter substring",
        "        substring = s[i:i + 10]",
        "        ",
        "        # Check if the substring has been seen before",
        "        if substring in seen:",
        "            # If it's seen again, add to repeated set",
        "            repeated.add(substring)",
        "        else:",
        "            # If it's the first time seeing this substring, add it to seen set",
        "            seen.add(substring)",
        "    ",
        "    # Convert the set of repeated sequences to a list and return",
        "    return list(repeated)",
        "",
        "# Example usage:",
        "print(findRepeatedDnaSequences(\"AAAAACCCCCAAAAACCCCCCAAAAAGGGTTT\"))  # Output: [\"AAAAACCCCC\",\"CCCCCAAAAA\"]",
        "print(findRepeatedDnaSequences(\"AAAAAAAAAAAAA\"))  # Output: [\"AAAAAAAAAA\"]"
      ]
    },
    {
      "cell_type": "markdown",
      "metadata": {},
      "source": [
        "### Time and Space Complexity Analysis:",
        "",
        "- **Time Complexity:** O(n), where n is the length of the DNA string. We iterate through the string once, and each substring operation takes O(1) time since it's fixed at length 10.",
        "  ",
        "- **Space Complexity:** O(n), in the worst case, where all 10-letter sequences are unique. The space needed for the sets (`seen` and `repeated`) will grow with the number of unique sequences stored.",
        "",
        "This approach efficiently identifies repeated 10-letter-long sequences in a given DNA string using minimal additional space and time."
      ]
    },
    {
      "cell_type": "markdown",
      "metadata": {},
      "source": [
        "---",
        "",
        ""
      ]
    },
    {
      "cell_type": "markdown",
      "metadata": {},
      "source": [
        "# Minimum Size Subarray Sum (#209)",
        "",
        "**Difficulty:** Medium  ",
        "**Date:** 2025-08-09 23:52:03  ",
        "**URL:** https://leetcode.com/problems/minimum-size-subarray-sum/",
        "",
        "---"
      ]
    },
    {
      "cell_type": "markdown",
      "metadata": {},
      "source": [
        "## Problem Description",
        "",
        "Given an array of positive integers nums and a positive integer target, return the minimal length of a subarray whose sum is greater than or equal to target. If there is no such subarray, return 0 instead.\n\n&nbsp;\nExample 1:\n\n\nInput: target = 7, nums = [2,3,1,2,4,3]\nOutput: 2\nExplanation: The subarray [4,3] has the minimal length under the problem constraint.\n\n\nExample 2:\n\n\nInput: target = 4, nums = [1,4,4]\nOutput: 1\n\n\nExample 3:\n\n\nInput: target = 11, nums = [1,1,1,1,1,1,1,1]\nOutput: 0\n\n\n&nbsp;\nConstraints:\n\n\n\t1 <= target <= 109\n\t1 <= nums.length <= 105\n\t1 <= nums[i] <= 104\n\n\n&nbsp;\nFollow up: If you have figured out the O(n) solution, try coding another solution of which the time complexity is O(n log(n))."
      ]
    },
    {
      "cell_type": "markdown",
      "metadata": {},
      "source": [
        "## Clarifying Questions",
        "",
        "1. Are the elements in the `nums` array guaranteed to be strictly positive integers, or could there be any edge cases where the array might contain zeros or negative numbers?\n\n2. Should we consider subarrays that start or end at specific indices, or can any contiguous subarray be considered as long as it meets the sum requirement?\n\n3. In the case where no valid subarray exists, is returning `0` the only acceptable output, or should we handle this scenario in any other specific way (e.g., throwing an exception)?\n\n4. Are there any specific performance requirements or constraints on the time complexity for the solution, aside from the follow-up request for an O(n log(n)) solution?\n\n5. How should we handle large input sizes, particularly with respect to memory usage, given that `nums.length` can be as large as 100,000? Are there any constraints on the maximum size of the input that we should be aware of?"
      ]
    },
    {
      "cell_type": "markdown",
      "metadata": {},
      "source": [
        "## Test Edge Cases",
        "",
        "Here are 8 important edge cases to consider for the \"Minimum Size Subarray Sum\" problem:\n\n1. **Empty Array**:\n   - **Input**: `target = 5`, `nums = []`\n   - **Description**: Tests the behavior when the input array is empty. The expected output should be `0` since there are no elements to form a subarray.\n\n2. **Single Element Less Than Target**:\n   - **Input**: `target = 5`, `nums = [3]`\n   - **Description**: Tests the case where the array has only one element that is less than the target. The expected output should be `0`.\n\n3. **Single Element Equal to Target**:\n   - **Input**: `target = 5`, `nums = [5]`\n   - **Description**: Tests the case where the array has only one element that is exactly equal to the target. The expected output should be `1`.\n\n4. **All Elements Less Than Target**:\n   - **Input**: `target = 10`, `nums = [1, 2, 3, 4]`\n   - **Description**: Tests the scenario where all elements are less than the target and cannot form any valid subarray. The expected output should be `0`.\n\n5. **All Elements Greater Than Target**:\n   - **Input**: `target = 5`, `nums = [6, 7, 8]`\n   - **Description**: Tests the case where all elements are greater than the target. The expected output should be `1`, as any single element can satisfy the condition.\n\n6. **Multiple Valid Subarrays**:\n   - **Input**: `target = 8`, `nums = [1, 2, 3, 4, 5]`\n   - **Description**: Tests a case where multiple subarrays can meet the target. The expected output should be `2`, as the subarray `[3, 5]` or `[4, 5]` can be the minimal length.\n\n7. **Large Array with Maximum Values**:\n   - **Input**: `target = 10^9`, `nums = [10^4] * 10^5`\n   - **Description**: Tests the performance and handling of maximum constraints. The expected output should be `100`, as the sum of the entire array meets the target.\n\n8. **Subarray at the End**:\n   - **Input**: `target = 7`, `nums = [1, 2, 3, 4, 5, 6]`\n   - **Description**: Tests the case where the minimal subarray is located at the end of the array. The expected output should be `2`, as the subarray `[5, 6]` meets the target.\n\nThese edge cases cover a range"
      ]
    },
    {
      "cell_type": "markdown",
      "metadata": {},
      "source": [
        "Sure! Let's solve the \"Minimum Size Subarray Sum\" problem step by step.",
        "",
        "### 1. Approach Explanation",
        "",
        "To find the minimal length of a contiguous subarray whose sum is greater than or equal to a given target, we can use the **two-pointer technique** (also known as the sliding window approach). ",
        "",
        "Here’s how it works:",
        "",
        "1. **Initialize Variables**:",
        "   - Use two pointers, `left` and `right`, both initialized to the start of the array. ",
        "   - Use a variable `current_sum` to keep track of the sum of the current window (subarray).",
        "   - Use a variable `min_length` initialized to infinity to store the minimum subarray length that meets the condition.",
        "",
        "2. **Expand the Window**:",
        "   - Move the `right` pointer to expand the window by adding the value at `nums[right]` to `current_sum`.",
        "   - Check if `current_sum` is greater than or equal to the target.",
        "",
        "3. **Shrink the Window**:",
        "   - If the condition is met (i.e., `current_sum >= target`), move the `left` pointer to shrink the window from the left while updating `current_sum` by subtracting `nums[left]`.",
        "   - Each time the condition is satisfied, update `min_length` with the length of the current valid window.",
        "",
        "4. **Continue Until Right Pointer Reaches the End**:",
        "   - Repeat the process until the `right` pointer has traversed the entire array.",
        "",
        "5. **Return Result**:",
        "   - If `min_length` remains infinity, it indicates no valid subarray was found, so return 0. Otherwise, return `min_length`.",
        "",
        "### 2. Python Code Solution",
        "",
        "Here’s the Python implementation of the above approach:"
      ]
    },
    {
      "cell_type": "code",
      "execution_count": null,
      "metadata": {},
      "outputs": [],
      "source": [
        "def min_subarray_len(target, nums):",
        "    left = 0  # Initialize the left pointer",
        "    current_sum = 0  # Initialize current sum of the window",
        "    min_length = float('inf')  # Start with infinity for minimum length",
        "    ",
        "    # Iterate with the right pointer over the array",
        "    for right in range(len(nums)):",
        "        current_sum += nums[right]  # Add the current number to the sum",
        "        ",
        "        # While the current sum is greater than or equal to the target",
        "        while current_sum >= target:",
        "            # Update the minimum length",
        "            min_length = min(min_length, right - left + 1)",
        "            current_sum -= nums[left]  # Shrink the window from the left",
        "            left += 1  # Move left pointer to the right",
        "            ",
        "    # Return the result",
        "    return min_length if min_length != float('inf') else 0",
        "",
        "# Example usage:",
        "print(min_subarray_len(7, [2, 3, 1, 2, 4, 3]))  # Output: 2",
        "print(min_subarray_len(4, [1, 4, 4]))            # Output: 1",
        "print(min_subarray_len(11, [1, 1, 1, 1, 1, 1, 1, 1]))  # Output: 0"
      ]
    },
    {
      "cell_type": "markdown",
      "metadata": {},
      "source": [
        "### 3. Time and Space Complexity Analysis",
        "",
        "- **Time Complexity**: O(n)",
        "  - Each element is processed at most twice (once by the `right` pointer and once by the `left` pointer). Thus, the total time complexity is linear.",
        "",
        "- **Space Complexity**: O(1)",
        "  - We are using a constant amount of space for our variables, regardless of the input size.",
        "",
        "### Summary",
        "",
        "This solution effectively finds the minimal length of a subarray with the required sum using the sliding window technique in linear time and constant space. If you need to explore an O(n log n) solution, consider sorting or utilizing binary search for different approaches, but the sliding window method is optimal for this problem."
      ]
    },
    {
      "cell_type": "markdown",
      "metadata": {},
      "source": [
        "---",
        "",
        ""
      ]
    },
    {
      "cell_type": "markdown",
      "metadata": {},
      "source": [
        "# Contains Duplicate III (#220)",
        "",
        "**Difficulty:** Hard  ",
        "**Date:** 2025-08-09 23:52:19  ",
        "**URL:** https://leetcode.com/problems/contains-duplicate-iii/",
        "",
        "---"
      ]
    },
    {
      "cell_type": "markdown",
      "metadata": {},
      "source": [
        "## Problem Description",
        "",
        "You are given an integer array nums and two integers indexDiff and valueDiff.\n\nFind a pair of indices (i, j) such that:\n\n\n\ti != j,\n\tabs(i - j) <= indexDiff.\n\tabs(nums[i] - nums[j]) <= valueDiff, and\n\n\nReturn true if such pair exists or false otherwise.\n\n&nbsp;\nExample 1:\n\n\nInput: nums = [1,2,3,1], indexDiff = 3, valueDiff = 0\nOutput: true\nExplanation: We can choose (i, j) = (0, 3).\nWe satisfy the three conditions:\ni != j --> 0 != 3\nabs(i - j) <= indexDiff --> abs(0 - 3) <= 3\nabs(nums[i] - nums[j]) <= valueDiff --> abs(1 - 1) <= 0\n\n\nExample 2:\n\n\nInput: nums = [1,5,9,1,5,9], indexDiff = 2, valueDiff = 3\nOutput: false\nExplanation: After trying all the possible pairs (i, j), we cannot satisfy the three conditions, so we return false.\n\n\n&nbsp;\nConstraints:\n\n\n\t2 <= nums.length <= 105\n\t-109 <= nums[i] <= 109\n\t1 <= indexDiff <= nums.length\n\t0 <= valueDiff <= 109\n\n"
      ]
    },
    {
      "cell_type": "markdown",
      "metadata": {},
      "source": [
        "## Clarifying Questions",
        "",
        "1. **What should we return if there are multiple valid pairs (i, j) that satisfy the conditions?**  \n   (This clarifies whether we only need to find one valid pair or if we need to consider all possible pairs.)\n\n2. **Are there any specific constraints on the values of `indexDiff` and `valueDiff` beyond what is provided in the problem statement?**  \n   (This helps confirm if the given constraints are the only ones we need to consider or if there are hidden constraints.)\n\n3. **How should we handle cases where `nums` contains duplicate values?**  \n   (This clarifies whether the presence of duplicate values in `nums` affects the uniqueness of indices or the conditions we need to check.)\n\n4. **What is the expected behavior if `indexDiff` is greater than or equal to the length of the array?**  \n   (This question addresses edge cases where the index difference could potentially allow for any pair of indices.)\n\n5. **Can we assume that the input array `nums` will always have at least two elements, given the constraints?**  \n   (This confirms the minimum size of the input array and helps identify any potential edge cases with smaller arrays.)"
      ]
    },
    {
      "cell_type": "markdown",
      "metadata": {},
      "source": [
        "## Test Edge Cases",
        "",
        "Here are 8 important test edge cases to consider for the \"Contains Duplicate III\" problem:\n\n1. **Minimum Size Array**:\n   - **Input**: `nums = [1, 2]`, `indexDiff = 1`, `valueDiff = 1`\n   - **Description**: The smallest possible valid input array. Tests if the function can handle the minimum size and correctly identify that no valid pair exists.\n\n2. **All Elements are the Same**:\n   - **Input**: `nums = [5, 5, 5, 5]`, `indexDiff = 3`, `valueDiff = 0`\n   - **Description**: All elements are duplicates, and `valueDiff` is 0. This tests if the function can correctly identify pairs when all values are the same and within the allowed index difference.\n\n3. **Negative and Positive Values**:\n   - **Input**: `nums = [-1, 0, 1, 2]`, `indexDiff = 2`, `valueDiff = 1`\n   - **Description**: Tests the function's ability to handle both negative and positive integers, ensuring it correctly evaluates the conditions with mixed signs.\n\n4. **Large Index Difference with No Valid Pair**:\n   - **Input**: `nums = [1, 2, 3, 4]`, `indexDiff = 5`, `valueDiff = 1`\n   - **Description**: Even though `indexDiff` allows for a wide range, there are no pairs that satisfy the `valueDiff` condition. This tests the function's ability to recognize when valid pairs do not exist despite a large index range.\n\n5. **Maximum Size Array with Duplicates**:\n   - **Input**: `nums = [1] * 100000`, `indexDiff = 99999`, `valueDiff = 0`\n   - **Description**: Tests the performance and efficiency of the solution with the maximum constraint size, where all elements are the same and valid pairs can be formed.\n\n6. **Value Difference Greater than Allowed**:\n   - **Input**: `nums = [1, 10, 20]`, `indexDiff = 2`, `valueDiff = 5`\n   - **Description**: Tests the scenario where the index difference allows for pairing, but the value difference does not. The function should return false in this case.\n\n7. **Edge Case with Zero Value Difference**:\n   - **Input**: `nums = [3, 3, 4, 5]`, `indexDiff = 2`, `valueDiff = 0`\n   - **Description**: Tests the case where only pairs of identical values can be considered valid. This checks if the function correctly identifies pairs with zero value difference.\n\n8. **Large Value Difference with Small Index Difference**:\n   - **Input**:"
      ]
    },
    {
      "cell_type": "markdown",
      "metadata": {},
      "source": [
        "To solve the \"Contains Duplicate III\" problem, we need to find two indices \\(i\\) and \\(j\\) within a given integer array \\(nums\\) that satisfy the following conditions:",
        "",
        "1. \\(i \\neq j\\)",
        "2. \\(|i - j| \\leq \\text{indexDiff}\\)",
        "3. \\(|\\text{nums}[i] - \\text{nums}[j]| \\leq \\text{valueDiff}\\)",
        "",
        "Given the constraints, especially where the length of the array \\(nums\\) can be as large as \\(10^5\\), a brute-force approach (checking all pairs) would be inefficient. Instead, we'll utilize a combination of a sliding window and a balanced data structure (like a sorted list) to efficiently check for the required conditions.",
        "",
        "### Approach:",
        "",
        "1. **Sliding Window**: We iterate through the array and maintain a window of the last \\( \\text{indexDiff} \\) elements. This window helps us ensure that the indices of the elements we are comparing are within the allowed index difference.",
        "",
        "2. **Balanced Data Structure**: To efficiently check if there exists a number within the value difference constraint, we can use a sorted list to maintain the current elements in the sliding window. By keeping this list sorted, we can quickly find whether any number in the window satisfies the condition \\(|\\text{nums}[i] - \\text{nums}[j]| \\leq \\text{valueDiff}\\).",
        "",
        "3. **Binary Search**: Using binary search, we can find the range of numbers in the sorted list that meet the value difference condition. If we find such a number, we return `true`. If we process all elements without finding such a pair, we return `false`.",
        "",
        "### Python Code Solution:"
      ]
    },
    {
      "cell_type": "code",
      "execution_count": null,
      "metadata": {},
      "outputs": [],
      "source": [
        "from sortedcontainers import SortedList",
        "",
        "def containsNearbyAlmostDuplicate(nums, indexDiff, valueDiff):",
        "    # Create a sorted list to maintain the sliding window elements",
        "    sorted_window = SortedList()",
        "    ",
        "    for i in range(len(nums)):",
        "        # Maintain the size of the sliding window",
        "        if i > indexDiff:",
        "            # Remove the element that is out of the sliding window",
        "            sorted_window.remove(nums[i - indexDiff - 1])",
        "        ",
        "        # Find the range of numbers that satisfy |nums[i] - nums[j]| <= valueDiff",
        "        lower_bound = nums[i] - valueDiff",
        "        upper_bound = nums[i] + valueDiff",
        "        ",
        "        # Check if there exists any number in the sorted window within [lower_bound, upper_bound]",
        "        if (sorted_window.bisect_right(upper_bound) - sorted_window.bisect_left(lower_bound)) > 0:",
        "            return True",
        "        ",
        "        # Add current element to the sliding window",
        "        sorted_window.add(nums[i])",
        "    ",
        "    return False",
        "",
        "# Example usage",
        "print(containsNearbyAlmostDuplicate([1, 2, 3, 1], 3, 0))  # Output: True",
        "print(containsNearbyAlmostDuplicate([1, 5, 9, 1, 5, 9], 2, 3))  # Output: False"
      ]
    },
    {
      "cell_type": "markdown",
      "metadata": {},
      "source": [
        "### Time and Space Complexity Analysis:",
        "",
        "- **Time Complexity**: ",
        "  - The outer loop runs \\(O(n)\\) times, where \\(n\\) is the number of elements in the `nums` array. ",
        "  - Each insertion and removal operation in the `SortedList` takes \\(O(\\log k)\\), where \\(k\\) is the size of the sliding window (up to \\(\\text{indexDiff}\\)).",
        "  - The binary search operations to find the bounds also take \\(O(\\log k)\\).",
        "  - Therefore, the overall time complexity is \\(O(n \\log k)\\), where \\(k\\) is \\(\\text{indexDiff}\\).",
        "",
        "- **Space Complexity**: ",
        "  - The space used by the `SortedList` is \\(O(k)\\), where \\(k\\) is \\(\\text{indexDiff}\\), as it holds at most \\(\\text{indexDiff}\\) elements at any time. ",
        "",
        "This approach efficiently checks for the required pair of indices while adhering to the constraints provided in the problem statement."
      ]
    },
    {
      "cell_type": "markdown",
      "metadata": {},
      "source": [
        "---",
        "",
        ""
      ]
    },
    {
      "cell_type": "markdown",
      "metadata": {},
      "source": [
        "# Sliding Window Maximum (#239)",
        "",
        "**Difficulty:** Hard  ",
        "**Date:** 2025-08-09 23:52:46  ",
        "**URL:** https://leetcode.com/problems/sliding-window-maximum/",
        "",
        "---"
      ]
    },
    {
      "cell_type": "markdown",
      "metadata": {},
      "source": [
        "## Problem Description",
        "",
        "You are given an array of integers&nbsp;nums, there is a sliding window of size k which is moving from the very left of the array to the very right. You can only see the k numbers in the window. Each time the sliding window moves right by one position.\n\nReturn the max sliding window.\n\n&nbsp;\nExample 1:\n\n\nInput: nums = [1,3,-1,-3,5,3,6,7], k = 3\nOutput: [3,3,5,5,6,7]\nExplanation: \nWindow position                Max\n---------------               -----\n[1  3  -1] -3  5  3  6  7       3\n 1 [3  -1  -3] 5  3  6  7       3\n 1  3 [-1  -3  5] 3  6  7       5\n 1  3  -1 [-3  5  3] 6  7       5\n 1  3  -1  -3 [5  3  6] 7       6\n 1  3  -1  -3  5 [3  6  7]      7\n\n\nExample 2:\n\n\nInput: nums = [1], k = 1\nOutput: [1]\n\n\n&nbsp;\nConstraints:\n\n\n\t1 <= nums.length <= 105\n\t-104 <= nums[i] <= 104\n\t1 <= k <= nums.length\n\n"
      ]
    },
    {
      "cell_type": "markdown",
      "metadata": {},
      "source": [
        "## Clarifying Questions",
        "",
        "1. **What should we return if the input array `nums` is empty?**  \n   (This clarifies how to handle edge cases where the input does not meet the minimum constraints.)\n\n2. **Are there any specific constraints on the value of `k` in relation to the size of `nums`?**  \n   (This ensures that the candidate understands the relationship between `k` and the length of the array, especially in edge cases.)\n\n3. **How should we handle cases where all elements in the sliding window are negative?**  \n   (This addresses the behavior of the algorithm when dealing with negative numbers.)\n\n4. **Is the output expected to be in a specific format, such as an array or a list?**  \n   (This clarifies the expected output format to avoid any confusion during implementation.)\n\n5. **What is the expected time complexity for the solution, and are there any performance constraints we should be aware of?**  \n   (This helps the candidate understand the performance requirements and optimize their solution accordingly.)"
      ]
    },
    {
      "cell_type": "markdown",
      "metadata": {},
      "source": [
        "## Test Edge Cases",
        "",
        "Here are 8 important test edge cases to consider for the Sliding Window Maximum problem:\n\n1. **Single Element Array**:\n   - **Input**: `nums = [5], k = 1`\n   - **Description**: Tests the simplest case where the array contains only one element. The output should be the same single element.\n\n2. **All Negative Numbers**:\n   - **Input**: `nums = [-1, -3, -5, -7, -9], k = 3`\n   - **Description**: Tests how the algorithm handles an array of negative numbers. The maximum in each sliding window should still be negative.\n\n3. **Array with Duplicates**:\n   - **Input**: `nums = [1, 3, 3, 3, 5, 5, 6, 7], k = 4`\n   - **Description**: Tests the case where there are multiple duplicates in the array. The algorithm should correctly identify the maximum values despite duplicates.\n\n4. **Window Size Equal to Array Size**:\n   - **Input**: `nums = [2, 1, 3, 4], k = 4`\n   - **Description**: Tests the scenario where the sliding window size is equal to the length of the array. The output should be a single maximum value of the entire array.\n\n5. **Window Size of 1**:\n   - **Input**: `nums = [1, 2, 3, 4, 5], k = 1`\n   - **Description**: Tests the case where the window size is 1. The output should be the same as the input array.\n\n6. **Large Array with Maximum Size**:\n   - **Input**: `nums = [1, 2, 3, ..., 100000], k = 50000`\n   - **Description**: Tests performance with the maximum constraints. The algorithm should efficiently handle large input sizes without timing out.\n\n7. **Mixed Positive and Negative Numbers**:\n   - **Input**: `nums = [-1, 2, -3, 4, -5, 6], k = 3`\n   - **Description**: Tests the algorithm's ability to find the maximum in a window that contains both positive and negative numbers.\n\n8. **Array with Increasing and Decreasing Sequences**:\n   - **Input**: `nums = [1, 3, 5, 7, 6, 4, 2], k = 3`\n   - **Description**: Tests the algorithm's performance in a scenario where the array first increases and then decreases. The maximum values should be correctly identified as the window slides.\n\nThese test cases cover a variety of edge cases, including boundary conditions, special values, and performance considerations, ensuring a robust evaluation of the solution."
      ]
    },
    {
      "cell_type": "markdown",
      "metadata": {},
      "source": [
        "To solve the \"Sliding Window Maximum\" problem, we need to efficiently find the maximum value in each sliding window of size `k` as it moves across the array `nums`. A naive approach would involve iterating through each window and finding the maximum, which can be inefficient for larger arrays. ",
        "",
        "### 1. Explanation of the Approach",
        "",
        "We can use a **deque** (double-ended queue) to maintain the indices of the elements in the current window. This allows us to efficiently keep track of the maximum element's index and remove elements that are no longer in the window. Here’s how the approach works:",
        "",
        "- **Maintain a Deque**: The deque will store the indices of the array elements in such a way that the values of these indices in `nums` are in decreasing order. This ensures that the front of the deque always contains the index of the maximum element for the current window.",
        "  ",
        "- **Sliding the Window**:",
        "  - For each element in `nums`, we do the following:",
        "    - Remove indices from the front of the deque if they are out of the bounds of the current window.",
        "    - Pop elements from the back of the deque while the current element is greater than the elements represented by the indices in the deque. This maintains the decreasing order.",
        "    - Add the current index to the deque.",
        "    - Once the first `k` elements are processed, start recording the maximums (the element at the index stored at the front of the deque) for each window.",
        "",
        "### 2. Python Code Solution with Comments",
        "",
        "Here's the implementation of the above approach:"
      ]
    },
    {
      "cell_type": "code",
      "execution_count": null,
      "metadata": {},
      "outputs": [],
      "source": [
        "from collections import deque",
        "from typing import List",
        "",
        "def maxSlidingWindow(nums: List[int], k: int) -> List[int]:",
        "    # Result list to store the maximums of each sliding window",
        "    result = []",
        "    # Deque to store indices of the elements in the window",
        "    dq = deque()",
        "    ",
        "    for i in range(len(nums)):",
        "        # Remove indices that are out of the current window",
        "        if dq and dq[0] < i - k + 1:",
        "            dq.popleft()",
        "        ",
        "        # Remove indices from the back while the current element is greater",
        "        while dq and nums[dq[-1]] < nums[i]:",
        "            dq.pop()",
        "        ",
        "        # Add the current index to the deque",
        "        dq.append(i)",
        "        ",
        "        # The first 'k' elements will not have a complete window",
        "        if i >= k - 1:",
        "            result.append(nums[dq[0]])  # The maximum of the current window",
        "    ",
        "    return result"
      ]
    },
    {
      "cell_type": "markdown",
      "metadata": {},
      "source": [
        "### 3. Time and Space Complexity Analysis",
        "",
        "- **Time Complexity**: O(n), where n is the number of elements in the `nums` array. Each element is pushed and popped from the deque at most once, leading to linear time complexity.",
        "",
        "- **Space Complexity**: O(k), where k is the size of the sliding window. In the worst case, the deque can store all the indices of the current window, which is at most `k` indices.",
        "",
        "### Conclusion",
        "",
        "This solution efficiently computes the maximum of each sliding window using a deque to maintain the indices of potential maximum values, ensuring that we traverse the input array only once while keeping the operations on the deque optimal."
      ]
    },
    {
      "cell_type": "markdown",
      "metadata": {},
      "source": [
        "---",
        "",
        ""
      ]
    },
    {
      "cell_type": "markdown",
      "metadata": {},
      "source": [
        "# Maximum Average Subarray I (#643)",
        "",
        "**Difficulty:** Easy  ",
        "**Date:** 2025-08-09 23:57:57  ",
        "**URL:** https://leetcode.com/problems/maximum-average-subarray-i/",
        "",
        "---"
      ]
    },
    {
      "cell_type": "markdown",
      "metadata": {},
      "source": [
        "## Problem Description",
        "",
        "You are given an integer array nums consisting of n elements, and an integer k.\n\nFind a contiguous subarray whose length is equal to k that has the maximum average value and return this value. Any answer with a calculation error less than 10-5 will be accepted.\n\n&nbsp;\nExample 1:\n\n\nInput: nums = [1,12,-5,-6,50,3], k = 4\nOutput: 12.75000\nExplanation: Maximum average is (12 - 5 - 6 + 50) / 4 = 51 / 4 = 12.75\n\n\nExample 2:\n\n\nInput: nums = [5], k = 1\nOutput: 5.00000\n\n\n&nbsp;\nConstraints:\n\n\n\tn == nums.length\n\t1 <= k <= n <= 105\n\t-104 <= nums[i] <= 104\n\n"
      ]
    },
    {
      "cell_type": "markdown",
      "metadata": {},
      "source": [
        "## Clarifying Questions",
        "",
        "1. Are there any specific edge cases we should consider, such as when the array contains all negative numbers or when `k` is equal to `n` (the length of the array)?\n\n2. Should the output be formatted in a specific way, or is it sufficient to return a floating-point number with a precision of up to five decimal places?\n\n3. Can we assume that the input array `nums` will always contain at least `k` elements, given the constraints provided?\n\n4. Is there a preferred method for handling large input sizes (up to 100,000 elements) to ensure the solution is efficient in terms of time and space complexity?\n\n5. Are there any special conditions regarding the values in the array, such as the presence of duplicate values or specific patterns that could affect the calculation of the maximum average?"
      ]
    },
    {
      "cell_type": "markdown",
      "metadata": {},
      "source": [
        "## Test Edge Cases",
        "",
        "Here are 8 important test edge cases to consider for the \"Maximum Average Subarray I\" problem:\n\n1. **Single Element Array**:\n   - Input: `nums = [10], k = 1`\n   - Description: The smallest possible input where the array contains only one element. The output should be the single element itself.\n\n2. **All Negative Numbers**:\n   - Input: `nums = [-1, -2, -3, -4, -5], k = 3`\n   - Description: An array containing all negative numbers. This tests how the algorithm handles averages in the negative range.\n\n3. **All Positive Numbers**:\n   - Input: `nums = [1, 2, 3, 4, 5], k = 2`\n   - Description: An array with all positive numbers. This checks if the algorithm correctly identifies the maximum average in a straightforward case.\n\n4. **Array with Duplicates**:\n   - Input: `nums = [1, 2, 2, 3, 4, 4, 5], k = 4`\n   - Description: An array with duplicate values. This tests if the algorithm can handle and correctly compute averages when duplicates are present.\n\n5. **Maximum Size Array**:\n   - Input: `nums = [1] * 100000, k = 100000`\n   - Description: An array at the maximum size limit where all elements are the same. This tests performance and ensures the algorithm can handle the upper constraint efficiently.\n\n6. **Mixed Positive and Negative Numbers**:\n   - Input: `nums = [5, -1, -2, 3, 4, -3, 2], k = 3`\n   - Description: An array with a mix of positive and negative numbers. This checks if the algorithm can find the maximum average in a more complex scenario.\n\n7. **Large Range of Values**:\n   - Input: `nums = [-10000, 0, 10000, -5000, 5000], k = 2`\n   - Description: An array with extreme values (minimum and maximum constraints). This tests if the algorithm can handle large ranges and compute averages correctly.\n\n8. **Subarray at the Start and End**:\n   - Input: `nums = [1, 2, 3, 4, 5, 6, 7, 8, 9, 10], k = 5`\n   - Description: An array where the maximum average subarray could be at either the start or the end. This checks if the algorithm correctly evaluates all possible subarrays to find the maximum average.\n\nThese edge cases cover various scenarios, including boundary conditions, special values, and performance considerations, ensuring a comprehensive test of the solution."
      ]
    },
    {
      "cell_type": "markdown",
      "metadata": {},
      "source": [
        "To solve the problem of finding the maximum average subarray of length `k`, we can utilize the sliding window technique. This method allows us to efficiently compute the sum of elements in a contiguous subarray of fixed size `k` without having to re-sum the elements in the window every time we slide it.",
        "",
        "### Approach",
        "",
        "1. **Initial Sum Calculation**:",
        "   - Start by calculating the sum of the first `k` elements in the array. This will give us our first window.",
        "",
        "2. **Sliding the Window**:",
        "   - For each subsequent element, slide the window to the right by adding the next element in the array and subtracting the element that is leaving the window. This way, we maintain the sum of the current window of size `k` efficiently.",
        "",
        "3. **Max Average Calculation**:",
        "   - As we slide the window, we keep track of the maximum sum encountered. Once we have the maximum sum, we can calculate the maximum average by dividing the maximum sum by `k`.",
        "",
        "4. **Return the Result**:",
        "   - Finally, return the maximum average value, ensuring that it meets the precision requirement.",
        "",
        "### Python Code Solution",
        "",
        "Here’s the Python code implementing the above approach:"
      ]
    },
    {
      "cell_type": "code",
      "execution_count": null,
      "metadata": {},
      "outputs": [],
      "source": [
        "def findMaxAverage(nums, k):",
        "    # Step 1: Calculate the initial sum of the first 'k' elements",
        "    current_sum = sum(nums[0:k])",
        "    max_sum = current_sum  # Initialize max_sum with the current sum",
        "",
        "    # Step 2: Slide the window across the array",
        "    for i in range(k, len(nums)):",
        "        # Update the current sum: add the new element and remove the oldest element",
        "        current_sum += nums[i] - nums[i - k]",
        "        # Update max_sum if the current sum is greater",
        "        if current_sum > max_sum:",
        "            max_sum = current_sum",
        "",
        "    # Step 3: Calculate and return the maximum average",
        "    return max_sum / k"
      ]
    },
    {
      "cell_type": "markdown",
      "metadata": {},
      "source": [
        "### Explanation of the Code:",
        "- We begin by calculating the sum of the first `k` elements (`current_sum`).",
        "- We then iterate through the array starting from index `k` to the end, updating the `current_sum` at each step.",
        "- If the `current_sum` exceeds `max_sum`, we update `max_sum`.",
        "- Finally, we calculate the average by dividing `max_sum` by `k` and return it.",
        "",
        "### Time and Space Complexity Analysis",
        "",
        "- **Time Complexity**: O(n), where n is the number of elements in the array. The algorithm goes through the array once to calculate the initial sum and then once more to slide the window, resulting in linear time complexity.",
        "  ",
        "- **Space Complexity**: O(1), since we are using a fixed amount of extra space (only a few variables) regardless of the size of the input array.",
        "",
        "This efficient approach ensures that we can handle the input constraints comfortably, providing a solution that is both optimal and easy to understand."
      ]
    },
    {
      "cell_type": "markdown",
      "metadata": {},
      "source": [
        "---",
        "",
        ""
      ]
    },
    {
      "cell_type": "markdown",
      "metadata": {},
      "source": [
        "# Longest Repeating Character Replacement (#424)",
        "",
        "**Difficulty:** Medium  ",
        "**Date:** 2025-08-10 00:02:28  ",
        "**URL:** https://leetcode.com/problems/longest-repeating-character-replacement/",
        "",
        "---"
      ]
    },
    {
      "cell_type": "markdown",
      "metadata": {},
      "source": [
        "## Problem Description",
        "",
        "You are given a string s and an integer k. You can choose any character of the string and change it to any other uppercase English character. You can perform this operation at most k times.\n\nReturn the length of the longest substring containing the same letter you can get after performing the above operations.\n\n&nbsp;\nExample 1:\n\n\nInput: s = &quot;ABAB&quot;, k = 2\nOutput: 4\nExplanation: Replace the two &#39;A&#39;s with two &#39;B&#39;s or vice versa.\n\n\nExample 2:\n\n\nInput: s = &quot;AABABBA&quot;, k = 1\nOutput: 4\nExplanation: Replace the one &#39;A&#39; in the middle with &#39;B&#39; and form &quot;AABBBBA&quot;.\nThe substring &quot;BBBB&quot; has the longest repeating letters, which is 4.\nThere may exists other ways to achieve this answer too.\n\n&nbsp;\nConstraints:\n\n\n\t1 <= s.length <= 105\n\ts consists of only uppercase English letters.\n\t0 <= k <= s.length\n\n"
      ]
    },
    {
      "cell_type": "markdown",
      "metadata": {},
      "source": [
        "## Clarifying Questions",
        "",
        "1. **What should we do if the string `s` is empty?** Should we return 0 or handle it differently?\n\n2. **Are there any specific constraints on the characters in the string `s` other than being uppercase English letters?** For example, can we assume the string will always contain at least one character?\n\n3. **How should we handle cases where `k` is 0?** Should we simply return the length of the longest substring of repeating characters without any replacements?\n\n4. **Is there a maximum limit on the number of unique characters in the string `s` that we should consider while performing replacements?** For instance, if `s` contains many different characters, does that affect our approach?\n\n5. **What is the expected time complexity for the solution?** Should we aim for a linear time solution, or is there flexibility in performance requirements?"
      ]
    },
    {
      "cell_type": "markdown",
      "metadata": {},
      "source": [
        "## Test Edge Cases",
        "",
        "Here are 8 important test edge cases to consider for the \"Longest Repeating Character Replacement\" problem:\n\n1. **Empty String**:\n   - Input: `s = \"\", k = 0`\n   - Description: Tests the function's handling of an empty string. The expected output should be `0` since there are no characters to form a substring.\n\n2. **Single Character String**:\n   - Input: `s = \"A\", k = 0`\n   - Description: Tests the simplest case with a single character. The expected output should be `1`, as the longest substring is the character itself.\n\n3. **All Characters Same**:\n   - Input: `s = \"AAAA\", k = 2`\n   - Description: Tests a case where all characters are the same. The expected output should be `4`, as no replacements are needed.\n\n4. **All Characters Different**:\n   - Input: `s = \"ABCDE\", k = 2`\n   - Description: Tests the scenario where all characters are different. The expected output should be `2`, as you can only replace two characters to form a substring of length 2.\n\n5. **Maximum Size Input**:\n   - Input: `s = \"A\" * 10^5, k = 0`\n   - Description: Tests performance with the maximum allowed size of the string. The expected output should be `100000`, as all characters are the same.\n\n6. **Large k with Mixed Characters**:\n   - Input: `s = \"AABABBA\", k = 3`\n   - Description: Tests the case where a larger number of replacements can be made. The expected output should be `7`, as you can replace enough characters to make the entire string the same.\n\n7. **k Equal to Length of String**:\n   - Input: `s = \"ABABAB\", k = 6`\n   - Description: Tests the scenario where `k` is equal to the length of the string. The expected output should be `6`, as you can replace all characters to form a single repeating character.\n\n8. **Consecutive Blocks of Characters**:\n   - Input: `s = \"AAABBBCC\", k = 2`\n   - Description: Tests a case with blocks of consecutive characters. The expected output should be `5`, as you can replace two 'C's to make \"AAAAABBB\" or \"AAABBB\" into \"AAAAABBB\".\n\nThese test cases cover a range of boundary conditions, special values, and performance edge cases that are critical for ensuring the robustness of the solution."
      ]
    },
    {
      "cell_type": "markdown",
      "metadata": {},
      "source": [
        "To solve the problem of finding the longest substring containing the same letter after performing at most `k` character replacements, we can use the sliding window technique. Here's a step-by-step explanation of the approach:",
        "",
        "### Approach:",
        "",
        "1. **Sliding Window Concept**: We will maintain a window (a substring) that can potentially be formed into a substring with all the same characters by replacing up to `k` characters. The window will be defined by two pointers: `left` (start) and `right` (end) of the substring.",
        "",
        "2. **Character Count**: We will keep track of the count of each character within the current window. This will help us determine how many characters need to be replaced to make all characters in the window the same.",
        "",
        "3. **Maximum Frequency**: We maintain the count of the most frequently occurring character in the current window. This will help us quickly determine how many characters need to be replaced. If `max_count` is the count of the most frequent character in the current window, the number of characters to replace is `window_length - max_count`, where `window_length` is the size of the current window.",
        "",
        "4. **Expanding and Contracting the Window**: We will expand the `right` pointer to include more characters in the window. If the number of characters that need to be replaced exceeds `k`, we will shrink the window from the `left` side until we are back within the limit of `k` replacements.",
        "",
        "5. **Keeping Track of Maximum Length**: Throughout the process, we will keep track of the maximum length of valid windows that we can achieve.",
        "",
        "### Python Code Solution:",
        "Here’s the Python code implementing the above logic with comments explaining each step:"
      ]
    },
    {
      "cell_type": "code",
      "execution_count": null,
      "metadata": {},
      "outputs": [],
      "source": [
        "def characterReplacement(s: str, k: int) -> int:",
        "    # Dictionary to count frequency of characters in the current window",
        "    count = {}",
        "    left = 0",
        "    max_length = 0",
        "    max_count = 0  # The count of the most frequently occurring character in the current window",
        "",
        "    for right in range(len(s)):",
        "        # Add the current character to the count dictionary",
        "        count[s[right]] = count.get(s[right], 0) + 1",
        "        ",
        "        # Update the max_count of the most frequent character",
        "        max_count = max(max_count, count[s[right]])",
        "        ",
        "        # Calculate the current window length",
        "        window_length = right - left + 1",
        "        ",
        "        # If the number of characters to replace exceeds k, shrink the window from the left",
        "        if window_length - max_count > k:",
        "            count[s[left]] -= 1",
        "            left += 1  # Move the left pointer to the right",
        "        ",
        "        # Update the maximum length of valid substring found",
        "        max_length = max(max_length, window_length)",
        "",
        "    return max_length"
      ]
    },
    {
      "cell_type": "markdown",
      "metadata": {},
      "source": [
        "### Time and Space Complexity Analysis:",
        "",
        "- **Time Complexity**: O(n), where n is the length of the string `s`. We traverse the string with the `right` pointer, and the `left` pointer only moves when necessary, resulting in a linear time complexity.",
        "",
        "- **Space Complexity**: O(1), since the count dictionary will hold at most 26 characters (the uppercase English letters), regardless of the length of the string.",
        "",
        "This efficient approach ensures that we can handle the maximum constraints of the problem effectively."
      ]
    },
    {
      "cell_type": "markdown",
      "metadata": {},
      "source": [
        "---",
        "",
        ""
      ]
    },
    {
      "cell_type": "markdown",
      "metadata": {},
      "source": [
        "# Find All Anagrams in a String (#438)",
        "",
        "**Difficulty:** Medium  ",
        "**Date:** 2025-08-10 00:02:43  ",
        "**URL:** https://leetcode.com/problems/find-all-anagrams-in-a-string/",
        "",
        "---"
      ]
    },
    {
      "cell_type": "markdown",
      "metadata": {},
      "source": [
        "## Problem Description",
        "",
        "Given two strings s and p, return an array of all the start indices of p&#39;s anagrams in s. You may return the answer in any order.\n\n&nbsp;\nExample 1:\n\n\nInput: s = &quot;cbaebabacd&quot;, p = &quot;abc&quot;\nOutput: [0,6]\nExplanation:\nThe substring with start index = 0 is &quot;cba&quot;, which is an anagram of &quot;abc&quot;.\nThe substring with start index = 6 is &quot;bac&quot;, which is an anagram of &quot;abc&quot;.\n\n\nExample 2:\n\n\nInput: s = &quot;abab&quot;, p = &quot;ab&quot;\nOutput: [0,1,2]\nExplanation:\nThe substring with start index = 0 is &quot;ab&quot;, which is an anagram of &quot;ab&quot;.\nThe substring with start index = 1 is &quot;ba&quot;, which is an anagram of &quot;ab&quot;.\nThe substring with start index = 2 is &quot;ab&quot;, which is an anagram of &quot;ab&quot;.\n\n\n&nbsp;\nConstraints:\n\n\n\t1 <= s.length, p.length <= 3 * 104\n\ts and p consist of lowercase English letters.\n\n"
      ]
    },
    {
      "cell_type": "markdown",
      "metadata": {},
      "source": [
        "## Clarifying Questions",
        "",
        "1. Are there any constraints on the characters that can appear in the strings `s` and `p`, aside from them being lowercase English letters? For example, can they include spaces or punctuation?\n\n2. How should we handle cases where `p` is longer than `s`? Should we return an empty array in such cases?\n\n3. Is the output order of the start indices significant, or can they be returned in any order?\n\n4. Are there any specific performance requirements we should be aware of, especially considering the maximum length of the strings (up to 30,000 characters)?\n\n5. Should we consider the possibility of overlapping anagrams in `s`, and if so, how should they be treated in the output?"
      ]
    },
    {
      "cell_type": "markdown",
      "metadata": {},
      "source": [
        "## Test Edge Cases",
        "",
        "Here are 8 important test edge cases to consider for the \"Find All Anagrams in a String\" problem:\n\n1. **Empty Strings**:\n   - Input: `s = \"\"`, `p = \"\"`\n   - Description: Both strings are empty. This tests how the function handles the edge case of no input.\n\n2. **Single Character Strings**:\n   - Input: `s = \"a\"`, `p = \"a\"`\n   - Description: Both strings contain a single character that matches. This tests the simplest case of an anagram.\n\n3. **Single Character Strings with No Match**:\n   - Input: `s = \"a\"`, `p = \"b\"`\n   - Description: `s` contains a single character that does not match `p`. This tests the function's ability to return an empty result when no anagrams exist.\n\n4. **Anagrams with Duplicates**:\n   - Input: `s = \"aaabbb\"`, `p = \"abc\"`\n   - Description: `s` contains multiple occurrences of characters that can form anagrams of `p`. This tests the function's handling of duplicates.\n\n5. **Maximum Size Input**:\n   - Input: `s = \"a\" * 30000`, `p = \"a\" * 30000`\n   - Description: Both strings are at the maximum length allowed. This tests the performance and efficiency of the solution under maximum constraints.\n\n6. **No Anagrams Present**:\n   - Input: `s = \"abcdefgh\"`, `p = \"xyz\"`\n   - Description: `s` contains characters that do not match any characters in `p`. This tests the function's ability to return an empty result when no anagrams exist.\n\n7. **Multiple Anagrams with Overlapping Indices**:\n   - Input: `s = \"ababab\"`, `p = \"ab\"`\n   - Description: `s` contains overlapping substrings that are anagrams of `p`. This tests whether the function correctly identifies all starting indices.\n\n8. **Anagrams at the Start and End**:\n   - Input: `s = \"cbaabc\"`, `p = \"abc\"`\n   - Description: `s` contains anagrams of `p` at both the start and end of the string. This tests the function's ability to find anagrams in different parts of the string. \n\nThese test cases cover a range of scenarios, including boundary conditions, special values, and performance considerations."
      ]
    },
    {
      "cell_type": "markdown",
      "metadata": {},
      "source": [
        "To solve the problem of finding all anagrams of string `p` within string `s`, we can use a sliding window approach along with frequency counting of characters. Here's a step-by-step breakdown:",
        "",
        "### 1. Approach Explanation",
        "",
        "- **Sliding Window**: We'll use a window of the same length as `p` to scan through `s`. As we move this window along `s`, we'll keep track of the frequency of characters in the current window and compare it to the frequency of characters in `p`.",
        "  ",
        "- **Character Frequency Counting**: We can utilize two frequency arrays (or dictionaries) to store the count of characters. One will represent the count of characters in `p`, and the other will represent the count of characters in the current window of `s`.",
        "",
        "- **Comparison**: At each step, we will compare the two frequency counts. If they match, it means the current window is an anagram of `p`, and we will record the starting index of this window.",
        "",
        "- **Efficiency**: We'll update the frequency count for the window by removing the character that is sliding out of the window and adding the character that is sliding into the window. Thus, we avoid recalculating the counts from scratch.",
        "",
        "### 2. Python Code Solution",
        "",
        "Here's the Python code implementing the above approach:"
      ]
    },
    {
      "cell_type": "code",
      "execution_count": null,
      "metadata": {},
      "outputs": [],
      "source": [
        "def findAnagrams(s, p):",
        "    from collections import Counter",
        "    ",
        "    # Lengths of the strings",
        "    len_s, len_p = len(s), len(p)",
        "    ",
        "    # Base case: If p is longer than s, there can't be any anagrams",
        "    if len_p > len_s:",
        "        return []",
        "    ",
        "    # Count characters in p",
        "    p_count = Counter(p)",
        "    ",
        "    # Initialize a counter for the current window in s",
        "    window_count = Counter(s[:len_p])",
        "    ",
        "    # List to store the starting indices of anagrams",
        "    result = []",
        "    ",
        "    # Check if the initial window is an anagram",
        "    if window_count == p_count:",
        "        result.append(0)",
        "    ",
        "    # Start sliding the window",
        "    for i in range(len_p, len_s):",
        "        # Include the next character in the window",
        "        window_count[s[i]] += 1",
        "        ",
        "        # Exclude the character that is no longer in the window",
        "        window_count[s[i - len_p]] -= 1",
        "        ",
        "        # Remove the count from the counter if it drops to zero",
        "        if window_count[s[i - len_p]] == 0:",
        "            del window_count[s[i - len_p]]",
        "        ",
        "        # Check if the current window is an anagram",
        "        if window_count == p_count:",
        "            result.append(i - len_p + 1)",
        "    ",
        "    return result"
      ]
    },
    {
      "cell_type": "markdown",
      "metadata": {},
      "source": [
        "### 3. Time and Space Complexity Analysis",
        "",
        "- **Time Complexity**: ",
        "  - The algorithm runs in O(n) time, where n is the length of string `s`. This is because we are effectively making a single pass through `s`, and the operations of adding and removing characters from the frequency counter take constant time on average.",
        "",
        "- **Space Complexity**: ",
        "  - The space complexity is O(1) in terms of the character set size (since we are only dealing with lowercase English letters, which is a constant 26). However, in terms of the data structures used (like the `Counter`), it can be considered O(1) as well since the size of the character frequency tables will not exceed the number of unique characters (26).",
        "",
        "This solution efficiently finds all anagrams of `p` in `s` using a straightforward sliding window technique combined with character counting."
      ]
    },
    {
      "cell_type": "markdown",
      "metadata": {},
      "source": [
        "---",
        "",
        ""
      ]
    },
    {
      "cell_type": "markdown",
      "metadata": {},
      "source": [
        "# Sliding Window Median (#480)",
        "",
        "**Difficulty:** Hard  ",
        "**Date:** 2025-08-10 00:03:41  ",
        "**URL:** https://leetcode.com/problems/sliding-window-median/",
        "",
        "---"
      ]
    },
    {
      "cell_type": "markdown",
      "metadata": {},
      "source": [
        "## Problem Description",
        "",
        "The median is the middle value in an ordered integer list. If the size of the list is even, there is no middle value. So the median is the mean of the two middle values.\n\n\n\tFor examples, if arr = [2,3,4], the median is 3.\n\tFor examples, if arr = [1,2,3,4], the median is (2 + 3) / 2 = 2.5.\n\n\nYou are given an integer array nums and an integer k. There is a sliding window of size k which is moving from the very left of the array to the very right. You can only see the k numbers in the window. Each time the sliding window moves right by one position.\n\nReturn the median array for each window in the original array. Answers within 10-5 of the actual value will be accepted.\n\n&nbsp;\nExample 1:\n\n\nInput: nums = [1,3,-1,-3,5,3,6,7], k = 3\nOutput: [1.00000,-1.00000,-1.00000,3.00000,5.00000,6.00000]\nExplanation: \nWindow position                Median\n---------------                -----\n[1  3  -1] -3  5  3  6  7        1\n 1 [3  -1  -3] 5  3  6  7       -1\n 1  3 [-1  -3  5] 3  6  7       -1\n 1  3  -1 [-3  5  3] 6  7        3\n 1  3  -1  -3 [5  3  6] 7        5\n 1  3  -1  -3  5 [3  6  7]       6\n\n\nExample 2:\n\n\nInput: nums = [1,2,3,4,2,3,1,4,2], k = 3\nOutput: [2.00000,3.00000,3.00000,3.00000,2.00000,3.00000,2.00000]\n\n\n&nbsp;\nConstraints:\n\n\n\t1 <= k <= nums.length <= 105\n\t-231 <= nums[i] <= 231 - 1\n\n"
      ]
    },
    {
      "cell_type": "markdown",
      "metadata": {},
      "source": [
        "## Clarifying Questions",
        "",
        "1. **What should we return if the input array `nums` is empty or if `k` is greater than the length of `nums`?** (This clarifies how to handle edge cases.)\n\n2. **Are there any specific requirements for the output format, such as the number of decimal places for the median values?** (This addresses the output format and precision.)\n\n3. **Is it guaranteed that `k` will always be an odd number, or should we handle both even and odd values of `k`?** (This helps clarify how to calculate the median based on the size of the sliding window.)\n\n4. **What is the expected time complexity for the solution, and are there any constraints on the performance of the algorithm?** (This helps understand performance requirements and expectations.)\n\n5. **Should we assume that the input values in `nums` can be negative, and how should we handle duplicate values when calculating the median?** (This clarifies assumptions about the input and how to treat edge cases with duplicates.)"
      ]
    },
    {
      "cell_type": "markdown",
      "metadata": {},
      "source": [
        "## Test Edge Cases",
        "",
        "Here are 8 important test edge cases to consider for the Sliding Window Median problem:\n\n1. **Single Element Window**:\n   - **Input**: `nums = [5], k = 1`\n   - **Description**: The simplest case where the array has only one element and the window size is also one. The output should be the single element itself.\n\n2. **All Elements Identical**:\n   - **Input**: `nums = [2, 2, 2, 2, 2], k = 3`\n   - **Description**: A case where all elements are the same. The median should remain constant regardless of the window position.\n\n3. **Even Number of Elements in Window**:\n   - **Input**: `nums = [1, 2, 3, 4, 5, 6], k = 4`\n   - **Description**: The window size is even, which means the median will be the average of the two middle numbers. This tests the handling of even-sized windows.\n\n4. **Negative and Positive Numbers**:\n   - **Input**: `nums = [-1, 0, 1, 2, -2, -3], k = 3`\n   - **Description**: A mix of negative and positive numbers. This tests the algorithm's ability to correctly compute the median with a diverse range of values.\n\n5. **Large Array with Maximum Size**:\n   - **Input**: `nums = [1, 2, 3, ..., 100000], k = 100000`\n   - **Description**: An edge case where the input array is at its maximum size. This tests the performance and efficiency of the algorithm.\n\n6. **Sliding Window at Array Edges**:\n   - **Input**: `nums = [10, 20, 30, 40, 50], k = 2`\n   - **Description**: This tests the behavior of the algorithm when the sliding window is at the edges of the array, ensuring that it correctly computes the median for the last few windows.\n\n7. **Window with Duplicates**:\n   - **Input**: `nums = [1, 3, 3, 3, 5, 7], k = 3`\n   - **Description**: A case where the window contains duplicate values. This tests the algorithm's ability to handle duplicates correctly when calculating the median.\n\n8. **Performance with Mixed Values**:\n   - **Input**: `nums = [1, 1000, -1000, 500, 0, 999, -999], k = 4`\n   - **Description**: A case with a mix of very high and very low values, testing the algorithm's robustness and performance when handling a wide range of integers.\n\nThese test cases cover a variety of scenarios, including edge cases"
      ]
    },
    {
      "cell_type": "markdown",
      "metadata": {},
      "source": [
        "To solve the Sliding Window Median problem, we need to efficiently calculate the median for each sliding window of size `k` as it moves from the beginning of the array to the end. Here's a detailed breakdown of the approach, followed by the code implementation.",
        "",
        "### 1. Approach Explanation",
        "",
        "The median can be calculated by maintaining a sorted list of the elements in the current window. However, inserting and removing elements from this list naively can be inefficient because it could take O(n) time in the worst case.",
        "",
        "To optimize this, we can utilize two heaps:",
        "- A max-heap to store the smaller half of the numbers",
        "- A min-heap to store the larger half of the numbers",
        "",
        "The median can then be determined based on the sizes of these two heaps:",
        "- If the max-heap has more elements than the min-heap, the median is the root of the max-heap.",
        "- If both heaps are of equal size, the median is the average of the roots of both heaps.",
        "",
        "### Steps:",
        "1. **Initialization**: Create two heaps: the max-heap for the left half and the min-heap for the right half.",
        "2. **Sliding Window**: For each new element added to the window:",
        "   - Insert it into the appropriate heap.",
        "   - Balance the heaps if necessary (the difference in size should not be more than 1).",
        "   - Calculate the median based on the sizes of the heaps and store it.",
        "3. **Remove the element that is sliding out of the window**: This requires re-balancing the heaps again after removal.",
        "4. **Return the list of medians** after processing all windows.",
        "",
        "### Python Code Solution"
      ]
    },
    {
      "cell_type": "code",
      "execution_count": null,
      "metadata": {},
      "outputs": [],
      "source": [
        "import heapq",
        "",
        "def medianSlidingWindow(nums, k):",
        "    def add(num):",
        "        # Add a number to the max-heap (inverted to use min-heap)",
        "        heapq.heappush(max_heap, -num)",
        "        # Balance the heaps",
        "        if max_heap and (-max_heap[0] > min_heap[0] if min_heap else float('inf')):",
        "            heapq.heappush(min_heap, -heapq.heappop(max_heap))",
        "        ",
        "        # Ensure sizes of heaps are balanced",
        "        if len(max_heap) > len(min_heap) + 1:",
        "            heapq.heappush(min_heap, -heapq.heappop(max_heap))",
        "        elif len(min_heap) > len(max_heap):",
        "            heapq.heappush(max_heap, -heapq.heappop(min_heap))",
        "    ",
        "    def remove(num):",
        "        # Remove a number from the max-heap if it exists there",
        "        if num <= -max_heap[0]:  # It's in the max-heap",
        "            max_heap.remove(-num)",
        "            heapq.heapify(max_heap)  # Re-heapify after removal",
        "        else:  # It's in the min-heap",
        "            min_heap.remove(num)",
        "            heapq.heapify(min_heap)  # Re-heapify after removal",
        "        ",
        "        # Balance the heaps after removal",
        "        if len(max_heap) > len(min_heap) + 1:",
        "            heapq.heappush(min_heap, -heapq.heappop(max_heap))",
        "        elif len(min_heap) > len(max_heap):",
        "            heapq.heappush(max_heap, -heapq.heappop(min_heap))",
        "    ",
        "    max_heap = []  # Max-heap for the left half (inverted values)",
        "    min_heap = []  # Min-heap for the right half",
        "    medians = []",
        "    ",
        "    # Initialize the first window",
        "    for i in range(k):",
        "        add(nums[i])",
        "    ",
        "    # Store the median for the first window",
        "    medians.append(-max_heap[0] if len(max_heap) > len(min_heap) else (-max_heap[0] + min_heap[0]) / 2.0)",
        "    ",
        "    # Sliding the window",
        "    for i in range(k, len(nums)):",
        "        add(nums[i])        # Add the new element",
        "        remove(nums[i - k])  # Remove the element that is sliding out",
        "        # Store the median for the current window",
        "        medians.append(-max_heap[0] if len(max_heap) > len(min_heap) else (-max_heap[0] + min_heap[0]) / 2.0)",
        "    ",
        "    return medians"
      ]
    },
    {
      "cell_type": "markdown",
      "metadata": {},
      "source": [
        "### 2. Time and Space Complexity Analysis",
        "",
        "- **Time Complexity**: ",
        "  - Adding an element to either heap takes O(log k), and since we add and remove elements from the heaps for each of the n-k+1 windows, the overall time complexity is O(n log k).",
        "  ",
        "- **Space Complexity**: ",
        "  - We use two heaps to store the elements of the current window. The space complexity is O(k), as we store at most k elements in the heaps at any time.",
        "",
        "This efficient approach allows us to compute the median for each sliding window in logarithmic time relative to the window size, making it suitable for large inputs."
      ]
    },
    {
      "cell_type": "markdown",
      "metadata": {},
      "source": [
        "---",
        "",
        ""
      ]
    },
    {
      "cell_type": "markdown",
      "metadata": {},
      "source": [
        "# Permutation in String (#567)",
        "",
        "**Difficulty:** Medium  ",
        "**Date:** 2025-08-10 00:09:35  ",
        "**URL:** https://leetcode.com/problems/permutation-in-string/",
        "",
        "---"
      ]
    },
    {
      "cell_type": "markdown",
      "metadata": {},
      "source": [
        "## Problem Description",
        "",
        "Given two strings s1 and s2, return true if s2 contains a permutation of s1, or false otherwise.\n\nIn other words, return true if one of s1&#39;s permutations is the substring of s2.\n\n&nbsp;\nExample 1:\n\n\nInput: s1 = &quot;ab&quot;, s2 = &quot;eidbaooo&quot;\nOutput: true\nExplanation: s2 contains one permutation of s1 (&quot;ba&quot;).\n\n\nExample 2:\n\n\nInput: s1 = &quot;ab&quot;, s2 = &quot;eidboaoo&quot;\nOutput: false\n\n\n&nbsp;\nConstraints:\n\n\n\t1 <= s1.length, s2.length <= 104\n\ts1 and s2 consist of lowercase English letters.\n\n"
      ]
    },
    {
      "cell_type": "markdown",
      "metadata": {},
      "source": [
        "## Clarifying Questions",
        "",
        "1. Are there any specific constraints on the characters that can appear in the strings s1 and s2, aside from being lowercase English letters?\n\n2. Should we consider empty strings as valid inputs, and if so, what should the output be when either s1 or s2 is empty?\n\n3. Is the order of characters in the permutation relevant when checking for a substring in s2, or can we assume that any arrangement of characters in s1 is valid as long as it exists in s2?\n\n4. What should the function return if s1 is longer than s2, given that a permutation of s1 cannot fit within s2 in that case?\n\n5. Are there any performance requirements we should be aware of, such as time complexity constraints, especially given the maximum length of the strings (up to 10,000 characters)?"
      ]
    },
    {
      "cell_type": "markdown",
      "metadata": {},
      "source": [
        "## Test Edge Cases",
        "",
        "Here are 8 important test edge cases to consider for the \"Permutation in String\" problem:\n\n1. **Empty Strings**:\n   - Input: `s1 = \"\"`, `s2 = \"\"`\n   - Description: Both strings are empty. This tests how the function handles edge cases with no characters.\n\n2. **s1 is Empty, s2 is Non-Empty**:\n   - Input: `s1 = \"\"`, `s2 = \"abc\"`\n   - Description: `s1` is empty while `s2` contains characters. This checks if the function correctly identifies that an empty string is a permutation of any string.\n\n3. **s1 Longer than s2**:\n   - Input: `s1 = \"abcde\"`, `s2 = \"abc\"`\n   - Description: `s1` is longer than `s2`. This tests if the function can handle cases where a permutation is impossible due to length constraints.\n\n4. **s1 and s2 with Same Characters but Different Frequencies**:\n   - Input: `s1 = \"abc\"`, `s2 = \"abccba\"`\n   - Description: `s2` contains all characters of `s1` but with different frequencies. This checks if the function correctly identifies that a valid permutation exists.\n\n5. **s1 Contains Duplicates**:\n   - Input: `s1 = \"aabb\"`, `s2 = \"abababab\"`\n   - Description: `s1` has duplicate characters. This tests if the function can handle permutations with repeated characters correctly.\n\n6. **s1 and s2 with No Common Characters**:\n   - Input: `s1 = \"xyz\"`, `s2 = \"abcde\"`\n   - Description: `s1` and `s2` share no characters. This checks if the function can quickly determine that no permutation can exist.\n\n7. **s1 is a Permutation of a Substring in s2**:\n   - Input: `s1 = \"abc\"`, `s2 = \"cbade\"`\n   - Description: `s1` is a permutation of a substring in `s2`. This tests if the function can correctly identify permutations that are not at the start of `s2`.\n\n8. **Maximum Size Input**:\n   - Input: `s1 = \"a\" * 10^4`, `s2 = \"a\" * 10^4`\n   - Description: Both strings are at their maximum length with the same character. This tests the performance and efficiency of the function with large inputs.\n\nThese edge cases cover a variety of scenarios, including boundary conditions, special values, and performance considerations, ensuring a comprehensive test suite for the problem."
      ]
    },
    {
      "cell_type": "markdown",
      "metadata": {},
      "source": [
        "To solve the problem of determining if one string (`s1`) is a permutation of a substring of another string (`s2`), we can utilize the sliding window technique with character frequency counting. Here's a step-by-step breakdown of the approach:",
        "",
        "### Approach Explanation:",
        "",
        "1. **Character Frequency Count**: We will count the frequency of each character in `s1`. Since `s1` can only consist of lowercase English letters, we can use a fixed-size list of 26 elements (one for each letter) to store these frequencies.",
        "",
        "2. **Sliding Window**: We will create a sliding window of the same length as `s1` to traverse through `s2`. For each window in `s2`, we will maintain a frequency count of the characters.",
        "",
        "3. **Comparison**: At each position of the window in `s2`, we will compare the frequency count of the current window with the frequency count of `s1`. If they match at any point, it means that the window is a permutation of `s1`.",
        "",
        "4. **Window Movement**: As we slide the window from left to right, we will update the frequency counts by removing the character that is sliding out of the window and adding the new character that is sliding into the window.",
        "",
        "5. **Edge Cases**: If `s1` is longer than `s2`, we can immediately return false since a longer string cannot be a substring of a shorter one.",
        "",
        "### Python Code Solution:",
        "",
        "Here’s the implementation of the above approach:"
      ]
    },
    {
      "cell_type": "code",
      "execution_count": null,
      "metadata": {},
      "outputs": [],
      "source": [
        "def checkInclusion(s1: str, s2: str) -> bool:",
        "    # Edge case: If s1 is longer than s2, return False",
        "    if len(s1) > len(s2):",
        "        return False",
        "",
        "    # Initialize frequency arrays for s1 and the current window in s2",
        "    s1_count = [0] * 26  # Frequency count for s1",
        "    s2_count = [0] * 26  # Frequency count for the current window in s2",
        "",
        "    # Fill frequency count for s1 and the first window in s2",
        "    for i in range(len(s1)):",
        "        s1_count[ord(s1[i]) - ord('a')] += 1  # Increment count for s1",
        "        s2_count[ord(s2[i]) - ord('a')] += 1  # Increment count for the first window in s2",
        "",
        "    # Check if the initial window matches s1's frequency count",
        "    if s1_count == s2_count:",
        "        return True",
        "",
        "    # Start the sliding window",
        "    for i in range(len(s1), len(s2)):",
        "        # Add the next character in the window",
        "        s2_count[ord(s2[i]) - ord('a')] += 1",
        "        # Remove the character that is sliding out of the window",
        "        s2_count[ord(s2[i - len(s1)]) - ord('a')] -= 1",
        "",
        "        # Check for a match after updating the window",
        "        if s1_count == s2_count:",
        "            return True",
        "",
        "    # If no match found after sliding through s2",
        "    return False",
        "",
        "# Example usage",
        "print(checkInclusion(\"ab\", \"eidbaooo\"))  # Output: True",
        "print(checkInclusion(\"ab\", \"eidboaoo\"))  # Output: False"
      ]
    },
    {
      "cell_type": "markdown",
      "metadata": {},
      "source": [
        "### Time and Space Complexity Analysis:",
        "",
        "- **Time Complexity**: O(n), where n is the length of `s2`. We traverse `s2` once, and at each step, we perform constant-time operations (updating counts and comparing lists).",
        "  ",
        "- **Space Complexity**: O(1). The space used by the frequency arrays is constant (26 elements for lowercase letters), which does not depend on the input size.",
        "",
        "This solution efficiently checks for permutations of `s1` within `s2` using the sliding window technique and frequency counting, making it optimal for the problem constraints."
      ]
    },
    {
      "cell_type": "markdown",
      "metadata": {},
      "source": [
        "---",
        "",
        ""
      ]
    }
  ],
  "metadata": {
    "kernelspec": {
      "display_name": "py310",
      "language": "python",
      "name": "python3"
    },
    "language_info": {
      "name": "python",
      "version": "3.10.18"
    }
  },
  "nbformat": 4,
  "nbformat_minor": 4
}