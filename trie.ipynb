{
  "cells": [
    {
      "cell_type": "markdown",
      "metadata": {},
      "source": [
        "# Implement Magic Dictionary (#676)",
        "",
        "**Difficulty:** Medium  ",
        "**Date:** 2025-08-02 17:09:09  ",
        "**URL:** https://leetcode.com/problems/implement-magic-dictionary/",
        "",
        "---"
      ]
    },
    {
      "cell_type": "markdown",
      "metadata": {},
      "source": [
        "## Problem Description",
        "",
        "Design a data structure that is initialized with a list of different words. Provided a string, you should determine if you can change exactly one character in this string to match any word in the data structure.\n\nImplement the&nbsp;MagicDictionary&nbsp;class:\n\n\n\tMagicDictionary()&nbsp;Initializes the object.\n\tvoid buildDict(String[]&nbsp;dictionary)&nbsp;Sets the data structure&nbsp;with an array of distinct strings dictionary.\n\tbool search(String searchWord) Returns true if you can change exactly one character in searchWord to match any string in the data structure, otherwise returns false.\n\n\n&nbsp;\nExample 1:\n\n\nInput\n[&quot;MagicDictionary&quot;, &quot;buildDict&quot;, &quot;search&quot;, &quot;search&quot;, &quot;search&quot;, &quot;search&quot;]\n[[], [[&quot;hello&quot;, &quot;leetcode&quot;]], [&quot;hello&quot;], [&quot;hhllo&quot;], [&quot;hell&quot;], [&quot;leetcoded&quot;]]\nOutput\n[null, null, false, true, false, false]\n\nExplanation\nMagicDictionary magicDictionary = new MagicDictionary();\nmagicDictionary.buildDict([&quot;hello&quot;, &quot;leetcode&quot;]);\nmagicDictionary.search(&quot;hello&quot;); // return False\nmagicDictionary.search(&quot;hhllo&quot;); // We can change the second &#39;h&#39; to &#39;e&#39; to match &quot;hello&quot; so we return True\nmagicDictionary.search(&quot;hell&quot;); // return False\nmagicDictionary.search(&quot;leetcoded&quot;); // return False\n\n\n&nbsp;\nConstraints:\n\n\n\t1 <=&nbsp;dictionary.length <= 100\n\t1 <=&nbsp;dictionary[i].length <= 100\n\tdictionary[i] consists of only lower-case English letters.\n\tAll the strings in&nbsp;dictionary&nbsp;are distinct.\n\t1 <=&nbsp;searchWord.length <= 100\n\tsearchWord&nbsp;consists of only lower-case English letters.\n\tbuildDict&nbsp;will be called only once before search.\n\tAt most 100 calls will be made to search.\n\n"
      ]
    },
    {
      "cell_type": "markdown",
      "metadata": {},
      "source": [
        "## Clarifying Questions",
        "",
        "1. Are there any specific constraints on the length of the words in the dictionary relative to the length of the searchWord, aside from the given limits (1 to 100 characters)? For example, can searchWord be longer or shorter than the words in the dictionary?\n\n2. If the searchWord contains characters that are not present in the dictionary, should the search still return false, or should it be treated differently?\n\n3. Can the same character in the searchWord be changed to multiple different characters (e.g., changing 'a' to 'b' or 'c') in a single search operation, or must it be exactly one character change?\n\n4. Should the implementation handle case sensitivity, or can we assume that all inputs will be in lowercase as specified in the constraints?\n\n5. Are there any performance requirements or constraints on the time complexity for the search operation, especially considering that there can be up to 100 search calls?"
      ]
    },
    {
      "cell_type": "markdown",
      "metadata": {},
      "source": [
        "## Test Edge Cases",
        "",
        "Here are 8 important test edge cases to consider when solving the Magic Dictionary problem:\n\n1. **Empty Dictionary**:\n   - **Input**: `buildDict([])`, `search(\"hello\")`\n   - **Description**: Test the behavior when the dictionary is empty. The search should return `false` since there are no words to match against.\n\n2. **Single Word in Dictionary**:\n   - **Input**: `buildDict([\"hello\"])`, `search(\"hallo\")`, `search(\"hello\")`, `search(\"hell\")`\n   - **Description**: Test with a dictionary containing only one word. The search should return `true` for a one-character change (e.g., \"hallo\"), and `false` for exact matches or words that differ in length.\n\n3. **Maximum Size Dictionary**:\n   - **Input**: `buildDict([\"a\", \"b\", ..., \"z\", \"aa\", ..., \"zz\"])` (100 distinct words), `search(\"a\")`\n   - **Description**: Test the performance and correctness when the dictionary is at its maximum size. Ensure that the search correctly identifies valid one-character changes.\n\n4. **All Words Differ by One Character**:\n   - **Input**: `buildDict([\"abc\", \"bbc\", \"cbc\"])`, `search(\"aac\")`\n   - **Description**: Test a case where all words differ by one character. The search should return `true` for \"aac\" since it can change the first character to match \"abc\".\n\n5. **Long Search Word with No Matches**:\n   - **Input**: `buildDict([\"hello\", \"world\"])`, `search(\"helloo\")`\n   - **Description**: Test a long search word that cannot match any dictionary word with a single character change. The search should return `false`.\n\n6. **Words with Same Length but No Valid Change**:\n   - **Input**: `buildDict([\"abc\", \"def\"])`, `search(\"xyz\")`\n   - **Description**: Test a case where the search word has the same length as the dictionary words but cannot be transformed into any of them with a single character change. The search should return `false`.\n\n7. **Search Word Longer than Any Dictionary Word**:\n   - **Input**: `buildDict([\"hi\", \"there\"])`, `search(\"hello\")`\n   - **Description**: Test a search word that is longer than any word in the dictionary. The search should return `false` since a valid transformation is not possible.\n\n8. **Multiple Valid Transformations**:\n   - **Input**: `buildDict([\"cat\", \"bat\", \"rat\"])`, `search(\"hat\")`\n   - **Description**: Test a search word that can be transformed into multiple dictionary words with a single character change. The search should return `true` since \"hat\" can change to \"cat"
      ]
    },
    {
      "cell_type": "markdown",
      "metadata": {},
      "source": [
        "To solve the problem of implementing a Magic Dictionary, we need to create a data structure that allows us to check if we can change exactly one character in a given string to match any word in a previously defined dictionary. Here's how we can approach this step by step.",
        "",
        "### 1. Approach Explanation",
        "",
        "- **Data Structure**: We'll use a set to store the words from the dictionary. The set allows for O(1) average time complexity for lookups, which is beneficial when searching for matches.",
        "- **Building the Dictionary**: The `buildDict` method will simply populate our set with the provided list of words.",
        "- **Searching**: The `search` method will iterate over each word in the dictionary and check if changing exactly one character in the `searchWord` can yield that word. For each word:",
        "  - We first check if the lengths are the same; if not, we skip it.",
        "  - We then count how many characters differ between the `searchWord` and the current word. If exactly one character differs, we return true. If we find more than one difference during the comparison, we break early and check the next word.",
        "",
        "### 2. Python Code Solution"
      ]
    },
    {
      "cell_type": "code",
      "execution_count": null,
      "metadata": {},
      "outputs": [],
      "source": [
        "class MagicDictionary:",
        "    def __init__(self):",
        "        # Initialize the Magic Dictionary with an empty set",
        "        self.words_set = set()",
        "    ",
        "    def buildDict(self, dictionary):",
        "        # Build the set of words from the given dictionary",
        "        self.words_set = set(dictionary)",
        "    ",
        "    def search(self, searchWord):",
        "        # Iterate through each word in the dictionary",
        "        for word in self.words_set:",
        "            # Only consider words of the same length",
        "            if len(word) == len(searchWord):",
        "                # Count the number of differing characters",
        "                diff_count = sum(1 for a, b in zip(word, searchWord) if a != b)",
        "                # If there is exactly one differing character, return True",
        "                if diff_count == 1:",
        "                    return True",
        "        # If no such word was found, return False",
        "        return False",
        "",
        "# Example usage:",
        "magicDictionary = MagicDictionary()",
        "magicDictionary.buildDict([\"hello\", \"leetcode\"])",
        "print(magicDictionary.search(\"hello\"))    # Output: False",
        "print(magicDictionary.search(\"hhllo\"))    # Output: True",
        "print(magicDictionary.search(\"hell\"))     # Output: False",
        "print(magicDictionary.search(\"leetcoded\")) # Output: False"
      ]
    },
    {
      "cell_type": "markdown",
      "metadata": {},
      "source": [
        "### 3. Time and Space Complexity Analysis",
        "",
        "- **Time Complexity**:",
        "  - The `buildDict` method has a time complexity of O(n), where n is the number of words in the dictionary. This is due to inserting n words into the set.",
        "  - The `search` method has a time complexity of O(m * n), where m is the length of the search word and n is the number of words in the dictionary. For each word in the dictionary, we compare it with the search word, which takes O(m) time.",
        "",
        "- **Space Complexity**:",
        "  - The space complexity is O(n) for storing the words in the set, where n is the number of words in the dictionary. ",
        "",
        "In summary, the implementation efficiently builds a dictionary and allows for quick searches, adhering to the constraints provided in the problem statement."
      ]
    },
    {
      "cell_type": "markdown",
      "metadata": {},
      "source": [
        "---",
        "",
        ""
      ]
    },
    {
      "cell_type": "markdown",
      "metadata": {},
      "source": [
        "# Map Sum Pairs (#677)",
        "",
        "**Difficulty:** Medium  ",
        "**Date:** 2025-08-02 17:09:10  ",
        "**URL:** https://leetcode.com/problems/map-sum-pairs/",
        "",
        "---"
      ]
    },
    {
      "cell_type": "markdown",
      "metadata": {},
      "source": [
        "## Problem Description",
        "",
        "Design a map that allows you to do the following:\n\n\n\tMaps a string key to a given value.\n\tReturns the sum of the values that have a key with a prefix equal to a given string.\n\n\nImplement the MapSum class:\n\n\n\tMapSum() Initializes the MapSum object.\n\tvoid insert(String key, int val) Inserts the key-val pair into the map. If the key already existed, the original key-value pair will be overridden to the new one.\n\tint sum(string prefix) Returns the sum of all the pairs&#39; value whose key starts with the prefix.\n\n\n&nbsp;\nExample 1:\n\n\nInput\n[&quot;MapSum&quot;, &quot;insert&quot;, &quot;sum&quot;, &quot;insert&quot;, &quot;sum&quot;]\n[[], [&quot;apple&quot;, 3], [&quot;ap&quot;], [&quot;app&quot;, 2], [&quot;ap&quot;]]\nOutput\n[null, null, 3, null, 5]\n\nExplanation\nMapSum mapSum = new MapSum();\nmapSum.insert(&quot;apple&quot;, 3);  \nmapSum.sum(&quot;ap&quot;);           // return 3 (apple = 3)\nmapSum.insert(&quot;app&quot;, 2);    \nmapSum.sum(&quot;ap&quot;);           // return 5 (apple + app = 3 + 2 = 5)\n\n\n&nbsp;\nConstraints:\n\n\n\t1 <= key.length, prefix.length <= 50\n\tkey and prefix consist of only lowercase English letters.\n\t1 <= val <= 1000\n\tAt most 50 calls will be made to insert and sum.\n\n"
      ]
    },
    {
      "cell_type": "markdown",
      "metadata": {},
      "source": [
        "## Clarifying Questions",
        "",
        "1. **Key Overriding**: If the same key is inserted multiple times with different values, should the previous value be completely replaced, or should the new value be added to the existing value?\n\n2. **Prefix Behavior**: How should the `sum` method behave if no keys start with the given prefix? Should it return 0, or is there a different expected behavior?\n\n3. **Empty Map Handling**: What should the `sum` method return if it is called before any keys have been inserted into the map?\n\n4. **Performance Considerations**: Are there any specific performance requirements or constraints on the time complexity for the `insert` and `sum` methods that we should be aware of, especially given the maximum number of calls?\n\n5. **Character Set**: Are there any restrictions on the characters that can be used in the keys beyond being lowercase English letters, such as length limits or special characters?"
      ]
    },
    {
      "cell_type": "markdown",
      "metadata": {},
      "source": [
        "## Test Edge Cases",
        "",
        "Here are important edge cases to consider when solving the \"Map Sum Pairs\" problem:\n\n1. **Empty Map Initialization**:\n   - **Input**: `MapSum()`, `sum(\"a\")`\n   - **Description**: Test the behavior of the `sum` method when called on an empty map. It should return 0 since no keys are present.\n\n2. **Single Insert and Sum**:\n   - **Input**: `MapSum()`, `insert(\"a\", 5)`, `sum(\"a\")`\n   - **Description**: Verify that inserting a single key-value pair and then summing with the exact key returns the correct value (5).\n\n3. **Prefix with No Matches**:\n   - **Input**: `MapSum()`, `insert(\"apple\", 3)`, `sum(\"banana\")`\n   - **Description**: Test the `sum` method with a prefix that does not match any inserted keys. It should return 0.\n\n4. **Overriding Existing Key**:\n   - **Input**: `MapSum()`, `insert(\"apple\", 3)`, `insert(\"apple\", 4)`, `sum(\"ap\")`\n   - **Description**: Check that overriding an existing key updates the value correctly. The sum for the prefix \"ap\" should reflect the new value (4).\n\n5. **Multiple Keys with Common Prefix**:\n   - **Input**: `MapSum()`, `insert(\"app\", 2)`, `insert(\"apricot\", 5)`, `insert(\"apple\", 3)`, `sum(\"ap\")`\n   - **Description**: Ensure that the `sum` method correctly aggregates values for multiple keys sharing the same prefix. The expected result should be 10 (2 + 5 + 3).\n\n6. **Handling Maximum Length Keys**:\n   - **Input**: `MapSum()`, `insert(\"a\"*50, 10)`, `sum(\"a\"*50)`\n   - **Description**: Test the behavior when inserting and summing keys that are at the maximum allowed length (50 characters). Ensure it handles long strings without errors.\n\n7. **Performance with Many Inserts**:\n   - **Input**: `MapSum()`, `insert(\"key1\", 1)`, `insert(\"key2\", 2)`, ..., `insert(\"key50\", 50)`, `sum(\"key\")`\n   - **Description**: Assess performance and correctness when inserting the maximum number of keys (50) and summing with a common prefix. The expected result should be the sum of values from 1 to 50.\n\n8. **Prefix with Mixed Case Keys**:\n   - **Input**: `MapSum()`, `insert(\"apple\", 3)`, `insert(\"App\", 2)`, `sum(\"ap\")`\n   - **Description"
      ]
    },
    {
      "cell_type": "markdown",
      "metadata": {},
      "source": [
        "### 1. Approach Explanation",
        "",
        "To solve the \"Map Sum Pairs\" problem efficiently, we can utilize a data structure called a Trie (prefix tree). This structure allows us to store strings in such a way that common prefixes are shared among the keys. ",
        "",
        "Here's the breakdown of our approach:",
        "",
        "- **Insertion**: When we insert a key-value pair, we will:",
        "  - Traverse the Trie based on the characters of the key.",
        "  - If a node for a character does not exist, we create it.",
        "  - At each node, we will maintain a cumulative sum of values for all keys that pass through that node (i.e., share that prefix).",
        "",
        "- **Sum Calculation**: To calculate the sum for a given prefix:",
        "  - Traverse the Trie according to the characters in the prefix.",
        "  - Once the prefix ends, we can directly return the cumulative sum stored at the last node of the prefix.",
        "",
        "This approach is efficient because it allows both insertions and sum queries to be done in O(m) time complexity, where m is the length of the key or prefix being processed.",
        "",
        "### 2. Python Code Solution",
        "",
        "Here's the implementation of the `MapSum` class using a Trie:"
      ]
    },
    {
      "cell_type": "code",
      "execution_count": null,
      "metadata": {},
      "outputs": [],
      "source": [
        "class TrieNode:",
        "    def __init__(self):",
        "        self.children = {}",
        "        self.value_sum = 0  # Cumulative sum of values at this node",
        "",
        "class MapSum:",
        "    def __init__(self):",
        "        # Initializes the root of the Trie",
        "        self.root = TrieNode()",
        "        self.key_value_map = {}  # To keep track of actual key-value pairs",
        "",
        "    def insert(self, key: str, val: int) -> None:",
        "        # If the key already exists, we need to adjust the sums",
        "        if key in self.key_value_map:",
        "            # Get the old value and subtract it from the prefix sums",
        "            old_value = self.key_value_map[key]",
        "            self._update_sum(key, -old_value)",
        "",
        "        # Insert the new value into the map",
        "        self.key_value_map[key] = val",
        "        # Update the sums in the Trie",
        "        self._update_sum(key, val)",
        "",
        "    def _update_sum(self, key: str, delta: int) -> None:",
        "        # Traverse the Trie and update the sums",
        "        node = self.root",
        "        for char in key:",
        "            if char not in node.children:",
        "                node.children[char] = TrieNode()",
        "            node = node.children[char]",
        "            node.value_sum += delta  # Update the cumulative sum",
        "",
        "    def sum(self, prefix: str) -> int:",
        "        # Traverse the Trie to find the sum for the prefix",
        "        node = self.root",
        "        for char in prefix:",
        "            if char not in node.children:",
        "                return 0  # If the prefix doesn't exist, return 0",
        "            node = node.children[char]",
        "        return node.value_sum  # Return the cumulative sum for the prefix",
        "",
        "# Example of usage",
        "mapSum = MapSum()",
        "mapSum.insert(\"apple\", 3)",
        "print(mapSum.sum(\"ap\"))  # Output: 3",
        "mapSum.insert(\"app\", 2)",
        "print(mapSum.sum(\"ap\"))  # Output: 5"
      ]
    },
    {
      "cell_type": "markdown",
      "metadata": {},
      "source": [
        "### 3. Time and Space Complexity Analysis",
        "",
        "- **Time Complexity**:",
        "  - `insert(key, val)`: O(m), where m is the length of the key. We traverse each character in the key and update the cumulative sums.",
        "  - `sum(prefix)`: O(p), where p is the length of the prefix. We traverse each character in the prefix to get the cumulative sum.",
        "  ",
        "  Hence, both operations are efficient with a time complexity of O(m) and O(p) respectively.",
        "",
        "- **Space Complexity**:",
        "  - The space complexity is O(n * m) in the worst case, where n is the number of keys inserted and m is the average length of the keys. This is due to the storage of nodes in the Trie.",
        "",
        "Overall, the Trie structure allows for efficient insertion and querying of cumulative sums based on prefixes, making this solution optimal for the problem requirements."
      ]
    },
    {
      "cell_type": "markdown",
      "metadata": {},
      "source": [
        "---",
        "",
        ""
      ]
    },
    {
      "cell_type": "markdown",
      "metadata": {},
      "source": [
        "# Longest Word in Dictionary (#720)",
        "",
        "**Difficulty:** Medium  ",
        "**Date:** 2025-08-02 22:35:44  ",
        "**URL:** https://leetcode.com/problems/longest-word-in-dictionary/",
        "",
        "---"
      ]
    },
    {
      "cell_type": "markdown",
      "metadata": {},
      "source": [
        "## Problem Description",
        "",
        "Given an array of strings words representing an English Dictionary, return the longest word in words that can be built one character at a time by other words in words.\n\nIf there is more than one possible answer, return the longest word with the smallest lexicographical order. If there is no answer, return the empty string.\n\nNote that the word should be built from left to right with each additional character being added to the end of a previous word.&nbsp;\n\n&nbsp;\nExample 1:\n\n\nInput: words = [&quot;w&quot;,&quot;wo&quot;,&quot;wor&quot;,&quot;worl&quot;,&quot;world&quot;]\nOutput: &quot;world&quot;\nExplanation: The word &quot;world&quot; can be built one character at a time by &quot;w&quot;, &quot;wo&quot;, &quot;wor&quot;, and &quot;worl&quot;.\n\n\nExample 2:\n\n\nInput: words = [&quot;a&quot;,&quot;banana&quot;,&quot;app&quot;,&quot;appl&quot;,&quot;ap&quot;,&quot;apply&quot;,&quot;apple&quot;]\nOutput: &quot;apple&quot;\nExplanation: Both &quot;apply&quot; and &quot;apple&quot; can be built from other words in the dictionary. However, &quot;apple&quot; is lexicographically smaller than &quot;apply&quot;.\n\n\n&nbsp;\nConstraints:\n\n\n\t1 <= words.length <= 1000\n\t1 <= words[i].length <= 30\n\twords[i] consists of lowercase English letters.\n\n"
      ]
    },
    {
      "cell_type": "markdown",
      "metadata": {},
      "source": [
        "## Clarifying Questions",
        "",
        "1. Are there any specific constraints on the characters used in the words, or can they include any lowercase English letters as stated in the problem description?\n\n2. How should we handle duplicate words in the input array? Should they be considered multiple times, or can we assume all words are unique?\n\n3. In the case where multiple words have the same length and can be built from other words, is it guaranteed that the input will be sorted in lexicographical order, or should we implement our own sorting mechanism?\n\n4. What should the output be if there are no valid words that can be built from the dictionary? Is returning an empty string the only acceptable output?\n\n5. Are there any performance constraints we should be aware of, particularly regarding the maximum size of the input array and the length of the words, given that the maximum length of words is 30 and the maximum number of words is 1000?"
      ]
    },
    {
      "cell_type": "markdown",
      "metadata": {},
      "source": [
        "## Test Edge Cases",
        "",
        "Here are important test edge cases to consider for the \"Longest Word in Dictionary\" problem:\n\n1. **Empty Input**:\n   - **Input**: `words = []`\n   - **Description**: Tests the function's handling of an empty dictionary. The expected output should be an empty string since there are no words to build.\n\n2. **Single Character Word**:\n   - **Input**: `words = [\"a\"]`\n   - **Description**: Tests the simplest case where there is only one word. The expected output should be \"a\".\n\n3. **Single Word with No Buildable Prefixes**:\n   - **Input**: `words = [\"xyz\"]`\n   - **Description**: Tests the case where the only word cannot be built from any prefixes. The expected output should be an empty string.\n\n4. **All Words of Same Length**:\n   - **Input**: `words = [\"a\", \"b\", \"c\", \"d\"]`\n   - **Description**: Tests the scenario where all words are of the same length and cannot be built from each other. The expected output should be \"a\" (the lexicographically smallest).\n\n5. **Multiple Words with Shared Prefixes**:\n   - **Input**: `words = [\"a\", \"ap\", \"app\", \"appl\", \"apple\", \"applet\"]`\n   - **Description**: Tests the function's ability to identify the longest word that can be built from prefixes. The expected output should be \"apple\".\n\n6. **Duplicate Words**:\n   - **Input**: `words = [\"a\", \"a\", \"a\", \"ap\", \"app\", \"appl\", \"apple\"]`\n   - **Description**: Tests how the function handles duplicate entries in the dictionary. The expected output should still be \"apple\".\n\n7. **Maximum Size Input**:\n   - **Input**: `words = [\"a\" * i for i in range(1, 1001)]` (i.e., [\"a\", \"aa\", \"aaa\", ..., \"a\" * 1000])\n   - **Description**: Tests the performance and handling of the maximum input size. The expected output should be \"a\" * 1000.\n\n8. **Lexicographical Order with Same Length**:\n   - **Input**: `words = [\"bat\", \"bats\", \"batman\", \"batwoman\", \"batgirl\"]`\n   - **Description**: Tests the scenario where multiple words of the same length can be built from prefixes, ensuring the function returns the lexicographically smallest one. The expected output should be \"batgirl\".\n\nThese edge cases cover a range of scenarios, including boundary conditions, special values, and performance considerations, ensuring a robust testing strategy for the problem."
      ]
    },
    {
      "cell_type": "markdown",
      "metadata": {},
      "source": [
        "### Approach",
        "",
        "To solve the problem of finding the longest word in a dictionary that can be built one character at a time, we can take the following approach:",
        "",
        "1. **Use a Set for Fast Lookup**: Store all words in a set for O(1) average time complexity for lookup operations. This will help us quickly check if a word can be formed by its prefixes.",
        "",
        "2. **Sort the Words**: Sort the words first by length (descending) and then lexicographically (ascending). This way, when we iterate through the sorted list, the first valid word we find will be the longest and smallest in lexicographical order.",
        "",
        "3. **Check Prefixes**: For each word, check if all its prefixes (i.e., all the substrings formed by removing the last character one at a time) are present in the set. If all prefixes are present, then the word can be built character by character.",
        "",
        "4. **Return the Result**: As soon as we find a valid word, we return it. If no valid word is found, return an empty string.",
        "",
        "### Python Code Solution",
        "",
        "Here's the implementation of the approach described above:"
      ]
    },
    {
      "cell_type": "code",
      "execution_count": null,
      "metadata": {},
      "outputs": [],
      "source": [
        "def longestWord(words):",
        "    # Step 1: Add all words to a set for quick lookup",
        "    word_set = set(words)",
        "    ",
        "    # Step 2: Sort words first by length and then lexicographically",
        "    words.sort(key=lambda x: (-len(x), x))",
        "    ",
        "    # Step 3: Check each word to see if all its prefixes are in the set",
        "    for word in words:",
        "        # Check if all prefixes of the word are in the set",
        "        # We only need to check prefixes of length 1 to len(word) - 1",
        "        if all(word[:k] in word_set for k in range(1, len(word))):",
        "            return word  # Return the first valid word found",
        "    ",
        "    # If no valid word is found, return an empty string",
        "    return \"\"",
        "",
        "# Example usage",
        "words1 = [\"w\", \"wo\", \"wor\", \"worl\", \"world\"]",
        "print(longestWord(words1))  # Output: \"world\"",
        "",
        "words2 = [\"a\", \"banana\", \"app\", \"appl\", \"ap\", \"apply\", \"apple\"]",
        "print(longestWord(words2))  # Output: \"apple\""
      ]
    },
    {
      "cell_type": "markdown",
      "metadata": {},
      "source": [
        "### Time and Space Complexity Analysis",
        "",
        "1. **Time Complexity**:",
        "   - Inserting all words into the set takes O(n), where n is the number of words.",
        "   - Sorting the words takes O(n log n).",
        "   - Checking each word against its prefixes involves iterating through the characters, which can take up to O(m) for each word (where m is the length of the longest word). In the worst case, this could be O(n * m).",
        "   - Overall, the time complexity is O(n log n + n * m), but since m is relatively small compared to n, we can consider the dominant term to be O(n log n).",
        "",
        "2. **Space Complexity**:",
        "   - The space used for the set is O(n) to store all the words.",
        "   - The space used for sorting the words is O(n) as well.",
        "   - Thus, the overall space complexity is O(n).",
        "",
        "This approach efficiently finds the longest word that can be built character by character while ensuring that we adhere to the constraints of the problem."
      ]
    },
    {
      "cell_type": "markdown",
      "metadata": {},
      "source": [
        "---",
        "",
        ""
      ]
    },
    {
      "cell_type": "markdown",
      "metadata": {},
      "source": [
        "# Prefix and Suffix Search (#745)",
        "",
        "**Difficulty:** Hard  ",
        "**Date:** 2025-08-02 22:36:14  ",
        "**URL:** https://leetcode.com/problems/prefix-and-suffix-search/",
        "",
        "---"
      ]
    },
    {
      "cell_type": "markdown",
      "metadata": {},
      "source": [
        "## Problem Description",
        "",
        "Design a special dictionary that searches the words in it by a prefix and a suffix.\n\nImplement the WordFilter class:\n\n\n\tWordFilter(string[] words) Initializes the object with the words in the dictionary.\n\tf(string pref, string suff) Returns the index of the word in the dictionary, which has the prefix pref and the suffix suff. If there is more than one valid index, return the largest of them. If there is no such word in the dictionary, return -1.\n\n\n&nbsp;\nExample 1:\n\n\nInput\n[&quot;WordFilter&quot;, &quot;f&quot;]\n[[[&quot;apple&quot;]], [&quot;a&quot;, &quot;e&quot;]]\nOutput\n[null, 0]\nExplanation\nWordFilter wordFilter = new WordFilter([&quot;apple&quot;]);\nwordFilter.f(&quot;a&quot;, &quot;e&quot;); // return 0, because the word at index 0 has prefix = &quot;a&quot; and suffix = &quot;e&quot;.\n\n\n&nbsp;\nConstraints:\n\n\n\t1 <= words.length <= 104\n\t1 <= words[i].length <= 7\n\t1 <= pref.length, suff.length <= 7\n\twords[i], pref and suff consist of lowercase English letters only.\n\tAt most 104 calls will be made to the function f.\n\n"
      ]
    },
    {
      "cell_type": "markdown",
      "metadata": {},
      "source": [
        "## Clarifying Questions",
        "",
        "1. Are there any specific edge cases we should consider, such as handling empty strings for prefixes or suffixes, or what should happen if the input list of words is empty?\n\n2. In the case of multiple valid indices for a word that matches the prefix and suffix, can you confirm that we should always return the largest index, and is there a specific way to handle ties?\n\n3. Can you clarify if the search function `f` should be case-sensitive, or should it treat uppercase and lowercase letters as equivalent?\n\n4. What is the expected behavior if the prefix or suffix is longer than any of the words in the dictionary? Should we return -1 immediately in such cases?\n\n5. Are there any performance constraints or expectations regarding the time complexity of the `f` function, especially considering that it may be called up to 10,000 times?"
      ]
    },
    {
      "cell_type": "markdown",
      "metadata": {},
      "source": [
        "## Test Edge Cases",
        "",
        "Here are 8 important test edge cases to consider for the \"Prefix and Suffix Search\" problem:\n\n1. **Empty Input**:\n   - Input: `WordFilter([])`\n   - Test the behavior when no words are provided. Calling `f(\"a\", \"e\")` should return `-1` since there are no words to match.\n\n2. **Single Element Match**:\n   - Input: `WordFilter([\"a\"])`\n   - Test with a single character word. Calling `f(\"a\", \"a\")` should return `0`, while `f(\"a\", \"b\")` should return `-1`.\n\n3. **Single Element No Match**:\n   - Input: `WordFilter([\"apple\"])`\n   - Test with a single word that does not match the prefix and suffix. Calling `f(\"b\", \"c\")` should return `-1`.\n\n4. **Multiple Words with Same Prefix/Suffix**:\n   - Input: `WordFilter([\"apple\", \"ape\", \"apricot\"])`\n   - Test with multiple words that share the same prefix and suffix. Calling `f(\"ap\", \"e\")` should return `1` (the index of \"ape\"), and `f(\"ap\", \"t\")` should return `2` (the index of \"apricot\").\n\n5. **Words with Overlapping Prefixes and Suffixes**:\n   - Input: `WordFilter([\"bat\", \"cat\", \"hat\", \"batman\"])`\n   - Test with words that have overlapping prefixes and suffixes. Calling `f(\"ba\", \"at\")` should return `3` (the index of \"batman\"), while `f(\"b\", \"t\")` should return `3`.\n\n6. **Maximum Size Input**:\n   - Input: `WordFilter([\"a\" * 7] * 10**4)` (10,000 words of \"aaaaaaa\")\n   - Test the performance with the maximum number of words. Calling `f(\"a\", \"a\")` should return `9999`, and `f(\"b\", \"c\")` should return `-1`.\n\n7. **Duplicate Words**:\n   - Input: `WordFilter([\"apple\", \"apple\", \"banana\"])`\n   - Test with duplicate words. Calling `f(\"ap\", \"e\")` should return `1` (the index of the last \"apple\").\n\n8. **Prefix and Suffix Lengths Greater than Word Length**:\n   - Input: `WordFilter([\"abc\"])`\n   - Test with a prefix or suffix longer than the word. Calling `f(\"abcd\", \"efg\")` should return `-1`, as neither the prefix nor suffix can match.\n\nThese test cases cover a variety of edge cases, including empty inputs, single elements, duplicates, and performance considerations, ensuring a robust evaluation of the `WordFilter` implementation."
      ]
    },
    {
      "cell_type": "markdown",
      "metadata": {},
      "source": [
        "### Step-by-Step Explanation of the Approach",
        "",
        "To solve the problem of designing a dictionary that efficiently searches for words by a given prefix and suffix, we can utilize a data structure that allows for quick access to the words based on their prefixes and suffixes. Here’s how we can approach the problem:",
        "",
        "1. **Data Structure Choice**: ",
        "   - We will use a Trie (prefix tree) to store all possible prefixes and their corresponding indices. This allows us to quickly find all words that start with a given prefix.",
        "   - We can also store suffixes in a similar manner. However, since we need to check for both prefixes and suffixes simultaneously, we can combine both requirements into a single structure.",
        "",
        "2. **Combining Prefixes and Suffixes**:",
        "   - For each word, we can store its index in a manner that allows us to find it based on prefix and suffix. ",
        "   - We can create a mapping of all possible combinations of prefixes and suffixes. For example, if the word is \"apple\", we can store it for all prefixes and suffixes of lengths from 1 to the length of the word.",
        "",
        "3. **Querying**:",
        "   - When we receive a query with a prefix and a suffix, we can check the stored indices for words that match the prefix and suffix and return the maximum index.",
        "",
        "### Python Code Solution"
      ]
    },
    {
      "cell_type": "code",
      "execution_count": null,
      "metadata": {},
      "outputs": [],
      "source": [
        "class WordFilter:",
        "    def __init__(self, words):",
        "        self.words = words",
        "        self.map = {}",
        "        ",
        "        # Iterate through each word and store all possible prefix-suffix combinations",
        "        for index, word in enumerate(words):",
        "            # Generate all prefix-suffix combinations",
        "            for i in range(len(word) + 1):",
        "                for j in range(len(word) + 1):",
        "                    prefix = word[:i]  # Prefix of length i",
        "                    suffix = word[j:]  # Suffix of length j",
        "                    # Store the index of the word for the combination of prefix and suffix",
        "                    self.map[(prefix, suffix)] = index",
        "",
        "    def f(self, pref, suff):",
        "        # Return the index of the word that matches the prefix and suffix",
        "        return self.map.get((pref, suff), -1)",
        "",
        "# Example usage:",
        "wordFilter = WordFilter([\"apple\"])",
        "print(wordFilter.f(\"a\", \"e\"))  # Output: 0"
      ]
    },
    {
      "cell_type": "markdown",
      "metadata": {},
      "source": [
        "### Code Explanation",
        "- The `WordFilter` class is initialized with a list of words. It constructs a dictionary (`map`) to store pairs of prefixes and suffixes along with their indices.",
        "- In the `__init__` method, we loop through each word, generating all possible prefixes and suffixes. We store each combination in the dictionary with the index of the word.",
        "- The `f` method takes a prefix and suffix as input and returns the index of the word that matches both. If no such word exists, it returns -1.",
        "",
        "### Time and Space Complexity Analysis",
        "- **Time Complexity**:",
        "  - The initialization (`__init__` method) builds the prefix-suffix map: ",
        "    - For each word of length \\( L \\), we generate \\( L^2 \\) combinations (since we can choose prefixes of length up to \\( L \\) and suffixes of length up to \\( L \\)). This makes the time complexity for initialization \\( O(N \\cdot L^2) \\), where \\( N \\) is the number of words and \\( L \\) is the maximum length of the words.",
        "  - The query time (`f` method) is \\( O(1) \\) because it involves a dictionary lookup.",
        "",
        "- **Space Complexity**:",
        "  - The space complexity is \\( O(N \\cdot L^2) \\) due to the storage of all prefix-suffix combinations in the dictionary.",
        "",
        "Thus, the solution is efficient and meets the problem constraints effectively."
      ]
    },
    {
      "cell_type": "markdown",
      "metadata": {},
      "source": [
        "---",
        "",
        ""
      ]
    },
    {
      "cell_type": "markdown",
      "metadata": {},
      "source": [
        "# Stream of Characters (#1032)",
        "",
        "**Difficulty:** Hard  ",
        "**Date:** 2025-08-04 23:37:07  ",
        "**URL:** https://leetcode.com/problems/stream-of-characters/",
        "",
        "---"
      ]
    },
    {
      "cell_type": "markdown",
      "metadata": {},
      "source": [
        "## Problem Description",
        "",
        "Design an algorithm that accepts a stream of characters and checks if a suffix of these characters is a string of a given array of strings words.\n\nFor example, if words = [&quot;abc&quot;, &quot;xyz&quot;]&nbsp;and the stream added the four characters (one by one) &#39;a&#39;, &#39;x&#39;, &#39;y&#39;, and &#39;z&#39;, your algorithm should detect that the suffix &quot;xyz&quot; of the characters &quot;axyz&quot; matches &quot;xyz&quot; from words.\n\nImplement the StreamChecker class:\n\n\n\tStreamChecker(String[] words) Initializes the object with the strings array words.\n\tboolean query(char letter) Accepts a new character from the stream and returns true if any non-empty suffix from the stream forms a word that is in words.\n\n\n&nbsp;\nExample 1:\n\n\nInput\n[&quot;StreamChecker&quot;, &quot;query&quot;, &quot;query&quot;, &quot;query&quot;, &quot;query&quot;, &quot;query&quot;, &quot;query&quot;, &quot;query&quot;, &quot;query&quot;, &quot;query&quot;, &quot;query&quot;, &quot;query&quot;, &quot;query&quot;]\n[[[&quot;cd&quot;, &quot;f&quot;, &quot;kl&quot;]], [&quot;a&quot;], [&quot;b&quot;], [&quot;c&quot;], [&quot;d&quot;], [&quot;e&quot;], [&quot;f&quot;], [&quot;g&quot;], [&quot;h&quot;], [&quot;i&quot;], [&quot;j&quot;], [&quot;k&quot;], [&quot;l&quot;]]\nOutput\n[null, false, false, false, true, false, true, false, false, false, false, false, true]\n\nExplanation\nStreamChecker streamChecker = new StreamChecker([&quot;cd&quot;, &quot;f&quot;, &quot;kl&quot;]);\nstreamChecker.query(&quot;a&quot;); // return False\nstreamChecker.query(&quot;b&quot;); // return False\nstreamChecker.query(&quot;c&quot;); // return False\nstreamChecker.query(&quot;d&quot;); // return True, because &#39;cd&#39; is in the wordlist\nstreamChecker.query(&quot;e&quot;); // return False\nstreamChecker.query(&quot;f&quot;); // return True, because &#39;f&#39; is in the wordlist\nstreamChecker.query(&quot;g&quot;); // return False\nstreamChecker.query(&quot;h&quot;); // return False\nstreamChecker.query(&quot;i&quot;); // return False\nstreamChecker.query(&quot;j&quot;); // return False\nstreamChecker.query(&quot;k&quot;); // return False\nstreamChecker.query(&quot;l&quot;); // return True, because &#39;kl&#39; is in the wordlist\n\n\n&nbsp;\nConstraints:\n\n\n\t1 <= words.length <= 2000\n\t1 <= words[i].length <= 200\n\twords[i] consists of lowercase English letters.\n\tletter is a lowercase English letter.\n\tAt most 4 * 104 calls will be made to query.\n\n"
      ]
    },
    {
      "cell_type": "markdown",
      "metadata": {},
      "source": [
        "## Clarifying Questions",
        "",
        "1. **What should the behavior be if the same character is queried multiple times?** Should the suffix check be cumulative, or should it only consider the most recent characters in the stream?\n\n2. **How should the algorithm handle cases where the input `words` array is empty?** Should the `query` method always return `false` in this scenario?\n\n3. **Are there any specific performance requirements or constraints on the time complexity for the `query` method?** For example, is there a maximum time limit for each query operation that we should be aware of?\n\n4. **What should happen if a queried character does not lead to a valid suffix?** Should the method return `false`, or is there any additional behavior expected?\n\n5. **Is there a need to handle or consider any special characters or cases beyond lowercase English letters in the input?** For instance, should we assume all inputs will strictly follow the constraints provided?"
      ]
    },
    {
      "cell_type": "markdown",
      "metadata": {},
      "source": [
        "## Test Edge Cases",
        "",
        "Here are 8 important test edge cases to consider for the \"Stream of Characters\" problem:\n\n1. **Empty Words List**:\n   - Input: `words = []`, followed by multiple queries.\n   - Description: Test the behavior when the words list is empty. All queries should return `false`.\n\n2. **Single Character Word**:\n   - Input: `words = [\"a\"]`, followed by queries for each letter of the alphabet.\n   - Description: Check if the stream correctly identifies the single character word when queried.\n\n3. **Single Word with Multiple Queries**:\n   - Input: `words = [\"abc\"]`, followed by queries that build the suffix \"abc\".\n   - Description: Ensure that the stream correctly detects the suffix \"abc\" after the characters 'a', 'b', and 'c' are queried sequentially.\n\n4. **Multiple Words with Overlapping Suffixes**:\n   - Input: `words = [\"abc\", \"bc\", \"c\"]`, followed by queries that build the suffixes.\n   - Description: Test if the stream can handle multiple words with overlapping suffixes and return `true` for the correct suffix.\n\n5. **Maximum Size Words List**:\n   - Input: `words = [\"a\" * 200] * 2000` (2000 words of 200 characters each), followed by a sequence of queries.\n   - Description: Check performance and correctness when the maximum constraints are reached.\n\n6. **Long Queries with No Matches**:\n   - Input: `words = [\"xyz\"]`, followed by queries that build a long string of characters that do not match any suffix.\n   - Description: Verify that the stream correctly returns `false` for a long sequence of characters that do not match any suffix.\n\n7. **Duplicate Words in the List**:\n   - Input: `words = [\"abc\", \"abc\", \"abc\"]`, followed by queries that build the suffix \"abc\".\n   - Description: Ensure that the presence of duplicate words does not affect the detection of valid suffixes.\n\n8. **Immediate Match After Several Non-Matches**:\n   - Input: `words = [\"xyz\"]`, followed by queries that first produce several `false` results before finally producing a `true` result.\n   - Description: Test the stream's ability to correctly identify a valid suffix after a series of invalid queries.\n\nThese test cases cover a range of scenarios including boundary conditions, special values, performance considerations, and corner cases specific to the problem domain."
      ]
    },
    {
      "cell_type": "markdown",
      "metadata": {},
      "source": [
        "To solve the \"Stream of Characters\" problem, we need to design a system that efficiently checks if any suffix of a stream of characters matches a word from a given list. Given the constraints, a naive approach that checks each suffix against the list of words would be too slow, especially with up to 40,000 queries.",
        "",
        "### Approach",
        "",
        "1. **Reverse the Words**: Since we are interested in suffixes, we can reverse the words and store them in a set or trie data structure. This allows us to check suffix matches efficiently.",
        "",
        "2. **Using a Trie (Prefix Tree)**: We can build a trie from the reversed words. A trie allows us to store characters in a tree structure, where each path from the root to a node represents a prefix of some word. In our case, we will insert the reversed words into the trie.",
        "",
        "3. **Stream Processing**: As we process each character from the stream:",
        "   - We will keep adding characters to a list to represent the current stream.",
        "   - We will traverse the trie starting from the last character added to check if any path in the trie matches a reversed word. If we find a match, we return `True`.",
        "",
        "4. **Efficiency**: By utilizing a trie, we can quickly check for matches without needing to compare every suffix explicitly.",
        "",
        "### Python Code Solution",
        "",
        "Here's how we can implement the above approach in Python:"
      ]
    },
    {
      "cell_type": "code",
      "execution_count": null,
      "metadata": {},
      "outputs": [],
      "source": [
        "class TrieNode:",
        "    def __init__(self):",
        "        self.children = {}",
        "        self.is_end_of_word = False",
        "",
        "class Trie:",
        "    def __init__(self):",
        "        self.root = TrieNode()",
        "",
        "    def insert(self, word: str):",
        "        node = self.root",
        "        for char in word:",
        "            if char not in node.children:",
        "                node.children[char] = TrieNode()",
        "            node = node.children[char]",
        "        node.is_end_of_word = True",
        "",
        "class StreamChecker:",
        "    def __init__(self, words: list):",
        "        self.trie = Trie()",
        "        self.stream = []",
        "        ",
        "        # Reverse the words and insert them into the trie",
        "        for word in words:",
        "            self.trie.insert(word[::-1])  # Insert reversed word",
        "",
        "    def query(self, letter: str) -> bool:",
        "        # Add the latest letter to the stream",
        "        self.stream.append(letter)",
        "",
        "        # Start checking from the last character in the stream",
        "        node = self.trie.root",
        "        for char in reversed(self.stream):  # Check in reverse",
        "            if char in node.children:",
        "                node = node.children[char]",
        "                if node.is_end_of_word:",
        "                    return True",
        "            else:",
        "                break  # No need to check further if the path breaks",
        "",
        "        return False"
      ]
    },
    {
      "cell_type": "markdown",
      "metadata": {},
      "source": [
        "### Time and Space Complexity Analysis",
        "",
        "1. **Time Complexity**:",
        "   - **Insert Operation**: Inserting a word into the trie takes O(L) time, where L is the length of the word. In the worst case, if we have W words, the total complexity for building the trie is O(W * L).",
        "   - **Query Operation**: Each query involves checking up to the length of the longest word in the trie, which is O(L). Since we process each character in the stream, the total complexity for Q queries is O(Q * L).",
        "",
        "2. **Space Complexity**:",
        "   - The space complexity is mainly determined by the trie. The space required for the trie can be O(W * L) in the worst case if all words are unique and have no shared prefixes. Additionally, we use O(S) space to store the current stream of characters, where S is the length of the stream.",
        "",
        "Overall, the approach is efficient and scales well with the constraints provided in the problem."
      ]
    },
    {
      "cell_type": "markdown",
      "metadata": {},
      "source": [
        "---",
        "",
        ""
      ]
    },
    {
      "cell_type": "markdown",
      "metadata": {},
      "source": [
        "# Search Suggestions System (#1268)",
        "",
        "**Difficulty:** Medium  ",
        "**Date:** 2025-08-04 23:42:03  ",
        "**URL:** https://leetcode.com/problems/search-suggestions-system/",
        "",
        "---"
      ]
    },
    {
      "cell_type": "markdown",
      "metadata": {},
      "source": [
        "## Problem Description",
        "",
        "You are given an array of strings products and a string searchWord.\n\nDesign a system that suggests at most three product names from products after each character of searchWord is typed. Suggested products should have common prefix with searchWord. If there are more than three products with a common prefix return the three lexicographically minimums products.\n\nReturn a list of lists of the suggested products after each character of searchWord is typed.\n\n&nbsp;\nExample 1:\n\n\nInput: products = [&quot;mobile&quot;,&quot;mouse&quot;,&quot;moneypot&quot;,&quot;monitor&quot;,&quot;mousepad&quot;], searchWord = &quot;mouse&quot;\nOutput: [[&quot;mobile&quot;,&quot;moneypot&quot;,&quot;monitor&quot;],[&quot;mobile&quot;,&quot;moneypot&quot;,&quot;monitor&quot;],[&quot;mouse&quot;,&quot;mousepad&quot;],[&quot;mouse&quot;,&quot;mousepad&quot;],[&quot;mouse&quot;,&quot;mousepad&quot;]]\nExplanation: products sorted lexicographically = [&quot;mobile&quot;,&quot;moneypot&quot;,&quot;monitor&quot;,&quot;mouse&quot;,&quot;mousepad&quot;].\nAfter typing m and mo all products match and we show user [&quot;mobile&quot;,&quot;moneypot&quot;,&quot;monitor&quot;].\nAfter typing mou, mous and mouse the system suggests [&quot;mouse&quot;,&quot;mousepad&quot;].\n\n\nExample 2:\n\n\nInput: products = [&quot;havana&quot;], searchWord = &quot;havana&quot;\nOutput: [[&quot;havana&quot;],[&quot;havana&quot;],[&quot;havana&quot;],[&quot;havana&quot;],[&quot;havana&quot;],[&quot;havana&quot;]]\nExplanation: The only word &quot;havana&quot; will be always suggested while typing the search word.\n\n\n&nbsp;\nConstraints:\n\n\n\t1 <= products.length <= 1000\n\t1 <= products[i].length <= 3000\n\t1 <= sum(products[i].length) <= 2 * 104\n\tAll the strings of products are unique.\n\tproducts[i] consists of lowercase English letters.\n\t1 <= searchWord.length <= 1000\n\tsearchWord consists of lowercase English letters.\n\n"
      ]
    },
    {
      "cell_type": "markdown",
      "metadata": {},
      "source": [
        "## Clarifying Questions",
        "",
        "1. **What should the output look like if there are fewer than three products that match the prefix?** Should we return all available matches, or is there a specific format we should adhere to?\n\n2. **How should we handle cases where the `searchWord` is an empty string?** Should we return an empty list of suggestions, or is there a default behavior we should implement?\n\n3. **Are there any specific performance constraints we should be aware of, especially considering the maximum length of `products` and `searchWord`?** For example, is there a time limit for how quickly the suggestions need to be generated after each character input?\n\n4. **What should we do if the `products` array contains products that are substrings of others?** For instance, if we have \"mouse\" and \"mousepad,\" should both be suggested when the prefix is \"mouse\"?\n\n5. **Is it guaranteed that all strings in `products` are unique, and can we assume that `searchWord` will not contain any characters that are not present in the `products`?** This will help clarify if we need to handle any special cases regarding duplicates or invalid characters."
      ]
    },
    {
      "cell_type": "markdown",
      "metadata": {},
      "source": [
        "## Test Edge Cases",
        "",
        "Here are 8 important test edge cases to consider for the \"Search Suggestions System\" problem:\n\n1. **Empty Products List**:\n   - **Input**: `products = []`, `searchWord = \"test\"`\n   - **Description**: Tests the behavior when there are no products available. The output should be a list of empty lists for each character typed in the search word.\n\n2. **Single Product**:\n   - **Input**: `products = [\"apple\"]`, `searchWord = \"apple\"`\n   - **Description**: Tests the case where there is only one product. The output should consistently suggest the single product for each character typed.\n\n3. **All Products Match the SearchWord**:\n   - **Input**: `products = [\"apple\", \"appetizer\", \"application\"]`, `searchWord = \"app\"`\n   - **Description**: Tests the scenario where multiple products share the same prefix. The output should show the three lexicographically smallest products after typing \"app\".\n\n4. **More Than Three Matches**:\n   - **Input**: `products = [\"apple\", \"app\", \"apricot\", \"banana\", \"appliance\", \"applaud\"]`, `searchWord = \"app\"`\n   - **Description**: Tests the case where more than three products match the prefix. The output should return only the three lexicographically smallest products.\n\n5. **No Matches After Certain Prefix**:\n   - **Input**: `products = [\"apple\", \"banana\", \"cherry\"]`, `searchWord = \"xyz\"`\n   - **Description**: Tests the scenario where no products match the prefix at all. The output should be a list of empty lists for each character typed.\n\n6. **Long Product Names**:\n   - **Input**: `products = [\"a\" * 3000, \"b\" * 3000, \"c\" * 3000]`, `searchWord = \"a\"`\n   - **Description**: Tests the upper limit of product name length. The output should return the products that match the prefix, ensuring that the system can handle long strings.\n\n7. **Maximum Number of Products**:\n   - **Input**: `products = [\"product\" + str(i) for i in range(1000)]`, `searchWord = \"product\"`\n   - **Description**: Tests the maximum number of products allowed. The output should return the correct suggestions as each character is typed, ensuring performance under maximum constraints.\n\n8. **SearchWord Longer Than Any Product**:\n   - **Input**: `products = [\"short\", \"tiny\", \"small\"]`, `searchWord = \"longsearchword\"`\n   - **Description**: Tests the case where the search word is longer than any product name. The output should be empty lists for each character typed, as no matches can be found.\n\nThese edge cases cover a variety of scenarios,"
      ]
    },
    {
      "cell_type": "markdown",
      "metadata": {},
      "source": [
        "To solve the \"Search Suggestions System\" problem, we will follow a systematic approach leveraging sorting and prefix matching. Here’s a step-by-step breakdown of the approach, followed by the Python code and complexity analysis.",
        "",
        "### Approach",
        "",
        "1. **Sort the Products**: Since we need the suggestions to be in lexicographical order, the first step is to sort the `products` list.",
        "",
        "2. **Iterate Over Search Word**: We will iterate through each character of the `searchWord` and build a prefix progressively.",
        "",
        "3. **Find Matching Products**: For each prefix formed by the characters typed so far, we will filter the sorted `products` to find those that start with the current prefix.",
        "",
        "4. **Limit Results**: We will take at most three products that match the current prefix, as required by the problem.",
        "",
        "5. **Collect Suggestions**: For each character in the `searchWord`, we will store the list of suggestions in a result list.",
        "",
        "### Python Code",
        "",
        "Here's the implementation of the approach described:"
      ]
    },
    {
      "cell_type": "code",
      "execution_count": null,
      "metadata": {},
      "outputs": [],
      "source": [
        "def suggestedProducts(products, searchWord):",
        "    # Step 1: Sort the products to ensure lexicographical order",
        "    products.sort()",
        "    ",
        "    # This will hold the final list of suggestions for each prefix",
        "    result = []",
        "    ",
        "    # Start with an empty prefix",
        "    prefix = \"\"",
        "    ",
        "    # Step 2: Go through each character in searchWord",
        "    for char in searchWord:",
        "        # Step 3: Add the current character to the prefix",
        "        prefix += char",
        "        ",
        "        # Find products with the current prefix",
        "        suggestions = []",
        "        ",
        "        # Step 4: Iterate through the sorted products and find matches",
        "        for product in products:",
        "            # If the product starts with the current prefix",
        "            if product.startswith(prefix):",
        "                suggestions.append(product)",
        "            # Limit to at most 3 suggestions",
        "            if len(suggestions) == 3:",
        "                break",
        "        ",
        "        # Add the current suggestions to the result",
        "        result.append(suggestions)",
        "    ",
        "    return result"
      ]
    },
    {
      "cell_type": "markdown",
      "metadata": {},
      "source": [
        "### Time and Space Complexity Analysis",
        "",
        "1. **Time Complexity**:",
        "   - Sorting the products takes \\(O(n \\log n)\\) where \\(n\\) is the number of products.",
        "   - For each character in `searchWord`, we are potentially iterating through all products to gather suggestions. In the worst case, this will take \\(O(m \\cdot n)\\), where \\(m\\) is the length of `searchWord` (up to 1000) and \\(n\\) is the number of products (up to 1000).",
        "   - Hence, the overall time complexity is \\(O(n \\log n + m \\cdot n)\\).",
        "",
        "2. **Space Complexity**:",
        "   - The space used for the sorted list of products is \\(O(n \\cdot k)\\), where \\(k\\) is the average length of the product strings.",
        "   - The space required for the result list is \\(O(m \\cdot 3)\\) (since we are storing at most 3 suggestions for each character of `searchWord`).",
        "   - Therefore, the overall space complexity is \\(O(n \\cdot k + m)\\).",
        "",
        "This method efficiently builds the suggestions as the user types, while ensuring that the results are presented in the desired format."
      ]
    },
    {
      "cell_type": "markdown",
      "metadata": {},
      "source": [
        "---",
        "",
        ""
      ]
    },
    {
      "cell_type": "markdown",
      "metadata": {},
      "source": [
        "# Implement Trie (Prefix Tree) (#208)",
        "",
        "**Difficulty:** Medium  ",
        "**Date:** 2025-08-09 23:52:02  ",
        "**URL:** https://leetcode.com/problems/implement-trie-prefix-tree/",
        "",
        "---"
      ]
    },
    {
      "cell_type": "markdown",
      "metadata": {},
      "source": [
        "## Problem Description",
        "",
        "A trie (pronounced as &quot;try&quot;) or prefix tree is a tree data structure used to efficiently store and retrieve keys in a dataset of strings. There are various applications of this data structure, such as autocomplete and spellchecker.\n\nImplement the Trie class:\n\n\n\tTrie() Initializes the trie object.\n\tvoid insert(String word) Inserts the string word into the trie.\n\tboolean search(String word) Returns true if the string word is in the trie (i.e., was inserted before), and false otherwise.\n\tboolean startsWith(String prefix) Returns true if there is a previously inserted string word that has the prefix prefix, and false otherwise.\n\n\n&nbsp;\nExample 1:\n\n\nInput\n[&quot;Trie&quot;, &quot;insert&quot;, &quot;search&quot;, &quot;search&quot;, &quot;startsWith&quot;, &quot;insert&quot;, &quot;search&quot;]\n[[], [&quot;apple&quot;], [&quot;apple&quot;], [&quot;app&quot;], [&quot;app&quot;], [&quot;app&quot;], [&quot;app&quot;]]\nOutput\n[null, null, true, false, true, null, true]\n\nExplanation\nTrie trie = new Trie();\ntrie.insert(&quot;apple&quot;);\ntrie.search(&quot;apple&quot;);   // return True\ntrie.search(&quot;app&quot;);     // return False\ntrie.startsWith(&quot;app&quot;); // return True\ntrie.insert(&quot;app&quot;);\ntrie.search(&quot;app&quot;);     // return True\n\n\n&nbsp;\nConstraints:\n\n\n\t1 <= word.length, prefix.length <= 2000\n\tword and prefix consist only of lowercase English letters.\n\tAt most 3 * 104 calls in total will be made to insert, search, and startsWith.\n\n"
      ]
    },
    {
      "cell_type": "markdown",
      "metadata": {},
      "source": [
        "## Clarifying Questions",
        "",
        "1. Are there any specific edge cases we should consider, such as inserting an empty string or handling duplicate words in the trie?\n\n2. Can we assume that all input strings (words and prefixes) will only consist of lowercase English letters, or should we handle other characters or cases as well?\n\n3. What should the behavior of the `search` method be if the word has not been inserted but is a prefix of an inserted word? Should it return true or false?\n\n4. Are there any performance constraints we should be aware of, particularly regarding the time complexity for the `insert`, `search`, and `startsWith` methods?\n\n5. Should we consider any specific memory constraints or limitations on the number of unique words that can be inserted into the trie?"
      ]
    },
    {
      "cell_type": "markdown",
      "metadata": {},
      "source": [
        "## Test Edge Cases",
        "",
        "Here are 8 important test edge cases to consider when solving the Trie (Prefix Tree) problem:\n\n1. **Empty Trie Operations**:\n   - **Description**: Test the behavior of the `search` and `startsWith` methods on an empty Trie.\n   - **Input**: `trie.search(\"anyword\")` and `trie.startsWith(\"anyprefix\")`\n   - **Expected Output**: Both should return `false`.\n\n2. **Single Character Insert and Search**:\n   - **Description**: Insert a single character and test searching for that character and a different one.\n   - **Input**: `trie.insert(\"a\")`, `trie.search(\"a\")`, `trie.search(\"b\")`\n   - **Expected Output**: `true`, `false`.\n\n3. **Duplicate Insertions**:\n   - **Description**: Insert the same word multiple times and check if it affects the search results.\n   - **Input**: `trie.insert(\"hello\")`, `trie.insert(\"hello\")`, `trie.search(\"hello\")`\n   - **Expected Output**: `true` (should still return true regardless of duplicates).\n\n4. **Prefix Matching**:\n   - **Description**: Insert words that share common prefixes and test the `startsWith` method.\n   - **Input**: `trie.insert(\"hello\")`, `trie.insert(\"helium\")`, `trie.startsWith(\"hel\")`\n   - **Expected Output**: `true`.\n\n5. **Long Words**:\n   - **Description**: Insert a word that is at the maximum length (2000 characters) and test searching for it.\n   - **Input**: `trie.insert(\"a\" * 2000)`, `trie.search(\"a\" * 2000)`\n   - **Expected Output**: `true`.\n\n6. **Non-Existent Prefix**:\n   - **Description**: Insert a few words and test for a prefix that does not exist in any inserted word.\n   - **Input**: `trie.insert(\"cat\")`, `trie.insert(\"car\")`, `trie.startsWith(\"dog\")`\n   - **Expected Output**: `false`.\n\n7. **Performance with Maximum Calls**:\n   - **Description**: Perform the maximum number of insertions (30,000) and check if the structure can handle it without performance degradation.\n   - **Input**: Insert 30,000 unique words (e.g., \"word0\", \"word1\", ..., \"word29999\") and then check for their existence.\n   - **Expected Output**: All searches should return `true`.\n\n8. **Mixed Length Words**:\n   - **Description**: Insert words of varying lengths and test for prefixes that match only part of the words.\n   - **Input**: `trie.insert(\"a\")`, `"
      ]
    },
    {
      "cell_type": "markdown",
      "metadata": {},
      "source": [
        "To solve the problem of implementing a Trie (Prefix Tree), we will follow these steps:",
        "",
        "### 1. Explanation of the Approach",
        "",
        "A Trie is a tree-like data structure that stores a dynamic set of strings, where each node represents a character of a string. The edges represent the connections between characters, and a path from the root to a node represents a unique string.",
        "",
        "**Key Operations:**",
        "- **Insert:** To insert a word into the trie, we start from the root and add nodes for each character of the word if they do not already exist. At the end of the word, we mark that node to indicate that it represents the end of a valid word.",
        "  ",
        "- **Search:** To check if a word exists in the trie, we traverse the trie according to the characters of the word. If we can follow the path down to the last character and that node is marked as an end of a word, the word exists.",
        "",
        "- **StartsWith:** To check if any word in the trie starts with a given prefix, we perform a similar traversal as in search, but we do not require the last node to be marked as the end of a word.",
        "",
        "### 2. Python Code Solution",
        "",
        "Here’s the implementation of the Trie class:"
      ]
    },
    {
      "cell_type": "code",
      "execution_count": null,
      "metadata": {},
      "outputs": [],
      "source": [
        "class TrieNode:",
        "    def __init__(self):",
        "        # Each node will have a dictionary to hold its children",
        "        self.children = {}",
        "        # This boolean flag indicates if the node represents the end of a word",
        "        self.is_end_of_word = False",
        "",
        "class Trie:",
        "    def __init__(self):",
        "        # Initialize the root of the Trie",
        "        self.root = TrieNode()",
        "",
        "    def insert(self, word: str) -> None:",
        "        # Start from the root node",
        "        current_node = self.root",
        "        ",
        "        # Insert each character of the word into the Trie",
        "        for char in word:",
        "            if char not in current_node.children:",
        "                # Create a new TrieNode if the character is not already present",
        "                current_node.children[char] = TrieNode()",
        "            # Move to the next node",
        "            current_node = current_node.children[char]",
        "        ",
        "        # Mark the end of the word",
        "        current_node.is_end_of_word = True",
        "",
        "    def search(self, word: str) -> bool:",
        "        # Start from the root node",
        "        current_node = self.root",
        "        ",
        "        # Traverse the Trie according to the characters of the word",
        "        for char in word:",
        "            if char not in current_node.children:",
        "                return False  # Character not found, word does not exist",
        "            current_node = current_node.children[char]",
        "        ",
        "        # Check if the last node represents the end of a valid word",
        "        return current_node.is_end_of_word",
        "",
        "    def startsWith(self, prefix: str) -> bool:",
        "        # Start from the root node",
        "        current_node = self.root",
        "        ",
        "        # Traverse the Trie according to the characters of the prefix",
        "        for char in prefix:",
        "            if char not in current_node.children:",
        "                return False  # Character not found, no word with this prefix",
        "            current_node = current_node.children[char]",
        "        ",
        "        return True  # Found the prefix in the Trie"
      ]
    },
    {
      "cell_type": "markdown",
      "metadata": {},
      "source": [
        "### 3. Time and Space Complexity Analysis",
        "",
        "**Time Complexity:**",
        "- **Insert:** O(m), where m is the length of the word being inserted. We traverse the Trie character by character.",
        "- **Search:** O(m), where m is the length of the word being searched. Similar to insert, we traverse character by character.",
        "- **StartsWith:** O(p), where p is the length of the prefix. We traverse through the characters of the prefix.",
        "",
        "**Space Complexity:**",
        "- The space complexity is O(n * m), where n is the number of words inserted into the Trie, and m is the length of the longest word. This accounts for the storage of all the characters in the Trie nodes.",
        "",
        "### Summary",
        "The Trie data structure allows efficient insertion, searching, and prefix checking of strings, making it suitable for applications like autocomplete and spellchecking. The provided implementation adheres to the problem requirements and efficiently manages the operations within the constraints given."
      ]
    },
    {
      "cell_type": "markdown",
      "metadata": {},
      "source": [
        "---",
        "",
        ""
      ]
    },
    {
      "cell_type": "markdown",
      "metadata": {},
      "source": [
        "# Design Add and Search Words Data Structure (#211)",
        "",
        "**Difficulty:** Medium  ",
        "**Date:** 2025-08-09 23:52:06  ",
        "**URL:** https://leetcode.com/problems/design-add-and-search-words-data-structure/",
        "",
        "---"
      ]
    },
    {
      "cell_type": "markdown",
      "metadata": {},
      "source": [
        "## Problem Description",
        "",
        "Design a data structure that supports adding new words and finding if a string matches any previously added string.\n\nImplement the WordDictionary class:\n\n\n\tWordDictionary()&nbsp;Initializes the object.\n\tvoid addWord(word) Adds word to the data structure, it can be matched later.\n\tbool search(word)&nbsp;Returns true if there is any string in the data structure that matches word&nbsp;or false otherwise. word may contain dots &#39;.&#39; where dots can be matched with any letter.\n\n\n&nbsp;\nExample:\n\n\nInput\n[&quot;WordDictionary&quot;,&quot;addWord&quot;,&quot;addWord&quot;,&quot;addWord&quot;,&quot;search&quot;,&quot;search&quot;,&quot;search&quot;,&quot;search&quot;]\n[[],[&quot;bad&quot;],[&quot;dad&quot;],[&quot;mad&quot;],[&quot;pad&quot;],[&quot;bad&quot;],[&quot;.ad&quot;],[&quot;b..&quot;]]\nOutput\n[null,null,null,null,false,true,true,true]\n\nExplanation\nWordDictionary wordDictionary = new WordDictionary();\nwordDictionary.addWord(&quot;bad&quot;);\nwordDictionary.addWord(&quot;dad&quot;);\nwordDictionary.addWord(&quot;mad&quot;);\nwordDictionary.search(&quot;pad&quot;); // return False\nwordDictionary.search(&quot;bad&quot;); // return True\nwordDictionary.search(&quot;.ad&quot;); // return True\nwordDictionary.search(&quot;b..&quot;); // return True\n\n\n&nbsp;\nConstraints:\n\n\n\t1 <= word.length <= 25\n\tword in addWord consists of lowercase English letters.\n\tword in search consist of &#39;.&#39; or lowercase English letters.\n\tThere will be at most 2 dots in word for search queries.\n\tAt most 104 calls will be made to addWord and search.\n\n"
      ]
    },
    {
      "cell_type": "markdown",
      "metadata": {},
      "source": [
        "## Clarifying Questions",
        "",
        "1. Are there any constraints on the number of unique words that can be added to the data structure, or can we assume that the total number of words will not exceed 10,000 as per the function call limits?\n\n2. How should the data structure handle duplicate words when adding them? Should it allow duplicates, or should it ignore them?\n\n3. Can you clarify how the search function should behave when the input word contains more than two dots, given the constraint states there will be at most two dots in search queries?\n\n4. What is the expected behavior of the search function if the input word is an empty string? Should it return true or false?\n\n5. Are there any performance requirements for the addWord and search functions, such as time complexity expectations, especially considering the maximum number of calls (up to 10,000)?"
      ]
    },
    {
      "cell_type": "markdown",
      "metadata": {},
      "source": [
        "## Test Edge Cases",
        "",
        "Here are 8 important test edge cases to consider for the \"Add and Search Words Data Structure\" problem:\n\n1. **Empty Input Test**:\n   - **Description**: Test the behavior of the `search` method when no words have been added.\n   - **Input**: `wordDictionary.search(\"a\")`\n   - **Expected Output**: `false` (since no words have been added yet)\n\n2. **Single Character Word Test**:\n   - **Description**: Add a single character word and search for it directly and with a dot.\n   - **Input**: \n     - `wordDictionary.addWord(\"a\")`\n     - `wordDictionary.search(\"a\")`\n     - `wordDictionary.search(\".\")`\n   - **Expected Output**: \n     - `null` (for addWord)\n     - `true` (for search \"a\")\n     - `false` (for search \".\")\n\n3. **Maximum Length Word Test**:\n   - **Description**: Add a word with the maximum allowed length (25 characters) and search for it.\n   - **Input**: \n     - `wordDictionary.addWord(\"abcdefghijklmnopqrstuvwxyz\")`\n     - `wordDictionary.search(\"abcdefghijklmnopqrstuvwxyz\")`\n   - **Expected Output**: \n     - `null` (for addWord)\n     - `true` (for search)\n\n4. **Multiple Dots Test**:\n   - **Description**: Search for a word using two dots in various positions.\n   - **Input**: \n     - `wordDictionary.addWord(\"cat\")`\n     - `wordDictionary.addWord(\"bat\")`\n     - `wordDictionary.search(\"c.t\")`\n     - `wordDictionary.search(\"b..\")`\n   - **Expected Output**: \n     - `null` (for addWord)\n     - `true` (for search \"c.t\")\n     - `true` (for search \"b..\")\n\n5. **Duplicate Words Test**:\n   - **Description**: Add the same word multiple times and ensure it still returns true on search.\n   - **Input**: \n     - `wordDictionary.addWord(\"hello\")`\n     - `wordDictionary.addWord(\"hello\")`\n     - `wordDictionary.search(\"hello\")`\n   - **Expected Output**: \n     - `null` (for addWord)\n     - `true` (for search \"hello\")\n\n6. **Non-Matching Dot Test**:\n   - **Description**: Search for a word using a dot that does not match any added words.\n   - **Input**: \n     - `wordDictionary.addWord(\"dog\")`\n     - `wordDictionary.search(\"d..g\")`\n   - **Expected Output**: \n     - `null` (for addWord)\n     - `false` (for search \"d..g\")\n\n7. **Performance Test with Maximum Calls**:\n   - **Description"
      ]
    },
    {
      "cell_type": "markdown",
      "metadata": {},
      "source": [
        "To solve the problem of designing a `WordDictionary` that supports adding words and searching for them with the ability to use dots ('.') as wildcards, we can use a Trie (prefix tree) data structure. This is an efficient way to store strings and allows for quick lookups, especially when dealing with prefixes and pattern matching.",
        "",
        "### 1. Approach Explanation",
        "",
        "- **Trie Structure**: We will create a `TrieNode` class that represents each node in the Trie. Each node will contain:",
        "  - A dictionary of child nodes (for each letter of the alphabet).",
        "  - A boolean indicating if the node represents the end of a valid word.",
        "",
        "- **Adding Words**: In the `addWord` method, we will insert each character of the word into the Trie. If the character does not exist in the current node's children, we will create a new TrieNode for that character.",
        "",
        "- **Searching for Words**: The `search` method will handle both exact matches and matches with wildcards (dots). ",
        "  - If the character is a dot ('.'), we will need to explore all possible children nodes at that position.",
        "  - If it’s a letter, we will simply move to the corresponding child node.",
        "  - This method will use recursion to handle different paths when encountering dots.",
        "",
        "### 2. Python Code Solution",
        "",
        "Here is the implementation of the `WordDictionary` class using the approach described:"
      ]
    },
    {
      "cell_type": "code",
      "execution_count": null,
      "metadata": {},
      "outputs": [],
      "source": [
        "class TrieNode:",
        "    def __init__(self):",
        "        # Dictionary to store child nodes",
        "        self.children = {}",
        "        # Boolean flag to mark the end of a valid word",
        "        self.is_end_of_word = False",
        "",
        "class WordDictionary:",
        "    def __init__(self):",
        "        # The root node of the Trie",
        "        self.root = TrieNode()",
        "",
        "    def addWord(self, word: str) -> None:",
        "        # Start from the root node",
        "        current = self.root",
        "        for char in word:",
        "            # If the character is not in the current node's children, add it",
        "            if char not in current.children:",
        "                current.children[char] = TrieNode()",
        "            # Move to the child node",
        "            current = current.children[char]",
        "        # Mark the end of the word",
        "        current.is_end_of_word = True",
        "",
        "    def search(self, word: str) -> bool:",
        "        # Start the recursive search from the root",
        "        return self._search_recursive(self.root, word)",
        "",
        "    def _search_recursive(self, node: TrieNode, word: str) -> bool:",
        "        # If we reach the end of the word, check if it's a valid word",
        "        if not word:",
        "            return node.is_end_of_word",
        "        ",
        "        first_char = word[0]",
        "        remaining_word = word[1:]",
        "",
        "        if first_char == '.':",
        "            # If the first character is a dot, check all children nodes",
        "            for child in node.children.values():",
        "                if self._search_recursive(child, remaining_word):",
        "                    return True",
        "            return False",
        "        else:",
        "            # If the first character is a letter, proceed down that path",
        "            if first_char in node.children:",
        "                return self._search_recursive(node.children[first_char], remaining_word)",
        "            else:",
        "                return False"
      ]
    },
    {
      "cell_type": "markdown",
      "metadata": {},
      "source": [
        "### 3. Time and Space Complexity Analysis",
        "",
        "- **Time Complexity**:",
        "  - `addWord`: O(L), where L is the length of the word being added. We iterate through each character of the word.",
        "  - `search`: O(L * 26^D) in the worst case, where D is the number of dots in the search word (maximum of 2 as per the problem constraints). This is because for each dot, we may have to explore up to 26 paths in the Trie.",
        "",
        "- **Space Complexity**:",
        "  - The space complexity is O(N * L), where N is the number of words added and L is the average length of the words. This accounts for the storage of all characters in the Trie.",
        "",
        "This implementation is efficient for the operations specified and adheres to the constraints given in the problem description."
      ]
    },
    {
      "cell_type": "markdown",
      "metadata": {},
      "source": [
        "---",
        "",
        ""
      ]
    },
    {
      "cell_type": "markdown",
      "metadata": {},
      "source": [
        "# Word Search II (#212)",
        "",
        "**Difficulty:** Hard  ",
        "**Date:** 2025-08-09 23:52:08  ",
        "**URL:** https://leetcode.com/problems/word-search-ii/",
        "",
        "---"
      ]
    },
    {
      "cell_type": "markdown",
      "metadata": {},
      "source": [
        "## Problem Description",
        "",
        "Given an m x n board&nbsp;of characters and a list of strings words, return all words on the board.\n\nEach word must be constructed from letters of sequentially adjacent cells, where adjacent cells are horizontally or vertically neighboring. The same letter cell may not be used more than once in a word.\n\n&nbsp;\nExample 1:\n\n\nInput: board = [[&quot;o&quot;,&quot;a&quot;,&quot;a&quot;,&quot;n&quot;],[&quot;e&quot;,&quot;t&quot;,&quot;a&quot;,&quot;e&quot;],[&quot;i&quot;,&quot;h&quot;,&quot;k&quot;,&quot;r&quot;],[&quot;i&quot;,&quot;f&quot;,&quot;l&quot;,&quot;v&quot;]], words = [&quot;oath&quot;,&quot;pea&quot;,&quot;eat&quot;,&quot;rain&quot;]\nOutput: [&quot;eat&quot;,&quot;oath&quot;]\n\n\nExample 2:\n\n\nInput: board = [[&quot;a&quot;,&quot;b&quot;],[&quot;c&quot;,&quot;d&quot;]], words = [&quot;abcb&quot;]\nOutput: []\n\n\n&nbsp;\nConstraints:\n\n\n\tm == board.length\n\tn == board[i].length\n\t1 <= m, n <= 12\n\tboard[i][j] is a lowercase English letter.\n\t1 <= words.length <= 3 * 104\n\t1 <= words[i].length <= 10\n\twords[i] consists of lowercase English letters.\n\tAll the strings of words are unique.\n\n"
      ]
    },
    {
      "cell_type": "markdown",
      "metadata": {},
      "source": [
        "## Clarifying Questions",
        "",
        "1. Are the words in the list guaranteed to be unique, and can we assume that the board will only contain lowercase English letters as specified in the constraints?\n\n2. How should we handle cases where the board is empty or when the list of words is empty? Should we return an empty list in such cases?\n\n3. Can the words in the list be longer than the dimensions of the board (m x n), and if so, should we ignore those words when searching?\n\n4. What should be the expected output format? Should the words be returned in a specific order, or is any order acceptable?\n\n5. Are there any performance constraints we should be aware of, particularly regarding the maximum size of the board and the number of words? How should we optimize our solution to handle the upper limits efficiently?"
      ]
    },
    {
      "cell_type": "markdown",
      "metadata": {},
      "source": [
        "## Test Edge Cases",
        "",
        "Here are 8 important edge cases to consider when solving the \"Word Search II\" problem:\n\n1. **Empty Board and Empty Words List**:\n   - Input: `board = [[]], words = []`\n   - Description: Tests the function's handling of an empty board and no words. Expected output is an empty list.\n\n2. **Single Cell Board with Matching Word**:\n   - Input: `board = [[\"a\"]], words = [\"a\"]`\n   - Description: Tests the simplest case where the board has only one cell that matches the word. Expected output is `[\"a\"]`.\n\n3. **Single Cell Board with Non-Matching Word**:\n   - Input: `board = [[\"a\"]], words = [\"b\"]`\n   - Description: Tests the case where the board has one cell but the word does not match. Expected output is an empty list.\n\n4. **Maximum Size Board with No Matching Words**:\n   - Input: `board = [[\"a\"] * 12 for _ in range(12)], words = [\"b\" * 10]`\n   - Description: Tests the upper limit of board size with a word that cannot be formed. Expected output is an empty list.\n\n5. **Board with All Same Letters and Multiple Matching Words**:\n   - Input: `board = [[\"a\", \"a\", \"a\"], [\"a\", \"a\", \"a\"], [\"a\", \"a\", \"a\"]], words = [\"aaa\", \"aa\", \"a\"]`\n   - Description: Tests the scenario where all letters are the same, and multiple words can be formed. Expected output is `[\"aaa\", \"aa\", \"a\"]`.\n\n6. **Words Longer Than Board Dimensions**:\n   - Input: `board = [[\"a\", \"b\"], [\"c\", \"d\"]], words = [\"abcd\", \"abcde\"]`\n   - Description: Tests the case where words are longer than the total number of cells in the board. Expected output is an empty list.\n\n7. **Words with Common Prefixes**:\n   - Input: `board = [[\"o\", \"a\", \"a\", \"n\"], [\"e\", \"t\", \"a\", \"e\"], [\"i\", \"h\", \"k\", \"r\"], [\"i\", \"f\", \"l\", \"v\"]], words = [\"oath\", \"o\", \"oa\"]`\n   - Description: Tests the case where multiple words share a common prefix. Expected output is `[\"oath\", \"o\", \"oa\"]`.\n\n8. **Performance Case with Maximum Words**:\n   - Input: `board = [[\"a\"] * 12 for _ in range(12)], words = [\"a\" * i for i in range(1, 10001)]`\n   - Description: Tests the performance of the solution when the number of words is at its maximum limit. Expected output should be handled efficiently, ideally returning"
      ]
    },
    {
      "cell_type": "markdown",
      "metadata": {},
      "source": [
        "### 1. Approach Explanation",
        "",
        "The problem can be efficiently solved using a combination of a **Trie (prefix tree)** to store the words and **backtracking** to search for those words on the board. Here's a step-by-step breakdown of the approach:",
        "",
        "1. **Build a Trie:** ",
        "   - We first construct a Trie from the list of words. This allows us to quickly check if a sequence of letters forms a valid prefix of any word in our list.",
        "",
        "2. **Backtracking Search:**",
        "   - We iterate through each cell in the board and perform a backtracking search from that cell, attempting to build words by exploring adjacent cells (up, down, left, right).",
        "   - During the search, if we find a valid word in the Trie, we add it to our result set. To avoid duplicates, we can use a set.",
        "",
        "3. **Marking Visited Cells:**",
        "   - To ensure that we do not use the same cell more than once in forming a word, we mark cells as visited during the search and unmark them when backtracking.",
        "",
        "4. **Early Stopping:**",
        "   - If at any point our search does not match any words in the Trie (i.e., the prefix does not exist), we can stop exploring that path.",
        "",
        "This combination of Trie and backtracking allows us to efficiently find all words present on the board.",
        "",
        "### 2. Python Code Solution",
        "",
        "Here's the implementation of the above approach:"
      ]
    },
    {
      "cell_type": "code",
      "execution_count": null,
      "metadata": {},
      "outputs": [],
      "source": [
        "class TrieNode:",
        "    def __init__(self):",
        "        self.children = {}",
        "        self.is_end_of_word = False",
        "",
        "class Trie:",
        "    def __init__(self):",
        "        self.root = TrieNode()",
        "    ",
        "    def insert(self, word):",
        "        node = self.root",
        "        for char in word:",
        "            if char not in node.children:",
        "                node.children[char] = TrieNode()",
        "            node = node.children[char]",
        "        node.is_end_of_word = True",
        "",
        "class Solution:",
        "    def findWords(self, board, words):",
        "        # Step 1: Build the Trie from the words list",
        "        trie = Trie()",
        "        for word in words:",
        "            trie.insert(word)",
        "",
        "        # Step 2: Prepare to search the board",
        "        self.result = set()  # To avoid duplicates",
        "        self.m, self.n = len(board), len(board[0])",
        "        ",
        "        # Directions for moving up, down, left, right",
        "        self.directions = [(0, 1), (1, 0), (0, -1), (-1, 0)]",
        "",
        "        # Step 3: Backtracking function",
        "        def backtrack(x, y, node, path):",
        "            if node.is_end_of_word:",
        "                self.result.add(path)  # Add the found word to the result",
        "                node.is_end_of_word = False  # Avoid duplicates",
        "            ",
        "            # Mark the current cell as visited",
        "            temp = board[x][y]",
        "            board[x][y] = '#'  # Use '#' to mark as visited",
        "            ",
        "            # Explore neighboring cells",
        "            for dx, dy in self.directions:",
        "                nx, ny = x + dx, y + dy",
        "                if 0 <= nx < self.m and 0 <= ny < self.n and board[nx][ny] in node.children:",
        "                    backtrack(nx, ny, node.children[board[nx][ny]], path + board[nx][ny])",
        "",
        "            # Unmark the cell (backtrack)",
        "            board[x][y] = temp",
        "",
        "        # Step 4: Start backtracking from each cell in the board",
        "        for i in range(self.m):",
        "            for j in range(self.n):",
        "                if board[i][j] in trie.root.children:",
        "                    backtrack(i, j, trie.root.children[board[i][j]], board[i][j])",
        "",
        "        return list(self.result)"
      ]
    },
    {
      "cell_type": "markdown",
      "metadata": {},
      "source": [
        "### 3. Time and Space Complexity Analysis",
        "",
        "- **Time Complexity:**",
        "  - Building the Trie takes \\(O(W \\cdot L)\\), where \\(W\\) is the number of words and \\(L\\) is the average length of the words.",
        "  - The backtracking search can potentially visit each cell in the board multiple times, leading to a worst-case time complexity of \\(O(M \\cdot N \\cdot 4^L)\\), where \\(M\\) and \\(N\\) are the dimensions of the board and \\(L\\) is the maximum length of the words. However, this is mitigated by the Trie checks which reduce unnecessary explorations.",
        "",
        "- **Space Complexity:**",
        "  - The space complexity is dominated by the Trie, which takes \\(O(W \\cdot L)\\). Additionally, we use space for the result set and the recursive call stack, but these are manageable compared to the Trie.",
        "",
        "Overall, the algorithm balances efficiency and clarity, leveraging the Trie structure to speed up the search for words on the board."
      ]
    },
    {
      "cell_type": "markdown",
      "metadata": {},
      "source": [
        "---",
        "",
        ""
      ]
    },
    {
      "cell_type": "markdown",
      "metadata": {},
      "source": [
        "# Replace Words (#648)",
        "",
        "**Difficulty:** Medium  ",
        "**Date:** 2025-08-09 23:58:03  ",
        "**URL:** https://leetcode.com/problems/replace-words/",
        "",
        "---"
      ]
    },
    {
      "cell_type": "markdown",
      "metadata": {},
      "source": [
        "## Problem Description",
        "",
        "In English, we have a concept called root, which can be followed by some other word to form another longer word - let&#39;s call this word derivative. For example, when the root &quot;help&quot; is followed by the word &quot;ful&quot;, we can form a derivative &quot;helpful&quot;.\n\nGiven a dictionary consisting of many roots and a sentence consisting of words separated by spaces, replace all the derivatives in the sentence with the root forming it. If a derivative can be replaced by more than one root, replace it with the root that has the shortest length.\n\nReturn the sentence after the replacement.\n\n&nbsp;\nExample 1:\n\n\nInput: dictionary = [&quot;cat&quot;,&quot;bat&quot;,&quot;rat&quot;], sentence = &quot;the cattle was rattled by the battery&quot;\nOutput: &quot;the cat was rat by the bat&quot;\n\n\nExample 2:\n\n\nInput: dictionary = [&quot;a&quot;,&quot;b&quot;,&quot;c&quot;], sentence = &quot;aadsfasf absbs bbab cadsfafs&quot;\nOutput: &quot;a a b c&quot;\n\n\n&nbsp;\nConstraints:\n\n\n\t1 <= dictionary.length <= 1000\n\t1 <= dictionary[i].length <= 100\n\tdictionary[i] consists of only lower-case letters.\n\t1 <= sentence.length <= 106\n\tsentence consists of only lower-case letters and spaces.\n\tThe number of words in sentence is in the range [1, 1000]\n\tThe length of each word in sentence is in the range [1, 1000]\n\tEvery two consecutive words in sentence will be separated by exactly one space.\n\tsentence does not have leading or trailing spaces.\n\n"
      ]
    },
    {
      "cell_type": "markdown",
      "metadata": {},
      "source": [
        "## Clarifying Questions",
        "",
        "1. **What should we do if a word in the sentence does not have any corresponding root in the dictionary?** Should we leave it unchanged, or is there a specific output format we should follow?\n\n2. **In the case of multiple roots with the same shortest length, how should we determine which root to use for replacement?** Should we choose the first one encountered in the dictionary, or is there another criterion?\n\n3. **Are there any constraints on the characters that can appear in the sentence or the dictionary, aside from being lowercase letters?** For example, can we expect punctuation or numbers, or is it strictly lowercase letters and spaces?\n\n4. **What is the expected behavior if the dictionary contains overlapping roots?** For instance, if both \"cat\" and \"c\" are in the dictionary, should \"cattle\" be replaced with \"cat\" or \"c\"?\n\n5. **What are the performance expectations for this solution, particularly regarding time complexity?** Are there specific limits on how quickly the solution should run given the input constraints?"
      ]
    },
    {
      "cell_type": "markdown",
      "metadata": {},
      "source": [
        "## Test Edge Cases",
        "",
        "Here are 8 important test edge cases to consider for the \"Replace Words\" problem:\n\n1. **Empty Dictionary and Non-Empty Sentence**:\n   - **Input**: `dictionary = []`, `sentence = \"the cattle was rattled\"`\n   - **Description**: Tests the behavior when the dictionary is empty. The output should be the same as the input sentence since there are no roots to replace.\n\n2. **Single Root with Multiple Derivatives**:\n   - **Input**: `dictionary = [\"cat\"]`, `sentence = \"the catapult was catty\"`\n   - **Description**: Tests the scenario where there is a single root that can replace multiple derivatives. The output should replace \"catapult\" and \"catty\" with \"cat\".\n\n3. **Multiple Roots with Overlapping Derivatives**:\n   - **Input**: `dictionary = [\"bat\", \"b\", \"ba\"]`, `sentence = \"the batman was battling\"`\n   - **Description**: Tests the case where multiple roots can replace the same derivative. The output should replace \"battling\" with \"b\" since it is the shortest root.\n\n4. **Long Sentence with No Replacements**:\n   - **Input**: `dictionary = [\"dog\", \"cat\"]`, `sentence = \"the quick brown fox jumps over the lazy\"`\n   - **Description**: Tests a long sentence where none of the words can be replaced. The output should be the same as the input sentence.\n\n5. **All Words Replaceable with Same Root**:\n   - **Input**: `dictionary = [\"a\"]`, `sentence = \"a a a a a\"`\n   - **Description**: Tests a case where all words in the sentence can be replaced by the same root. The output should be the same as the input since all are already the root.\n\n6. **Maximum Size Dictionary and Sentence**:\n   - **Input**: `dictionary = [\"a\" * 100] * 1000`, `sentence = \" \".join([\"a\" * 100] * 1000)`\n   - **Description**: Tests the performance of the solution with the maximum constraints. The output should replace all occurrences of the long derivative with the root.\n\n7. **Sentence with Mixed Case of Roots**:\n   - **Input**: `dictionary = [\"cat\", \"bat\"]`, `sentence = \"the catapult was catty batman\"`\n   - **Description**: Tests the scenario where some words can be replaced while others cannot. The output should replace \"catapult\" with \"cat\" and leave \"batman\" unchanged.\n\n8. **Sentence with Duplicates and Variations**:\n   - **Input**: `dictionary = [\"rat\", \"bat\", \"ratty\"]`, `sentence = \"the ratty rat was a rat\"`\n   - **Description**: Tests how duplicates and variations in the sentence are handled"
      ]
    },
    {
      "cell_type": "markdown",
      "metadata": {},
      "source": [
        "To solve the problem of replacing derivatives in a sentence with their corresponding roots from a dictionary, we can follow these steps:",
        "",
        "### Approach",
        "",
        "1. **Data Structure Choice**: We will use a set to store the dictionary of roots. This allows for O(1) average time complexity when checking if a word starts with a particular root.",
        "",
        "2. **Replacement Logic**: For each word in the sentence, we need to check if it starts with any root from the dictionary. We will iterate through the roots in order of their lengths to ensure that we always find the shortest valid root first.",
        "",
        "3. **Sentence Reconstruction**: After processing each word, we will reconstruct the sentence by joining the modified words back together.",
        "",
        "### Python Code Solution",
        "",
        "The following code implements the described approach:"
      ]
    },
    {
      "cell_type": "code",
      "execution_count": null,
      "metadata": {},
      "outputs": [],
      "source": [
        "def replaceWords(dictionary, sentence):",
        "    # Step 1: Create a set for the dictionary for O(1) lookups",
        "    root_set = set(dictionary)",
        "    ",
        "    # Step 2: Split the sentence into words",
        "    words = sentence.split()",
        "    ",
        "    # Step 3: Function to find the root for a given word",
        "    def find_root(word):",
        "        # Check all roots in the dictionary",
        "        for root in sorted(root_set, key=len):  # Sort roots by length",
        "            if word.startswith(root):",
        "                return root  # Return the root if it matches",
        "        return word  # Return the word itself if no root found",
        "    ",
        "    # Step 4: Replace each word in the sentence with its root (if applicable)",
        "    replaced_words = [find_root(word) for word in words]",
        "    ",
        "    # Step 5: Join the replaced words to form the new sentence",
        "    return ' '.join(replaced_words)",
        "",
        "# Example usage",
        "dictionary1 = [\"cat\", \"bat\", \"rat\"]",
        "sentence1 = \"the cattle was rattled by the battery\"",
        "print(replaceWords(dictionary1, sentence1))  # Output: \"the cat was rat by the bat\"",
        "",
        "dictionary2 = [\"a\", \"b\", \"c\"]",
        "sentence2 = \"aadsfasf absbs bbab cadsfafs\"",
        "print(replaceWords(dictionary2, sentence2))  # Output: \"a a b c\""
      ]
    },
    {
      "cell_type": "markdown",
      "metadata": {},
      "source": [
        "### Explanation of the Code",
        "",
        "1. **Set Creation**: We create a set from the `dictionary` to allow for quick lookups.",
        "2. **Sentence Splitting**: We split the input `sentence` into individual words.",
        "3. **Finding Roots**: For each word, we define a helper function `find_root` that checks each root in the set. The roots are sorted by length so that the shortest root is checked first.",
        "4. **Word Replacement**: We use a list comprehension to create a new list of words by replacing each word with its root (if found).",
        "5. **Reconstruction**: Finally, we join the modified words into a single string to form the final output.",
        "",
        "### Time and Space Complexity Analysis",
        "",
        "- **Time Complexity**: ",
        "  - The `find_root` function checks each word against all roots, with the worst-case scenario being O(m * n) where `m` is the number of words in the sentence and `n` is the number of roots. For each word, we might check all roots.",
        "  - If we sort the roots, it would take O(n log n) to sort. The overall complexity is dominated by O(m * n), particularly when n (number of roots) is relatively small compared to the number of words in the sentence (m).",
        "  ",
        "- **Space Complexity**: ",
        "  - We use O(n) space for the root set and O(m) for the list of words, leading to an overall space complexity of O(n + m).",
        "",
        "This solution efficiently replaces words in the sentence based on the provided dictionary of roots and adheres to the problem constraints."
      ]
    },
    {
      "cell_type": "markdown",
      "metadata": {},
      "source": [
        "---",
        "",
        ""
      ]
    },
    {
      "cell_type": "markdown",
      "metadata": {},
      "source": [
        "# Maximum XOR of Two Numbers in an Array (#421)",
        "",
        "**Difficulty:** Medium  ",
        "**Date:** 2025-08-10 00:02:26  ",
        "**URL:** https://leetcode.com/problems/maximum-xor-of-two-numbers-in-an-array/",
        "",
        "---"
      ]
    },
    {
      "cell_type": "markdown",
      "metadata": {},
      "source": [
        "## Problem Description",
        "",
        "Given an integer array nums, return the maximum result of nums[i] XOR nums[j], where 0 <= i <= j < n.\n\n&nbsp;\nExample 1:\n\n\nInput: nums = [3,10,5,25,2,8]\nOutput: 28\nExplanation: The maximum result is 5 XOR 25 = 28.\n\n\nExample 2:\n\n\nInput: nums = [14,70,53,83,49,91,36,80,92,51,66,70]\nOutput: 127\n\n\n&nbsp;\nConstraints:\n\n\n\t1 <= nums.length <= 2 * 105\n\t0 <= nums[i] <= 231 - 1\n\n"
      ]
    },
    {
      "cell_type": "markdown",
      "metadata": {},
      "source": [
        "## Clarifying Questions",
        "",
        "1. Are there any specific edge cases we should consider, such as when the array contains only one element or when all elements are the same?\n\n2. Should we assume that the input array will always contain valid integers within the specified range, or do we need to handle potential invalid inputs?\n\n3. Is the output expected to be a single integer representing the maximum XOR value, or do we need to return the indices of the two numbers that produce this maximum XOR?\n\n4. What is the expected time complexity for the solution, and are there any performance constraints we should be aware of given the input size of up to 200,000 elements?\n\n5. Are there any specific assumptions about the distribution of the numbers in the array (e.g., are they uniformly distributed, or can there be clusters of similar values)?"
      ]
    },
    {
      "cell_type": "markdown",
      "metadata": {},
      "source": [
        "## Test Edge Cases",
        "",
        "Here are 8 important test edge cases to consider for the \"Maximum XOR of Two Numbers in an Array\" problem:\n\n1. **Empty Array**:\n   - **Input**: `nums = []`\n   - **Description**: Tests the behavior of the function when no elements are present. Expected output should be defined (e.g., an error or a specific value).\n\n2. **Single Element Array**:\n   - **Input**: `nums = [5]`\n   - **Description**: Tests the case where there is only one element in the array. The expected output should be defined (e.g., 0 since there are no two distinct indices).\n\n3. **Array with Two Identical Elements**:\n   - **Input**: `nums = [7, 7]`\n   - **Description**: Tests the scenario where both elements are the same. The expected output should be 0 since `7 XOR 7 = 0`.\n\n4. **Array with Maximum Size**:\n   - **Input**: `nums = [i for i in range(200000)]`\n   - **Description**: Tests the performance of the solution with the maximum allowed size of the array. This checks if the algorithm can handle large inputs efficiently.\n\n5. **Array with Maximum Values**:\n   - **Input**: `nums = [2**31 - 1, 2**31 - 1, 2**31 - 1]`\n   - **Description**: Tests the scenario where all elements are at the maximum possible value. The expected output should be 0 since all XOR results will yield 0.\n\n6. **Array with Mixed Values Including Zero**:\n   - **Input**: `nums = [0, 1, 2, 3, 4, 5]`\n   - **Description**: Tests the behavior of the function when the array includes zero and small integers. The expected output should be `5 XOR 3 = 6` (or similar).\n\n7. **Array with Negative Values (if applicable)**:\n   - **Input**: `nums = [-1, -2, -3, -4]`\n   - **Description**: If negative numbers are allowed (depending on the problem constraints), this tests how the algorithm handles negative values. The expected output should be calculated based on the XOR of the negative numbers.\n\n8. **Array with Maximum Distinct Values**:\n   - **Input**: `nums = [0, 1, 2, 4, 8, 16, 32, 64, 128, 256]`\n   - **Description**: Tests the case where the array contains distinct powers of two. The expected output should be `256 XOR 128 = 384`, which checks how well the algorithm identifies maximum XOR pairs in a structured input.\n\nThese edge cases cover a variety of scenarios including boundary conditions, special"
      ]
    },
    {
      "cell_type": "markdown",
      "metadata": {},
      "source": [
        "### Explanation of the Approach",
        "",
        "To solve the problem of finding the maximum XOR of two numbers in an array, we can utilize a Trie (prefix tree) data structure, which allows us to efficiently store and query the binary representations of the numbers.",
        "",
        "**Key Insights:**",
        "1. **Binary Representation**: Each integer can be represented as a binary string. The XOR operation has the property that it produces a `1` when the corresponding bits of the two numbers are different. Thus, to maximize the XOR, we want to pair bits such that they differ as much as possible.",
        "",
        "2. **Trie Structure**: We can build a Trie where each path from the root to a leaf node represents a binary number from the array. For a number with a maximum of 31 bits (because \\(0 \\leq nums[i] \\leq 2^{31} - 1\\)), our Trie will have at most 32 levels.",
        "",
        "3. **Finding the Maximum XOR**: For each number, we can traverse the Trie and try to choose the opposite bit at each level (i.e., if the current bit is `0`, we would prefer to go down the path for `1` and vice versa). This way, we can build a number that maximizes the XOR with the current number.",
        "",
        "### Python Code Solution"
      ]
    },
    {
      "cell_type": "code",
      "execution_count": null,
      "metadata": {},
      "outputs": [],
      "source": [
        "class TrieNode:",
        "    def __init__(self):",
        "        self.children = {}",
        "",
        "class Trie:",
        "    def __init__(self):",
        "        self.root = TrieNode()",
        "    ",
        "    def insert(self, number):",
        "        node = self.root",
        "        for i in range(31, -1, -1):  # Traverse from the most significant bit (31) to the least significant bit (0)",
        "            bit = (number >> i) & 1  # Get the i-th bit of the number",
        "            if bit not in node.children:",
        "                node.children[bit] = TrieNode()",
        "            node = node.children[bit]",
        "    ",
        "    def find_max_xor(self, number):",
        "        node = self.root",
        "        max_xor = 0",
        "        for i in range(31, -1, -1):",
        "            bit = (number >> i) & 1",
        "            # We want the opposite bit to maximize XOR",
        "            opposite_bit = 1 - bit",
        "            if opposite_bit in node.children:",
        "                max_xor |= (1 << i)  # Set the i-th bit in max_xor",
        "                node = node.children[opposite_bit]",
        "            else:",
        "                node = node.children.get(bit, node)  # Continue with the current bit",
        "        return max_xor",
        "",
        "def find_maximum_xor(nums):",
        "    trie = Trie()",
        "    max_result = 0",
        "    ",
        "    # Insert all numbers into the Trie",
        "    for number in nums:",
        "        trie.insert(number)",
        "    ",
        "    # Find the maximum XOR for each number",
        "    for number in nums:",
        "        max_result = max(max_result, trie.find_max_xor(number))",
        "    ",
        "    return max_result",
        "",
        "# Example Usage",
        "nums1 = [3, 10, 5, 25, 2, 8]",
        "result1 = find_maximum_xor(nums1)",
        "print(result1)  # Output: 28",
        "",
        "nums2 = [14, 70, 53, 83, 49, 91, 36, 80, 92, 51, 66, 70]",
        "result2 = find_maximum_xor(nums2)",
        "print(result2)  # Output: 127"
      ]
    },
    {
      "cell_type": "markdown",
      "metadata": {},
      "source": [
        "### Time and Space Complexity Analysis",
        "",
        "**Time Complexity**:",
        "- Inserting a number into the Trie takes \\(O(32) = O(1)\\), since we are only considering 32 bits. For `n` numbers, this takes \\(O(n)\\).",
        "- Finding the maximum XOR for each number also takes \\(O(32) = O(1)\\), leading to \\(O(n)\\) for `n` numbers.",
        "- Thus, the overall time complexity is \\(O(n)\\).",
        "",
        "**Space Complexity**:",
        "- The space complexity primarily depends on the number of nodes in the Trie. In the worst case, we could have \\(O(n \\cdot 32)\\) nodes if all numbers are distinct and require maximum branching. However, practically it is \\(O(n)\\) because each number contributes a limited number of nodes.",
        "- Therefore, the space complexity is \\(O(n)\\).",
        "",
        "This approach efficiently computes the maximum XOR of any two numbers in the array with optimal time and space efficiency."
      ]
    },
    {
      "cell_type": "markdown",
      "metadata": {},
      "source": [
        "---",
        "",
        ""
      ]
    },
    {
      "cell_type": "markdown",
      "metadata": {},
      "source": [
        "# K-th Smallest in Lexicographical Order (#440)",
        "",
        "**Difficulty:** Hard  ",
        "**Date:** 2025-08-10 00:02:44  ",
        "**URL:** https://leetcode.com/problems/k-th-smallest-in-lexicographical-order/",
        "",
        "---"
      ]
    },
    {
      "cell_type": "markdown",
      "metadata": {},
      "source": [
        "## Problem Description",
        "",
        "Given two integers n and k, return the kth lexicographically smallest integer in the range [1, n].\n\n&nbsp;\nExample 1:\n\n\nInput: n = 13, k = 2\nOutput: 10\nExplanation: The lexicographical order is [1, 10, 11, 12, 13, 2, 3, 4, 5, 6, 7, 8, 9], so the second smallest number is 10.\n\n\nExample 2:\n\n\nInput: n = 1, k = 1\nOutput: 1\n\n\n&nbsp;\nConstraints:\n\n\n\t1 <= k <= n <= 109\n\n"
      ]
    },
    {
      "cell_type": "markdown",
      "metadata": {},
      "source": [
        "## Clarifying Questions",
        "",
        "1. What should we return if k is greater than the total number of integers in the range [1, n]? Is this scenario guaranteed not to occur based on the constraints provided?\n\n2. Are there any specific edge cases we should consider, such as when n is a single-digit number or when k is equal to n?\n\n3. Can we assume that n will always be a positive integer, and should we handle any potential invalid inputs (e.g., negative values or zero)?\n\n4. What is the expected time complexity for the solution, and are there any performance constraints we should be aware of given that n can be as large as 10^9?\n\n5. Should the output be formatted in a specific way, or is it sufficient to return the integer directly?"
      ]
    },
    {
      "cell_type": "markdown",
      "metadata": {},
      "source": [
        "## Test Edge Cases",
        "",
        "Here are 8 important test edge cases to consider for the problem of finding the k-th smallest integer in lexicographical order within the range [1, n]:\n\n1. **Minimum Input Values**: \n   - Input: `n = 1, k = 1`\n   - Description: The smallest possible input values. This tests the function's ability to handle the lower boundary of the input constraints.\n\n2. **Single Digit Range**: \n   - Input: `n = 9, k = 5`\n   - Description: A case where n is a single-digit number. This tests the lexicographical order when all numbers are single digits.\n\n3. **Transition from Single to Double Digits**: \n   - Input: `n = 13, k = 4`\n   - Description: Tests the transition point where the lexicographical order shifts from single-digit to double-digit numbers.\n\n4. **Large n with Small k**: \n   - Input: `n = 1000000000, k = 1`\n   - Description: Tests the performance of the function with a very large n while asking for the first smallest number. This checks if the function can handle large inputs efficiently.\n\n5. **Large n with Large k**: \n   - Input: `n = 1000000000, k = 1000000000`\n   - Description: Tests the performance and correctness when k is equal to n, which should return n itself.\n\n6. **k Exceeding Number of Digits**: \n   - Input: `n = 20, k = 15`\n   - Description: Tests the case where k is larger than the number of lexicographical entries in the range, ensuring the function can handle cases where k is close to n.\n\n7. **All Same Leading Digits**: \n   - Input: `n = 30, k = 10`\n   - Description: Tests the scenario where many numbers share the same leading digit (1, 10, 11, ..., 19, 2, ..., 29). This checks if the function correctly orders numbers with the same prefix.\n\n8. **Performance with Maximum Constraints**: \n   - Input: `n = 999999999, k = 500000000`\n   - Description: Tests the performance of the function with maximum constraints, ensuring it can handle large inputs efficiently without timing out or running into memory issues.\n\nThese test cases cover a range of scenarios, including boundary conditions, special values, and performance considerations, ensuring a robust evaluation of the solution."
      ]
    },
    {
      "cell_type": "markdown",
      "metadata": {},
      "source": [
        "### Approach",
        "",
        "To solve the problem of finding the k-th smallest number in lexicographical order from the range [1, n], we can take advantage of the properties of lexicographical ordering without generating all numbers explicitly. Instead, we'll use a depth-first search (DFS) approach to navigate through the numbers in lexicographical order.",
        "",
        "Here's the breakdown of the approach:",
        "",
        "1. **Understanding Lexicographical Order**: Numbers are compared digit by digit, similar to how words are sorted in a dictionary. For example, in lexicographical order, 10 comes before 2 because when compared digit by digit, '1' is less than '2'.",
        "",
        "2. **Counting the Numbers**: For a given prefix (starting number), we need to count how many numbers exist that start with this prefix and are less than or equal to `n`. This helps us decide whether we should go deeper (to the next digit) or stay at the current level.",
        "",
        "3. **DFS-like Traversal**:",
        "   - Start with the prefix as `1` and attempt to build numbers by appending digits (0-9).",
        "   - For each prefix, count how many valid prefixes exist (numbers created by appending digits) and check if we can go deeper or if we have found our k-th number.",
        "",
        "4. **Iterating**: If the count of numbers with the current prefix is less than `k`, move to the next prefix (`prefix + 1`). Otherwise, go deeper into the tree by extending the current prefix (`prefix * 10`).",
        "",
        "### Python Code Solution",
        "",
        "Here's the implementation of the above approach:"
      ]
    },
    {
      "cell_type": "code",
      "execution_count": null,
      "metadata": {},
      "outputs": [],
      "source": [
        "def findKthNumber(n: int, k: int) -> int:",
        "    def count_steps(curr: int, n: int) -> int:",
        "        \"\"\"Count how many numbers are there from 'curr' to 'n'.\"\"\"",
        "        steps = 0",
        "        first = curr",
        "        last = curr + 1",
        "        while first <= n:",
        "            steps += min(n + 1, last) - first",
        "            first *= 10",
        "            last *= 10",
        "        return steps",
        "",
        "    current = 1  # Starting with the smallest lexicographical number",
        "    k -= 1  # We already have the first number, so we need to find the k-1-th step",
        "",
        "    while k > 0:",
        "        steps = count_steps(current, n)",
        "        if steps <= k:",
        "            # If steps are less than or equal to k, move to the next number",
        "            current += 1",
        "            k -= steps",
        "        else:",
        "            # Otherwise go deeper in the tree",
        "            current *= 10",
        "            k -= 1  # We are effectively moving down one level in the tree",
        "",
        "    return current"
      ]
    },
    {
      "cell_type": "markdown",
      "metadata": {},
      "source": [
        "### Time and Space Complexity Analysis",
        "",
        "1. **Time Complexity**: The time complexity of this solution is O(log n), where log n is due to the depth of the prefix tree. The function `count_steps` can run in O(log n) time because it effectively counts the number of valid numbers in a logarithmic manner.",
        "",
        "2. **Space Complexity**: The space complexity is O(1) since we are using a fixed amount of space for variables and not utilizing any additional data structures that grow with input size.",
        "",
        "This approach is efficient and leverages the properties of number representation to avoid generating and sorting large lists, making it suitable for the given constraints where n can be as large as 10^9."
      ]
    },
    {
      "cell_type": "markdown",
      "metadata": {},
      "source": [
        "---",
        "",
        ""
      ]
    },
    {
      "cell_type": "markdown",
      "metadata": {},
      "source": [
        "# Concatenated Words (#472)",
        "",
        "**Difficulty:** Hard  ",
        "**Date:** 2025-08-10 00:03:29  ",
        "**URL:** https://leetcode.com/problems/concatenated-words/",
        "",
        "---"
      ]
    },
    {
      "cell_type": "markdown",
      "metadata": {},
      "source": [
        "## Problem Description",
        "",
        "Given an array of strings words (without duplicates), return all the concatenated words in the given list of words.\n\nA concatenated word is defined as a string that is comprised entirely of at least two shorter words (not necessarily distinct)&nbsp;in the given array.\n\n&nbsp;\nExample 1:\n\n\nInput: words = [&quot;cat&quot;,&quot;cats&quot;,&quot;catsdogcats&quot;,&quot;dog&quot;,&quot;dogcatsdog&quot;,&quot;hippopotamuses&quot;,&quot;rat&quot;,&quot;ratcatdogcat&quot;]\nOutput: [&quot;catsdogcats&quot;,&quot;dogcatsdog&quot;,&quot;ratcatdogcat&quot;]\nExplanation: &quot;catsdogcats&quot; can be concatenated by &quot;cats&quot;, &quot;dog&quot; and &quot;cats&quot;; \n&quot;dogcatsdog&quot; can be concatenated by &quot;dog&quot;, &quot;cats&quot; and &quot;dog&quot;; \n&quot;ratcatdogcat&quot; can be concatenated by &quot;rat&quot;, &quot;cat&quot;, &quot;dog&quot; and &quot;cat&quot;.\n\nExample 2:\n\n\nInput: words = [&quot;cat&quot;,&quot;dog&quot;,&quot;catdog&quot;]\nOutput: [&quot;catdog&quot;]\n\n\n&nbsp;\nConstraints:\n\n\n\t1 <= words.length <= 104\n\t1 <= words[i].length <= 30\n\twords[i] consists of only lowercase English letters.\n\tAll the strings of words are unique.\n\t1 <= sum(words[i].length) <= 105\n\n"
      ]
    },
    {
      "cell_type": "markdown",
      "metadata": {},
      "source": [
        "## Clarifying Questions",
        "",
        "1. **What should we do if a concatenated word can be formed using the same word multiple times?** For example, if \"cat\" is in the list, can \"catcat\" be considered a concatenated word?\n\n2. **Are there any specific edge cases we should consider, such as very short words or words that are substrings of others?** For instance, how should we handle an input like `[\"a\", \"aa\", \"aaa\"]`?\n\n3. **Is there a requirement for the output order of the concatenated words?** Should the results be returned in the order they appear in the input list, or can they be sorted in any way?\n\n4. **What is the expected behavior if the input list is empty or contains only one word?** Should we return an empty list in these cases?\n\n5. **Are there any performance constraints we should be aware of, especially regarding the maximum number of words or their lengths?** Given the constraints, what is the expected time complexity for the solution?"
      ]
    },
    {
      "cell_type": "markdown",
      "metadata": {},
      "source": [
        "## Test Edge Cases",
        "",
        "Here are 8 important test edge cases to consider for the \"Concatenated Words\" problem:\n\n1. **Empty Input**:\n   - **Input**: `words = []`\n   - **Description**: Tests the function's handling of an empty list. The expected output should be an empty list as there are no words to concatenate.\n\n2. **Single Word**:\n   - **Input**: `words = [\"cat\"]`\n   - **Description**: Tests the case where the input contains only one word. The expected output should be an empty list since a concatenated word requires at least two shorter words.\n\n3. **Single Concatenated Word**:\n   - **Input**: `words = [\"cat\", \"dog\", \"catdog\"]`\n   - **Description**: Tests a simple case where one word is a concatenation of two others. The expected output should be `[\"catdog\"]`.\n\n4. **Multiple Concatenated Words**:\n   - **Input**: `words = [\"a\", \"b\", \"ab\", \"abc\", \"bc\", \"c\"]`\n   - **Description**: Tests multiple concatenated words. The expected output should be `[\"ab\", \"abc\"]` since both can be formed from the other words.\n\n5. **No Concatenated Words**:\n   - **Input**: `words = [\"apple\", \"banana\", \"orange\"]`\n   - **Description**: Tests a case where no words can be concatenated. The expected output should be an empty list.\n\n6. **Long Words**:\n   - **Input**: `words = [\"a\" * 30, \"a\" * 15, \"a\" * 15 + \"b\"]`\n   - **Description**: Tests the maximum length of words (30 characters). The expected output should be `[\"a\" * 30]` since it can be formed by concatenating two \"a\" * 15.\n\n7. **Performance Case with Maximum Input Size**:\n   - **Input**: `words = [\"a\" * i for i in range(1, 10001)]`\n   - **Description**: Tests the performance of the function with the maximum number of words (10,000) where each word is of increasing length. The expected output should be an empty list, as no concatenated words can be formed.\n\n8. **Overlap in Words**:\n   - **Input**: `words = [\"cat\", \"cats\", \"dog\", \"catsdog\", \"catcat\"]`\n   - **Description**: Tests a case where words overlap in their formation. The expected output should be `[\"catsdog\", \"catcat\"]` since both can be formed from the other words in the list.\n\nThese edge cases cover a variety of scenarios, including boundary conditions, special values, and performance considerations, ensuring a comprehensive test of the algorithm's robustness."
      ]
    },
    {
      "cell_type": "markdown",
      "metadata": {},
      "source": [
        "To solve the \"Concatenated Words\" problem, we can use a combination of a Trie data structure and Depth-First Search (DFS) to efficiently check if each word can be formed by concatenating other shorter words from the list. Let’s break down the approach step by step:",
        "",
        "### Approach",
        "",
        "1. **Trie Data Structure**:",
        "   - First, we will build a Trie (prefix tree) from the given list of words. This will allow us to efficiently check if a prefix of a word exists in the list of words.",
        "",
        "2. **DFS for Concatenation Check**:",
        "   - For each word in the list, we will use a DFS approach to check if it can be formed by concatenating other words in the list. The DFS will attempt to break down the current word into prefixes that are present in the Trie.",
        "   - We will maintain a count of how many words we have used to form the current word. If we can form the word with at least two shorter words, we add it to our result list.",
        "",
        "3. **Implementation**:",
        "   - We will define a recursive function that will take the current index in the word, and for each position, check all possible suffixes. If a prefix is found in the Trie, we will continue searching for the remaining suffix.",
        "",
        "### Python Code Solution"
      ]
    },
    {
      "cell_type": "code",
      "execution_count": null,
      "metadata": {},
      "outputs": [],
      "source": [
        "class TrieNode:",
        "    def __init__(self):",
        "        self.children = {}",
        "        self.is_end_of_word = False",
        "",
        "class Trie:",
        "    def __init__(self):",
        "        self.root = TrieNode()",
        "    ",
        "    def insert(self, word):",
        "        current = self.root",
        "        for char in word:",
        "            if char not in current.children:",
        "                current.children[char] = TrieNode()",
        "            current = current.children[char]",
        "        current.is_end_of_word = True",
        "",
        "    def search(self, word):",
        "        current = self.root",
        "        for char in word:",
        "            if char not in current.children:",
        "                return False",
        "            current = current.children[char]",
        "        return current.is_end_of_word",
        "",
        "def can_form(word, index, trie, count):",
        "    if index == len(word):",
        "        return count >= 2  # Must use at least 2 words",
        "    ",
        "    current = \"\"",
        "    for i in range(index, len(word)):",
        "        current += word[i]",
        "        # Check if the prefix exists in the Trie",
        "        if trie.search(current):",
        "            # If it is a valid prefix, continue to check the suffix",
        "            if can_form(word, i + 1, trie, count + 1):",
        "                return True",
        "    return False",
        "",
        "def findAllConcatenatedWordsInADict(words):",
        "    trie = Trie()",
        "    ",
        "    # Insert all words into the Trie",
        "    for word in words:",
        "        trie.insert(word)",
        "    ",
        "    result = []",
        "    ",
        "    # Check each word if it can be formed by concatenating others",
        "    for word in words:",
        "        if can_form(word, 0, trie, 0):",
        "            result.append(word)",
        "    ",
        "    return result",
        "",
        "# Example Usage",
        "words1 = [\"cat\",\"cats\",\"catsdogcats\",\"dog\",\"dogcatsdog\",\"hippopotamuses\",\"rat\",\"ratcatdogcat\"]",
        "print(findAllConcatenatedWordsInADict(words1))  # Output: [\"catsdogcats\", \"dogcatsdog\", \"ratcatdogcat\"]",
        "",
        "words2 = [\"cat\",\"dog\",\"catdog\"]",
        "print(findAllConcatenatedWordsInADict(words2))  # Output: [\"catdog\"]"
      ]
    },
    {
      "cell_type": "markdown",
      "metadata": {},
      "source": [
        "### Time and Space Complexity Analysis",
        "",
        "- **Time Complexity**:",
        "  - Building the Trie takes O(N * L), where **N** is the number of words and **L** is the average length of the words.",
        "  - The DFS check for each word can take O(L^2) in the worst case since we might check every possible prefix for each character in the word.",
        "  - Thus, the total time complexity is O(N * L + N * L^2) in the worst case, which simplifies to O(N * L^2).",
        "",
        "- **Space Complexity**:",
        "  - The space complexity is O(N * L) for the Trie, where **N** is the number of words and **L** is the length of the words. ",
        "  - The space used for the result list is also O(N) in the worst case if all words are concatenated words.",
        "",
        "This approach efficiently determines which words in the list can be formed by concatenating other words from the same list using a Trie and DFS traversal."
      ]
    },
    {
      "cell_type": "markdown",
      "metadata": {},
      "source": [
        "---",
        "",
        ""
      ]
    }
  ],
  "metadata": {
    "kernelspec": {
      "display_name": "Python 3",
      "language": "python",
      "name": "python3"
    },
    "language_info": {
      "name": "python",
      "version": "3.8.0"
    }
  },
  "nbformat": 4,
  "nbformat_minor": 4
}